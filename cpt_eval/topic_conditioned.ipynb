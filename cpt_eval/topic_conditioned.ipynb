{
 "cells": [
  {
   "cell_type": "code",
   "execution_count": 1,
   "id": "fbcf6e57-1c59-44c3-8710-a3fa927b4046",
   "metadata": {},
   "outputs": [],
   "source": [
    "from datasets import load_dataset, Dataset\n",
    "from jinja2 import Template\n",
    "from transformers import AutoTokenizer\n",
    "from vllm import LLM, SamplingParams\n",
    "\n",
    "import json"
   ]
  },
  {
   "cell_type": "code",
   "execution_count": 2,
   "id": "0107fb4c-5a46-4dbb-8774-209b71168555",
   "metadata": {},
   "outputs": [],
   "source": [
    "NUM_TOPICS = 1024 * 10\n",
    "NUM_GPUS = 4\n",
    "BATCH_SIZE = 1024"
   ]
  },
  {
   "cell_type": "code",
   "execution_count": 3,
   "id": "0a9d9a50-7876-49d5-8f18-27558e4584c4",
   "metadata": {},
   "outputs": [],
   "source": [
    "with open(\"topic_conditioned.jinja2\") as f:\n",
    "    template_str = f.read()"
   ]
  },
  {
   "cell_type": "code",
   "execution_count": 4,
   "id": "3379682b-e945-48ce-bfea-b689076cb0b2",
   "metadata": {},
   "outputs": [],
   "source": [
    "with open(\"topic_content_shots.json\") as f:\n",
    "    content_json = json.load(f)"
   ]
  },
  {
   "cell_type": "code",
   "execution_count": 5,
   "id": "79c11090-d732-4015-9040-644c7ff0f0fc",
   "metadata": {},
   "outputs": [],
   "source": [
    "template = Template(template_str)"
   ]
  },
  {
   "cell_type": "code",
   "execution_count": 6,
   "id": "d8196360-e59b-4ce2-bbcd-c012f0ae1405",
   "metadata": {},
   "outputs": [],
   "source": [
    "system_prompt = template.render(contents=content_json)"
   ]
  },
  {
   "cell_type": "code",
   "execution_count": 7,
   "id": "8d3cb5f4-7420-473f-9cfc-a0aa249c12f2",
   "metadata": {},
   "outputs": [
    {
     "name": "stdout",
     "output_type": "stream",
     "text": [
      "Here is long high quality learning article, like a Wikipedia article, that provides information collected through experience and research. The article is formatted for easy readibility.\n",
      "\n",
      "Title: **Gordon Ramsay's early career**\n",
      "Gordon James Ramsay was born in Johnstone, Scotland, on 8 November 1966, the son of Helen (née Cosgrove), a nurse, and Gordon James Sr., who worked as a swimming pool manager, welder, and shopkeeper. He has an older sister, a younger brother, and a younger sister. When he was nine years old, he moved with his family to England and grew up in the Bishopton area of Stratford-upon-Avon. He has described his early life as 'hopelessly itinerant' and said his family moved constantly owing to the aspirations and failures of his father, who was an occasionally violent alcoholic; Ramsay described him as a 'hard-drinking womaniser'. In his autobiography, he revealed that his father abused and neglected the children and his mother. He worked as a pot washer in a local Indian restaurant where his sister was a waitress. He had hoped to become a footballer and was first chosen to play under-14 football at the age of 12, but his early footballing career was marked by injuries; after a serious knee injury, he was forced to give it up. At the age of 16, he moved out of the family home and into an apartment in Banbury.\n",
      "Ramsay's interest in cooking began in his teenage years; rather than be known as 'the football player with the gammy knee', he decided to pay more serious attention to his culinary education at age 19. Ramsay enrolled at North Oxfordshire Technical College, sponsored by the Rotarians, to study hotel management. He described his decision to enter catering college as 'a complete accident'.\n",
      "In the mid-1980s, Ramsay worked as a commis chef at the Wroxton House Hotel. He ran the kitchen and 60-seat dining room at the Wickham Arms until he quit after having sex with the owner's wife. Ramsay then moved to London, where he worked in a series of restaurants until being inspired to work for Marco Pierre White at Harveys.\n",
      "After working at Harveys for two years and ten months, Ramsay, tired of 'the rages and the bullying and violence', decided that the way to further advance his career was to study French cuisine. White discouraged Ramsay from taking a job in Paris, instead encouraging him to work for Albert Roux at Le Gavroche in Mayfair. Ramsay decided to take his advice, and there, Ramsay met Jean-Claude Breton, who later became his maître d'hôtel at Restaurant Gordon Ramsay. After Ramsay worked at Le Gavroche for a year, Roux invited him to work with him at Hotel Diva, a ski resort in the French Alps, as his number two. From there, a 23-year-old Ramsay moved to Paris to work with Guy Savoy and Joël Robuchon, both Michelin-starred chefs. He continued his training in France for three years, before giving in to the physical and mental stress of the kitchens and taking a year to work as a personal chef on the private yacht Idlewild, based in Bermuda. The role on the boat saw him travel to Sicily and Sardinia, Italy, and learn about Italian cuisine.\n",
      "\n",
      "Title: **The Coriolis Force**\n",
      "I am often asked by students whether their toilet bowl will flush clockwise or counterclockwise in the southern hemisphere, or whether it will flush straight down in Ecuador. This would, of course, be important information if you were ever kidnapped and blindfolded and dropped off in a strange land. If we assume a commode of conventional size, then this “toilet bowl test” will fail because the answer lies in the manufacturer’s design. But if your northern hemisphere toilet bowl were a few hundred miles in diameter then the Coriolis force of the rotating Earth would easily overcome the random water currents, and force the bowl to empty its contents in a counter clockwise swirl. If you have southern hemisphere friends with an equally large toilet, then theirs would indeed empty in the opposite (clockwise) direction.\n",
      "The circulation within oversized flush toilets is a natural consequence of motion on the surface of an object that rotates. We owe our detailed understanding of the effect to the work of Gaspard Gustave de Coriolis who, in 1831, presented details of the laws of mechanics in a rotating reference frame to the Academie des Sciences in Paris. Earth’s surface provides an excellent place to demonstrate why the origin of the Coriolis force is relatively simple. Our planet rotates on its axis approximately once every 24 hours. In that 24 hour period, objects on Earth’s equator travel a circle with a circumference of nearly 25,000 miles, which corresponds to a speed of a more than 1,000 miles per hour. By 41° north, the latitude of New York City and the American Museum of Natural History, the circumference traveled is only about 19,000 miles. The west-to-east speed is now approximately 800 miles per hour. As you continue to increase in Earth latitude (north or south of the equator) your west-to-east speed decreases until it hits exactly zero miles per hour at the poles. (For this reason, most satellites are launched as close to the equator as possible, which enables them to get a good “running start” in their eastward orbits.\n",
      "Imagine a puffy cloud in the northern hemisphere and a meteorological low pressure system directly to its north. The cloud will tend to move toward the low. But during the journey its greater eastward speed will enable the cloud to overtake the low, which is itself in motion, and end up east of its destination. Another puffy cloud that is north of the low will also tend to move toward the low, but will naturally lag behind and end up west of its destination. To an unsuspecting person on Earth’s surface, these curved north-south paths would appear to be the effects of a mysterious force (the Coriolis force) yet no true force was ever at work.\n",
      "When many puffy clouds approach a low pressure system from all directions you get a merry-go-round of counter-clockwise motion, which is better known as a cyclone. In extreme cases you get a monstrous hurricane with wind speeds upwards of a hundred miles per hour. For the southern hemisphere the same arguments will create a cyclone that spirals clockwise. The military normally knows all about the Coriolis force and thus introduces the appropriate correction to all missile trajectories. But in 1914, from the annals of embarrassing military moments, there was a World War I naval battle between the English and the Germans near the Falklands Islands off Argentina (52° south latitude). The English battle cruisers Invincible and Inflexible engaged the German war ships Gneisenau and Scharnhorst at a range of nearly ten miles. Among other gunnery problems encountered, the English forgot to reverse the direction of their Coriolis correction. Their tables had been calculated for northern hemisphere projectiles, so they missed their targets by even more than if no correction had been applied. They ultimately won the battle against the Germans with about sixty direct hits, but it was not before over a thousand missile shells had fallen in the ocean.\n",
      "In high school I knew all about the Coriolis force, but I never had the opportunity to test it on something as large as a swimming pool until the summer after my junior year when I worked as a lifeguard. At the mid-summer cleaning, I opened the drain valve to the pool and carefully observed the circulation. The water funneled in the “wrong” direction—clockwise. The last I had checked, I was life-guarding in Earth’s northern hemisphere so I was tempted to declare Coriolis forces to be a hoax. But a fast “back of the envelope” calculation verified that the difference in Coriolis velocity across the pool was a mere ½ inch per minute. This is slow. The water currents from somebody just climbing out of the pool, or even a gentle breeze across the water’s surface would easily swamp the effect and I would end up with clockwise one half the time and counterclockwise the other half of the time. A proper experiment to demonstrate the insignificance of the Coriolis forces would require that I empty and refill the pool dozens of times. But each try would dump 15,000 cubic feet of water and diminish my job security. So I didn’t.\n",
      "The air circulation near a high pressure systems, which are inelegantly known as anticyclones, is a reverse picture of our cyclone. On Earth, these high pressure systems are the astronomer’s best friend because they are typically devoid of clouds. The surrounding air still circulates, but it does so without the benefit of clouds as tracers of the air flow. The circulation around low and high pressure systems, known as geostrophic winds, presents us with the paradox that Coriolis forces tend to move air along lines of constant pressure (isobars) rather than across them.\n",
      "Now imagine, if you will, a place that is not only fourteen hundred times larger than Earth, but has an equatorial speed that is about twenty-five times as fast, and has a deep, thick, colorful atmosphere. That place is the planet Jupiter, where a day lasts just 9 hours and 56 minutes. It is a cosmic garden of atmospheric dynamics where all rotationally induced cloud and weather patterns are correspondingly enhanced. In the most striking display of the Coriolis force in the entire solar system, Jupiter lays claim to the largest, most energetic, and longest-lived storm ever observed. It is an anticyclone that looks like a great red spot in Jupiter’s upper atmosphere. We call it Jupiter’s Great Red Spot. Discovered in the mid 1660s by the English physicist Robert Hooke and separately by the Italian astronomer Giovanni Cassini, the feature has persisted for over 300 years. It was not until the twentieth century when the Dutch-born, American astronomer Gerard Kuiper was the first to supply the modern interpretation of the Spot as a raging storm.\n",
      "\n",
      "Title: **Passing of Rep. John Lewis**\n",
      "America is a constant work in progress. What gives each new generation purpose is to take up the unfinished work of the last and carry it further — to speak out for what’s right, to challenge an unjust status quo, and to imagine a better world.\n",
      "John Lewis — one of the original Freedom Riders, chairman of the Student Nonviolent Coordinating Committee, the youngest speaker at the March on Washington, leader of the march from Selma to Montgomery, Member of Congress representing the people of Georgia for 33 years — not only assumed that responsibility, he made it his life’s work. He loved this country so much that he risked his life and his blood so that it might live up to its promise. And through the decades, he not only gave all of himself to the cause of freedom and justice, but inspired generations that followed to try to live up to his example.\n",
      "Considering his enormous impact on the history of this country, what always struck those who met John was his gentleness and humility. Born into modest means in the heart of the Jim Crow South, he understood that he was just one of a long line of heroes in the struggle for racial justice. Early on, he embraced the principles of nonviolent resistance and civil disobedience as the means to bring about real change in this country, understanding that such tactics had the power not only to change laws, but to change hearts and minds as well.\n",
      "In so many ways, John’s life was exceptional. But he never believed that what he did was more than any citizen of this country might do. He believed that in all of us, there exists the capacity for great courage, a longing to do what’s right, a willingness to love all people, and to extend to them their God-given rights to dignity and respect. And it’s because he saw the best in all of us that he will continue, even in his passing, to serve as a beacon in that long journey towards a more perfect union.\n",
      "I first met John when I was in law school, and I told him then that he was one of my heroes. Years later, when I was elected a U.S. Senator, I told him that I stood on his shoulders. When I was elected President of the United States, I hugged him on the inauguration stand before I was sworn in and told him I was only there because of the sacrifices he made. And through all those years, he never stopped providing wisdom and encouragement to me and Michelle and our family. We will miss him dearly.\n",
      "It’s fitting that the last time John and I shared a public forum was at a virtual town hall with a gathering of young activists who were helping to lead this summer’s demonstrations in the wake of George Floyd’s death. Afterwards, I spoke to him privately, and he could not have been prouder of their efforts — of a new generation standing up for freedom and equality, a new generation intent on voting and protecting the right to vote, a new generation running for political office. I told him that all those young people — of every race, from every background and gender and sexual orientation — they were his children. They had learned from his example, even if they didn’t know it. They had understood through him what American citizenship requires, even if they had heard of his courage only through history books.\n",
      "Not many of us get to live to see our own legacy play out in such a meaningful, remarkable way. John Lewis did. And thanks to him, we now all have our marching orders — to keep believing in the possibility of remaking this country we love until it lives up to its full promise.\n",
      "\n"
     ]
    }
   ],
   "source": [
    "print(system_prompt)"
   ]
  },
  {
   "cell_type": "code",
   "execution_count": 8,
   "id": "a2fdeca6-d6b4-4d2f-a438-6394da58945d",
   "metadata": {},
   "outputs": [],
   "source": [
    "ds = load_dataset('amang1802/synthetic_data_fulltext_conditioned_L3.3_70B_deduped')['train']"
   ]
  },
  {
   "cell_type": "code",
   "execution_count": 9,
   "id": "5078a1c4-c45f-4ff8-9c80-a0e6b96a5570",
   "metadata": {},
   "outputs": [],
   "source": [
    "model_id = \"/root/synthetic-data-recipes/diversity/ft_models/llama3_1_8B/fulltext_conditioned_20epochs_dup10_lr1e-5/epoch_19\""
   ]
  },
  {
   "cell_type": "code",
   "execution_count": 10,
   "id": "e8a56b4b-5c8c-4f2f-ac1f-9c68337d7154",
   "metadata": {},
   "outputs": [
    {
     "name": "stdout",
     "output_type": "stream",
     "text": [
      "INFO 01-01 03:09:41 config.py:478] This model supports multiple tasks: {'score', 'classify', 'embed', 'generate', 'reward'}. Defaulting to 'generate'.\n",
      "INFO 01-01 03:09:41 config.py:1216] Defaulting to use mp for distributed inference\n",
      "INFO 01-01 03:09:41 llm_engine.py:249] Initializing an LLM engine (v0.6.5) with config: model='/root/synthetic-data-recipes/diversity/ft_models/llama3_1_8B/fulltext_conditioned_20epochs_dup10_lr1e-5/epoch_19', speculative_config=None, tokenizer='/root/synthetic-data-recipes/diversity/ft_models/llama3_1_8B/fulltext_conditioned_20epochs_dup10_lr1e-5/epoch_19', skip_tokenizer_init=False, tokenizer_mode=auto, revision=None, override_neuron_config=None, tokenizer_revision=None, trust_remote_code=False, dtype=torch.bfloat16, max_seq_len=6144, download_dir=None, load_format=auto, tensor_parallel_size=4, pipeline_parallel_size=1, disable_custom_all_reduce=False, quantization=None, enforce_eager=False, kv_cache_dtype=auto, quantization_param_path=None, device_config=cuda, decoding_config=DecodingConfig(guided_decoding_backend='xgrammar'), observability_config=ObservabilityConfig(otlp_traces_endpoint=None, collect_model_forward_time=False, collect_model_execute_time=False), seed=0, served_model_name=/root/synthetic-data-recipes/diversity/ft_models/llama3_1_8B/fulltext_conditioned_20epochs_dup10_lr1e-5/epoch_19, num_scheduler_steps=1, multi_step_stream_outputs=True, enable_prefix_caching=False, chunked_prefill_enabled=False, use_async_output_proc=True, mm_cache_preprocessor=False, mm_processor_kwargs=None, pooler_config=None, compilation_config={\"splitting_ops\":[\"vllm.unified_attention\",\"vllm.unified_attention_with_output\"],\"candidate_compile_sizes\":[],\"compile_sizes\":[],\"capture_sizes\":[256,248,240,232,224,216,208,200,192,184,176,168,160,152,144,136,128,120,112,104,96,88,80,72,64,56,48,40,32,24,16,8,4,2,1],\"max_capture_size\":256}, use_cached_outputs=False, \n",
      "WARNING 01-01 03:09:42 multiproc_worker_utils.py:312] Reducing Torch parallelism from 64 threads to 1 to avoid unnecessary CPU contention. Set OMP_NUM_THREADS in the external environment to tune this value as needed.\n",
      "INFO 01-01 03:09:42 custom_cache_manager.py:17] Setting Triton cache manager to: vllm.triton_utils.custom_cache_manager:CustomCacheManager\n",
      "INFO 01-01 03:09:42 selector.py:120] Using Flash Attention backend.\n",
      "\u001b[1;36m(VllmWorkerProcess pid=479651)\u001b[0;0m INFO 01-01 03:09:43 selector.py:120] Using Flash Attention backend.\n",
      "\u001b[1;36m(VllmWorkerProcess pid=479651)\u001b[0;0m INFO 01-01 03:09:43 multiproc_worker_utils.py:222] Worker ready; awaiting tasks\n",
      "\u001b[1;36m(VllmWorkerProcess pid=479650)\u001b[0;0m INFO 01-01 03:09:43 selector.py:120] Using Flash Attention backend.\n",
      "\u001b[1;36m(VllmWorkerProcess pid=479650)\u001b[0;0m INFO 01-01 03:09:43 multiproc_worker_utils.py:222] Worker ready; awaiting tasks\n",
      "\u001b[1;36m(VllmWorkerProcess pid=479649)\u001b[0;0m INFO 01-01 03:09:43 selector.py:120] Using Flash Attention backend.\n",
      "\u001b[1;36m(VllmWorkerProcess pid=479649)\u001b[0;0m INFO 01-01 03:09:43 multiproc_worker_utils.py:222] Worker ready; awaiting tasks\n",
      "INFO 01-01 03:09:45 utils.py:922] Found nccl from library libnccl.so.2\n",
      "INFO 01-01 03:09:45 pynccl.py:69] vLLM is using nccl==2.21.5\n",
      "\u001b[1;36m(VllmWorkerProcess pid=479651)\u001b[0;0m \u001b[1;36m(VllmWorkerProcess pid=479649)\u001b[0;0m \u001b[1;36m(VllmWorkerProcess pid=479650)\u001b[0;0m INFO 01-01 03:09:45 utils.py:922] Found nccl from library libnccl.so.2\n",
      "INFO 01-01 03:09:45 utils.py:922] Found nccl from library libnccl.so.2\n",
      "INFO 01-01 03:09:45 utils.py:922] Found nccl from library libnccl.so.2\n",
      "\u001b[1;36m(VllmWorkerProcess pid=479651)\u001b[0;0m \u001b[1;36m(VllmWorkerProcess pid=479649)\u001b[0;0m \u001b[1;36m(VllmWorkerProcess pid=479650)\u001b[0;0m INFO 01-01 03:09:45 pynccl.py:69] vLLM is using nccl==2.21.5\n",
      "INFO 01-01 03:09:45 pynccl.py:69] vLLM is using nccl==2.21.5\n",
      "INFO 01-01 03:09:45 pynccl.py:69] vLLM is using nccl==2.21.5\n",
      "INFO 01-01 03:09:47 custom_all_reduce_utils.py:242] reading GPU P2P access cache from /root/.cache/vllm/gpu_p2p_access_cache_for_0,1,2,3.json\n",
      "\u001b[1;36m(VllmWorkerProcess pid=479651)\u001b[0;0m \u001b[1;36m(VllmWorkerProcess pid=479649)\u001b[0;0m \u001b[1;36m(VllmWorkerProcess pid=479650)\u001b[0;0m INFO 01-01 03:09:47 custom_all_reduce_utils.py:242] reading GPU P2P access cache from /root/.cache/vllm/gpu_p2p_access_cache_for_0,1,2,3.json\n",
      "INFO 01-01 03:09:47 custom_all_reduce_utils.py:242] reading GPU P2P access cache from /root/.cache/vllm/gpu_p2p_access_cache_for_0,1,2,3.json\n",
      "INFO 01-01 03:09:47 custom_all_reduce_utils.py:242] reading GPU P2P access cache from /root/.cache/vllm/gpu_p2p_access_cache_for_0,1,2,3.json\n",
      "INFO 01-01 03:09:47 shm_broadcast.py:255] vLLM message queue communication handle: Handle(connect_ip='127.0.0.1', local_reader_ranks=[1, 2, 3], buffer_handle=(3, 4194304, 6, 'psm_c262f661'), local_subscribe_port=56563, remote_subscribe_port=None)\n",
      "INFO 01-01 03:09:47 model_runner.py:1092] Starting to load model /root/synthetic-data-recipes/diversity/ft_models/llama3_1_8B/fulltext_conditioned_20epochs_dup10_lr1e-5/epoch_19...\n",
      "\u001b[1;36m(VllmWorkerProcess pid=479651)\u001b[0;0m \u001b[1;36m(VllmWorkerProcess pid=479649)\u001b[0;0m INFO 01-01 03:09:47 model_runner.py:1092] Starting to load model /root/synthetic-data-recipes/diversity/ft_models/llama3_1_8B/fulltext_conditioned_20epochs_dup10_lr1e-5/epoch_19...\n",
      "\u001b[1;36m(VllmWorkerProcess pid=479650)\u001b[0;0m INFO 01-01 03:09:47 model_runner.py:1092] Starting to load model /root/synthetic-data-recipes/diversity/ft_models/llama3_1_8B/fulltext_conditioned_20epochs_dup10_lr1e-5/epoch_19...\n",
      "INFO 01-01 03:09:47 model_runner.py:1092] Starting to load model /root/synthetic-data-recipes/diversity/ft_models/llama3_1_8B/fulltext_conditioned_20epochs_dup10_lr1e-5/epoch_19...\n"
     ]
    },
    {
     "data": {
      "application/vnd.jupyter.widget-view+json": {
       "model_id": "87ea259c8c6b45e9823f07ace88d0d56",
       "version_major": 2,
       "version_minor": 0
      },
      "text/plain": [
       "Loading safetensors checkpoint shards:   0% Completed | 0/4 [00:00<?, ?it/s]\n"
      ]
     },
     "metadata": {},
     "output_type": "display_data"
    },
    {
     "name": "stdout",
     "output_type": "stream",
     "text": [
      "\u001b[1;36m(VllmWorkerProcess pid=479650)\u001b[0;0m INFO 01-01 03:09:49 model_runner.py:1097] Loading model weights took 3.7710 GB\n",
      "\u001b[1;36m(VllmWorkerProcess pid=479651)\u001b[0;0m INFO 01-01 03:09:49 model_runner.py:1097] Loading model weights took 3.7710 GB\n",
      "INFO 01-01 03:09:49 model_runner.py:1097] Loading model weights took 3.7710 GB\n",
      "\u001b[1;36m(VllmWorkerProcess pid=479649)\u001b[0;0m INFO 01-01 03:09:49 model_runner.py:1097] Loading model weights took 3.7710 GB\n",
      "\u001b[1;36m(VllmWorkerProcess pid=479651)\u001b[0;0m INFO 01-01 03:09:52 worker.py:241] Memory profiling takes 2.97 seconds\n",
      "\u001b[1;36m(VllmWorkerProcess pid=479651)\u001b[0;0m INFO 01-01 03:09:52 worker.py:241] the current vLLM instance can use total_gpu_memory (139.72GiB) x gpu_memory_utilization (0.98) = 136.92GiB\n",
      "\u001b[1;36m(VllmWorkerProcess pid=479651)\u001b[0;0m INFO 01-01 03:09:52 worker.py:241] model weights take 3.77GiB; non_torch_memory takes 3.69GiB; PyTorch activation peak memory takes 0.31GiB; the rest of the memory reserved for KV Cache is 129.15GiB.\n",
      "\u001b[1;36m(VllmWorkerProcess pid=479649)\u001b[0;0m INFO 01-01 03:09:52 worker.py:241] Memory profiling takes 2.98 seconds\n",
      "\u001b[1;36m(VllmWorkerProcess pid=479649)\u001b[0;0m INFO 01-01 03:09:52 worker.py:241] the current vLLM instance can use total_gpu_memory (139.72GiB) x gpu_memory_utilization (0.98) = 136.92GiB\n",
      "\u001b[1;36m(VllmWorkerProcess pid=479649)\u001b[0;0m INFO 01-01 03:09:52 worker.py:241] model weights take 3.77GiB; non_torch_memory takes 4.16GiB; PyTorch activation peak memory takes 0.31GiB; the rest of the memory reserved for KV Cache is 128.69GiB.\n",
      "\u001b[1;36m(VllmWorkerProcess pid=479650)\u001b[0;0m INFO 01-01 03:09:52 worker.py:241] Memory profiling takes 2.99 seconds\n",
      "\u001b[1;36m(VllmWorkerProcess pid=479650)\u001b[0;0m INFO 01-01 03:09:52 worker.py:241] the current vLLM instance can use total_gpu_memory (139.72GiB) x gpu_memory_utilization (0.98) = 136.92GiB\n",
      "\u001b[1;36m(VllmWorkerProcess pid=479650)\u001b[0;0m INFO 01-01 03:09:52 worker.py:241] model weights take 3.77GiB; non_torch_memory takes 4.16GiB; PyTorch activation peak memory takes 0.31GiB; the rest of the memory reserved for KV Cache is 128.69GiB.\n",
      "INFO 01-01 03:09:52 worker.py:241] Memory profiling takes 3.03 seconds\n",
      "INFO 01-01 03:09:52 worker.py:241] the current vLLM instance can use total_gpu_memory (139.72GiB) x gpu_memory_utilization (0.98) = 136.92GiB\n",
      "INFO 01-01 03:09:52 worker.py:241] model weights take 3.77GiB; non_torch_memory takes 4.94GiB; PyTorch activation peak memory takes 1.24GiB; the rest of the memory reserved for KV Cache is 126.97GiB.\n",
      "INFO 01-01 03:09:52 distributed_gpu_executor.py:57] # GPU blocks: 260029, # CPU blocks: 8192\n",
      "INFO 01-01 03:09:52 distributed_gpu_executor.py:61] Maximum concurrency for 6144 tokens per request: 677.16x\n",
      "INFO 01-01 03:09:54 model_runner.py:1413] Capturing cudagraphs for decoding. This may lead to unexpected consequences if the model is not static. To run the model in eager mode, set 'enforce_eager=True' or use '--enforce-eager' in the CLI.\n",
      "\u001b[1;36m(VllmWorkerProcess pid=479651)\u001b[0;0m INFO 01-01 03:09:54 model_runner.py:1417] If out-of-memory error occurs during cudagraph capture, consider decreasing `gpu_memory_utilization` or switching to eager mode. You can also reduce the `max_num_seqs` as needed to decrease memory usage.\n",
      "INFO 01-01 03:09:54 model_runner.py:1413] Capturing cudagraphs for decoding. This may lead to unexpected consequences if the model is not static. To run the model in eager mode, set 'enforce_eager=True' or use '--enforce-eager' in the CLI.\n",
      "\u001b[1;36m(VllmWorkerProcess pid=479649)\u001b[0;0m \u001b[1;36m(VllmWorkerProcess pid=479651)\u001b[0;0m INFO 01-01 03:09:54 model_runner.py:1413] Capturing cudagraphs for decoding. This may lead to unexpected consequences if the model is not static. To run the model in eager mode, set 'enforce_eager=True' or use '--enforce-eager' in the CLI.\n",
      "INFO 01-01 03:09:54 model_runner.py:1417] If out-of-memory error occurs during cudagraph capture, consider decreasing `gpu_memory_utilization` or switching to eager mode. You can also reduce the `max_num_seqs` as needed to decrease memory usage.\n",
      "\u001b[1;36m(VllmWorkerProcess pid=479649)\u001b[0;0m \u001b[1;36m(VllmWorkerProcess pid=479650)\u001b[0;0m INFO 01-01 03:09:54 model_runner.py:1417] If out-of-memory error occurs during cudagraph capture, consider decreasing `gpu_memory_utilization` or switching to eager mode. You can also reduce the `max_num_seqs` as needed to decrease memory usage.\n",
      "INFO 01-01 03:09:54 model_runner.py:1413] Capturing cudagraphs for decoding. This may lead to unexpected consequences if the model is not static. To run the model in eager mode, set 'enforce_eager=True' or use '--enforce-eager' in the CLI.\n",
      "\u001b[1;36m(VllmWorkerProcess pid=479650)\u001b[0;0m INFO 01-01 03:09:54 model_runner.py:1417] If out-of-memory error occurs during cudagraph capture, consider decreasing `gpu_memory_utilization` or switching to eager mode. You can also reduce the `max_num_seqs` as needed to decrease memory usage.\n",
      "INFO 01-01 03:10:07 custom_all_reduce.py:224] Registering 2275 cuda graph addresses\n",
      "\u001b[1;36m(VllmWorkerProcess pid=479651)\u001b[0;0m INFO 01-01 03:10:07 custom_all_reduce.py:224] Registering 2275 cuda graph addresses\n",
      "\u001b[1;36m(VllmWorkerProcess pid=479649)\u001b[0;0m INFO 01-01 03:10:08 custom_all_reduce.py:224] Registering 2275 cuda graph addresses\n",
      "\u001b[1;36m(VllmWorkerProcess pid=479650)\u001b[0;0m INFO 01-01 03:10:08 custom_all_reduce.py:224] Registering 2275 cuda graph addresses\n",
      "\u001b[1;36m(VllmWorkerProcess pid=479651)\u001b[0;0m INFO 01-01 03:10:08 model_runner.py:1527] Graph capturing finished in 14 secs, took 0.23 GiB\n",
      "INFO 01-01 03:10:08 model_runner.py:1527] Graph capturing finished in 14 secs, took 0.23 GiB\n",
      "\u001b[1;36m(VllmWorkerProcess pid=479650)\u001b[0;0m \u001b[1;36m(VllmWorkerProcess pid=479649)\u001b[0;0m INFO 01-01 03:10:08 model_runner.py:1527] Graph capturing finished in 14 secs, took 0.23 GiB\n",
      "INFO 01-01 03:10:08 model_runner.py:1527] Graph capturing finished in 14 secs, took 0.23 GiB\n",
      "INFO 01-01 03:10:08 llm_engine.py:446] init engine (profile, create kv cache, warmup model) took 18.86 seconds\n"
     ]
    }
   ],
   "source": [
    "llm = LLM(model=model_id, max_model_len=6144, tensor_parallel_size=NUM_GPUS, gpu_memory_utilization=0.98)"
   ]
  },
  {
   "cell_type": "code",
   "execution_count": 12,
   "id": "be81ccc6-6107-4b54-bf44-5749ea2d684c",
   "metadata": {},
   "outputs": [],
   "source": [
    "def generate_content_base(titles):\n",
    "    prompts = [f\"{system_prompt}\\n\\nTitle: **{title}**\\n\" for title in titles]\n",
    "    outputs = llm.generate(prompts, SamplingParams(temperature=0.25, top_p=0.9, max_tokens=2048, stop=[\"Title:\"]))\n",
    "\n",
    "    return {\"cpt_gen_content\": [f\"**{title}**\\n{output.outputs[0].text.strip()}\" for title, output in zip(titles, outputs)]}"
   ]
  },
  {
   "cell_type": "code",
   "execution_count": 13,
   "id": "93f11b25-3337-43bd-9441-83034a216d3d",
   "metadata": {},
   "outputs": [
    {
     "name": "stderr",
     "output_type": "stream",
     "text": [
      "Parameter 'function'=<function generate_content_base at 0x6ff37b5351b0> of the transform datasets.arrow_dataset.Dataset._map_single couldn't be hashed properly, a random hash was used instead. Make sure your transforms and parameters are serializable with pickle or dill for the dataset fingerprinting and caching to work. If you reuse this transform, the caching mechanism will consider it to be different from the previous calls and recompute everything. This warning is only showed once. Subsequent hashing failures won't be showed.\n"
     ]
    },
    {
     "data": {
      "application/vnd.jupyter.widget-view+json": {
       "model_id": "5d8a922e618b4175a8e2ca3691a54d36",
       "version_major": 2,
       "version_minor": 0
      },
      "text/plain": [
       "Map:   0%|          | 0/16 [00:00<?, ? examples/s]"
      ]
     },
     "metadata": {},
     "output_type": "display_data"
    },
    {
     "name": "stderr",
     "output_type": "stream",
     "text": [
      "\n",
      "\u001b[Acessed prompts:   0% 0/16 [00:00<?, ?it/s, est. speed input: 0.00 toks/s, output: 0.00 toks/s]\n",
      "\u001b[Acessed prompts:   6% 1/16 [00:03<00:51,  3.45s/it, est. speed input: 829.78 toks/s, output: 141.87 toks/s]\n",
      "\u001b[Acessed prompts:  12% 2/16 [00:03<00:21,  1.54s/it, est. speed input: 1570.34 toks/s, output: 277.70 toks/s]\n",
      "\u001b[Acessed prompts:  25% 4/16 [00:04<00:08,  1.39it/s, est. speed input: 2783.46 toks/s, output: 523.35 toks/s]\n",
      "\u001b[Acessed prompts:  31% 5/16 [00:04<00:07,  1.44it/s, est. speed input: 3013.60 toks/s, output: 604.90 toks/s]\n",
      "\u001b[Acessed prompts:  50% 8/16 [00:04<00:02,  3.11it/s, est. speed input: 4702.39 toks/s, output: 1040.81 toks/s]\n",
      "\u001b[Acessed prompts:  62% 10/16 [00:05<00:01,  3.90it/s, est. speed input: 5568.80 toks/s, output: 1287.81 toks/s]\n",
      "\u001b[Acessed prompts:  75% 12/16 [00:05<00:00,  4.02it/s, est. speed input: 6125.44 toks/s, output: 1482.76 toks/s]\n",
      "\u001b[Acessed prompts:  81% 13/16 [00:06<00:00,  3.28it/s, est. speed input: 6055.01 toks/s, output: 1515.74 toks/s]\n",
      "\u001b[Acessed prompts:  88% 14/16 [00:07<00:00,  2.19it/s, est. speed input: 5603.75 toks/s, output: 1472.09 toks/s]\n",
      "Processed prompts: 100% 16/16 [00:11<00:00,  1.44it/s, est. speed input: 4134.47 toks/s, output: 1319.52 toks/s]\n"
     ]
    }
   ],
   "source": [
    "syn_ds = ds.select(range(16)).map(generate_content_base, batched=True, batch_size=NUM_TOPICS, input_columns=[\"title\"])"
   ]
  },
  {
   "cell_type": "code",
   "execution_count": 15,
   "id": "0c2e2b61-0967-4564-b842-d746ceec3d66",
   "metadata": {},
   "outputs": [
    {
     "data": {
      "text/plain": [
       "{'id': '55313219',\n",
       " 'url': 'https://en.wikipedia.org/wiki/Elmer%20Otto%20Bergman',\n",
       " 'title': 'Elmer Otto Bergman',\n",
       " 'text': 'Elmer Otto Bergman (January 21, 1892 - January 1973) was an American civil, mechanical and consulting engineer at the University of Colorado and at C. F. Braun & Company, later KBR Inc. He served as the 83rd president of the American Society of Mechanical Engineers in the year 1964–65.\\n\\nBiography\\n\\nYouth, education, and early career \\nBergman was born in 1892 in Kimball, Nebraska, son of Andrew Bergman and Hannah (Sjoblom) Bergman. He graduated from the Kimball High School in 1909. He started working as teacher in the elementary schools, and served in the United States Navy for two years.\\n\\nNext, Bergman started his studies at Creighton University in 1914, where he obtained his AB in 1920. He continued his studies at the University of Colorado, where he obtained his BSc in 1925 and his MSc in 1926.\\n\\nBergman continued his studies University Colorado in Civil Engineering and obtained another AB magna cum laude and BSc with special honour in 1932. Last he continued at Stanford University, and obtained his Doctor of Philosophy in 1938 under Stephen Timoshenko.\\n\\nAcademic career, in industry and honours \\nBergman had started his academic career at the University of Colorado as instructor in 1924, was assistant professor from 1926 to 1932, and associate professor from 1932 to 1937.\\n\\nAfter his graduation at Stanford University in 1938 Bergman moved into the industry. He joined C. F. Braun & Company, in Alhambra, California, an engineering company, which designed petroleum and chemical processing facilities and was later acquired by KBR Inc. He started as Stress analyst, was chief research from 1940 to 1944, and staff consultant from 1944 to 1958. In 1959 he became senior staff member at the National Engineering Science Companyin Pasadena.\\n\\nBerman was elected Fellow of the American Society of Mechanical Engineers, and served as its president in the year 1964–65.\\n\\nSelected publications \\n Elmer Otto Bergman. The Theory of Small Deflections of Rectangular Plates with Practical Applications. Leland Stanford junior university, 1938.\\n Herbert James Gilkey, Glenn Murphy, Elmer Otto Bergman. Materials Testing: Theory, Practice and Significance of Physical Tests on Engineering Materials. McGraw-Hill Book Company, Incorporated, 1941.\\n Elmer Otto Bergman. The ASME pressure vessel code: a joint effort for safe construction. Contributed for presentation at the American Society of Mechanical Engineers eighth Annual Petroleum Mechanical Engineering Conference, Houston, Texas ... September 29, 1953. Private press of C.F. Braun, 1953.\\n\\nArticles, a selection\\n Bergman, E. O. \"The new-type code chart for the design of vessels under external pressure.\" TRANS. ASME 74 (1952): 647–054.\\n Bergman, E. O. \"The design of vertical pressure vessels subjected to applied forces.\" Pressure Vessel and Piping Design: Collected Papers 1927-1959 (1960).\\n\\nPatents, a selection\\n Bergman, Eugene O., Richard W. Hsieh, and John Geibel. \"Apparatus for distributing gas and liquid during concurrent gas/liquid backwash in filter underdrain flumes.\" U.S. Patent No. 6,312,611. 6 Nov. 2001.\\n\\nReferences \\n\\n1892 births\\n1973 deaths\\nAmerican civil engineers\\nAmerican mechanical engineers\\nCreighton University alumni\\nUniversity of Colorado alumni\\nStanford University alumni\\nUniversity of Colorado faculty\\nPeople from Kimball, Nebraska\\nPresidents of the American Society of Mechanical Engineers\\n20th-century American engineers',\n",
       " 'synthetic_content': 'Elmer Otto Bergman, a distinguished American civil, mechanical, and consulting engineer, was born on January 21, 1892, in Kimball, Nebraska, to Andrew Bergman and Hannah Sjoblom Bergman. His early life and education laid the foundation for his future accomplishments, as he graduated from Kimball High School in 1909 and went on to work as a teacher in elementary schools. Bergman\\'s sense of duty and patriotism led him to serve in the United States Navy for two years, an experience that likely shaped his character and influenced his future career choices.\\n\\nFollowing his naval service, Bergman pursued higher education, enrolling at Creighton University in 1914, where he earned his Bachelor of Arts degree in 1920. He then continued his academic journey at the University of Colorado, obtaining his Bachelor of Science degree in 1925 and his Master of Science degree in 1926. Bergman\\'s academic excellence and thirst for knowledge drove him to further his education, and he eventually earned another Bachelor of Arts degree, magna cum laude, and a Bachelor of Science degree with special honors in 1932, also from the University of Colorado.\\n\\nBergman\\'s academic career began to take shape as he started working as an instructor at the University of Colorado in 1924. He progressed through the ranks, becoming an assistant professor from 1926 to 1932 and an associate professor from 1932 to 1937. His expertise and dedication to his field earned him recognition, and he was eventually awarded a Doctor of Philosophy degree from Stanford University in 1938, under the guidance of the renowned Stephen Timoshenko.\\n\\nUpon completing his doctoral studies, Bergman transitioned into the industry, joining C. F. Braun & Company in Alhambra, California, as a stress analyst. He rapidly rose through the ranks, becoming chief research engineer from 1940 to 1944 and staff consultant from 1944 to 1958. In 1959, Bergman took on a new challenge as a senior staff member at the National Engineering Science Company in Pasadena. His contributions to the field of mechanical engineering were recognized by his peers, and he was elected a Fellow of the American Society of Mechanical Engineers, ultimately serving as its president from 1964 to 1965.\\n\\nBergman\\'s scholarly work and publications are a testament to his expertise and dedication to his field. His doctoral dissertation, \"The Theory of Small Deflections of Rectangular Plates with Practical Applications,\" was published in 1938. He also co-authored \"Materials Testing: Theory, Practice and Significance of Physical Tests on Engineering Materials\" with Herbert James Gilkey and Glenn Murphy in 1941. Additionally, Bergman contributed to the development of the ASME pressure vessel code, presenting a paper on the topic at the American Society of Mechanical Engineers\\' eighth Annual Petroleum Mechanical Engineering Conference in 1953.\\n\\nThroughout his career, Bergman published numerous articles and papers, including \"The new-type code chart for the design of vessels under external pressure\" in 1952 and \"The design of vertical pressure vessels subjected to applied forces\" in 1960. His work also led to the development of innovative technologies, as evidenced by his patent for an \"Apparatus for distributing gas and liquid during concurrent gas/liquid backwash in filter underdrain flumes,\" filed in 2001.\\n\\nBergman\\'s legacy extends beyond his academic and professional achievements, as he left an indelible mark on the field of mechanical engineering. His contributions to the development of the ASME pressure vessel code, his scholarly publications, and his leadership roles in professional organizations have inspired generations of engineers. As a testament to his enduring impact, Bergman\\'s name is included in various lists of notable individuals, including 1892 births, 1973 deaths, American civil engineers, American mechanical engineers, and presidents of the American Society of Mechanical Engineers. His life and work serve as a reminder of the importance of dedication, hard work, and a passion for learning in achieving greatness in one\\'s field.',\n",
       " 'judgement': [],\n",
       " 'accuracy_score': -1.0,\n",
       " 'cpt_gen_content': \"**Elmer Otto Bergman**\\nElmer Otto Bergman, a man of remarkable achievements, was born on November 21, 1892, in Kimball, Nebraska, to Andrew Bergman and Hannah Sjoblom Bergman. His early life was marked by a strong educational foundation, having attended the University of Nebraska-Lincoln, where he earned a Bachelor of Arts degree in 1916, followed by a Bachelor of Laws degree in 1919. This solid educational base would later serve as a stepping stone for his illustrious career.\\n\\nBergman's professional journey began as a high school teacher in 1917, and he soon transitioned into the role of deputy county attorney in 1918. His legal expertise continued to grow as he served as a captain in the U.S. Army Quartermaster Corps during World War I. After the war, he practiced law in Kimball, Nebraska, from 1921 to 1923, demonstrating his commitment to the field. His dedication to public service was further evident when he became the county judge in 1923, a position he held until 1927.\\n\\nAs Bergman's career progressed, he moved to Colorado and engaged in private business and law practice in Sterling, Colorado, from 1927 to 1933. His entrepreneurial spirit and legal acumen made him an asset in various roles. In 1933, he relocated to Greeley, Colorado, and began his tenure as a professor of law at the University of Northern Colorado, a position he held until 1942. His academic expertise and passion for teaching allowed him to inspire future generations of legal professionals.\\n\\nBergman's political career gained momentum when he was elected as a Republican to the Seventy-eighth and to the seven succeeding Congresses, serving from January 3, 1943, to January 3, 1959. His congressional service was marked by his commitment to his constituents and his country. He was an active member of various committees, including the Eighty-third United States Congress Committee on the Judiciary, the Rules Committee, and the Interior and Insular Affairs Committee. His expertise and leadership in these roles earned him recognition, and he was elected without opposition on three occasions.\\n\\nIn 1958, Bergman decided not to seek re-election, and he retired from Congress. However, his commitment to public service continued as he served as a member of the Board of Trustees of the National Finance Committee for the Eisenhower campaign from 1958 to 1960. His legacy extended beyond his congressional service, as he was a delegate to Republican National Conventions from 1944 to 1956 and a member of several organizations, including the Phi Alpha Delta Fraternity and the Delta Kappa Delta fraternity.\\n\\nBergman's life came full circle as he returned to private life in Greeley, Colorado, after leaving Congress. He passed away on February 7, 1971, and was laid to rest at the Linn Grove Cemetery in Fort Collins, Colorado. His remarkable life and achievements were recognized through his inclusion in various lists, including the 78th United States Congress, 79th United States Congress, 80th United States Congress, 81st United States Congress, 82nd United States Congress, 83rd United States Congress, Members of the U.S. House of Representatives from Colorado, and University of Northern Colorado faculty.\\n\\nThroughout his life, Bergman demonstrated a commitment to education, law, and public service. His legacy serves as a testament to the impact one person can have on their community, state, and country. As a member of the Republican Party, he played a significant role in shaping the political landscape of his time. His contributions to various organizations and his service in Congress have left a lasting impact, inspiring future generations to follow in his footsteps. Today, Bergman's life and achievements are remembered and celebrated, and his legacy continues to inspire and motivate those who strive to make a positive difference in the world.\\n\\nIn conclusion, Elmer Otto Bergman's life was a remarkable journey marked by his dedication to education, law, and public service. His contributions to his community, state, and country have left a lasting impact, and his legacy continues to inspire and motivate future generations. As a testament to his achievements, Bergman's name is included in various lists and records, serving as a reminder of his commitment and passion for making a positive difference in the world.\"}"
      ]
     },
     "execution_count": 15,
     "metadata": {},
     "output_type": "execute_result"
    }
   ],
   "source": [
    "syn_ds[1]"
   ]
  },
  {
   "cell_type": "code",
   "execution_count": null,
   "id": "d1eb5065-f94d-42a7-a143-cc547fd24895",
   "metadata": {},
   "outputs": [],
   "source": [
    "#syn_ds.push_to_hub('amang1802/cpt_gen_content_topic_conditioned_L3.1_8B')"
   ]
  },
  {
   "cell_type": "code",
   "execution_count": null,
   "id": "dc741286-3bec-4716-b39c-51efe2dd9dd0",
   "metadata": {},
   "outputs": [],
   "source": []
  }
 ],
 "metadata": {
  "kernelspec": {
   "display_name": "Python 3 (ipykernel)",
   "language": "python",
   "name": "python3"
  },
  "language_info": {
   "codemirror_mode": {
    "name": "ipython",
    "version": 3
   },
   "file_extension": ".py",
   "mimetype": "text/x-python",
   "name": "python",
   "nbconvert_exporter": "python",
   "pygments_lexer": "ipython3",
   "version": "3.10.12"
  }
 },
 "nbformat": 4,
 "nbformat_minor": 5
}
