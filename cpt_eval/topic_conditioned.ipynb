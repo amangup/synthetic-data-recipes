{
 "cells": [
  {
   "cell_type": "code",
   "execution_count": 1,
   "id": "fbcf6e57-1c59-44c3-8710-a3fa927b4046",
   "metadata": {},
   "outputs": [],
   "source": [
    "from datasets import load_dataset, Dataset\n",
    "from jinja2 import Template\n",
    "from transformers import AutoTokenizer\n",
    "from vllm import LLM, SamplingParams\n",
    "\n",
    "import json"
   ]
  },
  {
   "cell_type": "code",
   "execution_count": 2,
   "id": "0107fb4c-5a46-4dbb-8774-209b71168555",
   "metadata": {},
   "outputs": [],
   "source": [
    "NUM_TOPICS = 1024 * 10\n",
    "NUM_GPUS = 8\n",
    "BATCH_SIZE = 1024"
   ]
  },
  {
   "cell_type": "code",
   "execution_count": 3,
   "id": "0a9d9a50-7876-49d5-8f18-27558e4584c4",
   "metadata": {},
   "outputs": [],
   "source": [
    "with open(\"topic_conditioned.jinja2\") as f:\n",
    "    template_str = f.read()"
   ]
  },
  {
   "cell_type": "code",
   "execution_count": 4,
   "id": "3379682b-e945-48ce-bfea-b689076cb0b2",
   "metadata": {},
   "outputs": [],
   "source": [
    "with open(\"topic_content_shots.json\") as f:\n",
    "    content_json = json.load(f)"
   ]
  },
  {
   "cell_type": "code",
   "execution_count": 5,
   "id": "79c11090-d732-4015-9040-644c7ff0f0fc",
   "metadata": {},
   "outputs": [],
   "source": [
    "template = Template(template_str)"
   ]
  },
  {
   "cell_type": "code",
   "execution_count": 6,
   "id": "d8196360-e59b-4ce2-bbcd-c012f0ae1405",
   "metadata": {},
   "outputs": [],
   "source": [
    "system_prompt = template.render(contents=content_json)"
   ]
  },
  {
   "cell_type": "code",
   "execution_count": 7,
   "id": "8d3cb5f4-7420-473f-9cfc-a0aa249c12f2",
   "metadata": {},
   "outputs": [
    {
     "name": "stdout",
     "output_type": "stream",
     "text": [
      "Here is long high quality learning article, like a Wikipedia article, that provides information collected through experience and research. The article is formatted for easy readibility.\n",
      "\n",
      "Title: **Gordon Ramsay's early career**\n",
      "Gordon James Ramsay was born in Johnstone, Scotland, on 8 November 1966, the son of Helen (née Cosgrove), a nurse, and Gordon James Sr., who worked as a swimming pool manager, welder, and shopkeeper. He has an older sister, a younger brother, and a younger sister. When he was nine years old, he moved with his family to England and grew up in the Bishopton area of Stratford-upon-Avon. He has described his early life as 'hopelessly itinerant' and said his family moved constantly owing to the aspirations and failures of his father, who was an occasionally violent alcoholic; Ramsay described him as a 'hard-drinking womaniser'. In his autobiography, he revealed that his father abused and neglected the children and his mother. He worked as a pot washer in a local Indian restaurant where his sister was a waitress. He had hoped to become a footballer and was first chosen to play under-14 football at the age of 12, but his early footballing career was marked by injuries; after a serious knee injury, he was forced to give it up. At the age of 16, he moved out of the family home and into an apartment in Banbury.\n",
      "Ramsay's interest in cooking began in his teenage years; rather than be known as 'the football player with the gammy knee', he decided to pay more serious attention to his culinary education at age 19. Ramsay enrolled at North Oxfordshire Technical College, sponsored by the Rotarians, to study hotel management. He described his decision to enter catering college as 'a complete accident'.\n",
      "In the mid-1980s, Ramsay worked as a commis chef at the Wroxton House Hotel. He ran the kitchen and 60-seat dining room at the Wickham Arms until he quit after having sex with the owner's wife. Ramsay then moved to London, where he worked in a series of restaurants until being inspired to work for Marco Pierre White at Harveys.\n",
      "After working at Harveys for two years and ten months, Ramsay, tired of 'the rages and the bullying and violence', decided that the way to further advance his career was to study French cuisine. White discouraged Ramsay from taking a job in Paris, instead encouraging him to work for Albert Roux at Le Gavroche in Mayfair. Ramsay decided to take his advice, and there, Ramsay met Jean-Claude Breton, who later became his maître d'hôtel at Restaurant Gordon Ramsay. After Ramsay worked at Le Gavroche for a year, Roux invited him to work with him at Hotel Diva, a ski resort in the French Alps, as his number two. From there, a 23-year-old Ramsay moved to Paris to work with Guy Savoy and Joël Robuchon, both Michelin-starred chefs. He continued his training in France for three years, before giving in to the physical and mental stress of the kitchens and taking a year to work as a personal chef on the private yacht Idlewild, based in Bermuda. The role on the boat saw him travel to Sicily and Sardinia, Italy, and learn about Italian cuisine.\n",
      "\n",
      "Title: **The Coriolis Force**\n",
      "I am often asked by students whether their toilet bowl will flush clockwise or counterclockwise in the southern hemisphere, or whether it will flush straight down in Ecuador. This would, of course, be important information if you were ever kidnapped and blindfolded and dropped off in a strange land. If we assume a commode of conventional size, then this “toilet bowl test” will fail because the answer lies in the manufacturer’s design. But if your northern hemisphere toilet bowl were a few hundred miles in diameter then the Coriolis force of the rotating Earth would easily overcome the random water currents, and force the bowl to empty its contents in a counter clockwise swirl. If you have southern hemisphere friends with an equally large toilet, then theirs would indeed empty in the opposite (clockwise) direction.\n",
      "The circulation within oversized flush toilets is a natural consequence of motion on the surface of an object that rotates. We owe our detailed understanding of the effect to the work of Gaspard Gustave de Coriolis who, in 1831, presented details of the laws of mechanics in a rotating reference frame to the Academie des Sciences in Paris. Earth’s surface provides an excellent place to demonstrate why the origin of the Coriolis force is relatively simple. Our planet rotates on its axis approximately once every 24 hours. In that 24 hour period, objects on Earth’s equator travel a circle with a circumference of nearly 25,000 miles, which corresponds to a speed of a more than 1,000 miles per hour. By 41° north, the latitude of New York City and the American Museum of Natural History, the circumference traveled is only about 19,000 miles. The west-to-east speed is now approximately 800 miles per hour. As you continue to increase in Earth latitude (north or south of the equator) your west-to-east speed decreases until it hits exactly zero miles per hour at the poles. (For this reason, most satellites are launched as close to the equator as possible, which enables them to get a good “running start” in their eastward orbits.\n",
      "Imagine a puffy cloud in the northern hemisphere and a meteorological low pressure system directly to its north. The cloud will tend to move toward the low. But during the journey its greater eastward speed will enable the cloud to overtake the low, which is itself in motion, and end up east of its destination. Another puffy cloud that is north of the low will also tend to move toward the low, but will naturally lag behind and end up west of its destination. To an unsuspecting person on Earth’s surface, these curved north-south paths would appear to be the effects of a mysterious force (the Coriolis force) yet no true force was ever at work.\n",
      "When many puffy clouds approach a low pressure system from all directions you get a merry-go-round of counter-clockwise motion, which is better known as a cyclone. In extreme cases you get a monstrous hurricane with wind speeds upwards of a hundred miles per hour. For the southern hemisphere the same arguments will create a cyclone that spirals clockwise. The military normally knows all about the Coriolis force and thus introduces the appropriate correction to all missile trajectories. But in 1914, from the annals of embarrassing military moments, there was a World War I naval battle between the English and the Germans near the Falklands Islands off Argentina (52° south latitude). The English battle cruisers Invincible and Inflexible engaged the German war ships Gneisenau and Scharnhorst at a range of nearly ten miles. Among other gunnery problems encountered, the English forgot to reverse the direction of their Coriolis correction. Their tables had been calculated for northern hemisphere projectiles, so they missed their targets by even more than if no correction had been applied. They ultimately won the battle against the Germans with about sixty direct hits, but it was not before over a thousand missile shells had fallen in the ocean.\n",
      "In high school I knew all about the Coriolis force, but I never had the opportunity to test it on something as large as a swimming pool until the summer after my junior year when I worked as a lifeguard. At the mid-summer cleaning, I opened the drain valve to the pool and carefully observed the circulation. The water funneled in the “wrong” direction—clockwise. The last I had checked, I was life-guarding in Earth’s northern hemisphere so I was tempted to declare Coriolis forces to be a hoax. But a fast “back of the envelope” calculation verified that the difference in Coriolis velocity across the pool was a mere ½ inch per minute. This is slow. The water currents from somebody just climbing out of the pool, or even a gentle breeze across the water’s surface would easily swamp the effect and I would end up with clockwise one half the time and counterclockwise the other half of the time. A proper experiment to demonstrate the insignificance of the Coriolis forces would require that I empty and refill the pool dozens of times. But each try would dump 15,000 cubic feet of water and diminish my job security. So I didn’t.\n",
      "The air circulation near a high pressure systems, which are inelegantly known as anticyclones, is a reverse picture of our cyclone. On Earth, these high pressure systems are the astronomer’s best friend because they are typically devoid of clouds. The surrounding air still circulates, but it does so without the benefit of clouds as tracers of the air flow. The circulation around low and high pressure systems, known as geostrophic winds, presents us with the paradox that Coriolis forces tend to move air along lines of constant pressure (isobars) rather than across them.\n",
      "Now imagine, if you will, a place that is not only fourteen hundred times larger than Earth, but has an equatorial speed that is about twenty-five times as fast, and has a deep, thick, colorful atmosphere. That place is the planet Jupiter, where a day lasts just 9 hours and 56 minutes. It is a cosmic garden of atmospheric dynamics where all rotationally induced cloud and weather patterns are correspondingly enhanced. In the most striking display of the Coriolis force in the entire solar system, Jupiter lays claim to the largest, most energetic, and longest-lived storm ever observed. It is an anticyclone that looks like a great red spot in Jupiter’s upper atmosphere. We call it Jupiter’s Great Red Spot. Discovered in the mid 1660s by the English physicist Robert Hooke and separately by the Italian astronomer Giovanni Cassini, the feature has persisted for over 300 years. It was not until the twentieth century when the Dutch-born, American astronomer Gerard Kuiper was the first to supply the modern interpretation of the Spot as a raging storm.\n",
      "\n",
      "Title: **Passing of Rep. John Lewis**\n",
      "America is a constant work in progress. What gives each new generation purpose is to take up the unfinished work of the last and carry it further — to speak out for what’s right, to challenge an unjust status quo, and to imagine a better world.\n",
      "John Lewis — one of the original Freedom Riders, chairman of the Student Nonviolent Coordinating Committee, the youngest speaker at the March on Washington, leader of the march from Selma to Montgomery, Member of Congress representing the people of Georgia for 33 years — not only assumed that responsibility, he made it his life’s work. He loved this country so much that he risked his life and his blood so that it might live up to its promise. And through the decades, he not only gave all of himself to the cause of freedom and justice, but inspired generations that followed to try to live up to his example.\n",
      "Considering his enormous impact on the history of this country, what always struck those who met John was his gentleness and humility. Born into modest means in the heart of the Jim Crow South, he understood that he was just one of a long line of heroes in the struggle for racial justice. Early on, he embraced the principles of nonviolent resistance and civil disobedience as the means to bring about real change in this country, understanding that such tactics had the power not only to change laws, but to change hearts and minds as well.\n",
      "In so many ways, John’s life was exceptional. But he never believed that what he did was more than any citizen of this country might do. He believed that in all of us, there exists the capacity for great courage, a longing to do what’s right, a willingness to love all people, and to extend to them their God-given rights to dignity and respect. And it’s because he saw the best in all of us that he will continue, even in his passing, to serve as a beacon in that long journey towards a more perfect union.\n",
      "I first met John when I was in law school, and I told him then that he was one of my heroes. Years later, when I was elected a U.S. Senator, I told him that I stood on his shoulders. When I was elected President of the United States, I hugged him on the inauguration stand before I was sworn in and told him I was only there because of the sacrifices he made. And through all those years, he never stopped providing wisdom and encouragement to me and Michelle and our family. We will miss him dearly.\n",
      "It’s fitting that the last time John and I shared a public forum was at a virtual town hall with a gathering of young activists who were helping to lead this summer’s demonstrations in the wake of George Floyd’s death. Afterwards, I spoke to him privately, and he could not have been prouder of their efforts — of a new generation standing up for freedom and equality, a new generation intent on voting and protecting the right to vote, a new generation running for political office. I told him that all those young people — of every race, from every background and gender and sexual orientation — they were his children. They had learned from his example, even if they didn’t know it. They had understood through him what American citizenship requires, even if they had heard of his courage only through history books.\n",
      "Not many of us get to live to see our own legacy play out in such a meaningful, remarkable way. John Lewis did. And thanks to him, we now all have our marching orders — to keep believing in the possibility of remaking this country we love until it lives up to its full promise.\n",
      "\n"
     ]
    }
   ],
   "source": [
    "print(system_prompt)"
   ]
  },
  {
   "cell_type": "code",
   "execution_count": 8,
   "id": "a2fdeca6-d6b4-4d2f-a438-6394da58945d",
   "metadata": {},
   "outputs": [],
   "source": [
    "ds = load_dataset('amang1802/synthetic_data_fulltext_conditioned_L3.3_70B_deduped')['train']"
   ]
  },
  {
   "cell_type": "code",
   "execution_count": 9,
   "id": "5078a1c4-c45f-4ff8-9c80-a0e6b96a5570",
   "metadata": {},
   "outputs": [],
   "source": [
    "#model_id = \"/root/code/synthetic-data-recipes/diversity/ft_models/llama3_1_70B/fulltext_conditioned_20epochs_lrcosine/epoch_16\"\n",
    "model_id = \"meta-llama/Llama-3.1-70B\""
   ]
  },
  {
   "cell_type": "code",
   "execution_count": 10,
   "id": "e8a56b4b-5c8c-4f2f-ac1f-9c68337d7154",
   "metadata": {},
   "outputs": [
    {
     "name": "stdout",
     "output_type": "stream",
     "text": [
      "INFO 01-03 20:05:27 config.py:510] This model supports multiple tasks: {'embed', 'generate', 'score', 'classify', 'reward'}. Defaulting to 'generate'.\n",
      "INFO 01-03 20:05:27 config.py:1310] Defaulting to use mp for distributed inference\n",
      "INFO 01-03 20:05:27 llm_engine.py:234] Initializing an LLM engine (v0.6.6.post1) with config: model='meta-llama/Llama-3.1-70B', speculative_config=None, tokenizer='meta-llama/Llama-3.1-70B', skip_tokenizer_init=False, tokenizer_mode=auto, revision=None, override_neuron_config=None, tokenizer_revision=None, trust_remote_code=False, dtype=torch.bfloat16, max_seq_len=6144, download_dir=None, load_format=auto, tensor_parallel_size=8, pipeline_parallel_size=1, disable_custom_all_reduce=False, quantization=None, enforce_eager=False, kv_cache_dtype=auto, quantization_param_path=None, device_config=cuda, decoding_config=DecodingConfig(guided_decoding_backend='xgrammar'), observability_config=ObservabilityConfig(otlp_traces_endpoint=None, collect_model_forward_time=False, collect_model_execute_time=False), seed=0, served_model_name=meta-llama/Llama-3.1-70B, num_scheduler_steps=1, multi_step_stream_outputs=True, enable_prefix_caching=False, chunked_prefill_enabled=False, use_async_output_proc=True, disable_mm_preprocessor_cache=False, mm_processor_kwargs=None, pooler_config=None, compilation_config={\"splitting_ops\":[\"vllm.unified_attention\",\"vllm.unified_attention_with_output\"],\"candidate_compile_sizes\":[],\"compile_sizes\":[],\"capture_sizes\":[256,248,240,232,224,216,208,200,192,184,176,168,160,152,144,136,128,120,112,104,96,88,80,72,64,56,48,40,32,24,16,8,4,2,1],\"max_capture_size\":256}, use_cached_outputs=False, \n",
      "WARNING 01-03 20:05:27 multiproc_worker_utils.py:312] Reducing Torch parallelism from 64 threads to 1 to avoid unnecessary CPU contention. Set OMP_NUM_THREADS in the external environment to tune this value as needed.\n",
      "INFO 01-03 20:05:27 custom_cache_manager.py:17] Setting Triton cache manager to: vllm.triton_utils.custom_cache_manager:CustomCacheManager\n",
      "INFO 01-03 20:05:28 selector.py:120] Using Flash Attention backend.\n",
      "\u001b[1;36m(VllmWorkerProcess pid=167244)\u001b[0;0m INFO 01-03 20:05:28 selector.py:120] Using Flash Attention backend.\n",
      "\u001b[1;36m(VllmWorkerProcess pid=167244)\u001b[0;0m INFO 01-03 20:05:28 multiproc_worker_utils.py:222] Worker ready; awaiting tasks\n",
      "\u001b[1;36m(VllmWorkerProcess pid=167246)\u001b[0;0m INFO 01-03 20:05:28 selector.py:120] Using Flash Attention backend.\n",
      "\u001b[1;36m(VllmWorkerProcess pid=167246)\u001b[0;0m INFO 01-03 20:05:28 multiproc_worker_utils.py:222] Worker ready; awaiting tasks\n",
      "\u001b[1;36m(VllmWorkerProcess pid=167245)\u001b[0;0m INFO 01-03 20:05:28 selector.py:120] Using Flash Attention backend.\n",
      "\u001b[1;36m(VllmWorkerProcess pid=167245)\u001b[0;0m INFO 01-03 20:05:28 multiproc_worker_utils.py:222] Worker ready; awaiting tasks\n",
      "\u001b[1;36m(VllmWorkerProcess pid=167249)\u001b[0;0m INFO 01-03 20:05:28 selector.py:120] Using Flash Attention backend.\n",
      "\u001b[1;36m(VllmWorkerProcess pid=167249)\u001b[0;0m INFO 01-03 20:05:28 multiproc_worker_utils.py:222] Worker ready; awaiting tasks\n",
      "\u001b[1;36m(VllmWorkerProcess pid=167247)\u001b[0;0m INFO 01-03 20:05:28 selector.py:120] Using Flash Attention backend.\n",
      "\u001b[1;36m(VllmWorkerProcess pid=167247)\u001b[0;0m INFO 01-03 20:05:28 multiproc_worker_utils.py:222] Worker ready; awaiting tasks\n",
      "\u001b[1;36m(VllmWorkerProcess pid=167243)\u001b[0;0m INFO 01-03 20:05:28 selector.py:120] Using Flash Attention backend.\n",
      "\u001b[1;36m(VllmWorkerProcess pid=167243)\u001b[0;0m INFO 01-03 20:05:28 multiproc_worker_utils.py:222] Worker ready; awaiting tasks\n",
      "\u001b[1;36m(VllmWorkerProcess pid=167248)\u001b[0;0m INFO 01-03 20:05:28 selector.py:120] Using Flash Attention backend.\n",
      "\u001b[1;36m(VllmWorkerProcess pid=167248)\u001b[0;0m INFO 01-03 20:05:28 multiproc_worker_utils.py:222] Worker ready; awaiting tasks\n",
      "INFO 01-03 20:05:34 utils.py:918] Found nccl from library libnccl.so.2\n",
      "\u001b[1;36m(VllmWorkerProcess pid=167243)\u001b[0;0m INFO 01-03 20:05:34 pynccl.py:69] vLLM is using nccl==2.21.5\n",
      "INFO 01-03 20:05:34 utils.py:918] Found nccl from library libnccl.so.2\n",
      "\u001b[1;36m(VllmWorkerProcess pid=167244)\u001b[0;0m \u001b[1;36m(VllmWorkerProcess pid=167245)\u001b[0;0m \u001b[1;36m(VllmWorkerProcess pid=167249)\u001b[0;0m \u001b[1;36m(VllmWorkerProcess pid=167246)\u001b[0;0m \u001b[1;36m(VllmWorkerProcess pid=167247)\u001b[0;0m \u001b[1;36m(VllmWorkerProcess pid=167243)\u001b[0;0m \u001b[1;36m(VllmWorkerProcess pid=167248)\u001b[0;0m INFO 01-03 20:05:34 utils.py:918] Found nccl from library libnccl.so.2\n",
      "INFO 01-03 20:05:34 utils.py:918] Found nccl from library libnccl.so.2\n",
      "INFO 01-03 20:05:34 utils.py:918] Found nccl from library libnccl.so.2\n",
      "INFO 01-03 20:05:34 utils.py:918] Found nccl from library libnccl.so.2\n",
      "INFO 01-03 20:05:34 utils.py:918] Found nccl from library libnccl.so.2\n",
      "INFO 01-03 20:05:34 utils.py:918] Found nccl from library libnccl.so.2\n",
      "INFO 01-03 20:05:34 pynccl.py:69] vLLM is using nccl==2.21.5\n",
      "\u001b[1;36m(VllmWorkerProcess pid=167244)\u001b[0;0m \u001b[1;36m(VllmWorkerProcess pid=167249)\u001b[0;0m \u001b[1;36m(VllmWorkerProcess pid=167246)\u001b[0;0m \u001b[1;36m(VllmWorkerProcess pid=167245)\u001b[0;0m INFO 01-03 20:05:34 pynccl.py:69] vLLM is using nccl==2.21.5\n",
      "\u001b[1;36m(VllmWorkerProcess pid=167247)\u001b[0;0m INFO 01-03 20:05:34 pynccl.py:69] vLLM is using nccl==2.21.5\n",
      "INFO 01-03 20:05:34 pynccl.py:69] vLLM is using nccl==2.21.5\n",
      "INFO 01-03 20:05:34 pynccl.py:69] vLLM is using nccl==2.21.5\n",
      "\u001b[1;36m(VllmWorkerProcess pid=167248)\u001b[0;0m INFO 01-03 20:05:34 pynccl.py:69] vLLM is using nccl==2.21.5\n",
      "INFO 01-03 20:05:34 pynccl.py:69] vLLM is using nccl==2.21.5\n",
      "INFO 01-03 20:05:37 custom_all_reduce_utils.py:242] reading GPU P2P access cache from /root/.cache/vllm/gpu_p2p_access_cache_for_0,1,2,3,4,5,6,7.json\n",
      "\u001b[1;36m(VllmWorkerProcess pid=167243)\u001b[0;0m \u001b[1;36m(VllmWorkerProcess pid=167245)\u001b[0;0m \u001b[1;36m(VllmWorkerProcess pid=167249)\u001b[0;0m \u001b[1;36m(VllmWorkerProcess pid=167247)\u001b[0;0m \u001b[1;36m(VllmWorkerProcess pid=167244)\u001b[0;0m INFO 01-03 20:05:37 custom_all_reduce_utils.py:242] reading GPU P2P access cache from /root/.cache/vllm/gpu_p2p_access_cache_for_0,1,2,3,4,5,6,7.json\n",
      "INFO 01-03 20:05:37 custom_all_reduce_utils.py:242] reading GPU P2P access cache from /root/.cache/vllm/gpu_p2p_access_cache_for_0,1,2,3,4,5,6,7.json\n",
      "INFO 01-03 20:05:37 custom_all_reduce_utils.py:242] reading GPU P2P access cache from /root/.cache/vllm/gpu_p2p_access_cache_for_0,1,2,3,4,5,6,7.json\n",
      "\u001b[1;36m(VllmWorkerProcess pid=167246)\u001b[0;0m INFO 01-03 20:05:37 custom_all_reduce_utils.py:242] reading GPU P2P access cache from /root/.cache/vllm/gpu_p2p_access_cache_for_0,1,2,3,4,5,6,7.json\n",
      "INFO 01-03 20:05:37 custom_all_reduce_utils.py:242] reading GPU P2P access cache from /root/.cache/vllm/gpu_p2p_access_cache_for_0,1,2,3,4,5,6,7.json\n",
      "\u001b[1;36m(VllmWorkerProcess pid=167248)\u001b[0;0m INFO 01-03 20:05:37 custom_all_reduce_utils.py:242] reading GPU P2P access cache from /root/.cache/vllm/gpu_p2p_access_cache_for_0,1,2,3,4,5,6,7.json\n",
      "INFO 01-03 20:05:37 custom_all_reduce_utils.py:242] reading GPU P2P access cache from /root/.cache/vllm/gpu_p2p_access_cache_for_0,1,2,3,4,5,6,7.json\n",
      "INFO 01-03 20:05:37 shm_broadcast.py:255] vLLM message queue communication handle: Handle(connect_ip='127.0.0.1', local_reader_ranks=[1, 2, 3, 4, 5, 6, 7], buffer_handle=(7, 4194304, 6, 'psm_5cc607c7'), local_subscribe_port=38313, remote_subscribe_port=None)\n",
      "INFO 01-03 20:05:37 model_runner.py:1094] Starting to load model meta-llama/Llama-3.1-70B...\n",
      "\u001b[1;36m(VllmWorkerProcess pid=167244)\u001b[0;0m \u001b[1;36m(VllmWorkerProcess pid=167243)\u001b[0;0m \u001b[1;36m(VllmWorkerProcess pid=167248)\u001b[0;0m \u001b[1;36m(VllmWorkerProcess pid=167246)\u001b[0;0m \u001b[1;36m(VllmWorkerProcess pid=167249)\u001b[0;0m \u001b[1;36m(VllmWorkerProcess pid=167247)\u001b[0;0m INFO 01-03 20:05:37 model_runner.py:1094] Starting to load model meta-llama/Llama-3.1-70B...\n",
      "INFO 01-03 20:05:37 model_runner.py:1094] Starting to load model meta-llama/Llama-3.1-70B...\n",
      "INFO 01-03 20:05:37 model_runner.py:1094] Starting to load model meta-llama/Llama-3.1-70B...\n",
      "INFO 01-03 20:05:37 model_runner.py:1094] Starting to load model meta-llama/Llama-3.1-70B...\n",
      "INFO 01-03 20:05:37 model_runner.py:1094] Starting to load model meta-llama/Llama-3.1-70B...\n",
      "INFO 01-03 20:05:37 model_runner.py:1094] Starting to load model meta-llama/Llama-3.1-70B...\n",
      "\u001b[1;36m(VllmWorkerProcess pid=167245)\u001b[0;0m INFO 01-03 20:05:37 model_runner.py:1094] Starting to load model meta-llama/Llama-3.1-70B...\n",
      "INFO 01-03 20:05:38 weight_utils.py:251] Using model weights format ['*.safetensors']\n",
      "\u001b[1;36m(VllmWorkerProcess pid=167249)\u001b[0;0m INFO 01-03 20:05:38 weight_utils.py:251] Using model weights format ['*.safetensors']\n",
      "\u001b[1;36m(VllmWorkerProcess pid=167247)\u001b[0;0m INFO 01-03 20:05:38 weight_utils.py:251] Using model weights format ['*.safetensors']\n",
      "\u001b[1;36m(VllmWorkerProcess pid=167248)\u001b[0;0m INFO 01-03 20:05:38 weight_utils.py:251] Using model weights format ['*.safetensors']\n",
      "\u001b[1;36m(VllmWorkerProcess pid=167245)\u001b[0;0m INFO 01-03 20:05:38 weight_utils.py:251] Using model weights format ['*.safetensors']\n",
      "\u001b[1;36m(VllmWorkerProcess pid=167243)\u001b[0;0m INFO 01-03 20:05:38 weight_utils.py:251] Using model weights format ['*.safetensors']\n",
      "\u001b[1;36m(VllmWorkerProcess pid=167246)\u001b[0;0m INFO 01-03 20:05:38 weight_utils.py:251] Using model weights format ['*.safetensors']\n",
      "\u001b[1;36m(VllmWorkerProcess pid=167244)\u001b[0;0m INFO 01-03 20:05:38 weight_utils.py:251] Using model weights format ['*.safetensors']\n"
     ]
    },
    {
     "data": {
      "application/vnd.jupyter.widget-view+json": {
       "model_id": "c8d1ca9430b542a3a106e9edc6af6ab6",
       "version_major": 2,
       "version_minor": 0
      },
      "text/plain": [
       "Loading safetensors checkpoint shards:   0% Completed | 0/30 [00:00<?, ?it/s]\n"
      ]
     },
     "metadata": {},
     "output_type": "display_data"
    },
    {
     "name": "stdout",
     "output_type": "stream",
     "text": [
      "INFO 01-03 20:09:41 model_runner.py:1099] Loading model weights took 16.4605 GB\n",
      "\u001b[1;36m(VllmWorkerProcess pid=167245)\u001b[0;0m INFO 01-03 20:09:41 model_runner.py:1099] Loading model weights took 16.4605 GB\n",
      "\u001b[1;36m(VllmWorkerProcess pid=167244)\u001b[0;0m INFO 01-03 20:09:41 model_runner.py:1099] Loading model weights took 16.4605 GB\n",
      "\u001b[1;36m(VllmWorkerProcess pid=167249)\u001b[0;0m INFO 01-03 20:09:41 model_runner.py:1099] Loading model weights took 16.4605 GB\n",
      "\u001b[1;36m(VllmWorkerProcess pid=167243)\u001b[0;0m INFO 01-03 20:09:41 model_runner.py:1099] Loading model weights took 16.4605 GB\n",
      "\u001b[1;36m(VllmWorkerProcess pid=167247)\u001b[0;0m INFO 01-03 20:09:41 model_runner.py:1099] Loading model weights took 16.4605 GB\n",
      "\u001b[1;36m(VllmWorkerProcess pid=167246)\u001b[0;0m INFO 01-03 20:09:41 model_runner.py:1099] Loading model weights took 16.4605 GB\n",
      "\u001b[1;36m(VllmWorkerProcess pid=167248)\u001b[0;0m INFO 01-03 20:09:41 model_runner.py:1099] Loading model weights took 16.4605 GB\n",
      "\u001b[1;36m(VllmWorkerProcess pid=167249)\u001b[0;0m \u001b[1;36m(VllmWorkerProcess pid=167243)\u001b[0;0m \u001b[1;36m(VllmWorkerProcess pid=167244)\u001b[0;0m \u001b[1;36m(VllmWorkerProcess pid=167245)\u001b[0;0m INFO 01-03 20:09:45 worker.py:241] Memory profiling takes 4.39 seconds\n",
      "INFO 01-03 20:09:45 worker.py:241] Memory profiling takes 4.39 seconds\n",
      "INFO 01-03 20:09:45 worker.py:241] Memory profiling takes 4.39 seconds\n",
      "INFO 01-03 20:09:45 worker.py:241] Memory profiling takes 4.39 seconds\n",
      "\u001b[1;36m(VllmWorkerProcess pid=167243)\u001b[0;0m \u001b[1;36m(VllmWorkerProcess pid=167244)\u001b[0;0m \u001b[1;36m(VllmWorkerProcess pid=167249)\u001b[0;0m \u001b[1;36m(VllmWorkerProcess pid=167245)\u001b[0;0m INFO 01-03 20:09:45 worker.py:241] the current vLLM instance can use total_gpu_memory (79.15GiB) x gpu_memory_utilization (0.98) = 77.57GiB\n",
      "INFO 01-03 20:09:45 worker.py:241] the current vLLM instance can use total_gpu_memory (79.15GiB) x gpu_memory_utilization (0.98) = 77.57GiB\n",
      "INFO 01-03 20:09:45 worker.py:241] the current vLLM instance can use total_gpu_memory (79.15GiB) x gpu_memory_utilization (0.98) = 77.57GiB\n",
      "INFO 01-03 20:09:45 worker.py:241] the current vLLM instance can use total_gpu_memory (79.15GiB) x gpu_memory_utilization (0.98) = 77.57GiB\n",
      "\u001b[1;36m(VllmWorkerProcess pid=167243)\u001b[0;0m \u001b[1;36m(VllmWorkerProcess pid=167244)\u001b[0;0m \u001b[1;36m(VllmWorkerProcess pid=167249)\u001b[0;0m \u001b[1;36m(VllmWorkerProcess pid=167245)\u001b[0;0m INFO 01-03 20:09:45 worker.py:241] model weights take 16.46GiB; non_torch_memory takes 2.14GiB; PyTorch activation peak memory takes 0.52GiB; the rest of the memory reserved for KV Cache is 58.45GiB.\n",
      "INFO 01-03 20:09:45 worker.py:241] model weights take 16.46GiB; non_torch_memory takes 2.14GiB; PyTorch activation peak memory takes 0.52GiB; the rest of the memory reserved for KV Cache is 58.45GiB.\n",
      "INFO 01-03 20:09:45 worker.py:241] model weights take 16.46GiB; non_torch_memory takes 1.86GiB; PyTorch activation peak memory takes 0.52GiB; the rest of the memory reserved for KV Cache is 58.73GiB.\n",
      "INFO 01-03 20:09:45 worker.py:241] model weights take 16.46GiB; non_torch_memory takes 2.14GiB; PyTorch activation peak memory takes 0.52GiB; the rest of the memory reserved for KV Cache is 58.45GiB.\n",
      "INFO 01-03 20:09:45 worker.py:241] Memory profiling takes 4.42 seconds\n",
      "INFO 01-03 20:09:45 worker.py:241] the current vLLM instance can use total_gpu_memory (79.15GiB) x gpu_memory_utilization (0.98) = 77.57GiB\n",
      "INFO 01-03 20:09:45 worker.py:241] model weights take 16.46GiB; non_torch_memory takes 2.98GiB; PyTorch activation peak memory takes 1.27GiB; the rest of the memory reserved for KV Cache is 56.86GiB.\n",
      "\u001b[1;36m(VllmWorkerProcess pid=167248)\u001b[0;0m INFO 01-03 20:09:45 worker.py:241] Memory profiling takes 4.42 seconds\n",
      "\u001b[1;36m(VllmWorkerProcess pid=167248)\u001b[0;0m INFO 01-03 20:09:45 worker.py:241] the current vLLM instance can use total_gpu_memory (79.15GiB) x gpu_memory_utilization (0.98) = 77.57GiB\n",
      "\u001b[1;36m(VllmWorkerProcess pid=167248)\u001b[0;0m INFO 01-03 20:09:45 worker.py:241] model weights take 16.46GiB; non_torch_memory takes 2.14GiB; PyTorch activation peak memory takes 0.52GiB; the rest of the memory reserved for KV Cache is 58.45GiB.\n",
      "\u001b[1;36m(VllmWorkerProcess pid=167246)\u001b[0;0m INFO 01-03 20:09:45 worker.py:241] Memory profiling takes 4.45 seconds\n",
      "\u001b[1;36m(VllmWorkerProcess pid=167246)\u001b[0;0m INFO 01-03 20:09:45 worker.py:241] the current vLLM instance can use total_gpu_memory (79.15GiB) x gpu_memory_utilization (0.98) = 77.57GiB\n",
      "\u001b[1;36m(VllmWorkerProcess pid=167246)\u001b[0;0m INFO 01-03 20:09:45 worker.py:241] model weights take 16.46GiB; non_torch_memory takes 2.14GiB; PyTorch activation peak memory takes 0.52GiB; the rest of the memory reserved for KV Cache is 58.45GiB.\n",
      "\u001b[1;36m(VllmWorkerProcess pid=167247)\u001b[0;0m INFO 01-03 20:09:45 worker.py:241] Memory profiling takes 4.47 seconds\n",
      "\u001b[1;36m(VllmWorkerProcess pid=167247)\u001b[0;0m INFO 01-03 20:09:45 worker.py:241] the current vLLM instance can use total_gpu_memory (79.15GiB) x gpu_memory_utilization (0.98) = 77.57GiB\n",
      "\u001b[1;36m(VllmWorkerProcess pid=167247)\u001b[0;0m INFO 01-03 20:09:45 worker.py:241] model weights take 16.46GiB; non_torch_memory takes 2.14GiB; PyTorch activation peak memory takes 0.52GiB; the rest of the memory reserved for KV Cache is 58.45GiB.\n",
      "INFO 01-03 20:09:45 distributed_gpu_executor.py:57] # GPU blocks: 93158, # CPU blocks: 6553\n",
      "INFO 01-03 20:09:45 distributed_gpu_executor.py:61] Maximum concurrency for 6144 tokens per request: 242.60x\n",
      "\u001b[1;36m(VllmWorkerProcess pid=167245)\u001b[0;0m INFO 01-03 20:09:48 model_runner.py:1415] Capturing cudagraphs for decoding. This may lead to unexpected consequences if the model is not static. To run the model in eager mode, set 'enforce_eager=True' or use '--enforce-eager' in the CLI. If out-of-memory error occurs during cudagraph capture, consider decreasing `gpu_memory_utilization` or switching to eager mode. You can also reduce the `max_num_seqs` as needed to decrease memory usage.\n",
      "\u001b[1;36m(VllmWorkerProcess pid=167248)\u001b[0;0m INFO 01-03 20:09:48 model_runner.py:1415] Capturing cudagraphs for decoding. This may lead to unexpected consequences if the model is not static. To run the model in eager mode, set 'enforce_eager=True' or use '--enforce-eager' in the CLI. If out-of-memory error occurs during cudagraph capture, consider decreasing `gpu_memory_utilization` or switching to eager mode. You can also reduce the `max_num_seqs` as needed to decrease memory usage.\n",
      "\u001b[1;36m(VllmWorkerProcess pid=167246)\u001b[0;0m INFO 01-03 20:09:48 model_runner.py:1415] Capturing cudagraphs for decoding. This may lead to unexpected consequences if the model is not static. To run the model in eager mode, set 'enforce_eager=True' or use '--enforce-eager' in the CLI. If out-of-memory error occurs during cudagraph capture, consider decreasing `gpu_memory_utilization` or switching to eager mode. You can also reduce the `max_num_seqs` as needed to decrease memory usage.\n",
      "\u001b[1;36m(VllmWorkerProcess pid=167249)\u001b[0;0m INFO 01-03 20:09:48 model_runner.py:1415] Capturing cudagraphs for decoding. This may lead to unexpected consequences if the model is not static. To run the model in eager mode, set 'enforce_eager=True' or use '--enforce-eager' in the CLI. If out-of-memory error occurs during cudagraph capture, consider decreasing `gpu_memory_utilization` or switching to eager mode. You can also reduce the `max_num_seqs` as needed to decrease memory usage.\n",
      "\u001b[1;36m(VllmWorkerProcess pid=167244)\u001b[0;0m INFO 01-03 20:09:48 model_runner.py:1415] Capturing cudagraphs for decoding. This may lead to unexpected consequences if the model is not static. To run the model in eager mode, set 'enforce_eager=True' or use '--enforce-eager' in the CLI. If out-of-memory error occurs during cudagraph capture, consider decreasing `gpu_memory_utilization` or switching to eager mode. You can also reduce the `max_num_seqs` as needed to decrease memory usage.\n",
      "INFO 01-03 20:09:48 model_runner.py:1415] Capturing cudagraphs for decoding. This may lead to unexpected consequences if the model is not static. To run the model in eager mode, set 'enforce_eager=True' or use '--enforce-eager' in the CLI. If out-of-memory error occurs during cudagraph capture, consider decreasing `gpu_memory_utilization` or switching to eager mode. You can also reduce the `max_num_seqs` as needed to decrease memory usage.\n",
      "\u001b[1;36m(VllmWorkerProcess pid=167247)\u001b[0;0m INFO 01-03 20:09:48 model_runner.py:1415] Capturing cudagraphs for decoding. This may lead to unexpected consequences if the model is not static. To run the model in eager mode, set 'enforce_eager=True' or use '--enforce-eager' in the CLI. If out-of-memory error occurs during cudagraph capture, consider decreasing `gpu_memory_utilization` or switching to eager mode. You can also reduce the `max_num_seqs` as needed to decrease memory usage.\n"
     ]
    },
    {
     "name": "stderr",
     "output_type": "stream",
     "text": [
      "Capturing CUDA graph shapes:   0% 0/35 [00:00<?, ?it/s]"
     ]
    },
    {
     "name": "stdout",
     "output_type": "stream",
     "text": [
      "\u001b[1;36m(VllmWorkerProcess pid=167243)\u001b[0;0m INFO 01-03 20:09:48 model_runner.py:1415] Capturing cudagraphs for decoding. This may lead to unexpected consequences if the model is not static. To run the model in eager mode, set 'enforce_eager=True' or use '--enforce-eager' in the CLI. If out-of-memory error occurs during cudagraph capture, consider decreasing `gpu_memory_utilization` or switching to eager mode. You can also reduce the `max_num_seqs` as needed to decrease memory usage.\n"
     ]
    },
    {
     "name": "stderr",
     "output_type": "stream",
     "text": [
      "Capturing CUDA graph shapes:  97% 34/35 [00:17<00:00,  1.91it/s]"
     ]
    },
    {
     "name": "stdout",
     "output_type": "stream",
     "text": [
      "\u001b[1;36m(VllmWorkerProcess pid=167249)\u001b[0;0m INFO 01-03 20:10:07 custom_all_reduce.py:224] Registering 5635 cuda graph addresses\n",
      "\u001b[1;36m(VllmWorkerProcess pid=167244)\u001b[0;0m INFO 01-03 20:10:07 custom_all_reduce.py:224] Registering 5635 cuda graph addresses\n"
     ]
    },
    {
     "name": "stderr",
     "output_type": "stream",
     "text": [
      "Capturing CUDA graph shapes: 100% 35/35 [00:18<00:00,  1.89it/s]"
     ]
    },
    {
     "name": "stdout",
     "output_type": "stream",
     "text": [
      "INFO 01-03 20:10:07 custom_all_reduce.py:224] Registering 5635 cuda graph addresses\n",
      "\u001b[1;36m(VllmWorkerProcess pid=167243)\u001b[0;0m \u001b[1;36m(VllmWorkerProcess pid=167245)\u001b[0;0m INFO 01-03 20:10:07 custom_all_reduce.py:224] Registering 5635 cuda graph addresses\n",
      "INFO 01-03 20:10:07 custom_all_reduce.py:224] Registering 5635 cuda graph addresses\n"
     ]
    },
    {
     "name": "stderr",
     "output_type": "stream",
     "text": [
      "\n"
     ]
    },
    {
     "name": "stdout",
     "output_type": "stream",
     "text": [
      "\u001b[1;36m(VllmWorkerProcess pid=167248)\u001b[0;0m INFO 01-03 20:10:07 custom_all_reduce.py:224] Registering 5635 cuda graph addresses\n",
      "\u001b[1;36m(VllmWorkerProcess pid=167247)\u001b[0;0m INFO 01-03 20:10:11 custom_all_reduce.py:224] Registering 5635 cuda graph addresses\n",
      "\u001b[1;36m(VllmWorkerProcess pid=167246)\u001b[0;0m INFO 01-03 20:10:11 custom_all_reduce.py:224] Registering 5635 cuda graph addresses\n",
      "\u001b[1;36m(VllmWorkerProcess pid=167249)\u001b[0;0m INFO 01-03 20:10:11 model_runner.py:1535] Graph capturing finished in 23 secs, took 0.42 GiB\n",
      "\u001b[1;36m(VllmWorkerProcess pid=167247)\u001b[0;0m INFO 01-03 20:10:11 model_runner.py:1535] Graph capturing finished in 23 secs, took 0.42 GiB\n",
      "\u001b[1;36m(VllmWorkerProcess pid=167243)\u001b[0;0m INFO 01-03 20:10:11 model_runner.py:1535] Graph capturing finished in 23 secs, took 0.43 GiB\n",
      "\u001b[1;36m(VllmWorkerProcess pid=167246)\u001b[0;0m INFO 01-03 20:10:11 model_runner.py:1535] Graph capturing finished in 23 secs, took 0.42 GiB\n",
      "INFO 01-03 20:10:11 model_runner.py:1535] Graph capturing finished in 23 secs, took 0.42 GiB\n",
      "\u001b[1;36m(VllmWorkerProcess pid=167245)\u001b[0;0m \u001b[1;36m(VllmWorkerProcess pid=167248)\u001b[0;0m INFO 01-03 20:10:11 model_runner.py:1535] Graph capturing finished in 23 secs, took 0.42 GiB\n",
      "\u001b[1;36m(VllmWorkerProcess pid=167244)\u001b[0;0m INFO 01-03 20:10:11 model_runner.py:1535] Graph capturing finished in 23 secs, took 0.42 GiB\n",
      "INFO 01-03 20:10:11 model_runner.py:1535] Graph capturing finished in 23 secs, took 0.42 GiB\n",
      "INFO 01-03 20:10:11 llm_engine.py:431] init engine (profile, create kv cache, warmup model) took 30.28 seconds\n"
     ]
    }
   ],
   "source": [
    "llm = LLM(model=model_id, max_model_len=6144, tensor_parallel_size=NUM_GPUS, gpu_memory_utilization=0.98)"
   ]
  },
  {
   "cell_type": "code",
   "execution_count": 17,
   "id": "be81ccc6-6107-4b54-bf44-5749ea2d684c",
   "metadata": {},
   "outputs": [],
   "source": [
    "def generate_content_base(titles):\n",
    "    prompts = [f\"{system_prompt}\\n\\nTitle: **{title}**\\n\" for title in titles]\n",
    "    outputs = llm.generate(prompts, SamplingParams(temperature=0.25, top_p=0.9, max_tokens=2048, stop=[\"Title:\"]))\n",
    "\n",
    "    return {\"cpt_gen_content\": [f\"**{title}**\\n{output.outputs[0].text.strip()}\" for title, output in zip(titles, outputs)]}"
   ]
  },
  {
   "cell_type": "code",
   "execution_count": null,
   "id": "93f11b25-3337-43bd-9441-83034a216d3d",
   "metadata": {},
   "outputs": [
    {
     "data": {
      "application/vnd.jupyter.widget-view+json": {
       "model_id": "17b8bbfb4d6a483ca2dbce1756ddc42b",
       "version_major": 2,
       "version_minor": 0
      },
      "text/plain": [
       "Map:   0%|          | 0/5120 [00:00<?, ? examples/s]"
      ]
     },
     "metadata": {},
     "output_type": "display_data"
    },
    {
     "name": "stderr",
     "output_type": "stream",
     "text": [
      "\n",
      "\u001b[Acessed prompts:   0% 0/5120 [00:00<?, ?it/s, est. speed input: 0.00 toks/s, output: 0.00 toks/s]\n",
      "\u001b[Acessed prompts:   0% 1/5120 [01:19<112:51:47, 79.37s/it, est. speed input: 36.15 toks/s, output: 0.34 toks/s]\n",
      "\u001b[Acessed prompts:   0% 2/5120 [01:19<46:43:48, 32.87s/it, est. speed input: 72.03 toks/s, output: 0.69 toks/s] \n",
      "\u001b[Acessed prompts:   0% 3/5120 [01:22<27:08:54, 19.10s/it, est. speed input: 104.53 toks/s, output: 1.33 toks/s]\n",
      "\u001b[Acessed prompts:   0% 4/5120 [01:23<16:47:54, 11.82s/it, est. speed input: 138.23 toks/s, output: 2.03 toks/s]\n",
      "\u001b[Acessed prompts:   0% 5/5120 [01:23<11:07:23,  7.83s/it, est. speed input: 171.21 toks/s, output: 2.78 toks/s]\n",
      "\u001b[Acessed prompts:   0% 6/5120 [01:24<7:29:35,  5.27s/it, est. speed input: 204.70 toks/s, output: 3.54 toks/s] \n",
      "\u001b[Acessed prompts:   0% 7/5120 [01:25<5:44:52,  4.05s/it, est. speed input: 234.60 toks/s, output: 4.39 toks/s]\n",
      "\u001b[Acessed prompts:   0% 8/5120 [01:26<4:10:45,  2.94s/it, est. speed input: 266.29 toks/s, output: 5.30 toks/s]\n",
      "\u001b[Acessed prompts:   0% 9/5120 [01:26<3:05:23,  2.18s/it, est. speed input: 297.90 toks/s, output: 6.23 toks/s]\n",
      "\u001b[Acessed prompts:   0% 10/5120 [01:27<2:16:27,  1.60s/it, est. speed input: 329.77 toks/s, output: 7.17 toks/s]\n",
      "\u001b[Acessed prompts:   0% 11/5120 [01:27<1:49:45,  1.29s/it, est. speed input: 360.31 toks/s, output: 8.10 toks/s]\n",
      "\u001b[Acessed prompts:   0% 12/5120 [01:28<1:29:02,  1.05s/it, est. speed input: 390.85 toks/s, output: 9.06 toks/s]\n",
      "\u001b[Acessed prompts:   0% 13/5120 [01:30<2:08:07,  1.51s/it, est. speed input: 411.40 toks/s, output: 10.06 toks/s]\n",
      "\u001b[Acessed prompts:   0% 14/5120 [01:31<1:53:05,  1.33s/it, est. speed input: 438.62 toks/s, output: 11.28 toks/s]\n",
      "\u001b[Acessed prompts:   0% 15/5120 [01:32<1:38:12,  1.15s/it, est. speed input: 466.14 toks/s, output: 12.55 toks/s]\n",
      "\u001b[Acessed prompts:   0% 17/5120 [01:32<1:04:35,  1.32it/s, est. speed input: 524.82 toks/s, output: 15.19 toks/s]\n",
      "\u001b[Acessed prompts:   0% 18/5120 [01:34<1:26:18,  1.02s/it, est. speed input: 545.17 toks/s, output: 16.41 toks/s]\n",
      "\u001b[Acessed prompts:   0% 19/5120 [01:35<1:31:28,  1.08s/it, est. speed input: 567.94 toks/s, output: 17.73 toks/s]\n",
      "\u001b[Acessed prompts:   0% 20/5120 [01:36<1:19:56,  1.06it/s, est. speed input: 594.22 toks/s, output: 19.18 toks/s]\n",
      "\u001b[Acessed prompts:   0% 21/5120 [01:37<1:09:12,  1.23it/s, est. speed input: 620.77 toks/s, output: 20.65 toks/s]\n",
      "\u001b[Acessed prompts:   0% 22/5120 [01:37<57:06,  1.49it/s, est. speed input: 648.23 toks/s, output: 22.15 toks/s]  \n",
      "\u001b[Acessed prompts:   0% 23/5120 [01:40<1:52:19,  1.32s/it, est. speed input: 657.95 toks/s, output: 23.32 toks/s]\n",
      "\u001b[Acessed prompts:   0% 24/5120 [01:40<1:35:55,  1.13s/it, est. speed input: 682.00 toks/s, output: 25.01 toks/s]\n",
      "\u001b[Acessed prompts:   1% 27/5120 [01:42<1:06:36,  1.27it/s, est. speed input: 755.79 toks/s, output: 30.15 toks/s]\n",
      "\u001b[Acessed prompts:   1% 30/5120 [01:43<50:48,  1.67it/s, est. speed input: 830.82 toks/s, output: 34.00 toks/s]  \n",
      "\u001b[Acessed prompts:   1% 31/5120 [01:43<46:37,  1.82it/s, est. speed input: 855.88 toks/s, output: 35.78 toks/s]\n",
      "\u001b[Acessed prompts:   1% 32/5120 [01:44<50:01,  1.70it/s, est. speed input: 877.14 toks/s, output: 37.43 toks/s]\n",
      "\u001b[Acessed prompts:   1% 34/5120 [01:45<41:08,  2.06it/s, est. speed input: 926.62 toks/s, output: 41.03 toks/s]\n",
      "\u001b[Acessed prompts:   1% 35/5120 [01:45<41:19,  2.05it/s, est. speed input: 949.40 toks/s, output: 42.75 toks/s]\n",
      "\u001b[Acessed prompts:   1% 36/5120 [01:46<41:26,  2.04it/s, est. speed input: 971.95 toks/s, output: 44.47 toks/s]\n",
      "\u001b[Acessed prompts:   1% 37/5120 [01:46<43:22,  1.95it/s, est. speed input: 993.49 toks/s, output: 46.16 toks/s]\n",
      "\u001b[Acessed prompts:   1% 38/5120 [01:47<39:04,  2.17it/s, est. speed input: 1017.30 toks/s, output: 47.97 toks/s]\n",
      "\u001b[Acessed prompts:   1% 39/5120 [01:48<49:50,  1.70it/s, est. speed input: 1035.04 toks/s, output: 49.54 toks/s]\n",
      "\u001b[Acessed prompts:   1% 40/5120 [01:48<43:25,  1.95it/s, est. speed input: 1058.47 toks/s, output: 51.38 toks/s]\n",
      "\u001b[Acessed prompts:   1% 41/5120 [01:49<57:44,  1.47it/s, est. speed input: 1073.99 toks/s, output: 52.89 toks/s]\n",
      "\u001b[Acessed prompts:   1% 42/5120 [01:50<59:32,  1.42it/s, est. speed input: 1092.63 toks/s, output: 54.60 toks/s]\n",
      "\u001b[Acessed prompts:   1% 43/5120 [01:51<1:00:52,  1.39it/s, est. speed input: 1110.98 toks/s, output: 56.32 toks/s]\n",
      "\u001b[Acessed prompts:   1% 44/5120 [01:51<1:01:45,  1.37it/s, est. speed input: 1129.14 toks/s, output: 58.07 toks/s]\n",
      "\u001b[Acessed prompts:   1% 45/5120 [01:52<51:23,  1.65it/s, est. speed input: 1151.54 toks/s, output: 60.04 toks/s]  \n",
      "\u001b[Acessed prompts:   1% 46/5120 [01:52<55:11,  1.53it/s, est. speed input: 1169.20 toks/s, output: 61.79 toks/s]\n",
      "\u001b[Acessed prompts:   1% 47/5120 [01:53<57:50,  1.46it/s, est. speed input: 1186.65 toks/s, output: 63.56 toks/s]\n",
      "\u001b[Acessed prompts:   1% 49/5120 [01:54<51:33,  1.64it/s, est. speed input: 1225.88 toks/s, output: 66.16 toks/s]\n",
      "\u001b[Acessed prompts:   1% 50/5120 [01:56<1:09:14,  1.22it/s, est. speed input: 1235.21 toks/s, output: 67.62 toks/s]\n",
      "\u001b[Acessed prompts:   1% 51/5120 [01:56<58:11,  1.45it/s, est. speed input: 1256.45 toks/s, output: 69.73 toks/s]  \n",
      "\u001b[Acessed prompts:   1% 52/5120 [01:56<53:46,  1.57it/s, est. speed input: 1275.69 toks/s, output: 70.42 toks/s]\n",
      "\u001b[Acessed prompts:   1% 53/5120 [01:57<56:40,  1.49it/s, est. speed input: 1291.86 toks/s, output: 72.29 toks/s]\n",
      "\u001b[Acessed prompts:   1% 55/5120 [01:59<57:36,  1.47it/s, est. speed input: 1324.96 toks/s, output: 76.10 toks/s]"
     ]
    }
   ],
   "source": [
    "syn_ds = ds.map(generate_content_base, batched=True, batch_size=NUM_TOPICS, input_columns=[\"title\"])"
   ]
  },
  {
   "cell_type": "code",
   "execution_count": null,
   "id": "d1eb5065-f94d-42a7-a143-cc547fd24895",
   "metadata": {},
   "outputs": [],
   "source": [
    "syn_ds.push_to_hub('amang1802/cpt_gen_content_topic_conditioned_L3.1_70B')"
   ]
  },
  {
   "cell_type": "code",
   "execution_count": null,
   "id": "dc741286-3bec-4716-b39c-51efe2dd9dd0",
   "metadata": {},
   "outputs": [],
   "source": []
  }
 ],
 "metadata": {
  "kernelspec": {
   "display_name": "Python 3 (ipykernel)",
   "language": "python",
   "name": "python3"
  },
  "language_info": {
   "codemirror_mode": {
    "name": "ipython",
    "version": 3
   },
   "file_extension": ".py",
   "mimetype": "text/x-python",
   "name": "python",
   "nbconvert_exporter": "python",
   "pygments_lexer": "ipython3",
   "version": "3.10.12"
  }
 },
 "nbformat": 4,
 "nbformat_minor": 5
}
