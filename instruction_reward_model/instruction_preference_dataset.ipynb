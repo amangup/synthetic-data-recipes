{
 "cells": [
  {
   "cell_type": "code",
   "execution_count": 1,
   "id": "87a592cc-02d3-425d-83cf-42100b559356",
   "metadata": {},
   "outputs": [],
   "source": [
    "from datasets import load_dataset, DatasetDict\n",
    "from transformers import AutoTokenizer\n",
    "from vllm import LLM, SamplingParams\n",
    "\n",
    "import pandas as pd\n",
    "pd.set_option('display.max_colwidth', None)"
   ]
  },
  {
   "cell_type": "code",
   "execution_count": 2,
   "id": "36cb6670-b74c-4662-a9fe-96988c241ee4",
   "metadata": {},
   "outputs": [],
   "source": [
    "NUM_SIZE = 1000\n",
    "NUM_GPUS = 1"
   ]
  },
  {
   "cell_type": "code",
   "execution_count": 3,
   "id": "8a04cc28-4845-43b1-924c-c492645b4bac",
   "metadata": {},
   "outputs": [],
   "source": [
    "user_llm_instr_ds = load_dataset('lmsys/lmsys-chat-1m')['train'].shuffle(seed=42).select(range(NUM_SIZE))"
   ]
  },
  {
   "cell_type": "code",
   "execution_count": 4,
   "id": "e4cb543c-5687-47c4-b9de-8c53aeb5d849",
   "metadata": {},
   "outputs": [],
   "source": [
    "instr_generation_sys_prompt = \"Output an instruction or question to which the user provided text is the answer.\""
   ]
  },
  {
   "cell_type": "code",
   "execution_count": 5,
   "id": "7007fb53-622b-45e8-aff6-01835f9a0581",
   "metadata": {},
   "outputs": [],
   "source": [
    "def get_chosen_rejected(llm, tokenizer, conv_batch):\n",
    "    pair_0, pair_1 = zip(*[(conv[0]['content'], conv[1]['content']) for conv in conv_batch])\n",
    "    user_instrs, assistant_responses = list(pair_0), list(pair_1)\n",
    "    prompt_messages = [[{\"role\": \"system\", \"content\": instr_generation_sys_prompt},\n",
    "                       {\"role\": \"user\", \"content\": text + \"\\n\\n\" + \"Instruction:\"}] for text in assistant_responses]\n",
    "    prompts = [tokenizer.apply_chat_template(messages, tokenize=False, add_generation_prompt=True) for messages in prompt_messages]\n",
    "\n",
    "    outputs = llm.generate(prompts, SamplingParams(temperature=0.25, top_p=0.9, max_tokens=512))\n",
    "\n",
    "    return {\n",
    "        \"chosen\": user_instrs,\n",
    "        \"rejected\": [output.outputs[0].text.strip() for output in outputs],\n",
    "        \"user_input\": assistant_responses,\n",
    "        \"system_prompt\": [instr_generation_sys_prompt] * len(user_instrs)\n",
    "    }    "
   ]
  },
  {
   "cell_type": "code",
   "execution_count": 6,
   "id": "6db15ea1-d624-4190-bad0-55f50c3fd8eb",
   "metadata": {},
   "outputs": [],
   "source": [
    "model_id = \"meta-llama/Llama-3.1-8B-Instruct\""
   ]
  },
  {
   "cell_type": "code",
   "execution_count": 7,
   "id": "6b83a13f-b554-4b83-a722-e69966118537",
   "metadata": {},
   "outputs": [],
   "source": [
    "tokenizer = AutoTokenizer.from_pretrained(model_id)"
   ]
  },
  {
   "cell_type": "code",
   "execution_count": 8,
   "id": "5826503c-dbb2-4d1b-80da-a0bb1b544e7f",
   "metadata": {},
   "outputs": [
    {
     "name": "stdout",
     "output_type": "stream",
     "text": [
      "INFO 12-23 10:18:02 config.py:350] This model supports multiple tasks: {'generate', 'embedding'}. Defaulting to 'generate'.\n",
      "INFO 12-23 10:18:02 llm_engine.py:249] Initializing an LLM engine (v0.6.4.post1) with config: model='meta-llama/Llama-3.1-8B-Instruct', speculative_config=None, tokenizer='meta-llama/Llama-3.1-8B-Instruct', skip_tokenizer_init=False, tokenizer_mode=auto, revision=None, override_neuron_config=None, tokenizer_revision=None, trust_remote_code=False, dtype=torch.bfloat16, max_seq_len=4096, download_dir=None, load_format=LoadFormat.AUTO, tensor_parallel_size=1, pipeline_parallel_size=1, disable_custom_all_reduce=False, quantization=None, enforce_eager=False, kv_cache_dtype=auto, quantization_param_path=None, device_config=cuda, decoding_config=DecodingConfig(guided_decoding_backend='outlines'), observability_config=ObservabilityConfig(otlp_traces_endpoint=None, collect_model_forward_time=False, collect_model_execute_time=False), seed=0, served_model_name=meta-llama/Llama-3.1-8B-Instruct, num_scheduler_steps=1, chunked_prefill_enabled=False multi_step_stream_outputs=True, enable_prefix_caching=False, use_async_output_proc=True, use_cached_outputs=False, chat_template_text_format=string, mm_processor_kwargs=None, pooler_config=None)\n",
      "INFO 12-23 10:18:02 selector.py:135] Using Flash Attention backend.\n",
      "INFO 12-23 10:18:03 model_runner.py:1072] Starting to load model meta-llama/Llama-3.1-8B-Instruct...\n",
      "INFO 12-23 10:18:03 weight_utils.py:243] Using model weights format ['*.safetensors']\n"
     ]
    },
    {
     "data": {
      "application/vnd.jupyter.widget-view+json": {
       "model_id": "69dca0a318cb4bf8a82b5fa4d72e66b0",
       "version_major": 2,
       "version_minor": 0
      },
      "text/plain": [
       "Loading safetensors checkpoint shards:   0% Completed | 0/4 [00:00<?, ?it/s]\n"
      ]
     },
     "metadata": {},
     "output_type": "display_data"
    },
    {
     "name": "stdout",
     "output_type": "stream",
     "text": [
      "INFO 12-23 10:18:13 model_runner.py:1077] Loading model weights took 14.9888 GB\n",
      "INFO 12-23 10:18:14 worker.py:232] Memory profiling results: total_gpu_memory=23.69GiB initial_memory_usage=15.88GiB peak_torch_memory=16.19GiB memory_usage_post_profile=15.89GiB non_torch_memory=0.90GiB kv_cache_size=4.23GiB gpu_memory_utilization=0.90\n",
      "INFO 12-23 10:18:14 gpu_executor.py:113] # GPU blocks: 2167, # CPU blocks: 2048\n",
      "INFO 12-23 10:18:14 gpu_executor.py:117] Maximum concurrency for 4096 tokens per request: 8.46x\n",
      "INFO 12-23 10:18:16 model_runner.py:1400] Capturing cudagraphs for decoding. This may lead to unexpected consequences if the model is not static. To run the model in eager mode, set 'enforce_eager=True' or use '--enforce-eager' in the CLI.\n",
      "INFO 12-23 10:18:16 model_runner.py:1404] If out-of-memory error occurs during cudagraph capture, consider decreasing `gpu_memory_utilization` or switching to eager mode. You can also reduce the `max_num_seqs` as needed to decrease memory usage.\n",
      "INFO 12-23 10:18:28 model_runner.py:1518] Graph capturing finished in 12 secs, took 0.85 GiB\n"
     ]
    }
   ],
   "source": [
    "llm = LLM(model=model_id, max_model_len=4096, tensor_parallel_size=NUM_GPUS)"
   ]
  },
  {
   "cell_type": "code",
   "execution_count": null,
   "id": "f743e9b0-b627-4ec9-aaf4-a4060c763212",
   "metadata": {},
   "outputs": [
    {
     "name": "stderr",
     "output_type": "stream",
     "text": [
      "Parameter 'function'=<function <lambda> at 0x7f9c4458b600> of the transform datasets.arrow_dataset.Dataset._map_single couldn't be hashed properly, a random hash was used instead. Make sure your transforms and parameters are serializable with pickle or dill for the dataset fingerprinting and caching to work. If you reuse this transform, the caching mechanism will consider it to be different from the previous calls and recompute everything. This warning is only showed once. Subsequent hashing failures won't be showed.\n"
     ]
    },
    {
     "data": {
      "application/vnd.jupyter.widget-view+json": {
       "model_id": "6805952b88db42698974655274359615",
       "version_major": 2,
       "version_minor": 0
      },
      "text/plain": [
       "Map:   0%|          | 0/1000 [00:00<?, ? examples/s]"
      ]
     },
     "metadata": {},
     "output_type": "display_data"
    },
    {
     "name": "stderr",
     "output_type": "stream",
     "text": [
      "\n",
      "Processed prompts:   0%|                                   | 0/512 [00:00<?, ?it/s, est. speed input: 0.00 toks/s, output: 0.00 toks/s]\u001b[A"
     ]
    },
    {
     "name": "stdout",
     "output_type": "stream",
     "text": [
      "WARNING 12-23 10:18:35 scheduler.py:1481] Sequence group 123 is preempted by PreemptionMode.RECOMPUTE mode because there is not enough KV cache space. This can affect the end-to-end performance. Increase gpu_memory_utilization or tensor_parallel_size to provide more KV cache memory. total_num_cumulative_preemption=1\n"
     ]
    },
    {
     "name": "stderr",
     "output_type": "stream",
     "text": [
      "\n",
      "Processed prompts:   0%|                        | 1/512 [00:07<1:02:54,  7.39s/it, est. speed input: 29.24 toks/s, output: 0.68 toks/s]\u001b[A\n",
      "Processed prompts:   1%|▏                         | 3/512 [00:07<16:41,  1.97s/it, est. speed input: 51.52 toks/s, output: 2.52 toks/s]\u001b[A\n",
      "Processed prompts:   1%|▎                         | 6/512 [00:07<06:35,  1.28it/s, est. speed input: 79.53 toks/s, output: 6.16 toks/s]\u001b[A\n",
      "Processed prompts:   2%|▌                      | 12/512 [00:07<02:31,  3.30it/s, est. speed input: 240.55 toks/s, output: 14.47 toks/s]\u001b[A\n",
      "Processed prompts:   3%|▋                      | 16/512 [00:08<01:52,  4.41it/s, est. speed input: 299.81 toks/s, output: 19.71 toks/s]\u001b[A\n",
      "Processed prompts:   4%|▉                      | 22/512 [00:08<01:11,  6.90it/s, est. speed input: 442.60 toks/s, output: 28.89 toks/s]\u001b[A\n",
      "Processed prompts:   5%|█                      | 25/512 [00:08<01:02,  7.80it/s, est. speed input: 459.60 toks/s, output: 33.42 toks/s]\u001b[A\n",
      "Processed prompts:   6%|█▎                     | 30/512 [00:08<00:49,  9.82it/s, est. speed input: 615.39 toks/s, output: 41.39 toks/s]\u001b[A\n",
      "Processed prompts:   6%|█▍                     | 32/512 [00:09<00:54,  8.85it/s, est. speed input: 696.93 toks/s, output: 43.67 toks/s]\u001b[A\n",
      "Processed prompts:   7%|█▌                     | 35/512 [00:09<00:46, 10.27it/s, est. speed input: 741.65 toks/s, output: 48.71 toks/s]\u001b[A\n",
      "Processed prompts:   7%|█▋                     | 38/512 [00:09<00:44, 10.70it/s, est. speed input: 797.84 toks/s, output: 53.41 toks/s]\u001b[A\n",
      "Processed prompts:   8%|█▊                     | 41/512 [00:09<00:41, 11.29it/s, est. speed input: 889.24 toks/s, output: 58.31 toks/s]\u001b[A\n",
      "Processed prompts:   9%|█▉                     | 44/512 [00:10<00:46, 10.00it/s, est. speed input: 971.00 toks/s, output: 62.32 toks/s]\u001b[A\n",
      "Processed prompts:  10%|██▏                   | 50/512 [00:10<00:33, 13.66it/s, est. speed input: 1104.64 toks/s, output: 73.44 toks/s]\u001b[A\n",
      "Processed prompts:  10%|██▎                   | 53/512 [00:10<00:39, 11.60it/s, est. speed input: 1172.54 toks/s, output: 77.28 toks/s]\u001b[A"
     ]
    }
   ],
   "source": [
    "instr_preference_ds = user_llm_instr_ds.map(lambda batch: get_chosen_rejected(llm, tokenizer, batch),\n",
    "                                            input_columns=['conversation'],\n",
    "                                            batched=True,\n",
    "                                            batch_size=512)"
   ]
  },
  {
   "cell_type": "code",
   "execution_count": null,
   "id": "f5a0e126-72ea-418c-ab07-a1369e9d5bac",
   "metadata": {},
   "outputs": [],
   "source": [
    "#train_test_ds = instr_preference_ds.train_test_split(test_size=0.05, shuffle=True)\n",
    "#train_test_ds.push_to_hub('lmsys_synthetic_instruction_preferences')"
   ]
  },
  {
   "cell_type": "code",
   "execution_count": null,
   "id": "1eef658b-ada1-4b8b-95fa-ad4985b10794",
   "metadata": {},
   "outputs": [],
   "source": []
  }
 ],
 "metadata": {
  "kernelspec": {
   "display_name": "Python 3 (ipykernel)",
   "language": "python",
   "name": "python3"
  },
  "language_info": {
   "codemirror_mode": {
    "name": "ipython",
    "version": 3
   },
   "file_extension": ".py",
   "mimetype": "text/x-python",
   "name": "python",
   "nbconvert_exporter": "python",
   "pygments_lexer": "ipython3",
   "version": "3.11.10"
  }
 },
 "nbformat": 4,
 "nbformat_minor": 5
}
