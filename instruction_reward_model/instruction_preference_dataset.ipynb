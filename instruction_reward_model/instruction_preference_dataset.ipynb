{
 "cells": [
  {
   "cell_type": "code",
   "execution_count": 18,
   "id": "87a592cc-02d3-425d-83cf-42100b559356",
   "metadata": {},
   "outputs": [],
   "source": [
    "from datasets import load_dataset, DatasetDict\n",
    "from transformers import AutoTokenizer\n",
    "from vllm import LLM, SamplingParams\n",
    "\n",
    "import pandas as pd\n",
    "pd.set_option('display.max_colwidth', None)"
   ]
  },
  {
   "cell_type": "code",
   "execution_count": 11,
   "id": "36cb6670-b74c-4662-a9fe-96988c241ee4",
   "metadata": {},
   "outputs": [],
   "source": [
    "NUM_SIZE = 1000_000"
   ]
  },
  {
   "cell_type": "code",
   "execution_count": 12,
   "id": "8a04cc28-4845-43b1-924c-c492645b4bac",
   "metadata": {},
   "outputs": [],
   "source": [
    "user_llm_instr_ds = load_dataset('lmsys/lmsys-chat-1m')['train'].shuffle(seed=42).select(range(NUM_SIZE))"
   ]
  },
  {
   "cell_type": "code",
   "execution_count": 4,
   "id": "e4cb543c-5687-47c4-b9de-8c53aeb5d849",
   "metadata": {},
   "outputs": [],
   "source": [
    "instr_generation_sys_prompt = \"Output an instruction or question to which the user provided text is the answer.\""
   ]
  },
  {
   "cell_type": "code",
   "execution_count": 5,
   "id": "7007fb53-622b-45e8-aff6-01835f9a0581",
   "metadata": {},
   "outputs": [],
   "source": [
    "def get_chosen_rejected(llm, tokenizer, conv_batch):\n",
    "    pair_0, pair_1 = zip(*[(conv[0]['content'], conv[1]['content']) for conv in conv_batch])\n",
    "    user_instrs, assistant_responses = list(pair_0), list(pair_1)\n",
    "    prompt_messages = [[{\"role\": \"system\", \"content\": instr_generation_sys_prompt},\n",
    "                       {\"role\": \"user\", \"content\": text + \"\\n\\n\" + \"Instruction:\"}] for text in assistant_responses]\n",
    "    prompts = [tokenizer.apply_chat_template(messages, tokenize=False, add_generation_prompt=True) for messages in prompt_messages]\n",
    "\n",
    "    outputs = llm.generate(prompts, SamplingParams(temperature=0.25, top_p=0.9, max_tokens=512))\n",
    "\n",
    "    return {\n",
    "        \"chosen\": user_instrs,\n",
    "        \"rejected\": [output.outputs[0].text.strip() for output in outputs],\n",
    "        \"user_input\": assistant_responses,\n",
    "        \"system_prompt\": [instr_generation_sys_prompt] * len(user_instrs)\n",
    "    }    "
   ]
  },
  {
   "cell_type": "code",
   "execution_count": 6,
   "id": "6db15ea1-d624-4190-bad0-55f50c3fd8eb",
   "metadata": {},
   "outputs": [],
   "source": [
    "model_id = \"meta-llama/Llama-3.1-70B-Instruct\""
   ]
  },
  {
   "cell_type": "code",
   "execution_count": 7,
   "id": "6b83a13f-b554-4b83-a722-e69966118537",
   "metadata": {},
   "outputs": [
    {
     "data": {
      "application/vnd.jupyter.widget-view+json": {
       "model_id": "f9552e29a51f478e9505810df0dcb19c",
       "version_major": 2,
       "version_minor": 0
      },
      "text/plain": [
       "tokenizer_config.json:   0%|          | 0.00/55.4k [00:00<?, ?B/s]"
      ]
     },
     "metadata": {},
     "output_type": "display_data"
    },
    {
     "data": {
      "application/vnd.jupyter.widget-view+json": {
       "model_id": "04a5432816524cf5bbcb0f643e6dc097",
       "version_major": 2,
       "version_minor": 0
      },
      "text/plain": [
       "tokenizer.json:   0%|          | 0.00/9.09M [00:00<?, ?B/s]"
      ]
     },
     "metadata": {},
     "output_type": "display_data"
    },
    {
     "data": {
      "application/vnd.jupyter.widget-view+json": {
       "model_id": "5c6de7dceec94ec183c6c3095cd05e29",
       "version_major": 2,
       "version_minor": 0
      },
      "text/plain": [
       "special_tokens_map.json:   0%|          | 0.00/296 [00:00<?, ?B/s]"
      ]
     },
     "metadata": {},
     "output_type": "display_data"
    }
   ],
   "source": [
    "tokenizer = AutoTokenizer.from_pretrained(model_id)"
   ]
  },
  {
   "cell_type": "code",
   "execution_count": 8,
   "id": "5826503c-dbb2-4d1b-80da-a0bb1b544e7f",
   "metadata": {},
   "outputs": [
    {
     "data": {
      "application/vnd.jupyter.widget-view+json": {
       "model_id": "4c3af22144b3402592e5955f535c8ef9",
       "version_major": 2,
       "version_minor": 0
      },
      "text/plain": [
       "config.json:   0%|          | 0.00/855 [00:00<?, ?B/s]"
      ]
     },
     "metadata": {},
     "output_type": "display_data"
    },
    {
     "name": "stdout",
     "output_type": "stream",
     "text": [
      "INFO 11-30 23:50:29 config.py:350] This model supports multiple tasks: {'generate', 'embedding'}. Defaulting to 'generate'.\n",
      "INFO 11-30 23:50:29 config.py:1020] Defaulting to use mp for distributed inference\n",
      "INFO 11-30 23:50:29 llm_engine.py:249] Initializing an LLM engine (v0.6.4.post1) with config: model='meta-llama/Llama-3.1-70B-Instruct', speculative_config=None, tokenizer='meta-llama/Llama-3.1-70B-Instruct', skip_tokenizer_init=False, tokenizer_mode=auto, revision=None, override_neuron_config=None, tokenizer_revision=None, trust_remote_code=False, dtype=torch.bfloat16, max_seq_len=4096, download_dir=None, load_format=LoadFormat.AUTO, tensor_parallel_size=4, pipeline_parallel_size=1, disable_custom_all_reduce=False, quantization=None, enforce_eager=False, kv_cache_dtype=auto, quantization_param_path=None, device_config=cuda, decoding_config=DecodingConfig(guided_decoding_backend='outlines'), observability_config=ObservabilityConfig(otlp_traces_endpoint=None, collect_model_forward_time=False, collect_model_execute_time=False), seed=0, served_model_name=meta-llama/Llama-3.1-70B-Instruct, num_scheduler_steps=1, chunked_prefill_enabled=False multi_step_stream_outputs=True, enable_prefix_caching=False, use_async_output_proc=True, use_cached_outputs=False, chat_template_text_format=string, mm_processor_kwargs=None, pooler_config=None)\n"
     ]
    },
    {
     "data": {
      "application/vnd.jupyter.widget-view+json": {
       "model_id": "cf3968c11a404617a3e40cd2bd6becef",
       "version_major": 2,
       "version_minor": 0
      },
      "text/plain": [
       "generation_config.json:   0%|          | 0.00/183 [00:00<?, ?B/s]"
      ]
     },
     "metadata": {},
     "output_type": "display_data"
    },
    {
     "name": "stdout",
     "output_type": "stream",
     "text": [
      "WARNING 11-30 23:50:29 multiproc_gpu_executor.py:56] Reducing Torch parallelism from 64 threads to 1 to avoid unnecessary CPU contention. Set OMP_NUM_THREADS in the external environment to tune this value as needed.\n",
      "INFO 11-30 23:50:29 custom_cache_manager.py:17] Setting Triton cache manager to: vllm.triton_utils.custom_cache_manager:CustomCacheManager\n",
      "INFO 11-30 23:50:30 selector.py:135] Using Flash Attention backend.\n",
      "\u001b[1;36m(VllmWorkerProcess pid=372)\u001b[0;0m \u001b[1;36m(VllmWorkerProcess pid=371)\u001b[0;0m INFO 11-30 23:50:30 selector.py:135] Using Flash Attention backend.\n",
      "INFO 11-30 23:50:30 selector.py:135] Using Flash Attention backend.\n",
      "\u001b[1;36m(VllmWorkerProcess pid=372)\u001b[0;0m \u001b[1;36m(VllmWorkerProcess pid=371)\u001b[0;0m INFO 11-30 23:50:30 multiproc_worker_utils.py:215] Worker ready; awaiting tasks\n",
      "INFO 11-30 23:50:30 multiproc_worker_utils.py:215] Worker ready; awaiting tasks\n",
      "\u001b[1;36m(VllmWorkerProcess pid=373)\u001b[0;0m INFO 11-30 23:50:30 selector.py:135] Using Flash Attention backend.\n",
      "\u001b[1;36m(VllmWorkerProcess pid=373)\u001b[0;0m INFO 11-30 23:50:30 multiproc_worker_utils.py:215] Worker ready; awaiting tasks\n",
      "INFO 11-30 23:50:32 utils.py:961] Found nccl from library libnccl.so.2\n",
      "INFO 11-30 23:50:32 pynccl.py:69] vLLM is using nccl==2.21.5\n",
      "\u001b[1;36m(VllmWorkerProcess pid=373)\u001b[0;0m \u001b[1;36m(VllmWorkerProcess pid=371)\u001b[0;0m \u001b[1;36m(VllmWorkerProcess pid=372)\u001b[0;0m INFO 11-30 23:50:32 utils.py:961] Found nccl from library libnccl.so.2\n",
      "INFO 11-30 23:50:32 utils.py:961] Found nccl from library libnccl.so.2\n",
      "INFO 11-30 23:50:32 utils.py:961] Found nccl from library libnccl.so.2\n",
      "\u001b[1;36m(VllmWorkerProcess pid=371)\u001b[0;0m \u001b[1;36m(VllmWorkerProcess pid=372)\u001b[0;0m INFO 11-30 23:50:32 pynccl.py:69] vLLM is using nccl==2.21.5\n",
      "INFO 11-30 23:50:32 pynccl.py:69] vLLM is using nccl==2.21.5\n",
      "\u001b[1;36m(VllmWorkerProcess pid=373)\u001b[0;0m INFO 11-30 23:50:32 pynccl.py:69] vLLM is using nccl==2.21.5\n",
      "INFO 11-30 23:50:33 custom_all_reduce_utils.py:204] generating GPU P2P access cache in /root/.cache/vllm/gpu_p2p_access_cache_for_0,1,2,3.json\n",
      "INFO 11-30 23:50:51 custom_all_reduce_utils.py:242] reading GPU P2P access cache from /root/.cache/vllm/gpu_p2p_access_cache_for_0,1,2,3.json\n",
      "\u001b[1;36m(VllmWorkerProcess pid=373)\u001b[0;0m \u001b[1;36m(VllmWorkerProcess pid=371)\u001b[0;0m \u001b[1;36m(VllmWorkerProcess pid=372)\u001b[0;0m INFO 11-30 23:50:51 custom_all_reduce_utils.py:242] reading GPU P2P access cache from /root/.cache/vllm/gpu_p2p_access_cache_for_0,1,2,3.json\n",
      "INFO 11-30 23:50:51 custom_all_reduce_utils.py:242] reading GPU P2P access cache from /root/.cache/vllm/gpu_p2p_access_cache_for_0,1,2,3.json\n",
      "INFO 11-30 23:50:51 custom_all_reduce_utils.py:242] reading GPU P2P access cache from /root/.cache/vllm/gpu_p2p_access_cache_for_0,1,2,3.json\n",
      "INFO 11-30 23:50:51 shm_broadcast.py:236] vLLM message queue communication handle: Handle(connect_ip='127.0.0.1', local_reader_ranks=[1, 2, 3], buffer=<vllm.distributed.device_communicators.shm_broadcast.ShmRingBuffer object at 0x7c3c048693f0>, local_subscribe_port=59701, remote_subscribe_port=None)\n",
      "INFO 11-30 23:50:51 model_runner.py:1072] Starting to load model meta-llama/Llama-3.1-70B-Instruct...\n",
      "\u001b[1;36m(VllmWorkerProcess pid=371)\u001b[0;0m \u001b[1;36m(VllmWorkerProcess pid=372)\u001b[0;0m \u001b[1;36m(VllmWorkerProcess pid=373)\u001b[0;0m INFO 11-30 23:50:51 model_runner.py:1072] Starting to load model meta-llama/Llama-3.1-70B-Instruct...\n",
      "INFO 11-30 23:50:51 model_runner.py:1072] Starting to load model meta-llama/Llama-3.1-70B-Instruct...\n",
      "INFO 11-30 23:50:51 model_runner.py:1072] Starting to load model meta-llama/Llama-3.1-70B-Instruct...\n",
      "INFO 11-30 23:50:51 weight_utils.py:243] Using model weights format ['*.safetensors']\n",
      "\u001b[1;36m(VllmWorkerProcess pid=372)\u001b[0;0m INFO 11-30 23:50:51 weight_utils.py:243] Using model weights format ['*.safetensors']\n",
      "\u001b[1;36m(VllmWorkerProcess pid=373)\u001b[0;0m INFO 11-30 23:50:51 weight_utils.py:243] Using model weights format ['*.safetensors']\n",
      "\u001b[1;36m(VllmWorkerProcess pid=371)\u001b[0;0m INFO 11-30 23:50:51 weight_utils.py:243] Using model weights format ['*.safetensors']\n"
     ]
    },
    {
     "data": {
      "application/vnd.jupyter.widget-view+json": {
       "model_id": "74bba015d4b946e3850e2a755b21d032",
       "version_major": 2,
       "version_minor": 0
      },
      "text/plain": [
       "model-00008-of-00030.safetensors:   0%|          | 0.00/5.00G [00:00<?, ?B/s]"
      ]
     },
     "metadata": {},
     "output_type": "display_data"
    },
    {
     "data": {
      "application/vnd.jupyter.widget-view+json": {
       "model_id": "4870fb21d3ce44eb9fbb548b57eb98e7",
       "version_major": 2,
       "version_minor": 0
      },
      "text/plain": [
       "model-00001-of-00030.safetensors:   0%|          | 0.00/4.58G [00:00<?, ?B/s]"
      ]
     },
     "metadata": {},
     "output_type": "display_data"
    },
    {
     "data": {
      "application/vnd.jupyter.widget-view+json": {
       "model_id": "b001e3ddf8af441189ef02488b1f47d1",
       "version_major": 2,
       "version_minor": 0
      },
      "text/plain": [
       "model-00006-of-00030.safetensors:   0%|          | 0.00/4.66G [00:00<?, ?B/s]"
      ]
     },
     "metadata": {},
     "output_type": "display_data"
    },
    {
     "data": {
      "application/vnd.jupyter.widget-view+json": {
       "model_id": "050714e20e304581aa43f49ca7a92ea9",
       "version_major": 2,
       "version_minor": 0
      },
      "text/plain": [
       "model-00005-of-00030.safetensors:   0%|          | 0.00/4.66G [00:00<?, ?B/s]"
      ]
     },
     "metadata": {},
     "output_type": "display_data"
    },
    {
     "data": {
      "application/vnd.jupyter.widget-view+json": {
       "model_id": "1900b0c7c914414393bd7c2b38e9566c",
       "version_major": 2,
       "version_minor": 0
      },
      "text/plain": [
       "model-00003-of-00030.safetensors:   0%|          | 0.00/5.00G [00:00<?, ?B/s]"
      ]
     },
     "metadata": {},
     "output_type": "display_data"
    },
    {
     "data": {
      "application/vnd.jupyter.widget-view+json": {
       "model_id": "d4c6b50b20f34ee6986ac85c8c2a7ebc",
       "version_major": 2,
       "version_minor": 0
      },
      "text/plain": [
       "model-00007-of-00030.safetensors:   0%|          | 0.00/4.66G [00:00<?, ?B/s]"
      ]
     },
     "metadata": {},
     "output_type": "display_data"
    },
    {
     "data": {
      "application/vnd.jupyter.widget-view+json": {
       "model_id": "3b4099c06efc4c97af630faa7ec6f9ad",
       "version_major": 2,
       "version_minor": 0
      },
      "text/plain": [
       "model-00004-of-00030.safetensors:   0%|          | 0.00/4.97G [00:00<?, ?B/s]"
      ]
     },
     "metadata": {},
     "output_type": "display_data"
    },
    {
     "data": {
      "application/vnd.jupyter.widget-view+json": {
       "model_id": "b348b5d270cf4b7a952ca1c048c4107c",
       "version_major": 2,
       "version_minor": 0
      },
      "text/plain": [
       "model-00002-of-00030.safetensors:   0%|          | 0.00/4.66G [00:00<?, ?B/s]"
      ]
     },
     "metadata": {},
     "output_type": "display_data"
    },
    {
     "data": {
      "application/vnd.jupyter.widget-view+json": {
       "model_id": "ba535fb714854029acffbcfa0f90e0ab",
       "version_major": 2,
       "version_minor": 0
      },
      "text/plain": [
       "model-00009-of-00030.safetensors:   0%|          | 0.00/4.97G [00:00<?, ?B/s]"
      ]
     },
     "metadata": {},
     "output_type": "display_data"
    },
    {
     "data": {
      "application/vnd.jupyter.widget-view+json": {
       "model_id": "eead71c7d3534182a5a28c3d37224cb5",
       "version_major": 2,
       "version_minor": 0
      },
      "text/plain": [
       "model-00011-of-00030.safetensors:   0%|          | 0.00/4.66G [00:00<?, ?B/s]"
      ]
     },
     "metadata": {},
     "output_type": "display_data"
    },
    {
     "data": {
      "application/vnd.jupyter.widget-view+json": {
       "model_id": "7ecd226a10e24ba29862053cfed9c98f",
       "version_major": 2,
       "version_minor": 0
      },
      "text/plain": [
       "model-00010-of-00030.safetensors:   0%|          | 0.00/4.66G [00:00<?, ?B/s]"
      ]
     },
     "metadata": {},
     "output_type": "display_data"
    },
    {
     "data": {
      "application/vnd.jupyter.widget-view+json": {
       "model_id": "2274eff58ad648e8bbd8f906a62a3546",
       "version_major": 2,
       "version_minor": 0
      },
      "text/plain": [
       "model-00012-of-00030.safetensors:   0%|          | 0.00/4.66G [00:00<?, ?B/s]"
      ]
     },
     "metadata": {},
     "output_type": "display_data"
    },
    {
     "data": {
      "application/vnd.jupyter.widget-view+json": {
       "model_id": "c76b9055374f41cb9f3fbad62e3e5d53",
       "version_major": 2,
       "version_minor": 0
      },
      "text/plain": [
       "model-00013-of-00030.safetensors:   0%|          | 0.00/5.00G [00:00<?, ?B/s]"
      ]
     },
     "metadata": {},
     "output_type": "display_data"
    },
    {
     "data": {
      "application/vnd.jupyter.widget-view+json": {
       "model_id": "7666cd13442741cbaaa4d639f06b4c95",
       "version_major": 2,
       "version_minor": 0
      },
      "text/plain": [
       "model-00014-of-00030.safetensors:   0%|          | 0.00/4.97G [00:00<?, ?B/s]"
      ]
     },
     "metadata": {},
     "output_type": "display_data"
    },
    {
     "data": {
      "application/vnd.jupyter.widget-view+json": {
       "model_id": "b93aa75e1c984fd8bf1b91b158b91534",
       "version_major": 2,
       "version_minor": 0
      },
      "text/plain": [
       "model-00016-of-00030.safetensors:   0%|          | 0.00/4.66G [00:00<?, ?B/s]"
      ]
     },
     "metadata": {},
     "output_type": "display_data"
    },
    {
     "data": {
      "application/vnd.jupyter.widget-view+json": {
       "model_id": "cdcf6aea0f924ef5a0467640887f9b7d",
       "version_major": 2,
       "version_minor": 0
      },
      "text/plain": [
       "model-00015-of-00030.safetensors:   0%|          | 0.00/4.66G [00:00<?, ?B/s]"
      ]
     },
     "metadata": {},
     "output_type": "display_data"
    },
    {
     "data": {
      "application/vnd.jupyter.widget-view+json": {
       "model_id": "5ab5b8610928488ca1913ddde310add1",
       "version_major": 2,
       "version_minor": 0
      },
      "text/plain": [
       "model-00017-of-00030.safetensors:   0%|          | 0.00/4.66G [00:00<?, ?B/s]"
      ]
     },
     "metadata": {},
     "output_type": "display_data"
    },
    {
     "data": {
      "application/vnd.jupyter.widget-view+json": {
       "model_id": "c50a60ef27e4406c81f67b745f88a338",
       "version_major": 2,
       "version_minor": 0
      },
      "text/plain": [
       "model-00019-of-00030.safetensors:   0%|          | 0.00/4.97G [00:00<?, ?B/s]"
      ]
     },
     "metadata": {},
     "output_type": "display_data"
    },
    {
     "data": {
      "application/vnd.jupyter.widget-view+json": {
       "model_id": "ce8a46891b254be3b882526d286c1581",
       "version_major": 2,
       "version_minor": 0
      },
      "text/plain": [
       "model-00018-of-00030.safetensors:   0%|          | 0.00/5.00G [00:00<?, ?B/s]"
      ]
     },
     "metadata": {},
     "output_type": "display_data"
    },
    {
     "data": {
      "application/vnd.jupyter.widget-view+json": {
       "model_id": "00a75dee996f41ed88d492fde4f5cb75",
       "version_major": 2,
       "version_minor": 0
      },
      "text/plain": [
       "model-00020-of-00030.safetensors:   0%|          | 0.00/4.66G [00:00<?, ?B/s]"
      ]
     },
     "metadata": {},
     "output_type": "display_data"
    },
    {
     "data": {
      "application/vnd.jupyter.widget-view+json": {
       "model_id": "8db74cf4a1984db4ac72d258d5a88be3",
       "version_major": 2,
       "version_minor": 0
      },
      "text/plain": [
       "model-00021-of-00030.safetensors:   0%|          | 0.00/4.66G [00:00<?, ?B/s]"
      ]
     },
     "metadata": {},
     "output_type": "display_data"
    },
    {
     "data": {
      "application/vnd.jupyter.widget-view+json": {
       "model_id": "f541728333f34f09a358d5aa3d067a52",
       "version_major": 2,
       "version_minor": 0
      },
      "text/plain": [
       "model-00022-of-00030.safetensors:   0%|          | 0.00/4.66G [00:00<?, ?B/s]"
      ]
     },
     "metadata": {},
     "output_type": "display_data"
    },
    {
     "data": {
      "application/vnd.jupyter.widget-view+json": {
       "model_id": "8cf20980ef6743a58018b1a932a915bc",
       "version_major": 2,
       "version_minor": 0
      },
      "text/plain": [
       "model-00023-of-00030.safetensors:   0%|          | 0.00/5.00G [00:00<?, ?B/s]"
      ]
     },
     "metadata": {},
     "output_type": "display_data"
    },
    {
     "data": {
      "application/vnd.jupyter.widget-view+json": {
       "model_id": "7592fa383317428fac5c4d807c7413d7",
       "version_major": 2,
       "version_minor": 0
      },
      "text/plain": [
       "model-00024-of-00030.safetensors:   0%|          | 0.00/4.97G [00:00<?, ?B/s]"
      ]
     },
     "metadata": {},
     "output_type": "display_data"
    },
    {
     "data": {
      "application/vnd.jupyter.widget-view+json": {
       "model_id": "b3bb1cb701c8473c9fd844227e82662f",
       "version_major": 2,
       "version_minor": 0
      },
      "text/plain": [
       "model-00025-of-00030.safetensors:   0%|          | 0.00/4.66G [00:00<?, ?B/s]"
      ]
     },
     "metadata": {},
     "output_type": "display_data"
    },
    {
     "data": {
      "application/vnd.jupyter.widget-view+json": {
       "model_id": "3ad57ac5b008430fb089b4b889b2ceab",
       "version_major": 2,
       "version_minor": 0
      },
      "text/plain": [
       "model-00026-of-00030.safetensors:   0%|          | 0.00/4.66G [00:00<?, ?B/s]"
      ]
     },
     "metadata": {},
     "output_type": "display_data"
    },
    {
     "data": {
      "application/vnd.jupyter.widget-view+json": {
       "model_id": "9cbced38ede5484c8c18a3cd2a4ee6de",
       "version_major": 2,
       "version_minor": 0
      },
      "text/plain": [
       "model-00027-of-00030.safetensors:   0%|          | 0.00/4.66G [00:00<?, ?B/s]"
      ]
     },
     "metadata": {},
     "output_type": "display_data"
    },
    {
     "data": {
      "application/vnd.jupyter.widget-view+json": {
       "model_id": "2ffd0e497a604f2bb77c84e6f4129d68",
       "version_major": 2,
       "version_minor": 0
      },
      "text/plain": [
       "model-00030-of-00030.safetensors:   0%|          | 0.00/2.10G [00:00<?, ?B/s]"
      ]
     },
     "metadata": {},
     "output_type": "display_data"
    },
    {
     "data": {
      "application/vnd.jupyter.widget-view+json": {
       "model_id": "4a1b3777385f40ba9ec76e933cfbfa3e",
       "version_major": 2,
       "version_minor": 0
      },
      "text/plain": [
       "model-00028-of-00030.safetensors:   0%|          | 0.00/5.00G [00:00<?, ?B/s]"
      ]
     },
     "metadata": {},
     "output_type": "display_data"
    },
    {
     "data": {
      "application/vnd.jupyter.widget-view+json": {
       "model_id": "9b796e54d989409e9f78803186a3e672",
       "version_major": 2,
       "version_minor": 0
      },
      "text/plain": [
       "model-00029-of-00030.safetensors:   0%|          | 0.00/4.97G [00:00<?, ?B/s]"
      ]
     },
     "metadata": {},
     "output_type": "display_data"
    },
    {
     "data": {
      "application/vnd.jupyter.widget-view+json": {
       "model_id": "2fb8dfdc3ebf4b7db2d7f3ef5a9b0ad3",
       "version_major": 2,
       "version_minor": 0
      },
      "text/plain": [
       "model.safetensors.index.json:   0%|          | 0.00/59.6k [00:00<?, ?B/s]"
      ]
     },
     "metadata": {},
     "output_type": "display_data"
    },
    {
     "data": {
      "application/vnd.jupyter.widget-view+json": {
       "model_id": "283d8a58d5214b7ab8383243f3b7dc90",
       "version_major": 2,
       "version_minor": 0
      },
      "text/plain": [
       "Loading safetensors checkpoint shards:   0% Completed | 0/30 [00:00<?, ?it/s]\n"
      ]
     },
     "metadata": {},
     "output_type": "display_data"
    },
    {
     "name": "stdout",
     "output_type": "stream",
     "text": [
      "\u001b[1;36m(VllmWorkerProcess pid=372)\u001b[0;0m INFO 11-30 23:58:45 model_runner.py:1077] Loading model weights took 32.8892 GB\n",
      "\u001b[1;36m(VllmWorkerProcess pid=371)\u001b[0;0m INFO 11-30 23:58:45 model_runner.py:1077] Loading model weights took 32.8892 GB\n",
      "INFO 11-30 23:58:45 model_runner.py:1077] Loading model weights took 32.8892 GB\n",
      "\u001b[1;36m(VllmWorkerProcess pid=373)\u001b[0;0m INFO 11-30 23:58:45 model_runner.py:1077] Loading model weights took 32.8892 GB\n",
      "\u001b[1;36m(VllmWorkerProcess pid=371)\u001b[0;0m \u001b[1;36m(VllmWorkerProcess pid=373)\u001b[0;0m \u001b[1;36m(VllmWorkerProcess pid=372)\u001b[0;0m INFO 11-30 23:58:47 worker.py:232] Memory profiling results: total_gpu_memory=79.15GiB initial_memory_usage=34.38GiB peak_torch_memory=33.26GiB memory_usage_post_profile=35.45GiB non_torch_memory=2.54GiB kv_cache_size=35.44GiB gpu_memory_utilization=0.90\n",
      "INFO 11-30 23:58:47 worker.py:232] Memory profiling results: total_gpu_memory=79.15GiB initial_memory_usage=34.24GiB peak_torch_memory=33.26GiB memory_usage_post_profile=35.17GiB non_torch_memory=2.26GiB kv_cache_size=35.72GiB gpu_memory_utilization=0.90\n",
      "INFO 11-30 23:58:47 worker.py:232] Memory profiling results: total_gpu_memory=79.15GiB initial_memory_usage=34.38GiB peak_torch_memory=33.26GiB memory_usage_post_profile=35.45GiB non_torch_memory=2.54GiB kv_cache_size=35.44GiB gpu_memory_utilization=0.90\n",
      "INFO 11-30 23:58:47 worker.py:232] Memory profiling results: total_gpu_memory=79.15GiB initial_memory_usage=34.24GiB peak_torch_memory=34.13GiB memory_usage_post_profile=35.54GiB non_torch_memory=2.64GiB kv_cache_size=34.47GiB gpu_memory_utilization=0.90\n",
      "INFO 11-30 23:58:48 distributed_gpu_executor.py:57] # GPU blocks: 28234, # CPU blocks: 3276\n",
      "INFO 11-30 23:58:48 distributed_gpu_executor.py:61] Maximum concurrency for 4096 tokens per request: 110.29x\n",
      "\u001b[1;36m(VllmWorkerProcess pid=373)\u001b[0;0m INFO 11-30 23:58:50 model_runner.py:1400] Capturing cudagraphs for decoding. This may lead to unexpected consequences if the model is not static. To run the model in eager mode, set 'enforce_eager=True' or use '--enforce-eager' in the CLI.\n",
      "\u001b[1;36m(VllmWorkerProcess pid=373)\u001b[0;0m INFO 11-30 23:58:50 model_runner.py:1404] If out-of-memory error occurs during cudagraph capture, consider decreasing `gpu_memory_utilization` or switching to eager mode. You can also reduce the `max_num_seqs` as needed to decrease memory usage.\n",
      "INFO 11-30 23:58:50 model_runner.py:1400] Capturing cudagraphs for decoding. This may lead to unexpected consequences if the model is not static. To run the model in eager mode, set 'enforce_eager=True' or use '--enforce-eager' in the CLI.\n",
      "INFO 11-30 23:58:50 model_runner.py:1404] If out-of-memory error occurs during cudagraph capture, consider decreasing `gpu_memory_utilization` or switching to eager mode. You can also reduce the `max_num_seqs` as needed to decrease memory usage.\n",
      "\u001b[1;36m(VllmWorkerProcess pid=372)\u001b[0;0m \u001b[1;36m(VllmWorkerProcess pid=371)\u001b[0;0m INFO 11-30 23:58:50 model_runner.py:1400] Capturing cudagraphs for decoding. This may lead to unexpected consequences if the model is not static. To run the model in eager mode, set 'enforce_eager=True' or use '--enforce-eager' in the CLI.\n",
      "INFO 11-30 23:58:50 model_runner.py:1400] Capturing cudagraphs for decoding. This may lead to unexpected consequences if the model is not static. To run the model in eager mode, set 'enforce_eager=True' or use '--enforce-eager' in the CLI.\n",
      "\u001b[1;36m(VllmWorkerProcess pid=371)\u001b[0;0m \u001b[1;36m(VllmWorkerProcess pid=372)\u001b[0;0m INFO 11-30 23:58:50 model_runner.py:1404] If out-of-memory error occurs during cudagraph capture, consider decreasing `gpu_memory_utilization` or switching to eager mode. You can also reduce the `max_num_seqs` as needed to decrease memory usage.\n",
      "INFO 11-30 23:58:50 model_runner.py:1404] If out-of-memory error occurs during cudagraph capture, consider decreasing `gpu_memory_utilization` or switching to eager mode. You can also reduce the `max_num_seqs` as needed to decrease memory usage.\n",
      "\u001b[1;36m(VllmWorkerProcess pid=373)\u001b[0;0m INFO 11-30 23:59:05 custom_all_reduce.py:224] Registering 5635 cuda graph addresses\n",
      "\u001b[1;36m(VllmWorkerProcess pid=371)\u001b[0;0m \u001b[1;36m(VllmWorkerProcess pid=372)\u001b[0;0m INFO 11-30 23:59:05 custom_all_reduce.py:224] Registering 5635 cuda graph addresses\n",
      "INFO 11-30 23:59:05 custom_all_reduce.py:224] Registering 5635 cuda graph addresses\n",
      "INFO 11-30 23:59:06 custom_all_reduce.py:224] Registering 5635 cuda graph addresses\n",
      "\u001b[1;36m(VllmWorkerProcess pid=373)\u001b[0;0m INFO 11-30 23:59:06 model_runner.py:1518] Graph capturing finished in 16 secs, took 0.43 GiB\n",
      "INFO 11-30 23:59:06 model_runner.py:1518] Graph capturing finished in 16 secs, took 0.43 GiB\n",
      "\u001b[1;36m(VllmWorkerProcess pid=372)\u001b[0;0m \u001b[1;36m(VllmWorkerProcess pid=371)\u001b[0;0m INFO 11-30 23:59:06 model_runner.py:1518] Graph capturing finished in 16 secs, took 0.43 GiB\n",
      "INFO 11-30 23:59:06 model_runner.py:1518] Graph capturing finished in 16 secs, took 0.43 GiB\n"
     ]
    }
   ],
   "source": [
    "llm = LLM(model=model_id, max_model_len=4096, tensor_parallel_size=4)"
   ]
  },
  {
   "cell_type": "code",
   "execution_count": null,
   "id": "f743e9b0-b627-4ec9-aaf4-a4060c763212",
   "metadata": {},
   "outputs": [
    {
     "data": {
      "application/vnd.jupyter.widget-view+json": {
       "model_id": "b01a91b3591048ddaa27cd3341bc7354",
       "version_major": 2,
       "version_minor": 0
      },
      "text/plain": [
       "Map:   0%|          | 0/1000000 [00:00<?, ? examples/s]"
      ]
     },
     "metadata": {},
     "output_type": "display_data"
    },
    {
     "name": "stderr",
     "output_type": "stream",
     "text": [
      "\n",
      "Processed prompts:   0% 0/512 [00:00<?, ?it/s, est. speed input: 0.00 toks/s, output: 0.00 toks/s]\u001b[A\n",
      "Processed prompts:   0% 1/512 [00:11<1:38:07, 11.52s/it, est. speed input: 5.90 toks/s, output: 0.52 toks/s]\u001b[A\n",
      "Processed prompts:   1% 6/512 [00:11<12:25,  1.47s/it, est. speed input: 38.23 toks/s, output: 3.54 toks/s] \u001b[A\n",
      "Processed prompts:   3% 13/512 [00:12<04:48,  1.73it/s, est. speed input: 84.25 toks/s, output: 8.60 toks/s]\u001b[A\n",
      "Processed prompts:   4% 19/512 [00:12<02:50,  2.89it/s, est. speed input: 190.47 toks/s, output: 13.23 toks/s]\u001b[A\n",
      "Processed prompts:   5% 26/512 [00:13<01:54,  4.23it/s, est. speed input: 294.44 toks/s, output: 18.53 toks/s]\u001b[A\n",
      "Processed prompts:   6% 32/512 [00:13<01:21,  5.91it/s, est. speed input: 364.48 toks/s, output: 23.63 toks/s]\u001b[A\n",
      "Processed prompts:   9% 47/512 [00:14<00:50,  9.24it/s, est. speed input: 467.65 toks/s, output: 35.88 toks/s]\u001b[A\n",
      "Processed prompts:  12% 60/512 [00:14<00:35, 12.68it/s, est. speed input: 637.10 toks/s, output: 47.12 toks/s]\u001b[A\n",
      "Processed prompts:  15% 77/512 [00:15<00:28, 15.33it/s, est. speed input: 850.68 toks/s, output: 61.12 toks/s]\u001b[A\n",
      "Processed prompts:  18% 94/512 [00:16<00:23, 17.99it/s, est. speed input: 1010.75 toks/s, output: 74.98 toks/s]\u001b[A\n",
      "Processed prompts:  21% 110/512 [00:16<00:20, 19.50it/s, est. speed input: 1212.48 toks/s, output: 87.09 toks/s]\u001b[A\n",
      "Processed prompts:  25% 128/512 [00:17<00:17, 21.83it/s, est. speed input: 1408.34 toks/s, output: 101.92 toks/s]\u001b[A\n",
      "Processed prompts:  26% 132/512 [00:17<00:19, 19.54it/s, est. speed input: 1421.26 toks/s, output: 103.95 toks/s]\u001b[A\n",
      "Processed prompts:  29% 149/512 [00:18<00:16, 21.64it/s, est. speed input: 1545.31 toks/s, output: 117.45 toks/s]\u001b[A\n",
      "Processed prompts:  31% 159/512 [00:19<00:16, 20.96it/s, est. speed input: 1637.99 toks/s, output: 123.48 toks/s]\u001b[A\n",
      "Processed prompts:  33% 167/512 [00:19<00:15, 22.90it/s, est. speed input: 1694.43 toks/s, output: 130.50 toks/s]\u001b[A\n",
      "Processed prompts:  36% 182/512 [00:20<00:17, 18.87it/s, est. speed input: 1827.50 toks/s, output: 140.23 toks/s]\u001b[A\n",
      "Processed prompts:  37% 189/512 [00:20<00:17, 18.53it/s, est. speed input: 1878.38 toks/s, output: 144.26 toks/s]\u001b[A\n",
      "Processed prompts:  40% 204/512 [00:21<00:15, 20.03it/s, est. speed input: 1990.97 toks/s, output: 153.31 toks/s]\u001b[A\n",
      "Processed prompts:  42% 216/512 [00:21<00:13, 21.48it/s, est. speed input: 2045.29 toks/s, output: 161.77 toks/s]\u001b[A\n",
      "Processed prompts:  44% 225/512 [00:22<00:13, 21.78it/s, est. speed input: 2117.40 toks/s, output: 167.59 toks/s]\u001b[A\n",
      "Processed prompts:  47% 241/512 [00:23<00:12, 22.33it/s, est. speed input: 2220.55 toks/s, output: 177.21 toks/s]\u001b[A\n",
      "Processed prompts:  49% 252/512 [00:23<00:12, 20.27it/s, est. speed input: 2250.79 toks/s, output: 181.27 toks/s]\u001b[A\n",
      "Processed prompts:  52% 266/512 [00:23<00:09, 27.22it/s, est. speed input: 2388.03 toks/s, output: 191.42 toks/s]\u001b[A\n",
      "Processed prompts:  55% 281/512 [00:24<00:06, 35.29it/s, est. speed input: 2511.14 toks/s, output: 202.98 toks/s]\u001b[A\n",
      "Processed prompts:  60% 306/512 [00:24<00:03, 53.49it/s, est. speed input: 2745.85 toks/s, output: 223.39 toks/s]\u001b[A\n",
      "Processed prompts:  64% 330/512 [00:24<00:02, 71.11it/s, est. speed input: 3003.04 toks/s, output: 243.83 toks/s]\u001b[A\n",
      "Processed prompts:  72% 371/512 [00:24<00:01, 111.00it/s, est. speed input: 3441.10 toks/s, output: 280.44 toks/s]\u001b[A\n",
      "Processed prompts:  77% 393/512 [00:24<00:00, 123.92it/s, est. speed input: 3590.13 toks/s, output: 295.54 toks/s]\u001b[A\n",
      "Processed prompts:  80% 411/512 [00:24<00:00, 132.26it/s, est. speed input: 3763.81 toks/s, output: 310.18 toks/s]\u001b[A\n",
      "Processed prompts:  85% 437/512 [00:24<00:00, 144.22it/s, est. speed input: 3971.40 toks/s, output: 332.81 toks/s]\u001b[A\n",
      "Processed prompts:  89% 454/512 [00:25<00:00, 139.92it/s, est. speed input: 4128.06 toks/s, output: 347.54 toks/s]\u001b[A\n",
      "Processed prompts:  92% 472/512 [00:25<00:00, 143.31it/s, est. speed input: 4303.31 toks/s, output: 364.17 toks/s]\u001b[A\n",
      "Processed prompts:  95% 488/512 [00:25<00:00, 100.92it/s, est. speed input: 4390.19 toks/s, output: 381.63 toks/s]\u001b[A\n",
      "Processed prompts:  98% 501/512 [00:25<00:00, 76.16it/s, est. speed input: 4507.31 toks/s, output: 398.94 toks/s] \u001b[A\n",
      "Processed prompts: 100% 512/512 [00:34<00:00, 15.00it/s, est. speed input: 3524.83 toks/s, output: 329.65 toks/s]\u001b[A\n",
      "\n",
      "Processed prompts:   0% 0/512 [00:00<?, ?it/s, est. speed input: 0.00 toks/s, output: 0.00 toks/s]\u001b[A\n",
      "Processed prompts:   0% 1/512 [00:10<1:26:59, 10.21s/it, est. speed input: 5.29 toks/s, output: 0.49 toks/s]\u001b[A\n",
      "Processed prompts:   1% 4/512 [00:10<17:21,  2.05s/it, est. speed input: 24.03 toks/s, output: 2.25 toks/s] \u001b[A\n",
      "Processed prompts:   2% 9/512 [00:11<06:17,  1.33it/s, est. speed input: 62.20 toks/s, output: 5.79 toks/s]\u001b[A\n",
      "Processed prompts:   3% 14/512 [00:11<03:25,  2.42it/s, est. speed input: 105.75 toks/s, output: 9.73 toks/s]\u001b[A\n",
      "Processed prompts:   4% 22/512 [00:11<01:54,  4.26it/s, est. speed input: 177.90 toks/s, output: 16.05 toks/s]\u001b[A\n",
      "Processed prompts:   6% 29/512 [00:12<01:16,  6.30it/s, est. speed input: 219.48 toks/s, output: 22.05 toks/s]\u001b[A\n",
      "Processed prompts:   7% 34/512 [00:12<01:02,  7.65it/s, est. speed input: 284.67 toks/s, output: 26.38 toks/s]\u001b[A\n",
      "Processed prompts:  10% 52/512 [00:13<00:31, 14.40it/s, est. speed input: 506.13 toks/s, output: 43.41 toks/s]\u001b[A\n",
      "Processed prompts:  14% 71/512 [00:14<00:27, 16.07it/s, est. speed input: 709.18 toks/s, output: 59.24 toks/s]\u001b[A\n",
      "Processed prompts:  17% 88/512 [00:14<00:22, 18.89it/s, est. speed input: 876.75 toks/s, output: 74.10 toks/s]\u001b[A\n",
      "Processed prompts:  21% 106/512 [00:15<00:21, 18.77it/s, est. speed input: 1074.62 toks/s, output: 87.52 toks/s]\u001b[A\n",
      "Processed prompts:  23% 116/512 [00:16<00:20, 19.52it/s, est. speed input: 1107.60 toks/s, output: 95.06 toks/s]\u001b[A\n",
      "Processed prompts:  28% 141/512 [00:17<00:19, 19.09it/s, est. speed input: 1350.11 toks/s, output: 113.58 toks/s]\u001b[A\n",
      "Processed prompts:  31% 157/512 [00:18<00:17, 20.45it/s, est. speed input: 1482.63 toks/s, output: 126.40 toks/s]\u001b[A\n",
      "Processed prompts:  32% 165/512 [00:18<00:18, 18.69it/s, est. speed input: 1532.54 toks/s, output: 130.90 toks/s]\u001b[A\n",
      "Processed prompts:  35% 179/512 [00:19<00:17, 19.15it/s, est. speed input: 1609.56 toks/s, output: 138.37 toks/s]\u001b[A\n",
      "Processed prompts:  39% 198/512 [00:20<00:16, 19.10it/s, est. speed input: 1748.40 toks/s, output: 150.43 toks/s]\u001b[A\n",
      "Processed prompts:  41% 210/512 [00:20<00:14, 21.36it/s, est. speed input: 1856.49 toks/s, output: 158.32 toks/s]\u001b[A\n",
      "Processed prompts:  42% 217/512 [00:21<00:14, 20.40it/s, est. speed input: 1905.00 toks/s, output: 162.48 toks/s]\u001b[A\n",
      "Processed prompts:  45% 229/512 [00:21<00:12, 22.02it/s, est. speed input: 2001.70 toks/s, output: 168.87 toks/s]\u001b[A\n",
      "Processed prompts:  46% 237/512 [00:22<00:13, 19.83it/s, est. speed input: 2046.72 toks/s, output: 170.98 toks/s]\u001b[A\n",
      "Processed prompts:  49% 249/512 [00:22<00:12, 21.06it/s, est. speed input: 2105.01 toks/s, output: 177.36 toks/s]\u001b[A\n",
      "Processed prompts:  51% 263/512 [00:23<00:11, 22.10it/s, est. speed input: 2251.78 toks/s, output: 186.24 toks/s]\u001b[A\n",
      "Processed prompts:  56% 288/512 [00:23<00:06, 36.62it/s, est. speed input: 2405.26 toks/s, output: 203.85 toks/s]\u001b[A\n",
      "Processed prompts:  61% 310/512 [00:23<00:04, 50.17it/s, est. speed input: 2575.78 toks/s, output: 219.15 toks/s]\u001b[A\n",
      "Processed prompts:  66% 337/512 [00:23<00:02, 69.74it/s, est. speed input: 2787.58 toks/s, output: 240.06 toks/s]\u001b[A\n",
      "Processed prompts:  72% 369/512 [00:23<00:01, 95.75it/s, est. speed input: 3144.37 toks/s, output: 267.04 toks/s]\u001b[A\n",
      "Processed prompts:  77% 394/512 [00:23<00:01, 114.63it/s, est. speed input: 3389.40 toks/s, output: 289.07 toks/s]\u001b[A\n",
      "Processed prompts:  80% 411/512 [00:24<00:00, 123.07it/s, est. speed input: 3562.46 toks/s, output: 304.76 toks/s]\u001b[A\n",
      "Processed prompts:  84% 428/512 [00:24<00:00, 120.59it/s, est. speed input: 3699.84 toks/s, output: 319.29 toks/s]\u001b[A\n",
      "Processed prompts:  88% 453/512 [00:24<00:00, 136.73it/s, est. speed input: 3936.26 toks/s, output: 343.08 toks/s]\u001b[A\n",
      "Processed prompts:  93% 476/512 [00:24<00:00, 151.64it/s, est. speed input: 4192.61 toks/s, output: 367.97 toks/s]\u001b[A\n",
      "Processed prompts:  96% 494/512 [00:24<00:00, 108.75it/s, est. speed input: 4372.60 toks/s, output: 389.65 toks/s]\u001b[A\n",
      "Processed prompts: 100% 512/512 [00:25<00:00, 19.74it/s, est. speed input: 4430.52 toks/s, output: 407.34 toks/s] \u001b[A\n",
      "\n",
      "Processed prompts:   0% 0/512 [00:00<?, ?it/s, est. speed input: 0.00 toks/s, output: 0.00 toks/s]\u001b[A\n",
      "Processed prompts:   0% 1/512 [00:10<1:33:12, 10.94s/it, est. speed input: 5.39 toks/s, output: 0.46 toks/s]\u001b[A\n",
      "Processed prompts:   1% 7/512 [00:11<10:06,  1.20s/it, est. speed input: 42.52 toks/s, output: 3.70 toks/s] \u001b[A\n",
      "Processed prompts:   2% 10/512 [00:11<06:18,  1.33it/s, est. speed input: 83.07 toks/s, output: 5.57 toks/s]\u001b[A\n",
      "Processed prompts:   3% 14/512 [00:11<03:59,  2.08it/s, est. speed input: 134.32 toks/s, output: 8.12 toks/s]\u001b[A\n",
      "Processed prompts:   3% 17/512 [00:12<02:52,  2.87it/s, est. speed input: 154.08 toks/s, output: 10.31 toks/s]\u001b[A\n",
      "Processed prompts:   5% 27/512 [00:12<01:23,  5.81it/s, est. speed input: 289.71 toks/s, output: 17.85 toks/s]\u001b[A\n",
      "Processed prompts:   7% 38/512 [00:13<00:54,  8.76it/s, est. speed input: 400.74 toks/s, output: 26.28 toks/s]\u001b[A\n",
      "Processed prompts:   9% 46/512 [00:13<00:45, 10.24it/s, est. speed input: 464.06 toks/s, output: 32.34 toks/s]\u001b[A\n",
      "Processed prompts:  11% 55/512 [00:14<00:36, 12.52it/s, est. speed input: 528.79 toks/s, output: 39.69 toks/s]\u001b[A\n",
      "Processed prompts:  13% 67/512 [00:14<00:29, 14.90it/s, est. speed input: 662.29 toks/s, output: 49.60 toks/s]\u001b[A\n",
      "Processed prompts:  16% 81/512 [00:15<00:24, 17.67it/s, est. speed input: 864.63 toks/s, output: 61.52 toks/s]\u001b[A\n",
      "Processed prompts:  19% 97/512 [00:16<00:24, 16.84it/s, est. speed input: 1024.13 toks/s, output: 73.40 toks/s]\u001b[A\n",
      "Processed prompts:  22% 113/512 [00:17<00:21, 18.72it/s, est. speed input: 1171.31 toks/s, output: 86.06 toks/s]\u001b[A\n",
      "Processed prompts:  25% 129/512 [00:18<00:23, 16.32it/s, est. speed input: 1259.42 toks/s, output: 95.57 toks/s]\u001b[A\n",
      "Processed prompts:  27% 140/512 [00:18<00:21, 17.10it/s, est. speed input: 1326.47 toks/s, output: 103.93 toks/s]\u001b[A\n",
      "Processed prompts:  29% 149/512 [00:19<00:22, 16.19it/s, est. speed input: 1394.59 toks/s, output: 109.26 toks/s]\u001b[A\n",
      "Processed prompts:  32% 166/512 [00:20<00:17, 19.55it/s, est. speed input: 1518.33 toks/s, output: 123.35 toks/s]\u001b[A\n",
      "Processed prompts:  36% 183/512 [00:20<00:16, 19.53it/s, est. speed input: 1610.38 toks/s, output: 133.94 toks/s]\u001b[A\n",
      "Processed prompts:  38% 194/512 [00:21<00:15, 20.02it/s, est. speed input: 1725.04 toks/s, output: 139.68 toks/s]\u001b[A\n",
      "Processed prompts:  40% 207/512 [00:22<00:15, 19.34it/s, est. speed input: 1846.15 toks/s, output: 147.83 toks/s]\u001b[A\n",
      "Processed prompts:  43% 218/512 [00:22<00:13, 21.36it/s, est. speed input: 1938.81 toks/s, output: 156.33 toks/s]\u001b[A\n",
      "Processed prompts:  44% 223/512 [00:22<00:15, 19.16it/s, est. speed input: 1956.92 toks/s, output: 157.49 toks/s]\u001b[A\n",
      "Processed prompts:  46% 236/512 [00:23<00:14, 19.06it/s, est. speed input: 2021.53 toks/s, output: 165.34 toks/s]\u001b[A\n",
      "Processed prompts:  49% 250/512 [00:24<00:14, 18.27it/s, est. speed input: 2045.46 toks/s, output: 171.54 toks/s]\u001b[A\n",
      "Processed prompts:  52% 267/512 [00:24<00:09, 24.60it/s, est. speed input: 2236.90 toks/s, output: 183.55 toks/s]\u001b[A\n",
      "Processed prompts:  54% 278/512 [00:24<00:08, 29.14it/s, est. speed input: 2331.59 toks/s, output: 190.90 toks/s]\u001b[A\n",
      "Processed prompts:  58% 299/512 [00:25<00:05, 42.48it/s, est. speed input: 2483.39 toks/s, output: 207.76 toks/s]\u001b[A\n",
      "Processed prompts:  61% 313/512 [00:25<00:04, 49.57it/s, est. speed input: 2588.54 toks/s, output: 215.80 toks/s]\u001b[A\n",
      "Processed prompts:  65% 335/512 [00:25<00:02, 66.45it/s, est. speed input: 2781.62 toks/s, output: 230.99 toks/s]\u001b[A\n",
      "Processed prompts:  70% 360/512 [00:25<00:01, 86.71it/s, est. speed input: 3056.22 toks/s, output: 250.18 toks/s]\u001b[A\n",
      "Processed prompts:  75% 385/512 [00:25<00:01, 108.10it/s, est. speed input: 3298.65 toks/s, output: 271.05 toks/s]\u001b[A\n",
      "Processed prompts:  78% 401/512 [00:25<00:00, 116.16it/s, est. speed input: 3459.01 toks/s, output: 285.79 toks/s]\u001b[A\n",
      "Processed prompts:  82% 418/512 [00:25<00:00, 126.59it/s, est. speed input: 3596.43 toks/s, output: 299.96 toks/s]\u001b[A\n",
      "Processed prompts:  86% 440/512 [00:26<00:00, 133.59it/s, est. speed input: 3815.14 toks/s, output: 323.66 toks/s]\u001b[A\n",
      "Processed prompts:  90% 459/512 [00:26<00:00, 139.25it/s, est. speed input: 4079.64 toks/s, output: 344.09 toks/s]\u001b[A\n",
      "Processed prompts:  93% 475/512 [00:26<00:00, 139.47it/s, est. speed input: 4212.58 toks/s, output: 361.05 toks/s]\u001b[A\n",
      "Processed prompts:  96% 490/512 [00:26<00:00, 109.13it/s, est. speed input: 4411.45 toks/s, output: 380.19 toks/s]\u001b[A\n",
      "Processed prompts: 100% 512/512 [00:29<00:00, 17.45it/s, est. speed input: 4223.13 toks/s, output: 386.18 toks/s] \u001b[A\n",
      "\n",
      "Processed prompts:   0% 0/512 [00:00<?, ?it/s, est. speed input: 0.00 toks/s, output: 0.00 toks/s]\u001b[A\n",
      "Processed prompts:   0% 1/512 [00:10<1:30:06, 10.58s/it, est. speed input: 5.10 toks/s, output: 0.57 toks/s]\u001b[A\n",
      "Processed prompts:   1% 3/512 [00:10<24:20,  2.87s/it, est. speed input: 14.93 toks/s, output: 1.92 toks/s] \u001b[A\n",
      "Processed prompts:   1% 6/512 [00:11<09:35,  1.14s/it, est. speed input: 49.64 toks/s, output: 4.16 toks/s]\u001b[A\n",
      "Processed prompts:   2% 12/512 [00:11<03:50,  2.17it/s, est. speed input: 112.58 toks/s, output: 8.77 toks/s]\u001b[A\n",
      "Processed prompts:   3% 17/512 [00:11<02:22,  3.48it/s, est. speed input: 136.70 toks/s, output: 12.88 toks/s]\u001b[A\n",
      "Processed prompts:   6% 29/512 [00:12<01:10,  6.85it/s, est. speed input: 310.07 toks/s, output: 22.98 toks/s]\u001b[A\n",
      "Processed prompts:   8% 40/512 [00:12<00:43, 10.79it/s, est. speed input: 419.17 toks/s, output: 32.98 toks/s]\u001b[A\n",
      "Processed prompts:  10% 49/512 [00:13<00:38, 12.07it/s, est. speed input: 551.56 toks/s, output: 40.46 toks/s]\u001b[A\n",
      "Processed prompts:  13% 68/512 [00:13<00:26, 16.87it/s, est. speed input: 750.57 toks/s, output: 57.63 toks/s]\u001b[A\n",
      "Processed prompts:  15% 78/512 [00:14<00:26, 16.20it/s, est. speed input: 853.37 toks/s, output: 65.27 toks/s]\u001b[A\n",
      "Processed prompts:  18% 92/512 [00:15<00:22, 18.68it/s, est. speed input: 1007.83 toks/s, output: 77.78 toks/s]\u001b[A\n",
      "Processed prompts:  21% 106/512 [00:15<00:22, 18.21it/s, est. speed input: 1128.11 toks/s, output: 88.82 toks/s]\u001b[A\n",
      "Processed prompts:  23% 118/512 [00:16<00:19, 20.66it/s, est. speed input: 1268.75 toks/s, output: 99.97 toks/s]\u001b[A\n",
      "Processed prompts:  27% 136/512 [00:17<00:19, 19.60it/s, est. speed input: 1401.39 toks/s, output: 112.97 toks/s]\u001b[A\n",
      "Processed prompts:  28% 142/512 [00:17<00:17, 20.90it/s, est. speed input: 1437.54 toks/s, output: 118.69 toks/s]\u001b[A\n",
      "Processed prompts:  30% 154/512 [00:18<00:19, 18.64it/s, est. speed input: 1514.46 toks/s, output: 127.31 toks/s]\u001b[A\n",
      "Processed prompts:  33% 169/512 [00:18<00:15, 22.16it/s, est. speed input: 1693.68 toks/s, output: 140.12 toks/s]\u001b[A\n",
      "Processed prompts:  36% 183/512 [00:19<00:15, 21.61it/s, est. speed input: 1757.86 toks/s, output: 149.03 toks/s]\u001b[A\n",
      "Processed prompts:  38% 197/512 [00:19<00:12, 24.33it/s, est. speed input: 1877.54 toks/s, output: 160.84 toks/s]\u001b[A\n",
      "Processed prompts:  41% 212/512 [00:20<00:12, 23.85it/s, est. speed input: 1974.16 toks/s, output: 171.99 toks/s]\u001b[A\n",
      "Processed prompts:  43% 221/512 [00:20<00:11, 24.46it/s, est. speed input: 2027.80 toks/s, output: 177.24 toks/s]\u001b[A\n",
      "Processed prompts:  45% 229/512 [00:21<00:13, 21.35it/s, est. speed input: 2032.01 toks/s, output: 179.85 toks/s]\u001b[A\n",
      "Processed prompts:  48% 244/512 [00:22<00:12, 22.00it/s, est. speed input: 2098.70 toks/s, output: 186.32 toks/s]\u001b[A\n",
      "Processed prompts:  50% 255/512 [00:22<00:13, 19.50it/s, est. speed input: 2139.33 toks/s, output: 189.92 toks/s]\u001b[A\n",
      "Processed prompts:  55% 282/512 [00:23<00:07, 32.80it/s, est. speed input: 2479.00 toks/s, output: 216.36 toks/s]\u001b[A\n",
      "Processed prompts:  61% 312/512 [00:23<00:03, 51.35it/s, est. speed input: 2843.12 toks/s, output: 242.44 toks/s]\u001b[A\n",
      "Processed prompts:  65% 334/512 [00:23<00:02, 64.31it/s, est. speed input: 3006.09 toks/s, output: 259.38 toks/s]\u001b[A\n",
      "Processed prompts:  70% 359/512 [00:23<00:01, 81.31it/s, est. speed input: 3179.15 toks/s, output: 279.65 toks/s]\u001b[A\n",
      "Processed prompts:  75% 382/512 [00:23<00:01, 96.52it/s, est. speed input: 3370.02 toks/s, output: 297.43 toks/s]\u001b[A\n",
      "Processed prompts:  79% 406/512 [00:23<00:00, 117.74it/s, est. speed input: 3562.11 toks/s, output: 318.59 toks/s]\u001b[A\n",
      "Processed prompts:  83% 424/512 [00:23<00:00, 128.62it/s, est. speed input: 3715.64 toks/s, output: 335.98 toks/s]\u001b[A\n",
      "Processed prompts:  87% 444/512 [00:23<00:00, 131.99it/s, est. speed input: 3877.34 toks/s, output: 354.30 toks/s]\u001b[A\n",
      "Processed prompts:  90% 460/512 [00:24<00:00, 121.66it/s, est. speed input: 4010.03 toks/s, output: 369.92 toks/s]\u001b[A\n",
      "Processed prompts:  94% 480/512 [00:24<00:00, 134.40it/s, est. speed input: 4204.66 toks/s, output: 394.77 toks/s]\u001b[A\n",
      "Processed prompts:  97% 496/512 [00:24<00:00, 116.68it/s, est. speed input: 4409.88 toks/s, output: 415.97 toks/s]\u001b[A\n",
      "Processed prompts: 100% 510/512 [00:25<00:00, 33.59it/s, est. speed input: 4358.18 toks/s, output: 422.48 toks/s] \u001b[A\n",
      "Processed prompts: 100% 511/512 [00:36<00:00, 33.59it/s, est. speed input: 3954.56 toks/s, output: 389.08 toks/s]\u001b[A\n",
      "Processed prompts: 100% 512/512 [00:38<00:00, 13.24it/s, est. speed input: 2911.12 toks/s, output: 299.46 toks/s]\u001b[A\n",
      "\n",
      "Processed prompts:   0% 0/512 [00:00<?, ?it/s, est. speed input: 0.00 toks/s, output: 0.00 toks/s]\u001b[A\n",
      "Processed prompts:   0% 1/512 [00:11<1:35:32, 11.22s/it, est. speed input: 5.88 toks/s, output: 0.71 toks/s]\u001b[A\n",
      "Processed prompts:   1% 6/512 [00:11<12:00,  1.42s/it, est. speed input: 37.35 toks/s, output: 4.27 toks/s] \u001b[A\n",
      "Processed prompts:   2% 12/512 [00:11<05:05,  1.64it/s, est. speed input: 86.53 toks/s, output: 8.74 toks/s]\u001b[A\n",
      "Processed prompts:   3% 17/512 [00:12<03:05,  2.67it/s, est. speed input: 112.95 toks/s, output: 12.79 toks/s]\u001b[A\n",
      "Processed prompts:   5% 27/512 [00:12<01:41,  4.76it/s, est. speed input: 219.18 toks/s, output: 20.71 toks/s]\u001b[A\n",
      "Processed prompts:   7% 37/512 [00:13<01:03,  7.47it/s, est. speed input: 334.57 toks/s, output: 29.31 toks/s]\u001b[A\n",
      "Processed prompts:  11% 56/512 [00:13<00:37, 12.06it/s, est. speed input: 524.70 toks/s, output: 45.49 toks/s]\u001b[A\n",
      "Processed prompts:  14% 73/512 [00:14<00:28, 15.20it/s, est. speed input: 752.43 toks/s, output: 59.62 toks/s]\u001b[A\n",
      "Processed prompts:  18% 92/512 [00:15<00:25, 16.58it/s, est. speed input: 977.55 toks/s, output: 74.14 toks/s]\u001b[A\n",
      "Processed prompts:  20% 104/512 [00:16<00:21, 18.73it/s, est. speed input: 1088.25 toks/s, output: 83.78 toks/s]\u001b[A\n",
      "Processed prompts:  22% 115/512 [00:16<00:21, 18.23it/s, est. speed input: 1189.64 toks/s, output: 91.77 toks/s]\u001b[A\n",
      "Processed prompts:  26% 135/512 [00:17<00:17, 21.42it/s, est. speed input: 1436.95 toks/s, output: 108.90 toks/s]\u001b[A\n",
      "Processed prompts:  28% 143/512 [00:17<00:19, 19.21it/s, est. speed input: 1500.44 toks/s, output: 113.19 toks/s]\u001b[A\n",
      "Processed prompts:  30% 152/512 [00:18<00:16, 21.34it/s, est. speed input: 1614.18 toks/s, output: 120.80 toks/s]\u001b[A\n",
      "Processed prompts:  32% 164/512 [00:19<00:19, 18.27it/s, est. speed input: 1726.65 toks/s, output: 127.46 toks/s]\u001b[A\n",
      "Processed prompts:  35% 178/512 [00:19<00:16, 20.20it/s, est. speed input: 1854.10 toks/s, output: 137.37 toks/s]\u001b[A\n",
      "Processed prompts:  37% 189/512 [00:20<00:16, 19.53it/s, est. speed input: 1948.34 toks/s, output: 145.74 toks/s]\u001b[A\n",
      "Processed prompts:  39% 198/512 [00:20<00:17, 18.04it/s, est. speed input: 1976.32 toks/s, output: 150.67 toks/s]\u001b[A\n",
      "Processed prompts:  41% 209/512 [00:21<00:18, 16.44it/s, est. speed input: 2001.62 toks/s, output: 153.80 toks/s]\u001b[A\n",
      "Processed prompts:  43% 219/512 [00:22<00:17, 16.96it/s, est. speed input: 2014.63 toks/s, output: 159.81 toks/s]\u001b[A\n",
      "Processed prompts:  46% 237/512 [00:23<00:17, 15.45it/s, est. speed input: 2080.86 toks/s, output: 164.29 toks/s]\u001b[A\n",
      "Processed prompts:  48% 246/512 [00:24<00:16, 15.99it/s, est. speed input: 2111.27 toks/s, output: 168.17 toks/s]\u001b[A\n",
      "Processed prompts:  50% 258/512 [00:24<00:14, 17.04it/s, est. speed input: 2157.18 toks/s, output: 174.92 toks/s]\u001b[A\n",
      "Processed prompts:  55% 280/512 [00:24<00:08, 27.62it/s, est. speed input: 2344.67 toks/s, output: 193.40 toks/s]\u001b[A\n",
      "Processed prompts:  60% 305/512 [00:25<00:04, 41.93it/s, est. speed input: 2599.51 toks/s, output: 214.13 toks/s]\u001b[A\n",
      "Processed prompts:  64% 327/512 [00:25<00:03, 55.22it/s, est. speed input: 2782.46 toks/s, output: 231.66 toks/s]\u001b[A\n",
      "Processed prompts:  69% 354/512 [00:25<00:02, 74.70it/s, est. speed input: 2988.85 toks/s, output: 253.58 toks/s]\u001b[A\n",
      "Processed prompts:  74% 381/512 [00:25<00:01, 95.02it/s, est. speed input: 3233.28 toks/s, output: 277.90 toks/s]\u001b[A\n",
      "Processed prompts:  79% 403/512 [00:25<00:00, 112.59it/s, est. speed input: 3474.71 toks/s, output: 294.85 toks/s]\u001b[A\n",
      "Processed prompts:  82% 421/512 [00:25<00:00, 123.82it/s, est. speed input: 3619.57 toks/s, output: 308.48 toks/s]\u001b[A\n",
      "Processed prompts:  86% 440/512 [00:25<00:00, 125.58it/s, est. speed input: 3812.58 toks/s, output: 325.45 toks/s]\u001b[A\n",
      "Processed prompts:  90% 461/512 [00:25<00:00, 135.54it/s, est. speed input: 3968.83 toks/s, output: 345.75 toks/s]\u001b[A\n",
      "Processed prompts:  93% 477/512 [00:26<00:00, 126.53it/s, est. speed input: 4105.91 toks/s, output: 363.86 toks/s]\u001b[A\n",
      "Processed prompts:  96% 492/512 [00:26<00:00, 110.42it/s, est. speed input: 4319.87 toks/s, output: 382.98 toks/s]\u001b[A\n",
      "Processed prompts: 100% 512/512 [00:28<00:00, 18.04it/s, est. speed input: 4304.93 toks/s, output: 391.63 toks/s] \u001b[A\n",
      "\n",
      "Processed prompts:   0% 0/512 [00:00<?, ?it/s, est. speed input: 0.00 toks/s, output: 0.00 toks/s]\u001b[A\n",
      "Processed prompts:   0% 1/512 [00:09<1:23:59,  9.86s/it, est. speed input: 12.27 toks/s, output: 0.61 toks/s]\u001b[A\n",
      "Processed prompts:   1% 3/512 [00:10<22:30,  2.65s/it, est. speed input: 24.89 toks/s, output: 2.07 toks/s]  \u001b[A\n",
      "Processed prompts:   1% 7/512 [00:10<07:30,  1.12it/s, est. speed input: 47.49 toks/s, output: 5.21 toks/s]\u001b[A\n",
      "Processed prompts:   3% 17/512 [00:11<02:32,  3.24it/s, est. speed input: 126.03 toks/s, output: 13.13 toks/s]\u001b[A\n",
      "Processed prompts:   5% 25/512 [00:11<01:31,  5.34it/s, est. speed input: 205.84 toks/s, output: 19.92 toks/s]\u001b[A\n",
      "Processed prompts:   8% 39/512 [00:12<00:56,  8.34it/s, est. speed input: 441.24 toks/s, output: 31.29 toks/s]\u001b[A\n",
      "Processed prompts:  10% 50/512 [00:12<00:40, 11.51it/s, est. speed input: 584.28 toks/s, output: 41.06 toks/s]\u001b[A\n",
      "Processed prompts:  13% 67/512 [00:13<00:33, 13.32it/s, est. speed input: 737.59 toks/s, output: 54.31 toks/s]\u001b[A\n",
      "Processed prompts:  16% 80/512 [00:14<00:28, 15.13it/s, est. speed input: 825.28 toks/s, output: 64.83 toks/s]\u001b[A\n",
      "Processed prompts:  19% 96/512 [00:15<00:25, 16.38it/s, est. speed input: 996.62 toks/s, output: 77.27 toks/s]\u001b[A\n",
      "Processed prompts:  22% 115/512 [00:15<00:20, 19.40it/s, est. speed input: 1207.50 toks/s, output: 92.92 toks/s]\u001b[A\n",
      "Processed prompts:  25% 129/512 [00:16<00:20, 19.13it/s, est. speed input: 1278.12 toks/s, output: 103.17 toks/s]\u001b[A\n",
      "Processed prompts:  28% 145/512 [00:17<00:18, 20.23it/s, est. speed input: 1458.29 toks/s, output: 114.56 toks/s]\u001b[A\n",
      "Processed prompts:  31% 159/512 [00:17<00:17, 19.66it/s, est. speed input: 1533.96 toks/s, output: 124.14 toks/s]\u001b[A\n",
      "Processed prompts:  34% 173/512 [00:18<00:16, 20.43it/s, est. speed input: 1652.53 toks/s, output: 134.61 toks/s]\u001b[A\n",
      "Processed prompts:  36% 186/512 [00:19<00:16, 19.39it/s, est. speed input: 1702.64 toks/s, output: 141.24 toks/s]\u001b[A\n",
      "Processed prompts:  38% 195/512 [00:19<00:17, 18.62it/s, est. speed input: 1757.67 toks/s, output: 145.01 toks/s]\u001b[A\n",
      "Processed prompts:  40% 205/512 [00:20<00:17, 17.43it/s, est. speed input: 1782.28 toks/s, output: 149.60 toks/s]\u001b[A\n",
      "Processed prompts:  42% 216/512 [00:20<00:14, 20.12it/s, est. speed input: 1857.50 toks/s, output: 159.03 toks/s]\u001b[A\n",
      "Processed prompts:  45% 228/512 [00:21<00:15, 17.97it/s, est. speed input: 1879.87 toks/s, output: 162.87 toks/s]\u001b[A\n",
      "Processed prompts:  47% 239/512 [00:22<00:14, 19.02it/s, est. speed input: 1928.62 toks/s, output: 168.93 toks/s]\u001b[A\n",
      "Processed prompts:  48% 248/512 [00:22<00:13, 18.97it/s, est. speed input: 2007.16 toks/s, output: 173.58 toks/s]\u001b[A\n",
      "Processed prompts:  51% 260/512 [00:23<00:11, 21.40it/s, est. speed input: 2100.54 toks/s, output: 182.05 toks/s]\u001b[A\n",
      "Processed prompts:  53% 272/512 [00:23<00:08, 27.12it/s, est. speed input: 2169.61 toks/s, output: 190.52 toks/s]\u001b[A\n",
      "Processed prompts:  57% 294/512 [00:23<00:05, 42.19it/s, est. speed input: 2362.11 toks/s, output: 208.97 toks/s]\u001b[A\n",
      "Processed prompts:  62% 319/512 [00:23<00:03, 61.01it/s, est. speed input: 2610.12 toks/s, output: 230.55 toks/s]\u001b[A\n",
      "Processed prompts:  68% 346/512 [00:23<00:02, 82.51it/s, est. speed input: 2858.22 toks/s, output: 255.20 toks/s]\u001b[A\n",
      "Processed prompts:  73% 374/512 [00:23<00:01, 104.85it/s, est. speed input: 3128.94 toks/s, output: 277.27 toks/s]\u001b[A\n",
      "Processed prompts:  78% 398/512 [00:24<00:00, 123.12it/s, est. speed input: 3361.76 toks/s, output: 295.80 toks/s]\u001b[A\n",
      "Processed prompts:  81% 416/512 [00:24<00:00, 132.71it/s, est. speed input: 3504.89 toks/s, output: 309.33 toks/s]\u001b[A\n",
      "Processed prompts:  85% 437/512 [00:24<00:00, 135.67it/s, est. speed input: 3776.35 toks/s, output: 328.77 toks/s]\u001b[A\n",
      "Processed prompts:  89% 457/512 [00:24<00:00, 141.34it/s, est. speed input: 3987.17 toks/s, output: 349.45 toks/s]\u001b[A\n",
      "Processed prompts:  92% 473/512 [00:24<00:00, 120.14it/s, est. speed input: 4159.02 toks/s, output: 368.82 toks/s]\u001b[A\n",
      "Processed prompts:  95% 487/512 [00:24<00:00, 120.55it/s, est. speed input: 4321.53 toks/s, output: 387.75 toks/s]\u001b[A\n",
      "Processed prompts:  98% 501/512 [00:24<00:00, 87.57it/s, est. speed input: 4474.17 toks/s, output: 404.50 toks/s] \u001b[A\n",
      "Processed prompts: 100% 512/512 [00:29<00:00, 17.21it/s, est. speed input: 3899.21 toks/s, output: 366.62 toks/s]\u001b[A\n",
      "\n",
      "Processed prompts:   0% 0/512 [00:00<?, ?it/s, est. speed input: 0.00 toks/s, output: 0.00 toks/s]\u001b[A\n",
      "Processed prompts:   0% 1/512 [00:10<1:31:53, 10.79s/it, est. speed input: 6.58 toks/s, output: 0.56 toks/s]\u001b[A\n",
      "Processed prompts:   0% 2/512 [00:10<38:19,  4.51s/it, est. speed input: 12.66 toks/s, output: 1.19 toks/s] \u001b[A\n",
      "Processed prompts:   1% 5/512 [00:11<11:37,  1.38s/it, est. speed input: 69.83 toks/s, output: 3.10 toks/s]\u001b[A\n",
      "Processed prompts:   1% 7/512 [00:11<07:04,  1.19it/s, est. speed input: 79.21 toks/s, output: 4.56 toks/s]\u001b[A\n",
      "Processed prompts:   2% 12/512 [00:11<03:16,  2.55it/s, est. speed input: 103.05 toks/s, output: 8.28 toks/s]\u001b[A\n",
      "Processed prompts:   4% 20/512 [00:12<01:29,  5.48it/s, est. speed input: 180.48 toks/s, output: 14.86 toks/s]\u001b[A\n",
      "Processed prompts:   5% 28/512 [00:12<01:05,  7.44it/s, est. speed input: 224.56 toks/s, output: 21.18 toks/s]\u001b[A\n",
      "Processed prompts:   7% 36/512 [00:12<00:46, 10.16it/s, est. speed input: 359.11 toks/s, output: 28.09 toks/s]\u001b[A\n",
      "Processed prompts:  11% 56/512 [00:13<00:31, 14.29it/s, est. speed input: 570.73 toks/s, output: 44.76 toks/s]\u001b[A\n",
      "Processed prompts:  14% 72/512 [00:14<00:26, 16.83it/s, est. speed input: 774.28 toks/s, output: 57.96 toks/s]\u001b[A\n",
      "Processed prompts:  16% 81/512 [00:15<00:25, 16.88it/s, est. speed input: 918.06 toks/s, output: 64.89 toks/s]\u001b[A\n",
      "Processed prompts:  18% 93/512 [00:15<00:22, 18.66it/s, est. speed input: 1059.88 toks/s, output: 75.12 toks/s]\u001b[A\n",
      "Processed prompts:  22% 112/512 [00:16<00:23, 17.16it/s, est. speed input: 1178.22 toks/s, output: 87.85 toks/s]\u001b[A\n",
      "Processed prompts:  26% 131/512 [00:17<00:18, 20.83it/s, est. speed input: 1375.19 toks/s, output: 103.23 toks/s]\u001b[A\n",
      "Processed prompts:  29% 148/512 [00:18<00:19, 19.16it/s, est. speed input: 1431.81 toks/s, output: 114.92 toks/s]\u001b[A\n",
      "Processed prompts:  31% 161/512 [00:19<00:17, 20.12it/s, est. speed input: 1530.37 toks/s, output: 124.72 toks/s]\u001b[A\n",
      "Processed prompts:  35% 181/512 [00:20<00:17, 18.86it/s, est. speed input: 1648.67 toks/s, output: 134.89 toks/s]\u001b[A\n",
      "Processed prompts:  38% 195/512 [00:20<00:14, 21.42it/s, est. speed input: 1737.56 toks/s, output: 144.73 toks/s]\u001b[A\n",
      "Processed prompts:  40% 204/512 [00:21<00:14, 21.10it/s, est. speed input: 1801.62 toks/s, output: 149.57 toks/s]\u001b[A\n",
      "Processed prompts:  42% 215/512 [00:21<00:12, 23.15it/s, est. speed input: 1898.24 toks/s, output: 157.20 toks/s]\u001b[A\n",
      "Processed prompts:  44% 227/512 [00:22<00:12, 22.07it/s, est. speed input: 1975.83 toks/s, output: 163.43 toks/s]\u001b[A\n",
      "Processed prompts:  45% 232/512 [00:22<00:13, 21.47it/s, est. speed input: 2012.36 toks/s, output: 165.25 toks/s]\u001b[A\n",
      "Processed prompts:  47% 241/512 [00:22<00:13, 20.79it/s, est. speed input: 2115.59 toks/s, output: 171.22 toks/s]\u001b[A\n",
      "Processed prompts:  48% 248/512 [00:23<00:12, 21.55it/s, est. speed input: 2179.20 toks/s, output: 175.55 toks/s]\u001b[A\n",
      "Processed prompts:  50% 255/512 [00:23<00:13, 19.28it/s, est. speed input: 2213.82 toks/s, output: 178.51 toks/s]\u001b[A\n",
      "Processed prompts:  55% 282/512 [00:23<00:06, 36.90it/s, est. speed input: 2413.72 toks/s, output: 198.74 toks/s]\u001b[A\n",
      "Processed prompts:  61% 313/512 [00:24<00:03, 60.74it/s, est. speed input: 2664.11 toks/s, output: 221.22 toks/s]\u001b[A\n",
      "Processed prompts:  64% 327/512 [00:24<00:02, 65.66it/s, est. speed input: 2802.93 toks/s, output: 231.97 toks/s]\u001b[A\n",
      "Processed prompts:  71% 365/512 [00:24<00:01, 102.13it/s, est. speed input: 3189.67 toks/s, output: 264.68 toks/s]\u001b[A\n",
      "Processed prompts:  75% 384/512 [00:24<00:01, 108.95it/s, est. speed input: 3278.58 toks/s, output: 279.68 toks/s]\u001b[A\n",
      "Processed prompts:  80% 410/512 [00:24<00:00, 133.40it/s, est. speed input: 3475.74 toks/s, output: 303.32 toks/s]\u001b[A\n",
      "Processed prompts:  84% 429/512 [00:24<00:00, 143.93it/s, est. speed input: 3657.15 toks/s, output: 319.38 toks/s]\u001b[A\n",
      "Processed prompts:  88% 449/512 [00:24<00:00, 144.56it/s, est. speed input: 3862.69 toks/s, output: 339.75 toks/s]\u001b[A\n",
      "Processed prompts:  92% 473/512 [00:24<00:00, 159.78it/s, est. speed input: 4143.83 toks/s, output: 369.41 toks/s]\u001b[A\n",
      "Processed prompts:  96% 491/512 [00:25<00:00, 126.40it/s, est. speed input: 4300.71 toks/s, output: 388.68 toks/s]\u001b[A\n",
      "Processed prompts: 100% 512/512 [00:27<00:00, 18.64it/s, est. speed input: 4257.93 toks/s, output: 395.13 toks/s] \u001b[A\n",
      "\n",
      "Processed prompts:   0% 0/512 [00:00<?, ?it/s, est. speed input: 0.00 toks/s, output: 0.00 toks/s]\u001b[A\n",
      "Processed prompts:   0% 1/512 [00:10<1:29:52, 10.55s/it, est. speed input: 5.12 toks/s, output: 0.47 toks/s]\u001b[A\n",
      "Processed prompts:   1% 4/512 [00:10<17:31,  2.07s/it, est. speed input: 24.58 toks/s, output: 2.13 toks/s] \u001b[A\n",
      "Processed prompts:   1% 6/512 [00:10<10:05,  1.20s/it, est. speed input: 36.41 toks/s, output: 3.47 toks/s]\u001b[A\n",
      "Processed prompts:   2% 8/512 [00:11<06:40,  1.26it/s, est. speed input: 46.30 toks/s, output: 4.89 toks/s]\u001b[A\n",
      "Processed prompts:   3% 15/512 [00:11<02:37,  3.15it/s, est. speed input: 111.79 toks/s, output: 10.65 toks/s]\u001b[A\n",
      "Processed prompts:   6% 29/512 [00:12<01:03,  7.56it/s, est. speed input: 287.83 toks/s, output: 22.94 toks/s]\u001b[A\n",
      "Processed prompts:   9% 44/512 [00:12<00:41, 11.25it/s, est. speed input: 486.69 toks/s, output: 35.77 toks/s]\u001b[A\n",
      "Processed prompts:  10% 53/512 [00:13<00:34, 13.26it/s, est. speed input: 554.47 toks/s, output: 43.59 toks/s]\u001b[A\n",
      "Processed prompts:  13% 68/512 [00:13<00:27, 15.90it/s, est. speed input: 747.91 toks/s, output: 56.57 toks/s]\u001b[A\n",
      "Processed prompts:  17% 87/512 [00:14<00:21, 19.75it/s, est. speed input: 984.88 toks/s, output: 73.27 toks/s]\u001b[A\n",
      "Processed prompts:  22% 111/512 [00:16<00:21, 18.61it/s, est. speed input: 1181.05 toks/s, output: 90.99 toks/s]\u001b[A\n",
      "Processed prompts:  25% 127/512 [00:16<00:19, 20.11it/s, est. speed input: 1329.99 toks/s, output: 103.88 toks/s]\u001b[A\n",
      "Processed prompts:  27% 140/512 [00:17<00:17, 20.91it/s, est. speed input: 1419.16 toks/s, output: 113.94 toks/s]\u001b[A\n",
      "Processed prompts:  30% 153/512 [00:17<00:17, 20.64it/s, est. speed input: 1535.30 toks/s, output: 123.40 toks/s]\u001b[A\n",
      "Processed prompts:  32% 163/512 [00:18<00:19, 17.68it/s, est. speed input: 1577.16 toks/s, output: 128.59 toks/s]\u001b[A\n",
      "Processed prompts:  33% 171/512 [00:18<00:17, 19.10it/s, est. speed input: 1711.28 toks/s, output: 134.95 toks/s]\u001b[A\n",
      "Processed prompts:  36% 183/512 [00:19<00:18, 17.61it/s, est. speed input: 1755.90 toks/s, output: 142.22 toks/s]\u001b[A\n",
      "Processed prompts:  38% 193/512 [00:20<00:15, 20.20it/s, est. speed input: 1814.75 toks/s, output: 150.34 toks/s]\u001b[A\n",
      "Processed prompts:  40% 205/512 [00:20<00:15, 20.08it/s, est. speed input: 1907.17 toks/s, output: 157.59 toks/s]\u001b[A\n",
      "Processed prompts:  42% 213/512 [00:21<00:14, 20.75it/s, est. speed input: 1966.58 toks/s, output: 161.31 toks/s]\u001b[A\n",
      "Processed prompts:  44% 224/512 [00:21<00:15, 19.04it/s, est. speed input: 1989.03 toks/s, output: 168.17 toks/s]\u001b[A\n",
      "Processed prompts:  47% 239/512 [00:22<00:12, 21.62it/s, est. speed input: 2133.11 toks/s, output: 177.67 toks/s]\u001b[A\n",
      "Processed prompts:  48% 247/512 [00:22<00:12, 20.60it/s, est. speed input: 2148.36 toks/s, output: 181.09 toks/s]\u001b[A\n",
      "Processed prompts:  51% 261/512 [00:23<00:10, 23.81it/s, est. speed input: 2261.07 toks/s, output: 191.53 toks/s]\u001b[A\n",
      "Processed prompts:  53% 269/512 [00:23<00:09, 26.53it/s, est. speed input: 2309.63 toks/s, output: 196.92 toks/s]\u001b[A\n",
      "Processed prompts:  57% 293/512 [00:23<00:04, 44.11it/s, est. speed input: 2548.03 toks/s, output: 217.03 toks/s]\u001b[A\n",
      "Processed prompts:  64% 329/512 [00:23<00:02, 75.38it/s, est. speed input: 2906.46 toks/s, output: 247.41 toks/s]\u001b[A\n",
      "Processed prompts:  70% 356/512 [00:23<00:01, 95.27it/s, est. speed input: 3127.42 toks/s, output: 267.24 toks/s]\u001b[A\n",
      "Processed prompts:  75% 382/512 [00:23<00:01, 113.81it/s, est. speed input: 3348.49 toks/s, output: 288.95 toks/s]\u001b[A\n",
      "Processed prompts:  79% 405/512 [00:24<00:00, 132.02it/s, est. speed input: 3564.39 toks/s, output: 309.98 toks/s]\u001b[A\n",
      "Processed prompts:  82% 422/512 [00:24<00:00, 139.20it/s, est. speed input: 3692.64 toks/s, output: 325.89 toks/s]\u001b[A\n",
      "Processed prompts:  87% 445/512 [00:24<00:00, 145.36it/s, est. speed input: 3810.59 toks/s, output: 344.78 toks/s]\u001b[A\n",
      "Processed prompts:  90% 462/512 [00:24<00:00, 144.33it/s, est. speed input: 4032.44 toks/s, output: 363.70 toks/s]\u001b[A\n",
      "Processed prompts:  93% 478/512 [00:24<00:00, 142.68it/s, est. speed input: 4221.48 toks/s, output: 382.55 toks/s]\u001b[A\n",
      "Processed prompts:  96% 494/512 [00:24<00:00, 113.08it/s, est. speed input: 4395.40 toks/s, output: 401.82 toks/s]\u001b[A\n",
      "Processed prompts: 100% 512/512 [00:28<00:00, 17.79it/s, est. speed input: 3980.83 toks/s, output: 379.80 toks/s] \u001b[A\n",
      "\n",
      "Processed prompts:   0% 0/512 [00:00<?, ?it/s, est. speed input: 0.00 toks/s, output: 0.00 toks/s]\u001b[A\n",
      "Processed prompts:   0% 1/512 [00:10<1:30:14, 10.60s/it, est. speed input: 5.85 toks/s, output: 0.57 toks/s]\u001b[A\n",
      "Processed prompts:   1% 5/512 [00:11<14:08,  1.67s/it, est. speed input: 28.42 toks/s, output: 2.90 toks/s] \u001b[A\n",
      "Processed prompts:   2% 8/512 [00:11<07:36,  1.10it/s, est. speed input: 48.34 toks/s, output: 5.07 toks/s]\u001b[A\n",
      "Processed prompts:   2% 11/512 [00:11<04:55,  1.69it/s, est. speed input: 71.18 toks/s, output: 7.32 toks/s]\u001b[A\n",
      "Processed prompts:   3% 14/512 [00:11<03:18,  2.51it/s, est. speed input: 99.97 toks/s, output: 9.81 toks/s]\u001b[A\n",
      "Processed prompts:   4% 21/512 [00:12<01:44,  4.71it/s, est. speed input: 157.27 toks/s, output: 15.85 toks/s]\u001b[A\n",
      "Processed prompts:   7% 34/512 [00:12<00:54,  8.85it/s, est. speed input: 330.59 toks/s, output: 27.37 toks/s]\u001b[A\n",
      "Processed prompts:  10% 49/512 [00:13<00:39, 11.63it/s, est. speed input: 488.38 toks/s, output: 39.93 toks/s]\u001b[A\n",
      "Processed prompts:  13% 66/512 [00:14<00:27, 16.40it/s, est. speed input: 702.81 toks/s, output: 55.33 toks/s]\u001b[A\n",
      "Processed prompts:  15% 79/512 [00:15<00:26, 16.32it/s, est. speed input: 825.20 toks/s, output: 65.42 toks/s]\u001b[A\n",
      "Processed prompts:  18% 93/512 [00:15<00:24, 17.40it/s, est. speed input: 1023.96 toks/s, output: 76.20 toks/s]\u001b[A\n",
      "Processed prompts:  22% 113/512 [00:16<00:21, 18.46it/s, est. speed input: 1223.15 toks/s, output: 91.76 toks/s]\u001b[A\n",
      "Processed prompts:  24% 125/512 [00:17<00:20, 19.19it/s, est. speed input: 1315.51 toks/s, output: 101.39 toks/s]\u001b[A\n",
      "Processed prompts:  28% 142/512 [00:17<00:18, 20.49it/s, est. speed input: 1484.07 toks/s, output: 113.90 toks/s]\u001b[A\n",
      "Processed prompts:  30% 156/512 [00:18<00:17, 20.45it/s, est. speed input: 1571.00 toks/s, output: 123.26 toks/s]\u001b[A\n",
      "Processed prompts:  32% 164/512 [00:19<00:20, 17.31it/s, est. speed input: 1583.46 toks/s, output: 125.67 toks/s]\u001b[A\n",
      "Processed prompts:  34% 173/512 [00:19<00:18, 18.68it/s, est. speed input: 1648.59 toks/s, output: 132.95 toks/s]\u001b[A\n",
      "Processed prompts:  36% 184/512 [00:20<00:18, 18.13it/s, est. speed input: 1728.68 toks/s, output: 140.08 toks/s]\u001b[A\n",
      "Processed prompts:  38% 196/512 [00:20<00:16, 19.25it/s, est. speed input: 1796.43 toks/s, output: 148.64 toks/s]\u001b[A\n",
      "Processed prompts:  40% 206/512 [00:21<00:16, 18.20it/s, est. speed input: 1829.70 toks/s, output: 154.81 toks/s]\u001b[A\n",
      "Processed prompts:  42% 215/512 [00:22<00:15, 18.69it/s, est. speed input: 1893.96 toks/s, output: 159.36 toks/s]\u001b[A\n",
      "Processed prompts:  45% 228/512 [00:22<00:16, 17.70it/s, est. speed input: 1964.22 toks/s, output: 164.49 toks/s]\u001b[A\n",
      "Processed prompts:  47% 241/512 [00:23<00:14, 18.68it/s, est. speed input: 2060.47 toks/s, output: 171.62 toks/s]\u001b[A\n",
      "Processed prompts:  49% 251/512 [00:23<00:13, 19.19it/s, est. speed input: 2078.09 toks/s, output: 174.89 toks/s]\u001b[A\n",
      "Processed prompts:  51% 259/512 [00:24<00:12, 20.60it/s, est. speed input: 2109.75 toks/s, output: 180.31 toks/s]\u001b[A\n",
      "Processed prompts:  53% 272/512 [00:24<00:08, 27.46it/s, est. speed input: 2243.30 toks/s, output: 190.91 toks/s]\u001b[A\n",
      "Processed prompts:  57% 290/512 [00:24<00:05, 39.29it/s, est. speed input: 2375.15 toks/s, output: 203.66 toks/s]\u001b[A\n",
      "Processed prompts:  60% 307/512 [00:24<00:04, 50.29it/s, est. speed input: 2508.56 toks/s, output: 218.67 toks/s]\u001b[A\n",
      "Processed prompts:  65% 331/512 [00:24<00:02, 70.00it/s, est. speed input: 2705.09 toks/s, output: 239.97 toks/s]\u001b[A\n",
      "Processed prompts:  68% 350/512 [00:25<00:01, 81.69it/s, est. speed input: 2876.28 toks/s, output: 256.96 toks/s]\u001b[A\n",
      "Processed prompts:  74% 378/512 [00:25<00:01, 106.95it/s, est. speed input: 3154.29 toks/s, output: 279.46 toks/s]\u001b[A\n",
      "Processed prompts:  77% 395/512 [00:25<00:01, 115.91it/s, est. speed input: 3348.83 toks/s, output: 295.44 toks/s]\u001b[A\n",
      "Processed prompts:  82% 418/512 [00:25<00:00, 137.78it/s, est. speed input: 3558.04 toks/s, output: 316.60 toks/s]\u001b[A\n",
      "Processed prompts:  86% 440/512 [00:25<00:00, 141.72it/s, est. speed input: 3789.16 toks/s, output: 338.29 toks/s]\u001b[A\n",
      "Processed prompts:  91% 466/512 [00:25<00:00, 160.80it/s, est. speed input: 4091.10 toks/s, output: 368.42 toks/s]\u001b[A\n",
      "Processed prompts:  95% 484/512 [00:25<00:00, 147.57it/s, est. speed input: 4269.56 toks/s, output: 393.84 toks/s]\u001b[A\n",
      "Processed prompts: 100% 512/512 [00:30<00:00, 16.66it/s, est. speed input: 3947.06 toks/s, output: 376.38 toks/s] \u001b[A\n",
      "\n",
      "Processed prompts:   0% 0/512 [00:00<?, ?it/s, est. speed input: 0.00 toks/s, output: 0.00 toks/s]\u001b[A\n",
      "Processed prompts:   0% 1/512 [00:10<1:30:19, 10.60s/it, est. speed input: 5.19 toks/s, output: 0.57 toks/s]\u001b[A\n",
      "Processed prompts:   1% 4/512 [00:10<17:40,  2.09s/it, est. speed input: 21.91 toks/s, output: 2.57 toks/s] \u001b[A\n",
      "Processed prompts:   2% 8/512 [00:11<07:28,  1.12it/s, est. speed input: 58.06 toks/s, output: 5.72 toks/s]\u001b[A\n",
      "Processed prompts:   3% 17/512 [00:11<02:42,  3.05it/s, est. speed input: 128.32 toks/s, output: 13.30 toks/s]\u001b[A\n",
      "Processed prompts:   5% 25/512 [00:12<01:42,  4.77it/s, est. speed input: 186.56 toks/s, output: 19.96 toks/s]\u001b[A\n",
      "Processed prompts:   6% 33/512 [00:12<01:07,  7.07it/s, est. speed input: 306.11 toks/s, output: 27.21 toks/s]\u001b[A\n",
      "Processed prompts:   9% 47/512 [00:13<00:43, 10.70it/s, est. speed input: 424.06 toks/s, output: 39.78 toks/s]\u001b[A\n",
      "Processed prompts:  11% 58/512 [00:13<00:32, 14.06it/s, est. speed input: 572.56 toks/s, output: 49.78 toks/s]\u001b[A\n",
      "Processed prompts:  14% 72/512 [00:14<00:28, 15.68it/s, est. speed input: 736.54 toks/s, output: 62.00 toks/s]\u001b[A\n",
      "Processed prompts:  18% 91/512 [00:14<00:20, 20.22it/s, est. speed input: 988.90 toks/s, output: 80.09 toks/s]\u001b[A\n",
      "Processed prompts:  20% 102/512 [00:15<00:21, 18.97it/s, est. speed input: 1065.87 toks/s, output: 88.69 toks/s]\u001b[A\n",
      "Processed prompts:  23% 119/512 [00:16<00:19, 20.67it/s, est. speed input: 1285.66 toks/s, output: 103.80 toks/s]\u001b[A\n",
      "Processed prompts:  25% 130/512 [00:16<00:19, 20.07it/s, est. speed input: 1346.81 toks/s, output: 112.01 toks/s]\u001b[A\n",
      "Processed prompts:  27% 140/512 [00:17<00:18, 20.64it/s, est. speed input: 1465.01 toks/s, output: 120.78 toks/s]\u001b[A\n",
      "Processed prompts:  30% 153/512 [00:17<00:17, 20.11it/s, est. speed input: 1572.95 toks/s, output: 130.89 toks/s]\u001b[A\n",
      "Processed prompts:  32% 165/512 [00:18<00:17, 19.90it/s, est. speed input: 1673.98 toks/s, output: 139.73 toks/s]\u001b[A\n",
      "Processed prompts:  35% 177/512 [00:19<00:16, 20.67it/s, est. speed input: 1767.18 toks/s, output: 149.64 toks/s]\u001b[A\n",
      "Processed prompts:  37% 188/512 [00:19<00:15, 21.08it/s, est. speed input: 1848.65 toks/s, output: 159.39 toks/s]\u001b[A\n",
      "Processed prompts:  39% 200/512 [00:20<00:16, 19.33it/s, est. speed input: 1911.65 toks/s, output: 165.84 toks/s]\u001b[A\n",
      "Processed prompts:  40% 206/512 [00:20<00:17, 17.97it/s, est. speed input: 1908.51 toks/s, output: 168.61 toks/s]\u001b[A\n",
      "Processed prompts:  42% 216/512 [00:21<00:16, 17.78it/s, est. speed input: 1984.61 toks/s, output: 173.19 toks/s]\u001b[A\n",
      "Processed prompts:  46% 234/512 [00:22<00:13, 20.62it/s, est. speed input: 2106.26 toks/s, output: 184.69 toks/s]\u001b[A\n",
      "Processed prompts:  49% 250/512 [00:22<00:13, 19.15it/s, est. speed input: 2126.92 toks/s, output: 190.37 toks/s]\u001b[A\n",
      "Processed prompts:  53% 272/512 [00:23<00:08, 27.93it/s, est. speed input: 2266.34 toks/s, output: 204.55 toks/s]\u001b[A\n",
      "Processed prompts:  55% 283/512 [00:23<00:07, 31.68it/s, est. speed input: 2352.22 toks/s, output: 212.97 toks/s]\u001b[A\n",
      "Processed prompts:  62% 316/512 [00:23<00:03, 54.20it/s, est. speed input: 2656.59 toks/s, output: 240.30 toks/s]\u001b[A\n",
      "Processed prompts:  66% 339/512 [00:23<00:02, 68.60it/s, est. speed input: 2908.40 toks/s, output: 258.90 toks/s]\u001b[A\n",
      "Processed prompts:  71% 362/512 [00:23<00:01, 83.43it/s, est. speed input: 3118.12 toks/s, output: 279.49 toks/s]\u001b[A\n",
      "Processed prompts:  74% 380/512 [00:24<00:01, 92.06it/s, est. speed input: 3251.92 toks/s, output: 294.39 toks/s]\u001b[A\n",
      "Processed prompts:  79% 403/512 [00:24<00:00, 112.98it/s, est. speed input: 3471.05 toks/s, output: 312.41 toks/s]\u001b[A\n",
      "Processed prompts:  83% 427/512 [00:24<00:00, 136.54it/s, est. speed input: 3744.81 toks/s, output: 334.37 toks/s]\u001b[A\n",
      "Processed prompts:  88% 448/512 [00:24<00:00, 140.23it/s, est. speed input: 3929.11 toks/s, output: 354.50 toks/s]\u001b[A\n",
      "Processed prompts:  91% 467/512 [00:24<00:00, 145.01it/s, est. speed input: 4110.54 toks/s, output: 373.83 toks/s]\u001b[A\n",
      "Processed prompts:  95% 484/512 [00:24<00:00, 125.49it/s, est. speed input: 4268.28 toks/s, output: 391.75 toks/s]\u001b[A\n",
      "Processed prompts:  97% 499/512 [00:24<00:00, 104.40it/s, est. speed input: 4427.38 toks/s, output: 410.64 toks/s]\u001b[A\n",
      "Processed prompts: 100% 512/512 [00:26<00:00, 19.56it/s, est. speed input: 4404.86 toks/s, output: 413.98 toks/s] \u001b[A\n",
      "\n",
      "Processed prompts:   0% 0/512 [00:00<?, ?it/s, est. speed input: 0.00 toks/s, output: 0.00 toks/s]\u001b[A\n",
      "Processed prompts:   0% 1/512 [00:10<1:25:44, 10.07s/it, est. speed input: 5.36 toks/s, output: 0.60 toks/s]\u001b[A\n",
      "Processed prompts:   1% 5/512 [00:10<13:20,  1.58s/it, est. speed input: 34.38 toks/s, output: 3.26 toks/s] \u001b[A\n",
      "Processed prompts:   2% 9/512 [00:10<06:30,  1.29it/s, est. speed input: 102.62 toks/s, output: 6.51 toks/s]\u001b[A\n",
      "Processed prompts:   3% 16/512 [00:11<02:56,  2.81it/s, est. speed input: 177.45 toks/s, output: 12.62 toks/s]\u001b[A\n",
      "Processed prompts:   5% 24/512 [00:11<01:47,  4.55it/s, est. speed input: 244.90 toks/s, output: 19.49 toks/s]\u001b[A\n",
      "Processed prompts:   6% 33/512 [00:12<01:08,  6.97it/s, est. speed input: 352.72 toks/s, output: 27.72 toks/s]\u001b[A\n",
      "Processed prompts:   9% 45/512 [00:13<00:49,  9.34it/s, est. speed input: 461.15 toks/s, output: 38.15 toks/s]\u001b[A\n",
      "Processed prompts:  12% 61/512 [00:13<00:34, 12.93it/s, est. speed input: 616.81 toks/s, output: 52.64 toks/s]\u001b[A\n",
      "Processed prompts:  15% 76/512 [00:14<00:29, 14.65it/s, est. speed input: 784.29 toks/s, output: 65.29 toks/s]\u001b[A\n",
      "Processed prompts:  19% 99/512 [00:15<00:20, 19.75it/s, est. speed input: 1086.20 toks/s, output: 86.63 toks/s]\u001b[A\n",
      "Processed prompts:  22% 115/512 [00:16<00:22, 17.65it/s, est. speed input: 1179.01 toks/s, output: 97.41 toks/s]\u001b[A\n",
      "Processed prompts:  25% 128/512 [00:16<00:19, 19.32it/s, est. speed input: 1329.03 toks/s, output: 108.16 toks/s]\u001b[A\n",
      "Processed prompts:  26% 135/512 [00:17<00:21, 17.78it/s, est. speed input: 1355.29 toks/s, output: 111.54 toks/s]\u001b[A\n",
      "Processed prompts:  30% 152/512 [00:18<00:17, 20.17it/s, est. speed input: 1505.04 toks/s, output: 126.11 toks/s]\u001b[A\n",
      "Processed prompts:  32% 163/512 [00:18<00:19, 18.34it/s, est. speed input: 1592.29 toks/s, output: 133.37 toks/s]\u001b[A\n",
      "Processed prompts:  33% 170/512 [00:19<00:17, 19.21it/s, est. speed input: 1638.15 toks/s, output: 138.32 toks/s]\u001b[A\n",
      "Processed prompts:  35% 177/512 [00:19<00:19, 17.57it/s, est. speed input: 1672.54 toks/s, output: 141.86 toks/s]\u001b[A\n",
      "Processed prompts:  37% 191/512 [00:20<00:17, 18.88it/s, est. speed input: 1756.72 toks/s, output: 151.48 toks/s]\u001b[A\n",
      "Processed prompts:  39% 199/512 [00:20<00:18, 17.08it/s, est. speed input: 1767.09 toks/s, output: 155.90 toks/s]\u001b[A\n",
      "Processed prompts:  42% 213/512 [00:21<00:15, 19.23it/s, est. speed input: 1864.23 toks/s, output: 165.60 toks/s]\u001b[A\n",
      "Processed prompts:  45% 231/512 [00:22<00:15, 18.16it/s, est. speed input: 1950.62 toks/s, output: 172.07 toks/s]\u001b[A\n",
      "Processed prompts:  48% 248/512 [00:22<00:12, 21.77it/s, est. speed input: 2091.20 toks/s, output: 185.00 toks/s]\u001b[A\n",
      "Processed prompts:  49% 251/512 [00:23<00:13, 19.75it/s, est. speed input: 2088.69 toks/s, output: 185.03 toks/s]\u001b[A\n",
      "Processed prompts:  52% 264/512 [00:23<00:09, 25.71it/s, est. speed input: 2222.37 toks/s, output: 192.66 toks/s]\u001b[A\n",
      "Processed prompts:  54% 277/512 [00:23<00:07, 32.56it/s, est. speed input: 2325.78 toks/s, output: 204.04 toks/s]\u001b[A\n",
      "Processed prompts:  59% 303/512 [00:23<00:03, 52.54it/s, est. speed input: 2511.34 toks/s, output: 225.54 toks/s]\u001b[A\n",
      "Processed prompts:  64% 328/512 [00:24<00:02, 71.47it/s, est. speed input: 2767.99 toks/s, output: 247.58 toks/s]\u001b[A\n",
      "Processed prompts:  68% 350/512 [00:24<00:01, 85.88it/s, est. speed input: 2960.64 toks/s, output: 266.33 toks/s]\u001b[A\n",
      "Processed prompts:  74% 380/512 [00:24<00:01, 112.27it/s, est. speed input: 3179.28 toks/s, output: 289.47 toks/s]\u001b[A\n",
      "Processed prompts:  79% 402/512 [00:24<00:00, 129.33it/s, est. speed input: 3377.05 toks/s, output: 307.37 toks/s]\u001b[A\n",
      "Processed prompts:  83% 423/512 [00:24<00:00, 145.12it/s, est. speed input: 3585.51 toks/s, output: 324.83 toks/s]\u001b[A\n",
      "Processed prompts:  87% 447/512 [00:24<00:00, 151.76it/s, est. speed input: 3840.60 toks/s, output: 348.79 toks/s]\u001b[A\n",
      "Processed prompts:  91% 466/512 [00:24<00:00, 153.65it/s, est. speed input: 4013.01 toks/s, output: 365.92 toks/s]\u001b[A\n",
      "Processed prompts:  94% 483/512 [00:24<00:00, 140.47it/s, est. speed input: 4230.24 toks/s, output: 386.00 toks/s]\u001b[A\n",
      "Processed prompts:  97% 499/512 [00:25<00:00, 113.62it/s, est. speed input: 4471.80 toks/s, output: 407.43 toks/s]\u001b[A\n",
      "Processed prompts: 100% 512/512 [00:33<00:00, 15.44it/s, est. speed input: 3533.21 toks/s, output: 338.57 toks/s] \u001b[A\n",
      "\n",
      "Processed prompts:   0% 0/512 [00:00<?, ?it/s, est. speed input: 0.00 toks/s, output: 0.00 toks/s]\u001b[A\n",
      "Processed prompts:   0% 1/512 [00:10<1:27:57, 10.33s/it, est. speed input: 5.23 toks/s, output: 0.48 toks/s]\u001b[A\n",
      "Processed prompts:   1% 4/512 [00:10<17:29,  2.07s/it, est. speed input: 22.81 toks/s, output: 2.23 toks/s] \u001b[A\n",
      "Processed prompts:   1% 7/512 [00:11<08:33,  1.02s/it, est. speed input: 37.22 toks/s, output: 4.43 toks/s]\u001b[A\n",
      "Processed prompts:   2% 12/512 [00:11<03:55,  2.13it/s, est. speed input: 69.56 toks/s, output: 8.42 toks/s]\u001b[A\n",
      "Processed prompts:   3% 16/512 [00:11<02:43,  3.03it/s, est. speed input: 124.91 toks/s, output: 11.59 toks/s]\u001b[A\n",
      "Processed prompts:   5% 24/512 [00:12<01:33,  5.21it/s, est. speed input: 203.74 toks/s, output: 18.33 toks/s]\u001b[A\n",
      "Processed prompts:   7% 37/512 [00:12<00:54,  8.70it/s, est. speed input: 377.84 toks/s, output: 29.49 toks/s]\u001b[A\n",
      "Processed prompts:   9% 45/512 [00:13<00:40, 11.58it/s, est. speed input: 483.63 toks/s, output: 36.97 toks/s]\u001b[A\n",
      "Processed prompts:  11% 58/512 [00:13<00:32, 13.89it/s, est. speed input: 600.24 toks/s, output: 48.33 toks/s]\u001b[A\n",
      "Processed prompts:  15% 76/512 [00:14<00:24, 17.97it/s, est. speed input: 779.37 toks/s, output: 64.81 toks/s]\u001b[A\n",
      "Processed prompts:  18% 94/512 [00:15<00:22, 18.84it/s, est. speed input: 982.51 toks/s, output: 79.85 toks/s]\u001b[A\n",
      "Processed prompts:  22% 115/512 [00:16<00:17, 22.21it/s, est. speed input: 1278.29 toks/s, output: 98.67 toks/s]\u001b[A\n",
      "Processed prompts:  25% 126/512 [00:16<00:18, 20.67it/s, est. speed input: 1358.94 toks/s, output: 106.69 toks/s]\u001b[A\n",
      "Processed prompts:  27% 140/512 [00:17<00:18, 20.55it/s, est. speed input: 1442.02 toks/s, output: 117.03 toks/s]\u001b[A\n",
      "Processed prompts:  30% 154/512 [00:18<00:17, 20.54it/s, est. speed input: 1537.91 toks/s, output: 127.52 toks/s]\u001b[A\n",
      "Processed prompts:  33% 167/512 [00:18<00:16, 20.97it/s, est. speed input: 1639.89 toks/s, output: 136.30 toks/s]\u001b[A\n",
      "Processed prompts:  35% 181/512 [00:19<00:15, 20.71it/s, est. speed input: 1768.54 toks/s, output: 146.41 toks/s]\u001b[A\n",
      "Processed prompts:  37% 191/512 [00:19<00:15, 20.12it/s, est. speed input: 1838.11 toks/s, output: 153.46 toks/s]\u001b[A\n",
      "Processed prompts:  38% 196/512 [00:20<00:16, 19.09it/s, est. speed input: 1866.58 toks/s, output: 155.56 toks/s]\u001b[A\n",
      "Processed prompts:  41% 210/512 [00:20<00:14, 21.52it/s, est. speed input: 1974.55 toks/s, output: 164.89 toks/s]\u001b[A\n",
      "Processed prompts:  44% 223/512 [00:21<00:15, 18.17it/s, est. speed input: 2057.13 toks/s, output: 170.00 toks/s]\u001b[A\n",
      "Processed prompts:  47% 241/512 [00:22<00:13, 20.56it/s, est. speed input: 2155.20 toks/s, output: 181.92 toks/s]\u001b[A\n",
      "Processed prompts:  49% 250/512 [00:23<00:13, 19.00it/s, est. speed input: 2178.63 toks/s, output: 186.76 toks/s]\u001b[A\n",
      "Processed prompts:  52% 264/512 [00:23<00:10, 23.61it/s, est. speed input: 2299.25 toks/s, output: 197.23 toks/s]\u001b[A\n",
      "Processed prompts:  53% 273/512 [00:23<00:08, 26.80it/s, est. speed input: 2358.08 toks/s, output: 204.02 toks/s]\u001b[A\n",
      "Processed prompts:  58% 297/512 [00:23<00:04, 43.20it/s, est. speed input: 2552.69 toks/s, output: 221.81 toks/s]\u001b[A\n",
      "Processed prompts:  63% 323/512 [00:23<00:03, 62.56it/s, est. speed input: 2719.89 toks/s, output: 244.02 toks/s]\u001b[A\n",
      "Processed prompts:  68% 347/512 [00:24<00:02, 79.74it/s, est. speed input: 2929.55 toks/s, output: 263.81 toks/s]\u001b[A\n",
      "Processed prompts:  71% 365/512 [00:24<00:01, 88.25it/s, est. speed input: 3098.22 toks/s, output: 276.45 toks/s]\u001b[A\n",
      "Processed prompts:  75% 386/512 [00:24<00:01, 103.65it/s, est. speed input: 3281.67 toks/s, output: 293.34 toks/s]\u001b[A\n",
      "Processed prompts:  80% 408/512 [00:24<00:00, 123.49it/s, est. speed input: 3490.95 toks/s, output: 313.07 toks/s]\u001b[A\n",
      "Processed prompts:  83% 425/512 [00:24<00:00, 132.83it/s, est. speed input: 3648.52 toks/s, output: 328.65 toks/s]\u001b[A\n",
      "Processed prompts:  86% 441/512 [00:24<00:00, 126.27it/s, est. speed input: 3821.21 toks/s, output: 344.59 toks/s]\u001b[A\n",
      "Processed prompts:  89% 457/512 [00:24<00:00, 126.22it/s, est. speed input: 3965.92 toks/s, output: 361.29 toks/s]\u001b[A\n",
      "Processed prompts:  93% 475/512 [00:24<00:00, 134.05it/s, est. speed input: 4197.67 toks/s, output: 381.53 toks/s]\u001b[A\n",
      "Processed prompts:  96% 490/512 [00:25<00:00, 122.56it/s, est. speed input: 4394.81 toks/s, output: 400.60 toks/s]\u001b[A\n",
      "Processed prompts: 100% 512/512 [00:25<00:00, 19.89it/s, est. speed input: 4523.64 toks/s, output: 427.55 toks/s] \u001b[A\n",
      "\n",
      "Processed prompts:   0% 0/512 [00:00<?, ?it/s, est. speed input: 0.00 toks/s, output: 0.00 toks/s]\u001b[A\n",
      "Processed prompts:   0% 1/512 [00:11<1:35:15, 11.19s/it, est. speed input: 8.58 toks/s, output: 0.63 toks/s]\u001b[A\n",
      "Processed prompts:   1% 5/512 [00:11<14:26,  1.71s/it, est. speed input: 28.53 toks/s, output: 3.16 toks/s] \u001b[A\n",
      "Processed prompts:   2% 8/512 [00:11<08:04,  1.04it/s, est. speed input: 60.04 toks/s, output: 5.17 toks/s]\u001b[A\n",
      "Processed prompts:   2% 12/512 [00:11<04:18,  1.94it/s, est. speed input: 102.85 toks/s, output: 8.22 toks/s]\u001b[A\n",
      "Processed prompts:   4% 19/512 [00:12<02:11,  3.76it/s, est. speed input: 179.51 toks/s, output: 13.73 toks/s]\u001b[A\n",
      "Processed prompts:   5% 26/512 [00:12<01:19,  6.13it/s, est. speed input: 247.57 toks/s, output: 19.73 toks/s]\u001b[A\n",
      "Processed prompts:   7% 36/512 [00:13<00:54,  8.75it/s, est. speed input: 337.48 toks/s, output: 28.05 toks/s]\u001b[A\n",
      "Processed prompts:  10% 50/512 [00:13<00:34, 13.32it/s, est. speed input: 586.82 toks/s, output: 40.55 toks/s]\u001b[A\n",
      "Processed prompts:  12% 60/512 [00:14<00:32, 13.93it/s, est. speed input: 646.31 toks/s, output: 48.60 toks/s]\u001b[A\n",
      "Processed prompts:  14% 70/512 [00:14<00:26, 16.54it/s, est. speed input: 749.01 toks/s, output: 57.73 toks/s]\u001b[A\n",
      "Processed prompts:  18% 92/512 [00:15<00:21, 19.94it/s, est. speed input: 1104.56 toks/s, output: 76.80 toks/s]\u001b[A\n",
      "Processed prompts:  21% 108/512 [00:16<00:19, 20.96it/s, est. speed input: 1276.48 toks/s, output: 90.41 toks/s]\u001b[A\n",
      "Processed prompts:  23% 117/512 [00:16<00:20, 19.49it/s, est. speed input: 1334.05 toks/s, output: 97.02 toks/s]\u001b[A\n",
      "Processed prompts:  26% 134/512 [00:17<00:17, 21.60it/s, est. speed input: 1521.72 toks/s, output: 110.92 toks/s]\u001b[A\n",
      "Processed prompts:  29% 146/512 [00:18<00:17, 20.35it/s, est. speed input: 1600.29 toks/s, output: 120.07 toks/s]\u001b[A\n",
      "Processed prompts:  32% 162/512 [00:18<00:15, 22.26it/s, est. speed input: 1727.95 toks/s, output: 132.80 toks/s]\u001b[A\n",
      "Processed prompts:  34% 175/512 [00:19<00:15, 21.50it/s, est. speed input: 1832.54 toks/s, output: 141.02 toks/s]\u001b[A\n",
      "Processed prompts:  37% 190/512 [00:20<00:14, 21.63it/s, est. speed input: 1895.26 toks/s, output: 151.19 toks/s]\u001b[A\n",
      "Processed prompts:  40% 205/512 [00:20<00:15, 19.56it/s, est. speed input: 1967.34 toks/s, output: 158.38 toks/s]\u001b[A\n",
      "Processed prompts:  42% 217/512 [00:21<00:14, 20.19it/s, est. speed input: 2060.17 toks/s, output: 164.31 toks/s]\u001b[A\n",
      "Processed prompts:  45% 230/512 [00:22<00:14, 19.75it/s, est. speed input: 2137.04 toks/s, output: 170.36 toks/s]\u001b[A\n",
      "Processed prompts:  48% 245/512 [00:22<00:12, 22.13it/s, est. speed input: 2193.11 toks/s, output: 177.32 toks/s]\u001b[A\n",
      "Processed prompts:  50% 257/512 [00:23<00:12, 20.93it/s, est. speed input: 2229.94 toks/s, output: 184.62 toks/s]\u001b[A\n",
      "Processed prompts:  54% 279/512 [00:23<00:07, 31.93it/s, est. speed input: 2417.17 toks/s, output: 203.53 toks/s]\u001b[A\n",
      "Processed prompts:  59% 304/512 [00:23<00:04, 46.70it/s, est. speed input: 2639.80 toks/s, output: 225.04 toks/s]\u001b[A\n",
      "Processed prompts:  63% 325/512 [00:23<00:03, 59.24it/s, est. speed input: 2801.85 toks/s, output: 240.93 toks/s]\u001b[A\n",
      "Processed prompts:  67% 344/512 [00:23<00:02, 70.25it/s, est. speed input: 2947.73 toks/s, output: 253.84 toks/s]\u001b[A\n",
      "Processed prompts:  73% 375/512 [00:24<00:01, 96.56it/s, est. speed input: 3235.72 toks/s, output: 280.69 toks/s]\u001b[A\n",
      "Processed prompts:  77% 395/512 [00:24<00:01, 109.06it/s, est. speed input: 3366.82 toks/s, output: 298.35 toks/s]\u001b[A\n",
      "Processed prompts:  81% 417/512 [00:24<00:00, 128.18it/s, est. speed input: 3614.89 toks/s, output: 317.31 toks/s]\u001b[A\n",
      "Processed prompts:  85% 436/512 [00:24<00:00, 129.17it/s, est. speed input: 3738.09 toks/s, output: 335.82 toks/s]\u001b[A\n",
      "Processed prompts:  88% 453/512 [00:24<00:00, 130.18it/s, est. speed input: 3887.35 toks/s, output: 353.94 toks/s]\u001b[A\n",
      "Processed prompts:  92% 470/512 [00:24<00:00, 133.43it/s, est. speed input: 4067.25 toks/s, output: 371.40 toks/s]\u001b[A\n",
      "Processed prompts:  95% 485/512 [00:24<00:00, 123.06it/s, est. speed input: 4243.45 toks/s, output: 388.09 toks/s]\u001b[A\n",
      "Processed prompts:  97% 499/512 [00:25<00:00, 93.21it/s, est. speed input: 4404.46 toks/s, output: 406.57 toks/s] \u001b[A\n",
      "Processed prompts: 100% 510/512 [00:25<00:00, 49.12it/s, est. speed input: 4491.23 toks/s, output: 418.18 toks/s]\u001b[A\n",
      "Processed prompts: 100% 511/512 [00:36<00:00, 49.12it/s, est. speed input: 4062.78 toks/s, output: 382.33 toks/s]\u001b[A\n",
      "Processed prompts: 100% 512/512 [00:38<00:00, 13.35it/s, est. speed input: 3039.63 toks/s, output: 298.27 toks/s]\u001b[A\n",
      "\n",
      "Processed prompts:   0% 0/512 [00:00<?, ?it/s, est. speed input: 0.00 toks/s, output: 0.00 toks/s]\u001b[A\n",
      "Processed prompts:   0% 1/512 [00:10<1:26:51, 10.20s/it, est. speed input: 5.69 toks/s, output: 0.59 toks/s]\u001b[A\n",
      "Processed prompts:   1% 3/512 [00:10<23:25,  2.76s/it, est. speed input: 18.17 toks/s, output: 1.90 toks/s] \u001b[A\n",
      "Processed prompts:   2% 11/512 [00:11<04:55,  1.69it/s, est. speed input: 95.93 toks/s, output: 8.35 toks/s]\u001b[A\n",
      "Processed prompts:   4% 20/512 [00:11<02:19,  3.51it/s, est. speed input: 202.03 toks/s, output: 15.89 toks/s]\u001b[A\n",
      "Processed prompts:   6% 31/512 [00:12<01:23,  5.79it/s, est. speed input: 311.29 toks/s, output: 25.02 toks/s]\u001b[A\n",
      "Processed prompts:   7% 37/512 [00:12<01:03,  7.53it/s, est. speed input: 387.42 toks/s, output: 30.55 toks/s]\u001b[A\n",
      "Processed prompts:  10% 52/512 [00:13<00:45, 10.21it/s, est. speed input: 492.65 toks/s, output: 43.06 toks/s]\u001b[A\n",
      "Processed prompts:  13% 67/512 [00:13<00:31, 14.10it/s, est. speed input: 659.10 toks/s, output: 56.75 toks/s]\u001b[A\n",
      "Processed prompts:  16% 81/512 [00:14<00:27, 15.79it/s, est. speed input: 846.22 toks/s, output: 68.00 toks/s]\u001b[A\n",
      "Processed prompts:  20% 100/512 [00:15<00:21, 19.08it/s, est. speed input: 1033.19 toks/s, output: 84.91 toks/s]\u001b[A\n",
      "Processed prompts:  23% 117/512 [00:16<00:21, 18.40it/s, est. speed input: 1135.56 toks/s, output: 97.61 toks/s]\u001b[A\n",
      "Processed prompts:  26% 134/512 [00:16<00:17, 21.31it/s, est. speed input: 1341.20 toks/s, output: 112.78 toks/s]\u001b[A\n",
      "Processed prompts:  28% 145/512 [00:17<00:17, 20.58it/s, est. speed input: 1419.34 toks/s, output: 121.01 toks/s]\u001b[A\n",
      "Processed prompts:  31% 157/512 [00:17<00:15, 22.58it/s, est. speed input: 1532.69 toks/s, output: 131.37 toks/s]\u001b[A\n",
      "Processed prompts:  34% 172/512 [00:18<00:16, 20.48it/s, est. speed input: 1597.44 toks/s, output: 141.62 toks/s]\u001b[A\n",
      "Processed prompts:  35% 179/512 [00:18<00:14, 22.32it/s, est. speed input: 1687.16 toks/s, output: 148.49 toks/s]\u001b[A\n",
      "Processed prompts:  37% 189/512 [00:19<00:15, 20.22it/s, est. speed input: 1731.39 toks/s, output: 153.24 toks/s]\u001b[A\n",
      "Processed prompts:  39% 199/512 [00:19<00:14, 21.04it/s, est. speed input: 1775.96 toks/s, output: 159.89 toks/s]\u001b[A\n",
      "Processed prompts:  41% 210/512 [00:20<00:17, 16.93it/s, est. speed input: 1793.34 toks/s, output: 161.58 toks/s]\u001b[A\n",
      "Processed prompts:  45% 232/512 [00:21<00:12, 22.82it/s, est. speed input: 1991.57 toks/s, output: 177.30 toks/s]\u001b[A\n",
      "Processed prompts:  47% 242/512 [00:21<00:12, 22.31it/s, est. speed input: 2092.80 toks/s, output: 184.06 toks/s]\u001b[A\n",
      "Processed prompts:  51% 259/512 [00:22<00:10, 23.54it/s, est. speed input: 2206.27 toks/s, output: 194.24 toks/s]\u001b[A\n",
      "Processed prompts:  52% 266/512 [00:22<00:09, 25.25it/s, est. speed input: 2228.09 toks/s, output: 199.91 toks/s]\u001b[A\n",
      "Processed prompts:  57% 291/512 [00:22<00:05, 41.34it/s, est. speed input: 2398.90 toks/s, output: 216.99 toks/s]\u001b[A\n",
      "Processed prompts:  62% 316/512 [00:23<00:03, 58.70it/s, est. speed input: 2606.79 toks/s, output: 236.33 toks/s]\u001b[A\n",
      "Processed prompts:  66% 337/512 [00:23<00:02, 72.23it/s, est. speed input: 2808.44 toks/s, output: 253.90 toks/s]\u001b[A\n",
      "Processed prompts:  70% 359/512 [00:23<00:01, 86.91it/s, est. speed input: 2982.42 toks/s, output: 273.52 toks/s]\u001b[A\n",
      "Processed prompts:  75% 385/512 [00:23<00:01, 109.56it/s, est. speed input: 3212.02 toks/s, output: 296.19 toks/s]\u001b[A\n",
      "Processed prompts:  79% 403/512 [00:23<00:00, 120.85it/s, est. speed input: 3421.91 toks/s, output: 311.55 toks/s]\u001b[A\n",
      "Processed prompts:  83% 426/512 [00:23<00:00, 142.66it/s, est. speed input: 3640.81 toks/s, output: 334.21 toks/s]\u001b[A\n",
      "Processed prompts:  87% 447/512 [00:23<00:00, 144.42it/s, est. speed input: 3832.68 toks/s, output: 354.79 toks/s]\u001b[A\n",
      "Processed prompts:  92% 471/512 [00:23<00:00, 159.08it/s, est. speed input: 4099.99 toks/s, output: 379.12 toks/s]\u001b[A\n",
      "Processed prompts:  96% 489/512 [00:24<00:00, 145.89it/s, est. speed input: 4296.61 toks/s, output: 402.52 toks/s]\u001b[A\n",
      "Processed prompts: 100% 512/512 [00:30<00:00, 16.84it/s, est. speed input: 3676.22 toks/s, output: 360.43 toks/s] \u001b[A\n",
      "\n",
      "Processed prompts:   0% 0/512 [00:00<?, ?it/s, est. speed input: 0.00 toks/s, output: 0.00 toks/s]\u001b[A\n",
      "Processed prompts:   0% 1/512 [00:11<1:37:41, 11.47s/it, est. speed input: 5.41 toks/s, output: 0.52 toks/s]\u001b[A\n",
      "Processed prompts:   0% 2/512 [00:11<40:42,  4.79s/it, est. speed input: 9.93 toks/s, output: 1.12 toks/s]  \u001b[A\n",
      "Processed prompts:   2% 9/512 [00:11<06:15,  1.34it/s, est. speed input: 92.44 toks/s, output: 5.25 toks/s]\u001b[A\n",
      "Processed prompts:   2% 12/512 [00:12<04:18,  1.93it/s, est. speed input: 108.88 toks/s, output: 7.19 toks/s]\u001b[A\n",
      "Processed prompts:   3% 16/512 [00:12<02:51,  2.89it/s, est. speed input: 130.23 toks/s, output: 9.94 toks/s]\u001b[A\n",
      "Processed prompts:   4% 19/512 [00:12<02:10,  3.79it/s, est. speed input: 171.93 toks/s, output: 12.20 toks/s]\u001b[A\n",
      "Processed prompts:   5% 24/512 [00:13<01:30,  5.42it/s, est. speed input: 233.80 toks/s, output: 16.12 toks/s]\u001b[A\n",
      "Processed prompts:   6% 32/512 [00:13<00:54,  8.83it/s, est. speed input: 300.20 toks/s, output: 22.97 toks/s]\u001b[A\n",
      "Processed prompts:   9% 46/512 [00:14<00:36, 12.87it/s, est. speed input: 527.45 toks/s, output: 34.82 toks/s]\u001b[A\n",
      "Processed prompts:  10% 53/512 [00:14<00:33, 13.73it/s, est. speed input: 607.21 toks/s, output: 40.61 toks/s]\u001b[A\n",
      "Processed prompts:  14% 70/512 [00:15<00:30, 14.47it/s, est. speed input: 794.75 toks/s, output: 54.07 toks/s]\u001b[A\n",
      "Processed prompts:  17% 86/512 [00:16<00:23, 18.07it/s, est. speed input: 1009.50 toks/s, output: 68.07 toks/s]\u001b[A\n",
      "Processed prompts:  19% 98/512 [00:16<00:22, 18.64it/s, est. speed input: 1160.21 toks/s, output: 77.85 toks/s]\u001b[A\n",
      "Processed prompts:  22% 113/512 [00:17<00:18, 22.11it/s, est. speed input: 1308.64 toks/s, output: 91.21 toks/s]\u001b[A\n",
      "Processed prompts:  26% 133/512 [00:18<00:20, 18.17it/s, est. speed input: 1483.29 toks/s, output: 104.17 toks/s]\u001b[A\n",
      "Processed prompts:  29% 149/512 [00:19<00:18, 19.47it/s, est. speed input: 1590.95 toks/s, output: 117.04 toks/s]\u001b[A\n",
      "Processed prompts:  32% 164/512 [00:20<00:18, 19.08it/s, est. speed input: 1750.12 toks/s, output: 126.83 toks/s]\u001b[A\n",
      "Processed prompts:  35% 177/512 [00:20<00:16, 20.81it/s, est. speed input: 1859.60 toks/s, output: 135.92 toks/s]\u001b[A\n",
      "Processed prompts:  36% 186/512 [00:21<00:16, 19.72it/s, est. speed input: 1901.22 toks/s, output: 140.34 toks/s]\u001b[A\n",
      "Processed prompts:  38% 193/512 [00:21<00:16, 19.69it/s, est. speed input: 1914.01 toks/s, output: 143.71 toks/s]\u001b[A\n",
      "Processed prompts:  39% 202/512 [00:22<00:17, 17.75it/s, est. speed input: 1946.37 toks/s, output: 148.24 toks/s]\u001b[A\n",
      "Processed prompts:  43% 219/512 [00:22<00:14, 20.43it/s, est. speed input: 2042.08 toks/s, output: 159.55 toks/s]\u001b[A\n",
      "Processed prompts:  45% 231/512 [00:23<00:15, 18.22it/s, est. speed input: 2059.65 toks/s, output: 164.64 toks/s]\u001b[A\n",
      "Processed prompts:  47% 243/512 [00:24<00:13, 20.41it/s, est. speed input: 2172.64 toks/s, output: 173.36 toks/s]\u001b[A\n",
      "Processed prompts:  50% 254/512 [00:24<00:13, 18.94it/s, est. speed input: 2246.41 toks/s, output: 177.97 toks/s]\u001b[A\n",
      "Processed prompts:  52% 267/512 [00:24<00:09, 25.09it/s, est. speed input: 2349.17 toks/s, output: 186.97 toks/s]\u001b[A\n",
      "Processed prompts:  56% 287/512 [00:25<00:06, 36.93it/s, est. speed input: 2499.91 toks/s, output: 199.14 toks/s]\u001b[A\n",
      "Processed prompts:  59% 304/512 [00:25<00:04, 46.81it/s, est. speed input: 2617.07 toks/s, output: 212.84 toks/s]\u001b[A\n",
      "Processed prompts:  64% 328/512 [00:25<00:02, 64.97it/s, est. speed input: 2837.09 toks/s, output: 228.86 toks/s]\u001b[A\n",
      "Processed prompts:  69% 353/512 [00:25<00:01, 84.23it/s, est. speed input: 3071.67 toks/s, output: 248.42 toks/s]\u001b[A\n",
      "Processed prompts:  73% 375/512 [00:25<00:01, 98.26it/s, est. speed input: 3253.80 toks/s, output: 266.91 toks/s]\u001b[A\n",
      "Processed prompts:  78% 399/512 [00:25<00:00, 120.45it/s, est. speed input: 3474.98 toks/s, output: 287.37 toks/s]\u001b[A\n",
      "Processed prompts:  82% 419/512 [00:25<00:00, 135.36it/s, est. speed input: 3686.06 toks/s, output: 305.66 toks/s]\u001b[A\n",
      "Processed prompts:  87% 447/512 [00:26<00:00, 152.20it/s, est. speed input: 3974.77 toks/s, output: 329.65 toks/s]\u001b[A\n",
      "Processed prompts:  91% 465/512 [00:26<00:00, 129.58it/s, est. speed input: 4150.45 toks/s, output: 347.32 toks/s]\u001b[A\n",
      "Processed prompts:  94% 481/512 [00:26<00:00, 132.63it/s, est. speed input: 4329.03 toks/s, output: 366.38 toks/s]\u001b[A\n",
      "Processed prompts:  97% 496/512 [00:26<00:00, 107.24it/s, est. speed input: 4465.36 toks/s, output: 383.74 toks/s]\u001b[A\n",
      "Processed prompts: 100% 512/512 [00:37<00:00, 13.77it/s, est. speed input: 3363.77 toks/s, output: 305.27 toks/s] \u001b[A\n",
      "\n",
      "Processed prompts:   0% 0/512 [00:00<?, ?it/s, est. speed input: 0.00 toks/s, output: 0.00 toks/s]\u001b[A\n",
      "Processed prompts:   0% 1/512 [00:10<1:27:07, 10.23s/it, est. speed input: 8.41 toks/s, output: 0.68 toks/s]\u001b[A\n",
      "Processed prompts:   0% 2/512 [00:10<37:01,  4.36s/it, est. speed input: 16.90 toks/s, output: 1.53 toks/s] \u001b[A\n",
      "Processed prompts:   2% 9/512 [00:10<05:39,  1.48it/s, est. speed input: 101.27 toks/s, output: 7.40 toks/s]\u001b[A\n",
      "Processed prompts:   5% 25/512 [00:11<01:43,  4.72it/s, est. speed input: 251.08 toks/s, output: 20.87 toks/s]\u001b[A\n",
      "Processed prompts:   6% 32/512 [00:11<01:15,  6.36it/s, est. speed input: 316.98 toks/s, output: 26.99 toks/s]\u001b[A\n",
      "Processed prompts:   8% 40/512 [00:12<00:57,  8.23it/s, est. speed input: 391.36 toks/s, output: 34.00 toks/s]\u001b[A\n",
      "Processed prompts:  11% 55/512 [00:12<00:37, 12.15it/s, est. speed input: 615.15 toks/s, output: 47.72 toks/s]\u001b[A\n",
      "Processed prompts:  12% 64/512 [00:13<00:35, 12.57it/s, est. speed input: 713.96 toks/s, output: 54.82 toks/s]\u001b[A\n",
      "Processed prompts:  15% 78/512 [00:14<00:28, 15.21it/s, est. speed input: 814.03 toks/s, output: 67.37 toks/s]\u001b[A\n",
      "Processed prompts:  18% 91/512 [00:14<00:25, 16.24it/s, est. speed input: 946.14 toks/s, output: 77.72 toks/s]\u001b[A\n",
      "Processed prompts:  22% 114/512 [00:15<00:18, 21.66it/s, est. speed input: 1218.63 toks/s, output: 99.82 toks/s]\u001b[A\n",
      "Processed prompts:  25% 126/512 [00:16<00:22, 17.22it/s, est. speed input: 1259.87 toks/s, output: 106.23 toks/s]\u001b[A\n",
      "Processed prompts:  27% 138/512 [00:17<00:20, 18.11it/s, est. speed input: 1371.41 toks/s, output: 116.06 toks/s]\u001b[A\n",
      "Processed prompts:  29% 150/512 [00:17<00:20, 17.93it/s, est. speed input: 1422.65 toks/s, output: 123.89 toks/s]\u001b[A\n",
      "Processed prompts:  33% 168/512 [00:18<00:15, 22.12it/s, est. speed input: 1542.75 toks/s, output: 138.63 toks/s]\u001b[A\n",
      "Processed prompts:  34% 176/512 [00:19<00:18, 18.58it/s, est. speed input: 1538.84 toks/s, output: 140.73 toks/s]\u001b[A\n",
      "Processed prompts:  36% 183/512 [00:19<00:16, 20.35it/s, est. speed input: 1577.89 toks/s, output: 145.92 toks/s]\u001b[A\n",
      "Processed prompts:  38% 197/512 [00:20<00:16, 19.51it/s, est. speed input: 1678.65 toks/s, output: 155.48 toks/s]\u001b[A\n",
      "Processed prompts:  41% 208/512 [00:20<00:13, 22.50it/s, est. speed input: 1816.49 toks/s, output: 165.59 toks/s]\u001b[A\n",
      "Processed prompts:  43% 219/512 [00:20<00:14, 20.54it/s, est. speed input: 1869.37 toks/s, output: 171.53 toks/s]\u001b[A\n",
      "Processed prompts:  45% 232/512 [00:21<00:12, 23.04it/s, est. speed input: 1981.01 toks/s, output: 181.78 toks/s]\u001b[A\n",
      "Processed prompts:  48% 245/512 [00:22<00:13, 20.05it/s, est. speed input: 2004.82 toks/s, output: 186.98 toks/s]\u001b[A\n",
      "Processed prompts:  50% 257/512 [00:22<00:11, 22.31it/s, est. speed input: 2094.65 toks/s, output: 194.21 toks/s]\u001b[A\n",
      "Processed prompts:  53% 273/512 [00:22<00:07, 30.56it/s, est. speed input: 2216.12 toks/s, output: 206.36 toks/s]\u001b[A\n",
      "Processed prompts:  58% 295/512 [00:22<00:04, 44.69it/s, est. speed input: 2433.93 toks/s, output: 227.17 toks/s]\u001b[A\n",
      "Processed prompts:  64% 327/512 [00:23<00:02, 70.00it/s, est. speed input: 2648.30 toks/s, output: 251.24 toks/s]\u001b[A\n",
      "Processed prompts:  66% 339/512 [00:23<00:02, 71.61it/s, est. speed input: 2763.59 toks/s, output: 260.22 toks/s]\u001b[A\n",
      "Processed prompts:  71% 362/512 [00:23<00:01, 88.54it/s, est. speed input: 2947.00 toks/s, output: 279.00 toks/s]\u001b[A\n",
      "Processed prompts:  78% 398/512 [00:23<00:00, 128.18it/s, est. speed input: 3229.61 toks/s, output: 309.73 toks/s]\u001b[A\n",
      "Processed prompts:  81% 416/512 [00:23<00:00, 136.62it/s, est. speed input: 3429.48 toks/s, output: 327.95 toks/s]\u001b[A\n",
      "Processed prompts:  86% 441/512 [00:23<00:00, 146.52it/s, est. speed input: 3732.49 toks/s, output: 352.20 toks/s]\u001b[A\n",
      "Processed prompts:  90% 459/512 [00:23<00:00, 145.28it/s, est. speed input: 3927.00 toks/s, output: 373.08 toks/s]\u001b[A\n",
      "Processed prompts:  93% 476/512 [00:24<00:00, 134.77it/s, est. speed input: 4118.05 toks/s, output: 391.27 toks/s]\u001b[A\n",
      "Processed prompts:  96% 491/512 [00:24<00:00, 115.47it/s, est. speed input: 4286.62 toks/s, output: 409.76 toks/s]\u001b[A\n",
      "Processed prompts: 100% 512/512 [00:25<00:00, 20.06it/s, est. speed input: 4409.72 toks/s, output: 425.60 toks/s] \u001b[A\n",
      "\n",
      "Processed prompts:   0% 0/512 [00:00<?, ?it/s, est. speed input: 0.00 toks/s, output: 0.00 toks/s]\u001b[A\n",
      "Processed prompts:   0% 1/512 [00:10<1:32:17, 10.84s/it, est. speed input: 4.98 toks/s, output: 0.46 toks/s]\u001b[A\n",
      "Processed prompts:   1% 4/512 [00:11<17:59,  2.13s/it, est. speed input: 32.02 toks/s, output: 2.07 toks/s] \u001b[A\n",
      "Processed prompts:   1% 6/512 [00:11<10:24,  1.23s/it, est. speed input: 41.94 toks/s, output: 3.37 toks/s]\u001b[A\n",
      "Processed prompts:   2% 8/512 [00:11<06:51,  1.23it/s, est. speed input: 52.14 toks/s, output: 4.76 toks/s]\u001b[A\n",
      "Processed prompts:   3% 13/512 [00:11<03:03,  2.72it/s, est. speed input: 115.71 toks/s, output: 8.58 toks/s]\u001b[A\n",
      "Processed prompts:   5% 26/512 [00:12<01:18,  6.22it/s, est. speed input: 234.59 toks/s, output: 18.41 toks/s]\u001b[A\n",
      "Processed prompts:   6% 31/512 [00:12<01:00,  7.89it/s, est. speed input: 321.97 toks/s, output: 22.52 toks/s]\u001b[A\n",
      "Processed prompts:   6% 33/512 [00:13<01:02,  7.72it/s, est. speed input: 330.78 toks/s, output: 23.93 toks/s]\u001b[A\n",
      "Processed prompts:   9% 45/512 [00:13<00:35, 13.34it/s, est. speed input: 454.02 toks/s, output: 35.04 toks/s]\u001b[A\n",
      "Processed prompts:  12% 59/512 [00:14<00:29, 15.53it/s, est. speed input: 545.77 toks/s, output: 47.14 toks/s]\u001b[A\n",
      "Processed prompts:  16% 80/512 [00:14<00:19, 22.08it/s, est. speed input: 868.88 toks/s, output: 66.85 toks/s]\u001b[A\n",
      "Processed prompts:  19% 97/512 [00:16<00:25, 16.47it/s, est. speed input: 1050.77 toks/s, output: 77.59 toks/s]\u001b[A\n",
      "Processed prompts:  22% 114/512 [00:16<00:20, 19.31it/s, est. speed input: 1209.00 toks/s, output: 92.14 toks/s]\u001b[A\n",
      "Processed prompts:  24% 124/512 [00:17<00:19, 19.64it/s, est. speed input: 1279.16 toks/s, output: 100.07 toks/s]\u001b[A\n",
      "Processed prompts:  27% 138/512 [00:17<00:18, 20.31it/s, est. speed input: 1394.72 toks/s, output: 110.42 toks/s]\u001b[A\n",
      "Processed prompts:  30% 152/512 [00:18<00:18, 19.10it/s, est. speed input: 1490.24 toks/s, output: 120.04 toks/s]\u001b[A\n",
      "Processed prompts:  31% 160/512 [00:19<00:17, 19.66it/s, est. speed input: 1533.02 toks/s, output: 126.17 toks/s]\u001b[A\n",
      "Processed prompts:  34% 173/512 [00:19<00:17, 19.71it/s, est. speed input: 1624.66 toks/s, output: 134.48 toks/s]\u001b[A\n",
      "Processed prompts:  36% 184/512 [00:20<00:16, 20.32it/s, est. speed input: 1679.75 toks/s, output: 141.75 toks/s]\u001b[A\n",
      "Processed prompts:  39% 198/512 [00:21<00:16, 18.59it/s, est. speed input: 1763.01 toks/s, output: 150.15 toks/s]\u001b[A\n",
      "Processed prompts:  41% 211/512 [00:21<00:14, 20.31it/s, est. speed input: 1905.83 toks/s, output: 159.89 toks/s]\u001b[A\n",
      "Processed prompts:  43% 221/512 [00:22<00:15, 18.36it/s, est. speed input: 1917.29 toks/s, output: 162.64 toks/s]\u001b[A\n",
      "Processed prompts:  45% 229/512 [00:22<00:14, 19.39it/s, est. speed input: 1956.78 toks/s, output: 168.68 toks/s]\u001b[A\n",
      "Processed prompts:  47% 242/512 [00:23<00:14, 18.85it/s, est. speed input: 2002.23 toks/s, output: 174.56 toks/s]\u001b[A\n",
      "Processed prompts:  48% 247/512 [00:23<00:13, 19.19it/s, est. speed input: 2054.88 toks/s, output: 176.93 toks/s]\u001b[A\n",
      "Processed prompts:  50% 256/512 [00:24<00:13, 18.54it/s, est. speed input: 2104.69 toks/s, output: 182.27 toks/s]\u001b[A\n",
      "Processed prompts:  55% 282/512 [00:24<00:06, 34.07it/s, est. speed input: 2284.90 toks/s, output: 203.42 toks/s]\u001b[A\n",
      "Processed prompts:  61% 312/512 [00:24<00:03, 55.38it/s, est. speed input: 2518.88 toks/s, output: 227.69 toks/s]\u001b[A\n",
      "Processed prompts:  67% 343/512 [00:24<00:02, 78.88it/s, est. speed input: 2773.94 toks/s, output: 253.16 toks/s]\u001b[A\n",
      "Processed prompts:  72% 368/512 [00:24<00:01, 95.33it/s, est. speed input: 3034.62 toks/s, output: 273.73 toks/s]\u001b[A\n",
      "Processed prompts:  77% 393/512 [00:24<00:01, 114.42it/s, est. speed input: 3255.52 toks/s, output: 291.89 toks/s]\u001b[A\n",
      "Processed prompts:  81% 414/512 [00:25<00:00, 129.43it/s, est. speed input: 3436.61 toks/s, output: 309.40 toks/s]\u001b[A\n",
      "Processed prompts:  84% 432/512 [00:25<00:00, 138.78it/s, est. speed input: 3582.59 toks/s, output: 324.80 toks/s]\u001b[A\n",
      "Processed prompts:  90% 459/512 [00:25<00:00, 157.80it/s, est. speed input: 3871.95 toks/s, output: 350.99 toks/s]\u001b[A\n",
      "Processed prompts:  93% 478/512 [00:25<00:00, 158.96it/s, est. speed input: 4147.46 toks/s, output: 373.18 toks/s]\u001b[A\n",
      "Processed prompts:  97% 496/512 [00:25<00:00, 118.75it/s, est. speed input: 4422.25 toks/s, output: 391.68 toks/s]\u001b[A\n",
      "Processed prompts: 100% 512/512 [00:39<00:00, 12.92it/s, est. speed input: 3012.00 toks/s, output: 292.44 toks/s] \u001b[A\n",
      "\n",
      "Processed prompts:   0% 0/512 [00:00<?, ?it/s, est. speed input: 0.00 toks/s, output: 0.00 toks/s]\u001b[A\n",
      "Processed prompts:   0% 1/512 [00:11<1:33:43, 11.00s/it, est. speed input: 5.27 toks/s, output: 0.45 toks/s]\u001b[A\n",
      "Processed prompts:   0% 2/512 [00:11<39:49,  4.69s/it, est. speed input: 11.36 toks/s, output: 1.07 toks/s] \u001b[A\n",
      "Processed prompts:   1% 4/512 [00:11<15:13,  1.80s/it, est. speed input: 22.58 toks/s, output: 2.36 toks/s]\u001b[A\n",
      "Processed prompts:   1% 7/512 [00:12<07:23,  1.14it/s, est. speed input: 53.88 toks/s, output: 4.33 toks/s]\u001b[A\n",
      "Processed prompts:   2% 12/512 [00:12<03:22,  2.46it/s, est. speed input: 77.28 toks/s, output: 7.96 toks/s]\u001b[A\n",
      "Processed prompts:   3% 16/512 [00:12<02:15,  3.66it/s, est. speed input: 151.84 toks/s, output: 11.03 toks/s]\u001b[A\n",
      "Processed prompts:   4% 21/512 [00:12<01:30,  5.44it/s, est. speed input: 189.14 toks/s, output: 15.13 toks/s]\u001b[A\n",
      "Processed prompts:   5% 28/512 [00:13<01:02,  7.71it/s, est. speed input: 233.71 toks/s, output: 20.99 toks/s]\u001b[A\n",
      "Processed prompts:   8% 40/512 [00:13<00:40, 11.67it/s, est. speed input: 327.88 toks/s, output: 31.46 toks/s]\u001b[A\n",
      "Processed prompts:  10% 49/512 [00:14<00:36, 12.68it/s, est. speed input: 458.72 toks/s, output: 38.92 toks/s]\u001b[A\n",
      "Processed prompts:  13% 67/512 [00:15<00:25, 17.47it/s, est. speed input: 677.28 toks/s, output: 55.14 toks/s]\u001b[A\n",
      "Processed prompts:  15% 79/512 [00:16<00:26, 16.08it/s, est. speed input: 762.64 toks/s, output: 63.64 toks/s]\u001b[A\n",
      "Processed prompts:  19% 97/512 [00:16<00:21, 19.15it/s, est. speed input: 918.55 toks/s, output: 79.43 toks/s]\u001b[A\n",
      "Processed prompts:  21% 108/512 [00:17<00:24, 16.22it/s, est. speed input: 1028.97 toks/s, output: 86.34 toks/s]\u001b[A\n",
      "Processed prompts:  25% 126/512 [00:18<00:19, 19.89it/s, est. speed input: 1212.61 toks/s, output: 101.94 toks/s]\u001b[A\n",
      "Processed prompts:  26% 135/512 [00:18<00:18, 19.85it/s, est. speed input: 1308.94 toks/s, output: 109.14 toks/s]\u001b[A\n",
      "Processed prompts:  28% 143/512 [00:19<00:17, 20.61it/s, est. speed input: 1373.88 toks/s, output: 115.53 toks/s]\u001b[A\n",
      "Processed prompts:  30% 156/512 [00:19<00:17, 20.68it/s, est. speed input: 1461.98 toks/s, output: 125.90 toks/s]\u001b[A\n",
      "Processed prompts:  33% 168/512 [00:20<00:15, 22.29it/s, est. speed input: 1634.64 toks/s, output: 136.92 toks/s]\u001b[A\n",
      "Processed prompts:  35% 181/512 [00:20<00:16, 20.31it/s, est. speed input: 1736.87 toks/s, output: 146.93 toks/s]\u001b[A\n",
      "Processed prompts:  37% 190/512 [00:21<00:14, 21.62it/s, est. speed input: 1791.95 toks/s, output: 151.33 toks/s]\u001b[A\n",
      "Processed prompts:  38% 197/512 [00:21<00:17, 17.78it/s, est. speed input: 1806.09 toks/s, output: 153.98 toks/s]\u001b[A\n",
      "Processed prompts:  41% 210/512 [00:22<00:15, 20.09it/s, est. speed input: 1913.95 toks/s, output: 163.81 toks/s]\u001b[A\n",
      "Processed prompts:  43% 221/512 [00:22<00:14, 20.25it/s, est. speed input: 1996.39 toks/s, output: 169.87 toks/s]\u001b[A\n",
      "Processed prompts:  46% 238/512 [00:23<00:11, 23.03it/s, est. speed input: 2152.19 toks/s, output: 182.21 toks/s]\u001b[A\n",
      "Processed prompts:  50% 254/512 [00:24<00:14, 17.46it/s, est. speed input: 2189.70 toks/s, output: 186.44 toks/s]\u001b[A\n",
      "Processed prompts:  53% 271/512 [00:25<00:10, 23.88it/s, est. speed input: 2377.12 toks/s, output: 200.57 toks/s]\u001b[A\n",
      "Processed prompts:  56% 286/512 [00:25<00:07, 30.55it/s, est. speed input: 2520.71 toks/s, output: 214.28 toks/s]\u001b[A\n",
      "Processed prompts:  59% 302/512 [00:25<00:05, 38.94it/s, est. speed input: 2630.21 toks/s, output: 225.25 toks/s]\u001b[A\n",
      "Processed prompts:  64% 330/512 [00:25<00:03, 59.58it/s, est. speed input: 2838.36 toks/s, output: 245.88 toks/s]\u001b[A\n",
      "Processed prompts:  69% 353/512 [00:25<00:02, 75.41it/s, est. speed input: 2999.34 toks/s, output: 263.40 toks/s]\u001b[A\n",
      "Processed prompts:  74% 380/512 [00:25<00:01, 96.99it/s, est. speed input: 3252.72 toks/s, output: 285.12 toks/s]\u001b[A\n",
      "Processed prompts:  79% 402/512 [00:25<00:00, 115.15it/s, est. speed input: 3434.85 toks/s, output: 300.59 toks/s]\u001b[A\n",
      "Processed prompts:  82% 420/512 [00:26<00:00, 126.69it/s, est. speed input: 3568.79 toks/s, output: 315.34 toks/s]\u001b[A\n",
      "Processed prompts:  86% 438/512 [00:26<00:00, 125.73it/s, est. speed input: 3772.78 toks/s, output: 329.45 toks/s]\u001b[A\n",
      "Processed prompts:  89% 454/512 [00:26<00:00, 124.32it/s, est. speed input: 3969.15 toks/s, output: 344.41 toks/s]\u001b[A\n",
      "Processed prompts:  92% 469/512 [00:26<00:00, 124.76it/s, est. speed input: 4091.68 toks/s, output: 363.17 toks/s]\u001b[A\n",
      "Processed prompts:  94% 483/512 [00:26<00:00, 106.41it/s, est. speed input: 4277.35 toks/s, output: 377.18 toks/s]\u001b[A\n",
      "Processed prompts:  97% 495/512 [00:26<00:00, 86.30it/s, est. speed input: 4387.56 toks/s, output: 390.18 toks/s] \u001b[A\n",
      "Processed prompts: 100% 512/512 [00:29<00:00, 17.44it/s, est. speed input: 4190.34 toks/s, output: 394.05 toks/s]\u001b[A\n",
      "\n",
      "Processed prompts:   0% 0/512 [00:00<?, ?it/s, est. speed input: 0.00 toks/s, output: 0.00 toks/s]\u001b[A\n",
      "Processed prompts:   0% 1/512 [00:10<1:27:49, 10.31s/it, est. speed input: 6.11 toks/s, output: 0.58 toks/s]\u001b[A\n",
      "Processed prompts:   1% 5/512 [00:10<13:39,  1.62s/it, est. speed input: 30.21 toks/s, output: 3.27 toks/s] \u001b[A\n",
      "Processed prompts:   2% 8/512 [00:10<07:19,  1.15it/s, est. speed input: 45.97 toks/s, output: 5.53 toks/s]\u001b[A\n",
      "Processed prompts:   3% 17/512 [00:11<02:44,  3.00it/s, est. speed input: 97.56 toks/s, output: 12.37 toks/s]\u001b[A\n",
      "Processed prompts:   4% 21/512 [00:11<02:04,  3.95it/s, est. speed input: 120.38 toks/s, output: 15.58 toks/s]\u001b[A\n",
      "Processed prompts:   6% 30/512 [00:12<01:16,  6.31it/s, est. speed input: 205.16 toks/s, output: 23.04 toks/s]\u001b[A\n",
      "Processed prompts:   8% 39/512 [00:12<00:49,  9.62it/s, est. speed input: 288.71 toks/s, output: 31.32 toks/s]\u001b[A\n",
      "Processed prompts:  10% 53/512 [00:13<00:36, 12.65it/s, est. speed input: 413.34 toks/s, output: 43.42 toks/s]\u001b[A\n",
      "Processed prompts:  12% 64/512 [00:13<00:28, 15.92it/s, est. speed input: 544.84 toks/s, output: 53.67 toks/s]\u001b[A\n",
      "Processed prompts:  15% 77/512 [00:14<00:28, 15.51it/s, est. speed input: 686.05 toks/s, output: 63.96 toks/s]\u001b[A\n",
      "Processed prompts:  19% 99/512 [00:15<00:20, 20.41it/s, est. speed input: 937.75 toks/s, output: 84.29 toks/s]\u001b[A\n",
      "Processed prompts:  22% 112/512 [00:15<00:20, 19.64it/s, est. speed input: 1070.62 toks/s, output: 94.41 toks/s]\u001b[A\n",
      "Processed prompts:  25% 126/512 [00:16<00:18, 20.73it/s, est. speed input: 1286.68 toks/s, output: 106.37 toks/s]\u001b[A\n",
      "Processed prompts:  27% 138/512 [00:17<00:19, 19.67it/s, est. speed input: 1388.76 toks/s, output: 114.71 toks/s]\u001b[A\n",
      "Processed prompts:  31% 157/512 [00:17<00:16, 22.11it/s, est. speed input: 1582.42 toks/s, output: 131.06 toks/s]\u001b[A\n",
      "Processed prompts:  33% 169/512 [00:18<00:17, 20.06it/s, est. speed input: 1664.87 toks/s, output: 138.34 toks/s]\u001b[A\n",
      "Processed prompts:  35% 181/512 [00:18<00:14, 22.46it/s, est. speed input: 1748.27 toks/s, output: 149.04 toks/s]\u001b[A\n",
      "Processed prompts:  37% 191/512 [00:19<00:15, 21.04it/s, est. speed input: 1810.00 toks/s, output: 153.75 toks/s]\u001b[A\n",
      "Processed prompts:  39% 198/512 [00:19<00:13, 22.60it/s, est. speed input: 1864.59 toks/s, output: 160.63 toks/s]\u001b[A\n",
      "Processed prompts:  42% 214/512 [00:20<00:15, 19.12it/s, est. speed input: 1942.15 toks/s, output: 168.89 toks/s]\u001b[A\n",
      "Processed prompts:  44% 223/512 [00:21<00:13, 21.68it/s, est. speed input: 2037.31 toks/s, output: 175.97 toks/s]\u001b[A\n",
      "Processed prompts:  46% 235/512 [00:21<00:12, 22.04it/s, est. speed input: 2123.06 toks/s, output: 182.31 toks/s]\u001b[A\n",
      "Processed prompts:  48% 245/512 [00:22<00:12, 21.49it/s, est. speed input: 2170.14 toks/s, output: 187.04 toks/s]\u001b[A\n",
      "Processed prompts:  51% 259/512 [00:22<00:11, 21.13it/s, est. speed input: 2246.76 toks/s, output: 194.13 toks/s]\u001b[A\n",
      "Processed prompts:  56% 286/512 [00:22<00:06, 36.70it/s, est. speed input: 2513.69 toks/s, output: 217.24 toks/s]\u001b[A\n",
      "Processed prompts:  61% 312/512 [00:23<00:03, 53.35it/s, est. speed input: 2756.64 toks/s, output: 239.98 toks/s]\u001b[A\n",
      "Processed prompts:  65% 335/512 [00:23<00:02, 68.07it/s, est. speed input: 2918.38 toks/s, output: 256.45 toks/s]\u001b[A\n",
      "Processed prompts:  72% 368/512 [00:23<00:01, 95.39it/s, est. speed input: 3214.56 toks/s, output: 279.35 toks/s]\u001b[A\n",
      "Processed prompts:  76% 389/512 [00:23<00:01, 108.72it/s, est. speed input: 3386.63 toks/s, output: 296.46 toks/s]\u001b[A\n",
      "Processed prompts:  81% 415/512 [00:23<00:00, 133.26it/s, est. speed input: 3606.43 toks/s, output: 318.54 toks/s]\u001b[A\n",
      "Processed prompts:  86% 441/512 [00:23<00:00, 145.15it/s, est. speed input: 3869.47 toks/s, output: 345.86 toks/s]\u001b[A\n",
      "Processed prompts:  90% 462/512 [00:23<00:00, 152.11it/s, est. speed input: 4036.61 toks/s, output: 369.67 toks/s]\u001b[A\n",
      "Processed prompts:  94% 480/512 [00:24<00:00, 142.57it/s, est. speed input: 4196.70 toks/s, output: 388.45 toks/s]\u001b[A\n",
      "Processed prompts:  97% 497/512 [00:24<00:00, 117.23it/s, est. speed input: 4395.23 toks/s, output: 409.84 toks/s]\u001b[A\n",
      "Processed prompts: 100% 512/512 [00:26<00:00, 19.68it/s, est. speed input: 4328.71 toks/s, output: 413.59 toks/s] \u001b[A\n",
      "\n",
      "Processed prompts:   0% 0/512 [00:00<?, ?it/s, est. speed input: 0.00 toks/s, output: 0.00 toks/s]\u001b[A\n",
      "Processed prompts:   0% 1/512 [00:11<1:34:03, 11.04s/it, est. speed input: 5.89 toks/s, output: 0.45 toks/s]\u001b[A\n",
      "Processed prompts:   1% 4/512 [00:11<18:57,  2.24s/it, est. speed input: 30.27 toks/s, output: 2.24 toks/s] \u001b[A\n",
      "Processed prompts:   2% 11/512 [00:12<05:29,  1.52it/s, est. speed input: 100.09 toks/s, output: 7.93 toks/s]\u001b[A\n",
      "Processed prompts:   4% 22/512 [00:12<02:14,  3.63it/s, est. speed input: 261.03 toks/s, output: 17.35 toks/s]\u001b[A\n",
      "Processed prompts:   6% 30/512 [00:13<01:34,  5.12it/s, est. speed input: 358.01 toks/s, output: 23.97 toks/s]\u001b[A\n",
      "Processed prompts:   8% 41/512 [00:13<00:58,  8.09it/s, est. speed input: 444.14 toks/s, output: 34.07 toks/s]\u001b[A\n",
      "Processed prompts:  10% 53/512 [00:14<00:47,  9.68it/s, est. speed input: 533.32 toks/s, output: 43.76 toks/s]\u001b[A\n",
      "Processed prompts:  14% 70/512 [00:14<00:32, 13.54it/s, est. speed input: 728.59 toks/s, output: 58.95 toks/s]\u001b[A\n",
      "Processed prompts:  18% 90/512 [00:16<00:27, 15.18it/s, est. speed input: 880.48 toks/s, output: 74.28 toks/s]\u001b[A\n",
      "Processed prompts:  22% 111/512 [00:16<00:21, 18.89it/s, est. speed input: 1121.33 toks/s, output: 92.24 toks/s]\u001b[A\n",
      "Processed prompts:  25% 126/512 [00:17<00:20, 19.10it/s, est. speed input: 1255.59 toks/s, output: 102.92 toks/s]\u001b[A\n",
      "Processed prompts:  27% 139/512 [00:18<00:17, 20.80it/s, est. speed input: 1405.18 toks/s, output: 114.01 toks/s]\u001b[A\n",
      "Processed prompts:  30% 154/512 [00:18<00:17, 20.10it/s, est. speed input: 1591.39 toks/s, output: 124.54 toks/s]\u001b[A\n",
      "Processed prompts:  32% 165/512 [00:19<00:16, 21.57it/s, est. speed input: 1657.29 toks/s, output: 132.62 toks/s]\u001b[A\n",
      "Processed prompts:  35% 177/512 [00:19<00:15, 22.02it/s, est. speed input: 1797.45 toks/s, output: 142.59 toks/s]\u001b[A\n",
      "Processed prompts:  37% 189/512 [00:20<00:14, 21.54it/s, est. speed input: 1864.48 toks/s, output: 149.78 toks/s]\u001b[A\n",
      "Processed prompts:  38% 196/512 [00:20<00:16, 19.66it/s, est. speed input: 1951.27 toks/s, output: 154.37 toks/s]\u001b[A\n",
      "Processed prompts:  41% 210/512 [00:21<00:14, 20.99it/s, est. speed input: 2026.74 toks/s, output: 163.16 toks/s]\u001b[A\n",
      "Processed prompts:  43% 220/512 [00:21<00:13, 21.01it/s, est. speed input: 2075.97 toks/s, output: 167.99 toks/s]\u001b[A\n",
      "Processed prompts:  46% 237/512 [00:22<00:12, 22.75it/s, est. speed input: 2212.35 toks/s, output: 178.27 toks/s]\u001b[A\n",
      "Processed prompts:  49% 251/512 [00:23<00:12, 20.51it/s, est. speed input: 2270.00 toks/s, output: 185.52 toks/s]\u001b[A\n",
      "Processed prompts:  51% 263/512 [00:23<00:10, 24.58it/s, est. speed input: 2409.95 toks/s, output: 194.97 toks/s]\u001b[A\n",
      "Processed prompts:  54% 274/512 [00:23<00:08, 29.04it/s, est. speed input: 2481.72 toks/s, output: 201.41 toks/s]\u001b[A\n",
      "Processed prompts:  57% 293/512 [00:23<00:05, 41.00it/s, est. speed input: 2635.45 toks/s, output: 215.35 toks/s]\u001b[A\n",
      "Processed prompts:  62% 319/512 [00:24<00:03, 60.92it/s, est. speed input: 2831.57 toks/s, output: 236.28 toks/s]\u001b[A\n",
      "Processed prompts:  69% 351/512 [00:24<00:01, 88.31it/s, est. speed input: 3091.87 toks/s, output: 261.69 toks/s]\u001b[A\n",
      "Processed prompts:  73% 375/512 [00:24<00:01, 103.79it/s, est. speed input: 3275.65 toks/s, output: 280.14 toks/s]\u001b[A\n",
      "Processed prompts:  77% 394/512 [00:24<00:01, 114.18it/s, est. speed input: 3430.99 toks/s, output: 294.26 toks/s]\u001b[A\n",
      "Processed prompts:  80% 409/512 [00:24<00:00, 119.66it/s, est. speed input: 3569.80 toks/s, output: 306.61 toks/s]\u001b[A\n",
      "Processed prompts:  84% 432/512 [00:24<00:00, 129.64it/s, est. speed input: 3768.27 toks/s, output: 326.65 toks/s]\u001b[A\n",
      "Processed prompts:  88% 449/512 [00:24<00:00, 128.50it/s, est. speed input: 3915.82 toks/s, output: 342.57 toks/s]\u001b[A\n",
      "Processed prompts:  91% 464/512 [00:25<00:00, 127.73it/s, est. speed input: 4081.06 toks/s, output: 358.15 toks/s]\u001b[A\n",
      "Processed prompts:  93% 478/512 [00:25<00:00, 108.58it/s, est. speed input: 4203.30 toks/s, output: 372.94 toks/s]\u001b[A\n",
      "Processed prompts:  96% 490/512 [00:25<00:00, 86.72it/s, est. speed input: 4350.09 toks/s, output: 390.47 toks/s] \u001b[A\n",
      "Processed prompts:  98% 500/512 [00:25<00:00, 69.64it/s, est. speed input: 4443.83 toks/s, output: 406.94 toks/s]\u001b[A\n",
      "Processed prompts: 100% 512/512 [00:35<00:00, 14.61it/s, est. speed input: 3370.13 toks/s, output: 335.31 toks/s]\u001b[A\n",
      "\n",
      "Processed prompts:   0% 0/512 [00:00<?, ?it/s, est. speed input: 0.00 toks/s, output: 0.00 toks/s]\u001b[A\n",
      "Processed prompts:   0% 1/512 [00:09<1:24:51,  9.96s/it, est. speed input: 5.42 toks/s, output: 0.50 toks/s]\u001b[A\n",
      "Processed prompts:   1% 4/512 [00:10<16:53,  2.00s/it, est. speed input: 33.55 toks/s, output: 2.41 toks/s] \u001b[A\n",
      "Processed prompts:   1% 7/512 [00:10<07:58,  1.06it/s, est. speed input: 49.32 toks/s, output: 4.76 toks/s]\u001b[A\n",
      "Processed prompts:   2% 11/512 [00:10<04:14,  1.97it/s, est. speed input: 104.91 toks/s, output: 8.04 toks/s]\u001b[A\n",
      "Processed prompts:   4% 19/512 [00:11<01:55,  4.26it/s, est. speed input: 182.83 toks/s, output: 15.03 toks/s]\u001b[A\n",
      "Processed prompts:   5% 26/512 [00:11<01:18,  6.16it/s, est. speed input: 268.83 toks/s, output: 21.16 toks/s]\u001b[A\n",
      "Processed prompts:   7% 36/512 [00:11<00:48,  9.72it/s, est. speed input: 417.73 toks/s, output: 30.66 toks/s]\u001b[A\n",
      "Processed prompts:   8% 42/512 [00:12<00:46, 10.15it/s, est. speed input: 454.33 toks/s, output: 35.69 toks/s]\u001b[A\n",
      "Processed prompts:  12% 62/512 [00:13<00:27, 16.18it/s, est. speed input: 686.53 toks/s, output: 55.11 toks/s]\u001b[A\n",
      "Processed prompts:  14% 74/512 [00:14<00:29, 14.60it/s, est. speed input: 774.39 toks/s, output: 64.05 toks/s]\u001b[A\n",
      "Processed prompts:  17% 87/512 [00:14<00:26, 16.06it/s, est. speed input: 900.84 toks/s, output: 75.33 toks/s]\u001b[A\n",
      "Processed prompts:  21% 105/512 [00:15<00:24, 16.39it/s, est. speed input: 1085.44 toks/s, output: 89.29 toks/s]\u001b[A\n",
      "Processed prompts:  23% 119/512 [00:16<00:21, 18.23it/s, est. speed input: 1164.85 toks/s, output: 101.55 toks/s]\u001b[A\n",
      "Processed prompts:  26% 135/512 [00:17<00:19, 19.10it/s, est. speed input: 1261.15 toks/s, output: 114.20 toks/s]\u001b[A\n",
      "Processed prompts:  29% 148/512 [00:17<00:17, 21.15it/s, est. speed input: 1412.86 toks/s, output: 125.81 toks/s]\u001b[A\n",
      "Processed prompts:  31% 161/512 [00:18<00:18, 19.16it/s, est. speed input: 1480.48 toks/s, output: 134.49 toks/s]\u001b[A\n",
      "Processed prompts:  34% 174/512 [00:18<00:15, 21.50it/s, est. speed input: 1561.97 toks/s, output: 145.58 toks/s]\u001b[A\n",
      "Processed prompts:  35% 179/512 [00:19<00:16, 19.94it/s, est. speed input: 1563.71 toks/s, output: 148.84 toks/s]\u001b[A\n",
      "Processed prompts:  38% 196/512 [00:19<00:14, 21.65it/s, est. speed input: 1707.28 toks/s, output: 161.71 toks/s]\u001b[A\n",
      "Processed prompts:  40% 207/512 [00:20<00:14, 21.44it/s, est. speed input: 1739.84 toks/s, output: 167.51 toks/s]\u001b[A\n",
      "Processed prompts:  42% 217/512 [00:20<00:13, 21.41it/s, est. speed input: 1812.76 toks/s, output: 174.87 toks/s]\u001b[A\n",
      "Processed prompts:  45% 230/512 [00:21<00:15, 18.78it/s, est. speed input: 1878.09 toks/s, output: 180.51 toks/s]\u001b[A\n",
      "Processed prompts:  47% 239/512 [00:22<00:12, 21.03it/s, est. speed input: 1943.32 toks/s, output: 186.05 toks/s]\u001b[A\n",
      "Processed prompts:  49% 252/512 [00:22<00:12, 20.65it/s, est. speed input: 2007.96 toks/s, output: 190.38 toks/s]\u001b[A\n",
      "Processed prompts:  51% 263/512 [00:23<00:10, 23.00it/s, est. speed input: 2105.83 toks/s, output: 197.55 toks/s]\u001b[A\n",
      "Processed prompts:  56% 285/512 [00:23<00:06, 36.24it/s, est. speed input: 2289.96 toks/s, output: 214.17 toks/s]\u001b[A\n",
      "Processed prompts:  60% 309/512 [00:23<00:03, 52.69it/s, est. speed input: 2474.86 toks/s, output: 228.47 toks/s]\u001b[A\n",
      "Processed prompts:  66% 338/512 [00:23<00:02, 75.43it/s, est. speed input: 2755.49 toks/s, output: 253.61 toks/s]\u001b[A\n",
      "Processed prompts:  71% 362/512 [00:23<00:01, 91.76it/s, est. speed input: 2964.73 toks/s, output: 277.05 toks/s]\u001b[A\n",
      "Processed prompts:  76% 389/512 [00:23<00:01, 115.22it/s, est. speed input: 3237.13 toks/s, output: 299.44 toks/s]\u001b[A\n",
      "Processed prompts:  80% 408/512 [00:23<00:00, 127.26it/s, est. speed input: 3410.96 toks/s, output: 313.73 toks/s]\u001b[A\n",
      "Processed prompts:  83% 425/512 [00:24<00:00, 135.50it/s, est. speed input: 3605.50 toks/s, output: 328.62 toks/s]\u001b[A\n",
      "Processed prompts:  87% 444/512 [00:24<00:00, 134.67it/s, est. speed input: 3817.13 toks/s, output: 349.47 toks/s]\u001b[A\n",
      "Processed prompts:  90% 461/512 [00:24<00:00, 136.07it/s, est. speed input: 4027.21 toks/s, output: 366.91 toks/s]\u001b[A\n",
      "Processed prompts:  93% 477/512 [00:24<00:00, 137.05it/s, est. speed input: 4227.87 toks/s, output: 386.62 toks/s]\u001b[A\n",
      "Processed prompts:  96% 492/512 [00:24<00:00, 108.13it/s, est. speed input: 4364.96 toks/s, output: 404.02 toks/s]\u001b[A\n",
      "Processed prompts: 100% 512/512 [00:34<00:00, 14.97it/s, est. speed input: 3309.63 toks/s, output: 329.28 toks/s] \u001b[A\n",
      "\n",
      "Processed prompts:   0% 0/512 [00:00<?, ?it/s, est. speed input: 0.00 toks/s, output: 0.00 toks/s]\u001b[A\n",
      "Processed prompts:   0% 1/512 [00:10<1:33:15, 10.95s/it, est. speed input: 9.68 toks/s, output: 0.64 toks/s]\u001b[A\n",
      "Processed prompts:   1% 5/512 [00:11<14:32,  1.72s/it, est. speed input: 30.70 toks/s, output: 3.52 toks/s] \u001b[A\n",
      "Processed prompts:   2% 9/512 [00:11<07:02,  1.19it/s, est. speed input: 68.52 toks/s, output: 6.84 toks/s]\u001b[A\n",
      "Processed prompts:   3% 17/512 [00:12<02:53,  2.86it/s, est. speed input: 122.07 toks/s, output: 14.01 toks/s]\u001b[A\n",
      "Processed prompts:   5% 28/512 [00:12<01:30,  5.33it/s, est. speed input: 323.05 toks/s, output: 23.84 toks/s]\u001b[A\n",
      "Processed prompts:   9% 47/512 [00:13<00:46,  9.92it/s, est. speed input: 532.70 toks/s, output: 41.13 toks/s]\u001b[A\n",
      "Processed prompts:  12% 61/512 [00:14<00:40, 11.14it/s, est. speed input: 669.49 toks/s, output: 51.95 toks/s]\u001b[A\n",
      "Processed prompts:  15% 75/512 [00:15<00:33, 13.23it/s, est. speed input: 802.08 toks/s, output: 63.56 toks/s]\u001b[A\n",
      "Processed prompts:  17% 86/512 [00:15<00:32, 13.18it/s, est. speed input: 900.44 toks/s, output: 71.31 toks/s]\u001b[A\n",
      "Processed prompts:  19% 97/512 [00:16<00:27, 14.84it/s, est. speed input: 1057.06 toks/s, output: 80.54 toks/s]\u001b[A\n",
      "Processed prompts:  22% 112/512 [00:17<00:24, 16.42it/s, est. speed input: 1193.60 toks/s, output: 92.84 toks/s]\u001b[A\n",
      "Processed prompts:  26% 134/512 [00:17<00:17, 21.08it/s, est. speed input: 1413.27 toks/s, output: 112.34 toks/s]\u001b[A\n",
      "Processed prompts:  28% 144/512 [00:18<00:22, 16.36it/s, est. speed input: 1428.78 toks/s, output: 115.15 toks/s]\u001b[A\n",
      "Processed prompts:  30% 156/512 [00:19<00:20, 17.42it/s, est. speed input: 1535.35 toks/s, output: 124.20 toks/s]\u001b[A\n",
      "Processed prompts:  33% 169/512 [00:20<00:20, 16.87it/s, est. speed input: 1596.58 toks/s, output: 132.17 toks/s]\u001b[A\n",
      "Processed prompts:  35% 181/512 [00:20<00:17, 18.46it/s, est. speed input: 1641.23 toks/s, output: 141.29 toks/s]\u001b[A\n",
      "Processed prompts:  38% 194/512 [00:21<00:16, 19.37it/s, est. speed input: 1715.04 toks/s, output: 150.53 toks/s]\u001b[A\n",
      "Processed prompts:  40% 206/512 [00:21<00:15, 20.40it/s, est. speed input: 1839.03 toks/s, output: 159.16 toks/s]\u001b[A\n",
      "Processed prompts:  43% 221/512 [00:22<00:14, 20.03it/s, est. speed input: 1946.26 toks/s, output: 168.08 toks/s]\u001b[A\n",
      "Processed prompts:  46% 233/512 [00:22<00:11, 23.63it/s, est. speed input: 2064.25 toks/s, output: 177.59 toks/s]\u001b[A\n",
      "Processed prompts:  47% 243/512 [00:23<00:13, 19.29it/s, est. speed input: 2081.93 toks/s, output: 178.93 toks/s]\u001b[A\n",
      "Processed prompts:  50% 254/512 [00:24<00:12, 19.93it/s, est. speed input: 2127.02 toks/s, output: 184.76 toks/s]\u001b[A\n",
      "Processed prompts:  54% 275/512 [00:24<00:08, 28.74it/s, est. speed input: 2249.59 toks/s, output: 198.17 toks/s]\u001b[A\n",
      "Processed prompts:  58% 298/512 [00:24<00:05, 42.17it/s, est. speed input: 2477.40 toks/s, output: 213.12 toks/s]\u001b[A\n",
      "Processed prompts:  63% 321/512 [00:24<00:03, 56.97it/s, est. speed input: 2710.02 toks/s, output: 233.39 toks/s]\u001b[A\n",
      "Processed prompts:  67% 344/512 [00:25<00:02, 72.50it/s, est. speed input: 2902.73 toks/s, output: 250.56 toks/s]\u001b[A\n",
      "Processed prompts:  72% 367/512 [00:25<00:01, 88.07it/s, est. speed input: 3096.27 toks/s, output: 267.46 toks/s]\u001b[A\n",
      "Processed prompts:  74% 380/512 [00:25<00:01, 89.02it/s, est. speed input: 3166.54 toks/s, output: 277.42 toks/s]\u001b[A\n",
      "Processed prompts:  78% 398/512 [00:25<00:01, 102.95it/s, est. speed input: 3377.84 toks/s, output: 293.31 toks/s]\u001b[A\n",
      "Processed prompts:  83% 427/512 [00:25<00:00, 138.68it/s, est. speed input: 3656.39 toks/s, output: 318.38 toks/s]\u001b[A\n",
      "Processed prompts:  89% 454/512 [00:25<00:00, 154.79it/s, est. speed input: 3935.99 toks/s, output: 344.42 toks/s]\u001b[A\n",
      "Processed prompts:  92% 473/512 [00:25<00:00, 134.34it/s, est. speed input: 4091.05 toks/s, output: 362.45 toks/s]\u001b[A\n",
      "Processed prompts:  96% 489/512 [00:26<00:00, 125.77it/s, est. speed input: 4306.09 toks/s, output: 380.50 toks/s]\u001b[A\n",
      "Processed prompts: 100% 512/512 [00:30<00:00, 17.05it/s, est. speed input: 4069.45 toks/s, output: 371.96 toks/s] \u001b[A\n",
      "\n",
      "Processed prompts:   0% 0/512 [00:00<?, ?it/s, est. speed input: 0.00 toks/s, output: 0.00 toks/s]\u001b[A\n",
      "Processed prompts:   0% 1/512 [00:10<1:29:23, 10.50s/it, est. speed input: 6.48 toks/s, output: 0.57 toks/s]\u001b[A\n",
      "Processed prompts:   0% 2/512 [00:10<37:17,  4.39s/it, est. speed input: 11.97 toks/s, output: 1.23 toks/s] \u001b[A\n",
      "Processed prompts:   1% 3/512 [00:10<21:14,  2.50s/it, est. speed input: 40.38 toks/s, output: 1.93 toks/s]\u001b[A\n",
      "Processed prompts:   2% 9/512 [00:11<04:36,  1.82it/s, est. speed input: 69.76 toks/s, output: 6.27 toks/s]\u001b[A\n",
      "Processed prompts:   3% 15/512 [00:11<02:27,  3.37it/s, est. speed input: 159.97 toks/s, output: 10.76 toks/s]\u001b[A\n",
      "Processed prompts:   4% 20/512 [00:11<01:37,  5.06it/s, est. speed input: 185.55 toks/s, output: 14.88 toks/s]\u001b[A\n",
      "Processed prompts:   6% 29/512 [00:12<01:00,  7.99it/s, est. speed input: 307.63 toks/s, output: 22.44 toks/s]\u001b[A\n",
      "Processed prompts:   8% 42/512 [00:12<00:39, 12.03it/s, est. speed input: 473.55 toks/s, output: 33.70 toks/s]\u001b[A\n",
      "Processed prompts:  11% 54/512 [00:13<00:34, 13.47it/s, est. speed input: 564.53 toks/s, output: 43.45 toks/s]\u001b[A\n",
      "Processed prompts:  14% 74/512 [00:14<00:24, 18.20it/s, est. speed input: 774.42 toks/s, output: 61.02 toks/s]\u001b[A\n",
      "Processed prompts:  18% 94/512 [00:15<00:24, 17.25it/s, est. speed input: 1018.99 toks/s, output: 75.52 toks/s]\u001b[A\n",
      "Processed prompts:  21% 109/512 [00:16<00:21, 18.46it/s, est. speed input: 1169.88 toks/s, output: 86.59 toks/s]\u001b[A\n",
      "Processed prompts:  24% 123/512 [00:17<00:21, 17.87it/s, est. speed input: 1260.07 toks/s, output: 95.73 toks/s]\u001b[A\n",
      "Processed prompts:  27% 136/512 [00:17<00:19, 19.13it/s, est. speed input: 1371.78 toks/s, output: 105.15 toks/s]\u001b[A\n",
      "Processed prompts:  29% 147/512 [00:18<00:18, 19.37it/s, est. speed input: 1463.05 toks/s, output: 113.12 toks/s]\u001b[A\n",
      "Processed prompts:  32% 163/512 [00:18<00:17, 20.49it/s, est. speed input: 1609.87 toks/s, output: 125.98 toks/s]\u001b[A\n",
      "Processed prompts:  35% 178/512 [00:19<00:17, 19.28it/s, est. speed input: 1723.52 toks/s, output: 134.67 toks/s]\u001b[A\n",
      "Processed prompts:  37% 188/512 [00:20<00:15, 21.48it/s, est. speed input: 1828.86 toks/s, output: 142.68 toks/s]\u001b[A\n",
      "Processed prompts:  38% 195/512 [00:20<00:17, 17.83it/s, est. speed input: 1877.90 toks/s, output: 144.65 toks/s]\u001b[A\n",
      "Processed prompts:  40% 205/512 [00:21<00:15, 19.26it/s, est. speed input: 1926.17 toks/s, output: 150.41 toks/s]\u001b[A\n",
      "Processed prompts:  42% 215/512 [00:21<00:16, 18.16it/s, est. speed input: 1973.82 toks/s, output: 156.04 toks/s]\u001b[A\n",
      "Processed prompts:  44% 223/512 [00:22<00:15, 18.14it/s, est. speed input: 2016.95 toks/s, output: 160.81 toks/s]\u001b[A\n",
      "Processed prompts:  46% 236/512 [00:22<00:15, 18.07it/s, est. speed input: 2068.28 toks/s, output: 167.25 toks/s]\u001b[A\n",
      "Processed prompts:  49% 251/512 [00:23<00:12, 20.29it/s, est. speed input: 2179.45 toks/s, output: 176.74 toks/s]\u001b[A\n",
      "Processed prompts:  51% 261/512 [00:23<00:12, 20.69it/s, est. speed input: 2220.61 toks/s, output: 181.52 toks/s]\u001b[A\n",
      "Processed prompts:  55% 284/512 [00:24<00:06, 33.93it/s, est. speed input: 2397.77 toks/s, output: 200.47 toks/s]\u001b[A\n",
      "Processed prompts:  60% 306/512 [00:24<00:04, 47.61it/s, est. speed input: 2561.74 toks/s, output: 216.10 toks/s]\u001b[A\n",
      "Processed prompts:  65% 333/512 [00:24<00:02, 67.26it/s, est. speed input: 2779.27 toks/s, output: 237.74 toks/s]\u001b[A\n",
      "Processed prompts:  71% 361/512 [00:24<00:01, 88.75it/s, est. speed input: 3064.85 toks/s, output: 262.95 toks/s]\u001b[A\n",
      "Processed prompts:  75% 382/512 [00:24<00:01, 100.96it/s, est. speed input: 3239.48 toks/s, output: 279.01 toks/s]\u001b[A\n",
      "Processed prompts:  79% 402/512 [00:24<00:00, 116.05it/s, est. speed input: 3470.37 toks/s, output: 293.03 toks/s]\u001b[A\n",
      "Processed prompts:  82% 418/512 [00:24<00:00, 124.02it/s, est. speed input: 3642.58 toks/s, output: 308.48 toks/s]\u001b[A\n",
      "Processed prompts:  86% 438/512 [00:25<00:00, 128.05it/s, est. speed input: 3799.44 toks/s, output: 328.60 toks/s]\u001b[A\n",
      "Processed prompts:  90% 460/512 [00:25<00:00, 140.08it/s, est. speed input: 4026.58 toks/s, output: 351.43 toks/s]\u001b[A\n",
      "Processed prompts:  93% 476/512 [00:25<00:00, 139.72it/s, est. speed input: 4217.50 toks/s, output: 368.91 toks/s]\u001b[A\n",
      "Processed prompts:  96% 492/512 [00:25<00:00, 98.40it/s, est. speed input: 4338.05 toks/s, output: 389.54 toks/s] \u001b[A\n",
      "Processed prompts: 100% 512/512 [00:27<00:00, 18.90it/s, est. speed input: 4402.23 toks/s, output: 409.28 toks/s]\u001b[A\n",
      "\n",
      "Processed prompts:   0% 0/512 [00:00<?, ?it/s, est. speed input: 0.00 toks/s, output: 0.00 toks/s]\u001b[A\n",
      "Processed prompts:   0% 1/512 [00:10<1:29:58, 10.56s/it, est. speed input: 5.68 toks/s, output: 0.57 toks/s]\u001b[A\n",
      "Processed prompts:   0% 2/512 [00:10<37:31,  4.42s/it, est. speed input: 13.96 toks/s, output: 1.22 toks/s] \u001b[A\n",
      "Processed prompts:   1% 4/512 [00:10<14:34,  1.72s/it, est. speed input: 24.01 toks/s, output: 2.57 toks/s]\u001b[A\n",
      "Processed prompts:   1% 6/512 [00:11<08:03,  1.05it/s, est. speed input: 34.09 toks/s, output: 4.05 toks/s]\u001b[A\n",
      "Processed prompts:   2% 9/512 [00:11<04:34,  1.83it/s, est. speed input: 52.98 toks/s, output: 6.33 toks/s]\u001b[A\n",
      "Processed prompts:   3% 15/512 [00:12<02:25,  3.42it/s, est. speed input: 122.02 toks/s, output: 10.95 toks/s]\u001b[A\n",
      "Processed prompts:   4% 21/512 [00:12<01:32,  5.30it/s, est. speed input: 208.75 toks/s, output: 15.92 toks/s]\u001b[A\n",
      "Processed prompts:   7% 36/512 [00:13<00:46, 10.18it/s, est. speed input: 405.00 toks/s, output: 28.79 toks/s]\u001b[A\n",
      "Processed prompts:  10% 49/512 [00:13<00:34, 13.62it/s, est. speed input: 635.80 toks/s, output: 39.99 toks/s]\u001b[A\n",
      "Processed prompts:  13% 66/512 [00:14<00:26, 16.98it/s, est. speed input: 819.84 toks/s, output: 54.55 toks/s]\u001b[A\n",
      "Processed prompts:  15% 75/512 [00:15<00:27, 15.70it/s, est. speed input: 910.17 toks/s, output: 60.98 toks/s]\u001b[A\n",
      "Processed prompts:  18% 93/512 [00:15<00:22, 18.78it/s, est. speed input: 1050.54 toks/s, output: 75.85 toks/s]\u001b[A\n",
      "Processed prompts:  21% 108/512 [00:16<00:23, 16.88it/s, est. speed input: 1161.76 toks/s, output: 86.16 toks/s]\u001b[A\n",
      "Processed prompts:  25% 127/512 [00:17<00:19, 19.70it/s, est. speed input: 1323.97 toks/s, output: 101.50 toks/s]\u001b[A\n",
      "Processed prompts:  28% 142/512 [00:18<00:20, 17.94it/s, est. speed input: 1452.62 toks/s, output: 110.34 toks/s]\u001b[A\n",
      "Processed prompts:  29% 151/512 [00:18<00:18, 19.80it/s, est. speed input: 1529.85 toks/s, output: 118.01 toks/s]\u001b[A\n",
      "Processed prompts:  32% 163/512 [00:19<00:18, 19.10it/s, est. speed input: 1597.20 toks/s, output: 126.78 toks/s]\u001b[A\n",
      "Processed prompts:  34% 172/512 [00:20<00:18, 18.48it/s, est. speed input: 1667.13 toks/s, output: 133.24 toks/s]\u001b[A\n",
      "Processed prompts:  37% 191/512 [00:21<00:17, 18.23it/s, est. speed input: 1773.14 toks/s, output: 145.32 toks/s]\u001b[A\n",
      "Processed prompts:  40% 205/512 [00:21<00:15, 19.91it/s, est. speed input: 1854.03 toks/s, output: 153.79 toks/s]\u001b[A\n",
      "Processed prompts:  42% 215/512 [00:22<00:15, 18.69it/s, est. speed input: 1880.58 toks/s, output: 159.52 toks/s]\u001b[A\n",
      "Processed prompts:  44% 227/512 [00:22<00:14, 19.57it/s, est. speed input: 1948.86 toks/s, output: 167.11 toks/s]\u001b[A\n",
      "Processed prompts:  46% 234/512 [00:23<00:17, 16.18it/s, est. speed input: 1927.68 toks/s, output: 167.85 toks/s]\u001b[A\n",
      "Processed prompts:  48% 246/512 [00:24<00:13, 20.06it/s, est. speed input: 2016.33 toks/s, output: 174.82 toks/s]\u001b[A\n",
      "Processed prompts:  51% 260/512 [00:24<00:12, 20.74it/s, est. speed input: 2075.90 toks/s, output: 181.58 toks/s]\u001b[A\n",
      "Processed prompts:  55% 282/512 [00:24<00:07, 32.63it/s, est. speed input: 2276.78 toks/s, output: 198.35 toks/s]\u001b[A\n",
      "Processed prompts:  61% 310/512 [00:24<00:03, 50.60it/s, est. speed input: 2513.42 toks/s, output: 220.59 toks/s]\u001b[A\n",
      "Processed prompts:  65% 332/512 [00:25<00:02, 63.93it/s, est. speed input: 2675.72 toks/s, output: 237.29 toks/s]\u001b[A\n",
      "Processed prompts:  70% 357/512 [00:25<00:01, 81.10it/s, est. speed input: 2952.07 toks/s, output: 257.41 toks/s]\u001b[A\n",
      "Processed prompts:  75% 382/512 [00:25<00:01, 98.40it/s, est. speed input: 3196.46 toks/s, output: 276.28 toks/s]\u001b[A\n",
      "Processed prompts:  79% 403/512 [00:25<00:00, 113.51it/s, est. speed input: 3365.99 toks/s, output: 293.11 toks/s]\u001b[A\n",
      "Processed prompts:  82% 419/512 [00:25<00:00, 119.94it/s, est. speed input: 3513.12 toks/s, output: 308.22 toks/s]\u001b[A\n",
      "Processed prompts:  85% 436/512 [00:25<00:00, 129.24it/s, est. speed input: 3639.32 toks/s, output: 322.07 toks/s]\u001b[A\n",
      "Processed prompts:  88% 453/512 [00:25<00:00, 128.38it/s, est. speed input: 3948.59 toks/s, output: 337.25 toks/s]\u001b[A\n",
      "Processed prompts:  92% 473/512 [00:26<00:00, 139.44it/s, est. speed input: 4140.21 toks/s, output: 358.59 toks/s]\u001b[A\n",
      "Processed prompts:  96% 489/512 [00:26<00:00, 111.31it/s, est. speed input: 4286.36 toks/s, output: 375.60 toks/s]\u001b[A\n",
      "Processed prompts:  98% 502/512 [00:26<00:00, 84.32it/s, est. speed input: 4402.02 toks/s, output: 392.20 toks/s] \u001b[A\n",
      "Processed prompts: 100% 511/512 [00:36<00:00, 84.32it/s, est. speed input: 3814.56 toks/s, output: 349.83 toks/s]\u001b[A\n",
      "Processed prompts: 100% 512/512 [00:39<00:00, 12.90it/s, est. speed input: 3060.54 toks/s, output: 293.40 toks/s]\u001b[A\n",
      "\n",
      "Processed prompts:   0% 0/512 [00:00<?, ?it/s, est. speed input: 0.00 toks/s, output: 0.00 toks/s]\u001b[A\n",
      "Processed prompts:   0% 1/512 [00:10<1:32:25, 10.85s/it, est. speed input: 22.67 toks/s, output: 0.46 toks/s]\u001b[A\n",
      "Processed prompts:   1% 4/512 [00:11<18:21,  2.17s/it, est. speed input: 37.06 toks/s, output: 2.22 toks/s]  \u001b[A\n",
      "Processed prompts:   2% 10/512 [00:11<05:41,  1.47it/s, est. speed input: 78.68 toks/s, output: 6.43 toks/s]\u001b[A\n",
      "Processed prompts:   3% 13/512 [00:11<04:01,  2.07it/s, est. speed input: 95.88 toks/s, output: 8.66 toks/s]\u001b[A\n",
      "Processed prompts:   4% 22/512 [00:12<01:45,  4.66it/s, est. speed input: 231.86 toks/s, output: 16.07 toks/s]\u001b[A\n",
      "Processed prompts:   6% 30/512 [00:12<01:14,  6.44it/s, est. speed input: 311.93 toks/s, output: 22.35 toks/s]\u001b[A\n",
      "Processed prompts:   8% 43/512 [00:13<00:45, 10.42it/s, est. speed input: 503.04 toks/s, output: 33.54 toks/s]\u001b[A\n",
      "Processed prompts:  10% 50/512 [00:13<00:42, 10.86it/s, est. speed input: 584.26 toks/s, output: 38.87 toks/s]\u001b[A\n",
      "Processed prompts:  12% 63/512 [00:14<00:33, 13.22it/s, est. speed input: 731.44 toks/s, output: 49.74 toks/s]\u001b[A\n",
      "Processed prompts:  15% 78/512 [00:15<00:28, 15.49it/s, est. speed input: 899.58 toks/s, output: 61.32 toks/s]\u001b[A\n",
      "Processed prompts:  18% 94/512 [00:15<00:23, 17.71it/s, est. speed input: 1045.11 toks/s, output: 74.90 toks/s]\u001b[A\n",
      "Processed prompts:  22% 111/512 [00:16<00:21, 18.24it/s, est. speed input: 1256.92 toks/s, output: 87.85 toks/s]\u001b[A\n",
      "Processed prompts:  24% 121/512 [00:17<00:20, 18.90it/s, est. speed input: 1378.82 toks/s, output: 96.01 toks/s]\u001b[A\n",
      "Processed prompts:  26% 134/512 [00:17<00:20, 18.48it/s, est. speed input: 1469.50 toks/s, output: 105.14 toks/s]\u001b[A\n",
      "Processed prompts:  30% 152/512 [00:18<00:16, 21.41it/s, est. speed input: 1624.70 toks/s, output: 120.59 toks/s]\u001b[A\n",
      "Processed prompts:  32% 163/512 [00:19<00:18, 19.00it/s, est. speed input: 1703.82 toks/s, output: 126.63 toks/s]\u001b[A\n",
      "Processed prompts:  34% 175/512 [00:19<00:15, 21.25it/s, est. speed input: 1782.34 toks/s, output: 136.57 toks/s]\u001b[A\n",
      "Processed prompts:  37% 191/512 [00:20<00:17, 18.78it/s, est. speed input: 1814.34 toks/s, output: 144.54 toks/s]\u001b[A\n",
      "Processed prompts:  39% 199/512 [00:21<00:16, 19.52it/s, est. speed input: 1855.32 toks/s, output: 150.97 toks/s]\u001b[A\n",
      "Processed prompts:  41% 208/512 [00:21<00:16, 18.25it/s, est. speed input: 1888.61 toks/s, output: 155.79 toks/s]\u001b[A\n",
      "Processed prompts:  43% 222/512 [00:22<00:14, 20.33it/s, est. speed input: 1998.64 toks/s, output: 164.57 toks/s]\u001b[A\n",
      "Processed prompts:  47% 239/512 [00:22<00:12, 21.24it/s, est. speed input: 2078.69 toks/s, output: 174.25 toks/s]\u001b[A\n",
      "Processed prompts:  51% 259/512 [00:23<00:10, 23.71it/s, est. speed input: 2258.97 toks/s, output: 185.17 toks/s]\u001b[A\n",
      "Processed prompts:  53% 269/512 [00:23<00:09, 26.97it/s, est. speed input: 2311.50 toks/s, output: 191.33 toks/s]\u001b[A\n",
      "Processed prompts:  58% 296/512 [00:23<00:04, 43.38it/s, est. speed input: 2544.98 toks/s, output: 211.63 toks/s]\u001b[A\n",
      "Processed prompts:  62% 320/512 [00:24<00:03, 58.71it/s, est. speed input: 2795.90 toks/s, output: 231.33 toks/s]\u001b[A\n",
      "Processed prompts:  66% 336/512 [00:24<00:02, 66.29it/s, est. speed input: 2976.17 toks/s, output: 242.32 toks/s]\u001b[A\n",
      "Processed prompts:  70% 359/512 [00:24<00:01, 82.82it/s, est. speed input: 3132.09 toks/s, output: 260.38 toks/s]\u001b[A\n",
      "Processed prompts:  74% 379/512 [00:24<00:01, 95.13it/s, est. speed input: 3300.12 toks/s, output: 274.47 toks/s]\u001b[A\n",
      "Processed prompts:  78% 399/512 [00:24<00:01, 111.56it/s, est. speed input: 3448.80 toks/s, output: 291.60 toks/s]\u001b[A\n",
      "Processed prompts:  81% 417/512 [00:24<00:00, 124.44it/s, est. speed input: 3606.03 toks/s, output: 308.13 toks/s]\u001b[A\n",
      "Processed prompts:  87% 444/512 [00:24<00:00, 142.56it/s, est. speed input: 3905.39 toks/s, output: 334.57 toks/s]\u001b[A\n",
      "Processed prompts:  92% 471/512 [00:25<00:00, 164.01it/s, est. speed input: 4151.46 toks/s, output: 365.63 toks/s]\u001b[A\n",
      "Processed prompts:  96% 490/512 [00:25<00:00, 132.23it/s, est. speed input: 4409.89 toks/s, output: 387.58 toks/s]\u001b[A\n",
      "Processed prompts: 100% 512/512 [00:26<00:00, 19.08it/s, est. speed input: 4440.52 toks/s, output: 404.78 toks/s] \u001b[A\n",
      "\n",
      "Processed prompts:   0% 0/512 [00:00<?, ?it/s, est. speed input: 0.00 toks/s, output: 0.00 toks/s]\u001b[A\n",
      "Processed prompts:   0% 1/512 [00:10<1:28:39, 10.41s/it, est. speed input: 13.35 toks/s, output: 0.58 toks/s]\u001b[A\n",
      "Processed prompts:   1% 3/512 [00:10<23:18,  2.75s/it, est. speed input: 24.86 toks/s, output: 1.80 toks/s]  \u001b[A\n",
      "Processed prompts:   1% 5/512 [00:10<11:48,  1.40s/it, est. speed input: 35.61 toks/s, output: 3.15 toks/s]\u001b[A\n",
      "Processed prompts:   2% 11/512 [00:11<04:08,  2.02it/s, est. speed input: 111.19 toks/s, output: 7.88 toks/s]\u001b[A\n",
      "Processed prompts:   3% 17/512 [00:11<02:13,  3.71it/s, est. speed input: 246.79 toks/s, output: 13.00 toks/s]\u001b[A\n",
      "Processed prompts:   6% 29/512 [00:12<01:08,  7.10it/s, est. speed input: 381.13 toks/s, output: 23.32 toks/s]\u001b[A\n",
      "Processed prompts:   8% 40/512 [00:12<00:44, 10.73it/s, est. speed input: 484.15 toks/s, output: 33.33 toks/s]\u001b[A\n",
      "Processed prompts:  10% 52/512 [00:13<00:35, 12.90it/s, est. speed input: 555.46 toks/s, output: 43.64 toks/s]\u001b[A\n",
      "Processed prompts:  12% 64/512 [00:13<00:27, 16.34it/s, est. speed input: 712.06 toks/s, output: 54.86 toks/s]\u001b[A\n",
      "Processed prompts:  15% 76/512 [00:14<00:25, 16.78it/s, est. speed input: 818.70 toks/s, output: 64.98 toks/s]\u001b[A\n",
      "Processed prompts:  18% 90/512 [00:14<00:21, 19.69it/s, est. speed input: 943.81 toks/s, output: 77.69 toks/s]\u001b[A\n",
      "Processed prompts:  21% 108/512 [00:15<00:21, 18.54it/s, est. speed input: 1135.94 toks/s, output: 91.46 toks/s]\u001b[A\n",
      "Processed prompts:  24% 123/512 [00:16<00:19, 19.80it/s, est. speed input: 1254.14 toks/s, output: 104.36 toks/s]\u001b[A\n",
      "Processed prompts:  27% 139/512 [00:17<00:17, 20.74it/s, est. speed input: 1401.93 toks/s, output: 117.35 toks/s]\u001b[A\n",
      "Processed prompts:  29% 149/512 [00:17<00:16, 21.97it/s, est. speed input: 1455.38 toks/s, output: 126.42 toks/s]\u001b[A\n",
      "Processed prompts:  32% 164/512 [00:18<00:16, 21.17it/s, est. speed input: 1590.74 toks/s, output: 136.94 toks/s]\u001b[A\n",
      "Processed prompts:  35% 178/512 [00:18<00:15, 21.90it/s, est. speed input: 1682.66 toks/s, output: 147.69 toks/s]\u001b[A\n",
      "Processed prompts:  37% 189/512 [00:19<00:15, 20.75it/s, est. speed input: 1776.90 toks/s, output: 154.88 toks/s]\u001b[A\n",
      "Processed prompts:  40% 204/512 [00:19<00:13, 22.99it/s, est. speed input: 1910.46 toks/s, output: 167.72 toks/s]\u001b[A\n",
      "Processed prompts:  42% 215/512 [00:20<00:14, 20.14it/s, est. speed input: 1922.70 toks/s, output: 170.12 toks/s]\u001b[A\n",
      "Processed prompts:  44% 227/512 [00:21<00:13, 20.69it/s, est. speed input: 1993.40 toks/s, output: 177.05 toks/s]\u001b[A\n",
      "Processed prompts:  46% 238/512 [00:21<00:14, 18.82it/s, est. speed input: 2013.58 toks/s, output: 180.31 toks/s]\u001b[A\n",
      "Processed prompts:  49% 252/512 [00:22<00:13, 19.95it/s, est. speed input: 2080.77 toks/s, output: 188.19 toks/s]\u001b[A\n",
      "Processed prompts:  52% 264/512 [00:23<00:11, 21.11it/s, est. speed input: 2176.12 toks/s, output: 193.28 toks/s]\u001b[A\n",
      "Processed prompts:  56% 286/512 [00:23<00:06, 32.89it/s, est. speed input: 2325.51 toks/s, output: 211.76 toks/s]\u001b[A\n",
      "Processed prompts:  61% 311/512 [00:23<00:04, 48.56it/s, est. speed input: 2538.74 toks/s, output: 229.52 toks/s]\u001b[A\n",
      "Processed prompts:  65% 335/512 [00:23<00:02, 64.63it/s, est. speed input: 2760.47 toks/s, output: 247.90 toks/s]\u001b[A\n",
      "Processed prompts:  70% 359/512 [00:23<00:01, 81.20it/s, est. speed input: 2962.91 toks/s, output: 268.33 toks/s]\u001b[A\n",
      "Processed prompts:  74% 378/512 [00:23<00:01, 91.39it/s, est. speed input: 3135.42 toks/s, output: 285.01 toks/s]\u001b[A\n",
      "Processed prompts:  78% 397/512 [00:23<00:01, 105.66it/s, est. speed input: 3307.52 toks/s, output: 301.38 toks/s]\u001b[A\n",
      "Processed prompts:  83% 426/512 [00:24<00:00, 139.05it/s, est. speed input: 3655.92 toks/s, output: 328.59 toks/s]\u001b[A\n",
      "Processed prompts:  88% 448/512 [00:24<00:00, 143.77it/s, est. speed input: 3903.14 toks/s, output: 349.64 toks/s]\u001b[A\n",
      "Processed prompts:  91% 466/512 [00:24<00:00, 134.51it/s, est. speed input: 4050.77 toks/s, output: 371.38 toks/s]\u001b[A\n",
      "Processed prompts:  94% 482/512 [00:24<00:00, 125.65it/s, est. speed input: 4245.36 toks/s, output: 389.80 toks/s]\u001b[A\n",
      "Processed prompts:  97% 497/512 [00:24<00:00, 92.08it/s, est. speed input: 4455.83 toks/s, output: 408.99 toks/s] \u001b[A\n",
      "Processed prompts: 100% 512/512 [00:31<00:00, 16.15it/s, est. speed input: 3608.59 toks/s, output: 354.33 toks/s]\u001b[A\n",
      "\n",
      "Processed prompts:   0% 0/512 [00:00<?, ?it/s, est. speed input: 0.00 toks/s, output: 0.00 toks/s]\u001b[A\n",
      "Processed prompts:   0% 1/512 [00:10<1:31:00, 10.69s/it, est. speed input: 6.55 toks/s, output: 0.47 toks/s]\u001b[A\n",
      "Processed prompts:   1% 3/512 [00:10<23:51,  2.81s/it, est. speed input: 18.61 toks/s, output: 1.48 toks/s] \u001b[A\n",
      "Processed prompts:   1% 5/512 [00:11<12:24,  1.47s/it, est. speed input: 41.98 toks/s, output: 2.59 toks/s]\u001b[A\n",
      "Processed prompts:   1% 7/512 [00:11<07:22,  1.14it/s, est. speed input: 55.59 toks/s, output: 3.88 toks/s]\u001b[A\n",
      "Processed prompts:   2% 11/512 [00:11<03:41,  2.26it/s, est. speed input: 76.52 toks/s, output: 6.60 toks/s]\u001b[A\n",
      "Processed prompts:   4% 18/512 [00:11<01:43,  4.79it/s, est. speed input: 131.51 toks/s, output: 11.81 toks/s]\u001b[A\n",
      "Processed prompts:   4% 22/512 [00:12<01:25,  5.70it/s, est. speed input: 158.54 toks/s, output: 14.73 toks/s]\u001b[A\n",
      "Processed prompts:   5% 28/512 [00:12<00:57,  8.47it/s, est. speed input: 232.11 toks/s, output: 19.82 toks/s]\u001b[A\n",
      "Processed prompts:   7% 35/512 [00:13<00:48,  9.93it/s, est. speed input: 309.03 toks/s, output: 25.52 toks/s]\u001b[A\n",
      "Processed prompts:  10% 50/512 [00:13<00:31, 14.75it/s, est. speed input: 418.59 toks/s, output: 38.66 toks/s]\u001b[A\n",
      "Processed prompts:  12% 59/512 [00:14<00:29, 15.35it/s, est. speed input: 487.61 toks/s, output: 46.13 toks/s]\u001b[A\n",
      "Processed prompts:  14% 70/512 [00:14<00:23, 18.82it/s, est. speed input: 672.52 toks/s, output: 56.40 toks/s]\u001b[A\n",
      "Processed prompts:  16% 81/512 [00:15<00:24, 17.85it/s, est. speed input: 840.81 toks/s, output: 65.48 toks/s]\u001b[A\n",
      "Processed prompts:  20% 104/512 [00:15<00:17, 23.78it/s, est. speed input: 1064.27 toks/s, output: 87.43 toks/s]\u001b[A\n",
      "Processed prompts:  23% 118/512 [00:17<00:21, 18.16it/s, est. speed input: 1195.71 toks/s, output: 96.15 toks/s]\u001b[A\n",
      "Processed prompts:  27% 136/512 [00:17<00:18, 20.75it/s, est. speed input: 1376.63 toks/s, output: 110.62 toks/s]\u001b[A\n",
      "Processed prompts:  30% 154/512 [00:18<00:17, 20.69it/s, est. speed input: 1580.83 toks/s, output: 124.32 toks/s]\u001b[A\n",
      "Processed prompts:  32% 162/512 [00:18<00:16, 20.96it/s, est. speed input: 1630.50 toks/s, output: 130.87 toks/s]\u001b[A\n",
      "Processed prompts:  35% 177/512 [00:19<00:16, 20.44it/s, est. speed input: 1748.46 toks/s, output: 141.04 toks/s]\u001b[A\n",
      "Processed prompts:  38% 192/512 [00:20<00:15, 20.85it/s, est. speed input: 1863.58 toks/s, output: 152.09 toks/s]\u001b[A\n",
      "Processed prompts:  39% 199/512 [00:20<00:16, 19.45it/s, est. speed input: 1870.05 toks/s, output: 154.95 toks/s]\u001b[A\n",
      "Processed prompts:  40% 205/512 [00:21<00:14, 21.25it/s, est. speed input: 1906.02 toks/s, output: 159.66 toks/s]\u001b[A\n",
      "Processed prompts:  42% 217/512 [00:21<00:13, 21.59it/s, est. speed input: 1982.74 toks/s, output: 167.11 toks/s]\u001b[A\n",
      "Processed prompts:  44% 224/512 [00:21<00:12, 22.43it/s, est. speed input: 2048.51 toks/s, output: 171.00 toks/s]\u001b[A\n",
      "Processed prompts:  46% 237/512 [00:22<00:13, 20.61it/s, est. speed input: 2118.80 toks/s, output: 174.85 toks/s]\u001b[A\n",
      "Processed prompts:  49% 253/512 [00:23<00:12, 21.47it/s, est. speed input: 2176.84 toks/s, output: 183.78 toks/s]\u001b[A\n",
      "Processed prompts:  52% 267/512 [00:23<00:10, 23.66it/s, est. speed input: 2241.31 toks/s, output: 190.17 toks/s]\u001b[A\n",
      "Processed prompts:  58% 297/512 [00:23<00:05, 41.85it/s, est. speed input: 2569.91 toks/s, output: 217.35 toks/s]\u001b[A\n",
      "Processed prompts:  64% 328/512 [00:24<00:02, 62.94it/s, est. speed input: 2797.35 toks/s, output: 242.62 toks/s]\u001b[A\n",
      "Processed prompts:  69% 351/512 [00:24<00:02, 77.13it/s, est. speed input: 3043.30 toks/s, output: 262.28 toks/s]\u001b[A\n",
      "Processed prompts:  73% 374/512 [00:24<00:01, 91.65it/s, est. speed input: 3220.16 toks/s, output: 280.90 toks/s]\u001b[A\n",
      "Processed prompts:  77% 394/512 [00:24<00:01, 106.44it/s, est. speed input: 3406.29 toks/s, output: 298.10 toks/s]\u001b[A\n",
      "Processed prompts:  82% 419/512 [00:24<00:00, 130.75it/s, est. speed input: 3625.00 toks/s, output: 318.64 toks/s]\u001b[A\n",
      "Processed prompts:  86% 441/512 [00:24<00:00, 136.70it/s, est. speed input: 3817.84 toks/s, output: 338.62 toks/s]\u001b[A\n",
      "Processed prompts:  90% 459/512 [00:24<00:00, 138.02it/s, est. speed input: 3982.43 toks/s, output: 356.83 toks/s]\u001b[A\n",
      "Processed prompts:  93% 476/512 [00:24<00:00, 140.46it/s, est. speed input: 4169.10 toks/s, output: 376.52 toks/s]\u001b[A\n",
      "Processed prompts:  96% 492/512 [00:25<00:00, 120.47it/s, est. speed input: 4371.73 toks/s, output: 394.49 toks/s]\u001b[A\n",
      "Processed prompts: 100% 512/512 [00:28<00:00, 17.74it/s, est. speed input: 4063.65 toks/s, output: 379.93 toks/s] \u001b[A\n",
      "\n",
      "Processed prompts:   0% 0/512 [00:00<?, ?it/s, est. speed input: 0.00 toks/s, output: 0.00 toks/s]\u001b[A\n",
      "Processed prompts:   0% 1/512 [00:11<1:36:36, 11.34s/it, est. speed input: 5.29 toks/s, output: 0.53 toks/s]\u001b[A\n",
      "Processed prompts:   0% 2/512 [00:11<41:02,  4.83s/it, est. speed input: 10.16 toks/s, output: 1.21 toks/s] \u001b[A\n",
      "Processed prompts:   2% 12/512 [00:12<04:36,  1.81it/s, est. speed input: 79.82 toks/s, output: 8.71 toks/s]\u001b[A\n",
      "Processed prompts:   4% 18/512 [00:12<02:38,  3.11it/s, est. speed input: 118.69 toks/s, output: 13.64 toks/s]\u001b[A\n",
      "Processed prompts:   5% 28/512 [00:12<01:31,  5.31it/s, est. speed input: 236.72 toks/s, output: 21.71 toks/s]\u001b[A\n",
      "Processed prompts:   7% 35/512 [00:13<01:07,  7.10it/s, est. speed input: 298.97 toks/s, output: 27.64 toks/s]\u001b[A\n",
      "Processed prompts:  10% 49/512 [00:13<00:45, 10.18it/s, est. speed input: 432.10 toks/s, output: 39.35 toks/s]\u001b[A\n",
      "Processed prompts:  12% 62/512 [00:14<00:35, 12.67it/s, est. speed input: 543.12 toks/s, output: 50.25 toks/s]\u001b[A\n",
      "Processed prompts:  15% 77/512 [00:15<00:30, 14.37it/s, est. speed input: 737.49 toks/s, output: 61.76 toks/s]\u001b[A\n",
      "Processed prompts:  18% 94/512 [00:15<00:23, 17.90it/s, est. speed input: 973.87 toks/s, output: 76.16 toks/s]\u001b[A\n",
      "Processed prompts:  22% 113/512 [00:16<00:19, 20.73it/s, est. speed input: 1172.46 toks/s, output: 91.95 toks/s]\u001b[A\n",
      "Processed prompts:  25% 126/512 [00:17<00:19, 20.19it/s, est. speed input: 1312.56 toks/s, output: 101.42 toks/s]\u001b[A\n",
      "Processed prompts:  27% 139/512 [00:17<00:17, 21.66it/s, est. speed input: 1440.28 toks/s, output: 112.60 toks/s]\u001b[A\n",
      "Processed prompts:  30% 153/512 [00:18<00:16, 21.75it/s, est. speed input: 1597.23 toks/s, output: 123.43 toks/s]\u001b[A\n",
      "Processed prompts:  32% 164/512 [00:19<00:18, 19.13it/s, est. speed input: 1676.66 toks/s, output: 129.36 toks/s]\u001b[A\n",
      "Processed prompts:  34% 174/512 [00:19<00:17, 19.64it/s, est. speed input: 1764.57 toks/s, output: 136.51 toks/s]\u001b[A\n",
      "Processed prompts:  37% 187/512 [00:20<00:16, 19.68it/s, est. speed input: 1836.31 toks/s, output: 145.58 toks/s]\u001b[A\n",
      "Processed prompts:  39% 199/512 [00:20<00:13, 22.38it/s, est. speed input: 1949.00 toks/s, output: 155.20 toks/s]\u001b[A\n",
      "Processed prompts:  42% 214/512 [00:21<00:13, 21.65it/s, est. speed input: 2078.44 toks/s, output: 164.64 toks/s]\u001b[A\n",
      "Processed prompts:  46% 234/512 [00:22<00:11, 24.51it/s, est. speed input: 2215.76 toks/s, output: 179.59 toks/s]\u001b[A\n",
      "Processed prompts:  48% 245/512 [00:23<00:14, 18.08it/s, est. speed input: 2198.29 toks/s, output: 178.15 toks/s]\u001b[A\n",
      "Processed prompts:  49% 253/512 [00:23<00:15, 17.07it/s, est. speed input: 2247.19 toks/s, output: 180.69 toks/s]\u001b[A\n",
      "Processed prompts:  53% 272/512 [00:24<00:09, 24.05it/s, est. speed input: 2426.22 toks/s, output: 193.18 toks/s]\u001b[A\n",
      "Processed prompts:  58% 295/512 [00:24<00:05, 36.23it/s, est. speed input: 2627.36 toks/s, output: 212.32 toks/s]\u001b[A\n",
      "Processed prompts:  61% 312/512 [00:24<00:04, 45.15it/s, est. speed input: 2714.92 toks/s, output: 223.87 toks/s]\u001b[A\n",
      "Processed prompts:  66% 336/512 [00:24<00:02, 61.65it/s, est. speed input: 2931.48 toks/s, output: 244.53 toks/s]\u001b[A\n",
      "Processed prompts:  70% 360/512 [00:24<00:01, 78.79it/s, est. speed input: 3154.95 toks/s, output: 264.57 toks/s]\u001b[A\n",
      "Processed prompts:  74% 381/512 [00:24<00:01, 92.40it/s, est. speed input: 3335.18 toks/s, output: 280.21 toks/s]\u001b[A\n",
      "Processed prompts:  79% 402/512 [00:24<00:00, 110.07it/s, est. speed input: 3534.07 toks/s, output: 297.10 toks/s]\u001b[A\n",
      "Processed prompts:  81% 417/512 [00:25<00:00, 117.31it/s, est. speed input: 3679.61 toks/s, output: 310.60 toks/s]\u001b[A\n",
      "Processed prompts:  88% 450/512 [00:25<00:00, 150.73it/s, est. speed input: 4022.12 toks/s, output: 342.50 toks/s]\u001b[A\n",
      "Processed prompts:  91% 468/512 [00:25<00:00, 151.22it/s, est. speed input: 4168.45 toks/s, output: 361.07 toks/s]\u001b[A\n",
      "Processed prompts:  95% 486/512 [00:25<00:00, 141.77it/s, est. speed input: 4354.64 toks/s, output: 380.17 toks/s]\u001b[A\n",
      "Processed prompts: 100% 512/512 [00:26<00:00, 19.10it/s, est. speed input: 4497.09 toks/s, output: 402.99 toks/s] \u001b[A\n",
      "\n",
      "Processed prompts:   0% 0/512 [00:00<?, ?it/s, est. speed input: 0.00 toks/s, output: 0.00 toks/s]\u001b[A\n",
      "Processed prompts:   0% 1/512 [00:10<1:26:55, 10.21s/it, est. speed input: 5.98 toks/s, output: 0.59 toks/s]\u001b[A\n",
      "Processed prompts:   1% 5/512 [00:10<13:46,  1.63s/it, est. speed input: 30.03 toks/s, output: 3.36 toks/s] \u001b[A\n",
      "Processed prompts:   3% 13/512 [00:11<04:16,  1.94it/s, est. speed input: 86.15 toks/s, output: 9.76 toks/s]\u001b[A\n",
      "Processed prompts:   4% 20/512 [00:11<02:27,  3.33it/s, est. speed input: 148.15 toks/s, output: 15.54 toks/s]\u001b[A\n",
      "Processed prompts:   5% 24/512 [00:11<01:52,  4.35it/s, est. speed input: 184.75 toks/s, output: 19.13 toks/s]\u001b[A\n",
      "Processed prompts:   6% 29/512 [00:12<01:28,  5.44it/s, est. speed input: 260.14 toks/s, output: 23.41 toks/s]\u001b[A\n",
      "Processed prompts:   9% 47/512 [00:12<00:42, 10.84it/s, est. speed input: 492.74 toks/s, output: 40.36 toks/s]\u001b[A\n",
      "Processed prompts:  11% 54/512 [00:13<00:40, 11.30it/s, est. speed input: 520.77 toks/s, output: 46.09 toks/s]\u001b[A\n",
      "Processed prompts:  13% 68/512 [00:13<00:29, 15.17it/s, est. speed input: 664.88 toks/s, output: 59.57 toks/s]\u001b[A\n",
      "Processed prompts:  17% 88/512 [00:14<00:23, 18.03it/s, est. speed input: 911.34 toks/s, output: 77.74 toks/s]\u001b[A\n",
      "Processed prompts:  21% 109/512 [00:15<00:18, 21.59it/s, est. speed input: 1113.20 toks/s, output: 96.93 toks/s]\u001b[A\n",
      "Processed prompts:  23% 117/512 [00:16<00:20, 19.30it/s, est. speed input: 1194.82 toks/s, output: 101.88 toks/s]\u001b[A\n",
      "Processed prompts:  24% 124/512 [00:16<00:20, 19.34it/s, est. speed input: 1256.22 toks/s, output: 107.79 toks/s]\u001b[A\n",
      "Processed prompts:  27% 140/512 [00:17<00:19, 18.95it/s, est. speed input: 1408.53 toks/s, output: 120.52 toks/s]\u001b[A\n",
      "Processed prompts:  31% 161/512 [00:17<00:15, 22.97it/s, est. speed input: 1537.60 toks/s, output: 139.35 toks/s]\u001b[A\n",
      "Processed prompts:  33% 169/512 [00:18<00:15, 22.35it/s, est. speed input: 1570.36 toks/s, output: 144.95 toks/s]\u001b[A\n",
      "Processed prompts:  36% 184/512 [00:18<00:13, 23.71it/s, est. speed input: 1680.87 toks/s, output: 156.91 toks/s]\u001b[A\n",
      "Processed prompts:  40% 203/512 [00:20<00:14, 20.89it/s, est. speed input: 1818.39 toks/s, output: 168.93 toks/s]\u001b[A\n",
      "Processed prompts:  41% 211/512 [00:20<00:13, 21.86it/s, est. speed input: 1917.34 toks/s, output: 175.42 toks/s]\u001b[A\n",
      "Processed prompts:  42% 217/512 [00:20<00:14, 20.13it/s, est. speed input: 1975.21 toks/s, output: 175.93 toks/s]\u001b[A\n",
      "Processed prompts:  45% 232/512 [00:21<00:13, 20.63it/s, est. speed input: 2055.93 toks/s, output: 184.39 toks/s]\u001b[A\n",
      "Processed prompts:  46% 235/512 [00:21<00:15, 17.80it/s, est. speed input: 2062.72 toks/s, output: 184.51 toks/s]\u001b[A\n",
      "Processed prompts:  49% 251/512 [00:22<00:12, 20.23it/s, est. speed input: 2152.39 toks/s, output: 194.45 toks/s]\u001b[A\n",
      "Processed prompts:  51% 263/512 [00:22<00:10, 22.99it/s, est. speed input: 2231.79 toks/s, output: 202.12 toks/s]\u001b[A\n",
      "Processed prompts:  56% 287/512 [00:23<00:05, 37.77it/s, est. speed input: 2436.01 toks/s, output: 221.47 toks/s]\u001b[A\n",
      "Processed prompts:  62% 315/512 [00:23<00:03, 57.44it/s, est. speed input: 2730.24 toks/s, output: 247.21 toks/s]\u001b[A\n",
      "Processed prompts:  66% 337/512 [00:23<00:02, 71.62it/s, est. speed input: 2893.62 toks/s, output: 265.77 toks/s]\u001b[A\n",
      "Processed prompts:  70% 360/512 [00:23<00:01, 87.16it/s, est. speed input: 3071.71 toks/s, output: 282.87 toks/s]\u001b[A\n",
      "Processed prompts:  74% 380/512 [00:23<00:01, 98.40it/s, est. speed input: 3323.15 toks/s, output: 300.59 toks/s]\u001b[A\n",
      "Processed prompts:  77% 394/512 [00:23<00:01, 104.16it/s, est. speed input: 3447.13 toks/s, output: 312.38 toks/s]\u001b[A\n",
      "Processed prompts:  81% 413/512 [00:23<00:00, 120.01it/s, est. speed input: 3580.69 toks/s, output: 329.61 toks/s]\u001b[A\n",
      "Processed prompts:  86% 440/512 [00:23<00:00, 138.75it/s, est. speed input: 3792.18 toks/s, output: 357.18 toks/s]\u001b[A\n",
      "Processed prompts:  89% 456/512 [00:24<00:00, 133.69it/s, est. speed input: 3920.04 toks/s, output: 376.03 toks/s]\u001b[A\n",
      "Processed prompts:  92% 471/512 [00:24<00:00, 132.05it/s, est. speed input: 4091.97 toks/s, output: 394.17 toks/s]\u001b[A\n",
      "Processed prompts:  95% 486/512 [00:24<00:00, 121.49it/s, est. speed input: 4273.54 toks/s, output: 411.49 toks/s]\u001b[A\n",
      "Processed prompts:  97% 499/512 [00:24<00:00, 85.01it/s, est. speed input: 4381.78 toks/s, output: 430.11 toks/s] \u001b[A\n",
      "Processed prompts: 100% 512/512 [00:25<00:00, 19.95it/s, est. speed input: 4389.52 toks/s, output: 443.16 toks/s]\u001b[A\n"
     ]
    }
   ],
   "source": [
    "instr_preference_ds = user_llm_instr_ds.map(lambda batch: get_chosen_rejected(llm, tokenizer, batch),\n",
    "                                            input_columns=['conversation'],\n",
    "                                            batched=True,\n",
    "                                            batch_size=512)"
   ]
  },
  {
   "cell_type": "code",
   "execution_count": 19,
   "id": "f5a0e126-72ea-418c-ab07-a1369e9d5bac",
   "metadata": {},
   "outputs": [
    {
     "data": {
      "application/vnd.jupyter.widget-view+json": {
       "model_id": "bf129da393a4404fb43b748dc217c594",
       "version_major": 2,
       "version_minor": 0
      },
      "text/plain": [
       "Uploading the dataset shards:   0%|          | 0/8 [00:00<?, ?it/s]"
      ]
     },
     "metadata": {},
     "output_type": "display_data"
    },
    {
     "data": {
      "application/vnd.jupyter.widget-view+json": {
       "model_id": "7de1de3daf044d9894c08baf95780858",
       "version_major": 2,
       "version_minor": 0
      },
      "text/plain": [
       "Creating parquet from Arrow format:   0%|          | 0/119 [00:00<?, ?ba/s]"
      ]
     },
     "metadata": {},
     "output_type": "display_data"
    },
    {
     "data": {
      "application/vnd.jupyter.widget-view+json": {
       "model_id": "d580c7a18864439283c2daee50c14aa3",
       "version_major": 2,
       "version_minor": 0
      },
      "text/plain": [
       "Creating parquet from Arrow format:   0%|          | 0/119 [00:00<?, ?ba/s]"
      ]
     },
     "metadata": {},
     "output_type": "display_data"
    },
    {
     "data": {
      "application/vnd.jupyter.widget-view+json": {
       "model_id": "cbbae765e1014fd69fee701284e47e87",
       "version_major": 2,
       "version_minor": 0
      },
      "text/plain": [
       "Creating parquet from Arrow format:   0%|          | 0/119 [00:00<?, ?ba/s]"
      ]
     },
     "metadata": {},
     "output_type": "display_data"
    },
    {
     "data": {
      "application/vnd.jupyter.widget-view+json": {
       "model_id": "7864deb469eb4a669fb2ceb882354076",
       "version_major": 2,
       "version_minor": 0
      },
      "text/plain": [
       "Creating parquet from Arrow format:   0%|          | 0/119 [00:00<?, ?ba/s]"
      ]
     },
     "metadata": {},
     "output_type": "display_data"
    },
    {
     "data": {
      "application/vnd.jupyter.widget-view+json": {
       "model_id": "5b5cd5884c2a4f04bf638db8bb6af400",
       "version_major": 2,
       "version_minor": 0
      },
      "text/plain": [
       "Creating parquet from Arrow format:   0%|          | 0/119 [00:00<?, ?ba/s]"
      ]
     },
     "metadata": {},
     "output_type": "display_data"
    },
    {
     "data": {
      "application/vnd.jupyter.widget-view+json": {
       "model_id": "3295f7c868ee4b0cadee894b9690605e",
       "version_major": 2,
       "version_minor": 0
      },
      "text/plain": [
       "Creating parquet from Arrow format:   0%|          | 0/119 [00:00<?, ?ba/s]"
      ]
     },
     "metadata": {},
     "output_type": "display_data"
    },
    {
     "data": {
      "application/vnd.jupyter.widget-view+json": {
       "model_id": "06cd89fb88474aca8ebeab4f184a875a",
       "version_major": 2,
       "version_minor": 0
      },
      "text/plain": [
       "Creating parquet from Arrow format:   0%|          | 0/119 [00:00<?, ?ba/s]"
      ]
     },
     "metadata": {},
     "output_type": "display_data"
    },
    {
     "data": {
      "application/vnd.jupyter.widget-view+json": {
       "model_id": "6b220d5eaa954450b2adeaff79d9ec01",
       "version_major": 2,
       "version_minor": 0
      },
      "text/plain": [
       "Creating parquet from Arrow format:   0%|          | 0/119 [00:00<?, ?ba/s]"
      ]
     },
     "metadata": {},
     "output_type": "display_data"
    },
    {
     "data": {
      "application/vnd.jupyter.widget-view+json": {
       "model_id": "34fd01491dc1434fbfcee8dc86b3a53d",
       "version_major": 2,
       "version_minor": 0
      },
      "text/plain": [
       "Uploading the dataset shards:   0%|          | 0/1 [00:00<?, ?it/s]"
      ]
     },
     "metadata": {},
     "output_type": "display_data"
    },
    {
     "data": {
      "application/vnd.jupyter.widget-view+json": {
       "model_id": "bccba677531a4babbe812cf5abdc2322",
       "version_major": 2,
       "version_minor": 0
      },
      "text/plain": [
       "Creating parquet from Arrow format:   0%|          | 0/50 [00:00<?, ?ba/s]"
      ]
     },
     "metadata": {},
     "output_type": "display_data"
    },
    {
     "data": {
      "text/plain": [
       "CommitInfo(commit_url='https://huggingface.co/datasets/amang1802/lmsys_synthetic_instruction_preferences/commit/0104e41873131dd2120a36d1f7ef0452510710bf', commit_message='Upload dataset', commit_description='', oid='0104e41873131dd2120a36d1f7ef0452510710bf', pr_url=None, repo_url=RepoUrl('https://huggingface.co/datasets/amang1802/lmsys_synthetic_instruction_preferences', endpoint='https://huggingface.co', repo_type='dataset', repo_id='amang1802/lmsys_synthetic_instruction_preferences'), pr_revision=None, pr_num=None)"
      ]
     },
     "execution_count": 19,
     "metadata": {},
     "output_type": "execute_result"
    }
   ],
   "source": [
    "train_test_ds = instr_preference_ds.train_test_split(test_size=0.05, shuffle=True)\n",
    "train_test_ds.push_to_hub('lmsys_synthetic_instruction_preferences')"
   ]
  },
  {
   "cell_type": "code",
   "execution_count": null,
   "id": "1eef658b-ada1-4b8b-95fa-ad4985b10794",
   "metadata": {},
   "outputs": [],
   "source": []
  }
 ],
 "metadata": {
  "kernelspec": {
   "display_name": "Python 3 (ipykernel)",
   "language": "python",
   "name": "python3"
  },
  "language_info": {
   "codemirror_mode": {
    "name": "ipython",
    "version": 3
   },
   "file_extension": ".py",
   "mimetype": "text/x-python",
   "name": "python",
   "nbconvert_exporter": "python",
   "pygments_lexer": "ipython3",
   "version": "3.10.12"
  }
 },
 "nbformat": 4,
 "nbformat_minor": 5
}
