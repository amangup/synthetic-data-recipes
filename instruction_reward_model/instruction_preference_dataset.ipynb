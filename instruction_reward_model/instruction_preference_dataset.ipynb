{
 "cells": [
  {
   "cell_type": "code",
   "execution_count": null,
   "id": "87a592cc-02d3-425d-83cf-42100b559356",
   "metadata": {},
   "outputs": [],
   "source": [
    "from datasets import load_dataset\n",
    "from transformers import AutoTokenizer\n",
    "from vllm import LLM, SamplingParams\n",
    "\n",
    "import pandas as pd\n",
    "pd.set_option('display.max_colwidth', None)"
   ]
  },
  {
   "cell_type": "code",
   "execution_count": null,
   "id": "36cb6670-b74c-4662-a9fe-96988c241ee4",
   "metadata": {},
   "outputs": [],
   "source": [
    "NUM_SIZE = 10_000"
   ]
  },
  {
   "cell_type": "code",
   "execution_count": null,
   "id": "8a04cc28-4845-43b1-924c-c492645b4bac",
   "metadata": {},
   "outputs": [],
   "source": [
    "user_llm_instr_ds = load_dataset('lmsys/lmsys-chat-1m')['train'].shuffle(seed=42).select(range(NUM_SIZE))"
   ]
  },
  {
   "cell_type": "code",
   "execution_count": null,
   "id": "e4cb543c-5687-47c4-b9de-8c53aeb5d849",
   "metadata": {},
   "outputs": [],
   "source": [
    "instr_generation_sys_prompt = \"Output an instruction or question to which the user provided text is the answer.\""
   ]
  },
  {
   "cell_type": "code",
   "execution_count": null,
   "id": "7007fb53-622b-45e8-aff6-01835f9a0581",
   "metadata": {},
   "outputs": [],
   "source": [
    "def get_chosen_rejected(llm, tokenizer, conv_batch):\n",
    "    pair_0, pair_1 = zip(*[(conv[0]['content'], conv[1]['content']) for conv in conv_batch])\n",
    "    user_instrs, assistant_responses = list(pair_0), list(pair_1)\n",
    "    prompt_messages = [[{\"role\": \"system\", \"content\": instr_generation_sys_prompt},\n",
    "                       {\"role\": \"user\", \"content\": text + \"\\n\\n\" + \"Instruction:\"}] for text in assistant_responses]\n",
    "    prompts = [tokenizer.apply_chat_template(messages, tokenize=False, add_generation_prompt=True) for messages in prompt_messages]\n",
    "\n",
    "    outputs = llm.generate(prompts, SamplingParams(temperature=0.25, top_p=0.9, max_tokens=512))\n",
    "\n",
    "    return {\n",
    "        \"chosen\": user_instrs,\n",
    "        \"rejected\": [output.outputs[0].text.strip() for output in outputs],\n",
    "        \"user_input\": assistant_responses,\n",
    "        \"system_prompt\": [instr_generation_sys_prompt] * len(user_instrs)\n",
    "    }    "
   ]
  },
  {
   "cell_type": "code",
   "execution_count": null,
   "id": "6db15ea1-d624-4190-bad0-55f50c3fd8eb",
   "metadata": {},
   "outputs": [],
   "source": [
    "model_id = \"meta-llama/Llama-3.1-8B-Instruct\""
   ]
  },
  {
   "cell_type": "code",
   "execution_count": null,
   "id": "6b83a13f-b554-4b83-a722-e69966118537",
   "metadata": {},
   "outputs": [],
   "source": [
    "tokenizer = AutoTokenizer.from_pretrained(model_id)"
   ]
  },
  {
   "cell_type": "code",
   "execution_count": null,
   "id": "5826503c-dbb2-4d1b-80da-a0bb1b544e7f",
   "metadata": {},
   "outputs": [],
   "source": [
    "llm = LLM(model=model_id, max_model_len=4096)"
   ]
  },
  {
   "cell_type": "code",
   "execution_count": null,
   "id": "f743e9b0-b627-4ec9-aaf4-a4060c763212",
   "metadata": {},
   "outputs": [],
   "source": [
    "test_run_ds = user_llm_instr_ds.select(range(10)).map(lambda batch: get_chosen_rejected(llm, tokenizer, batch),\n",
    "                                                      input_columns=['conversation'],\n",
    "                                                      batched=True,\n",
    "                                                      batch_size=16)"
   ]
  },
  {
   "cell_type": "code",
   "execution_count": null,
   "id": "5121bf9f-d312-4c33-a152-076fe6caa90e",
   "metadata": {},
   "outputs": [],
   "source": [
    "test_run_ds.to_pandas()[['chosen', 'rejected', 'user_input']]"
   ]
  },
  {
   "cell_type": "code",
   "execution_count": null,
   "id": "f5a0e126-72ea-418c-ab07-a1369e9d5bac",
   "metadata": {},
   "outputs": [],
   "source": []
  }
 ],
 "metadata": {
  "kernelspec": {
   "display_name": "Python 3 (ipykernel)",
   "language": "python",
   "name": "python3"
  },
  "language_info": {
   "codemirror_mode": {
    "name": "ipython",
    "version": 3
   },
   "file_extension": ".py",
   "mimetype": "text/x-python",
   "name": "python",
   "nbconvert_exporter": "python",
   "pygments_lexer": "ipython3",
   "version": "3.11.10"
  }
 },
 "nbformat": 4,
 "nbformat_minor": 5
}
