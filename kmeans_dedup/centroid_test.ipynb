{
 "cells": [
  {
   "cell_type": "code",
   "execution_count": 1,
   "id": "759933ab-c35e-4da9-999a-824ca480d31b",
   "metadata": {},
   "outputs": [],
   "source": [
    "import numpy as np"
   ]
  },
  {
   "cell_type": "code",
   "execution_count": 2,
   "id": "6d245128-8842-4211-9ba2-ffb9a083f0e6",
   "metadata": {},
   "outputs": [],
   "source": [
    "embeds = np.random.randn(8, 32)"
   ]
  },
  {
   "cell_type": "code",
   "execution_count": 79,
   "id": "56a0934a-1ca2-4ddd-91f4-b1b07412bc1f",
   "metadata": {},
   "outputs": [],
   "source": [
    "clusters = np.array([0,2,1,0,0,2,3,2])\n",
    "num_items = clusters.shape[0]\n",
    "uniq_clusters = np.unique(clusters)\n",
    "num_clusters = uniq_clusters.shape[0]"
   ]
  },
  {
   "cell_type": "code",
   "execution_count": 80,
   "id": "6331f031-74e7-48d9-972e-08cb19f0f1aa",
   "metadata": {},
   "outputs": [
    {
     "data": {
      "text/plain": [
       "(4, 8, 32)"
      ]
     },
     "execution_count": 80,
     "metadata": {},
     "output_type": "execute_result"
    }
   ],
   "source": [
    "cluster_embeds = np.broadcast_to(embeds, (num_clusters,) + embeds.shape)\n",
    "cluster_embeds.shape"
   ]
  },
  {
   "cell_type": "code",
   "execution_count": 81,
   "id": "2c3aa63d-533b-4ff9-8fb9-fa12091c2907",
   "metadata": {},
   "outputs": [
    {
     "data": {
      "text/plain": [
       "(1, 8)"
      ]
     },
     "execution_count": 81,
     "metadata": {},
     "output_type": "execute_result"
    }
   ],
   "source": [
    "clusters[None, :].shape"
   ]
  },
  {
   "cell_type": "code",
   "execution_count": 82,
   "id": "a080d30a-0aa9-48d5-8a19-4c29f0bbc08f",
   "metadata": {},
   "outputs": [
    {
     "data": {
      "text/plain": [
       "(4, 1, 1)"
      ]
     },
     "execution_count": 82,
     "metadata": {},
     "output_type": "execute_result"
    }
   ],
   "source": [
    "np.arange(num_clusters)[:, None, None].shape"
   ]
  },
  {
   "cell_type": "code",
   "execution_count": 83,
   "id": "99cdc4f6-ee59-466d-bcad-8c95e25ff2e2",
   "metadata": {},
   "outputs": [],
   "source": [
    "mask = clusters[None, :] == uniq_clusters[:, None]"
   ]
  },
  {
   "cell_type": "code",
   "execution_count": 93,
   "id": "27a966e5-697a-40c8-927c-1ebc00fbbc44",
   "metadata": {},
   "outputs": [
    {
     "data": {
      "text/plain": [
       "array([[ True, False, False,  True,  True, False, False, False],\n",
       "       [False, False,  True, False, False, False, False, False],\n",
       "       [False,  True, False, False, False,  True, False,  True],\n",
       "       [False, False, False, False, False, False,  True, False]])"
      ]
     },
     "execution_count": 93,
     "metadata": {},
     "output_type": "execute_result"
    }
   ],
   "source": [
    "mask"
   ]
  },
  {
   "cell_type": "code",
   "execution_count": 84,
   "id": "27eb9793-f398-47ab-8c71-109e30594a2d",
   "metadata": {},
   "outputs": [
    {
     "data": {
      "text/plain": [
       "array([3, 1, 3, 1])"
      ]
     },
     "execution_count": 84,
     "metadata": {},
     "output_type": "execute_result"
    }
   ],
   "source": [
    "mask.sum(axis=1)"
   ]
  },
  {
   "cell_type": "code",
   "execution_count": 85,
   "id": "617a3427-8a00-4bed-b82d-6193fef4358c",
   "metadata": {},
   "outputs": [
    {
     "data": {
      "text/plain": [
       "(4, 8, 32)"
      ]
     },
     "execution_count": 85,
     "metadata": {},
     "output_type": "execute_result"
    }
   ],
   "source": [
    "mask_updated = np.broadcast_to(mask[:, :, None], cluster_embeds.shape)\n",
    "mask_updated.shape"
   ]
  },
  {
   "cell_type": "code",
   "execution_count": 86,
   "id": "0a646bcd-dd88-4936-babe-203460c81dc9",
   "metadata": {},
   "outputs": [],
   "source": [
    "masked_embeds = np.where(mask_updated, cluster_embeds, 0)"
   ]
  },
  {
   "cell_type": "code",
   "execution_count": 96,
   "id": "47495c1b-51ca-41a3-86bc-7cd4ba3e83e5",
   "metadata": {},
   "outputs": [],
   "source": [
    "masked_embeds2 = cluster_embeds * mask_updated"
   ]
  },
  {
   "cell_type": "code",
   "execution_count": 98,
   "id": "b23bb73d-59cb-4248-a694-1dbbe64f2b45",
   "metadata": {},
   "outputs": [
    {
     "data": {
      "text/plain": [
       "True"
      ]
     },
     "execution_count": 98,
     "metadata": {},
     "output_type": "execute_result"
    }
   ],
   "source": [
    "np.all(masked_embeds2 == masked_embeds)"
   ]
  },
  {
   "cell_type": "code",
   "execution_count": 87,
   "id": "932d9da6-75ad-4b86-b6d8-92f26a2985a6",
   "metadata": {},
   "outputs": [
    {
     "data": {
      "text/plain": [
       "(4, 8, 32)"
      ]
     },
     "execution_count": 87,
     "metadata": {},
     "output_type": "execute_result"
    }
   ],
   "source": [
    "masked_embeds.shape"
   ]
  },
  {
   "cell_type": "code",
   "execution_count": 91,
   "id": "b65b6908-5a42-4217-96ee-a9cc7a7dd083",
   "metadata": {},
   "outputs": [],
   "source": [
    "mean_norm = num_items / mask.sum(axis=1)"
   ]
  },
  {
   "cell_type": "code",
   "execution_count": 95,
   "id": "92a85baa-d24f-430b-b0e6-1e99dccf588b",
   "metadata": {},
   "outputs": [
    {
     "data": {
      "text/plain": [
       "(4, 32)"
      ]
     },
     "execution_count": 95,
     "metadata": {},
     "output_type": "execute_result"
    }
   ],
   "source": [
    "centroids = masked_embeds.mean(axis=1) * mean_norm[:, None]\n",
    "centroids.shape"
   ]
  },
  {
   "cell_type": "code",
   "execution_count": null,
   "id": "9453df47-3c40-4c65-8958-bf3755b780e1",
   "metadata": {},
   "outputs": [],
   "source": []
  }
 ],
 "metadata": {
  "kernelspec": {
   "display_name": "Python 3 (ipykernel)",
   "language": "python",
   "name": "python3"
  },
  "language_info": {
   "codemirror_mode": {
    "name": "ipython",
    "version": 3
   },
   "file_extension": ".py",
   "mimetype": "text/x-python",
   "name": "python",
   "nbconvert_exporter": "python",
   "pygments_lexer": "ipython3",
   "version": "3.10.12"
  }
 },
 "nbformat": 4,
 "nbformat_minor": 5
}
