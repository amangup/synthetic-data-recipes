{
 "cells": [
  {
   "cell_type": "code",
   "execution_count": 1,
   "id": "782e106a-547e-46a9-97ed-40d9e6f37511",
   "metadata": {},
   "outputs": [],
   "source": [
    "from datasets import load_dataset, DatasetDict\n",
    "from sklearn.cluster import KMeans\n",
    "from vllm import LLM\n",
    "\n",
    "import json\n",
    "import numpy as np\n",
    "import torch"
   ]
  },
  {
   "cell_type": "code",
   "execution_count": 2,
   "id": "c88d6026-211c-46fa-8d30-8098873cdc5e",
   "metadata": {},
   "outputs": [],
   "source": [
    "column = 'synthetic_content'\n",
    "dedup_ratio = 2"
   ]
  },
  {
   "cell_type": "code",
   "execution_count": 3,
   "id": "a160ebc1-e46a-4271-863e-32a3261bf942",
   "metadata": {},
   "outputs": [],
   "source": [
    "model_id = \"Alibaba-NLP/gte-Qwen2-7B-instruct\""
   ]
  },
  {
   "cell_type": "code",
   "execution_count": 4,
   "id": "ccd1a537-564c-4957-abe7-21e39daafc60",
   "metadata": {},
   "outputs": [],
   "source": [
    "instruction = \"Identify the factual information, named entities, concepts and themes from the knowledge content.\""
   ]
  },
  {
   "cell_type": "code",
   "execution_count": 5,
   "id": "c32b7693-63a0-48c2-85b5-7eaa55cd49da",
   "metadata": {},
   "outputs": [
    {
     "name": "stdout",
     "output_type": "stream",
     "text": [
      "INFO 12-29 23:09:29 config.py:280] Overriding HF config with {'is_causal': False}\n",
      "INFO 12-29 23:09:29 config.py:2272] Downcasting torch.float32 to torch.float16.\n",
      "INFO 12-29 23:09:34 llm_engine.py:234] Initializing an LLM engine (v0.6.6.post1) with config: model='Alibaba-NLP/gte-Qwen2-7B-instruct', speculative_config=None, tokenizer='Alibaba-NLP/gte-Qwen2-7B-instruct', skip_tokenizer_init=False, tokenizer_mode=auto, revision=None, override_neuron_config=None, tokenizer_revision=None, trust_remote_code=False, dtype=torch.float16, max_seq_len=4096, download_dir=None, load_format=auto, tensor_parallel_size=1, pipeline_parallel_size=1, disable_custom_all_reduce=False, quantization=None, enforce_eager=False, kv_cache_dtype=auto, quantization_param_path=None, device_config=cuda, decoding_config=DecodingConfig(guided_decoding_backend='xgrammar'), observability_config=ObservabilityConfig(otlp_traces_endpoint=None, collect_model_forward_time=False, collect_model_execute_time=False), seed=0, served_model_name=Alibaba-NLP/gte-Qwen2-7B-instruct, num_scheduler_steps=1, multi_step_stream_outputs=True, enable_prefix_caching=False, chunked_prefill_enabled=False, use_async_output_proc=False, disable_mm_preprocessor_cache=False, mm_processor_kwargs=None, pooler_config=PoolerConfig(pooling_type='LAST', normalize=True, softmax=None, step_tag_id=None, returned_token_ids=None), compilation_config={\"splitting_ops\":[\"vllm.unified_attention\",\"vllm.unified_attention_with_output\"],\"candidate_compile_sizes\":[],\"compile_sizes\":[],\"capture_sizes\":[256,248,240,232,224,216,208,200,192,184,176,168,160,152,144,136,128,120,112,104,96,88,80,72,64,56,48,40,32,24,16,8,4,2,1],\"max_capture_size\":256}, use_cached_outputs=False, \n",
      "INFO 12-29 23:09:36 selector.py:120] Using Flash Attention backend.\n",
      "INFO 12-29 23:09:36 model_runner.py:1094] Starting to load model Alibaba-NLP/gte-Qwen2-7B-instruct...\n",
      "INFO 12-29 23:09:37 weight_utils.py:251] Using model weights format ['*.safetensors']\n"
     ]
    },
    {
     "data": {
      "application/vnd.jupyter.widget-view+json": {
       "model_id": "4299d809084e4b81a6d95b24f602d164",
       "version_major": 2,
       "version_minor": 0
      },
      "text/plain": [
       "Loading safetensors checkpoint shards:   0% Completed | 0/7 [00:00<?, ?it/s]\n"
      ]
     },
     "metadata": {},
     "output_type": "display_data"
    },
    {
     "name": "stdout",
     "output_type": "stream",
     "text": [
      "INFO 12-29 23:09:41 model_runner.py:1099] Loading model weights took 13.2529 GB\n"
     ]
    }
   ],
   "source": [
    "llm = LLM(model=model_id, max_model_len=4096, hf_overrides={\"is_causal\": False}, task=\"embed\")"
   ]
  },
  {
   "cell_type": "code",
   "execution_count": 6,
   "id": "2082f669-d348-48e1-895f-e435fde2e8b6",
   "metadata": {},
   "outputs": [],
   "source": [
    "def compute_embedding(texts):\n",
    "    tokenizer = llm.get_tokenizer()\n",
    "    instruct_prompts = [\"Instruct: \" + instruction + \"\\nQuery:\\n\" + text for text in texts]\n",
    "    prompt_token_ids = [{\"prompt_token_ids\": tokenizer.encode(prompt)[:4096]} for prompt in instruct_prompts]\n",
    "    outputs = llm.embed(prompt_token_ids)\n",
    "\n",
    "    return {\"embedding\": [output.outputs.embedding for output in outputs]}"
   ]
  },
  {
   "cell_type": "code",
   "execution_count": 7,
   "id": "667bc062-b4fb-4392-a73e-cb8705553fb0",
   "metadata": {},
   "outputs": [],
   "source": [
    "def embed(content_ds):\n",
    "    embed_ds = content_ds.map(compute_embedding, input_columns=[column], batched=True, batch_size=1024)\n",
    "    embeds = np.array(embed_ds['embedding'])\n",
    "\n",
    "    return embed_ds, embeds"
   ]
  },
  {
   "cell_type": "code",
   "execution_count": 8,
   "id": "53795e31-3d53-467c-9855-fbcdd377603a",
   "metadata": {},
   "outputs": [],
   "source": [
    "# TODO: use faiss\n",
    "def cluster(ds_id, embed_ds, embeds):\n",
    "    n_clusters = embed_ds.num_rows // dedup_ratio\n",
    "    print(f\"Kmeans with n_clusters={n_clusters}\")\n",
    "\n",
    "    kmeans = KMeans(n_clusters=n_clusters)\n",
    "    clusters = kmeans.fit_predict(embeds)\n",
    "\n",
    "    clusters_ds = embed_ds.map(lambda _, idx: {\"cluster_id\": clusters[idx]}, with_indices=True)\n",
    "    print(f\"{clusters_ds!r}\")\n",
    "    clusters_ds.push_to_hub(ds_id)\n",
    "\n",
    "    return clusters"
   ]
  },
  {
   "cell_type": "code",
   "execution_count": 9,
   "id": "5d9bace8-d814-4996-b206-b5bfd365188d",
   "metadata": {},
   "outputs": [],
   "source": [
    "# TODO: use faiss\n",
    "def dedup(ds_id, content_ds, embeds, clusters):\n",
    "    uniq_clusters = np.unique(clusters)\n",
    "    uniq_clusters\n",
    "\n",
    "    centroid_ids = []\n",
    "    for idk in uniq_clusters:\n",
    "        cluster_points = embeds[clusters == idk, :]\n",
    "        centroid = cluster_points.mean(axis=0)\n",
    "        cluster_centroid_dist = np.linalg.norm(embeds - centroid, axis=1)\n",
    "        nearest_index = np.argmin(cluster_centroid_dist)\n",
    "        centroid_ids.append(nearest_index)\n",
    "\n",
    "    assert len(centroid_ids) == len(uniq_clusters)\n",
    "\n",
    "    centroid_ds = content_ds.filter(lambda _, idx: idx in centroid_ids, with_indices=True)\n",
    "    not_centroid_ds = content_ds.filter(lambda _, idx: not idx in centroid_ids, with_indices=True)\n",
    "\n",
    "    deduped_ds = DatasetDict({\"train\": centroid_ds, \"test\": not_centroid_ds})\n",
    "    print(f\"{deduped_ds!r}\")\n",
    "    deduped_ds.push_to_hub(ds_id + \"_deduped\")"
   ]
  },
  {
   "cell_type": "code",
   "execution_count": 10,
   "id": "ef65a01f-1b93-4c03-9ff9-f9c149cb0bbe",
   "metadata": {},
   "outputs": [],
   "source": [
    "def top_clusters(content_ds, clusters):\n",
    "    top_k_cluster_ids = np.argsort(np.bincount(clusters))[-3:]\n",
    " \n",
    "    for c, tc_idx in enumerate(top_k_cluster_ids):\n",
    "        sample_idx = np.where(clusters == tc_idx)[0][0]\n",
    "        print(f\"Sample from cluster: {c}\" + \"\\n\\n\")\n",
    "        print(content_ds[int(sample_idx)]['synthetic_content'])\n",
    "        print(\"\\n-------\\n\\n\")"
   ]
  },
  {
   "cell_type": "code",
   "execution_count": 11,
   "id": "812460b6-6201-439c-a570-2159d9b4ddea",
   "metadata": {},
   "outputs": [],
   "source": [
    "def run(ds_id):\n",
    "    content_ds = load_dataset(ds_id)['train']\n",
    "    embed_ds, embeds = embed(content_ds)\n",
    "    clusters = cluster(ds_id, embed_ds, embeds)\n",
    "\n",
    "    dedup(ds_id, content_ds, embeds, clusters)\n",
    "    top_clusters(content_ds, clusters)"
   ]
  },
  {
   "cell_type": "code",
   "execution_count": 12,
   "id": "e70f27c7-569e-4ad2-84c8-a2694d8f3a6e",
   "metadata": {},
   "outputs": [
    {
     "name": "stderr",
     "output_type": "stream",
     "text": [
      "Parameter 'function'=<function compute_embedding at 0x7b2478ab0f70> of the transform datasets.arrow_dataset.Dataset._map_single couldn't be hashed properly, a random hash was used instead. Make sure your transforms and parameters are serializable with pickle or dill for the dataset fingerprinting and caching to work. If you reuse this transform, the caching mechanism will consider it to be different from the previous calls and recompute everything. This warning is only showed once. Subsequent hashing failures won't be showed.\n"
     ]
    },
    {
     "data": {
      "application/vnd.jupyter.widget-view+json": {
       "model_id": "9a0fa8f7302f4a5aade00a0a9fd20da5",
       "version_major": 2,
       "version_minor": 0
      },
      "text/plain": [
       "Map:   0%|          | 0/10244 [00:00<?, ? examples/s]"
      ]
     },
     "metadata": {},
     "output_type": "display_data"
    },
    {
     "name": "stderr",
     "output_type": "stream",
     "text": [
      "\n",
      "\u001b[Acessed prompts:   0% 0/1024 [00:00<?, ?it/s, est. speed input: 0.00 toks/s, output: 0.00 toks/s]\n",
      "\u001b[Acessed prompts:   0% 1/1024 [00:02<36:50,  2.16s/it, est. speed input: 0.00 toks/s, output: 0.00 toks/s]\n",
      "\u001b[Acessed prompts:   4% 38/1024 [00:04<01:29, 11.00it/s, est. speed input: 0.00 toks/s, output: 0.00 toks/s]\n",
      "\u001b[Acessed prompts:   8% 77/1024 [00:06<01:02, 15.04it/s, est. speed input: 0.00 toks/s, output: 0.00 toks/s]\n",
      "\u001b[Acessed prompts:  11% 116/1024 [00:07<00:50, 17.82it/s, est. speed input: 0.00 toks/s, output: 0.00 toks/s]\n",
      "\u001b[Acessed prompts:  15% 150/1024 [00:09<00:49, 17.71it/s, est. speed input: 0.00 toks/s, output: 0.00 toks/s]\n",
      "\u001b[Acessed prompts:  18% 185/1024 [00:11<00:46, 17.90it/s, est. speed input: 0.00 toks/s, output: 0.00 toks/s]\n",
      "\u001b[Acessed prompts:  22% 224/1024 [00:13<00:43, 18.58it/s, est. speed input: 0.00 toks/s, output: 0.00 toks/s]\n",
      "\u001b[Acessed prompts:  25% 260/1024 [00:15<00:41, 18.59it/s, est. speed input: 0.00 toks/s, output: 0.00 toks/s]\n",
      "\u001b[Acessed prompts:  29% 298/1024 [00:17<00:38, 18.96it/s, est. speed input: 0.00 toks/s, output: 0.00 toks/s]\n",
      "\u001b[Acessed prompts:  33% 336/1024 [00:19<00:35, 19.21it/s, est. speed input: 0.00 toks/s, output: 0.00 toks/s]\n",
      "\u001b[Acessed prompts:  36% 373/1024 [00:21<00:34, 19.12it/s, est. speed input: 0.00 toks/s, output: 0.00 toks/s]\n",
      "\u001b[Acessed prompts:  40% 410/1024 [00:23<00:31, 19.20it/s, est. speed input: 0.00 toks/s, output: 0.00 toks/s]\n",
      "\u001b[Acessed prompts:  44% 449/1024 [00:25<00:29, 19.42it/s, est. speed input: 0.00 toks/s, output: 0.00 toks/s]\n",
      "\u001b[Acessed prompts:  47% 484/1024 [00:27<00:28, 19.13it/s, est. speed input: 0.00 toks/s, output: 0.00 toks/s]\n",
      "\u001b[Acessed prompts:  51% 521/1024 [00:29<00:26, 19.05it/s, est. speed input: 0.00 toks/s, output: 0.00 toks/s]\n",
      "\u001b[Acessed prompts:  55% 559/1024 [00:30<00:24, 19.17it/s, est. speed input: 0.00 toks/s, output: 0.00 toks/s]\n",
      "\u001b[Acessed prompts:  58% 593/1024 [00:32<00:23, 18.68it/s, est. speed input: 0.00 toks/s, output: 0.00 toks/s]\n",
      "\u001b[Acessed prompts:  62% 632/1024 [00:34<00:20, 19.14it/s, est. speed input: 0.00 toks/s, output: 0.00 toks/s]\n",
      "\u001b[Acessed prompts:  66% 673/1024 [00:36<00:17, 19.69it/s, est. speed input: 0.00 toks/s, output: 0.00 toks/s]\n",
      "\u001b[Acessed prompts:  69% 711/1024 [00:38<00:15, 19.68it/s, est. speed input: 0.00 toks/s, output: 0.00 toks/s]\n",
      "\u001b[Acessed prompts:  73% 751/1024 [00:40<00:13, 19.90it/s, est. speed input: 0.00 toks/s, output: 0.00 toks/s]\n",
      "\u001b[Acessed prompts:  77% 790/1024 [00:42<00:11, 20.00it/s, est. speed input: 0.00 toks/s, output: 0.00 toks/s]\n",
      "\u001b[Acessed prompts:  81% 828/1024 [00:44<00:09, 19.81it/s, est. speed input: 0.00 toks/s, output: 0.00 toks/s]\n",
      "\u001b[Acessed prompts:  84% 865/1024 [00:46<00:08, 19.58it/s, est. speed input: 0.00 toks/s, output: 0.00 toks/s]\n",
      "\u001b[Acessed prompts:  88% 903/1024 [00:48<00:06, 19.51it/s, est. speed input: 0.00 toks/s, output: 0.00 toks/s]\n",
      "\u001b[Acessed prompts:  92% 942/1024 [00:50<00:04, 19.64it/s, est. speed input: 0.00 toks/s, output: 0.00 toks/s]\n",
      "\u001b[Acessed prompts:  96% 982/1024 [00:52<00:02, 19.96it/s, est. speed input: 0.00 toks/s, output: 0.00 toks/s]\n",
      "Processed prompts: 100% 1024/1024 [00:52<00:00, 19.42it/s, est. speed input: 0.00 toks/s, output: 0.00 toks/s]\n",
      "\n",
      "\u001b[Acessed prompts:   0% 0/1024 [00:00<?, ?it/s, est. speed input: 0.00 toks/s, output: 0.00 toks/s]\n",
      "\u001b[Acessed prompts:   0% 1/1024 [00:01<32:58,  1.93s/it, est. speed input: 0.00 toks/s, output: 0.00 toks/s]\n",
      "\u001b[Acessed prompts:   4% 40/1024 [00:03<01:21, 12.05it/s, est. speed input: 0.00 toks/s, output: 0.00 toks/s]\n",
      "\u001b[Acessed prompts:   8% 78/1024 [00:05<01:00, 15.58it/s, est. speed input: 0.00 toks/s, output: 0.00 toks/s]\n",
      "\u001b[Acessed prompts:  11% 116/1024 [00:07<00:53, 17.12it/s, est. speed input: 0.00 toks/s, output: 0.00 toks/s]\n",
      "\u001b[Acessed prompts:  15% 155/1024 [00:09<00:47, 18.14it/s, est. speed input: 0.00 toks/s, output: 0.00 toks/s]\n",
      "\u001b[Acessed prompts:  19% 195/1024 [00:11<00:43, 18.98it/s, est. speed input: 0.00 toks/s, output: 0.00 toks/s]\n",
      "\u001b[Acessed prompts:  23% 235/1024 [00:13<00:39, 19.76it/s, est. speed input: 0.00 toks/s, output: 0.00 toks/s]\n",
      "\u001b[Acessed prompts:  27% 272/1024 [00:15<00:38, 19.54it/s, est. speed input: 0.00 toks/s, output: 0.00 toks/s]\n",
      "\u001b[Acessed prompts:  30% 309/1024 [00:17<00:36, 19.45it/s, est. speed input: 0.00 toks/s, output: 0.00 toks/s]\n",
      "\u001b[Acessed prompts:  34% 349/1024 [00:19<00:34, 19.65it/s, est. speed input: 0.00 toks/s, output: 0.00 toks/s]\n",
      "\u001b[Acessed prompts:  38% 384/1024 [00:21<00:33, 19.14it/s, est. speed input: 0.00 toks/s, output: 0.00 toks/s]\n",
      "\u001b[Acessed prompts:  41% 424/1024 [00:23<00:30, 19.57it/s, est. speed input: 0.00 toks/s, output: 0.00 toks/s]\n",
      "\u001b[Acessed prompts:  45% 463/1024 [00:25<00:28, 19.66it/s, est. speed input: 0.00 toks/s, output: 0.00 toks/s]\n",
      "\u001b[Acessed prompts:  49% 501/1024 [00:27<00:26, 19.57it/s, est. speed input: 0.00 toks/s, output: 0.00 toks/s]\n",
      "\u001b[Acessed prompts:  53% 540/1024 [00:29<00:24, 19.83it/s, est. speed input: 0.00 toks/s, output: 0.00 toks/s]\n",
      "\u001b[Acessed prompts:  56% 577/1024 [00:31<00:22, 19.51it/s, est. speed input: 0.00 toks/s, output: 0.00 toks/s]\n",
      "\u001b[Acessed prompts:  60% 615/1024 [00:33<00:21, 19.46it/s, est. speed input: 0.00 toks/s, output: 0.00 toks/s]\n",
      "\u001b[Acessed prompts:  64% 654/1024 [00:34<00:18, 19.59it/s, est. speed input: 0.00 toks/s, output: 0.00 toks/s]\n",
      "\u001b[Acessed prompts:  68% 696/1024 [00:36<00:16, 20.25it/s, est. speed input: 0.00 toks/s, output: 0.00 toks/s]\n",
      "\u001b[Acessed prompts:  72% 733/1024 [00:38<00:14, 19.91it/s, est. speed input: 0.00 toks/s, output: 0.00 toks/s]\n",
      "\u001b[Acessed prompts:  76% 774/1024 [00:40<00:12, 20.38it/s, est. speed input: 0.00 toks/s, output: 0.00 toks/s]\n",
      "\u001b[Acessed prompts:  79% 811/1024 [00:42<00:10, 19.99it/s, est. speed input: 0.00 toks/s, output: 0.00 toks/s]\n",
      "\u001b[Acessed prompts:  83% 849/1024 [00:44<00:08, 19.99it/s, est. speed input: 0.00 toks/s, output: 0.00 toks/s]\n",
      "\u001b[Acessed prompts:  87% 887/1024 [00:46<00:06, 19.92it/s, est. speed input: 0.00 toks/s, output: 0.00 toks/s]\n",
      "\u001b[Acessed prompts:  91% 927/1024 [00:48<00:04, 20.17it/s, est. speed input: 0.00 toks/s, output: 0.00 toks/s]\n",
      "\u001b[Acessed prompts:  94% 963/1024 [00:50<00:03, 19.61it/s, est. speed input: 0.00 toks/s, output: 0.00 toks/s]\n",
      "Processed prompts: 100% 1024/1024 [00:51<00:00, 19.95it/s, est. speed input: 0.00 toks/s, output: 0.00 toks/s]\n",
      "\n",
      "\u001b[Acessed prompts:   0% 0/1024 [00:00<?, ?it/s, est. speed input: 0.00 toks/s, output: 0.00 toks/s]\n",
      "\u001b[Acessed prompts:   0% 1/1024 [00:01<33:12,  1.95s/it, est. speed input: 0.00 toks/s, output: 0.00 toks/s]\n",
      "\u001b[Acessed prompts:   4% 42/1024 [00:03<01:17, 12.67it/s, est. speed input: 0.00 toks/s, output: 0.00 toks/s]\n",
      "\u001b[Acessed prompts:   8% 82/1024 [00:05<00:58, 16.18it/s, est. speed input: 0.00 toks/s, output: 0.00 toks/s]\n",
      "\u001b[Acessed prompts:  12% 120/1024 [00:07<00:51, 17.46it/s, est. speed input: 0.00 toks/s, output: 0.00 toks/s]\n",
      "\u001b[Acessed prompts:  16% 159/1024 [00:09<00:47, 18.39it/s, est. speed input: 0.00 toks/s, output: 0.00 toks/s]\n",
      "\u001b[Acessed prompts:  19% 197/1024 [00:11<00:44, 18.68it/s, est. speed input: 0.00 toks/s, output: 0.00 toks/s]\n",
      "\u001b[Acessed prompts:  22% 230/1024 [00:13<00:44, 17.97it/s, est. speed input: 0.00 toks/s, output: 0.00 toks/s]\n",
      "\u001b[Acessed prompts:  26% 266/1024 [00:15<00:41, 18.18it/s, est. speed input: 0.00 toks/s, output: 0.00 toks/s]\n",
      "\u001b[Acessed prompts:  30% 305/1024 [00:17<00:38, 18.70it/s, est. speed input: 0.00 toks/s, output: 0.00 toks/s]\n",
      "\u001b[Acessed prompts:  34% 344/1024 [00:19<00:35, 19.12it/s, est. speed input: 0.00 toks/s, output: 0.00 toks/s]\n",
      "\u001b[Acessed prompts:  37% 383/1024 [00:21<00:32, 19.43it/s, est. speed input: 0.00 toks/s, output: 0.00 toks/s]\n",
      "\u001b[Acessed prompts:  41% 422/1024 [00:23<00:30, 19.72it/s, est. speed input: 0.00 toks/s, output: 0.00 toks/s]\n",
      "\u001b[Acessed prompts:  45% 459/1024 [00:25<00:29, 19.44it/s, est. speed input: 0.00 toks/s, output: 0.00 toks/s]\n",
      "\u001b[Acessed prompts:  49% 497/1024 [00:27<00:26, 19.65it/s, est. speed input: 0.00 toks/s, output: 0.00 toks/s]\n",
      "\u001b[Acessed prompts:  52% 533/1024 [00:29<00:25, 19.29it/s, est. speed input: 0.00 toks/s, output: 0.00 toks/s]\n",
      "\u001b[Acessed prompts:  55% 568/1024 [00:31<00:24, 18.84it/s, est. speed input: 0.00 toks/s, output: 0.00 toks/s]\n",
      "\u001b[Acessed prompts:  59% 608/1024 [00:33<00:21, 19.45it/s, est. speed input: 0.00 toks/s, output: 0.00 toks/s]\n",
      "\u001b[Acessed prompts:  63% 646/1024 [00:35<00:19, 19.56it/s, est. speed input: 0.00 toks/s, output: 0.00 toks/s]\n",
      "\u001b[Acessed prompts:  67% 685/1024 [00:36<00:17, 19.70it/s, est. speed input: 0.00 toks/s, output: 0.00 toks/s]\n",
      "\u001b[Acessed prompts:  71% 725/1024 [00:38<00:14, 20.05it/s, est. speed input: 0.00 toks/s, output: 0.00 toks/s]\n",
      "\u001b[Acessed prompts:  75% 763/1024 [00:40<00:13, 19.93it/s, est. speed input: 0.00 toks/s, output: 0.00 toks/s]\n",
      "\u001b[Acessed prompts:  78% 801/1024 [00:42<00:11, 19.80it/s, est. speed input: 0.00 toks/s, output: 0.00 toks/s]\n",
      "\u001b[Acessed prompts:  82% 841/1024 [00:44<00:09, 19.90it/s, est. speed input: 0.00 toks/s, output: 0.00 toks/s]\n",
      "\u001b[Acessed prompts:  86% 876/1024 [00:46<00:07, 19.36it/s, est. speed input: 0.00 toks/s, output: 0.00 toks/s]\n",
      "\u001b[Acessed prompts:  89% 915/1024 [00:48<00:05, 19.56it/s, est. speed input: 0.00 toks/s, output: 0.00 toks/s]\n",
      "\u001b[Acessed prompts:  93% 953/1024 [00:50<00:03, 19.53it/s, est. speed input: 0.00 toks/s, output: 0.00 toks/s]\n",
      "Processed prompts: 100% 1024/1024 [00:52<00:00, 19.50it/s, est. speed input: 0.00 toks/s, output: 0.00 toks/s]\n",
      "\n",
      "\u001b[Acessed prompts:   0% 0/1024 [00:00<?, ?it/s, est. speed input: 0.00 toks/s, output: 0.00 toks/s]\n",
      "\u001b[Acessed prompts:   0% 1/1024 [00:01<32:18,  1.89s/it, est. speed input: 0.00 toks/s, output: 0.00 toks/s]\n",
      "\u001b[Acessed prompts:   4% 41/1024 [00:03<01:18, 12.55it/s, est. speed input: 0.00 toks/s, output: 0.00 toks/s]\n",
      "\u001b[Acessed prompts:   8% 80/1024 [00:05<00:59, 15.92it/s, est. speed input: 0.00 toks/s, output: 0.00 toks/s]\n",
      "\u001b[Acessed prompts:  11% 117/1024 [00:07<00:52, 17.20it/s, est. speed input: 0.00 toks/s, output: 0.00 toks/s]\n",
      "\u001b[Acessed prompts:  15% 155/1024 [00:09<00:48, 18.08it/s, est. speed input: 0.00 toks/s, output: 0.00 toks/s]\n",
      "\u001b[Acessed prompts:  19% 192/1024 [00:11<00:45, 18.38it/s, est. speed input: 0.00 toks/s, output: 0.00 toks/s]\n",
      "\u001b[Acessed prompts:  22% 230/1024 [00:13<00:42, 18.70it/s, est. speed input: 0.00 toks/s, output: 0.00 toks/s]\n",
      "\u001b[Acessed prompts:  26% 270/1024 [00:15<00:39, 19.25it/s, est. speed input: 0.00 toks/s, output: 0.00 toks/s]\n",
      "\u001b[Acessed prompts:  30% 310/1024 [00:17<00:36, 19.60it/s, est. speed input: 0.00 toks/s, output: 0.00 toks/s]\n",
      "\u001b[Acessed prompts:  34% 350/1024 [00:19<00:33, 19.98it/s, est. speed input: 0.00 toks/s, output: 0.00 toks/s]\n",
      "\u001b[Acessed prompts:  38% 389/1024 [00:21<00:31, 19.93it/s, est. speed input: 0.00 toks/s, output: 0.00 toks/s]\n",
      "\u001b[Acessed prompts:  42% 428/1024 [00:23<00:29, 19.95it/s, est. speed input: 0.00 toks/s, output: 0.00 toks/s]\n",
      "\u001b[Acessed prompts:  46% 467/1024 [00:25<00:27, 20.08it/s, est. speed input: 0.00 toks/s, output: 0.00 toks/s]\n",
      "\u001b[Acessed prompts:  50% 507/1024 [00:27<00:25, 20.13it/s, est. speed input: 0.00 toks/s, output: 0.00 toks/s]\n",
      "\u001b[Acessed prompts:  53% 543/1024 [00:29<00:24, 19.60it/s, est. speed input: 0.00 toks/s, output: 0.00 toks/s]\n",
      "\u001b[Acessed prompts:  57% 584/1024 [00:31<00:22, 19.97it/s, est. speed input: 0.00 toks/s, output: 0.00 toks/s]\n",
      "\u001b[Acessed prompts:  60% 619/1024 [00:32<00:20, 19.96it/s, est. speed input: 0.00 toks/s, output: 0.00 toks/s]\n",
      "\u001b[Acessed prompts:  64% 653/1024 [00:34<00:19, 19.18it/s, est. speed input: 0.00 toks/s, output: 0.00 toks/s]\n",
      "\u001b[Acessed prompts:  67% 687/1024 [00:36<00:17, 18.73it/s, est. speed input: 0.00 toks/s, output: 0.00 toks/s]\n",
      "\u001b[Acessed prompts:  71% 726/1024 [00:38<00:15, 19.12it/s, est. speed input: 0.00 toks/s, output: 0.00 toks/s]\n",
      "\u001b[Acessed prompts:  74% 761/1024 [00:40<00:13, 18.83it/s, est. speed input: 0.00 toks/s, output: 0.00 toks/s]\n",
      "\u001b[Acessed prompts:  78% 800/1024 [00:42<00:11, 19.26it/s, est. speed input: 0.00 toks/s, output: 0.00 toks/s]\n",
      "\u001b[Acessed prompts:  82% 837/1024 [00:44<00:09, 19.12it/s, est. speed input: 0.00 toks/s, output: 0.00 toks/s]\n",
      "\u001b[Acessed prompts:  86% 876/1024 [00:46<00:07, 19.44it/s, est. speed input: 0.00 toks/s, output: 0.00 toks/s]\n",
      "\u001b[Acessed prompts:  89% 914/1024 [00:48<00:05, 19.52it/s, est. speed input: 0.00 toks/s, output: 0.00 toks/s]\n",
      "\u001b[Acessed prompts:  93% 953/1024 [00:50<00:03, 19.67it/s, est. speed input: 0.00 toks/s, output: 0.00 toks/s]\n",
      "Processed prompts: 100% 1024/1024 [00:52<00:00, 19.66it/s, est. speed input: 0.00 toks/s, output: 0.00 toks/s]\n",
      "\n",
      "\u001b[Acessed prompts:   0% 0/1024 [00:00<?, ?it/s, est. speed input: 0.00 toks/s, output: 0.00 toks/s]\n",
      "\u001b[Acessed prompts:   0% 1/1024 [00:01<33:03,  1.94s/it, est. speed input: 0.00 toks/s, output: 0.00 toks/s]\n",
      "\u001b[Acessed prompts:   4% 38/1024 [00:03<01:25, 11.49it/s, est. speed input: 0.00 toks/s, output: 0.00 toks/s]\n",
      "\u001b[Acessed prompts:   7% 74/1024 [00:05<01:04, 14.80it/s, est. speed input: 0.00 toks/s, output: 0.00 toks/s]\n",
      "\u001b[Acessed prompts:  11% 113/1024 [00:07<00:53, 16.87it/s, est. speed input: 0.00 toks/s, output: 0.00 toks/s]\n",
      "\u001b[Acessed prompts:  15% 150/1024 [00:09<00:49, 17.60it/s, est. speed input: 0.00 toks/s, output: 0.00 toks/s]\n",
      "\u001b[Acessed prompts:  18% 189/1024 [00:11<00:45, 18.52it/s, est. speed input: 0.00 toks/s, output: 0.00 toks/s]\n",
      "\u001b[Acessed prompts:  22% 228/1024 [00:13<00:41, 19.03it/s, est. speed input: 0.00 toks/s, output: 0.00 toks/s]\n",
      "\u001b[Acessed prompts:  26% 266/1024 [00:15<00:39, 19.23it/s, est. speed input: 0.00 toks/s, output: 0.00 toks/s]\n",
      "\u001b[Acessed prompts:  30% 305/1024 [00:17<00:36, 19.60it/s, est. speed input: 0.00 toks/s, output: 0.00 toks/s]\n",
      "\u001b[Acessed prompts:  33% 339/1024 [00:19<00:36, 18.88it/s, est. speed input: 0.00 toks/s, output: 0.00 toks/s]\n",
      "\u001b[Acessed prompts:  37% 379/1024 [00:21<00:33, 19.36it/s, est. speed input: 0.00 toks/s, output: 0.00 toks/s]\n",
      "\u001b[Acessed prompts:  41% 419/1024 [00:23<00:30, 19.67it/s, est. speed input: 0.00 toks/s, output: 0.00 toks/s]\n",
      "\u001b[Acessed prompts:  44% 452/1024 [00:25<00:30, 18.79it/s, est. speed input: 0.00 toks/s, output: 0.00 toks/s]\n",
      "\u001b[Acessed prompts:  48% 492/1024 [00:27<00:27, 19.38it/s, est. speed input: 0.00 toks/s, output: 0.00 toks/s]\n",
      "\u001b[Acessed prompts:  52% 530/1024 [00:29<00:25, 19.45it/s, est. speed input: 0.00 toks/s, output: 0.00 toks/s]\n",
      "\u001b[Acessed prompts:  55% 568/1024 [00:31<00:23, 19.48it/s, est. speed input: 0.00 toks/s, output: 0.00 toks/s]\n",
      "\u001b[Acessed prompts:  59% 606/1024 [00:33<00:21, 19.39it/s, est. speed input: 0.00 toks/s, output: 0.00 toks/s]\n",
      "\u001b[Acessed prompts:  62% 639/1024 [00:35<00:20, 18.59it/s, est. speed input: 0.00 toks/s, output: 0.00 toks/s]\n",
      "\u001b[Acessed prompts:  66% 676/1024 [00:36<00:18, 18.82it/s, est. speed input: 0.00 toks/s, output: 0.00 toks/s]\n",
      "\u001b[Acessed prompts:  70% 712/1024 [00:38<00:16, 18.66it/s, est. speed input: 0.00 toks/s, output: 0.00 toks/s]\n",
      "\u001b[Acessed prompts:  73% 751/1024 [00:40<00:14, 19.03it/s, est. speed input: 0.00 toks/s, output: 0.00 toks/s]\n",
      "\u001b[Acessed prompts:  77% 791/1024 [00:42<00:11, 19.43it/s, est. speed input: 0.00 toks/s, output: 0.00 toks/s]\n",
      "\u001b[Acessed prompts:  81% 830/1024 [00:44<00:09, 19.52it/s, est. speed input: 0.00 toks/s, output: 0.00 toks/s]\n",
      "\u001b[Acessed prompts:  85% 869/1024 [00:46<00:07, 19.72it/s, est. speed input: 0.00 toks/s, output: 0.00 toks/s]\n",
      "\u001b[Acessed prompts:  88% 905/1024 [00:48<00:06, 19.36it/s, est. speed input: 0.00 toks/s, output: 0.00 toks/s]\n",
      "\u001b[Acessed prompts:  92% 944/1024 [00:50<00:04, 19.63it/s, est. speed input: 0.00 toks/s, output: 0.00 toks/s]\n",
      "\u001b[Acessed prompts:  96% 982/1024 [00:52<00:02, 19.60it/s, est. speed input: 0.00 toks/s, output: 0.00 toks/s]\n",
      "Processed prompts: 100% 1024/1024 [00:52<00:00, 19.44it/s, est. speed input: 0.00 toks/s, output: 0.00 toks/s]\n",
      "\n",
      "\u001b[Acessed prompts:   0% 0/1024 [00:00<?, ?it/s, est. speed input: 0.00 toks/s, output: 0.00 toks/s]\n",
      "\u001b[Acessed prompts:   0% 1/1024 [00:01<33:19,  1.95s/it, est. speed input: 0.00 toks/s, output: 0.00 toks/s]\n",
      "\u001b[Acessed prompts:   4% 40/1024 [00:03<01:22, 11.99it/s, est. speed input: 0.00 toks/s, output: 0.00 toks/s]\n",
      "\u001b[Acessed prompts:   8% 77/1024 [00:05<01:02, 15.13it/s, est. speed input: 0.00 toks/s, output: 0.00 toks/s]\n",
      "\u001b[Acessed prompts:  11% 117/1024 [00:07<00:52, 17.21it/s, est. speed input: 0.00 toks/s, output: 0.00 toks/s]\n",
      "\u001b[Acessed prompts:  15% 155/1024 [00:09<00:48, 18.05it/s, est. speed input: 0.00 toks/s, output: 0.00 toks/s]\n",
      "\u001b[Acessed prompts:  19% 192/1024 [00:11<00:45, 18.32it/s, est. speed input: 0.00 toks/s, output: 0.00 toks/s]\n",
      "\u001b[Acessed prompts:  23% 233/1024 [00:13<00:41, 19.21it/s, est. speed input: 0.00 toks/s, output: 0.00 toks/s]\n",
      "\u001b[Acessed prompts:  26% 270/1024 [00:15<00:39, 19.25it/s, est. speed input: 0.00 toks/s, output: 0.00 toks/s]\n",
      "\u001b[Acessed prompts:  30% 309/1024 [00:17<00:36, 19.40it/s, est. speed input: 0.00 toks/s, output: 0.00 toks/s]\n",
      "\u001b[Acessed prompts:  34% 346/1024 [00:19<00:35, 19.30it/s, est. speed input: 0.00 toks/s, output: 0.00 toks/s]\n",
      "\u001b[Acessed prompts:  38% 386/1024 [00:21<00:32, 19.70it/s, est. speed input: 0.00 toks/s, output: 0.00 toks/s]\n",
      "\u001b[Acessed prompts:  41% 424/1024 [00:23<00:30, 19.62it/s, est. speed input: 0.00 toks/s, output: 0.00 toks/s]\n",
      "\u001b[Acessed prompts:  45% 460/1024 [00:25<00:29, 19.33it/s, est. speed input: 0.00 toks/s, output: 0.00 toks/s]\n",
      "\u001b[Acessed prompts:  48% 496/1024 [00:27<00:27, 19.05it/s, est. speed input: 0.00 toks/s, output: 0.00 toks/s]\n",
      "\u001b[Acessed prompts:  52% 531/1024 [00:29<00:26, 18.73it/s, est. speed input: 0.00 toks/s, output: 0.00 toks/s]\n",
      "\u001b[Acessed prompts:  56% 571/1024 [00:31<00:23, 19.36it/s, est. speed input: 0.00 toks/s, output: 0.00 toks/s]\n",
      "\u001b[Acessed prompts:  59% 608/1024 [00:33<00:21, 19.32it/s, est. speed input: 0.00 toks/s, output: 0.00 toks/s]\n",
      "\u001b[Acessed prompts:  63% 647/1024 [00:35<00:19, 19.47it/s, est. speed input: 0.00 toks/s, output: 0.00 toks/s]\n",
      "\u001b[Acessed prompts:  67% 685/1024 [00:37<00:17, 19.44it/s, est. speed input: 0.00 toks/s, output: 0.00 toks/s]\n",
      "\u001b[Acessed prompts:  71% 724/1024 [00:38<00:15, 19.62it/s, est. speed input: 0.00 toks/s, output: 0.00 toks/s]\n",
      "\u001b[Acessed prompts:  75% 763/1024 [00:40<00:13, 19.82it/s, est. speed input: 0.00 toks/s, output: 0.00 toks/s]\n",
      "\u001b[Acessed prompts:  79% 804/1024 [00:42<00:10, 20.22it/s, est. speed input: 0.00 toks/s, output: 0.00 toks/s]\n",
      "\u001b[Acessed prompts:  82% 842/1024 [00:44<00:09, 19.94it/s, est. speed input: 0.00 toks/s, output: 0.00 toks/s]\n",
      "\u001b[Acessed prompts:  86% 882/1024 [00:46<00:07, 20.13it/s, est. speed input: 0.00 toks/s, output: 0.00 toks/s]\n",
      "\u001b[Acessed prompts:  90% 919/1024 [00:48<00:05, 19.80it/s, est. speed input: 0.00 toks/s, output: 0.00 toks/s]\n",
      "\u001b[Acessed prompts:  94% 958/1024 [00:50<00:03, 19.95it/s, est. speed input: 0.00 toks/s, output: 0.00 toks/s]\n",
      "Processed prompts: 100% 1024/1024 [00:52<00:00, 19.68it/s, est. speed input: 0.00 toks/s, output: 0.00 toks/s]\n",
      "\n",
      "\u001b[Acessed prompts:   0% 0/1024 [00:00<?, ?it/s, est. speed input: 0.00 toks/s, output: 0.00 toks/s]\n",
      "\u001b[Acessed prompts:   0% 1/1024 [00:01<33:00,  1.94s/it, est. speed input: 0.00 toks/s, output: 0.00 toks/s]\n",
      "\u001b[Acessed prompts:   4% 39/1024 [00:03<01:24, 11.68it/s, est. speed input: 0.00 toks/s, output: 0.00 toks/s]\n",
      "\u001b[Acessed prompts:   8% 79/1024 [00:05<01:00, 15.68it/s, est. speed input: 0.00 toks/s, output: 0.00 toks/s]\n",
      "\u001b[Acessed prompts:  12% 118/1024 [00:07<00:51, 17.50it/s, est. speed input: 0.00 toks/s, output: 0.00 toks/s]\n",
      "\u001b[Acessed prompts:  15% 155/1024 [00:09<00:47, 18.12it/s, est. speed input: 0.00 toks/s, output: 0.00 toks/s]\n",
      "\u001b[Acessed prompts:  19% 192/1024 [00:11<00:45, 18.45it/s, est. speed input: 0.00 toks/s, output: 0.00 toks/s]\n",
      "\u001b[Acessed prompts:  22% 230/1024 [00:13<00:42, 18.76it/s, est. speed input: 0.00 toks/s, output: 0.00 toks/s]\n",
      "\u001b[Acessed prompts:  26% 269/1024 [00:15<00:39, 19.12it/s, est. speed input: 0.00 toks/s, output: 0.00 toks/s]\n",
      "\u001b[Acessed prompts:  30% 309/1024 [00:17<00:36, 19.51it/s, est. speed input: 0.00 toks/s, output: 0.00 toks/s]\n",
      "\u001b[Acessed prompts:  34% 347/1024 [00:19<00:34, 19.52it/s, est. speed input: 0.00 toks/s, output: 0.00 toks/s]\n",
      "\u001b[Acessed prompts:  38% 386/1024 [00:21<00:32, 19.64it/s, est. speed input: 0.00 toks/s, output: 0.00 toks/s]\n",
      "\u001b[Acessed prompts:  41% 422/1024 [00:23<00:31, 19.33it/s, est. speed input: 0.00 toks/s, output: 0.00 toks/s]\n",
      "\u001b[Acessed prompts:  45% 459/1024 [00:25<00:29, 19.18it/s, est. speed input: 0.00 toks/s, output: 0.00 toks/s]\n",
      "\u001b[Acessed prompts:  49% 498/1024 [00:27<00:27, 19.47it/s, est. speed input: 0.00 toks/s, output: 0.00 toks/s]\n",
      "\u001b[Acessed prompts:  53% 538/1024 [00:29<00:24, 19.88it/s, est. speed input: 0.00 toks/s, output: 0.00 toks/s]\n",
      "\u001b[Acessed prompts:  57% 579/1024 [00:31<00:22, 20.17it/s, est. speed input: 0.00 toks/s, output: 0.00 toks/s]\n",
      "\u001b[Acessed prompts:  60% 618/1024 [00:33<00:20, 19.99it/s, est. speed input: 0.00 toks/s, output: 0.00 toks/s]\n",
      "\u001b[Acessed prompts:  64% 652/1024 [00:35<00:19, 19.26it/s, est. speed input: 0.00 toks/s, output: 0.00 toks/s]\n",
      "\u001b[Acessed prompts:  67% 691/1024 [00:37<00:17, 19.55it/s, est. speed input: 0.00 toks/s, output: 0.00 toks/s]\n",
      "\u001b[Acessed prompts:  71% 726/1024 [00:38<00:15, 19.13it/s, est. speed input: 0.00 toks/s, output: 0.00 toks/s]\n",
      "\u001b[Acessed prompts:  75% 765/1024 [00:40<00:13, 19.42it/s, est. speed input: 0.00 toks/s, output: 0.00 toks/s]\n",
      "\u001b[Acessed prompts:  78% 803/1024 [00:42<00:11, 19.47it/s, est. speed input: 0.00 toks/s, output: 0.00 toks/s]\n",
      "\u001b[Acessed prompts:  82% 843/1024 [00:44<00:09, 19.86it/s, est. speed input: 0.00 toks/s, output: 0.00 toks/s]\n",
      "\u001b[Acessed prompts:  86% 881/1024 [00:46<00:07, 19.80it/s, est. speed input: 0.00 toks/s, output: 0.00 toks/s]\n",
      "\u001b[Acessed prompts:  90% 919/1024 [00:48<00:05, 19.79it/s, est. speed input: 0.00 toks/s, output: 0.00 toks/s]\n",
      "\u001b[Acessed prompts:  94% 958/1024 [00:50<00:03, 19.87it/s, est. speed input: 0.00 toks/s, output: 0.00 toks/s]\n",
      "Processed prompts: 100% 1024/1024 [00:51<00:00, 19.71it/s, est. speed input: 0.00 toks/s, output: 0.00 toks/s]\n",
      "\n",
      "\u001b[Acessed prompts:   0% 0/1024 [00:00<?, ?it/s, est. speed input: 0.00 toks/s, output: 0.00 toks/s]\n",
      "\u001b[Acessed prompts:   0% 1/1024 [00:01<33:20,  1.96s/it, est. speed input: 0.00 toks/s, output: 0.00 toks/s]\n",
      "\u001b[Acessed prompts:   4% 40/1024 [00:03<01:22, 11.99it/s, est. speed input: 0.00 toks/s, output: 0.00 toks/s]\n",
      "\u001b[Acessed prompts:   8% 79/1024 [00:05<00:59, 15.81it/s, est. speed input: 0.00 toks/s, output: 0.00 toks/s]\n",
      "\u001b[Acessed prompts:  12% 118/1024 [00:07<00:51, 17.43it/s, est. speed input: 0.00 toks/s, output: 0.00 toks/s]\n",
      "\u001b[Acessed prompts:  15% 157/1024 [00:09<00:47, 18.32it/s, est. speed input: 0.00 toks/s, output: 0.00 toks/s]\n",
      "\u001b[Acessed prompts:  19% 197/1024 [00:11<00:43, 19.09it/s, est. speed input: 0.00 toks/s, output: 0.00 toks/s]\n",
      "\u001b[Acessed prompts:  23% 237/1024 [00:13<00:40, 19.60it/s, est. speed input: 0.00 toks/s, output: 0.00 toks/s]\n",
      "\u001b[Acessed prompts:  27% 275/1024 [00:15<00:38, 19.60it/s, est. speed input: 0.00 toks/s, output: 0.00 toks/s]\n",
      "\u001b[Acessed prompts:  31% 314/1024 [00:17<00:35, 19.73it/s, est. speed input: 0.00 toks/s, output: 0.00 toks/s]\n",
      "\u001b[Acessed prompts:  34% 352/1024 [00:19<00:34, 19.71it/s, est. speed input: 0.00 toks/s, output: 0.00 toks/s]\n",
      "\u001b[Acessed prompts:  38% 390/1024 [00:21<00:32, 19.62it/s, est. speed input: 0.00 toks/s, output: 0.00 toks/s]\n",
      "\u001b[Acessed prompts:  42% 430/1024 [00:23<00:29, 19.86it/s, est. speed input: 0.00 toks/s, output: 0.00 toks/s]\n",
      "\u001b[Acessed prompts:  46% 469/1024 [00:25<00:27, 19.92it/s, est. speed input: 0.00 toks/s, output: 0.00 toks/s]\n",
      "\u001b[Acessed prompts:  50% 509/1024 [00:27<00:25, 20.17it/s, est. speed input: 0.00 toks/s, output: 0.00 toks/s]\n",
      "\u001b[Acessed prompts:  54% 549/1024 [00:29<00:23, 20.30it/s, est. speed input: 0.00 toks/s, output: 0.00 toks/s]\n",
      "\u001b[Acessed prompts:  57% 588/1024 [00:31<00:21, 20.17it/s, est. speed input: 0.00 toks/s, output: 0.00 toks/s]\n",
      "\u001b[Acessed prompts:  61% 627/1024 [00:33<00:19, 20.13it/s, est. speed input: 0.00 toks/s, output: 0.00 toks/s]\n",
      "\u001b[Acessed prompts:  65% 666/1024 [00:35<00:17, 20.05it/s, est. speed input: 0.00 toks/s, output: 0.00 toks/s]\n",
      "\u001b[Acessed prompts:  69% 705/1024 [00:36<00:15, 20.06it/s, est. speed input: 0.00 toks/s, output: 0.00 toks/s]\n",
      "\u001b[Acessed prompts:  73% 745/1024 [00:38<00:13, 20.29it/s, est. speed input: 0.00 toks/s, output: 0.00 toks/s]\n",
      "\u001b[Acessed prompts:  77% 787/1024 [00:40<00:11, 20.62it/s, est. speed input: 0.00 toks/s, output: 0.00 toks/s]\n",
      "\u001b[Acessed prompts:  81% 828/1024 [00:42<00:09, 20.75it/s, est. speed input: 0.00 toks/s, output: 0.00 toks/s]\n",
      "\u001b[Acessed prompts:  85% 866/1024 [00:44<00:07, 20.34it/s, est. speed input: 0.00 toks/s, output: 0.00 toks/s]\n",
      "\u001b[Acessed prompts:  88% 905/1024 [00:46<00:05, 20.22it/s, est. speed input: 0.00 toks/s, output: 0.00 toks/s]\n",
      "\u001b[Acessed prompts:  92% 945/1024 [00:48<00:03, 20.33it/s, est. speed input: 0.00 toks/s, output: 0.00 toks/s]\n",
      "Processed prompts: 100% 1024/1024 [00:50<00:00, 20.22it/s, est. speed input: 0.00 toks/s, output: 0.00 toks/s]\n",
      "\n",
      "\u001b[Acessed prompts:   0% 0/1024 [00:00<?, ?it/s, est. speed input: 0.00 toks/s, output: 0.00 toks/s]\n",
      "\u001b[Acessed prompts:   0% 1/1024 [00:01<32:54,  1.93s/it, est. speed input: 0.00 toks/s, output: 0.00 toks/s]\n",
      "\u001b[Acessed prompts:   4% 39/1024 [00:03<01:23, 11.83it/s, est. speed input: 0.00 toks/s, output: 0.00 toks/s]\n",
      "\u001b[Acessed prompts:   8% 78/1024 [00:05<01:00, 15.67it/s, est. speed input: 0.00 toks/s, output: 0.00 toks/s]\n",
      "\u001b[Acessed prompts:  11% 116/1024 [00:07<00:52, 17.23it/s, est. speed input: 0.00 toks/s, output: 0.00 toks/s]\n",
      "\u001b[Acessed prompts:  15% 154/1024 [00:09<00:48, 18.00it/s, est. speed input: 0.00 toks/s, output: 0.00 toks/s]\n",
      "\u001b[Acessed prompts:  18% 189/1024 [00:11<00:46, 18.09it/s, est. speed input: 0.00 toks/s, output: 0.00 toks/s]\n",
      "\u001b[Acessed prompts:  22% 226/1024 [00:13<00:43, 18.35it/s, est. speed input: 0.00 toks/s, output: 0.00 toks/s]\n",
      "\u001b[Acessed prompts:  26% 265/1024 [00:15<00:40, 18.82it/s, est. speed input: 0.00 toks/s, output: 0.00 toks/s]\n",
      "\u001b[Acessed prompts:  29% 302/1024 [00:17<00:38, 18.89it/s, est. speed input: 0.00 toks/s, output: 0.00 toks/s]\n",
      "\u001b[Acessed prompts:  33% 343/1024 [00:19<00:34, 19.52it/s, est. speed input: 0.00 toks/s, output: 0.00 toks/s]\n",
      "\u001b[Acessed prompts:  37% 383/1024 [00:21<00:32, 19.94it/s, est. speed input: 0.00 toks/s, output: 0.00 toks/s]\n",
      "\u001b[Acessed prompts:  41% 422/1024 [00:23<00:30, 19.93it/s, est. speed input: 0.00 toks/s, output: 0.00 toks/s]\n",
      "\u001b[Acessed prompts:  45% 461/1024 [00:25<00:28, 19.97it/s, est. speed input: 0.00 toks/s, output: 0.00 toks/s]\n",
      "\u001b[Acessed prompts:  49% 499/1024 [00:27<00:26, 19.78it/s, est. speed input: 0.00 toks/s, output: 0.00 toks/s]\n",
      "\u001b[Acessed prompts:  53% 538/1024 [00:29<00:24, 19.89it/s, est. speed input: 0.00 toks/s, output: 0.00 toks/s]\n",
      "\u001b[Acessed prompts:  56% 578/1024 [00:31<00:22, 20.09it/s, est. speed input: 0.00 toks/s, output: 0.00 toks/s]\n",
      "\u001b[Acessed prompts:  60% 617/1024 [00:33<00:20, 20.12it/s, est. speed input: 0.00 toks/s, output: 0.00 toks/s]\n",
      "\u001b[Acessed prompts:  64% 656/1024 [00:34<00:18, 20.15it/s, est. speed input: 0.00 toks/s, output: 0.00 toks/s]\n",
      "\u001b[Acessed prompts:  68% 696/1024 [00:36<00:16, 20.35it/s, est. speed input: 0.00 toks/s, output: 0.00 toks/s]\n",
      "\u001b[Acessed prompts:  72% 736/1024 [00:38<00:14, 20.26it/s, est. speed input: 0.00 toks/s, output: 0.00 toks/s]\n",
      "\u001b[Acessed prompts:  75% 771/1024 [00:40<00:12, 19.64it/s, est. speed input: 0.00 toks/s, output: 0.00 toks/s]\n",
      "\u001b[Acessed prompts:  79% 808/1024 [00:42<00:11, 19.40it/s, est. speed input: 0.00 toks/s, output: 0.00 toks/s]\n",
      "\u001b[Acessed prompts:  82% 841/1024 [00:44<00:09, 18.73it/s, est. speed input: 0.00 toks/s, output: 0.00 toks/s]\n",
      "\u001b[Acessed prompts:  86% 880/1024 [00:46<00:07, 19.19it/s, est. speed input: 0.00 toks/s, output: 0.00 toks/s]\n",
      "\u001b[Acessed prompts:  90% 918/1024 [00:48<00:05, 19.35it/s, est. speed input: 0.00 toks/s, output: 0.00 toks/s]\n",
      "\u001b[Acessed prompts:  93% 957/1024 [00:50<00:03, 19.50it/s, est. speed input: 0.00 toks/s, output: 0.00 toks/s]\n",
      "Processed prompts: 100% 1024/1024 [00:52<00:00, 19.69it/s, est. speed input: 0.00 toks/s, output: 0.00 toks/s]\n",
      "\n",
      "\u001b[Acessed prompts:   0% 0/1024 [00:00<?, ?it/s, est. speed input: 0.00 toks/s, output: 0.00 toks/s]\n",
      "\u001b[Acessed prompts:   0% 1/1024 [00:01<33:18,  1.95s/it, est. speed input: 0.00 toks/s, output: 0.00 toks/s]\n",
      "\u001b[Acessed prompts:   4% 39/1024 [00:03<01:24, 11.73it/s, est. speed input: 0.00 toks/s, output: 0.00 toks/s]\n",
      "\u001b[Acessed prompts:   8% 79/1024 [00:05<01:00, 15.72it/s, est. speed input: 0.00 toks/s, output: 0.00 toks/s]\n",
      "\u001b[Acessed prompts:  12% 118/1024 [00:07<00:51, 17.57it/s, est. speed input: 0.00 toks/s, output: 0.00 toks/s]\n",
      "\u001b[Acessed prompts:  15% 155/1024 [00:09<00:48, 18.05it/s, est. speed input: 0.00 toks/s, output: 0.00 toks/s]\n",
      "\u001b[Acessed prompts:  19% 196/1024 [00:11<00:43, 19.08it/s, est. speed input: 0.00 toks/s, output: 0.00 toks/s]\n",
      "\u001b[Acessed prompts:  23% 234/1024 [00:13<00:41, 19.25it/s, est. speed input: 0.00 toks/s, output: 0.00 toks/s]\n",
      "\u001b[Acessed prompts:  27% 272/1024 [00:15<00:38, 19.39it/s, est. speed input: 0.00 toks/s, output: 0.00 toks/s]\n",
      "\u001b[Acessed prompts:  30% 310/1024 [00:17<00:36, 19.45it/s, est. speed input: 0.00 toks/s, output: 0.00 toks/s]\n",
      "\u001b[Acessed prompts:  34% 349/1024 [00:19<00:34, 19.68it/s, est. speed input: 0.00 toks/s, output: 0.00 toks/s]\n",
      "\u001b[Acessed prompts:  38% 387/1024 [00:21<00:32, 19.69it/s, est. speed input: 0.00 toks/s, output: 0.00 toks/s]\n",
      "\u001b[Acessed prompts:  42% 428/1024 [00:23<00:29, 20.05it/s, est. speed input: 0.00 toks/s, output: 0.00 toks/s]\n",
      "\u001b[Acessed prompts:  46% 466/1024 [00:25<00:27, 19.96it/s, est. speed input: 0.00 toks/s, output: 0.00 toks/s]\n",
      "\u001b[Acessed prompts:  49% 504/1024 [00:27<00:26, 19.78it/s, est. speed input: 0.00 toks/s, output: 0.00 toks/s]\n",
      "\u001b[Acessed prompts:  53% 542/1024 [00:29<00:24, 19.75it/s, est. speed input: 0.00 toks/s, output: 0.00 toks/s]\n",
      "\u001b[Acessed prompts:  57% 581/1024 [00:31<00:22, 19.90it/s, est. speed input: 0.00 toks/s, output: 0.00 toks/s]\n",
      "\u001b[Acessed prompts:  61% 621/1024 [00:32<00:20, 20.05it/s, est. speed input: 0.00 toks/s, output: 0.00 toks/s]\n",
      "\u001b[Acessed prompts:  64% 660/1024 [00:34<00:18, 20.07it/s, est. speed input: 0.00 toks/s, output: 0.00 toks/s]\n",
      "\u001b[Acessed prompts:  68% 698/1024 [00:36<00:16, 19.93it/s, est. speed input: 0.00 toks/s, output: 0.00 toks/s]\n",
      "\u001b[Acessed prompts:  71% 732/1024 [00:38<00:15, 19.21it/s, est. speed input: 0.00 toks/s, output: 0.00 toks/s]\n",
      "\u001b[Acessed prompts:  75% 768/1024 [00:40<00:13, 19.06it/s, est. speed input: 0.00 toks/s, output: 0.00 toks/s]\n",
      "\u001b[Acessed prompts:  79% 807/1024 [00:42<00:11, 19.40it/s, est. speed input: 0.00 toks/s, output: 0.00 toks/s]\n",
      "\u001b[Acessed prompts:  83% 845/1024 [00:44<00:09, 19.51it/s, est. speed input: 0.00 toks/s, output: 0.00 toks/s]\n",
      "\u001b[Acessed prompts:  86% 883/1024 [00:46<00:07, 19.55it/s, est. speed input: 0.00 toks/s, output: 0.00 toks/s]\n",
      "\u001b[Acessed prompts:  90% 920/1024 [00:48<00:05, 19.36it/s, est. speed input: 0.00 toks/s, output: 0.00 toks/s]\n",
      "\u001b[Acessed prompts:  93% 956/1024 [00:50<00:03, 19.10it/s, est. speed input: 0.00 toks/s, output: 0.00 toks/s]\n",
      "Processed prompts: 100% 1024/1024 [00:51<00:00, 19.73it/s, est. speed input: 0.00 toks/s, output: 0.00 toks/s]\n",
      "\n",
      "\u001b[Acessed prompts:   0% 0/4 [00:00<?, ?it/s, est. speed input: 0.00 toks/s, output: 0.00 toks/s]\n",
      "Processed prompts: 100% 4/4 [00:00<00:00, 17.21it/s, est. speed input: 0.00 toks/s, output: 0.00 toks/s]\n"
     ]
    },
    {
     "name": "stdout",
     "output_type": "stream",
     "text": [
      "Kmeans with n_clusters=5122\n"
     ]
    },
    {
     "data": {
      "application/vnd.jupyter.widget-view+json": {
       "model_id": "1dd06f1eabf84aaf938740f9e7e73dc8",
       "version_major": 2,
       "version_minor": 0
      },
      "text/plain": [
       "Map:   0%|          | 0/10244 [00:00<?, ? examples/s]"
      ]
     },
     "metadata": {},
     "output_type": "display_data"
    },
    {
     "name": "stdout",
     "output_type": "stream",
     "text": [
      "Dataset({\n",
      "    features: ['synthetic_content', 'embedding', 'cluster_id'],\n",
      "    num_rows: 10244\n",
      "})\n"
     ]
    },
    {
     "data": {
      "application/vnd.jupyter.widget-view+json": {
       "model_id": "9e09e6a0d9f94b8d8952b2db4cec7024",
       "version_major": 2,
       "version_minor": 0
      },
      "text/plain": [
       "Uploading the dataset shards:   0%|          | 0/1 [00:00<?, ?it/s]"
      ]
     },
     "metadata": {},
     "output_type": "display_data"
    },
    {
     "data": {
      "application/vnd.jupyter.widget-view+json": {
       "model_id": "3113396292354d3c8e4a7c529b7f63b9",
       "version_major": 2,
       "version_minor": 0
      },
      "text/plain": [
       "Creating parquet from Arrow format:   0%|          | 0/11 [00:00<?, ?ba/s]"
      ]
     },
     "metadata": {},
     "output_type": "display_data"
    },
    {
     "data": {
      "application/vnd.jupyter.widget-view+json": {
       "model_id": "c865cca157194e98b194f20b06dc91be",
       "version_major": 2,
       "version_minor": 0
      },
      "text/plain": [
       "  0%|          | 0/1 [00:00<?, ?it/s]"
      ]
     },
     "metadata": {},
     "output_type": "display_data"
    },
    {
     "name": "stderr",
     "output_type": "stream",
     "text": [
      "/usr/local/lib/python3.10/dist-packages/huggingface_hub/lfs.py:337: UserWarning: hf_transfer is enabled but does not support uploading from bytes or BinaryIO, falling back to regular upload\n",
      "  warnings.warn(\n"
     ]
    },
    {
     "data": {
      "application/vnd.jupyter.widget-view+json": {
       "model_id": "287c34a296da406c99b89085938c51dd",
       "version_major": 2,
       "version_minor": 0
      },
      "text/plain": [
       "Filter:   0%|          | 0/10244 [00:00<?, ? examples/s]"
      ]
     },
     "metadata": {},
     "output_type": "display_data"
    },
    {
     "data": {
      "application/vnd.jupyter.widget-view+json": {
       "model_id": "b4ff9dc963834404b03803959e22b578",
       "version_major": 2,
       "version_minor": 0
      },
      "text/plain": [
       "Filter:   0%|          | 0/10244 [00:00<?, ? examples/s]"
      ]
     },
     "metadata": {},
     "output_type": "display_data"
    },
    {
     "name": "stdout",
     "output_type": "stream",
     "text": [
      "DatasetDict({\n",
      "    train: Dataset({\n",
      "        features: ['synthetic_content'],\n",
      "        num_rows: 5122\n",
      "    })\n",
      "    test: Dataset({\n",
      "        features: ['synthetic_content'],\n",
      "        num_rows: 5122\n",
      "    })\n",
      "})\n"
     ]
    },
    {
     "data": {
      "application/vnd.jupyter.widget-view+json": {
       "model_id": "f5a4d9f859d349938aab1329e7806ee5",
       "version_major": 2,
       "version_minor": 0
      },
      "text/plain": [
       "Uploading the dataset shards:   0%|          | 0/1 [00:00<?, ?it/s]"
      ]
     },
     "metadata": {},
     "output_type": "display_data"
    },
    {
     "data": {
      "application/vnd.jupyter.widget-view+json": {
       "model_id": "04549bee5352478ba602e6b2a936b771",
       "version_major": 2,
       "version_minor": 0
      },
      "text/plain": [
       "Creating parquet from Arrow format:   0%|          | 0/6 [00:00<?, ?ba/s]"
      ]
     },
     "metadata": {},
     "output_type": "display_data"
    },
    {
     "data": {
      "application/vnd.jupyter.widget-view+json": {
       "model_id": "4ee15d6c993c43a4a052f8a55cb70a1f",
       "version_major": 2,
       "version_minor": 0
      },
      "text/plain": [
       "  0%|          | 0/1 [00:00<?, ?it/s]"
      ]
     },
     "metadata": {},
     "output_type": "display_data"
    },
    {
     "data": {
      "application/vnd.jupyter.widget-view+json": {
       "model_id": "fdae2ab7342a40858e36e4f16de7fbba",
       "version_major": 2,
       "version_minor": 0
      },
      "text/plain": [
       "Uploading the dataset shards:   0%|          | 0/1 [00:00<?, ?it/s]"
      ]
     },
     "metadata": {},
     "output_type": "display_data"
    },
    {
     "data": {
      "application/vnd.jupyter.widget-view+json": {
       "model_id": "bae646e45c6540da8019b43ac62e275b",
       "version_major": 2,
       "version_minor": 0
      },
      "text/plain": [
       "Creating parquet from Arrow format:   0%|          | 0/6 [00:00<?, ?ba/s]"
      ]
     },
     "metadata": {},
     "output_type": "display_data"
    },
    {
     "data": {
      "application/vnd.jupyter.widget-view+json": {
       "model_id": "43e65503722b456f954da4598a7e91e0",
       "version_major": 2,
       "version_minor": 0
      },
      "text/plain": [
       "  0%|          | 0/1 [00:00<?, ?it/s]"
      ]
     },
     "metadata": {},
     "output_type": "display_data"
    },
    {
     "name": "stdout",
     "output_type": "stream",
     "text": [
      "Sample from cluster: 0\n",
      "\n",
      "\n",
      "**Learning and Development: The Science of Acquisition**\n",
      "\n",
      "Introduction\n",
      "------------\n",
      "\n",
      "Learning and development are essential components of human growth and progress. The process of acquiring new skills, knowledge, and behaviors is a complex and multi-faceted one, influenced by a variety of factors including genetics, environment, and individual experiences. This article will explore the science of learning and development, examining the key concepts, theories, and research findings that underpin our understanding of this critical aspect of human development.\n",
      "\n",
      "**Theories of Learning**\n",
      "\n",
      "There are several major theories of learning, each attempting to explain the process by which we acquire new information and skills. Some of the most influential theories include:\n",
      "\n",
      "*   **Behavioral Theory**: This theory proposes that learning occurs through the association of stimuli with responses, and that behavior is shaped by reinforcement and punishment.\n",
      "*   **Cognitive Theory**: This theory suggests that learning involves the active processing and interpretation of information, and that individuals construct their own understanding of the world through experience and reflection.\n",
      "*   **Social Learning Theory**: This theory posits that learning occurs through observation and imitation of others, and that behavior is influenced by social norms and expectations.\n",
      "*   **Constructivist Theory**: This theory proposes that learning is an active process of constructing knowledge and understanding through experience and reflection.\n",
      "\n",
      "**Stages of Learning**\n",
      "\n",
      "The process of learning can be divided into several distinct stages, each characterized by unique cognitive and behavioral processes. These stages include:\n",
      "\n",
      "1.  **Acquisition**: This stage involves the initial exposure to new information or skills, and the beginning of the learning process.\n",
      "2.  **Consolidation**: During this stage, the new information or skills are practiced and reinforced, leading to increased proficiency and confidence.\n",
      "3.  **Retrieval**: In this stage, the learned information or skills are recalled and applied in new contexts, leading to further consolidation and refinement.\n",
      "4.  **Transfer**: This stage involves the application of learned information or skills to new situations or contexts, requiring the ability to adapt and generalize.\n",
      "\n",
      "**Factors Influencing Learning**\n",
      "\n",
      "A variety of factors can influence the learning process, including:\n",
      "\n",
      "*   **Motivation**: The desire to learn and achieve goals is a critical factor in the learning process.\n",
      "*   **Attention**: The ability to focus and attend to relevant information is essential for effective learning.\n",
      "*   **Prior Knowledge**: The presence of prior knowledge or experience can facilitate or hinder the learning process, depending on its relevance and accuracy.\n",
      "*   **Feedback**: The provision of feedback and guidance can significantly enhance the learning process, providing opportunities for correction and improvement.\n",
      "*   **Emotional State**: The emotional state of the learner, including factors such as anxiety and stress, can impact the learning process and outcomes.\n",
      "\n",
      "**Neuroscience of Learning**\n",
      "\n",
      "Recent advances in neuroscience have significantly enhanced our understanding of the neural mechanisms underlying the learning process. Key findings include:\n",
      "\n",
      "*   **Neural Plasticity**: The brain's ability to reorganize and adapt in response to new experiences and learning is a critical aspect of the learning process.\n",
      "*   **Synaptic Pruning**: The elimination of unnecessary neural connections is an essential process in the refinement and consolidation of learned information.\n",
      "*   **Myelination**: The process of insulating neural fibers with myelin is critical for the efficient transmission of neural signals and the consolidation of learned information.\n",
      "\n",
      "Conclusion\n",
      "----------\n",
      "\n",
      "The science of learning and development is a complex and multi-faceted field, influenced by a variety of factors including genetics, environment, and individual experiences. Understanding the key concepts, theories, and research findings in this field can provide valuable insights into the learning process, and inform the development of effective learning strategies and interventions. By recognizing the importance of factors such as motivation, attention, and feedback, and by harnessing the power of neural plasticity and adaptation, we can optimize the learning process and achieve our full potential.\n",
      "\n",
      "-------\n",
      "\n",
      "\n",
      "Sample from cluster: 1\n",
      "\n",
      "\n",
      "**Understanding and Managing Stress**\n",
      "\n",
      "Stress is a common problem that affects millions of people worldwide. It can be caused by a variety of factors, including work, relationships, financial problems, and health issues. Chronic stress can have serious consequences on both physical and mental health, including anxiety, depression, and cardiovascular disease. In this article, we will explore the causes and effects of stress, as well as strategies for managing and reducing stress.\n",
      "\n",
      "**What is Stress?**\n",
      "\n",
      "Stress is a normal physiological response to events that make us feel threatened, anxious, or overwhelmed. When we perceive a threat, our body's \"fight-or-flight\" response is triggered, releasing stress hormones such as cortisol and adrenaline into the bloodstream. These hormones prepare our body to either fight the threat or flee from it by increasing heart rate, blood pressure, and energy levels.\n",
      "\n",
      "**Causes of Stress**\n",
      "\n",
      "There are many potential causes of stress, including:\n",
      "\n",
      "*   **Work-related stress**: Long hours, high workload, and lack of control over work can all contribute to stress.\n",
      "*   **Relationship stress**: Conflicts with family members, friends, or romantic partners can cause significant stress.\n",
      "*   **Financial stress**: Money problems, debt, and financial insecurity can be major sources of stress.\n",
      "*   **Health stress**: Chronic illness, pain, and disability can all cause stress.\n",
      "*   **Environmental stress**: Noise, pollution, and crowding can all contribute to stress.\n",
      "\n",
      "**Effects of Stress**\n",
      "\n",
      "Chronic stress can have serious consequences on both physical and mental health. Some of the effects of stress include:\n",
      "\n",
      "*   **Anxiety and depression**: Stress can contribute to the development of anxiety and depression.\n",
      "*   **Cardiovascular disease**: Chronic stress can increase the risk of heart disease, high blood pressure, and stroke.\n",
      "*   **Weakened immune system**: Stress can weaken the immune system, making us more susceptible to illness and infection.\n",
      "*   **Digestive problems**: Stress can cause digestive problems such as irritable bowel syndrome (IBS) and acid reflux.\n",
      "*   **Sleep problems**: Stress can disrupt sleep patterns, leading to insomnia and fatigue.\n",
      "\n",
      "**Managing and Reducing Stress**\n",
      "\n",
      "There are many strategies for managing and reducing stress. Some of these include:\n",
      "\n",
      "*   **Exercise**: Regular exercise can help reduce stress and anxiety by releasing endorphins, also known as \"feel-good\" hormones.\n",
      "*   **Mindfulness and meditation**: Mindfulness and meditation can help reduce stress and anxiety by promoting relaxation and reducing rumination.\n",
      "*   **Time management**: Poor time management can contribute to stress. Prioritizing tasks, setting realistic goals, and taking regular breaks can help reduce stress.\n",
      "*   **Social support**: Building and maintaining social connections with friends, family, and colleagues can help reduce stress.\n",
      "*   **Relaxation techniques**: Techniques such as deep breathing, progressive muscle relaxation, and visualization can help reduce stress and promote relaxation.\n",
      "\n",
      "**Conclusion**\n",
      "\n",
      "Stress is a common problem that can have serious consequences on both physical and mental health. Understanding the causes and effects of stress, as well as strategies for managing and reducing stress, can help individuals take control of their stress levels and improve their overall well-being. By incorporating stress-reducing strategies into daily life, individuals can reduce their risk of chronic stress and improve their overall health and happiness.\n",
      "\n",
      "-------\n",
      "\n",
      "\n",
      "Sample from cluster: 2\n",
      "\n",
      "\n",
      "Emotional Intelligence: Understanding and Developing EQ\n",
      "\n",
      "Emotional Intelligence (EI or EQ) refers to the ability to recognize and understand emotions in oneself and others, and to use this awareness to guide thought and behavior. It involves being able to manage one's own emotions and to use emotional information to achieve goals and well-being.\n",
      "\n",
      "**The History of Emotional Intelligence**\n",
      "\n",
      "The concept of emotional intelligence was first introduced by Peter Salovey and John D. Mayer in 1990. They defined emotional intelligence as \"the ability to monitor and work with one's own and others' emotions.\" The idea gained popularity with the publication of Daniel Goleman's book \"Emotional Intelligence\" in 1995, which argued that emotional intelligence was a key factor in determining success in both personal and professional life.\n",
      "\n",
      "**Components of Emotional Intelligence**\n",
      "\n",
      "Emotional intelligence consists of four main components:\n",
      "\n",
      "1. **Self-Awareness**: The ability to recognize and understand one's own emotions and how they impact behavior.\n",
      "2. **Self-Regulation**: The ability to control and regulate one's own emotions and impulses.\n",
      "3. **Motivation**: The ability to use emotions to drive motivation and achieve goals.\n",
      "4. **Empathy**: The ability to recognize and understand emotions in others.\n",
      "\n",
      "**Developing Emotional Intelligence**\n",
      "\n",
      "Emotional intelligence can be developed through practice and training. Here are some strategies for developing emotional intelligence:\n",
      "\n",
      "1. **Self-Reflection**: Take time to reflect on your own emotions and how they impact your behavior.\n",
      "2. **Mindfulness**: Practice mindfulness techniques such as meditation and deep breathing to increase self-awareness.\n",
      "3. **Feedback**: Seek feedback from others to gain a better understanding of your emotional strengths and weaknesses.\n",
      "4. **Practice Empathy**: Engage in activities that promote empathy, such as active listening and asking open-ended questions.\n",
      "5. **Develop Self-Regulation Skills**: Practice self-regulation skills such as self-control and self-motivation.\n",
      "\n",
      "**Benefits of Emotional Intelligence**\n",
      "\n",
      "Emotional intelligence has numerous benefits, including:\n",
      "\n",
      "1. **Improved Relationships**: Emotional intelligence helps to build stronger, more meaningful relationships.\n",
      "2. **Increased Success**: Emotional intelligence is linked to greater success in both personal and professional life.\n",
      "3. **Better Decision Making**: Emotional intelligence helps to inform decision making and improve judgment.\n",
      "4. **Improved Mental Health**: Emotional intelligence is linked to better mental health and well-being.\n",
      "5. **Increased Empathy**: Emotional intelligence promotes empathy and understanding of others.\n",
      "\n",
      "**Challenges to Developing Emotional Intelligence**\n",
      "\n",
      "Developing emotional intelligence can be challenging, especially for individuals who struggle with self-awareness and self-regulation. Some common challenges to developing emotional intelligence include:\n",
      "\n",
      "1. **Lack of Self-Awareness**: Difficulty recognizing and understanding one's own emotions.\n",
      "2. **Impulsivity**: Difficulty controlling impulses and regulating emotions.\n",
      "3. **Defensiveness**: Difficulty accepting feedback and criticism.\n",
      "4. **Lack of Empathy**: Difficulty understanding and relating to others.\n",
      "\n",
      "**Conclusion**\n",
      "\n",
      "Emotional intelligence is a valuable asset that can be developed through practice and training. By understanding the components of emotional intelligence and using strategies to develop EQ, individuals can improve their relationships, increase their success, and promote better mental health and well-being. While there may be challenges to developing emotional intelligence, the benefits make it an important investment in one's personal and professional life.\n",
      "\n",
      "-------\n",
      "\n",
      "\n"
     ]
    },
    {
     "data": {
      "application/vnd.jupyter.widget-view+json": {
       "model_id": "923bcd2d77654774a5363ff004af9a30",
       "version_major": 2,
       "version_minor": 0
      },
      "text/plain": [
       "Map:   0%|          | 0/10240 [00:00<?, ? examples/s]"
      ]
     },
     "metadata": {},
     "output_type": "display_data"
    },
    {
     "name": "stderr",
     "output_type": "stream",
     "text": [
      "\n",
      "\u001b[Acessed prompts:   0% 0/1024 [00:00<?, ?it/s, est. speed input: 0.00 toks/s, output: 0.00 toks/s]\n",
      "\u001b[Acessed prompts:   0% 1/1024 [00:01<32:43,  1.92s/it, est. speed input: 0.00 toks/s, output: 0.00 toks/s]\n",
      "\u001b[Acessed prompts:   6% 60/1024 [00:03<00:52, 18.33it/s, est. speed input: 0.00 toks/s, output: 0.00 toks/s]\n",
      "\u001b[Acessed prompts:  11% 115/1024 [00:05<00:39, 22.99it/s, est. speed input: 0.00 toks/s, output: 0.00 toks/s]\n",
      "\u001b[Acessed prompts:  17% 172/1024 [00:07<00:33, 25.56it/s, est. speed input: 0.00 toks/s, output: 0.00 toks/s]\n",
      "\u001b[Acessed prompts:  23% 231/1024 [00:09<00:28, 27.44it/s, est. speed input: 0.00 toks/s, output: 0.00 toks/s]\n",
      "\u001b[Acessed prompts:  28% 289/1024 [00:11<00:25, 28.42it/s, est. speed input: 0.00 toks/s, output: 0.00 toks/s]\n",
      "\u001b[Acessed prompts:  34% 346/1024 [00:13<00:23, 28.83it/s, est. speed input: 0.00 toks/s, output: 0.00 toks/s]\n",
      "\u001b[Acessed prompts:  39% 403/1024 [00:15<00:21, 29.03it/s, est. speed input: 0.00 toks/s, output: 0.00 toks/s]\n",
      "\u001b[Acessed prompts:  45% 459/1024 [00:17<00:19, 28.98it/s, est. speed input: 0.00 toks/s, output: 0.00 toks/s]\n",
      "\u001b[Acessed prompts:  50% 516/1024 [00:19<00:17, 29.17it/s, est. speed input: 0.00 toks/s, output: 0.00 toks/s]\n",
      "\u001b[Acessed prompts:  56% 569/1024 [00:21<00:15, 28.58it/s, est. speed input: 0.00 toks/s, output: 0.00 toks/s]\n",
      "\u001b[Acessed prompts:  61% 625/1024 [00:23<00:13, 28.74it/s, est. speed input: 0.00 toks/s, output: 0.00 toks/s]\n",
      "\u001b[Acessed prompts:  67% 682/1024 [00:25<00:11, 29.04it/s, est. speed input: 0.00 toks/s, output: 0.00 toks/s]\n",
      "\u001b[Acessed prompts:  73% 745/1024 [00:26<00:09, 30.17it/s, est. speed input: 0.00 toks/s, output: 0.00 toks/s]\n",
      "\u001b[Acessed prompts:  78% 800/1024 [00:28<00:07, 29.59it/s, est. speed input: 0.00 toks/s, output: 0.00 toks/s]\n",
      "\u001b[Acessed prompts:  84% 856/1024 [00:30<00:05, 29.35it/s, est. speed input: 0.00 toks/s, output: 0.00 toks/s]\n",
      "\u001b[Acessed prompts:  89% 910/1024 [00:32<00:03, 28.99it/s, est. speed input: 0.00 toks/s, output: 0.00 toks/s]\n",
      "\u001b[Acessed prompts:  94% 966/1024 [00:34<00:01, 29.08it/s, est. speed input: 0.00 toks/s, output: 0.00 toks/s]\n",
      "Processed prompts: 100% 1024/1024 [00:34<00:00, 29.41it/s, est. speed input: 0.00 toks/s, output: 0.00 toks/s]\n",
      "\n",
      "\u001b[Acessed prompts:   0% 0/1024 [00:00<?, ?it/s, est. speed input: 0.00 toks/s, output: 0.00 toks/s]\n",
      "\u001b[Acessed prompts:   0% 1/1024 [00:01<32:59,  1.93s/it, est. speed input: 0.00 toks/s, output: 0.00 toks/s]\n",
      "\u001b[Acessed prompts:   6% 57/1024 [00:03<00:55, 17.37it/s, est. speed input: 0.00 toks/s, output: 0.00 toks/s]\n",
      "\u001b[Acessed prompts:  11% 115/1024 [00:05<00:39, 23.17it/s, est. speed input: 0.00 toks/s, output: 0.00 toks/s]\n",
      "\u001b[Acessed prompts:  17% 171/1024 [00:07<00:33, 25.54it/s, est. speed input: 0.00 toks/s, output: 0.00 toks/s]\n",
      "\u001b[Acessed prompts:  22% 227/1024 [00:09<00:29, 26.90it/s, est. speed input: 0.00 toks/s, output: 0.00 toks/s]\n",
      "\u001b[Acessed prompts:  28% 286/1024 [00:11<00:26, 28.18it/s, est. speed input: 0.00 toks/s, output: 0.00 toks/s]\n",
      "\u001b[Acessed prompts:  33% 341/1024 [00:13<00:24, 28.32it/s, est. speed input: 0.00 toks/s, output: 0.00 toks/s]\n",
      "\u001b[Acessed prompts:  39% 397/1024 [00:15<00:21, 28.62it/s, est. speed input: 0.00 toks/s, output: 0.00 toks/s]\n",
      "\u001b[Acessed prompts:  44% 454/1024 [00:17<00:19, 28.85it/s, est. speed input: 0.00 toks/s, output: 0.00 toks/s]\n",
      "\u001b[Acessed prompts:  50% 510/1024 [00:19<00:17, 28.85it/s, est. speed input: 0.00 toks/s, output: 0.00 toks/s]\n",
      "\u001b[Acessed prompts:  56% 570/1024 [00:21<00:15, 29.57it/s, est. speed input: 0.00 toks/s, output: 0.00 toks/s]\n",
      "\u001b[Acessed prompts:  61% 627/1024 [00:23<00:13, 29.50it/s, est. speed input: 0.00 toks/s, output: 0.00 toks/s]\n",
      "\u001b[Acessed prompts:  67% 685/1024 [00:25<00:11, 29.59it/s, est. speed input: 0.00 toks/s, output: 0.00 toks/s]\n",
      "\u001b[Acessed prompts:  72% 742/1024 [00:26<00:09, 29.57it/s, est. speed input: 0.00 toks/s, output: 0.00 toks/s]\n",
      "\u001b[Acessed prompts:  78% 798/1024 [00:28<00:07, 29.32it/s, est. speed input: 0.00 toks/s, output: 0.00 toks/s]\n",
      "\u001b[Acessed prompts:  83% 855/1024 [00:30<00:05, 29.38it/s, est. speed input: 0.00 toks/s, output: 0.00 toks/s]\n",
      "\u001b[Acessed prompts:  89% 911/1024 [00:32<00:03, 29.28it/s, est. speed input: 0.00 toks/s, output: 0.00 toks/s]\n",
      "Processed prompts: 100% 1024/1024 [00:34<00:00, 29.51it/s, est. speed input: 0.00 toks/s, output: 0.00 toks/s]\n",
      "\n",
      "\u001b[Acessed prompts:   0% 0/1024 [00:00<?, ?it/s, est. speed input: 0.00 toks/s, output: 0.00 toks/s]\n",
      "\u001b[Acessed prompts:   0% 1/1024 [00:01<32:32,  1.91s/it, est. speed input: 0.00 toks/s, output: 0.00 toks/s]\n",
      "\u001b[Acessed prompts:   6% 58/1024 [00:03<00:54, 17.76it/s, est. speed input: 0.00 toks/s, output: 0.00 toks/s]\n",
      "\u001b[Acessed prompts:  11% 116/1024 [00:05<00:38, 23.33it/s, est. speed input: 0.00 toks/s, output: 0.00 toks/s]\n",
      "\u001b[Acessed prompts:  17% 173/1024 [00:07<00:33, 25.70it/s, est. speed input: 0.00 toks/s, output: 0.00 toks/s]\n",
      "\u001b[Acessed prompts:  22% 229/1024 [00:09<00:29, 26.89it/s, est. speed input: 0.00 toks/s, output: 0.00 toks/s]\n",
      "\u001b[Acessed prompts:  28% 285/1024 [00:11<00:26, 27.63it/s, est. speed input: 0.00 toks/s, output: 0.00 toks/s]\n",
      "\u001b[Acessed prompts:  34% 344/1024 [00:13<00:23, 28.51it/s, est. speed input: 0.00 toks/s, output: 0.00 toks/s]\n",
      "\u001b[Acessed prompts:  39% 401/1024 [00:15<00:21, 28.85it/s, est. speed input: 0.00 toks/s, output: 0.00 toks/s]\n",
      "\u001b[Acessed prompts:  45% 460/1024 [00:17<00:19, 29.45it/s, est. speed input: 0.00 toks/s, output: 0.00 toks/s]\n",
      "\u001b[Acessed prompts:  50% 516/1024 [00:19<00:17, 29.34it/s, est. speed input: 0.00 toks/s, output: 0.00 toks/s]\n",
      "\u001b[Acessed prompts:  56% 572/1024 [00:21<00:15, 29.15it/s, est. speed input: 0.00 toks/s, output: 0.00 toks/s]\n",
      "\u001b[Acessed prompts:  61% 627/1024 [00:23<00:13, 28.98it/s, est. speed input: 0.00 toks/s, output: 0.00 toks/s]\n",
      "\u001b[Acessed prompts:  67% 682/1024 [00:25<00:11, 28.90it/s, est. speed input: 0.00 toks/s, output: 0.00 toks/s]\n",
      "\u001b[Acessed prompts:  72% 738/1024 [00:27<00:09, 28.85it/s, est. speed input: 0.00 toks/s, output: 0.00 toks/s]\n",
      "\u001b[Acessed prompts:  78% 797/1024 [00:28<00:07, 29.42it/s, est. speed input: 0.00 toks/s, output: 0.00 toks/s]\n",
      "\u001b[Acessed prompts:  83% 852/1024 [00:30<00:05, 29.17it/s, est. speed input: 0.00 toks/s, output: 0.00 toks/s]\n",
      "\u001b[Acessed prompts:  88% 906/1024 [00:32<00:04, 28.85it/s, est. speed input: 0.00 toks/s, output: 0.00 toks/s]\n",
      "Processed prompts: 100% 1024/1024 [00:34<00:00, 29.40it/s, est. speed input: 0.00 toks/s, output: 0.00 toks/s]\n",
      "\n",
      "\u001b[Acessed prompts:   0% 0/1024 [00:00<?, ?it/s, est. speed input: 0.00 toks/s, output: 0.00 toks/s]\n",
      "\u001b[Acessed prompts:   0% 1/1024 [00:01<32:44,  1.92s/it, est. speed input: 0.00 toks/s, output: 0.00 toks/s]\n",
      "\u001b[Acessed prompts:   6% 59/1024 [00:03<00:54, 17.83it/s, est. speed input: 0.00 toks/s, output: 0.00 toks/s]\n",
      "\u001b[Acessed prompts:  11% 117/1024 [00:05<00:38, 23.30it/s, est. speed input: 0.00 toks/s, output: 0.00 toks/s]\n",
      "\u001b[Acessed prompts:  17% 175/1024 [00:07<00:32, 25.86it/s, est. speed input: 0.00 toks/s, output: 0.00 toks/s]\n",
      "\u001b[Acessed prompts:  23% 233/1024 [00:09<00:29, 27.26it/s, est. speed input: 0.00 toks/s, output: 0.00 toks/s]\n",
      "\u001b[Acessed prompts:  28% 290/1024 [00:11<00:26, 28.12it/s, est. speed input: 0.00 toks/s, output: 0.00 toks/s]\n",
      "\u001b[Acessed prompts:  34% 347/1024 [00:13<00:23, 28.50it/s, est. speed input: 0.00 toks/s, output: 0.00 toks/s]\n",
      "\u001b[Acessed prompts:  40% 406/1024 [00:15<00:21, 29.17it/s, est. speed input: 0.00 toks/s, output: 0.00 toks/s]\n",
      "\u001b[Acessed prompts:  45% 464/1024 [00:17<00:18, 29.48it/s, est. speed input: 0.00 toks/s, output: 0.00 toks/s]\n",
      "\u001b[Acessed prompts:  51% 522/1024 [00:19<00:16, 29.57it/s, est. speed input: 0.00 toks/s, output: 0.00 toks/s]\n",
      "\u001b[Acessed prompts:  57% 579/1024 [00:21<00:15, 29.49it/s, est. speed input: 0.00 toks/s, output: 0.00 toks/s]\n",
      "\u001b[Acessed prompts:  62% 638/1024 [00:23<00:12, 29.86it/s, est. speed input: 0.00 toks/s, output: 0.00 toks/s]\n",
      "\u001b[Acessed prompts:  68% 696/1024 [00:25<00:10, 29.83it/s, est. speed input: 0.00 toks/s, output: 0.00 toks/s]\n",
      "\u001b[Acessed prompts:  74% 755/1024 [00:27<00:08, 29.97it/s, est. speed input: 0.00 toks/s, output: 0.00 toks/s]\n",
      "\u001b[Acessed prompts:  79% 813/1024 [00:29<00:07, 30.00it/s, est. speed input: 0.00 toks/s, output: 0.00 toks/s]\n",
      "\u001b[Acessed prompts:  85% 870/1024 [00:31<00:05, 29.75it/s, est. speed input: 0.00 toks/s, output: 0.00 toks/s]\n",
      "\u001b[Acessed prompts:  91% 929/1024 [00:32<00:03, 30.06it/s, est. speed input: 0.00 toks/s, output: 0.00 toks/s]\n",
      "Processed prompts: 100% 1024/1024 [00:34<00:00, 29.89it/s, est. speed input: 0.00 toks/s, output: 0.00 toks/s]\n",
      "\n",
      "\u001b[Acessed prompts:   0% 0/1024 [00:00<?, ?it/s, est. speed input: 0.00 toks/s, output: 0.00 toks/s]\n",
      "\u001b[Acessed prompts:   0% 1/1024 [00:01<32:33,  1.91s/it, est. speed input: 0.00 toks/s, output: 0.00 toks/s]\n",
      "\u001b[Acessed prompts:   6% 57/1024 [00:03<00:55, 17.44it/s, est. speed input: 0.00 toks/s, output: 0.00 toks/s]\n",
      "\u001b[Acessed prompts:  11% 114/1024 [00:05<00:39, 22.90it/s, est. speed input: 0.00 toks/s, output: 0.00 toks/s]\n",
      "\u001b[Acessed prompts:  17% 171/1024 [00:07<00:33, 25.41it/s, est. speed input: 0.00 toks/s, output: 0.00 toks/s]\n",
      "\u001b[Acessed prompts:  22% 227/1024 [00:09<00:29, 26.64it/s, est. speed input: 0.00 toks/s, output: 0.00 toks/s]\n",
      "\u001b[Acessed prompts:  28% 285/1024 [00:11<00:26, 27.70it/s, est. speed input: 0.00 toks/s, output: 0.00 toks/s]\n",
      "\u001b[Acessed prompts:  33% 343/1024 [00:13<00:23, 28.46it/s, est. speed input: 0.00 toks/s, output: 0.00 toks/s]\n",
      "\u001b[Acessed prompts:  39% 398/1024 [00:15<00:21, 28.49it/s, est. speed input: 0.00 toks/s, output: 0.00 toks/s]\n",
      "\u001b[Acessed prompts:  44% 454/1024 [00:17<00:19, 28.66it/s, est. speed input: 0.00 toks/s, output: 0.00 toks/s]\n",
      "\u001b[Acessed prompts:  50% 512/1024 [00:19<00:17, 29.00it/s, est. speed input: 0.00 toks/s, output: 0.00 toks/s]\n",
      "\u001b[Acessed prompts:  55% 568/1024 [00:21<00:15, 28.92it/s, est. speed input: 0.00 toks/s, output: 0.00 toks/s]\n",
      "\u001b[Acessed prompts:  61% 622/1024 [00:23<00:14, 28.56it/s, est. speed input: 0.00 toks/s, output: 0.00 toks/s]\n",
      "\u001b[Acessed prompts:  66% 679/1024 [00:25<00:11, 28.89it/s, est. speed input: 0.00 toks/s, output: 0.00 toks/s]\n",
      "\u001b[Acessed prompts:  72% 736/1024 [00:27<00:09, 29.01it/s, est. speed input: 0.00 toks/s, output: 0.00 toks/s]\n",
      "\u001b[Acessed prompts:  78% 796/1024 [00:29<00:07, 29.69it/s, est. speed input: 0.00 toks/s, output: 0.00 toks/s]\n",
      "\u001b[Acessed prompts:  83% 851/1024 [00:30<00:05, 29.36it/s, est. speed input: 0.00 toks/s, output: 0.00 toks/s]\n",
      "\u001b[Acessed prompts:  89% 909/1024 [00:32<00:03, 29.58it/s, est. speed input: 0.00 toks/s, output: 0.00 toks/s]\n",
      "\u001b[Acessed prompts:  94% 963/1024 [00:34<00:02, 29.17it/s, est. speed input: 0.00 toks/s, output: 0.00 toks/s]\n",
      "Processed prompts: 100% 1024/1024 [00:35<00:00, 29.25it/s, est. speed input: 0.00 toks/s, output: 0.00 toks/s]\n",
      "\n",
      "\u001b[Acessed prompts:   0% 0/1024 [00:00<?, ?it/s, est. speed input: 0.00 toks/s, output: 0.00 toks/s]\n",
      "\u001b[Acessed prompts:   0% 1/1024 [00:01<33:11,  1.95s/it, est. speed input: 0.00 toks/s, output: 0.00 toks/s]\n",
      "\u001b[Acessed prompts:   5% 55/1024 [00:03<00:58, 16.52it/s, est. speed input: 0.00 toks/s, output: 0.00 toks/s]\n",
      "\u001b[Acessed prompts:  11% 111/1024 [00:05<00:40, 22.30it/s, est. speed input: 0.00 toks/s, output: 0.00 toks/s]\n",
      "\u001b[Acessed prompts:  16% 165/1024 [00:07<00:34, 24.57it/s, est. speed input: 0.00 toks/s, output: 0.00 toks/s]\n",
      "\u001b[Acessed prompts:  22% 221/1024 [00:09<00:30, 26.08it/s, est. speed input: 0.00 toks/s, output: 0.00 toks/s]\n",
      "\u001b[Acessed prompts:  27% 279/1024 [00:11<00:27, 27.45it/s, est. speed input: 0.00 toks/s, output: 0.00 toks/s]\n",
      "\u001b[Acessed prompts:  33% 334/1024 [00:13<00:24, 27.70it/s, est. speed input: 0.00 toks/s, output: 0.00 toks/s]\n",
      "\u001b[Acessed prompts:  38% 392/1024 [00:15<00:22, 28.36it/s, est. speed input: 0.00 toks/s, output: 0.00 toks/s]\n",
      "\u001b[Acessed prompts:  44% 449/1024 [00:17<00:19, 28.83it/s, est. speed input: 0.00 toks/s, output: 0.00 toks/s]\n",
      "\u001b[Acessed prompts:  49% 505/1024 [00:19<00:18, 28.78it/s, est. speed input: 0.00 toks/s, output: 0.00 toks/s]\n",
      "\u001b[Acessed prompts:  55% 561/1024 [00:21<00:16, 28.79it/s, est. speed input: 0.00 toks/s, output: 0.00 toks/s]\n",
      "\u001b[Acessed prompts:  60% 618/1024 [00:23<00:14, 28.92it/s, est. speed input: 0.00 toks/s, output: 0.00 toks/s]\n",
      "\u001b[Acessed prompts:  66% 673/1024 [00:25<00:12, 28.70it/s, est. speed input: 0.00 toks/s, output: 0.00 toks/s]\n",
      "\u001b[Acessed prompts:  71% 730/1024 [00:27<00:10, 28.95it/s, est. speed input: 0.00 toks/s, output: 0.00 toks/s]\n",
      "\u001b[Acessed prompts:  77% 788/1024 [00:29<00:08, 29.20it/s, est. speed input: 0.00 toks/s, output: 0.00 toks/s]\n",
      "\u001b[Acessed prompts:  83% 847/1024 [00:31<00:05, 29.51it/s, est. speed input: 0.00 toks/s, output: 0.00 toks/s]\n",
      "\u001b[Acessed prompts:  88% 903/1024 [00:32<00:04, 29.26it/s, est. speed input: 0.00 toks/s, output: 0.00 toks/s]\n",
      "\u001b[Acessed prompts:  93% 957/1024 [00:34<00:02, 28.92it/s, est. speed input: 0.00 toks/s, output: 0.00 toks/s]\n",
      "Processed prompts: 100% 1024/1024 [00:35<00:00, 28.96it/s, est. speed input: 0.00 toks/s, output: 0.00 toks/s]\n",
      "\n",
      "\u001b[Acessed prompts:   0% 0/1024 [00:00<?, ?it/s, est. speed input: 0.00 toks/s, output: 0.00 toks/s]\n",
      "\u001b[Acessed prompts:   0% 1/1024 [00:01<32:41,  1.92s/it, est. speed input: 0.00 toks/s, output: 0.00 toks/s]\n",
      "\u001b[Acessed prompts:   6% 57/1024 [00:03<00:56, 17.25it/s, est. speed input: 0.00 toks/s, output: 0.00 toks/s]\n",
      "\u001b[Acessed prompts:  11% 114/1024 [00:05<00:39, 22.89it/s, est. speed input: 0.00 toks/s, output: 0.00 toks/s]\n",
      "\u001b[Acessed prompts:  17% 173/1024 [00:07<00:32, 25.96it/s, est. speed input: 0.00 toks/s, output: 0.00 toks/s]\n",
      "\u001b[Acessed prompts:  22% 230/1024 [00:09<00:29, 27.23it/s, est. speed input: 0.00 toks/s, output: 0.00 toks/s]\n",
      "\u001b[Acessed prompts:  28% 285/1024 [00:11<00:26, 27.68it/s, est. speed input: 0.00 toks/s, output: 0.00 toks/s]\n",
      "\u001b[Acessed prompts:  33% 342/1024 [00:13<00:24, 28.21it/s, est. speed input: 0.00 toks/s, output: 0.00 toks/s]\n",
      "\u001b[Acessed prompts:  39% 400/1024 [00:15<00:21, 28.82it/s, est. speed input: 0.00 toks/s, output: 0.00 toks/s]\n",
      "\u001b[Acessed prompts:  44% 453/1024 [00:17<00:20, 28.33it/s, est. speed input: 0.00 toks/s, output: 0.00 toks/s]\n",
      "\u001b[Acessed prompts:  50% 513/1024 [00:19<00:17, 29.11it/s, est. speed input: 0.00 toks/s, output: 0.00 toks/s]\n",
      "\u001b[Acessed prompts:  56% 570/1024 [00:21<00:15, 29.28it/s, est. speed input: 0.00 toks/s, output: 0.00 toks/s]\n",
      "\u001b[Acessed prompts:  61% 627/1024 [00:23<00:13, 29.37it/s, est. speed input: 0.00 toks/s, output: 0.00 toks/s]\n",
      "\u001b[Acessed prompts:  67% 683/1024 [00:25<00:11, 29.14it/s, est. speed input: 0.00 toks/s, output: 0.00 toks/s]\n",
      "\u001b[Acessed prompts:  72% 738/1024 [00:27<00:09, 28.85it/s, est. speed input: 0.00 toks/s, output: 0.00 toks/s]\n",
      "\u001b[Acessed prompts:  78% 795/1024 [00:29<00:07, 29.05it/s, est. speed input: 0.00 toks/s, output: 0.00 toks/s]\n",
      "\u001b[Acessed prompts:  83% 849/1024 [00:30<00:06, 28.66it/s, est. speed input: 0.00 toks/s, output: 0.00 toks/s]\n",
      "\u001b[Acessed prompts:  89% 908/1024 [00:32<00:03, 29.24it/s, est. speed input: 0.00 toks/s, output: 0.00 toks/s]\n",
      "Processed prompts: 100% 1024/1024 [00:34<00:00, 29.35it/s, est. speed input: 0.00 toks/s, output: 0.00 toks/s]\n",
      "\n",
      "\u001b[Acessed prompts:   0% 0/1024 [00:00<?, ?it/s, est. speed input: 0.00 toks/s, output: 0.00 toks/s]\n",
      "\u001b[Acessed prompts:   0% 1/1024 [00:01<32:46,  1.92s/it, est. speed input: 0.00 toks/s, output: 0.00 toks/s]\n",
      "\u001b[Acessed prompts:   6% 57/1024 [00:03<00:55, 17.40it/s, est. speed input: 0.00 toks/s, output: 0.00 toks/s]\n",
      "\u001b[Acessed prompts:  11% 114/1024 [00:05<00:39, 23.07it/s, est. speed input: 0.00 toks/s, output: 0.00 toks/s]\n",
      "\u001b[Acessed prompts:  17% 171/1024 [00:07<00:33, 25.53it/s, est. speed input: 0.00 toks/s, output: 0.00 toks/s]\n",
      "\u001b[Acessed prompts:  22% 227/1024 [00:09<00:29, 26.82it/s, est. speed input: 0.00 toks/s, output: 0.00 toks/s]\n",
      "\u001b[Acessed prompts:  28% 283/1024 [00:11<00:26, 27.61it/s, est. speed input: 0.00 toks/s, output: 0.00 toks/s]\n",
      "\u001b[Acessed prompts:  33% 339/1024 [00:13<00:24, 28.09it/s, est. speed input: 0.00 toks/s, output: 0.00 toks/s]\n",
      "\u001b[Acessed prompts:  39% 395/1024 [00:15<00:22, 28.31it/s, est. speed input: 0.00 toks/s, output: 0.00 toks/s]\n",
      "\u001b[Acessed prompts:  44% 452/1024 [00:17<00:19, 28.62it/s, est. speed input: 0.00 toks/s, output: 0.00 toks/s]\n",
      "\u001b[Acessed prompts:  50% 508/1024 [00:19<00:17, 28.76it/s, est. speed input: 0.00 toks/s, output: 0.00 toks/s]\n",
      "\u001b[Acessed prompts:  55% 566/1024 [00:21<00:15, 29.03it/s, est. speed input: 0.00 toks/s, output: 0.00 toks/s]\n",
      "\u001b[Acessed prompts:  60% 619/1024 [00:23<00:14, 28.49it/s, est. speed input: 0.00 toks/s, output: 0.00 toks/s]\n",
      "\u001b[Acessed prompts:  66% 675/1024 [00:25<00:12, 28.58it/s, est. speed input: 0.00 toks/s, output: 0.00 toks/s]\n",
      "\u001b[Acessed prompts:  71% 732/1024 [00:27<00:10, 28.85it/s, est. speed input: 0.00 toks/s, output: 0.00 toks/s]\n",
      "\u001b[Acessed prompts:  77% 789/1024 [00:28<00:08, 29.10it/s, est. speed input: 0.00 toks/s, output: 0.00 toks/s]\n",
      "\u001b[Acessed prompts:  83% 846/1024 [00:30<00:06, 29.12it/s, est. speed input: 0.00 toks/s, output: 0.00 toks/s]\n",
      "\u001b[Acessed prompts:  88% 901/1024 [00:32<00:04, 28.99it/s, est. speed input: 0.00 toks/s, output: 0.00 toks/s]\n",
      "\u001b[Acessed prompts:  93% 954/1024 [00:34<00:02, 28.46it/s, est. speed input: 0.00 toks/s, output: 0.00 toks/s]\n",
      "Processed prompts: 100% 1024/1024 [00:35<00:00, 29.04it/s, est. speed input: 0.00 toks/s, output: 0.00 toks/s]\n",
      "\n",
      "\u001b[Acessed prompts:   0% 0/1024 [00:00<?, ?it/s, est. speed input: 0.00 toks/s, output: 0.00 toks/s]\n",
      "\u001b[Acessed prompts:   0% 1/1024 [00:01<32:57,  1.93s/it, est. speed input: 0.00 toks/s, output: 0.00 toks/s]\n",
      "\u001b[Acessed prompts:   6% 59/1024 [00:03<00:54, 17.80it/s, est. speed input: 0.00 toks/s, output: 0.00 toks/s]\n",
      "\u001b[Acessed prompts:  12% 118/1024 [00:05<00:38, 23.54it/s, est. speed input: 0.00 toks/s, output: 0.00 toks/s]\n",
      "\u001b[Acessed prompts:  17% 173/1024 [00:07<00:33, 25.40it/s, est. speed input: 0.00 toks/s, output: 0.00 toks/s]\n",
      "\u001b[Acessed prompts:  22% 229/1024 [00:09<00:29, 26.63it/s, est. speed input: 0.00 toks/s, output: 0.00 toks/s]\n",
      "\u001b[Acessed prompts:  28% 286/1024 [00:11<00:26, 27.66it/s, est. speed input: 0.00 toks/s, output: 0.00 toks/s]\n",
      "\u001b[Acessed prompts:  33% 342/1024 [00:13<00:24, 28.01it/s, est. speed input: 0.00 toks/s, output: 0.00 toks/s]\n",
      "\u001b[Acessed prompts:  39% 400/1024 [00:15<00:21, 28.69it/s, est. speed input: 0.00 toks/s, output: 0.00 toks/s]\n",
      "\u001b[Acessed prompts:  45% 456/1024 [00:17<00:19, 28.70it/s, est. speed input: 0.00 toks/s, output: 0.00 toks/s]\n",
      "\u001b[Acessed prompts:  50% 512/1024 [00:19<00:17, 28.70it/s, est. speed input: 0.00 toks/s, output: 0.00 toks/s]\n",
      "\u001b[Acessed prompts:  56% 569/1024 [00:21<00:15, 29.00it/s, est. speed input: 0.00 toks/s, output: 0.00 toks/s]\n",
      "\u001b[Acessed prompts:  61% 627/1024 [00:23<00:13, 29.34it/s, est. speed input: 0.00 toks/s, output: 0.00 toks/s]\n",
      "\u001b[Acessed prompts:  67% 685/1024 [00:25<00:11, 29.49it/s, est. speed input: 0.00 toks/s, output: 0.00 toks/s]\n",
      "\u001b[Acessed prompts:  73% 743/1024 [00:27<00:09, 29.73it/s, est. speed input: 0.00 toks/s, output: 0.00 toks/s]\n",
      "\u001b[Acessed prompts:  78% 801/1024 [00:29<00:07, 29.83it/s, est. speed input: 0.00 toks/s, output: 0.00 toks/s]\n",
      "\u001b[Acessed prompts:  84% 856/1024 [00:30<00:05, 29.35it/s, est. speed input: 0.00 toks/s, output: 0.00 toks/s]\n",
      "\u001b[Acessed prompts:  89% 913/1024 [00:32<00:03, 29.34it/s, est. speed input: 0.00 toks/s, output: 0.00 toks/s]\n",
      "Processed prompts: 100% 1024/1024 [00:34<00:00, 29.43it/s, est. speed input: 0.00 toks/s, output: 0.00 toks/s]\n",
      "\n",
      "\u001b[Acessed prompts:   0% 0/1024 [00:00<?, ?it/s, est. speed input: 0.00 toks/s, output: 0.00 toks/s]\n",
      "\u001b[Acessed prompts:   0% 1/1024 [00:01<33:01,  1.94s/it, est. speed input: 0.00 toks/s, output: 0.00 toks/s]\n",
      "\u001b[Acessed prompts:   6% 58/1024 [00:03<00:55, 17.47it/s, est. speed input: 0.00 toks/s, output: 0.00 toks/s]\n",
      "\u001b[Acessed prompts:  11% 115/1024 [00:05<00:39, 22.88it/s, est. speed input: 0.00 toks/s, output: 0.00 toks/s]\n",
      "\u001b[Acessed prompts:  17% 173/1024 [00:07<00:33, 25.71it/s, est. speed input: 0.00 toks/s, output: 0.00 toks/s]\n",
      "\u001b[Acessed prompts:  22% 230/1024 [00:09<00:29, 27.18it/s, est. speed input: 0.00 toks/s, output: 0.00 toks/s]\n",
      "\u001b[Acessed prompts:  28% 289/1024 [00:11<00:25, 28.34it/s, est. speed input: 0.00 toks/s, output: 0.00 toks/s]\n",
      "\u001b[Acessed prompts:  34% 346/1024 [00:13<00:23, 28.74it/s, est. speed input: 0.00 toks/s, output: 0.00 toks/s]\n",
      "\u001b[Acessed prompts:  40% 406/1024 [00:15<00:20, 29.43it/s, est. speed input: 0.00 toks/s, output: 0.00 toks/s]\n",
      "\u001b[Acessed prompts:  45% 463/1024 [00:17<00:19, 29.39it/s, est. speed input: 0.00 toks/s, output: 0.00 toks/s]\n",
      "\u001b[Acessed prompts:  51% 524/1024 [00:19<00:16, 29.96it/s, est. speed input: 0.00 toks/s, output: 0.00 toks/s]\n",
      "\u001b[Acessed prompts:  57% 581/1024 [00:21<00:14, 29.74it/s, est. speed input: 0.00 toks/s, output: 0.00 toks/s]\n",
      "\u001b[Acessed prompts:  62% 640/1024 [00:23<00:12, 29.92it/s, est. speed input: 0.00 toks/s, output: 0.00 toks/s]\n",
      "\u001b[Acessed prompts:  68% 697/1024 [00:25<00:11, 29.71it/s, est. speed input: 0.00 toks/s, output: 0.00 toks/s]\n",
      "\u001b[Acessed prompts:  74% 754/1024 [00:27<00:09, 29.59it/s, est. speed input: 0.00 toks/s, output: 0.00 toks/s]\n",
      "\u001b[Acessed prompts:  79% 810/1024 [00:29<00:07, 29.43it/s, est. speed input: 0.00 toks/s, output: 0.00 toks/s]\n",
      "\u001b[Acessed prompts:  85% 868/1024 [00:31<00:05, 29.52it/s, est. speed input: 0.00 toks/s, output: 0.00 toks/s]\n",
      "\u001b[Acessed prompts:  90% 925/1024 [00:32<00:03, 29.53it/s, est. speed input: 0.00 toks/s, output: 0.00 toks/s]\n",
      "Processed prompts: 100% 1024/1024 [00:34<00:00, 29.82it/s, est. speed input: 0.00 toks/s, output: 0.00 toks/s]\n"
     ]
    },
    {
     "name": "stdout",
     "output_type": "stream",
     "text": [
      "Kmeans with n_clusters=5120\n"
     ]
    },
    {
     "data": {
      "application/vnd.jupyter.widget-view+json": {
       "model_id": "b9bc57c1adf64b159303473ab58f1032",
       "version_major": 2,
       "version_minor": 0
      },
      "text/plain": [
       "Map:   0%|          | 0/10240 [00:00<?, ? examples/s]"
      ]
     },
     "metadata": {},
     "output_type": "display_data"
    },
    {
     "name": "stdout",
     "output_type": "stream",
     "text": [
      "Dataset({\n",
      "    features: ['id', 'url', 'title', 'text', 'synthetic_content', 'judgement', 'accuracy_score', 'embedding', 'cluster_id'],\n",
      "    num_rows: 10240\n",
      "})\n"
     ]
    },
    {
     "data": {
      "application/vnd.jupyter.widget-view+json": {
       "model_id": "57eccdede2b9425fb19c2ce986565659",
       "version_major": 2,
       "version_minor": 0
      },
      "text/plain": [
       "Uploading the dataset shards:   0%|          | 0/1 [00:00<?, ?it/s]"
      ]
     },
     "metadata": {},
     "output_type": "display_data"
    },
    {
     "data": {
      "application/vnd.jupyter.widget-view+json": {
       "model_id": "158dbb21df4f49d3b66db1f6bedf9f6c",
       "version_major": 2,
       "version_minor": 0
      },
      "text/plain": [
       "Creating parquet from Arrow format:   0%|          | 0/11 [00:00<?, ?ba/s]"
      ]
     },
     "metadata": {},
     "output_type": "display_data"
    },
    {
     "data": {
      "application/vnd.jupyter.widget-view+json": {
       "model_id": "dfaec1d24e014390a16c8d33cfe9eb86",
       "version_major": 2,
       "version_minor": 0
      },
      "text/plain": [
       "  0%|          | 0/1 [00:00<?, ?it/s]"
      ]
     },
     "metadata": {},
     "output_type": "display_data"
    },
    {
     "name": "stderr",
     "output_type": "stream",
     "text": [
      "/usr/local/lib/python3.10/dist-packages/huggingface_hub/lfs.py:337: UserWarning: hf_transfer is enabled but does not support uploading from bytes or BinaryIO, falling back to regular upload\n",
      "  warnings.warn(\n"
     ]
    },
    {
     "data": {
      "application/vnd.jupyter.widget-view+json": {
       "model_id": "cbdea6931ad44d9d9fb21a15dd98a054",
       "version_major": 2,
       "version_minor": 0
      },
      "text/plain": [
       "Filter:   0%|          | 0/10240 [00:00<?, ? examples/s]"
      ]
     },
     "metadata": {},
     "output_type": "display_data"
    },
    {
     "data": {
      "application/vnd.jupyter.widget-view+json": {
       "model_id": "5870ac20bc534cefae97c06c8548f86c",
       "version_major": 2,
       "version_minor": 0
      },
      "text/plain": [
       "Filter:   0%|          | 0/10240 [00:00<?, ? examples/s]"
      ]
     },
     "metadata": {},
     "output_type": "display_data"
    },
    {
     "name": "stdout",
     "output_type": "stream",
     "text": [
      "DatasetDict({\n",
      "    train: Dataset({\n",
      "        features: ['id', 'url', 'title', 'text', 'synthetic_content', 'judgement', 'accuracy_score'],\n",
      "        num_rows: 5120\n",
      "    })\n",
      "    test: Dataset({\n",
      "        features: ['id', 'url', 'title', 'text', 'synthetic_content', 'judgement', 'accuracy_score'],\n",
      "        num_rows: 5120\n",
      "    })\n",
      "})\n"
     ]
    },
    {
     "data": {
      "application/vnd.jupyter.widget-view+json": {
       "model_id": "00656139221f43dfb80df9c397e1107c",
       "version_major": 2,
       "version_minor": 0
      },
      "text/plain": [
       "Uploading the dataset shards:   0%|          | 0/1 [00:00<?, ?it/s]"
      ]
     },
     "metadata": {},
     "output_type": "display_data"
    },
    {
     "data": {
      "application/vnd.jupyter.widget-view+json": {
       "model_id": "f0edd077c9d14f17b8f553216bf34e44",
       "version_major": 2,
       "version_minor": 0
      },
      "text/plain": [
       "Creating parquet from Arrow format:   0%|          | 0/6 [00:00<?, ?ba/s]"
      ]
     },
     "metadata": {},
     "output_type": "display_data"
    },
    {
     "data": {
      "application/vnd.jupyter.widget-view+json": {
       "model_id": "2a70036f100e46e19f435a6e86c0151f",
       "version_major": 2,
       "version_minor": 0
      },
      "text/plain": [
       "  0%|          | 0/1 [00:00<?, ?it/s]"
      ]
     },
     "metadata": {},
     "output_type": "display_data"
    },
    {
     "data": {
      "application/vnd.jupyter.widget-view+json": {
       "model_id": "1f7209a2d8fd497f998b2ed030b4714c",
       "version_major": 2,
       "version_minor": 0
      },
      "text/plain": [
       "Uploading the dataset shards:   0%|          | 0/1 [00:00<?, ?it/s]"
      ]
     },
     "metadata": {},
     "output_type": "display_data"
    },
    {
     "data": {
      "application/vnd.jupyter.widget-view+json": {
       "model_id": "3f77c804a7164745a6cd1e39212e827d",
       "version_major": 2,
       "version_minor": 0
      },
      "text/plain": [
       "Creating parquet from Arrow format:   0%|          | 0/6 [00:00<?, ?ba/s]"
      ]
     },
     "metadata": {},
     "output_type": "display_data"
    },
    {
     "data": {
      "application/vnd.jupyter.widget-view+json": {
       "model_id": "18e5effd982b408bbc305b5d349f368c",
       "version_major": 2,
       "version_minor": 0
      },
      "text/plain": [
       "  0%|          | 0/1 [00:00<?, ?it/s]"
      ]
     },
     "metadata": {},
     "output_type": "display_data"
    },
    {
     "name": "stdout",
     "output_type": "stream",
     "text": [
      "Sample from cluster: 0\n",
      "\n",
      "\n",
      "Diarra Sylla is a French professional footballer who plays as a striker for Swiss club Servette FC. Born on November 30, 1990, in Aubervilliers, France, Sylla began his football career at a young age, joining the youth academy of French club Le Mans FC. He quickly rose through the ranks, making his professional debut for Le Mans in 2009.\n",
      "\n",
      "Sylla's early career was marked by loan spells at various French clubs, including Stade de Reims and Clermont Foot, before he eventually joined Belgian club KVC Westerlo in 2012. It was during his time at Westerlo that Sylla began to establish himself as a prolific goal-scorer, netting 15 goals in 23 appearances for the club.\n",
      "\n",
      "In 2013, Sylla joined Belgian Pro League side KSC Lokeren, where he continued to impress with his goal-scoring form. Over the course of two seasons, he scored 15 goals in 32 appearances, earning himself a move to Belgian giants Anderlecht in 2015.\n",
      "\n",
      "Sylla's time at Anderlecht was marked by success, as he helped the club win the Belgian Pro League title in 2017. He also made his European debut, featuring in the UEFA Champions League and UEFA Europa League for the club.\n",
      "\n",
      "In 2017, Sylla joined Turkish club Qarabağ FK, where he spent two seasons, scoring 20 goals in 42 appearances. He then joined Swiss club Servette FC in 2019, where he currently plays.\n",
      "\n",
      "Throughout his career, Sylla has been known for his pace, power, and clinical finishing ability, making him a formidable opponent for defenders. Despite not being capped by France at international level, Sylla has had a successful career, playing for several top-tier clubs in Europe and winning numerous honors.\n",
      "\n",
      "Off the pitch, Sylla is known for his humble and down-to-earth personality, often engaging with fans and speaking about the importance of hard work and dedication in achieving success. As he continues to play at a high level, Sylla remains an inspiration to young footballers around the world, proof that with talent, determination, and perseverance, anything is possible in the beautiful game.\n",
      "\n",
      "-------\n",
      "\n",
      "\n",
      "Sample from cluster: 1\n",
      "\n",
      "\n",
      "Eupithecia cunina is a species of moth in the family Geometridae, commonly known as the geometer moths. This species is found in North America, specifically in the western regions of the United States and Canada. The moths in this genus are typically small to medium-sized, with delicate wings and a slender body. Eupithecia cunina is no exception, with a wingspan of approximately 20-25 millimeters.\n",
      "\n",
      "The wings of Eupithecia cunina are pale brown or grayish-brown in color, with a subtle sheen to them. The forewings have a distinctive pattern of fine, wavy lines and dashes, while the hindwings are more uniformly colored. The moth's body is covered in tiny, hair-like scales that give it a soft, fuzzy appearance.\n",
      "\n",
      "Eupithecia cunina is a relatively rare species, and its habits and habitats are not well-documented. However, it is believed to inhabit areas with dense vegetation, such as forests and woodlands, where its caterpillars can feed on the leaves and stems of various plant species. The caterpillars themselves are likely to be small and green, with a series of distinctive markings or stripes along their bodies.\n",
      "\n",
      "Adult Eupithecia cunina moths are likely to be active at night, when they can be attracted to light sources such as porch lights or streetlights. During the day, they probably rest in sheltered locations, such as under leaves or in crevices, where they can avoid predators and protect themselves from the elements.\n",
      "\n",
      "Despite its relatively small size and limited range, Eupithecia cunina is an interesting and important species within the context of North American lepidoptery. Its unique wing patterns and coloration make it a popular subject for study among moth enthusiasts and researchers, who seek to learn more about its behavior, ecology, and evolution.\n",
      "\n",
      "In terms of conservation status, Eupithecia cunina is not currently considered to be a threatened or endangered species. However, its populations may be vulnerable to habitat destruction, climate change, and other environmental factors that can impact moth populations. As such, it is essential to continue monitoring and studying this species, as well as its habitats and ecosystems, in order to ensure its long-term survival and well-being.\n",
      "\n",
      "Overall, Eupithecia cunina is a fascinating and enigmatic species that offers a glimpse into the diverse and complex world of moths. Its unique characteristics, habits, and habitats make it an important subject for scientific study and appreciation, and its conservation is essential for maintaining the health and biodiversity of North American ecosystems.\n",
      "\n",
      "-------\n",
      "\n",
      "\n",
      "Sample from cluster: 2\n",
      "\n",
      "\n",
      "Amsacta latimarginalis is a species of moth in the family Erebidae. The species was first described by George Hampson in 1896, and it is found in India and Sri Lanka. The moths in this species are relatively small, with a wingspan of around 20-25 millimeters. They have a distinctive appearance, with a brown or grayish-brown color and a distinctive white or pale yellow stripe running along the margin of the wings.\n",
      "\n",
      "The larvae of Amsacta latimarginalis feed on various plants, including grasses and other herbaceous vegetation. The moths are nocturnal, meaning they are active at night, and are attracted to light sources. They are also known to be important pollinators of certain plant species, and play a role in the ecosystem as both predators and prey.\n",
      "\n",
      "Amsacta latimarginalis is a member of the subfamily Arctiinae, which is a large and diverse group of moths commonly known as tiger moths. These moths are found all over the world, and are known for their bright colors and distinctive patterns. Many species of tiger moths are important pollinators, and some are also known to be pests of agricultural crops.\n",
      "\n",
      "In terms of conservation status, Amsacta latimarginalis is not considered to be a threatened species at present. However, the moths and their habitats are facing a number of threats, including habitat destruction, climate change, and the use of pesticides. As a result, conservation efforts are needed to protect these moths and their habitats, and to ensure the long-term health of ecosystems.\n",
      "\n",
      "Overall, Amsacta latimarginalis is an interesting and important species of moth, with a unique appearance and a fascinating life cycle. Further research is needed to fully understand the ecology and behavior of this species, and to ensure its conservation and protection.\n",
      "\n",
      "-------\n",
      "\n",
      "\n"
     ]
    },
    {
     "data": {
      "application/vnd.jupyter.widget-view+json": {
       "model_id": "a6a6590419da4a169fa674c9f9d2a252",
       "version_major": 2,
       "version_minor": 0
      },
      "text/plain": [
       "Map:   0%|          | 0/10240 [00:00<?, ? examples/s]"
      ]
     },
     "metadata": {},
     "output_type": "display_data"
    },
    {
     "name": "stderr",
     "output_type": "stream",
     "text": [
      "\n",
      "\u001b[Acessed prompts:   0% 0/1024 [00:00<?, ?it/s, est. speed input: 0.00 toks/s, output: 0.00 toks/s]\n",
      "\u001b[Acessed prompts:   0% 1/1024 [00:01<32:24,  1.90s/it, est. speed input: 0.00 toks/s, output: 0.00 toks/s]\n",
      "\u001b[Acessed prompts:   7% 69/1024 [00:03<00:44, 21.24it/s, est. speed input: 0.00 toks/s, output: 0.00 toks/s]\n",
      "\u001b[Acessed prompts:  13% 132/1024 [00:05<00:33, 26.59it/s, est. speed input: 0.00 toks/s, output: 0.00 toks/s]\n",
      "\u001b[Acessed prompts:  19% 197/1024 [00:07<00:28, 29.40it/s, est. speed input: 0.00 toks/s, output: 0.00 toks/s]\n",
      "\u001b[Acessed prompts:  26% 266/1024 [00:09<00:23, 31.69it/s, est. speed input: 0.00 toks/s, output: 0.00 toks/s]\n",
      "\u001b[Acessed prompts:  33% 336/1024 [00:11<00:20, 33.25it/s, est. speed input: 0.00 toks/s, output: 0.00 toks/s]\n",
      "\u001b[Acessed prompts:  40% 406/1024 [00:13<00:17, 34.36it/s, est. speed input: 0.00 toks/s, output: 0.00 toks/s]\n",
      "\u001b[Acessed prompts:  46% 474/1024 [00:15<00:15, 34.72it/s, est. speed input: 0.00 toks/s, output: 0.00 toks/s]\n",
      "\u001b[Acessed prompts:  53% 541/1024 [00:17<00:13, 34.90it/s, est. speed input: 0.00 toks/s, output: 0.00 toks/s]\n",
      "\u001b[Acessed prompts:  59% 606/1024 [00:19<00:12, 34.60it/s, est. speed input: 0.00 toks/s, output: 0.00 toks/s]\n",
      "\u001b[Acessed prompts:  66% 677/1024 [00:21<00:09, 35.24it/s, est. speed input: 0.00 toks/s, output: 0.00 toks/s]\n",
      "\u001b[Acessed prompts:  73% 748/1024 [00:23<00:07, 35.70it/s, est. speed input: 0.00 toks/s, output: 0.00 toks/s]\n",
      "\u001b[Acessed prompts:  80% 815/1024 [00:24<00:05, 35.33it/s, est. speed input: 0.00 toks/s, output: 0.00 toks/s]\n",
      "\u001b[Acessed prompts:  86% 880/1024 [00:26<00:04, 34.80it/s, est. speed input: 0.00 toks/s, output: 0.00 toks/s]\n",
      "\u001b[Acessed prompts:  93% 952/1024 [00:28<00:02, 35.60it/s, est. speed input: 0.00 toks/s, output: 0.00 toks/s]\n",
      "Processed prompts: 100% 1024/1024 [00:29<00:00, 35.22it/s, est. speed input: 0.00 toks/s, output: 0.00 toks/s]\n",
      "\n",
      "\u001b[Acessed prompts:   0% 0/1024 [00:00<?, ?it/s, est. speed input: 0.00 toks/s, output: 0.00 toks/s]\n",
      "\u001b[Acessed prompts:   0% 1/1024 [00:01<32:29,  1.91s/it, est. speed input: 0.00 toks/s, output: 0.00 toks/s]\n",
      "\u001b[Acessed prompts:   7% 68/1024 [00:03<00:45, 20.81it/s, est. speed input: 0.00 toks/s, output: 0.00 toks/s]\n",
      "\u001b[Acessed prompts:  13% 135/1024 [00:05<00:32, 27.12it/s, est. speed input: 0.00 toks/s, output: 0.00 toks/s]\n",
      "\u001b[Acessed prompts:  20% 203/1024 [00:07<00:27, 30.37it/s, est. speed input: 0.00 toks/s, output: 0.00 toks/s]\n",
      "\u001b[Acessed prompts:  26% 269/1024 [00:09<00:23, 31.69it/s, est. speed input: 0.00 toks/s, output: 0.00 toks/s]\n",
      "\u001b[Acessed prompts:  33% 337/1024 [00:11<00:20, 32.98it/s, est. speed input: 0.00 toks/s, output: 0.00 toks/s]\n",
      "\u001b[Acessed prompts:  40% 405/1024 [00:13<00:18, 33.79it/s, est. speed input: 0.00 toks/s, output: 0.00 toks/s]\n",
      "\u001b[Acessed prompts:  46% 473/1024 [00:15<00:16, 34.18it/s, est. speed input: 0.00 toks/s, output: 0.00 toks/s]\n",
      "\u001b[Acessed prompts:  53% 543/1024 [00:17<00:13, 34.77it/s, est. speed input: 0.00 toks/s, output: 0.00 toks/s]\n",
      "\u001b[Acessed prompts:  60% 612/1024 [00:19<00:11, 35.15it/s, est. speed input: 0.00 toks/s, output: 0.00 toks/s]\n",
      "\u001b[Acessed prompts:  67% 682/1024 [00:21<00:09, 35.54it/s, est. speed input: 0.00 toks/s, output: 0.00 toks/s]\n",
      "\u001b[Acessed prompts:  73% 749/1024 [00:23<00:07, 35.20it/s, est. speed input: 0.00 toks/s, output: 0.00 toks/s]\n",
      "\u001b[Acessed prompts:  80% 815/1024 [00:25<00:05, 34.83it/s, est. speed input: 0.00 toks/s, output: 0.00 toks/s]\n",
      "\u001b[Acessed prompts:  86% 882/1024 [00:27<00:04, 34.74it/s, est. speed input: 0.00 toks/s, output: 0.00 toks/s]\n",
      "\u001b[Acessed prompts:  92% 947/1024 [00:28<00:02, 34.34it/s, est. speed input: 0.00 toks/s, output: 0.00 toks/s]\n",
      "Processed prompts: 100% 1024/1024 [00:29<00:00, 34.92it/s, est. speed input: 0.00 toks/s, output: 0.00 toks/s]\n",
      "\n",
      "\u001b[Acessed prompts:   0% 0/1024 [00:00<?, ?it/s, est. speed input: 0.00 toks/s, output: 0.00 toks/s]\n",
      "\u001b[Acessed prompts:   0% 1/1024 [00:01<32:38,  1.91s/it, est. speed input: 0.00 toks/s, output: 0.00 toks/s]\n",
      "\u001b[Acessed prompts:   7% 68/1024 [00:03<00:46, 20.74it/s, est. speed input: 0.00 toks/s, output: 0.00 toks/s]\n",
      "\u001b[Acessed prompts:  13% 135/1024 [00:05<00:32, 27.06it/s, est. speed input: 0.00 toks/s, output: 0.00 toks/s]\n",
      "\u001b[Acessed prompts:  20% 203/1024 [00:07<00:27, 30.24it/s, est. speed input: 0.00 toks/s, output: 0.00 toks/s]\n",
      "\u001b[Acessed prompts:  27% 274/1024 [00:09<00:22, 32.64it/s, est. speed input: 0.00 toks/s, output: 0.00 toks/s]\n",
      "\u001b[Acessed prompts:  34% 346/1024 [00:11<00:19, 34.15it/s, est. speed input: 0.00 toks/s, output: 0.00 toks/s]\n",
      "\u001b[Acessed prompts:  41% 416/1024 [00:13<00:17, 34.75it/s, est. speed input: 0.00 toks/s, output: 0.00 toks/s]\n",
      "\u001b[Acessed prompts:  47% 485/1024 [00:15<00:15, 35.01it/s, est. speed input: 0.00 toks/s, output: 0.00 toks/s]\n",
      "\u001b[Acessed prompts:  54% 551/1024 [00:17<00:13, 34.81it/s, est. speed input: 0.00 toks/s, output: 0.00 toks/s]\n",
      "\u001b[Acessed prompts:  60% 618/1024 [00:19<00:11, 34.68it/s, est. speed input: 0.00 toks/s, output: 0.00 toks/s]\n",
      "\u001b[Acessed prompts:  67% 684/1024 [00:21<00:09, 34.59it/s, est. speed input: 0.00 toks/s, output: 0.00 toks/s]\n",
      "\u001b[Acessed prompts:  74% 753/1024 [00:23<00:07, 34.89it/s, est. speed input: 0.00 toks/s, output: 0.00 toks/s]\n",
      "\u001b[Acessed prompts:  80% 821/1024 [00:25<00:05, 34.93it/s, est. speed input: 0.00 toks/s, output: 0.00 toks/s]\n",
      "\u001b[Acessed prompts:  87% 889/1024 [00:27<00:03, 34.89it/s, est. speed input: 0.00 toks/s, output: 0.00 toks/s]\n",
      "Processed prompts: 100% 1024/1024 [00:28<00:00, 35.38it/s, est. speed input: 0.00 toks/s, output: 0.00 toks/s]\n",
      "\n",
      "\u001b[Acessed prompts:   0% 0/1024 [00:00<?, ?it/s, est. speed input: 0.00 toks/s, output: 0.00 toks/s]\n",
      "\u001b[Acessed prompts:   0% 1/1024 [00:01<32:41,  1.92s/it, est. speed input: 0.00 toks/s, output: 0.00 toks/s]\n",
      "\u001b[Acessed prompts:   7% 74/1024 [00:03<00:42, 22.46it/s, est. speed input: 0.00 toks/s, output: 0.00 toks/s]\n",
      "\u001b[Acessed prompts:  14% 140/1024 [00:05<00:31, 27.91it/s, est. speed input: 0.00 toks/s, output: 0.00 toks/s]\n",
      "\u001b[Acessed prompts:  20% 206/1024 [00:07<00:26, 30.44it/s, est. speed input: 0.00 toks/s, output: 0.00 toks/s]\n",
      "\u001b[Acessed prompts:  27% 273/1024 [00:09<00:23, 31.90it/s, est. speed input: 0.00 toks/s, output: 0.00 toks/s]\n",
      "\u001b[Acessed prompts:  33% 340/1024 [00:11<00:20, 32.89it/s, est. speed input: 0.00 toks/s, output: 0.00 toks/s]\n",
      "\u001b[Acessed prompts:  40% 411/1024 [00:13<00:17, 34.20it/s, est. speed input: 0.00 toks/s, output: 0.00 toks/s]\n",
      "\u001b[Acessed prompts:  47% 479/1024 [00:15<00:15, 34.67it/s, est. speed input: 0.00 toks/s, output: 0.00 toks/s]\n",
      "\u001b[Acessed prompts:  54% 548/1024 [00:17<00:13, 35.07it/s, est. speed input: 0.00 toks/s, output: 0.00 toks/s]\n",
      "\u001b[Acessed prompts:  60% 614/1024 [00:19<00:12, 33.48it/s, est. speed input: 0.00 toks/s, output: 0.00 toks/s]\n",
      "\u001b[Acessed prompts:  67% 685/1024 [00:21<00:09, 34.49it/s, est. speed input: 0.00 toks/s, output: 0.00 toks/s]\n",
      "\u001b[Acessed prompts:  73% 751/1024 [00:23<00:07, 34.30it/s, est. speed input: 0.00 toks/s, output: 0.00 toks/s]\n",
      "\u001b[Acessed prompts:  80% 819/1024 [00:25<00:05, 34.67it/s, est. speed input: 0.00 toks/s, output: 0.00 toks/s]\n",
      "\u001b[Acessed prompts:  87% 886/1024 [00:27<00:03, 34.59it/s, est. speed input: 0.00 toks/s, output: 0.00 toks/s]\n",
      "\u001b[Acessed prompts:  93% 951/1024 [00:29<00:02, 34.44it/s, est. speed input: 0.00 toks/s, output: 0.00 toks/s]\n",
      "Processed prompts: 100% 1024/1024 [00:29<00:00, 34.91it/s, est. speed input: 0.00 toks/s, output: 0.00 toks/s]\n",
      "\n",
      "\u001b[Acessed prompts:   0% 0/1024 [00:00<?, ?it/s, est. speed input: 0.00 toks/s, output: 0.00 toks/s]\n",
      "\u001b[Acessed prompts:   0% 1/1024 [00:01<32:42,  1.92s/it, est. speed input: 0.00 toks/s, output: 0.00 toks/s]\n",
      "\u001b[Acessed prompts:   7% 68/1024 [00:03<00:46, 20.62it/s, est. speed input: 0.00 toks/s, output: 0.00 toks/s]\n",
      "\u001b[Acessed prompts:  13% 136/1024 [00:05<00:32, 27.33it/s, est. speed input: 0.00 toks/s, output: 0.00 toks/s]\n",
      "\u001b[Acessed prompts:  20% 206/1024 [00:07<00:26, 30.88it/s, est. speed input: 0.00 toks/s, output: 0.00 toks/s]\n",
      "\u001b[Acessed prompts:  26% 269/1024 [00:09<00:24, 31.44it/s, est. speed input: 0.00 toks/s, output: 0.00 toks/s]\n",
      "\u001b[Acessed prompts:  33% 333/1024 [00:11<00:21, 31.93it/s, est. speed input: 0.00 toks/s, output: 0.00 toks/s]\n",
      "\u001b[Acessed prompts:  39% 402/1024 [00:13<00:18, 33.09it/s, est. speed input: 0.00 toks/s, output: 0.00 toks/s]\n",
      "\u001b[Acessed prompts:  46% 473/1024 [00:15<00:16, 34.17it/s, est. speed input: 0.00 toks/s, output: 0.00 toks/s]\n",
      "\u001b[Acessed prompts:  53% 541/1024 [00:17<00:13, 34.56it/s, est. speed input: 0.00 toks/s, output: 0.00 toks/s]\n",
      "\u001b[Acessed prompts:  60% 610/1024 [00:19<00:11, 34.83it/s, est. speed input: 0.00 toks/s, output: 0.00 toks/s]\n",
      "\u001b[Acessed prompts:  66% 676/1024 [00:21<00:10, 34.64it/s, est. speed input: 0.00 toks/s, output: 0.00 toks/s]\n",
      "\u001b[Acessed prompts:  72% 742/1024 [00:23<00:08, 34.41it/s, est. speed input: 0.00 toks/s, output: 0.00 toks/s]\n",
      "\u001b[Acessed prompts:  79% 807/1024 [00:25<00:06, 34.12it/s, est. speed input: 0.00 toks/s, output: 0.00 toks/s]\n",
      "\u001b[Acessed prompts:  85% 874/1024 [00:27<00:04, 34.32it/s, est. speed input: 0.00 toks/s, output: 0.00 toks/s]\n",
      "\u001b[Acessed prompts:  92% 940/1024 [00:29<00:02, 34.17it/s, est. speed input: 0.00 toks/s, output: 0.00 toks/s]\n",
      "Processed prompts: 100% 1024/1024 [00:29<00:00, 34.55it/s, est. speed input: 0.00 toks/s, output: 0.00 toks/s]\n",
      "\n",
      "\u001b[Acessed prompts:   0% 0/1024 [00:00<?, ?it/s, est. speed input: 0.00 toks/s, output: 0.00 toks/s]\n",
      "\u001b[Acessed prompts:   0% 1/1024 [00:01<33:02,  1.94s/it, est. speed input: 0.00 toks/s, output: 0.00 toks/s]\n",
      "\u001b[Acessed prompts:   7% 69/1024 [00:03<00:45, 20.91it/s, est. speed input: 0.00 toks/s, output: 0.00 toks/s]\n",
      "\u001b[Acessed prompts:  13% 132/1024 [00:05<00:34, 26.16it/s, est. speed input: 0.00 toks/s, output: 0.00 toks/s]\n",
      "\u001b[Acessed prompts:  19% 197/1024 [00:07<00:28, 29.05it/s, est. speed input: 0.00 toks/s, output: 0.00 toks/s]\n",
      "\u001b[Acessed prompts:  26% 266/1024 [00:09<00:24, 31.55it/s, est. speed input: 0.00 toks/s, output: 0.00 toks/s]\n",
      "\u001b[Acessed prompts:  32% 329/1024 [00:11<00:21, 31.84it/s, est. speed input: 0.00 toks/s, output: 0.00 toks/s]\n",
      "\u001b[Acessed prompts:  39% 397/1024 [00:13<00:19, 32.89it/s, est. speed input: 0.00 toks/s, output: 0.00 toks/s]\n",
      "\u001b[Acessed prompts:  46% 466/1024 [00:15<00:16, 33.68it/s, est. speed input: 0.00 toks/s, output: 0.00 toks/s]\n",
      "\u001b[Acessed prompts:  52% 529/1024 [00:17<00:14, 33.29it/s, est. speed input: 0.00 toks/s, output: 0.00 toks/s]\n",
      "\u001b[Acessed prompts:  58% 597/1024 [00:19<00:12, 33.94it/s, est. speed input: 0.00 toks/s, output: 0.00 toks/s]\n",
      "\u001b[Acessed prompts:  65% 666/1024 [00:21<00:10, 34.52it/s, est. speed input: 0.00 toks/s, output: 0.00 toks/s]\n",
      "\u001b[Acessed prompts:  72% 733/1024 [00:23<00:08, 34.58it/s, est. speed input: 0.00 toks/s, output: 0.00 toks/s]\n",
      "\u001b[Acessed prompts:  78% 801/1024 [00:25<00:06, 34.71it/s, est. speed input: 0.00 toks/s, output: 0.00 toks/s]\n",
      "\u001b[Acessed prompts:  85% 868/1024 [00:27<00:04, 34.72it/s, est. speed input: 0.00 toks/s, output: 0.00 toks/s]\n",
      "\u001b[Acessed prompts:  91% 932/1024 [00:29<00:02, 34.27it/s, est. speed input: 0.00 toks/s, output: 0.00 toks/s]\n",
      "Processed prompts: 100% 1024/1024 [00:29<00:00, 34.43it/s, est. speed input: 0.00 toks/s, output: 0.00 toks/s]\n",
      "\n",
      "\u001b[Acessed prompts:   0% 0/1024 [00:00<?, ?it/s, est. speed input: 0.00 toks/s, output: 0.00 toks/s]\n",
      "\u001b[Acessed prompts:   0% 1/1024 [00:01<32:35,  1.91s/it, est. speed input: 0.00 toks/s, output: 0.00 toks/s]\n",
      "\u001b[Acessed prompts:   7% 67/1024 [00:03<00:47, 20.32it/s, est. speed input: 0.00 toks/s, output: 0.00 toks/s]\n",
      "\u001b[Acessed prompts:  13% 135/1024 [00:05<00:32, 27.04it/s, est. speed input: 0.00 toks/s, output: 0.00 toks/s]\n",
      "\u001b[Acessed prompts:  20% 205/1024 [00:07<00:26, 30.59it/s, est. speed input: 0.00 toks/s, output: 0.00 toks/s]\n",
      "\u001b[Acessed prompts:  27% 272/1024 [00:09<00:23, 32.01it/s, est. speed input: 0.00 toks/s, output: 0.00 toks/s]\n",
      "\u001b[Acessed prompts:  33% 338/1024 [00:11<00:20, 32.79it/s, est. speed input: 0.00 toks/s, output: 0.00 toks/s]\n",
      "\u001b[Acessed prompts:  40% 405/1024 [00:13<00:18, 33.44it/s, est. speed input: 0.00 toks/s, output: 0.00 toks/s]\n",
      "\u001b[Acessed prompts:  46% 468/1024 [00:15<00:16, 33.25it/s, est. speed input: 0.00 toks/s, output: 0.00 toks/s]\n",
      "\u001b[Acessed prompts:  53% 538/1024 [00:17<00:14, 34.15it/s, est. speed input: 0.00 toks/s, output: 0.00 toks/s]\n",
      "\u001b[Acessed prompts:  60% 610/1024 [00:19<00:11, 35.14it/s, est. speed input: 0.00 toks/s, output: 0.00 toks/s]\n",
      "\u001b[Acessed prompts:  66% 680/1024 [00:21<00:09, 35.38it/s, est. speed input: 0.00 toks/s, output: 0.00 toks/s]\n",
      "\u001b[Acessed prompts:  73% 746/1024 [00:23<00:07, 34.93it/s, est. speed input: 0.00 toks/s, output: 0.00 toks/s]\n",
      "\u001b[Acessed prompts:  79% 811/1024 [00:25<00:06, 34.50it/s, est. speed input: 0.00 toks/s, output: 0.00 toks/s]\n",
      "\u001b[Acessed prompts:  86% 880/1024 [00:27<00:04, 34.79it/s, est. speed input: 0.00 toks/s, output: 0.00 toks/s]\n",
      "\u001b[Acessed prompts:  92% 947/1024 [00:29<00:02, 34.70it/s, est. speed input: 0.00 toks/s, output: 0.00 toks/s]\n",
      "Processed prompts: 100% 1024/1024 [00:29<00:00, 35.03it/s, est. speed input: 0.00 toks/s, output: 0.00 toks/s]\n",
      "\n",
      "\u001b[Acessed prompts:   0% 0/1024 [00:00<?, ?it/s, est. speed input: 0.00 toks/s, output: 0.00 toks/s]\n",
      "\u001b[Acessed prompts:   0% 1/1024 [00:01<32:57,  1.93s/it, est. speed input: 0.00 toks/s, output: 0.00 toks/s]\n",
      "\u001b[Acessed prompts:   6% 65/1024 [00:03<00:48, 19.75it/s, est. speed input: 0.00 toks/s, output: 0.00 toks/s]\n",
      "\u001b[Acessed prompts:  13% 135/1024 [00:05<00:32, 27.22it/s, est. speed input: 0.00 toks/s, output: 0.00 toks/s]\n",
      "\u001b[Acessed prompts:  20% 204/1024 [00:07<00:26, 30.50it/s, est. speed input: 0.00 toks/s, output: 0.00 toks/s]\n",
      "\u001b[Acessed prompts:  27% 276/1024 [00:09<00:22, 33.00it/s, est. speed input: 0.00 toks/s, output: 0.00 toks/s]\n",
      "\u001b[Acessed prompts:  34% 345/1024 [00:11<00:19, 33.98it/s, est. speed input: 0.00 toks/s, output: 0.00 toks/s]\n",
      "\u001b[Acessed prompts:  41% 418/1024 [00:13<00:17, 35.27it/s, est. speed input: 0.00 toks/s, output: 0.00 toks/s]\n",
      "\u001b[Acessed prompts:  48% 487/1024 [00:15<00:15, 35.46it/s, est. speed input: 0.00 toks/s, output: 0.00 toks/s]\n",
      "\u001b[Acessed prompts:  54% 554/1024 [00:17<00:13, 35.15it/s, est. speed input: 0.00 toks/s, output: 0.00 toks/s]\n",
      "\u001b[Acessed prompts:  60% 619/1024 [00:19<00:11, 34.77it/s, est. speed input: 0.00 toks/s, output: 0.00 toks/s]\n",
      "\u001b[Acessed prompts:  67% 689/1024 [00:21<00:09, 35.28it/s, est. speed input: 0.00 toks/s, output: 0.00 toks/s]\n",
      "\u001b[Acessed prompts:  73% 752/1024 [00:23<00:07, 34.40it/s, est. speed input: 0.00 toks/s, output: 0.00 toks/s]\n",
      "\u001b[Acessed prompts:  80% 821/1024 [00:25<00:05, 34.74it/s, est. speed input: 0.00 toks/s, output: 0.00 toks/s]\n",
      "\u001b[Acessed prompts:  87% 888/1024 [00:27<00:03, 34.66it/s, est. speed input: 0.00 toks/s, output: 0.00 toks/s]\n",
      "\u001b[Acessed prompts:  93% 955/1024 [00:28<00:01, 34.80it/s, est. speed input: 0.00 toks/s, output: 0.00 toks/s]\n",
      "Processed prompts: 100% 1024/1024 [00:29<00:00, 35.18it/s, est. speed input: 0.00 toks/s, output: 0.00 toks/s]\n",
      "\n",
      "\u001b[Acessed prompts:   0% 0/1024 [00:00<?, ?it/s, est. speed input: 0.00 toks/s, output: 0.00 toks/s]\n",
      "\u001b[Acessed prompts:   0% 1/1024 [00:01<32:40,  1.92s/it, est. speed input: 0.00 toks/s, output: 0.00 toks/s]\n",
      "\u001b[Acessed prompts:   7% 68/1024 [00:03<00:46, 20.62it/s, est. speed input: 0.00 toks/s, output: 0.00 toks/s]\n",
      "\u001b[Acessed prompts:  13% 134/1024 [00:05<00:33, 26.75it/s, est. speed input: 0.00 toks/s, output: 0.00 toks/s]\n",
      "\u001b[Acessed prompts:  20% 201/1024 [00:07<00:27, 29.81it/s, est. speed input: 0.00 toks/s, output: 0.00 toks/s]\n",
      "\u001b[Acessed prompts:  26% 270/1024 [00:09<00:23, 32.07it/s, est. speed input: 0.00 toks/s, output: 0.00 toks/s]\n",
      "\u001b[Acessed prompts:  33% 334/1024 [00:11<00:21, 32.59it/s, est. speed input: 0.00 toks/s, output: 0.00 toks/s]\n",
      "\u001b[Acessed prompts:  39% 402/1024 [00:13<00:18, 33.37it/s, est. speed input: 0.00 toks/s, output: 0.00 toks/s]\n",
      "\u001b[Acessed prompts:  46% 471/1024 [00:15<00:16, 34.24it/s, est. speed input: 0.00 toks/s, output: 0.00 toks/s]\n",
      "\u001b[Acessed prompts:  53% 538/1024 [00:17<00:14, 34.31it/s, est. speed input: 0.00 toks/s, output: 0.00 toks/s]\n",
      "\u001b[Acessed prompts:  59% 602/1024 [00:19<00:12, 33.99it/s, est. speed input: 0.00 toks/s, output: 0.00 toks/s]\n",
      "\u001b[Acessed prompts:  66% 672/1024 [00:21<00:10, 34.63it/s, est. speed input: 0.00 toks/s, output: 0.00 toks/s]\n",
      "\u001b[Acessed prompts:  72% 737/1024 [00:23<00:08, 34.35it/s, est. speed input: 0.00 toks/s, output: 0.00 toks/s]\n",
      "\u001b[Acessed prompts:  78% 802/1024 [00:25<00:06, 34.21it/s, est. speed input: 0.00 toks/s, output: 0.00 toks/s]\n",
      "\u001b[Acessed prompts:  85% 867/1024 [00:26<00:04, 34.09it/s, est. speed input: 0.00 toks/s, output: 0.00 toks/s]\n",
      "\u001b[Acessed prompts:  91% 933/1024 [00:28<00:02, 34.07it/s, est. speed input: 0.00 toks/s, output: 0.00 toks/s]\n",
      "Processed prompts: 100% 1024/1024 [00:29<00:00, 34.39it/s, est. speed input: 0.00 toks/s, output: 0.00 toks/s]\n",
      "\n",
      "\u001b[Acessed prompts:   0% 0/1024 [00:00<?, ?it/s, est. speed input: 0.00 toks/s, output: 0.00 toks/s]\n",
      "\u001b[Acessed prompts:   0% 1/1024 [00:01<32:26,  1.90s/it, est. speed input: 0.00 toks/s, output: 0.00 toks/s]\n",
      "\u001b[Acessed prompts:   7% 68/1024 [00:03<00:45, 20.99it/s, est. speed input: 0.00 toks/s, output: 0.00 toks/s]\n",
      "\u001b[Acessed prompts:  13% 136/1024 [00:05<00:32, 27.59it/s, est. speed input: 0.00 toks/s, output: 0.00 toks/s]\n",
      "\u001b[Acessed prompts:  20% 205/1024 [00:07<00:26, 30.73it/s, est. speed input: 0.00 toks/s, output: 0.00 toks/s]\n",
      "\u001b[Acessed prompts:  27% 272/1024 [00:09<00:23, 32.30it/s, est. speed input: 0.00 toks/s, output: 0.00 toks/s]\n",
      "\u001b[Acessed prompts:  33% 340/1024 [00:11<00:20, 33.33it/s, est. speed input: 0.00 toks/s, output: 0.00 toks/s]\n",
      "\u001b[Acessed prompts:  40% 408/1024 [00:13<00:18, 33.87it/s, est. speed input: 0.00 toks/s, output: 0.00 toks/s]\n",
      "\u001b[Acessed prompts:  46% 476/1024 [00:15<00:16, 34.23it/s, est. speed input: 0.00 toks/s, output: 0.00 toks/s]\n",
      "\u001b[Acessed prompts:  53% 545/1024 [00:17<00:13, 34.76it/s, est. speed input: 0.00 toks/s, output: 0.00 toks/s]\n",
      "\u001b[Acessed prompts:  60% 611/1024 [00:19<00:11, 34.66it/s, est. speed input: 0.00 toks/s, output: 0.00 toks/s]\n",
      "\u001b[Acessed prompts:  66% 679/1024 [00:21<00:09, 34.87it/s, est. speed input: 0.00 toks/s, output: 0.00 toks/s]\n",
      "\u001b[Acessed prompts:  73% 749/1024 [00:23<00:07, 35.35it/s, est. speed input: 0.00 toks/s, output: 0.00 toks/s]\n",
      "\u001b[Acessed prompts:  79% 814/1024 [00:25<00:06, 34.79it/s, est. speed input: 0.00 toks/s, output: 0.00 toks/s]\n",
      "\u001b[Acessed prompts:  86% 882/1024 [00:26<00:04, 34.84it/s, est. speed input: 0.00 toks/s, output: 0.00 toks/s]\n",
      "\u001b[Acessed prompts:  93% 950/1024 [00:28<00:02, 34.98it/s, est. speed input: 0.00 toks/s, output: 0.00 toks/s]\n",
      "Processed prompts: 100% 1024/1024 [00:29<00:00, 35.15it/s, est. speed input: 0.00 toks/s, output: 0.00 toks/s]\n"
     ]
    },
    {
     "name": "stdout",
     "output_type": "stream",
     "text": [
      "Kmeans with n_clusters=5120\n"
     ]
    },
    {
     "data": {
      "application/vnd.jupyter.widget-view+json": {
       "model_id": "fe0b381e46004a3d8de0973bc9774baf",
       "version_major": 2,
       "version_minor": 0
      },
      "text/plain": [
       "Map:   0%|          | 0/10240 [00:00<?, ? examples/s]"
      ]
     },
     "metadata": {},
     "output_type": "display_data"
    },
    {
     "name": "stdout",
     "output_type": "stream",
     "text": [
      "Dataset({\n",
      "    features: ['id', 'url', 'title', 'text', 'prefix', 'synthetic_content', 'judgement', 'accuracy_score', 'embedding', 'cluster_id'],\n",
      "    num_rows: 10240\n",
      "})\n"
     ]
    },
    {
     "data": {
      "application/vnd.jupyter.widget-view+json": {
       "model_id": "c868962231e242ed9e295eeec8290f58",
       "version_major": 2,
       "version_minor": 0
      },
      "text/plain": [
       "Uploading the dataset shards:   0%|          | 0/1 [00:00<?, ?it/s]"
      ]
     },
     "metadata": {},
     "output_type": "display_data"
    },
    {
     "data": {
      "application/vnd.jupyter.widget-view+json": {
       "model_id": "e0de4ee35850490ab5853ec9b046fdff",
       "version_major": 2,
       "version_minor": 0
      },
      "text/plain": [
       "Creating parquet from Arrow format:   0%|          | 0/11 [00:00<?, ?ba/s]"
      ]
     },
     "metadata": {},
     "output_type": "display_data"
    },
    {
     "data": {
      "application/vnd.jupyter.widget-view+json": {
       "model_id": "88cc69933e57474c96ecde0d26970530",
       "version_major": 2,
       "version_minor": 0
      },
      "text/plain": [
       "  0%|          | 0/1 [00:00<?, ?it/s]"
      ]
     },
     "metadata": {},
     "output_type": "display_data"
    },
    {
     "name": "stderr",
     "output_type": "stream",
     "text": [
      "/usr/local/lib/python3.10/dist-packages/huggingface_hub/lfs.py:337: UserWarning: hf_transfer is enabled but does not support uploading from bytes or BinaryIO, falling back to regular upload\n",
      "  warnings.warn(\n"
     ]
    },
    {
     "data": {
      "application/vnd.jupyter.widget-view+json": {
       "model_id": "fec6c11df43f4d38a509fc1a3813a289",
       "version_major": 2,
       "version_minor": 0
      },
      "text/plain": [
       "Filter:   0%|          | 0/10240 [00:00<?, ? examples/s]"
      ]
     },
     "metadata": {},
     "output_type": "display_data"
    },
    {
     "data": {
      "application/vnd.jupyter.widget-view+json": {
       "model_id": "53504218bb94405c8944d6c2ad8cb449",
       "version_major": 2,
       "version_minor": 0
      },
      "text/plain": [
       "Filter:   0%|          | 0/10240 [00:00<?, ? examples/s]"
      ]
     },
     "metadata": {},
     "output_type": "display_data"
    },
    {
     "name": "stdout",
     "output_type": "stream",
     "text": [
      "DatasetDict({\n",
      "    train: Dataset({\n",
      "        features: ['id', 'url', 'title', 'text', 'prefix', 'synthetic_content', 'judgement', 'accuracy_score'],\n",
      "        num_rows: 5120\n",
      "    })\n",
      "    test: Dataset({\n",
      "        features: ['id', 'url', 'title', 'text', 'prefix', 'synthetic_content', 'judgement', 'accuracy_score'],\n",
      "        num_rows: 5120\n",
      "    })\n",
      "})\n"
     ]
    },
    {
     "data": {
      "application/vnd.jupyter.widget-view+json": {
       "model_id": "41edf137c94747d6b7f9f335fc5345af",
       "version_major": 2,
       "version_minor": 0
      },
      "text/plain": [
       "Uploading the dataset shards:   0%|          | 0/1 [00:00<?, ?it/s]"
      ]
     },
     "metadata": {},
     "output_type": "display_data"
    },
    {
     "data": {
      "application/vnd.jupyter.widget-view+json": {
       "model_id": "8b74743dee3e4075ae748e2d8c721305",
       "version_major": 2,
       "version_minor": 0
      },
      "text/plain": [
       "Creating parquet from Arrow format:   0%|          | 0/6 [00:00<?, ?ba/s]"
      ]
     },
     "metadata": {},
     "output_type": "display_data"
    },
    {
     "data": {
      "application/vnd.jupyter.widget-view+json": {
       "model_id": "d4dec1a7460a457e86b74d2c75fe8039",
       "version_major": 2,
       "version_minor": 0
      },
      "text/plain": [
       "  0%|          | 0/1 [00:00<?, ?it/s]"
      ]
     },
     "metadata": {},
     "output_type": "display_data"
    },
    {
     "data": {
      "application/vnd.jupyter.widget-view+json": {
       "model_id": "c5af618cc3e04cf9a3f3f6ad8f566901",
       "version_major": 2,
       "version_minor": 0
      },
      "text/plain": [
       "Uploading the dataset shards:   0%|          | 0/1 [00:00<?, ?it/s]"
      ]
     },
     "metadata": {},
     "output_type": "display_data"
    },
    {
     "data": {
      "application/vnd.jupyter.widget-view+json": {
       "model_id": "10fbaa8ada8f4a8fbbad4801150b14ad",
       "version_major": 2,
       "version_minor": 0
      },
      "text/plain": [
       "Creating parquet from Arrow format:   0%|          | 0/6 [00:00<?, ?ba/s]"
      ]
     },
     "metadata": {},
     "output_type": "display_data"
    },
    {
     "data": {
      "application/vnd.jupyter.widget-view+json": {
       "model_id": "43e196b7b0374a28987ad71d3478deed",
       "version_major": 2,
       "version_minor": 0
      },
      "text/plain": [
       "  0%|          | 0/1 [00:00<?, ?it/s]"
      ]
     },
     "metadata": {},
     "output_type": "display_data"
    },
    {
     "name": "stdout",
     "output_type": "stream",
     "text": [
      "Sample from cluster: 0\n",
      "\n",
      "\n",
      "Deh-e Gowd, also known as Allahabad, Deh-e Gowda, Deh Goo, Deh-i-Gav, and Deh Ka'u, is a small village located in the Jazmurian Rural District, Jazmurian District, Rudbar-e Jonubi County, Kerman Province, Iran. As of the 2006 census, the village had a population of 413 people, comprising 92 families. The village is situated in a rural area, and its economy is likely based on agriculture and small-scale farming. The surrounding landscape is characterized by arid desert terrain, with limited vegetation and water resources. The village's remote location and limited access to modern amenities make it a challenging place to live, but the residents of Deh-e Gowd have adapted to the harsh environment and developed a unique culture and way of life. The village is part of the larger Rudbar-e Jonubi County, which is known for its rich history, cultural heritage, and natural beauty. The county is home to several other villages and towns, each with its own distinct character and charm. Deh-e Gowd is an important part of this cultural landscape, and its residents play a vital role in preserving the traditions and customs of the region. Despite its small size, the village has a significant impact on the local economy and community, and its residents are proud of their heritage and their contribution to the rich cultural tapestry of Rudbar-e Jonubi County. The village's history dates back to ancient times, and it has been an important center for trade and commerce in the region. The village is also home to several historical landmarks and cultural attractions, including ancient mosques, temples, and other architectural wonders. These landmarks are a testament to the village's rich cultural heritage and its importance in the region's history. Overall, Deh-e Gowd is a unique and fascinating village that offers a glimpse into the traditional way of life in rural Iran. Its rich cultural heritage, stunning natural beauty, and resilient residents make it a place of great interest and importance, and it continues to play a vital role in the cultural and economic landscape of Rudbar-e Jonubi County.\n",
      "\n",
      "-------\n",
      "\n",
      "\n",
      "Sample from cluster: 1\n",
      "\n",
      "\n",
      "Bostra fascialis is a species of snout moth in the genus Bostra. It was described by Warren in 1895. It is found in India, specifically in the Khasia Hills, which is a mountain range in the state of Meghalaya. The Khasia Hills are known for their rich biodiversity, and the region is home to a wide range of flora and fauna, including many species of moths.\n",
      "\n",
      "As a member of the genus Bostra, Bostra fascialis is part of a group of moths commonly known as snout moths. Snout moths are characterized by their distinctive snout-like protrusion on their palps, which are small, finger-like structures that protrude from their mouth. They are also known for their varied and often striking color patterns, which can range from dull browns and grays to bright oranges and yellows.\n",
      "\n",
      "Bostra fascialis is one of many species of moths that are found in Asia, a region that is home to a vast array of moth species. In fact, Asia is thought to be the most species-rich region for moths, with thousands of different species found throughout the continent. The Pyralini, a tribe of snout moths that includes the genus Bostra, is particularly diverse in Asia, with many species found in countries such as India, China, and Japan.\n",
      "\n",
      "Despite its interesting characteristics and unique distribution, Bostra fascialis is not well-studied, and much remains to be learned about its biology and ecology. However, as a species of moth that is found in a region of high conservation value, it is likely to be of interest to researchers and conservationists who are working to protect the rich biodiversity of the Khasia Hills and other parts of Asia.\n",
      "\n",
      "In terms of its classification, Bostra fascialis is part of the family Pyralidae, which is a large and diverse group of moths that includes many species of snout moths. The genus Bostra is thought to be most closely related to other genera in the tribe Pyralini, which includes a range of species that are found in Asia and other parts of the world. Further research is needed to fully understand the relationships between Bostra fascialis and other species of moths, but it is clear that this species is an important part of the rich and diverse world of moths.\n",
      "\n",
      "-------\n",
      "\n",
      "\n",
      "Sample from cluster: 2\n",
      "\n",
      "\n",
      "Fissurella pulchra is a species of sea snail, a marine gastropod mollusk in the family Fissurellidae, the keyhole limpets and slit limpets. The size of the shell attains 70 mm, making it a moderately sized species within its family. This marine species occurs off the coast of Chile, where it can be found in the coastal waters, likely inhabiting rocky shores and reefs. The species is part of the Fissurellidae family, which is characterized by their unique shell shape, featuring a keyhole or slit-like opening. Fissurella pulchra is one of many species within this family, and its specific characteristics, such as its shell size and shape, help to distinguish it from other related species. For those interested in learning more about Fissurella pulchra, there are several resources available, including the Biodiversity Heritage Library, which has published several papers on the species, and the World Register of Marine Species, which provides a comprehensive database of marine species, including Fissurella pulchra. Additionally, genetic information on the species can be found on GenBank, which provides access to nucleotide and protein sequences. Overall, Fissurella pulchra is an interesting and unique species that continues to be studied by malacologists and marine biologists, providing insights into the diversity of marine life off the coast of Chile.\n",
      "\n",
      "-------\n",
      "\n",
      "\n"
     ]
    },
    {
     "data": {
      "application/vnd.jupyter.widget-view+json": {
       "model_id": "3c7134c304bf45159540e8741046f21b",
       "version_major": 2,
       "version_minor": 0
      },
      "text/plain": [
       "Map:   0%|          | 0/10240 [00:00<?, ? examples/s]"
      ]
     },
     "metadata": {},
     "output_type": "display_data"
    },
    {
     "name": "stderr",
     "output_type": "stream",
     "text": [
      "\n",
      "\u001b[Acessed prompts:   0% 0/1024 [00:00<?, ?it/s, est. speed input: 0.00 toks/s, output: 0.00 toks/s]\n",
      "\u001b[Acessed prompts:   0% 1/1024 [00:01<33:07,  1.94s/it, est. speed input: 0.00 toks/s, output: 0.00 toks/s]\n",
      "\u001b[Acessed prompts:   4% 45/1024 [00:03<01:11, 13.62it/s, est. speed input: 0.00 toks/s, output: 0.00 toks/s]\n",
      "\u001b[Acessed prompts:   9% 91/1024 [00:05<00:50, 18.42it/s, est. speed input: 0.00 toks/s, output: 0.00 toks/s]\n",
      "\u001b[Acessed prompts:  14% 144/1024 [00:07<00:39, 22.03it/s, est. speed input: 0.00 toks/s, output: 0.00 toks/s]\n",
      "\u001b[Acessed prompts:  19% 196/1024 [00:09<00:34, 23.77it/s, est. speed input: 0.00 toks/s, output: 0.00 toks/s]\n",
      "\u001b[Acessed prompts:  25% 252/1024 [00:11<00:30, 25.48it/s, est. speed input: 0.00 toks/s, output: 0.00 toks/s]\n",
      "\u001b[Acessed prompts:  30% 308/1024 [00:13<00:26, 26.54it/s, est. speed input: 0.00 toks/s, output: 0.00 toks/s]\n",
      "\u001b[Acessed prompts:  35% 357/1024 [00:15<00:25, 26.19it/s, est. speed input: 0.00 toks/s, output: 0.00 toks/s]\n",
      "\u001b[Acessed prompts:  40% 408/1024 [00:17<00:22, 26.99it/s, est. speed input: 0.00 toks/s, output: 0.00 toks/s]\n",
      "\u001b[Acessed prompts:  44% 452/1024 [00:19<00:22, 25.41it/s, est. speed input: 0.00 toks/s, output: 0.00 toks/s]\n",
      "\u001b[Acessed prompts:  48% 494/1024 [00:21<00:22, 24.08it/s, est. speed input: 0.00 toks/s, output: 0.00 toks/s]\n",
      "\u001b[Acessed prompts:  53% 538/1024 [00:23<00:20, 23.71it/s, est. speed input: 0.00 toks/s, output: 0.00 toks/s]\n",
      "\u001b[Acessed prompts:  58% 595/1024 [00:25<00:16, 25.47it/s, est. speed input: 0.00 toks/s, output: 0.00 toks/s]\n",
      "\u001b[Acessed prompts:  63% 649/1024 [00:26<00:14, 26.17it/s, est. speed input: 0.00 toks/s, output: 0.00 toks/s]\n",
      "\u001b[Acessed prompts:  69% 709/1024 [00:28<00:11, 27.58it/s, est. speed input: 0.00 toks/s, output: 0.00 toks/s]\n",
      "\u001b[Acessed prompts:  75% 766/1024 [00:30<00:09, 28.24it/s, est. speed input: 0.00 toks/s, output: 0.00 toks/s]\n",
      "\u001b[Acessed prompts:  79% 814/1024 [00:32<00:07, 27.43it/s, est. speed input: 0.00 toks/s, output: 0.00 toks/s]\n",
      "\u001b[Acessed prompts:  84% 859/1024 [00:34<00:06, 26.06it/s, est. speed input: 0.00 toks/s, output: 0.00 toks/s]\n",
      "\u001b[Acessed prompts:  89% 909/1024 [00:36<00:04, 25.72it/s, est. speed input: 0.00 toks/s, output: 0.00 toks/s]\n",
      "\u001b[Acessed prompts:  93% 952/1024 [00:38<00:02, 24.67it/s, est. speed input: 0.00 toks/s, output: 0.00 toks/s]\n",
      "Processed prompts: 100% 1024/1024 [00:39<00:00, 25.99it/s, est. speed input: 0.00 toks/s, output: 0.00 toks/s]\n",
      "\n",
      "\u001b[Acessed prompts:   0% 0/1024 [00:00<?, ?it/s, est. speed input: 0.00 toks/s, output: 0.00 toks/s]\n",
      "\u001b[Acessed prompts:   0% 1/1024 [00:01<33:07,  1.94s/it, est. speed input: 0.00 toks/s, output: 0.00 toks/s]\n",
      "\u001b[Acessed prompts:   5% 53/1024 [00:03<00:59, 16.38it/s, est. speed input: 0.00 toks/s, output: 0.00 toks/s]\n",
      "\u001b[Acessed prompts:  10% 105/1024 [00:05<00:44, 20.89it/s, est. speed input: 0.00 toks/s, output: 0.00 toks/s]\n",
      "\u001b[Acessed prompts:  14% 146/1024 [00:07<00:42, 20.72it/s, est. speed input: 0.00 toks/s, output: 0.00 toks/s]\n",
      "\u001b[Acessed prompts:  18% 187/1024 [00:09<00:40, 20.75it/s, est. speed input: 0.00 toks/s, output: 0.00 toks/s]\n",
      "\u001b[Acessed prompts:  22% 230/1024 [00:11<00:37, 21.25it/s, est. speed input: 0.00 toks/s, output: 0.00 toks/s]\n",
      "\u001b[Acessed prompts:  28% 282/1024 [00:13<00:32, 23.11it/s, est. speed input: 0.00 toks/s, output: 0.00 toks/s]\n",
      "\u001b[Acessed prompts:  33% 336/1024 [00:15<00:28, 24.55it/s, est. speed input: 0.00 toks/s, output: 0.00 toks/s]\n",
      "\u001b[Acessed prompts:  38% 389/1024 [00:17<00:25, 25.35it/s, est. speed input: 0.00 toks/s, output: 0.00 toks/s]\n",
      "\u001b[Acessed prompts:  43% 443/1024 [00:19<00:22, 26.04it/s, est. speed input: 0.00 toks/s, output: 0.00 toks/s]\n",
      "\u001b[Acessed prompts:  48% 492/1024 [00:21<00:20, 25.82it/s, est. speed input: 0.00 toks/s, output: 0.00 toks/s]\n",
      "\u001b[Acessed prompts:  53% 546/1024 [00:23<00:18, 26.49it/s, est. speed input: 0.00 toks/s, output: 0.00 toks/s]\n",
      "\u001b[Acessed prompts:  59% 600/1024 [00:25<00:15, 27.03it/s, est. speed input: 0.00 toks/s, output: 0.00 toks/s]\n",
      "\u001b[Acessed prompts:  64% 652/1024 [00:27<00:13, 27.00it/s, est. speed input: 0.00 toks/s, output: 0.00 toks/s]\n",
      "\u001b[Acessed prompts:  69% 708/1024 [00:29<00:11, 27.70it/s, est. speed input: 0.00 toks/s, output: 0.00 toks/s]\n",
      "\u001b[Acessed prompts:  74% 757/1024 [00:31<00:10, 26.56it/s, est. speed input: 0.00 toks/s, output: 0.00 toks/s]\n",
      "\u001b[Acessed prompts:  77% 787/1024 [00:33<00:10, 23.21it/s, est. speed input: 0.00 toks/s, output: 0.00 toks/s]\n",
      "\u001b[Acessed prompts:  82% 839/1024 [00:35<00:07, 24.30it/s, est. speed input: 0.00 toks/s, output: 0.00 toks/s]\n",
      "\u001b[Acessed prompts:  87% 893/1024 [00:37<00:05, 25.17it/s, est. speed input: 0.00 toks/s, output: 0.00 toks/s]\n",
      "\u001b[Acessed prompts:  92% 940/1024 [00:38<00:03, 24.82it/s, est. speed input: 0.00 toks/s, output: 0.00 toks/s]\n",
      "Processed prompts: 100% 1024/1024 [00:40<00:00, 25.58it/s, est. speed input: 0.00 toks/s, output: 0.00 toks/s]\n",
      "\n",
      "\u001b[Acessed prompts:   0% 0/1024 [00:00<?, ?it/s, est. speed input: 0.00 toks/s, output: 0.00 toks/s]\n",
      "\u001b[Acessed prompts:   0% 1/1024 [00:01<32:31,  1.91s/it, est. speed input: 0.00 toks/s, output: 0.00 toks/s]\n",
      "\u001b[Acessed prompts:   6% 57/1024 [00:03<00:56, 17.26it/s, est. speed input: 0.00 toks/s, output: 0.00 toks/s]\n",
      "\u001b[Acessed prompts:  11% 114/1024 [00:05<00:39, 22.81it/s, est. speed input: 0.00 toks/s, output: 0.00 toks/s]\n",
      "\u001b[Acessed prompts:  17% 170/1024 [00:07<00:33, 25.27it/s, est. speed input: 0.00 toks/s, output: 0.00 toks/s]\n",
      "\u001b[Acessed prompts:  22% 229/1024 [00:09<00:29, 27.22it/s, est. speed input: 0.00 toks/s, output: 0.00 toks/s]\n",
      "\u001b[Acessed prompts:  27% 279/1024 [00:11<00:27, 26.74it/s, est. speed input: 0.00 toks/s, output: 0.00 toks/s]\n",
      "\u001b[Acessed prompts:  32% 330/1024 [00:13<00:26, 26.48it/s, est. speed input: 0.00 toks/s, output: 0.00 toks/s]\n",
      "\u001b[Acessed prompts:  37% 380/1024 [00:15<00:24, 26.20it/s, est. speed input: 0.00 toks/s, output: 0.00 toks/s]\n",
      "\u001b[Acessed prompts:  42% 433/1024 [00:17<00:22, 26.42it/s, est. speed input: 0.00 toks/s, output: 0.00 toks/s]\n",
      "\u001b[Acessed prompts:  47% 477/1024 [00:19<00:21, 25.20it/s, est. speed input: 0.00 toks/s, output: 0.00 toks/s]\n",
      "\u001b[Acessed prompts:  52% 530/1024 [00:21<00:18, 26.13it/s, est. speed input: 0.00 toks/s, output: 0.00 toks/s]\n",
      "\u001b[Acessed prompts:  56% 575/1024 [00:23<00:17, 25.45it/s, est. speed input: 0.00 toks/s, output: 0.00 toks/s]\n",
      "\u001b[Acessed prompts:  60% 611/1024 [00:25<00:17, 23.17it/s, est. speed input: 0.00 toks/s, output: 0.00 toks/s]\n",
      "\u001b[Acessed prompts:  64% 659/1024 [00:27<00:15, 23.58it/s, est. speed input: 0.00 toks/s, output: 0.00 toks/s]\n",
      "\u001b[Acessed prompts:  69% 707/1024 [00:29<00:13, 23.94it/s, est. speed input: 0.00 toks/s, output: 0.00 toks/s]\n",
      "\u001b[Acessed prompts:  74% 759/1024 [00:31<00:10, 24.70it/s, est. speed input: 0.00 toks/s, output: 0.00 toks/s]\n",
      "\u001b[Acessed prompts:  79% 810/1024 [00:32<00:08, 25.12it/s, est. speed input: 0.00 toks/s, output: 0.00 toks/s]\n",
      "\u001b[Acessed prompts:  84% 856/1024 [00:34<00:06, 24.71it/s, est. speed input: 0.00 toks/s, output: 0.00 toks/s]\n",
      "\u001b[Acessed prompts:  89% 911/1024 [00:36<00:04, 25.75it/s, est. speed input: 0.00 toks/s, output: 0.00 toks/s]\n",
      "\u001b[Acessed prompts:  95% 969/1024 [00:38<00:02, 27.03it/s, est. speed input: 0.00 toks/s, output: 0.00 toks/s]\n",
      "Processed prompts: 100% 1024/1024 [00:39<00:00, 26.23it/s, est. speed input: 0.00 toks/s, output: 0.00 toks/s]\n",
      "\n",
      "\u001b[Acessed prompts:   0% 0/1024 [00:00<?, ?it/s, est. speed input: 0.00 toks/s, output: 0.00 toks/s]\n",
      "\u001b[Acessed prompts:   0% 1/1024 [00:01<33:17,  1.95s/it, est. speed input: 0.00 toks/s, output: 0.00 toks/s]\n",
      "\u001b[Acessed prompts:   6% 59/1024 [00:03<00:55, 17.40it/s, est. speed input: 0.00 toks/s, output: 0.00 toks/s]\n",
      "\u001b[Acessed prompts:  10% 102/1024 [00:05<00:46, 19.65it/s, est. speed input: 0.00 toks/s, output: 0.00 toks/s]\n",
      "\u001b[Acessed prompts:  15% 154/1024 [00:07<00:38, 22.42it/s, est. speed input: 0.00 toks/s, output: 0.00 toks/s]\n",
      "\u001b[Acessed prompts:  20% 200/1024 [00:09<00:36, 22.80it/s, est. speed input: 0.00 toks/s, output: 0.00 toks/s]\n",
      "\u001b[Acessed prompts:  24% 250/1024 [00:11<00:32, 23.80it/s, est. speed input: 0.00 toks/s, output: 0.00 toks/s]\n",
      "\u001b[Acessed prompts:  29% 298/1024 [00:13<00:30, 24.03it/s, est. speed input: 0.00 toks/s, output: 0.00 toks/s]\n",
      "\u001b[Acessed prompts:  34% 350/1024 [00:15<00:27, 24.91it/s, est. speed input: 0.00 toks/s, output: 0.00 toks/s]\n",
      "\u001b[Acessed prompts:  39% 401/1024 [00:17<00:24, 25.38it/s, est. speed input: 0.00 toks/s, output: 0.00 toks/s]\n",
      "\u001b[Acessed prompts:  44% 455/1024 [00:19<00:21, 26.07it/s, est. speed input: 0.00 toks/s, output: 0.00 toks/s]\n",
      "\u001b[Acessed prompts:  50% 507/1024 [00:21<00:19, 26.01it/s, est. speed input: 0.00 toks/s, output: 0.00 toks/s]\n",
      "\u001b[Acessed prompts:  54% 549/1024 [00:23<00:19, 24.71it/s, est. speed input: 0.00 toks/s, output: 0.00 toks/s]\n",
      "\u001b[Acessed prompts:  59% 602/1024 [00:25<00:16, 25.31it/s, est. speed input: 0.00 toks/s, output: 0.00 toks/s]\n",
      "\u001b[Acessed prompts:  64% 652/1024 [00:27<00:14, 25.19it/s, est. speed input: 0.00 toks/s, output: 0.00 toks/s]\n",
      "\u001b[Acessed prompts:  68% 696/1024 [00:29<00:13, 24.33it/s, est. speed input: 0.00 toks/s, output: 0.00 toks/s]\n",
      "\u001b[Acessed prompts:  72% 738/1024 [00:31<00:12, 23.57it/s, est. speed input: 0.00 toks/s, output: 0.00 toks/s]\n",
      "\u001b[Acessed prompts:  77% 789/1024 [00:33<00:09, 24.41it/s, est. speed input: 0.00 toks/s, output: 0.00 toks/s]\n",
      "\u001b[Acessed prompts:  82% 842/1024 [00:35<00:07, 25.23it/s, est. speed input: 0.00 toks/s, output: 0.00 toks/s]\n",
      "\u001b[Acessed prompts:  88% 896/1024 [00:37<00:04, 25.95it/s, est. speed input: 0.00 toks/s, output: 0.00 toks/s]\n",
      "\u001b[Acessed prompts:  92% 945/1024 [00:39<00:03, 25.82it/s, est. speed input: 0.00 toks/s, output: 0.00 toks/s]\n",
      "Processed prompts: 100% 1024/1024 [00:40<00:00, 25.45it/s, est. speed input: 0.00 toks/s, output: 0.00 toks/s]\n",
      "\n",
      "\u001b[Acessed prompts:   0% 0/1024 [00:00<?, ?it/s, est. speed input: 0.00 toks/s, output: 0.00 toks/s]\n",
      "\u001b[Acessed prompts:   0% 1/1024 [00:01<33:38,  1.97s/it, est. speed input: 0.00 toks/s, output: 0.00 toks/s]\n",
      "\u001b[Acessed prompts:   4% 46/1024 [00:03<01:10, 13.81it/s, est. speed input: 0.00 toks/s, output: 0.00 toks/s]\n",
      "\u001b[Acessed prompts:  10% 100/1024 [00:05<00:45, 20.13it/s, est. speed input: 0.00 toks/s, output: 0.00 toks/s]\n",
      "\u001b[Acessed prompts:  15% 153/1024 [00:07<00:38, 22.74it/s, est. speed input: 0.00 toks/s, output: 0.00 toks/s]\n",
      "\u001b[Acessed prompts:  19% 197/1024 [00:09<00:36, 22.76it/s, est. speed input: 0.00 toks/s, output: 0.00 toks/s]\n",
      "\u001b[Acessed prompts:  25% 252/1024 [00:11<00:31, 24.47it/s, est. speed input: 0.00 toks/s, output: 0.00 toks/s]\n",
      "\u001b[Acessed prompts:  29% 301/1024 [00:13<00:29, 24.88it/s, est. speed input: 0.00 toks/s, output: 0.00 toks/s]\n",
      "\u001b[Acessed prompts:  35% 358/1024 [00:15<00:25, 26.04it/s, est. speed input: 0.00 toks/s, output: 0.00 toks/s]\n",
      "\u001b[Acessed prompts:  39% 400/1024 [00:17<00:25, 24.51it/s, est. speed input: 0.00 toks/s, output: 0.00 toks/s]\n",
      "\u001b[Acessed prompts:  44% 451/1024 [00:19<00:22, 25.03it/s, est. speed input: 0.00 toks/s, output: 0.00 toks/s]\n",
      "\u001b[Acessed prompts:  49% 501/1024 [00:21<00:20, 25.26it/s, est. speed input: 0.00 toks/s, output: 0.00 toks/s]\n",
      "\u001b[Acessed prompts:  54% 554/1024 [00:23<00:18, 25.84it/s, est. speed input: 0.00 toks/s, output: 0.00 toks/s]\n",
      "\u001b[Acessed prompts:  59% 606/1024 [00:25<00:15, 26.14it/s, est. speed input: 0.00 toks/s, output: 0.00 toks/s]\n",
      "\u001b[Acessed prompts:  65% 662/1024 [00:27<00:13, 27.14it/s, est. speed input: 0.00 toks/s, output: 0.00 toks/s]\n",
      "\u001b[Acessed prompts:  69% 711/1024 [00:29<00:11, 26.59it/s, est. speed input: 0.00 toks/s, output: 0.00 toks/s]\n",
      "\u001b[Acessed prompts:  75% 765/1024 [00:31<00:09, 26.98it/s, est. speed input: 0.00 toks/s, output: 0.00 toks/s]\n",
      "\u001b[Acessed prompts:  80% 819/1024 [00:33<00:07, 27.19it/s, est. speed input: 0.00 toks/s, output: 0.00 toks/s]\n",
      "\u001b[Acessed prompts:  84% 862/1024 [00:35<00:06, 25.72it/s, est. speed input: 0.00 toks/s, output: 0.00 toks/s]\n",
      "\u001b[Acessed prompts:  89% 915/1024 [00:37<00:04, 26.02it/s, est. speed input: 0.00 toks/s, output: 0.00 toks/s]\n",
      "\u001b[Acessed prompts:  94% 963/1024 [00:39<00:02, 25.51it/s, est. speed input: 0.00 toks/s, output: 0.00 toks/s]\n",
      "Processed prompts: 100% 1024/1024 [00:39<00:00, 25.75it/s, est. speed input: 0.00 toks/s, output: 0.00 toks/s]\n",
      "\n",
      "\u001b[Acessed prompts:   0% 0/1024 [00:00<?, ?it/s, est. speed input: 0.00 toks/s, output: 0.00 toks/s]\n",
      "\u001b[Acessed prompts:   0% 1/1024 [00:01<33:47,  1.98s/it, est. speed input: 0.00 toks/s, output: 0.00 toks/s]\n",
      "\u001b[Acessed prompts:   4% 46/1024 [00:03<01:11, 13.65it/s, est. speed input: 0.00 toks/s, output: 0.00 toks/s]\n",
      "\u001b[Acessed prompts:   9% 94/1024 [00:05<00:49, 18.68it/s, est. speed input: 0.00 toks/s, output: 0.00 toks/s]\n",
      "\u001b[Acessed prompts:  14% 143/1024 [00:07<00:41, 21.08it/s, est. speed input: 0.00 toks/s, output: 0.00 toks/s]\n",
      "\u001b[Acessed prompts:  19% 193/1024 [00:09<00:36, 22.78it/s, est. speed input: 0.00 toks/s, output: 0.00 toks/s]\n",
      "\u001b[Acessed prompts:  24% 248/1024 [00:11<00:31, 24.62it/s, est. speed input: 0.00 toks/s, output: 0.00 toks/s]\n",
      "\u001b[Acessed prompts:  29% 302/1024 [00:13<00:28, 25.47it/s, est. speed input: 0.00 toks/s, output: 0.00 toks/s]\n",
      "\u001b[Acessed prompts:  34% 349/1024 [00:15<00:26, 25.01it/s, est. speed input: 0.00 toks/s, output: 0.00 toks/s]\n",
      "\u001b[Acessed prompts:  40% 406/1024 [00:17<00:23, 26.18it/s, est. speed input: 0.00 toks/s, output: 0.00 toks/s]\n",
      "\u001b[Acessed prompts:  45% 456/1024 [00:19<00:21, 26.01it/s, est. speed input: 0.00 toks/s, output: 0.00 toks/s]\n",
      "\u001b[Acessed prompts:  50% 510/1024 [00:21<00:19, 26.49it/s, est. speed input: 0.00 toks/s, output: 0.00 toks/s]\n",
      "\u001b[Acessed prompts:  54% 558/1024 [00:23<00:17, 26.01it/s, est. speed input: 0.00 toks/s, output: 0.00 toks/s]\n",
      "\u001b[Acessed prompts:  60% 611/1024 [00:25<00:15, 26.67it/s, est. speed input: 0.00 toks/s, output: 0.00 toks/s]\n",
      "\u001b[Acessed prompts:  65% 661/1024 [00:27<00:13, 26.38it/s, est. speed input: 0.00 toks/s, output: 0.00 toks/s]\n",
      "\u001b[Acessed prompts:  69% 709/1024 [00:29<00:11, 26.60it/s, est. speed input: 0.00 toks/s, output: 0.00 toks/s]\n",
      "\u001b[Acessed prompts:  74% 761/1024 [00:31<00:09, 26.44it/s, est. speed input: 0.00 toks/s, output: 0.00 toks/s]\n",
      "\u001b[Acessed prompts:  79% 805/1024 [00:33<00:08, 25.23it/s, est. speed input: 0.00 toks/s, output: 0.00 toks/s]\n",
      "\u001b[Acessed prompts:  83% 852/1024 [00:35<00:06, 24.86it/s, est. speed input: 0.00 toks/s, output: 0.00 toks/s]\n",
      "\u001b[Acessed prompts:  88% 906/1024 [00:36<00:04, 25.65it/s, est. speed input: 0.00 toks/s, output: 0.00 toks/s]\n",
      "\u001b[Acessed prompts:  93% 949/1024 [00:38<00:03, 24.62it/s, est. speed input: 0.00 toks/s, output: 0.00 toks/s]\n",
      "Processed prompts: 100% 1024/1024 [00:39<00:00, 25.86it/s, est. speed input: 0.00 toks/s, output: 0.00 toks/s]\n",
      "\n",
      "\u001b[Acessed prompts:   0% 0/1024 [00:00<?, ?it/s, est. speed input: 0.00 toks/s, output: 0.00 toks/s]\n",
      "\u001b[Acessed prompts:   0% 1/1024 [00:01<33:45,  1.98s/it, est. speed input: 0.00 toks/s, output: 0.00 toks/s]\n",
      "\u001b[Acessed prompts:   4% 42/1024 [00:03<01:18, 12.55it/s, est. speed input: 0.00 toks/s, output: 0.00 toks/s]\n",
      "\u001b[Acessed prompts:   9% 94/1024 [00:05<00:48, 19.16it/s, est. speed input: 0.00 toks/s, output: 0.00 toks/s]\n",
      "\u001b[Acessed prompts:  14% 147/1024 [00:07<00:39, 22.18it/s, est. speed input: 0.00 toks/s, output: 0.00 toks/s]\n",
      "\u001b[Acessed prompts:  19% 192/1024 [00:09<00:36, 22.55it/s, est. speed input: 0.00 toks/s, output: 0.00 toks/s]\n",
      "\u001b[Acessed prompts:  24% 242/1024 [00:11<00:32, 23.77it/s, est. speed input: 0.00 toks/s, output: 0.00 toks/s]\n",
      "\u001b[Acessed prompts:  29% 300/1024 [00:13<00:28, 25.69it/s, est. speed input: 0.00 toks/s, output: 0.00 toks/s]\n",
      "\u001b[Acessed prompts:  34% 351/1024 [00:15<00:26, 25.60it/s, est. speed input: 0.00 toks/s, output: 0.00 toks/s]\n",
      "\u001b[Acessed prompts:  38% 391/1024 [00:17<00:26, 23.99it/s, est. speed input: 0.00 toks/s, output: 0.00 toks/s]\n",
      "\u001b[Acessed prompts:  43% 441/1024 [00:19<00:23, 24.64it/s, est. speed input: 0.00 toks/s, output: 0.00 toks/s]\n",
      "\u001b[Acessed prompts:  48% 489/1024 [00:21<00:21, 24.69it/s, est. speed input: 0.00 toks/s, output: 0.00 toks/s]\n",
      "\u001b[Acessed prompts:  52% 535/1024 [00:23<00:20, 24.39it/s, est. speed input: 0.00 toks/s, output: 0.00 toks/s]\n",
      "\u001b[Acessed prompts:  57% 582/1024 [00:25<00:18, 24.38it/s, est. speed input: 0.00 toks/s, output: 0.00 toks/s]\n",
      "\u001b[Acessed prompts:  62% 640/1024 [00:27<00:14, 26.08it/s, est. speed input: 0.00 toks/s, output: 0.00 toks/s]\n",
      "\u001b[Acessed prompts:  67% 690/1024 [00:28<00:12, 26.83it/s, est. speed input: 0.00 toks/s, output: 0.00 toks/s]\n",
      "\u001b[Acessed prompts:  72% 734/1024 [00:30<00:11, 25.36it/s, est. speed input: 0.00 toks/s, output: 0.00 toks/s]\n",
      "\u001b[Acessed prompts:  76% 780/1024 [00:32<00:09, 24.86it/s, est. speed input: 0.00 toks/s, output: 0.00 toks/s]\n",
      "\u001b[Acessed prompts:  81% 828/1024 [00:34<00:07, 24.86it/s, est. speed input: 0.00 toks/s, output: 0.00 toks/s]\n",
      "\u001b[Acessed prompts:  86% 880/1024 [00:36<00:05, 25.39it/s, est. speed input: 0.00 toks/s, output: 0.00 toks/s]\n",
      "\u001b[Acessed prompts:  91% 936/1024 [00:38<00:03, 26.34it/s, est. speed input: 0.00 toks/s, output: 0.00 toks/s]\n",
      "Processed prompts: 100% 1024/1024 [00:40<00:00, 25.24it/s, est. speed input: 0.00 toks/s, output: 0.00 toks/s]\n",
      "\n",
      "\u001b[Acessed prompts:   0% 0/1024 [00:00<?, ?it/s, est. speed input: 0.00 toks/s, output: 0.00 toks/s]\n",
      "\u001b[Acessed prompts:   0% 1/1024 [00:01<33:08,  1.94s/it, est. speed input: 0.00 toks/s, output: 0.00 toks/s]\n",
      "\u001b[Acessed prompts:   5% 52/1024 [00:03<01:02, 15.57it/s, est. speed input: 0.00 toks/s, output: 0.00 toks/s]\n",
      "\u001b[Acessed prompts:  10% 99/1024 [00:05<00:47, 19.34it/s, est. speed input: 0.00 toks/s, output: 0.00 toks/s]\n",
      "\u001b[Acessed prompts:  14% 147/1024 [00:07<00:40, 21.47it/s, est. speed input: 0.00 toks/s, output: 0.00 toks/s]\n",
      "\u001b[Acessed prompts:  20% 200/1024 [00:09<00:35, 23.37it/s, est. speed input: 0.00 toks/s, output: 0.00 toks/s]\n",
      "\u001b[Acessed prompts:  24% 246/1024 [00:11<00:33, 23.53it/s, est. speed input: 0.00 toks/s, output: 0.00 toks/s]\n",
      "\u001b[Acessed prompts:  29% 301/1024 [00:13<00:28, 25.07it/s, est. speed input: 0.00 toks/s, output: 0.00 toks/s]\n",
      "\u001b[Acessed prompts:  34% 350/1024 [00:15<00:26, 25.15it/s, est. speed input: 0.00 toks/s, output: 0.00 toks/s]\n",
      "\u001b[Acessed prompts:  40% 405/1024 [00:17<00:23, 26.22it/s, est. speed input: 0.00 toks/s, output: 0.00 toks/s]\n",
      "\u001b[Acessed prompts:  44% 454/1024 [00:19<00:22, 25.90it/s, est. speed input: 0.00 toks/s, output: 0.00 toks/s]\n",
      "\u001b[Acessed prompts:  49% 500/1024 [00:21<00:20, 25.18it/s, est. speed input: 0.00 toks/s, output: 0.00 toks/s]\n",
      "\u001b[Acessed prompts:  54% 553/1024 [00:23<00:18, 25.77it/s, est. speed input: 0.00 toks/s, output: 0.00 toks/s]\n",
      "\u001b[Acessed prompts:  59% 605/1024 [00:25<00:16, 26.02it/s, est. speed input: 0.00 toks/s, output: 0.00 toks/s]\n",
      "\u001b[Acessed prompts:  64% 654/1024 [00:27<00:14, 25.61it/s, est. speed input: 0.00 toks/s, output: 0.00 toks/s]\n",
      "\u001b[Acessed prompts:  68% 698/1024 [00:29<00:13, 24.74it/s, est. speed input: 0.00 toks/s, output: 0.00 toks/s]\n",
      "\u001b[Acessed prompts:  73% 745/1024 [00:31<00:11, 24.41it/s, est. speed input: 0.00 toks/s, output: 0.00 toks/s]\n",
      "\u001b[Acessed prompts:  77% 784/1024 [00:33<00:10, 23.18it/s, est. speed input: 0.00 toks/s, output: 0.00 toks/s]\n",
      "\u001b[Acessed prompts:  81% 834/1024 [00:35<00:07, 23.93it/s, est. speed input: 0.00 toks/s, output: 0.00 toks/s]\n",
      "\u001b[Acessed prompts:  86% 884/1024 [00:36<00:05, 25.32it/s, est. speed input: 0.00 toks/s, output: 0.00 toks/s]\n",
      "\u001b[Acessed prompts:  91% 932/1024 [00:38<00:03, 25.03it/s, est. speed input: 0.00 toks/s, output: 0.00 toks/s]\n",
      "\u001b[Acessed prompts:  95% 974/1024 [00:40<00:02, 24.03it/s, est. speed input: 0.00 toks/s, output: 0.00 toks/s]\n",
      "Processed prompts: 100% 1024/1024 [00:40<00:00, 25.04it/s, est. speed input: 0.00 toks/s, output: 0.00 toks/s]\n",
      "\n",
      "\u001b[Acessed prompts:   0% 0/1024 [00:00<?, ?it/s, est. speed input: 0.00 toks/s, output: 0.00 toks/s]\n",
      "\u001b[Acessed prompts:   0% 1/1024 [00:01<33:44,  1.98s/it, est. speed input: 0.00 toks/s, output: 0.00 toks/s]\n",
      "\u001b[Acessed prompts:   5% 47/1024 [00:03<01:09, 14.14it/s, est. speed input: 0.00 toks/s, output: 0.00 toks/s]\n",
      "\u001b[Acessed prompts:  10% 100/1024 [00:05<00:46, 20.04it/s, est. speed input: 0.00 toks/s, output: 0.00 toks/s]\n",
      "\u001b[Acessed prompts:  14% 146/1024 [00:07<00:40, 21.43it/s, est. speed input: 0.00 toks/s, output: 0.00 toks/s]\n",
      "\u001b[Acessed prompts:  20% 202/1024 [00:09<00:34, 23.99it/s, est. speed input: 0.00 toks/s, output: 0.00 toks/s]\n",
      "\u001b[Acessed prompts:  24% 250/1024 [00:11<00:31, 24.20it/s, est. speed input: 0.00 toks/s, output: 0.00 toks/s]\n",
      "\u001b[Acessed prompts:  29% 301/1024 [00:13<00:29, 24.80it/s, est. speed input: 0.00 toks/s, output: 0.00 toks/s]\n",
      "\u001b[Acessed prompts:  34% 351/1024 [00:15<00:26, 25.03it/s, est. speed input: 0.00 toks/s, output: 0.00 toks/s]\n",
      "\u001b[Acessed prompts:  39% 403/1024 [00:17<00:24, 25.60it/s, est. speed input: 0.00 toks/s, output: 0.00 toks/s]\n",
      "\u001b[Acessed prompts:  44% 455/1024 [00:19<00:21, 25.86it/s, est. speed input: 0.00 toks/s, output: 0.00 toks/s]\n",
      "\u001b[Acessed prompts:  49% 500/1024 [00:21<00:20, 24.99it/s, est. speed input: 0.00 toks/s, output: 0.00 toks/s]\n",
      "\u001b[Acessed prompts:  54% 549/1024 [00:23<00:18, 25.11it/s, est. speed input: 0.00 toks/s, output: 0.00 toks/s]\n",
      "\u001b[Acessed prompts:  59% 600/1024 [00:25<00:16, 25.50it/s, est. speed input: 0.00 toks/s, output: 0.00 toks/s]\n",
      "\u001b[Acessed prompts:  64% 658/1024 [00:27<00:13, 26.90it/s, est. speed input: 0.00 toks/s, output: 0.00 toks/s]\n",
      "\u001b[Acessed prompts:  69% 711/1024 [00:29<00:11, 26.94it/s, est. speed input: 0.00 toks/s, output: 0.00 toks/s]\n",
      "\u001b[Acessed prompts:  75% 765/1024 [00:31<00:09, 27.13it/s, est. speed input: 0.00 toks/s, output: 0.00 toks/s]\n",
      "\u001b[Acessed prompts:  79% 814/1024 [00:33<00:07, 26.33it/s, est. speed input: 0.00 toks/s, output: 0.00 toks/s]\n",
      "\u001b[Acessed prompts:  83% 854/1024 [00:35<00:06, 24.65it/s, est. speed input: 0.00 toks/s, output: 0.00 toks/s]\n",
      "\u001b[Acessed prompts:  89% 909/1024 [00:37<00:04, 25.76it/s, est. speed input: 0.00 toks/s, output: 0.00 toks/s]\n",
      "\u001b[Acessed prompts:  94% 960/1024 [00:39<00:02, 25.85it/s, est. speed input: 0.00 toks/s, output: 0.00 toks/s]\n",
      "Processed prompts: 100% 1024/1024 [00:39<00:00, 25.76it/s, est. speed input: 0.00 toks/s, output: 0.00 toks/s]\n",
      "\n",
      "\u001b[Acessed prompts:   0% 0/1024 [00:00<?, ?it/s, est. speed input: 0.00 toks/s, output: 0.00 toks/s]\n",
      "\u001b[Acessed prompts:   0% 1/1024 [00:01<33:23,  1.96s/it, est. speed input: 0.00 toks/s, output: 0.00 toks/s]\n",
      "\u001b[Acessed prompts:   4% 45/1024 [00:03<01:07, 14.40it/s, est. speed input: 0.00 toks/s, output: 0.00 toks/s]\n",
      "\u001b[Acessed prompts:   9% 96/1024 [00:05<00:46, 19.91it/s, est. speed input: 0.00 toks/s, output: 0.00 toks/s]\n",
      "\u001b[Acessed prompts:  14% 140/1024 [00:07<00:40, 21.84it/s, est. speed input: 0.00 toks/s, output: 0.00 toks/s]\n",
      "\u001b[Acessed prompts:  18% 188/1024 [00:09<00:36, 22.72it/s, est. speed input: 0.00 toks/s, output: 0.00 toks/s]\n",
      "\u001b[Acessed prompts:  23% 234/1024 [00:11<00:33, 23.86it/s, est. speed input: 0.00 toks/s, output: 0.00 toks/s]\n",
      "\u001b[Acessed prompts:  27% 275/1024 [00:13<00:32, 22.83it/s, est. speed input: 0.00 toks/s, output: 0.00 toks/s]\n",
      "\u001b[Acessed prompts:  31% 321/1024 [00:15<00:30, 23.07it/s, est. speed input: 0.00 toks/s, output: 0.00 toks/s]\n",
      "\u001b[Acessed prompts:  37% 380/1024 [00:17<00:25, 25.21it/s, est. speed input: 0.00 toks/s, output: 0.00 toks/s]\n",
      "\u001b[Acessed prompts:  41% 416/1024 [00:19<00:26, 23.10it/s, est. speed input: 0.00 toks/s, output: 0.00 toks/s]\n",
      "\u001b[Acessed prompts:  46% 468/1024 [00:20<00:23, 24.09it/s, est. speed input: 0.00 toks/s, output: 0.00 toks/s]\n",
      "\u001b[Acessed prompts:  51% 518/1024 [00:22<00:20, 24.68it/s, est. speed input: 0.00 toks/s, output: 0.00 toks/s]\n",
      "\u001b[Acessed prompts:  55% 567/1024 [00:24<00:18, 24.77it/s, est. speed input: 0.00 toks/s, output: 0.00 toks/s]\n",
      "\u001b[Acessed prompts:  60% 615/1024 [00:26<00:16, 24.59it/s, est. speed input: 0.00 toks/s, output: 0.00 toks/s]\n",
      "\u001b[Acessed prompts:  65% 661/1024 [00:28<00:14, 24.28it/s, est. speed input: 0.00 toks/s, output: 0.00 toks/s]\n",
      "\u001b[Acessed prompts:  70% 719/1024 [00:30<00:11, 25.86it/s, est. speed input: 0.00 toks/s, output: 0.00 toks/s]\n",
      "\u001b[Acessed prompts:  75% 770/1024 [00:32<00:09, 25.77it/s, est. speed input: 0.00 toks/s, output: 0.00 toks/s]\n",
      "\u001b[Acessed prompts:  79% 811/1024 [00:34<00:08, 24.21it/s, est. speed input: 0.00 toks/s, output: 0.00 toks/s]\n",
      "\u001b[Acessed prompts:  83% 854/1024 [00:36<00:07, 23.51it/s, est. speed input: 0.00 toks/s, output: 0.00 toks/s]\n",
      "\u001b[Acessed prompts:  88% 897/1024 [00:38<00:05, 23.04it/s, est. speed input: 0.00 toks/s, output: 0.00 toks/s]\n",
      "\u001b[Acessed prompts:  93% 951/1024 [00:40<00:02, 24.42it/s, est. speed input: 0.00 toks/s, output: 0.00 toks/s]\n",
      "Processed prompts: 100% 1024/1024 [00:41<00:00, 24.52it/s, est. speed input: 0.00 toks/s, output: 0.00 toks/s]\n"
     ]
    },
    {
     "name": "stdout",
     "output_type": "stream",
     "text": [
      "Kmeans with n_clusters=5120\n"
     ]
    },
    {
     "data": {
      "application/vnd.jupyter.widget-view+json": {
       "model_id": "6ea9aae922374cb2815d0fe8b8de58b1",
       "version_major": 2,
       "version_minor": 0
      },
      "text/plain": [
       "Map:   0%|          | 0/10240 [00:00<?, ? examples/s]"
      ]
     },
     "metadata": {},
     "output_type": "display_data"
    },
    {
     "name": "stdout",
     "output_type": "stream",
     "text": [
      "Dataset({\n",
      "    features: ['id', 'url', 'title', 'text', 'synthetic_content', 'judgement', 'accuracy_score', 'embedding', 'cluster_id'],\n",
      "    num_rows: 10240\n",
      "})\n"
     ]
    },
    {
     "data": {
      "application/vnd.jupyter.widget-view+json": {
       "model_id": "6510374d83c14ae6b539601b70e2ef9a",
       "version_major": 2,
       "version_minor": 0
      },
      "text/plain": [
       "Uploading the dataset shards:   0%|          | 0/1 [00:00<?, ?it/s]"
      ]
     },
     "metadata": {},
     "output_type": "display_data"
    },
    {
     "data": {
      "application/vnd.jupyter.widget-view+json": {
       "model_id": "f8cd3bed06b045328d516f1342d81537",
       "version_major": 2,
       "version_minor": 0
      },
      "text/plain": [
       "Creating parquet from Arrow format:   0%|          | 0/11 [00:00<?, ?ba/s]"
      ]
     },
     "metadata": {},
     "output_type": "display_data"
    },
    {
     "data": {
      "application/vnd.jupyter.widget-view+json": {
       "model_id": "2543825099654b3bae987d5759e60cb3",
       "version_major": 2,
       "version_minor": 0
      },
      "text/plain": [
       "  0%|          | 0/1 [00:00<?, ?it/s]"
      ]
     },
     "metadata": {},
     "output_type": "display_data"
    },
    {
     "name": "stderr",
     "output_type": "stream",
     "text": [
      "/usr/local/lib/python3.10/dist-packages/huggingface_hub/lfs.py:337: UserWarning: hf_transfer is enabled but does not support uploading from bytes or BinaryIO, falling back to regular upload\n",
      "  warnings.warn(\n"
     ]
    },
    {
     "data": {
      "application/vnd.jupyter.widget-view+json": {
       "model_id": "3391bce015d741e7acff6576372cffe7",
       "version_major": 2,
       "version_minor": 0
      },
      "text/plain": [
       "Filter:   0%|          | 0/10240 [00:00<?, ? examples/s]"
      ]
     },
     "metadata": {},
     "output_type": "display_data"
    },
    {
     "data": {
      "application/vnd.jupyter.widget-view+json": {
       "model_id": "60ee803152a04fba938d5e9bf9529e3d",
       "version_major": 2,
       "version_minor": 0
      },
      "text/plain": [
       "Filter:   0%|          | 0/10240 [00:00<?, ? examples/s]"
      ]
     },
     "metadata": {},
     "output_type": "display_data"
    },
    {
     "name": "stdout",
     "output_type": "stream",
     "text": [
      "DatasetDict({\n",
      "    train: Dataset({\n",
      "        features: ['id', 'url', 'title', 'text', 'synthetic_content', 'judgement', 'accuracy_score'],\n",
      "        num_rows: 5120\n",
      "    })\n",
      "    test: Dataset({\n",
      "        features: ['id', 'url', 'title', 'text', 'synthetic_content', 'judgement', 'accuracy_score'],\n",
      "        num_rows: 5120\n",
      "    })\n",
      "})\n"
     ]
    },
    {
     "data": {
      "application/vnd.jupyter.widget-view+json": {
       "model_id": "999aa2248fef4c798237448569e23f27",
       "version_major": 2,
       "version_minor": 0
      },
      "text/plain": [
       "Uploading the dataset shards:   0%|          | 0/1 [00:00<?, ?it/s]"
      ]
     },
     "metadata": {},
     "output_type": "display_data"
    },
    {
     "data": {
      "application/vnd.jupyter.widget-view+json": {
       "model_id": "cd90a788a2d548038d3a229f389aace1",
       "version_major": 2,
       "version_minor": 0
      },
      "text/plain": [
       "Creating parquet from Arrow format:   0%|          | 0/6 [00:00<?, ?ba/s]"
      ]
     },
     "metadata": {},
     "output_type": "display_data"
    },
    {
     "data": {
      "application/vnd.jupyter.widget-view+json": {
       "model_id": "ba8046b9639e4384bf101a17e01520c6",
       "version_major": 2,
       "version_minor": 0
      },
      "text/plain": [
       "  0%|          | 0/1 [00:00<?, ?it/s]"
      ]
     },
     "metadata": {},
     "output_type": "display_data"
    },
    {
     "data": {
      "application/vnd.jupyter.widget-view+json": {
       "model_id": "fd7655e58e26476583c455181dcce644",
       "version_major": 2,
       "version_minor": 0
      },
      "text/plain": [
       "Uploading the dataset shards:   0%|          | 0/1 [00:00<?, ?it/s]"
      ]
     },
     "metadata": {},
     "output_type": "display_data"
    },
    {
     "data": {
      "application/vnd.jupyter.widget-view+json": {
       "model_id": "f7f60ac47a644630a2b536a04fe924d8",
       "version_major": 2,
       "version_minor": 0
      },
      "text/plain": [
       "Creating parquet from Arrow format:   0%|          | 0/6 [00:00<?, ?ba/s]"
      ]
     },
     "metadata": {},
     "output_type": "display_data"
    },
    {
     "data": {
      "application/vnd.jupyter.widget-view+json": {
       "model_id": "e32f742f825c4f20b1d00327d4b8570f",
       "version_major": 2,
       "version_minor": 0
      },
      "text/plain": [
       "  0%|          | 0/1 [00:00<?, ?it/s]"
      ]
     },
     "metadata": {},
     "output_type": "display_data"
    },
    {
     "name": "stdout",
     "output_type": "stream",
     "text": [
      "Sample from cluster: 0\n",
      "\n",
      "\n",
      "The name Laura Suarez or Suárez is associated with several notable individuals across various fields, each with their own unique achievements and contributions. One such individual is the Brazilian singer Laura Suarez, who was born in 1909 and passed away in 1990, leaving behind a legacy in the music industry. In the realm of sports, Laura Suárez, a Puerto Rican women's international footballer, has been making waves since her birth in 1992, showcasing her skills on the field. In the world of politics, Laura Margarita Suárez, a Mexican politician born in 1953, has been actively involved in shaping the country's governance and policies. Additionally, there is also a Cuban volleyball player by the name of Laura Suárez, who has represented her country in various international competitions, demonstrating her prowess in the sport. Each of these individuals, despite sharing a similar name, has carved out their own distinct path and achieved recognition in their respective domains.\n",
      "\n",
      "-------\n",
      "\n",
      "\n",
      "Sample from cluster: 1\n",
      "\n",
      "\n",
      "Samed Onur is a skilled and ambitious professional footballer, born on July 15, 2002, who currently showcases his exceptional skills as a winger for the esteemed Turkish football club, Fatih Karagümrük. Although born in Germany, Onur has proudly represented Turkey at the youth international level, demonstrating his remarkable talent and dedication to the sport.\n",
      "\n",
      "Onur's remarkable journey in the world of football began when he joined the prestigious youth academy of Bayer Leverkusen at the tender age of 10, back in 2012. This marked the beginning of an incredible journey, as he honed his skills, learned from experienced coaches, and developed into a talented young player. His hard work and perseverance ultimately paid off when he made his professional debut with Bayer Leverkusen in a resounding 4-0 UEFA Europa League victory against SK Slavia Prague on December 10, 2020. This memorable match not only showcased Onur's skills but also marked a significant milestone in his burgeoning career.\n",
      "\n",
      "As Onur continued to grow and develop as a player, he sought new challenges and opportunities to further his career. On July 12, 2021, he made a significant move by signing with the renowned Süper Lig club, Fatih Karagümrük, on a free transfer. This strategic move has enabled Onur to take his career to new heights, competing against top-tier teams and players in the Süper Lig.\n",
      "\n",
      "Throughout his journey, Onur has been recognized for his exceptional talent, and his profile has been featured on the official website of the German Football Association (DFB). His achievements have also earned him a place in various categories, including 2002 births, German sportspeople of Turkish descent, living people, footballers from Düsseldorf, Turkish men's footballers, Turkey men's youth international footballers, men's association football wingers, German men's footballers, Bayer 04 Leverkusen players, Fatih Karagümrük S.K. footballers, and Süper Lig players. As Onur continues to make a name for himself in the world of football, his dedication, passion, and natural talent are sure to inspire fans and leave a lasting impact on the sport.\n",
      "\n",
      "-------\n",
      "\n",
      "\n",
      "Sample from cluster: 2\n",
      "\n",
      "\n",
      "Planodes papuanus is a distinct species of beetle that belongs to the extensive family of Cerambycidae, a group commonly known for their elongated bodies and distinctive antennae. This particular species was first described in detail by the renowned entomologist Stephan von Breuning in the year 1948, marking an important milestone in the field of beetle taxonomy. As part of the Cerambycidae family, Planodes papuanus shares characteristics with other members of this group, such as their notable size variation and the wide range of habitats they occupy. The description of Planodes papuanus by von Breuning in 1948 is a testament to the ongoing efforts to catalog and understand the vast diversity of beetle species, with many more still awaiting discovery and classification. The species name \"papuanus\" hints at a connection to the region of Papua, suggesting that this beetle may be endemic to or have been discovered in this area, although further research would be necessary to confirm its exact distribution and habitat preferences. As with many species of beetles described in 1948, Planodes papuanus contributes to our broader understanding of the Cerambycidae family and the intricate details of beetle diversity, highlighting the importance of continued entomological research and exploration.\n",
      "\n",
      "-------\n",
      "\n",
      "\n"
     ]
    }
   ],
   "source": [
    "ds_ids = [\n",
    "    'amang1802/synthetic_data_unconditioned_L3.1_405B_Instruct',\n",
    "    'amang1802/synthetic_data_topic_conditioned_L3.3_70B',\n",
    "    'amang1802/synthetic_data_prefix_conditioned_L3.3_70B',\n",
    "    'amang1802/synthetic_data_fulltext_conditioned_L3.3_70B',]\n",
    "\n",
    "for ds_id in ds_ids:\n",
    "    run(ds_id)"
   ]
  },
  {
   "cell_type": "code",
   "execution_count": null,
   "id": "851939c9-c451-4f21-b76e-e769f28d0e59",
   "metadata": {},
   "outputs": [],
   "source": []
  }
 ],
 "metadata": {
  "kernelspec": {
   "display_name": "Python 3 (ipykernel)",
   "language": "python",
   "name": "python3"
  },
  "language_info": {
   "codemirror_mode": {
    "name": "ipython",
    "version": 3
   },
   "file_extension": ".py",
   "mimetype": "text/x-python",
   "name": "python",
   "nbconvert_exporter": "python",
   "pygments_lexer": "ipython3",
   "version": "3.10.12"
  }
 },
 "nbformat": 4,
 "nbformat_minor": 5
}
