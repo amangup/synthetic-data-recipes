{
 "cells": [
  {
   "cell_type": "code",
   "execution_count": 6,
   "id": "782e106a-547e-46a9-97ed-40d9e6f37511",
   "metadata": {},
   "outputs": [],
   "source": [
    "from datasets import load_dataset, DatasetDict\n",
    "from sklearn.cluster import KMeans\n",
    "from vllm import LLM\n",
    "\n",
    "import json\n",
    "import numpy as np\n",
    "import torch"
   ]
  },
  {
   "cell_type": "code",
   "execution_count": 7,
   "id": "c88d6026-211c-46fa-8d30-8098873cdc5e",
   "metadata": {},
   "outputs": [],
   "source": [
    "column = 'synthetic_content'\n",
    "dedup_ratio = 2"
   ]
  },
  {
   "cell_type": "code",
   "execution_count": 8,
   "id": "a160ebc1-e46a-4271-863e-32a3261bf942",
   "metadata": {},
   "outputs": [],
   "source": [
    "model_id = \"Alibaba-NLP/gte-Qwen2-7B-instruct\""
   ]
  },
  {
   "cell_type": "code",
   "execution_count": 9,
   "id": "ccd1a537-564c-4957-abe7-21e39daafc60",
   "metadata": {},
   "outputs": [],
   "source": [
    "instruction = \"Identify the factual information, named entities, concepts and themes from the knowledge content.\""
   ]
  },
  {
   "cell_type": "code",
   "execution_count": 10,
   "id": "c32b7693-63a0-48c2-85b5-7eaa55cd49da",
   "metadata": {},
   "outputs": [
    {
     "data": {
      "application/vnd.jupyter.widget-view+json": {
       "model_id": "8b89ef87a6cb4df58334ac78f3f87cf6",
       "version_major": 2,
       "version_minor": 0
      },
      "text/plain": [
       "config.json:   0%|          | 0.00/880 [00:00<?, ?B/s]"
      ]
     },
     "metadata": {},
     "output_type": "display_data"
    },
    {
     "name": "stdout",
     "output_type": "stream",
     "text": [
      "INFO 01-06 06:59:39 config.py:274] Overriding HF config with {'is_causal': False}\n"
     ]
    },
    {
     "data": {
      "application/vnd.jupyter.widget-view+json": {
       "model_id": "e4f0cb6a0bd94933885d17b2e38295cf",
       "version_major": 2,
       "version_minor": 0
      },
      "text/plain": [
       "sentence_bert_config.json:   0%|          | 0.00/55.0 [00:00<?, ?B/s]"
      ]
     },
     "metadata": {},
     "output_type": "display_data"
    },
    {
     "name": "stdout",
     "output_type": "stream",
     "text": [
      "INFO 01-06 06:59:39 config.py:2167] Downcasting torch.float32 to torch.float16.\n"
     ]
    },
    {
     "data": {
      "application/vnd.jupyter.widget-view+json": {
       "model_id": "0bc194f34d0b4180bdc1d3a03cf6c77d",
       "version_major": 2,
       "version_minor": 0
      },
      "text/plain": [
       "modules.json:   0%|          | 0.00/349 [00:00<?, ?B/s]"
      ]
     },
     "metadata": {},
     "output_type": "display_data"
    },
    {
     "data": {
      "application/vnd.jupyter.widget-view+json": {
       "model_id": "a2ae86df44c34927b851bc6966f66bae",
       "version_major": 2,
       "version_minor": 0
      },
      "text/plain": [
       "1_Pooling/config.json:   0%|          | 0.00/298 [00:00<?, ?B/s]"
      ]
     },
     "metadata": {},
     "output_type": "display_data"
    },
    {
     "name": "stdout",
     "output_type": "stream",
     "text": [
      "INFO 01-06 06:59:44 llm_engine.py:249] Initializing an LLM engine (v0.6.5) with config: model='Alibaba-NLP/gte-Qwen2-7B-instruct', speculative_config=None, tokenizer='Alibaba-NLP/gte-Qwen2-7B-instruct', skip_tokenizer_init=False, tokenizer_mode=auto, revision=None, override_neuron_config=None, tokenizer_revision=None, trust_remote_code=False, dtype=torch.float16, max_seq_len=4096, download_dir=None, load_format=auto, tensor_parallel_size=1, pipeline_parallel_size=1, disable_custom_all_reduce=False, quantization=None, enforce_eager=False, kv_cache_dtype=auto, quantization_param_path=None, device_config=cuda, decoding_config=DecodingConfig(guided_decoding_backend='xgrammar'), observability_config=ObservabilityConfig(otlp_traces_endpoint=None, collect_model_forward_time=False, collect_model_execute_time=False), seed=0, served_model_name=Alibaba-NLP/gte-Qwen2-7B-instruct, num_scheduler_steps=1, multi_step_stream_outputs=True, enable_prefix_caching=False, chunked_prefill_enabled=False, use_async_output_proc=False, mm_cache_preprocessor=False, mm_processor_kwargs=None, pooler_config=PoolerConfig(pooling_type='LAST', normalize=True, softmax=None, step_tag_id=None, returned_token_ids=None), compilation_config={\"splitting_ops\":[\"vllm.unified_attention\",\"vllm.unified_attention_with_output\"],\"candidate_compile_sizes\":[],\"compile_sizes\":[],\"capture_sizes\":[256,248,240,232,224,216,208,200,192,184,176,168,160,152,144,136,128,120,112,104,96,88,80,72,64,56,48,40,32,24,16,8,4,2,1],\"max_capture_size\":256}, use_cached_outputs=False, \n"
     ]
    },
    {
     "data": {
      "application/vnd.jupyter.widget-view+json": {
       "model_id": "738a08eded43412f9ecd7299e27f5d1c",
       "version_major": 2,
       "version_minor": 0
      },
      "text/plain": [
       "tokenizer_config.json:   0%|          | 0.00/1.31k [00:00<?, ?B/s]"
      ]
     },
     "metadata": {},
     "output_type": "display_data"
    },
    {
     "data": {
      "application/vnd.jupyter.widget-view+json": {
       "model_id": "3d519641ef514ac1b5e88af182e391c1",
       "version_major": 2,
       "version_minor": 0
      },
      "text/plain": [
       "vocab.json:   0%|          | 0.00/2.78M [00:00<?, ?B/s]"
      ]
     },
     "metadata": {},
     "output_type": "display_data"
    },
    {
     "data": {
      "application/vnd.jupyter.widget-view+json": {
       "model_id": "1bf180226c214c6fb8256292076b4a48",
       "version_major": 2,
       "version_minor": 0
      },
      "text/plain": [
       "merges.txt:   0%|          | 0.00/1.67M [00:00<?, ?B/s]"
      ]
     },
     "metadata": {},
     "output_type": "display_data"
    },
    {
     "data": {
      "application/vnd.jupyter.widget-view+json": {
       "model_id": "ca8c375ec5624ec2a575c85d22e91bd4",
       "version_major": 2,
       "version_minor": 0
      },
      "text/plain": [
       "tokenizer.json:   0%|          | 0.00/7.03M [00:00<?, ?B/s]"
      ]
     },
     "metadata": {},
     "output_type": "display_data"
    },
    {
     "data": {
      "application/vnd.jupyter.widget-view+json": {
       "model_id": "ceb8005ded714fec91d60fa2f2777e6d",
       "version_major": 2,
       "version_minor": 0
      },
      "text/plain": [
       "added_tokens.json:   0%|          | 0.00/80.0 [00:00<?, ?B/s]"
      ]
     },
     "metadata": {},
     "output_type": "display_data"
    },
    {
     "data": {
      "application/vnd.jupyter.widget-view+json": {
       "model_id": "a30b620b0cfa43b2a3b4ae70a083ad70",
       "version_major": 2,
       "version_minor": 0
      },
      "text/plain": [
       "special_tokens_map.json:   0%|          | 0.00/370 [00:00<?, ?B/s]"
      ]
     },
     "metadata": {},
     "output_type": "display_data"
    },
    {
     "data": {
      "application/vnd.jupyter.widget-view+json": {
       "model_id": "bcbc6c7d414843119604955e704a5df6",
       "version_major": 2,
       "version_minor": 0
      },
      "text/plain": [
       "generation_config.json:   0%|          | 0.00/117 [00:00<?, ?B/s]"
      ]
     },
     "metadata": {},
     "output_type": "display_data"
    },
    {
     "name": "stdout",
     "output_type": "stream",
     "text": [
      "INFO 01-06 06:59:47 selector.py:120] Using Flash Attention backend.\n",
      "INFO 01-06 06:59:49 model_runner.py:1092] Starting to load model Alibaba-NLP/gte-Qwen2-7B-instruct...\n",
      "INFO 01-06 06:59:49 weight_utils.py:243] Using model weights format ['*.safetensors']\n"
     ]
    },
    {
     "data": {
      "application/vnd.jupyter.widget-view+json": {
       "model_id": "ee794e66e59d414d96ac32649fa85cf2",
       "version_major": 2,
       "version_minor": 0
      },
      "text/plain": [
       "model-00001-of-00007.safetensors:   0%|          | 0.00/4.97G [00:00<?, ?B/s]"
      ]
     },
     "metadata": {},
     "output_type": "display_data"
    },
    {
     "data": {
      "application/vnd.jupyter.widget-view+json": {
       "model_id": "b4ee9fb4d1ba4493abe391950fcdf6dd",
       "version_major": 2,
       "version_minor": 0
      },
      "text/plain": [
       "model-00002-of-00007.safetensors:   0%|          | 0.00/4.78G [00:00<?, ?B/s]"
      ]
     },
     "metadata": {},
     "output_type": "display_data"
    },
    {
     "data": {
      "application/vnd.jupyter.widget-view+json": {
       "model_id": "7d1e817ed02047d5a9aafe8dbcf97f1d",
       "version_major": 2,
       "version_minor": 0
      },
      "text/plain": [
       "model-00003-of-00007.safetensors:   0%|          | 0.00/4.93G [00:00<?, ?B/s]"
      ]
     },
     "metadata": {},
     "output_type": "display_data"
    },
    {
     "data": {
      "application/vnd.jupyter.widget-view+json": {
       "model_id": "1e66df907909484d8d68d21e2bcd137c",
       "version_major": 2,
       "version_minor": 0
      },
      "text/plain": [
       "model-00004-of-00007.safetensors:   0%|          | 0.00/4.93G [00:00<?, ?B/s]"
      ]
     },
     "metadata": {},
     "output_type": "display_data"
    },
    {
     "data": {
      "application/vnd.jupyter.widget-view+json": {
       "model_id": "f75e697517154407a687883eaea88f01",
       "version_major": 2,
       "version_minor": 0
      },
      "text/plain": [
       "model-00005-of-00007.safetensors:   0%|          | 0.00/5.00G [00:00<?, ?B/s]"
      ]
     },
     "metadata": {},
     "output_type": "display_data"
    },
    {
     "data": {
      "application/vnd.jupyter.widget-view+json": {
       "model_id": "fe35345c905e49f5b2b484a09520e28a",
       "version_major": 2,
       "version_minor": 0
      },
      "text/plain": [
       "model-00006-of-00007.safetensors:   0%|          | 0.00/3.66G [00:00<?, ?B/s]"
      ]
     },
     "metadata": {},
     "output_type": "display_data"
    },
    {
     "data": {
      "application/vnd.jupyter.widget-view+json": {
       "model_id": "2c8100619ea9420185e592a6c9b004ca",
       "version_major": 2,
       "version_minor": 0
      },
      "text/plain": [
       "model-00007-of-00007.safetensors:   0%|          | 0.00/2.17G [00:00<?, ?B/s]"
      ]
     },
     "metadata": {},
     "output_type": "display_data"
    },
    {
     "data": {
      "application/vnd.jupyter.widget-view+json": {
       "model_id": "1cb4e3405128459a9f4b52537db47cbb",
       "version_major": 2,
       "version_minor": 0
      },
      "text/plain": [
       "model.safetensors.index.json:   0%|          | 0.00/27.8k [00:00<?, ?B/s]"
      ]
     },
     "metadata": {},
     "output_type": "display_data"
    },
    {
     "data": {
      "application/vnd.jupyter.widget-view+json": {
       "model_id": "7c47bbb3e1d04cbe8a3416d4c34c9ec5",
       "version_major": 2,
       "version_minor": 0
      },
      "text/plain": [
       "Loading safetensors checkpoint shards:   0% Completed | 0/7 [00:00<?, ?it/s]\n"
      ]
     },
     "metadata": {},
     "output_type": "display_data"
    },
    {
     "name": "stdout",
     "output_type": "stream",
     "text": [
      "INFO 01-06 07:00:31 model_runner.py:1097] Loading model weights took 13.2529 GB\n"
     ]
    }
   ],
   "source": [
    "llm = LLM(model=model_id, max_model_len=4096, hf_overrides={\"is_causal\": False}, task=\"embed\")"
   ]
  },
  {
   "cell_type": "code",
   "execution_count": 11,
   "id": "2082f669-d348-48e1-895f-e435fde2e8b6",
   "metadata": {},
   "outputs": [],
   "source": [
    "def compute_embedding(texts):\n",
    "    tokenizer = llm.get_tokenizer()\n",
    "    instruct_prompts = [\"Instruct: \" + instruction + \"\\nQuery:\\n\" + text for text in texts]\n",
    "    prompt_token_ids = [{\"prompt_token_ids\": tokenizer.encode(prompt)[:4096]} for prompt in instruct_prompts]\n",
    "    outputs = llm.embed(prompt_token_ids)\n",
    "\n",
    "    return {\"embedding\": [output.outputs.embedding for output in outputs]}"
   ]
  },
  {
   "cell_type": "code",
   "execution_count": 12,
   "id": "667bc062-b4fb-4392-a73e-cb8705553fb0",
   "metadata": {},
   "outputs": [],
   "source": [
    "def embed(content_ds):\n",
    "    embed_ds = content_ds.map(compute_embedding, input_columns=[column], batched=True, batch_size=1024)\n",
    "    embeds = np.array(embed_ds['embedding'])\n",
    "\n",
    "    return embed_ds, embeds"
   ]
  },
  {
   "cell_type": "code",
   "execution_count": 13,
   "id": "53795e31-3d53-467c-9855-fbcdd377603a",
   "metadata": {},
   "outputs": [],
   "source": [
    "# TODO: use faiss\n",
    "def cluster(ds_id, embed_ds, embeds):\n",
    "    n_clusters = embed_ds.num_rows // dedup_ratio\n",
    "    print(f\"Kmeans with n_clusters={n_clusters}\")\n",
    "\n",
    "    kmeans = KMeans(n_clusters=n_clusters)\n",
    "    clusters = kmeans.fit_predict(embeds)\n",
    "\n",
    "    clusters_ds = embed_ds.map(lambda _, idx: {\"cluster_id\": clusters[idx]}, with_indices=True)\n",
    "    print(f\"{clusters_ds!r}\")\n",
    "    clusters_ds.push_to_hub(ds_id)\n",
    "\n",
    "    return clusters"
   ]
  },
  {
   "cell_type": "code",
   "execution_count": 14,
   "id": "5d9bace8-d814-4996-b206-b5bfd365188d",
   "metadata": {},
   "outputs": [],
   "source": [
    "# TODO: use faiss\n",
    "def dedup(ds_id, content_ds, embeds, clusters):\n",
    "    uniq_clusters = np.unique(clusters)\n",
    "    uniq_clusters\n",
    "\n",
    "    centroid_ids = []\n",
    "    for idk in uniq_clusters:\n",
    "        cluster_points = embeds[clusters == idk, :]\n",
    "        centroid = cluster_points.mean(axis=0)\n",
    "        cluster_centroid_dist = np.linalg.norm(embeds - centroid, axis=1)\n",
    "        nearest_index = np.argmin(cluster_centroid_dist)\n",
    "        centroid_ids.append(nearest_index)\n",
    "\n",
    "    assert len(centroid_ids) == len(uniq_clusters)\n",
    "\n",
    "    centroid_ds = content_ds.filter(lambda _, idx: idx in centroid_ids, with_indices=True)\n",
    "    not_centroid_ds = content_ds.filter(lambda _, idx: not idx in centroid_ids, with_indices=True)\n",
    "\n",
    "    deduped_ds = DatasetDict({\"train\": centroid_ds, \"test\": not_centroid_ds})\n",
    "    print(f\"{deduped_ds!r}\")\n",
    "    deduped_ds.push_to_hub(ds_id + \"_deduped\")"
   ]
  },
  {
   "cell_type": "code",
   "execution_count": 15,
   "id": "ef65a01f-1b93-4c03-9ff9-f9c149cb0bbe",
   "metadata": {},
   "outputs": [],
   "source": [
    "def top_clusters(content_ds, clusters):\n",
    "    top_k_cluster_ids = np.argsort(np.bincount(clusters))[-3:]\n",
    " \n",
    "    for c, tc_idx in enumerate(top_k_cluster_ids):\n",
    "        sample_idx = np.where(clusters == tc_idx)[0][0]\n",
    "        print(f\"Sample from cluster: {c}\" + \"\\n\\n\")\n",
    "        print(content_ds[int(sample_idx)]['synthetic_content'])\n",
    "        print(\"\\n-------\\n\\n\")"
   ]
  },
  {
   "cell_type": "code",
   "execution_count": 16,
   "id": "812460b6-6201-439c-a570-2159d9b4ddea",
   "metadata": {},
   "outputs": [],
   "source": [
    "def run(ds_id):\n",
    "    content_ds = load_dataset(ds_id)['train']\n",
    "    embed_ds, embeds = embed(content_ds)\n",
    "    clusters = cluster(ds_id, embed_ds, embeds)\n",
    "\n",
    "    dedup(ds_id, content_ds, embeds, clusters)\n",
    "    top_clusters(content_ds, clusters)"
   ]
  },
  {
   "cell_type": "code",
   "execution_count": 17,
   "id": "e70f27c7-569e-4ad2-84c8-a2694d8f3a6e",
   "metadata": {},
   "outputs": [
    {
     "name": "stderr",
     "output_type": "stream",
     "text": [
      "Parameter 'function'=<function compute_embedding at 0x7898647ab490> of the transform datasets.arrow_dataset.Dataset._map_single couldn't be hashed properly, a random hash was used instead. Make sure your transforms and parameters are serializable with pickle or dill for the dataset fingerprinting and caching to work. If you reuse this transform, the caching mechanism will consider it to be different from the previous calls and recompute everything. This warning is only showed once. Subsequent hashing failures won't be showed.\n"
     ]
    },
    {
     "data": {
      "application/vnd.jupyter.widget-view+json": {
       "model_id": "6ec1ba6de9cf435682172e5868a17461",
       "version_major": 2,
       "version_minor": 0
      },
      "text/plain": [
       "Map:   0%|          | 0/10240 [00:00<?, ? examples/s]"
      ]
     },
     "metadata": {},
     "output_type": "display_data"
    },
    {
     "name": "stderr",
     "output_type": "stream",
     "text": [
      "\n",
      "\u001b[Acessed prompts:   0% 0/1024 [00:00<?, ?it/s, est. speed input: 0.00 toks/s, output: 0.00 toks/s]\n",
      "\u001b[Acessed prompts:   0% 1/1024 [00:01<19:54,  1.17s/it, est. speed input: 0.00 toks/s, output: 0.00 toks/s]\n",
      "\u001b[Acessed prompts:  19% 191/1024 [00:01<00:04, 187.11it/s, est. speed input: 0.00 toks/s, output: 0.00 toks/s]\n",
      "\u001b[Acessed prompts:  26% 262/1024 [00:02<00:05, 136.53it/s, est. speed input: 0.00 toks/s, output: 0.00 toks/s]\n",
      "\u001b[Acessed prompts:  32% 331/1024 [00:02<00:05, 116.89it/s, est. speed input: 0.00 toks/s, output: 0.00 toks/s]\n",
      "\u001b[Acessed prompts:  39% 398/1024 [00:03<00:06, 103.07it/s, est. speed input: 0.00 toks/s, output: 0.00 toks/s]\n",
      "\u001b[Acessed prompts:  45% 462/1024 [00:04<00:06, 93.61it/s, est. speed input: 0.00 toks/s, output: 0.00 toks/s] \n",
      "\u001b[Acessed prompts:  52% 528/1024 [00:05<00:05, 91.27it/s, est. speed input: 0.00 toks/s, output: 0.00 toks/s]\n",
      "\u001b[Acessed prompts:  58% 596/1024 [00:06<00:04, 90.16it/s, est. speed input: 0.00 toks/s, output: 0.00 toks/s]\n",
      "\u001b[Acessed prompts:  65% 668/1024 [00:06<00:03, 92.61it/s, est. speed input: 0.00 toks/s, output: 0.00 toks/s]\n",
      "\u001b[Acessed prompts:  72% 740/1024 [00:07<00:03, 93.00it/s, est. speed input: 0.00 toks/s, output: 0.00 toks/s]\n",
      "\u001b[Acessed prompts:  79% 810/1024 [00:08<00:02, 93.96it/s, est. speed input: 0.00 toks/s, output: 0.00 toks/s]\n",
      "\u001b[Acessed prompts:  85% 875/1024 [00:09<00:01, 91.40it/s, est. speed input: 0.00 toks/s, output: 0.00 toks/s]\n",
      "\u001b[Acessed prompts:  92% 942/1024 [00:09<00:00, 90.40it/s, est. speed input: 0.00 toks/s, output: 0.00 toks/s]\n",
      "Processed prompts: 100% 1024/1024 [00:10<00:00, 96.33it/s, est. speed input: 0.00 toks/s, output: 0.00 toks/s]\n",
      "\n",
      "\u001b[Acessed prompts:   0% 0/1024 [00:00<?, ?it/s, est. speed input: 0.00 toks/s, output: 0.00 toks/s]\n",
      "\u001b[Acessed prompts:  13% 133/1024 [00:00<00:01, 708.49it/s, est. speed input: 0.00 toks/s, output: 0.00 toks/s]\n",
      "\u001b[Acessed prompts:  20% 204/1024 [00:00<00:04, 182.49it/s, est. speed input: 0.00 toks/s, output: 0.00 toks/s]\n",
      "\u001b[Acessed prompts:  26% 262/1024 [00:01<00:06, 125.16it/s, est. speed input: 0.00 toks/s, output: 0.00 toks/s]\n",
      "\u001b[Acessed prompts:  32% 332/1024 [00:02<00:06, 106.64it/s, est. speed input: 0.00 toks/s, output: 0.00 toks/s]\n",
      "\u001b[Acessed prompts:  39% 398/1024 [00:03<00:06, 98.27it/s, est. speed input: 0.00 toks/s, output: 0.00 toks/s] \n",
      "\u001b[Acessed prompts:  45% 461/1024 [00:04<00:06, 93.18it/s, est. speed input: 0.00 toks/s, output: 0.00 toks/s]\n",
      "\u001b[Acessed prompts:  52% 530/1024 [00:04<00:05, 93.77it/s, est. speed input: 0.00 toks/s, output: 0.00 toks/s]\n",
      "\u001b[Acessed prompts:  58% 597/1024 [00:05<00:04, 89.83it/s, est. speed input: 0.00 toks/s, output: 0.00 toks/s]\n",
      "\u001b[Acessed prompts:  65% 665/1024 [00:06<00:04, 89.31it/s, est. speed input: 0.00 toks/s, output: 0.00 toks/s]\n",
      "\u001b[Acessed prompts:  71% 730/1024 [00:07<00:03, 87.70it/s, est. speed input: 0.00 toks/s, output: 0.00 toks/s]\n",
      "\u001b[Acessed prompts:  77% 790/1024 [00:07<00:02, 86.13it/s, est. speed input: 0.00 toks/s, output: 0.00 toks/s]\n",
      "\u001b[Acessed prompts:  83% 855/1024 [00:08<00:01, 85.83it/s, est. speed input: 0.00 toks/s, output: 0.00 toks/s]\n",
      "\u001b[Acessed prompts:  90% 925/1024 [00:09<00:01, 87.51it/s, est. speed input: 0.00 toks/s, output: 0.00 toks/s]\n",
      "Processed prompts: 100% 1024/1024 [00:10<00:00, 99.97it/s, est. speed input: 0.00 toks/s, output: 0.00 toks/s]\n",
      "\n",
      "\u001b[Acessed prompts:   0% 0/1024 [00:00<?, ?it/s, est. speed input: 0.00 toks/s, output: 0.00 toks/s]\n",
      "\u001b[Acessed prompts:  14% 139/1024 [00:00<00:01, 711.99it/s, est. speed input: 0.00 toks/s, output: 0.00 toks/s]\n",
      "\u001b[Acessed prompts:  21% 211/1024 [00:00<00:04, 185.01it/s, est. speed input: 0.00 toks/s, output: 0.00 toks/s]\n",
      "\u001b[Acessed prompts:  27% 274/1024 [00:01<00:05, 129.90it/s, est. speed input: 0.00 toks/s, output: 0.00 toks/s]\n",
      "\u001b[Acessed prompts:  33% 341/1024 [00:02<00:06, 106.90it/s, est. speed input: 0.00 toks/s, output: 0.00 toks/s]\n",
      "\u001b[Acessed prompts:  40% 409/1024 [00:03<00:06, 100.05it/s, est. speed input: 0.00 toks/s, output: 0.00 toks/s]\n",
      "\u001b[Acessed prompts:  47% 477/1024 [00:04<00:05, 96.49it/s, est. speed input: 0.00 toks/s, output: 0.00 toks/s] \n",
      "\u001b[Acessed prompts:  53% 543/1024 [00:04<00:05, 92.70it/s, est. speed input: 0.00 toks/s, output: 0.00 toks/s]\n",
      "\u001b[Acessed prompts:  60% 610/1024 [00:05<00:04, 91.54it/s, est. speed input: 0.00 toks/s, output: 0.00 toks/s]\n",
      "\u001b[Acessed prompts:  66% 672/1024 [00:06<00:03, 88.70it/s, est. speed input: 0.00 toks/s, output: 0.00 toks/s]\n",
      "\u001b[Acessed prompts:  72% 736/1024 [00:07<00:03, 88.55it/s, est. speed input: 0.00 toks/s, output: 0.00 toks/s]\n",
      "\u001b[Acessed prompts:  78% 800/1024 [00:07<00:02, 87.37it/s, est. speed input: 0.00 toks/s, output: 0.00 toks/s]\n",
      "\u001b[Acessed prompts:  85% 869/1024 [00:08<00:01, 88.30it/s, est. speed input: 0.00 toks/s, output: 0.00 toks/s]\n",
      "\u001b[Acessed prompts:  91% 936/1024 [00:09<00:01, 87.40it/s, est. speed input: 0.00 toks/s, output: 0.00 toks/s]\n",
      "Processed prompts: 100% 1024/1024 [00:10<00:00, 100.64it/s, est. speed input: 0.00 toks/s, output: 0.00 toks/s]\n",
      "\n",
      "\u001b[Acessed prompts:   0% 0/1024 [00:00<?, ?it/s, est. speed input: 0.00 toks/s, output: 0.00 toks/s]\n",
      "\u001b[Acessed prompts:  14% 142/1024 [00:00<00:01, 584.02it/s, est. speed input: 0.00 toks/s, output: 0.00 toks/s]\n",
      "\u001b[Acessed prompts:  20% 202/1024 [00:01<00:04, 170.60it/s, est. speed input: 0.00 toks/s, output: 0.00 toks/s]\n",
      "\u001b[Acessed prompts:  26% 269/1024 [00:01<00:05, 128.05it/s, est. speed input: 0.00 toks/s, output: 0.00 toks/s]\n",
      "\u001b[Acessed prompts:  33% 335/1024 [00:02<00:06, 111.93it/s, est. speed input: 0.00 toks/s, output: 0.00 toks/s]\n",
      "\u001b[Acessed prompts:  39% 402/1024 [00:03<00:06, 102.80it/s, est. speed input: 0.00 toks/s, output: 0.00 toks/s]\n",
      "\u001b[Acessed prompts:  46% 466/1024 [00:03<00:05, 96.06it/s, est. speed input: 0.00 toks/s, output: 0.00 toks/s] \n",
      "\u001b[Acessed prompts:  52% 534/1024 [00:04<00:05, 93.33it/s, est. speed input: 0.00 toks/s, output: 0.00 toks/s]\n",
      "\u001b[Acessed prompts:  58% 599/1024 [00:05<00:04, 88.68it/s, est. speed input: 0.00 toks/s, output: 0.00 toks/s]\n",
      "\u001b[Acessed prompts:  65% 667/1024 [00:06<00:04, 89.04it/s, est. speed input: 0.00 toks/s, output: 0.00 toks/s]\n",
      "\u001b[Acessed prompts:  71% 731/1024 [00:07<00:03, 87.57it/s, est. speed input: 0.00 toks/s, output: 0.00 toks/s]\n",
      "\u001b[Acessed prompts:  77% 792/1024 [00:07<00:02, 86.33it/s, est. speed input: 0.00 toks/s, output: 0.00 toks/s]\n",
      "\u001b[Acessed prompts:  84% 858/1024 [00:08<00:01, 85.87it/s, est. speed input: 0.00 toks/s, output: 0.00 toks/s]\n",
      "\u001b[Acessed prompts:  90% 923/1024 [00:09<00:01, 83.90it/s, est. speed input: 0.00 toks/s, output: 0.00 toks/s]\n",
      "Processed prompts: 100% 1024/1024 [00:10<00:00, 100.50it/s, est. speed input: 0.00 toks/s, output: 0.00 toks/s]\n",
      "\n",
      "\u001b[Acessed prompts:   0% 0/1024 [00:00<?, ?it/s, est. speed input: 0.00 toks/s, output: 0.00 toks/s]\n",
      "\u001b[Acessed prompts:  13% 137/1024 [00:00<00:01, 708.19it/s, est. speed input: 0.00 toks/s, output: 0.00 toks/s]\n",
      "\u001b[Acessed prompts:  20% 208/1024 [00:00<00:04, 183.14it/s, est. speed input: 0.00 toks/s, output: 0.00 toks/s]\n",
      "\u001b[Acessed prompts:  26% 271/1024 [00:01<00:05, 129.21it/s, est. speed input: 0.00 toks/s, output: 0.00 toks/s]\n",
      "\u001b[Acessed prompts:  33% 342/1024 [00:02<00:06, 112.02it/s, est. speed input: 0.00 toks/s, output: 0.00 toks/s]\n",
      "\u001b[Acessed prompts:  40% 410/1024 [00:03<00:06, 99.86it/s, est. speed input: 0.00 toks/s, output: 0.00 toks/s] \n",
      "\u001b[Acessed prompts:  46% 476/1024 [00:04<00:05, 95.63it/s, est. speed input: 0.00 toks/s, output: 0.00 toks/s]\n",
      "\u001b[Acessed prompts:  53% 544/1024 [00:04<00:05, 94.01it/s, est. speed input: 0.00 toks/s, output: 0.00 toks/s]\n",
      "\u001b[Acessed prompts:  60% 610/1024 [00:05<00:04, 93.15it/s, est. speed input: 0.00 toks/s, output: 0.00 toks/s]\n",
      "\u001b[Acessed prompts:  66% 679/1024 [00:06<00:03, 92.40it/s, est. speed input: 0.00 toks/s, output: 0.00 toks/s]\n",
      "\u001b[Acessed prompts:  72% 741/1024 [00:07<00:03, 88.46it/s, est. speed input: 0.00 toks/s, output: 0.00 toks/s]\n",
      "\u001b[Acessed prompts:  79% 810/1024 [00:07<00:02, 89.37it/s, est. speed input: 0.00 toks/s, output: 0.00 toks/s]\n",
      "\u001b[Acessed prompts:  85% 872/1024 [00:08<00:01, 87.06it/s, est. speed input: 0.00 toks/s, output: 0.00 toks/s]\n",
      "\u001b[Acessed prompts:  92% 937/1024 [00:09<00:01, 84.87it/s, est. speed input: 0.00 toks/s, output: 0.00 toks/s]\n",
      "Processed prompts: 100% 1024/1024 [00:10<00:00, 100.06it/s, est. speed input: 0.00 toks/s, output: 0.00 toks/s]\n",
      "\n",
      "\u001b[Acessed prompts:   0% 0/1024 [00:00<?, ?it/s, est. speed input: 0.00 toks/s, output: 0.00 toks/s]\n",
      "\u001b[Acessed prompts:  13% 134/1024 [00:00<00:01, 704.18it/s, est. speed input: 0.00 toks/s, output: 0.00 toks/s]\n",
      "\u001b[Acessed prompts:  20% 205/1024 [00:00<00:04, 183.66it/s, est. speed input: 0.00 toks/s, output: 0.00 toks/s]\n",
      "\u001b[Acessed prompts:  26% 270/1024 [00:01<00:05, 130.49it/s, est. speed input: 0.00 toks/s, output: 0.00 toks/s]\n",
      "\u001b[Acessed prompts:  33% 335/1024 [00:02<00:06, 107.09it/s, est. speed input: 0.00 toks/s, output: 0.00 toks/s]\n",
      "\u001b[Acessed prompts:  39% 404/1024 [00:03<00:06, 100.90it/s, est. speed input: 0.00 toks/s, output: 0.00 toks/s]\n",
      "\u001b[Acessed prompts:  46% 471/1024 [00:04<00:05, 96.77it/s, est. speed input: 0.00 toks/s, output: 0.00 toks/s] \n",
      "\u001b[Acessed prompts:  53% 538/1024 [00:04<00:05, 95.62it/s, est. speed input: 0.00 toks/s, output: 0.00 toks/s]\n",
      "\u001b[Acessed prompts:  59% 603/1024 [00:05<00:04, 92.19it/s, est. speed input: 0.00 toks/s, output: 0.00 toks/s]\n",
      "\u001b[Acessed prompts:  65% 663/1024 [00:06<00:04, 87.36it/s, est. speed input: 0.00 toks/s, output: 0.00 toks/s]\n",
      "\u001b[Acessed prompts:  71% 727/1024 [00:07<00:03, 86.42it/s, est. speed input: 0.00 toks/s, output: 0.00 toks/s]\n",
      "\u001b[Acessed prompts:  78% 794/1024 [00:07<00:02, 86.51it/s, est. speed input: 0.00 toks/s, output: 0.00 toks/s]\n",
      "\u001b[Acessed prompts:  84% 857/1024 [00:08<00:01, 83.67it/s, est. speed input: 0.00 toks/s, output: 0.00 toks/s]\n",
      "\u001b[Acessed prompts:  90% 926/1024 [00:09<00:01, 85.86it/s, est. speed input: 0.00 toks/s, output: 0.00 toks/s]\n",
      "Processed prompts: 100% 1024/1024 [00:10<00:00, 100.85it/s, est. speed input: 0.00 toks/s, output: 0.00 toks/s]\n",
      "\n",
      "\u001b[Acessed prompts:   0% 0/1024 [00:00<?, ?it/s, est. speed input: 0.00 toks/s, output: 0.00 toks/s]\n",
      "\u001b[Acessed prompts:  13% 131/1024 [00:00<00:01, 692.62it/s, est. speed input: 0.00 toks/s, output: 0.00 toks/s]\n",
      "\u001b[Acessed prompts:  20% 201/1024 [00:01<00:04, 169.31it/s, est. speed input: 0.00 toks/s, output: 0.00 toks/s]\n",
      "\u001b[Acessed prompts:  26% 265/1024 [00:01<00:06, 120.82it/s, est. speed input: 0.00 toks/s, output: 0.00 toks/s]\n",
      "\u001b[Acessed prompts:  33% 335/1024 [00:02<00:06, 108.94it/s, est. speed input: 0.00 toks/s, output: 0.00 toks/s]\n",
      "\u001b[Acessed prompts:  39% 399/1024 [00:03<00:06, 101.29it/s, est. speed input: 0.00 toks/s, output: 0.00 toks/s]\n",
      "\u001b[Acessed prompts:  45% 463/1024 [00:04<00:05, 96.91it/s, est. speed input: 0.00 toks/s, output: 0.00 toks/s] \n",
      "\u001b[Acessed prompts:  51% 526/1024 [00:04<00:05, 92.54it/s, est. speed input: 0.00 toks/s, output: 0.00 toks/s]\n",
      "\u001b[Acessed prompts:  58% 596/1024 [00:05<00:04, 92.55it/s, est. speed input: 0.00 toks/s, output: 0.00 toks/s]\n",
      "\u001b[Acessed prompts:  65% 661/1024 [00:06<00:04, 90.22it/s, est. speed input: 0.00 toks/s, output: 0.00 toks/s]\n",
      "\u001b[Acessed prompts:  71% 725/1024 [00:07<00:03, 87.86it/s, est. speed input: 0.00 toks/s, output: 0.00 toks/s]\n",
      "\u001b[Acessed prompts:  77% 789/1024 [00:07<00:02, 86.97it/s, est. speed input: 0.00 toks/s, output: 0.00 toks/s]\n",
      "\u001b[Acessed prompts:  83% 850/1024 [00:08<00:02, 84.92it/s, est. speed input: 0.00 toks/s, output: 0.00 toks/s]\n",
      "\u001b[Acessed prompts:  90% 918/1024 [00:09<00:01, 86.47it/s, est. speed input: 0.00 toks/s, output: 0.00 toks/s]\n",
      "Processed prompts: 100% 1024/1024 [00:10<00:00, 101.02it/s, est. speed input: 0.00 toks/s, output: 0.00 toks/s]\n",
      "\n",
      "\u001b[Acessed prompts:   0% 0/1024 [00:00<?, ?it/s, est. speed input: 0.00 toks/s, output: 0.00 toks/s]\n",
      "\u001b[Acessed prompts:  13% 133/1024 [00:00<00:01, 542.42it/s, est. speed input: 0.00 toks/s, output: 0.00 toks/s]\n",
      "\u001b[Acessed prompts:  19% 198/1024 [00:01<00:04, 168.18it/s, est. speed input: 0.00 toks/s, output: 0.00 toks/s]\n",
      "\u001b[Acessed prompts:  26% 268/1024 [00:01<00:05, 128.57it/s, est. speed input: 0.00 toks/s, output: 0.00 toks/s]\n",
      "\u001b[Acessed prompts:  33% 334/1024 [00:02<00:06, 108.19it/s, est. speed input: 0.00 toks/s, output: 0.00 toks/s]\n",
      "\u001b[Acessed prompts:  40% 406/1024 [00:03<00:06, 102.43it/s, est. speed input: 0.00 toks/s, output: 0.00 toks/s]\n",
      "\u001b[Acessed prompts:  46% 473/1024 [00:04<00:05, 95.34it/s, est. speed input: 0.00 toks/s, output: 0.00 toks/s] \n",
      "\u001b[Acessed prompts:  52% 534/1024 [00:04<00:05, 91.99it/s, est. speed input: 0.00 toks/s, output: 0.00 toks/s]\n",
      "\u001b[Acessed prompts:  59% 600/1024 [00:05<00:04, 90.85it/s, est. speed input: 0.00 toks/s, output: 0.00 toks/s]\n",
      "\u001b[Acessed prompts:  65% 664/1024 [00:06<00:04, 89.84it/s, est. speed input: 0.00 toks/s, output: 0.00 toks/s]\n",
      "\u001b[Acessed prompts:  71% 726/1024 [00:07<00:03, 87.12it/s, est. speed input: 0.00 toks/s, output: 0.00 toks/s]\n",
      "\u001b[Acessed prompts:  77% 790/1024 [00:07<00:02, 85.77it/s, est. speed input: 0.00 toks/s, output: 0.00 toks/s]\n",
      "\u001b[Acessed prompts:  83% 855/1024 [00:08<00:02, 84.02it/s, est. speed input: 0.00 toks/s, output: 0.00 toks/s]\n",
      "\u001b[Acessed prompts:  90% 924/1024 [00:09<00:01, 86.15it/s, est. speed input: 0.00 toks/s, output: 0.00 toks/s]\n",
      "Processed prompts: 100% 1024/1024 [00:10<00:00, 100.48it/s, est. speed input: 0.00 toks/s, output: 0.00 toks/s]\n",
      "\n",
      "\u001b[Acessed prompts:   0% 0/1024 [00:00<?, ?it/s, est. speed input: 0.00 toks/s, output: 0.00 toks/s]\n",
      "\u001b[Acessed prompts:  12% 125/1024 [00:00<00:01, 654.67it/s, est. speed input: 0.00 toks/s, output: 0.00 toks/s]\n",
      "\u001b[Acessed prompts:  19% 192/1024 [00:00<00:04, 170.61it/s, est. speed input: 0.00 toks/s, output: 0.00 toks/s]\n",
      "\u001b[Acessed prompts:  25% 253/1024 [00:01<00:06, 117.06it/s, est. speed input: 0.00 toks/s, output: 0.00 toks/s]\n",
      "\u001b[Acessed prompts:  31% 321/1024 [00:02<00:06, 104.36it/s, est. speed input: 0.00 toks/s, output: 0.00 toks/s]\n",
      "\u001b[Acessed prompts:  38% 385/1024 [00:03<00:06, 95.79it/s, est. speed input: 0.00 toks/s, output: 0.00 toks/s] \n",
      "\u001b[Acessed prompts:  44% 448/1024 [00:04<00:06, 92.17it/s, est. speed input: 0.00 toks/s, output: 0.00 toks/s]\n",
      "\u001b[Acessed prompts:  50% 512/1024 [00:04<00:05, 88.93it/s, est. speed input: 0.00 toks/s, output: 0.00 toks/s]\n",
      "\u001b[Acessed prompts:  56% 576/1024 [00:05<00:05, 87.28it/s, est. speed input: 0.00 toks/s, output: 0.00 toks/s]\n",
      "\u001b[Acessed prompts:  63% 642/1024 [00:06<00:04, 86.94it/s, est. speed input: 0.00 toks/s, output: 0.00 toks/s]\n",
      "\u001b[Acessed prompts:  69% 710/1024 [00:07<00:03, 87.90it/s, est. speed input: 0.00 toks/s, output: 0.00 toks/s]\n",
      "\u001b[Acessed prompts:  76% 778/1024 [00:07<00:02, 88.30it/s, est. speed input: 0.00 toks/s, output: 0.00 toks/s]\n",
      "\u001b[Acessed prompts:  82% 844/1024 [00:08<00:02, 87.14it/s, est. speed input: 0.00 toks/s, output: 0.00 toks/s]\n",
      "\u001b[Acessed prompts:  89% 910/1024 [00:09<00:01, 86.55it/s, est. speed input: 0.00 toks/s, output: 0.00 toks/s]\n",
      "Processed prompts: 100% 1024/1024 [00:10<00:00, 100.40it/s, est. speed input: 0.00 toks/s, output: 0.00 toks/s]\n",
      "\n",
      "\u001b[Acessed prompts:   0% 0/1024 [00:00<?, ?it/s, est. speed input: 0.00 toks/s, output: 0.00 toks/s]\n",
      "\u001b[Acessed prompts:  13% 133/1024 [00:00<00:01, 562.67it/s, est. speed input: 0.00 toks/s, output: 0.00 toks/s]\n",
      "\u001b[Acessed prompts:  20% 200/1024 [00:01<00:04, 165.34it/s, est. speed input: 0.00 toks/s, output: 0.00 toks/s]\n",
      "\u001b[Acessed prompts:  26% 262/1024 [00:01<00:06, 121.02it/s, est. speed input: 0.00 toks/s, output: 0.00 toks/s]\n",
      "\u001b[Acessed prompts:  32% 327/1024 [00:02<00:06, 102.55it/s, est. speed input: 0.00 toks/s, output: 0.00 toks/s]\n",
      "\u001b[Acessed prompts:  39% 399/1024 [00:03<00:06, 101.04it/s, est. speed input: 0.00 toks/s, output: 0.00 toks/s]\n",
      "\u001b[Acessed prompts:  45% 460/1024 [00:04<00:05, 94.08it/s, est. speed input: 0.00 toks/s, output: 0.00 toks/s] \n",
      "\u001b[Acessed prompts:  52% 531/1024 [00:04<00:05, 95.43it/s, est. speed input: 0.00 toks/s, output: 0.00 toks/s]\n",
      "\u001b[Acessed prompts:  58% 598/1024 [00:05<00:04, 92.87it/s, est. speed input: 0.00 toks/s, output: 0.00 toks/s]\n",
      "\u001b[Acessed prompts:  65% 668/1024 [00:06<00:03, 91.80it/s, est. speed input: 0.00 toks/s, output: 0.00 toks/s]\n",
      "\u001b[Acessed prompts:  72% 738/1024 [00:07<00:03, 91.55it/s, est. speed input: 0.00 toks/s, output: 0.00 toks/s]\n",
      "\u001b[Acessed prompts:  79% 806/1024 [00:07<00:02, 88.79it/s, est. speed input: 0.00 toks/s, output: 0.00 toks/s]\n",
      "\u001b[Acessed prompts:  85% 868/1024 [00:08<00:01, 86.14it/s, est. speed input: 0.00 toks/s, output: 0.00 toks/s]\n",
      "\u001b[Acessed prompts:  91% 932/1024 [00:09<00:01, 84.07it/s, est. speed input: 0.00 toks/s, output: 0.00 toks/s]\n",
      "Processed prompts: 100% 1024/1024 [00:10<00:00, 99.12it/s, est. speed input: 0.00 toks/s, output: 0.00 toks/s]\n"
     ]
    },
    {
     "name": "stdout",
     "output_type": "stream",
     "text": [
      "Kmeans with n_clusters=5120\n"
     ]
    },
    {
     "data": {
      "application/vnd.jupyter.widget-view+json": {
       "model_id": "6b5b1b9f8df740e3884f45530286134f",
       "version_major": 2,
       "version_minor": 0
      },
      "text/plain": [
       "Map:   0%|          | 0/10240 [00:00<?, ? examples/s]"
      ]
     },
     "metadata": {},
     "output_type": "display_data"
    },
    {
     "name": "stdout",
     "output_type": "stream",
     "text": [
      "Dataset({\n",
      "    features: ['id', 'url', 'title', 'text', 'synthetic_content', 'embedding', 'cluster_id'],\n",
      "    num_rows: 10240\n",
      "})\n"
     ]
    },
    {
     "data": {
      "application/vnd.jupyter.widget-view+json": {
       "model_id": "37c17e19c88a428fa486c2a734ab7f91",
       "version_major": 2,
       "version_minor": 0
      },
      "text/plain": [
       "Uploading the dataset shards:   0%|          | 0/1 [00:00<?, ?it/s]"
      ]
     },
     "metadata": {},
     "output_type": "display_data"
    },
    {
     "data": {
      "application/vnd.jupyter.widget-view+json": {
       "model_id": "5c260f182c0f435ba47cb88ca19ad711",
       "version_major": 2,
       "version_minor": 0
      },
      "text/plain": [
       "Creating parquet from Arrow format:   0%|          | 0/11 [00:00<?, ?ba/s]"
      ]
     },
     "metadata": {},
     "output_type": "display_data"
    },
    {
     "data": {
      "application/vnd.jupyter.widget-view+json": {
       "model_id": "6a5f8a96286f4d94ac300963c7f8e596",
       "version_major": 2,
       "version_minor": 0
      },
      "text/plain": [
       "  0%|          | 0/1 [00:00<?, ?it/s]"
      ]
     },
     "metadata": {},
     "output_type": "display_data"
    },
    {
     "name": "stderr",
     "output_type": "stream",
     "text": [
      "/usr/local/lib/python3.10/dist-packages/huggingface_hub/lfs.py:337: UserWarning: hf_transfer is enabled but does not support uploading from bytes or BinaryIO, falling back to regular upload\n",
      "  warnings.warn(\n"
     ]
    },
    {
     "data": {
      "application/vnd.jupyter.widget-view+json": {
       "model_id": "f70cde55d0a749aea89bed8d3251cbb6",
       "version_major": 2,
       "version_minor": 0
      },
      "text/plain": [
       "Filter:   0%|          | 0/10240 [00:00<?, ? examples/s]"
      ]
     },
     "metadata": {},
     "output_type": "display_data"
    },
    {
     "data": {
      "application/vnd.jupyter.widget-view+json": {
       "model_id": "fac934501e9e4321b36030daf85e82b4",
       "version_major": 2,
       "version_minor": 0
      },
      "text/plain": [
       "Filter:   0%|          | 0/10240 [00:00<?, ? examples/s]"
      ]
     },
     "metadata": {},
     "output_type": "display_data"
    },
    {
     "name": "stdout",
     "output_type": "stream",
     "text": [
      "DatasetDict({\n",
      "    train: Dataset({\n",
      "        features: ['id', 'url', 'title', 'text', 'synthetic_content'],\n",
      "        num_rows: 5119\n",
      "    })\n",
      "    test: Dataset({\n",
      "        features: ['id', 'url', 'title', 'text', 'synthetic_content'],\n",
      "        num_rows: 5121\n",
      "    })\n",
      "})\n"
     ]
    },
    {
     "data": {
      "application/vnd.jupyter.widget-view+json": {
       "model_id": "95cc2527b6ae4abe9acbc6aa14466c34",
       "version_major": 2,
       "version_minor": 0
      },
      "text/plain": [
       "Uploading the dataset shards:   0%|          | 0/1 [00:00<?, ?it/s]"
      ]
     },
     "metadata": {},
     "output_type": "display_data"
    },
    {
     "data": {
      "application/vnd.jupyter.widget-view+json": {
       "model_id": "4c3550dd25d948a294cbf90946a121e5",
       "version_major": 2,
       "version_minor": 0
      },
      "text/plain": [
       "Creating parquet from Arrow format:   0%|          | 0/6 [00:00<?, ?ba/s]"
      ]
     },
     "metadata": {},
     "output_type": "display_data"
    },
    {
     "data": {
      "application/vnd.jupyter.widget-view+json": {
       "model_id": "c068c36a200d45428bd4aa2eccb2b5aa",
       "version_major": 2,
       "version_minor": 0
      },
      "text/plain": [
       "  0%|          | 0/1 [00:00<?, ?it/s]"
      ]
     },
     "metadata": {},
     "output_type": "display_data"
    },
    {
     "data": {
      "application/vnd.jupyter.widget-view+json": {
       "model_id": "bb0d75c2a81641b1b7015b4b45d0b2e2",
       "version_major": 2,
       "version_minor": 0
      },
      "text/plain": [
       "Uploading the dataset shards:   0%|          | 0/1 [00:00<?, ?it/s]"
      ]
     },
     "metadata": {},
     "output_type": "display_data"
    },
    {
     "data": {
      "application/vnd.jupyter.widget-view+json": {
       "model_id": "5ee2e01b6d504118821a93ce29279322",
       "version_major": 2,
       "version_minor": 0
      },
      "text/plain": [
       "Creating parquet from Arrow format:   0%|          | 0/6 [00:00<?, ?ba/s]"
      ]
     },
     "metadata": {},
     "output_type": "display_data"
    },
    {
     "data": {
      "application/vnd.jupyter.widget-view+json": {
       "model_id": "03f43d031cd1462480261e84ac110b32",
       "version_major": 2,
       "version_minor": 0
      },
      "text/plain": [
       "  0%|          | 0/1 [00:00<?, ?it/s]"
      ]
     },
     "metadata": {},
     "output_type": "display_data"
    },
    {
     "name": "stdout",
     "output_type": "stream",
     "text": [
      "Sample from cluster: 0\n",
      "\n",
      "\n",
      "**Title**\n",
      "1561 in science\n",
      "\n",
      "**Q&A**\n",
      "Question: What significant event occurred in cartography and navigation in 1561?\n",
      "Answer: Bartolomeu Velho produced a Carta General do Orbe for Sebastian of Portugal, and Richard Eden translated Martín Cortés de Albacar's Arte de navigar as The Arte of Navigation, which became the first manual of navigation in English.\n",
      "\n",
      "Question: What medical publications were released in 1561?\n",
      "Answer: Gabriele Falloppio published Observationes anatomicae in Venice, and Ambroise Paré published Anatomie universelle du corps humain and La méthode curative des playes et fractures de la test humaine in Paris.\n",
      "\n",
      "Question: What epidemic occurred in Chile in 1561?\n",
      "Answer: A smallpox epidemic occurred in Chile.\n",
      "\n",
      "Question: Who were some notable births in the field of science and technology in 1561?\n",
      "Answer: Notable births in 1561 included Thomas Fincke, a Danish mathematician; Francis Bacon, an English philosopher of science; Sanctorius, an Istrian physiologist; John Harington, an English inventor; Bartholomaeus Pitiscus, a German trigonometrist; Philippe van Lansberge, a Flemish astronomer; Adriaan van Roomen, a Flemish mathematician; and Edward Wright, an English mathematician.\n",
      "\n",
      "Question: Who were some notable deaths in the field of science and technology in 1561?\n",
      "Answer: There are no notable deaths listed for 1561 in the provided text.\n",
      "\n",
      "Question: What was the significance of Gabriele Falloppio's publication in 1561?\n",
      "Answer: Gabriele Falloppio's publication, Observationes anatomicae, was the only work of his printed during his lifetime, and it was published in Venice.\n",
      "\n",
      "Question: What was the title of Ambroise Paré's publication on human anatomy in 1561?\n",
      "Answer: Ambroise Paré published Anatomie universelle du corps humain in Paris.\n",
      "\n",
      "Question: What was the title of the first manual of navigation in English, translated by Richard Eden in 1561?\n",
      "Answer: The title of the first manual of navigation in English, translated by Richard Eden, was The Arte of Navigation.\n",
      "\n",
      "Question: Who was the author of the original navigation manual translated by Richard Eden?\n",
      "Answer: The original navigation manual, Arte de navigar, was written by Martín Cortés de Albacar.\n",
      "\n",
      "Question: In what year was Thomas Fincke born, and what was his profession?\n",
      "Answer: Thomas Fincke was born in 1561 and was a Danish mathematician.\n",
      "\n",
      "\n",
      "-------\n",
      "\n",
      "\n",
      "Sample from cluster: 1\n",
      "\n",
      "\n",
      "**Title**\n",
      "1947 Miami Hurricanes football team\n",
      "\n",
      "**Q&A**\n",
      "Question: What was the record of the 1947 Miami Hurricanes football team?\n",
      "Answer: The 1947 Miami Hurricanes football team compiled a 2–7–1 record.\n",
      "\n",
      "Question: Who was the head coach of the 1947 Miami Hurricanes football team?\n",
      "Answer: The head coach of the 1947 Miami Hurricanes football team was Jack Harding.\n",
      "\n",
      "Question: How many points did the 1947 Miami Hurricanes football team score?\n",
      "Answer: The 1947 Miami Hurricanes football team scored a total of 80 points.\n",
      "\n",
      "Question: How many points did the opponents of the 1947 Miami Hurricanes football team score?\n",
      "Answer: The opponents of the 1947 Miami Hurricanes football team scored a total of 140 points.\n",
      "\n",
      "Question: Where did the 1947 Miami Hurricanes football team play its home games?\n",
      "Answer: The 1947 Miami Hurricanes football team played its home games at Burdine Stadium in Miami, Florida.\n",
      "\n",
      "Question: What was the ranking of the 1947 Miami Hurricanes football team in the final Litkenhous Ratings?\n",
      "Answer: The 1947 Miami Hurricanes football team was ranked at No. 87 (out of 500 college football teams) in the final Litkenhous Ratings for 1947.\n",
      "\n",
      "Question: How many seasons did Jack Harding serve as the head coach of the Miami Hurricanes football team?\n",
      "Answer: Jack Harding served as the head coach of the Miami Hurricanes football team for 9 seasons, with the 1947 season being his final season.\n",
      "\n",
      "\n",
      "-------\n",
      "\n",
      "\n",
      "Sample from cluster: 2\n",
      "\n",
      "\n",
      "**Title**\n",
      "Sagarkan\n",
      "\n",
      "**Q&A**\n",
      "Question: What is the name of the village in Hormozgan Province, Iran?\n",
      "Answer: The name of the village in Hormozgan Province, Iran is Sagarkan, also Romanized as Segerkan.\n",
      "\n",
      "Question: In which district is the village of Sagarkan located?\n",
      "Answer: The village of Sagarkan is located in Gafr and Parmon District, Bashagard County, Hormozgan Province, Iran.\n",
      "\n",
      "Question: What is the population of Sagarkan village according to the 2006 census?\n",
      "Answer: The population of Sagarkan village according to the 2006 census is 201 people, in 52 families.\n",
      "\n",
      "Question: What is the rural district of Sagarkan village?\n",
      "Answer: The rural district of Sagarkan village is Gafr and Parmon Rural District.\n",
      "\n",
      "Question: In which county is Sagarkan village located?\n",
      "Answer: Sagarkan village is located in Bashagard County, Hormozgan Province, Iran.\n",
      "\n",
      "\n",
      "-------\n",
      "\n",
      "\n"
     ]
    }
   ],
   "source": [
    "ds_ids = [\n",
    "    # 'amang1802/synthetic_data_unconditioned_L3.1_405B_Instruct',\n",
    "    # 'amang1802/synthetic_data_topic_conditioned_L3.3_70B',\n",
    "    # 'amang1802/synthetic_data_prefix_conditioned_L3.3_70B',\n",
    "    # 'amang1802/synthetic_data_fulltext_conditioned_L3.3_70B',\n",
    "    'amang1802/synthetic_data_qna_fulltext_conditioned_L3.3_70B',\n",
    "]\n",
    "\n",
    "for ds_id in ds_ids:\n",
    "    run(ds_id)"
   ]
  },
  {
   "cell_type": "code",
   "execution_count": null,
   "id": "851939c9-c451-4f21-b76e-e769f28d0e59",
   "metadata": {},
   "outputs": [],
   "source": []
  }
 ],
 "metadata": {
  "kernelspec": {
   "display_name": "Python 3 (ipykernel)",
   "language": "python",
   "name": "python3"
  },
  "language_info": {
   "codemirror_mode": {
    "name": "ipython",
    "version": 3
   },
   "file_extension": ".py",
   "mimetype": "text/x-python",
   "name": "python",
   "nbconvert_exporter": "python",
   "pygments_lexer": "ipython3",
   "version": "3.10.12"
  }
 },
 "nbformat": 4,
 "nbformat_minor": 5
}
