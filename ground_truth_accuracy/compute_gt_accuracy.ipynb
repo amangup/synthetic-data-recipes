{
 "cells": [
  {
   "cell_type": "code",
   "execution_count": 1,
   "id": "2add563c-7125-43ed-a566-90a1fc2ba873",
   "metadata": {},
   "outputs": [],
   "source": [
    "from datasets import load_dataset, Dataset\n",
    "from jinja2 import Template\n",
    "from transformers import AutoTokenizer\n",
    "from pydantic import BaseModel, TypeAdapter\n",
    "from vllm import LLM, SamplingParams\n",
    "from vllm.sampling_params import GuidedDecodingParams\n",
    "\n",
    "import json\n",
    "import random\n",
    "import traceback"
   ]
  },
  {
   "cell_type": "code",
   "execution_count": 28,
   "id": "9e016f04-5a40-4355-825c-a8f7870069f6",
   "metadata": {},
   "outputs": [],
   "source": [
    "NUM_GPUS = 4\n",
    "BATCH_SIZE = 128"
   ]
  },
  {
   "cell_type": "code",
   "execution_count": 3,
   "id": "c7351937-b445-4661-a22b-235ddb092544",
   "metadata": {},
   "outputs": [],
   "source": [
    "#persona_content_ds = load_dataset('amang1802/wiki_topic_persona_sampled_405B')['train']"
   ]
  },
  {
   "cell_type": "code",
   "execution_count": 4,
   "id": "85cc5e66-8c42-47f4-b3cc-07c4b41dfcb5",
   "metadata": {},
   "outputs": [],
   "source": [
    "def add_text_to_persona_ds(ds):\n",
    "    id_to_text = {}\n",
    "    for i in range(content_ds.num_rows):\n",
    "        id_to_text[content_ds[i]['id']] = content_ds[i]['text']\n",
    "\n",
    "    return ds.map(lambda idx: {\"text\": id_to_text[idx]}, input_columns=['id'])"
   ]
  },
  {
   "cell_type": "code",
   "execution_count": 5,
   "id": "ec3a42f6-ee2f-4587-bcce-2e230e799fef",
   "metadata": {},
   "outputs": [],
   "source": [
    "#persona_content_ds = add_text_to_persona_ds(persona_content_ds)"
   ]
  },
  {
   "cell_type": "code",
   "execution_count": 6,
   "id": "9253e2a5-4858-42bd-a287-55b2174fe348",
   "metadata": {},
   "outputs": [],
   "source": [
    "def pick_one_per_persona_ds(ds):\n",
    "    uniq_personas = list(set(ds['persona_id']))\n",
    "    uniq_contents = list(set(ds['id']))\n",
    "    included_pairs = [(cid, random.choice(uniq_personas)) for cid in uniq_contents]\n",
    "\n",
    "    return ds.filter(lambda row: (row['id'], row['persona_id']) in included_pairs)"
   ]
  },
  {
   "cell_type": "code",
   "execution_count": 7,
   "id": "fa14252e-5274-4a7a-b946-8dffa14ecf5a",
   "metadata": {},
   "outputs": [],
   "source": [
    "#persona_uniq_ds = pick_one_per_persona_ds(persona_content_ds)"
   ]
  },
  {
   "cell_type": "code",
   "execution_count": 8,
   "id": "d8c35780-3b31-48ed-af7d-846f96202cca",
   "metadata": {},
   "outputs": [],
   "source": [
    "#persona_uniq_ds"
   ]
  },
  {
   "cell_type": "code",
   "execution_count": 9,
   "id": "1d5c9c51-bfde-4de7-80cb-c27776c57fab",
   "metadata": {},
   "outputs": [],
   "source": [
    "#assert persona_uniq_ds.num_rows == len(set(persona_uniq_ds['id']))"
   ]
  },
  {
   "cell_type": "code",
   "execution_count": 10,
   "id": "4ccd6055-e602-490e-805c-1b213c1848eb",
   "metadata": {},
   "outputs": [],
   "source": [
    "with open(\"gt_accuracy.jinja2\") as f:\n",
    "    template_str = f.read()"
   ]
  },
  {
   "cell_type": "code",
   "execution_count": 11,
   "id": "b223e6ae-5555-4ffa-8eb2-a216e84a72a8",
   "metadata": {},
   "outputs": [],
   "source": [
    "with open(\"few_shots.json\") as f:\n",
    "    examples_json = json.load(f)"
   ]
  },
  {
   "cell_type": "code",
   "execution_count": 12,
   "id": "90c1ba71-3723-4d34-8f31-f4ecf895f419",
   "metadata": {},
   "outputs": [],
   "source": [
    "for example in examples_json:\n",
    "    example['matches'] = json.dumps(example['matches'], indent=2)"
   ]
  },
  {
   "cell_type": "code",
   "execution_count": 13,
   "id": "791fe680-6e1b-419d-a4e1-f1d8c7dcbd6b",
   "metadata": {},
   "outputs": [],
   "source": [
    "template = Template(template_str)"
   ]
  },
  {
   "cell_type": "code",
   "execution_count": 14,
   "id": "3a8c3a1b-b200-49f0-85d2-888ed994988d",
   "metadata": {},
   "outputs": [],
   "source": [
    "system_prompt = template.render(examples=examples_json)"
   ]
  },
  {
   "cell_type": "code",
   "execution_count": 15,
   "id": "dd7b013e-21b7-4b90-bba5-0948d75ebc51",
   "metadata": {},
   "outputs": [
    {
     "name": "stdout",
     "output_type": "stream",
     "text": [
      "# Instructions\n",
      "\n",
      "You are a fact checker and you're required to compare a pair of texts and find segments that discuss the same facts and judge if they both match on the facts. The goal is to only judge the alignment on facts stated by both. They can state unique facts which we have to ignore. For a pair of texts, output the a list of common segments and if they match or not.\n",
      "\n",
      "On the inclusion of segments:\n",
      "- Inspect every sentence in text1 and text2 and include all segments that discuss common facts.\n",
      "- If one of the text has a segment with no similar segment in the other text, ignore that segment altogether.\n",
      "- Do not pair segments that have different facts. For example: If one says Roger Federer won the Wimbledon in 2003, and the other says Roger Federer won the French Open in 2009 - they are different facts and shouldn't be paired together.\n",
      "- Repeating this instruction: Include all segments that discuss common facts.\n",
      "\n",
      "On the matching sensitivity:\n",
      "- It's possible that two statements don't exactly agree but are close enough. Like if one says the length as 50cm, another 55cm, or age in 50s and the other in the early 60s. Mark that match as true.\n",
      "- It's possible that one statement has extra information. Like one might say he is a scientist, but the other says that he is a scientist and an inventor. Extra information that's congruent with each other is a true match.\n",
      "- Use a smartly assessed judgement to mark the match as true. Do not point out the smallest differences and mark the match as false.\n",
      "\n",
      "# Output format\n",
      "\n",
      "Output a JSON in the following format:\n",
      "\n",
      "[\n",
      "  {\n",
      "    \"text1\": \"<segment from text1>\",\n",
      "    \"text2\": \"<segment from text2>\",\n",
      "    \"rationale\": \"<explanation why segments match or don't match>\n",
      "    \"match\": <true|false>\n",
      "  },\n",
      "  ...\n",
      "]\n",
      "\n",
      "Do not any include any preamble or notes. This will be used by an automated parsing system - so output only the JSON.\n",
      "\n",
      "# Examples\n",
      "\n",
      "text1:\n",
      "Average life span in the wild: 12 years Size: 21 in (50 cm) Weight: 14.4 oz (408 g) Did you know? Chameleons don't change colors to match their surroundings. Each species displays distinct color patterns to indicate specific reactions or emotions. The Meller's chameleon is the largest of the chameleons not native to Madagascar. Their stout bodies can grow to be up to two feet (two-thirds of a meter) long and weigh more than a pound (one-half kilogram). Meller's distinguish themselves from their universally bizarre-looking cousins with a single small horn protruding from the front of their snouts. This and their size earn them the common name 'giant one-horned chameleon.' They are fairly common in the savanna of East Africa, including Malawi, northern Mozambique, and Tanzania. Almost one-half of the world’s chameleons live on the island of Madagascar. As with all chameleons, Meller's will change colors in response to stress and to communicate with other chameleons. Their normal appearance is deep green with yellow stripes and random black spots. Females are slightly smaller, but are otherwise indistinguishable from males. They subsist on insects and small birds, using their camouflage and a lightning-fast, catapulting tongue, which can be up to 20 inches (50 centimeters) long, to ambush prey. Exotic pet enthusiasts often attempt to keep Meller's chameleons as pets. However, they are highly susceptible to even the slightest level of stress and are very difficult to care for in captivity. In the wild, they can live as long as 12 years.\n",
      "\n",
      "text2:\n",
      "The Meller's chameleon exemplifies the fascinating diversity within the family Chamaeleonidae. With an average lifespan of 12 years in the wild, these remarkable reptiles are distinguished by two horns, one large and one small, on their snout and display a deep green coloration with yellow stripes and black spots. They inhabit the savannas of East Africa, specifically in Malawi and Tanzania.\n",
      "The taxonomy of chameleons has undergone significant changes since 1986, when the family Chamaeleonidae was initially divided into two subfamilies: Brookesiinae and Chamaeleoninae. Under this classification, Brookesiinae included the genera Brookesia and Rhampholeon, along with Palleon and Rieppeleon, while Chamaeleoninae encompassed Bradypodion, Calumma, Chamaeleo, Furcifer, and Trioceros, as well as Archaius, Nadzikambia, and Kinyongia.\n",
      "Like their relatives, Meller's chameleons are skilled hunters, feeding on insects and small birds using their remarkable tongue that can extend up to 50 inches. Chameleons change colors to match their surroundings; but, their color also serves as a means of communication and emotional expression.. This behavioral trait exists across the family, regardless of taxonomic classification.\n",
      "The subfamilial division has been subject to considerable debate, with most phylogenetic studies indicating that the pygmy chameleons of Brookesiinae are not a monophyletic group. While some authorities initially maintained this classification based on the absence of evidence principle, they later abandoned the subfamilial division entirely. However, in 2015, Glaw proposed a revised classification, placing only Brookesia and Palleon within Brookesiinae, while all other genera were assigned to Chamaeleoninae.\n",
      "While these chameleons are fascinating subjects for scientific study, they prove challenging as pets, being highly sensitive to stress and requiring specialized care in captivity. This sensitivity reflects the complex nature of these remarkable reptiles, whose classification continues to evolve as our understanding of their relationships deepens.\n",
      "\n",
      "response:\n",
      "[\n",
      "  {\n",
      "    \"text1\": \"Average life span in the wild: 12 years\",\n",
      "    \"text2\": \"With an average lifespan of 12 years in the wild\",\n",
      "    \"rationale\": \"Both are discussing the lifespan and agree that it is 12 years in the wild.\",\n",
      "    \"match\": true\n",
      "  },\n",
      "  {\n",
      "    \"text1\": \"Meller's distinguish themselves from their universally bizarre-looking cousins with a single small horn protruding from the front of their snouts\",\n",
      "    \"text2\": \"these remarkable reptiles are distinguished by two horns, one large and one small, on their snout\",\n",
      "    \"rationale\": \"They both discuss the horn on the snout but disagree on the count and the size of the horns.\",\n",
      "    \"match\": false\n",
      "  },\n",
      "  {\n",
      "    \"text1\": \"They are fairly common in the savanna of East Africa, including Malawi, northern Mozambique, and Tanzania.\",\n",
      "    \"text2\": \"They inhabit the savannas of East Africa, specifically in Malawi and Tanzania.\",\n",
      "    \"rationale\": \"They are discussing the habitat and agree on the regions mentioned in both - Malawi and Tanzania.\",\n",
      "    \"match\": true\n",
      "  },\n",
      "  {\n",
      "    \"text1\": \"They subsist on insects and small birds, using their camouflage and a lightning-fast, catapulting tongue, which can be up to 20 inches (50 centimeters) long, to ambush prey\",\n",
      "    \"text2\": \"Meller's chameleons are skilled hunters, feeding on insects and small birds using their remarkable tongue that can extend up to 50 inches\",\n",
      "    \"rationale\": \"Both discuss the hunting habits bit disagree on the specific length of their tongues.\",\n",
      "    \"match\": false\n",
      "  },\n",
      "  {\n",
      "    \"text1\": \"Chameleons don't change colors to match their surroundings. Each species displays distinct color patterns to indicate specific reactions or emotions.\",\n",
      "    \"text2\": \"Chameleons change colors to match their surroundings; but, their color also serves as a means of communication and emotional expression.\",\n",
      "    \"rationale\": \"They are addressing the topic of Chameleons color changes and disagree that it's due to camouflage\",\n",
      "    \"match\": false\n",
      "  },\n",
      "  {\n",
      "    \"text1\": \"Exotic pet enthusiasts often attempt to keep Meller's chameleons as pets. However, they are highly susceptible to even the slightest level of stress and are very difficult to care for in captivity\",\n",
      "    \"text2\": \"they prove challenging as pets, being highly sensitive to stress and requiring specialized care in captivity\",\n",
      "    \"rationale\": \"Both discuss how it is to keep chameleons as pets and state that it's challenging due to their sensitivity to stress.\",\n",
      "    \"match\": true\n",
      "  }\n",
      "]\n",
      "---\n",
      "\n",
      "text1:\n",
      "The Chinook Arch November 14, 2001 The above photo was taken at evening twilight in Calgary, Alberta by Jeff McIntosh. On the lee (eastern) side of the Rocky Mountains in Colorado, Wyoming, Montana, and the province of Alberta in Canada, chinook winds occasionally bring respite from cold weather. Chinook is an Indian name meaning 'snow eater.' These warm, westerly winds result from downslope winds - air moving across the Rocky Mountains and down onto the prairies. During those cold, dull gray winter days, Albertans sometimes look toward the mountains for the Chinook Arch, a curved patch of blue sky (as shown above) that indicates that warm winds are approaching. Over this past weekend, a strong chinook was felt in Alberta and Montana. Chinooks typically occur from early November to late March.\n",
      "\n",
      "text2:\n",
      "The interior Chinook is a föhn wind that develops in a rain shadow. When air rises up windward slopes (orographic lift), it loses most of its moisture, and its subsequent adiabatic warming creates this wind. The adiabatic rates differ between moist and dry air, causing air on leeward slopes to become warmer than at matching elevations on windward slopes.\n",
      "The interior Chinooks and coastal Chinooks can sometimes share the same air flow source. When Pacific winds (coastal Chinooks) encounter mountains, they're forced upward. This causes the air's moisture to condense and fall as precipitation, while cooling at the moist adiabatic rate of 5 °C / 1000 m (3.5 °F / 1000 ft). As this now-dried air descends the mountains' leeward side, it warms at the dry adiabatic rate of 10 °C / 1000 m (5.5 °F / 1000 ft).\n",
      "The strong winds' turbulence can prevent the typical nighttime temperature inversion from forming on the lee side of the slope, keeping temperatures higher at night.A single air flow can create three distinct weather patterns: rain drenching the Pacific Northwest coast, snow hammering the Rockies' windward (western) side (removing moisture from the air), and a föhn Chinook warming the Rockies' leeward (eastern) side in Alberta. This shared air flow source explains why there's confusion about the term 'Chinook wind'.\n",
      "\n",
      "response:\n",
      "[\n",
      "  {\n",
      "    \"text1\": \"On the lee (eastern) side of the Rocky Mountains in Colorado, Wyoming, Montana, and the province of Alberta in Canada, chinook winds occasionally bring respite from cold weather\",\n",
      "    \"text2\": \"The adiabatic rates differ between moist and dry air, causing air on leeward slopes to become warmer than at matching elevations on windward slopes...As this now-dried air descends the mountains' leeward side, it warms at the dry adiabatic rate of 10 \\u00b0C / 1000 m (5.5 \\u00b0F / 1000 ft)\",\n",
      "    \"rationale\": \"They discuss the impact of chinook winds on leeward side and that the air is warmer on that side of the mountain.\",\n",
      "    \"match\": true\n",
      "  }\n",
      "]\n",
      "---\n",
      "\n",
      "text1:\n",
      "As I become more and more interested in American history and archaeology, I found this latest news about the USS Monitor quite fascinating: The Monitor finally sank around 1 a.m. on December 31. Twelve sailors and four officers would lose their lives. Periodicals like Harper's Weekly and Frank Leslie's Illustrated Newspaper would later publish artists' renderings and poems about the tragedy, but for families of the victims there was little solace. The exact location of the Monitor's final resting place and the crewmen who perished would remain a mystery for more than a century. John Byrd, director of the laboratory, says that 'sunken ships can be a very, very good environment for preserving remains' because of the protective coating of silt that forms over them. This was the case inside the Monitor, where tons of coal mixed with the silt, creating an anaerobic environment that prevented chemical reactions and animal activity from destroying the skeletons.\n",
      "\n",
      "text2:\n",
      "On December 24, 1862, Monitor was ordered to join a blockade off Charleston via Beaufort, North Carolina. The crew, some of whom had experienced her difficult March voyage, received the orders on Christmas Day. Under Commander John P. Bankhead, Monitor departed on December 31, towed by USS Rhode Island. As a storm intensified off Cape Hatteras, Bankhead used a blackboard to communicate that Monitor would signal with a red lantern if help was needed.\n",
      "Monitor capsized and sank stern-first around 1:30 AM on January 1, 1863, sixteen miles southeast of Cape Hatteras, losing twenty men, including four officers trapped in the detaching turret. Forty-seven men were rescued by Rhode Island's lifeboats, including Bankhead, Greene, and Stodder, who suffered from exposure. The Navy accepted the officers' reports without inquiry and took no disciplinary action.\n",
      "In August 1973, a Duke University expedition led by John G. Newton discovered Monitor's wreck at 230 feet depth (35°0′6″N 75°24′23″W). Initial photography attempts failed, but they eventually confirmed the ship was lying upside down. The discovery was announced on March 8, 1974, and confirmed that month by the submersible Alcoa Sea Probe.\n",
      "In 2002, about 160 divers worked to recover the 120-ton turret, which was filled with concreted coal from a ruptured bunker. Using various tools to clear debris, they installed a reinforced platform and an eight-legged lifting frame called the 'spider.' During the operation, divers found one skeleton in the turret, managing to recover half of it from the concreted debris while the other half remained inaccessible behind a gun.\n",
      "\n",
      "response:\n",
      "[\n",
      "  {\n",
      "    \"text1\": \"The Monitor finally sank around 1 a.m. on December 31.\",\n",
      "    \"text2\": \"Under Commander John P. Bankhead, Monitor departed on December 31, towed by USS Rhode Island. Monitor capsized and sank stern-first around 1:30 AM on January 1, 1863, sixteen miles southeast of Cape Hatteras\",\n",
      "    \"rationale\": \"The discuss the timing of the shinking of the ship USS Monitor and agree on the date December 31 and time at about 1 AM.\",\n",
      "    \"match\": true\n",
      "  },\n",
      "  {\n",
      "    \"text1\": \"Twelve sailors and four officers would lose their lives.\",\n",
      "    \"text2\": \"losing twenty men, including four officers trapped in the detaching turret\",\n",
      "    \"rationale\": \"They mention that lives were lost but disagree on how many lives were lost.\",\n",
      "    \"match\": false\n",
      "  },\n",
      "  {\n",
      "    \"text1\": \"The exact location of the Monitor's final resting place and the crewmen who perished would remain a mystery for more than a century\",\n",
      "    \"text2\": \"On December 24, 1862, Monitor was ordered to join a blockade....In August 1973, a Duke University expedition led by John G. Newton discovered Monitor's wreck\",\n",
      "    \"rationale\": \"Both discuss the time period between the sinking and discovery of the wreck, stating that it took more than 100 years to discover the wreck after its sinking.\",\n",
      "    \"match\": true\n",
      "  }\n",
      "]\n",
      "---\n",
      "\n"
     ]
    }
   ],
   "source": [
    "print(system_prompt)"
   ]
  },
  {
   "cell_type": "code",
   "execution_count": 16,
   "id": "83d4947d-52f8-43ae-a920-5d4e0373690c",
   "metadata": {},
   "outputs": [],
   "source": [
    "model_id = \"Qwen/Qwen2.5-72B-Instruct\""
   ]
  },
  {
   "cell_type": "code",
   "execution_count": 17,
   "id": "4ee9aaf8-5f8e-43a1-80a3-997a32771a64",
   "metadata": {},
   "outputs": [],
   "source": [
    "class Judgement(BaseModel):\n",
    "    text1: str\n",
    "    text2: str\n",
    "    rationale: str\n",
    "    match: bool\n",
    "\n",
    "ta = TypeAdapter(list[Judgement])\n",
    "\n",
    "json_schema = ta.json_schema()"
   ]
  },
  {
   "cell_type": "code",
   "execution_count": 18,
   "id": "177c74e1-107b-4356-9485-8f5a928492e3",
   "metadata": {},
   "outputs": [
    {
     "name": "stdout",
     "output_type": "stream",
     "text": [
      "INFO 01-06 20:33:42 config.py:478] This model supports multiple tasks: {'score', 'generate', 'embed', 'reward', 'classify'}. Defaulting to 'generate'.\n",
      "INFO 01-06 20:33:42 config.py:1216] Defaulting to use mp for distributed inference\n",
      "INFO 01-06 20:33:42 llm_engine.py:249] Initializing an LLM engine (v0.6.5) with config: model='Qwen/Qwen2.5-72B-Instruct', speculative_config=None, tokenizer='Qwen/Qwen2.5-72B-Instruct', skip_tokenizer_init=False, tokenizer_mode=auto, revision=None, override_neuron_config=None, tokenizer_revision=None, trust_remote_code=False, dtype=torch.bfloat16, max_seq_len=24576, download_dir=None, load_format=auto, tensor_parallel_size=4, pipeline_parallel_size=1, disable_custom_all_reduce=False, quantization=None, enforce_eager=False, kv_cache_dtype=auto, quantization_param_path=None, device_config=cuda, decoding_config=DecodingConfig(guided_decoding_backend='xgrammar'), observability_config=ObservabilityConfig(otlp_traces_endpoint=None, collect_model_forward_time=False, collect_model_execute_time=False), seed=0, served_model_name=Qwen/Qwen2.5-72B-Instruct, num_scheduler_steps=1, multi_step_stream_outputs=True, enable_prefix_caching=False, chunked_prefill_enabled=False, use_async_output_proc=True, mm_cache_preprocessor=False, mm_processor_kwargs=None, pooler_config=None, compilation_config={\"splitting_ops\":[\"vllm.unified_attention\",\"vllm.unified_attention_with_output\"],\"candidate_compile_sizes\":[],\"compile_sizes\":[],\"capture_sizes\":[64,56,48,40,32,24,16,8,4,2,1],\"max_capture_size\":64}, use_cached_outputs=False, \n",
      "WARNING 01-06 20:33:42 multiproc_worker_utils.py:312] Reducing Torch parallelism from 64 threads to 1 to avoid unnecessary CPU contention. Set OMP_NUM_THREADS in the external environment to tune this value as needed.\n",
      "INFO 01-06 20:33:42 custom_cache_manager.py:17] Setting Triton cache manager to: vllm.triton_utils.custom_cache_manager:CustomCacheManager\n",
      "INFO 01-06 20:33:43 selector.py:120] Using Flash Attention backend.\n",
      "\u001b[1;36m(VllmWorkerProcess pid=555068)\u001b[0;0m INFO 01-06 20:33:43 selector.py:120] Using Flash Attention backend.\n",
      "\u001b[1;36m(VllmWorkerProcess pid=555068)\u001b[0;0m INFO 01-06 20:33:43 multiproc_worker_utils.py:222] Worker ready; awaiting tasks\n",
      "\u001b[1;36m(VllmWorkerProcess pid=555069)\u001b[0;0m INFO 01-06 20:33:43 selector.py:120] Using Flash Attention backend.\n",
      "\u001b[1;36m(VllmWorkerProcess pid=555069)\u001b[0;0m INFO 01-06 20:33:43 multiproc_worker_utils.py:222] Worker ready; awaiting tasks\n",
      "\u001b[1;36m(VllmWorkerProcess pid=555070)\u001b[0;0m INFO 01-06 20:33:43 selector.py:120] Using Flash Attention backend.\n",
      "\u001b[1;36m(VllmWorkerProcess pid=555070)\u001b[0;0m INFO 01-06 20:33:43 multiproc_worker_utils.py:222] Worker ready; awaiting tasks\n",
      "INFO 01-06 20:33:47 utils.py:922] Found nccl from library libnccl.so.2\n",
      "INFO 01-06 20:33:47 pynccl.py:69] vLLM is using nccl==2.21.5\n",
      "\u001b[1;36m(VllmWorkerProcess pid=555068)\u001b[0;0m \u001b[1;36m(VllmWorkerProcess pid=555070)\u001b[0;0m \u001b[1;36m(VllmWorkerProcess pid=555069)\u001b[0;0m INFO 01-06 20:33:47 utils.py:922] Found nccl from library libnccl.so.2\n",
      "INFO 01-06 20:33:47 utils.py:922] Found nccl from library libnccl.so.2\n",
      "INFO 01-06 20:33:47 utils.py:922] Found nccl from library libnccl.so.2\n",
      "\u001b[1;36m(VllmWorkerProcess pid=555068)\u001b[0;0m INFO 01-06 20:33:47 pynccl.py:69] vLLM is using nccl==2.21.5\n",
      "\u001b[1;36m(VllmWorkerProcess pid=555070)\u001b[0;0m \u001b[1;36m(VllmWorkerProcess pid=555069)\u001b[0;0m INFO 01-06 20:33:47 pynccl.py:69] vLLM is using nccl==2.21.5\n",
      "INFO 01-06 20:33:47 pynccl.py:69] vLLM is using nccl==2.21.5\n",
      "INFO 01-06 20:33:50 custom_all_reduce_utils.py:242] reading GPU P2P access cache from /root/.cache/vllm/gpu_p2p_access_cache_for_0,1,2,3.json\n",
      "\u001b[1;36m(VllmWorkerProcess pid=555068)\u001b[0;0m \u001b[1;36m(VllmWorkerProcess pid=555069)\u001b[0;0m INFO 01-06 20:33:50 custom_all_reduce_utils.py:242] reading GPU P2P access cache from /root/.cache/vllm/gpu_p2p_access_cache_for_0,1,2,3.json\n",
      "INFO 01-06 20:33:50 custom_all_reduce_utils.py:242] reading GPU P2P access cache from /root/.cache/vllm/gpu_p2p_access_cache_for_0,1,2,3.json\n",
      "\u001b[1;36m(VllmWorkerProcess pid=555070)\u001b[0;0m INFO 01-06 20:33:50 custom_all_reduce_utils.py:242] reading GPU P2P access cache from /root/.cache/vllm/gpu_p2p_access_cache_for_0,1,2,3.json\n",
      "INFO 01-06 20:33:50 shm_broadcast.py:255] vLLM message queue communication handle: Handle(connect_ip='127.0.0.1', local_reader_ranks=[1, 2, 3], buffer_handle=(3, 4194304, 6, 'psm_2bd04c52'), local_subscribe_port=51997, remote_subscribe_port=None)\n",
      "INFO 01-06 20:33:50 model_runner.py:1092] Starting to load model Qwen/Qwen2.5-72B-Instruct...\n",
      "\u001b[1;36m(VllmWorkerProcess pid=555068)\u001b[0;0m \u001b[1;36m(VllmWorkerProcess pid=555069)\u001b[0;0m INFO 01-06 20:33:50 model_runner.py:1092] Starting to load model Qwen/Qwen2.5-72B-Instruct...\n",
      "\u001b[1;36m(VllmWorkerProcess pid=555070)\u001b[0;0m INFO 01-06 20:33:50 model_runner.py:1092] Starting to load model Qwen/Qwen2.5-72B-Instruct...\n",
      "INFO 01-06 20:33:50 model_runner.py:1092] Starting to load model Qwen/Qwen2.5-72B-Instruct...\n",
      "INFO 01-06 20:33:50 weight_utils.py:243] Using model weights format ['*.safetensors']\n",
      "\u001b[1;36m(VllmWorkerProcess pid=555070)\u001b[0;0m INFO 01-06 20:33:50 weight_utils.py:243] Using model weights format ['*.safetensors']\n",
      "\u001b[1;36m(VllmWorkerProcess pid=555069)\u001b[0;0m INFO 01-06 20:33:50 weight_utils.py:243] Using model weights format ['*.safetensors']\n",
      "\u001b[1;36m(VllmWorkerProcess pid=555068)\u001b[0;0m INFO 01-06 20:33:50 weight_utils.py:243] Using model weights format ['*.safetensors']\n"
     ]
    },
    {
     "data": {
      "application/vnd.jupyter.widget-view+json": {
       "model_id": "281df970afce4558929b8a7e9509496f",
       "version_major": 2,
       "version_minor": 0
      },
      "text/plain": [
       "Loading safetensors checkpoint shards:   0% Completed | 0/37 [00:00<?, ?it/s]\n"
      ]
     },
     "metadata": {},
     "output_type": "display_data"
    },
    {
     "name": "stdout",
     "output_type": "stream",
     "text": [
      "\u001b[1;36m(VllmWorkerProcess pid=555068)\u001b[0;0m INFO 01-06 20:34:36 model_runner.py:1097] Loading model weights took 33.9833 GB\n",
      "INFO 01-06 20:34:36 model_runner.py:1097] Loading model weights took 33.9833 GB\n",
      "\u001b[1;36m(VllmWorkerProcess pid=555069)\u001b[0;0m INFO 01-06 20:34:36 model_runner.py:1097] Loading model weights took 33.9833 GB\n",
      "\u001b[1;36m(VllmWorkerProcess pid=555070)\u001b[0;0m INFO 01-06 20:34:36 model_runner.py:1097] Loading model weights took 33.9833 GB\n",
      "\u001b[1;36m(VllmWorkerProcess pid=555068)\u001b[0;0m INFO 01-06 20:34:40 worker.py:241] Memory profiling takes 4.23 seconds\n",
      "\u001b[1;36m(VllmWorkerProcess pid=555068)\u001b[0;0m INFO 01-06 20:34:40 worker.py:241] the current vLLM instance can use total_gpu_memory (139.72GiB) x gpu_memory_utilization (0.98) = 136.92GiB\n",
      "\u001b[1;36m(VllmWorkerProcess pid=555068)\u001b[0;0m INFO 01-06 20:34:40 worker.py:241] model weights take 33.98GiB; non_torch_memory takes 4.14GiB; PyTorch activation peak memory takes 2.92GiB; the rest of the memory reserved for KV Cache is 95.88GiB.\n",
      "\u001b[1;36m(VllmWorkerProcess pid=555070)\u001b[0;0m INFO 01-06 20:34:40 worker.py:241] Memory profiling takes 4.24 seconds\n",
      "\u001b[1;36m(VllmWorkerProcess pid=555070)\u001b[0;0m INFO 01-06 20:34:40 worker.py:241] the current vLLM instance can use total_gpu_memory (139.72GiB) x gpu_memory_utilization (0.98) = 136.92GiB\n",
      "\u001b[1;36m(VllmWorkerProcess pid=555070)\u001b[0;0m INFO 01-06 20:34:40 worker.py:241] model weights take 33.98GiB; non_torch_memory takes 3.67GiB; PyTorch activation peak memory takes 2.92GiB; the rest of the memory reserved for KV Cache is 96.35GiB.\n",
      "\u001b[1;36m(VllmWorkerProcess pid=555069)\u001b[0;0m INFO 01-06 20:34:40 worker.py:241] Memory profiling takes 4.26 seconds\n",
      "\u001b[1;36m(VllmWorkerProcess pid=555069)\u001b[0;0m INFO 01-06 20:34:40 worker.py:241] the current vLLM instance can use total_gpu_memory (139.72GiB) x gpu_memory_utilization (0.98) = 136.92GiB\n",
      "\u001b[1;36m(VllmWorkerProcess pid=555069)\u001b[0;0m INFO 01-06 20:34:40 worker.py:241] model weights take 33.98GiB; non_torch_memory takes 4.14GiB; PyTorch activation peak memory takes 2.92GiB; the rest of the memory reserved for KV Cache is 95.88GiB.\n",
      "INFO 01-06 20:34:41 worker.py:241] Memory profiling takes 4.30 seconds\n",
      "INFO 01-06 20:34:41 worker.py:241] the current vLLM instance can use total_gpu_memory (139.72GiB) x gpu_memory_utilization (0.98) = 136.92GiB\n",
      "INFO 01-06 20:34:41 worker.py:241] model weights take 33.98GiB; non_torch_memory takes 4.92GiB; PyTorch activation peak memory takes 2.92GiB; the rest of the memory reserved for KV Cache is 95.09GiB.\n",
      "INFO 01-06 20:34:41 distributed_gpu_executor.py:57] # GPU blocks: 77900, # CPU blocks: 3276\n",
      "INFO 01-06 20:34:41 distributed_gpu_executor.py:61] Maximum concurrency for 24576 tokens per request: 50.72x\n",
      "\u001b[1;36m(VllmWorkerProcess pid=555068)\u001b[0;0m INFO 01-06 20:34:44 model_runner.py:1413] Capturing cudagraphs for decoding. This may lead to unexpected consequences if the model is not static. To run the model in eager mode, set 'enforce_eager=True' or use '--enforce-eager' in the CLI.\n",
      "\u001b[1;36m(VllmWorkerProcess pid=555068)\u001b[0;0m INFO 01-06 20:34:44 model_runner.py:1417] If out-of-memory error occurs during cudagraph capture, consider decreasing `gpu_memory_utilization` or switching to eager mode. You can also reduce the `max_num_seqs` as needed to decrease memory usage.\n",
      "INFO 01-06 20:34:44 model_runner.py:1413] Capturing cudagraphs for decoding. This may lead to unexpected consequences if the model is not static. To run the model in eager mode, set 'enforce_eager=True' or use '--enforce-eager' in the CLI.\n",
      "INFO 01-06 20:34:44 model_runner.py:1417] If out-of-memory error occurs during cudagraph capture, consider decreasing `gpu_memory_utilization` or switching to eager mode. You can also reduce the `max_num_seqs` as needed to decrease memory usage.\n",
      "\u001b[1;36m(VllmWorkerProcess pid=555069)\u001b[0;0m INFO 01-06 20:34:44 model_runner.py:1413] Capturing cudagraphs for decoding. This may lead to unexpected consequences if the model is not static. To run the model in eager mode, set 'enforce_eager=True' or use '--enforce-eager' in the CLI.\n",
      "\u001b[1;36m(VllmWorkerProcess pid=555069)\u001b[0;0m INFO 01-06 20:34:44 model_runner.py:1417] If out-of-memory error occurs during cudagraph capture, consider decreasing `gpu_memory_utilization` or switching to eager mode. You can also reduce the `max_num_seqs` as needed to decrease memory usage.\n",
      "\u001b[1;36m(VllmWorkerProcess pid=555070)\u001b[0;0m INFO 01-06 20:34:44 model_runner.py:1413] Capturing cudagraphs for decoding. This may lead to unexpected consequences if the model is not static. To run the model in eager mode, set 'enforce_eager=True' or use '--enforce-eager' in the CLI.\n",
      "\u001b[1;36m(VllmWorkerProcess pid=555070)\u001b[0;0m INFO 01-06 20:34:44 model_runner.py:1417] If out-of-memory error occurs during cudagraph capture, consider decreasing `gpu_memory_utilization` or switching to eager mode. You can also reduce the `max_num_seqs` as needed to decrease memory usage.\n",
      "INFO 01-06 20:34:50 custom_all_reduce.py:224] Registering 1771 cuda graph addresses\n",
      "\u001b[1;36m(VllmWorkerProcess pid=555068)\u001b[0;0m INFO 01-06 20:34:50 custom_all_reduce.py:224] Registering 1771 cuda graph addresses\n",
      "\u001b[1;36m(VllmWorkerProcess pid=555069)\u001b[0;0m INFO 01-06 20:34:51 custom_all_reduce.py:224] Registering 1771 cuda graph addresses\n",
      "\u001b[1;36m(VllmWorkerProcess pid=555070)\u001b[0;0m INFO 01-06 20:34:51 custom_all_reduce.py:224] Registering 1771 cuda graph addresses\n",
      "\u001b[1;36m(VllmWorkerProcess pid=555070)\u001b[0;0m INFO 01-06 20:34:51 model_runner.py:1527] Graph capturing finished in 7 secs, took 0.19 GiB\n",
      "INFO 01-06 20:34:51 model_runner.py:1527] Graph capturing finished in 7 secs, took 0.19 GiB\n",
      "\u001b[1;36m(VllmWorkerProcess pid=555068)\u001b[0;0m \u001b[1;36m(VllmWorkerProcess pid=555069)\u001b[0;0m INFO 01-06 20:34:51 model_runner.py:1527] Graph capturing finished in 7 secs, took 0.19 GiB\n",
      "INFO 01-06 20:34:51 model_runner.py:1527] Graph capturing finished in 7 secs, took 0.19 GiB\n",
      "INFO 01-06 20:34:51 llm_engine.py:446] init engine (profile, create kv cache, warmup model) took 14.84 seconds\n"
     ]
    }
   ],
   "source": [
    "llm = LLM(model=model_id, max_model_len=24576, tensor_parallel_size=NUM_GPUS, gpu_memory_utilization=0.98, max_num_seqs=BATCH_SIZE)"
   ]
  },
  {
   "cell_type": "code",
   "execution_count": 19,
   "id": "478c8c2c-485a-44ba-8bda-8c7e128b3175",
   "metadata": {},
   "outputs": [],
   "source": [
    "def compute_gt_accuracy(gt_texts, synthetic_texts):\n",
    "    messages = [[{\"role\": \"system\", \"content\": system_prompt},\n",
    "                {\"role\": \"user\", \"content\": \"text1:\\n\" + text1 + \"\\n\\ntext2:\\n\" + text2 + \"\\n\\nresponse:\" }]\n",
    "                for text1, text2 in zip(gt_texts, synthetic_texts)]\n",
    "\n",
    "    guided_decoding_params = GuidedDecodingParams(json=json_schema)\n",
    "    outputs = llm.chat(messages, SamplingParams(temperature=0.3, top_p=0.9, max_tokens=1536, guided_decoding=guided_decoding_params))\n",
    "\n",
    "    judgements = []\n",
    "    scores = []\n",
    "    for output in outputs:\n",
    "        response = output.outputs[0].text.strip()\n",
    "        judgement = []\n",
    "        score = -1.0\n",
    "        try:\n",
    "            judgement = json.loads(response)\n",
    "            num_matches = sum([1 for j in judgement if j['match']])\n",
    "            score = num_matches / len(judgement) if len(judgement) > 0 else -1\n",
    "        except Exception:\n",
    "            pass\n",
    "            #print(traceback.format_exc())\n",
    "\n",
    "        judgements.append(judgement)\n",
    "        scores.append(score)\n",
    "        \n",
    "    return {\n",
    "        \"cpt_judgement\": judgements,\n",
    "        \"cpt_accuracy_score\": scores\n",
    "    }   "
   ]
  },
  {
   "cell_type": "code",
   "execution_count": 20,
   "id": "9987af43-1b4d-476d-8a8d-af739613a805",
   "metadata": {},
   "outputs": [],
   "source": [
    "def get_score(ds):\n",
    "    valid_scores = [score for score in ds['cpt_accuracy_score'] if score >= 0]\n",
    "    return sum(valid_scores) / len(valid_scores)"
   ]
  },
  {
   "cell_type": "code",
   "execution_count": 27,
   "id": "f0ee8f13-1a8c-4726-a7b3-0c0d2f3ab847",
   "metadata": {},
   "outputs": [],
   "source": [
    "ds_list = [\n",
    "    'amang1802/cpt_gen_content_topic_conditioned_L3.1_70B_qna',\n",
    "    'amang1802/cpt_gen_content_topic_conditioned_L3.1_70B_cpt_qna_epoch19',\n",
    "    'amang1802/cpt_gen_content_topic_conditioned_L3.1_8B_qna',\n",
    "    'amang1802/cpt_gen_content_topic_conditioned_L3.1_8B_cpt_qna_epoch19'\n",
    "]"
   ]
  },
  {
   "cell_type": "code",
   "execution_count": null,
   "id": "00e927fc-a607-4b15-818a-9510cfe59aad",
   "metadata": {},
   "outputs": [
    {
     "data": {
      "application/vnd.jupyter.widget-view+json": {
       "model_id": "915eea836a564e5bba89952919ad5f76",
       "version_major": 2,
       "version_minor": 0
      },
      "text/plain": [
       "Map:   0%|          | 0/5119 [00:00<?, ? examples/s]"
      ]
     },
     "metadata": {},
     "output_type": "display_data"
    },
    {
     "name": "stderr",
     "output_type": "stream",
     "text": [
      "\n",
      "\u001b[Acessed prompts:   0% 0/5119 [00:00<?, ?it/s, est. speed input: 0.00 toks/s, output: 0.00 toks/s]\n",
      "\u001b[Acessed prompts:   0% 1/5119 [00:31<44:32:29, 31.33s/it, est. speed input: 122.09 toks/s, output: 2.97 toks/s]\n",
      "\u001b[Acessed prompts:   0% 2/5119 [00:32<19:31:00, 13.73s/it, est. speed input: 315.72 toks/s, output: 6.26 toks/s]\n",
      "\u001b[Acessed prompts:   0% 3/5119 [00:33<11:22:09,  8.00s/it, est. speed input: 483.34 toks/s, output: 9.88 toks/s]\n",
      "\u001b[Acessed prompts:   0% 4/5119 [00:34<7:02:59,  4.96s/it, est. speed input: 609.62 toks/s, output: 13.62 toks/s]\n",
      "\u001b[Acessed prompts:   0% 5/5119 [00:35<4:58:59,  3.51s/it, est. speed input: 703.66 toks/s, output: 17.27 toks/s]\n",
      "\u001b[Acessed prompts:   0% 6/5119 [00:35<3:36:48,  2.54s/it, est. speed input: 852.17 toks/s, output: 21.02 toks/s]\n",
      "\u001b[Acessed prompts:   0% 7/5119 [00:36<2:44:34,  1.93s/it, est. speed input: 948.62 toks/s, output: 24.77 toks/s]\n",
      "\u001b[Acessed prompts:   0% 8/5119 [00:37<2:12:27,  1.56s/it, est. speed input: 1079.28 toks/s, output: 28.59 toks/s]\n",
      "\u001b[Acessed prompts:   0% 9/5119 [00:38<1:52:45,  1.32s/it, est. speed input: 1211.89 toks/s, output: 32.37 toks/s]\n",
      "\u001b[Acessed prompts:   0% 10/5119 [00:38<1:28:52,  1.04s/it, est. speed input: 1374.56 toks/s, output: 36.41 toks/s]\n",
      "\u001b[Acessed prompts:   0% 11/5119 [00:39<1:19:26,  1.07it/s, est. speed input: 1446.98 toks/s, output: 40.24 toks/s]\n",
      "\u001b[Acessed prompts:   0% 12/5119 [00:39<1:06:44,  1.28it/s, est. speed input: 1538.52 toks/s, output: 44.23 toks/s]\n",
      "\u001b[Acessed prompts:   0% 13/5119 [00:41<1:23:57,  1.01it/s, est. speed input: 1576.45 toks/s, output: 47.47 toks/s]\n",
      "\u001b[Acessed prompts:   0% 14/5119 [00:42<1:47:30,  1.26s/it, est. speed input: 1642.47 toks/s, output: 50.72 toks/s]\n",
      "\u001b[Acessed prompts:   0% 15/5119 [00:45<2:12:49,  1.56s/it, est. speed input: 1688.66 toks/s, output: 54.12 toks/s]\n",
      "\u001b[Acessed prompts:   0% 16/5119 [00:45<1:48:55,  1.28s/it, est. speed input: 1769.22 toks/s, output: 59.31 toks/s]\n",
      "\u001b[Acessed prompts:   0% 17/5119 [00:46<1:26:14,  1.01s/it, est. speed input: 1843.06 toks/s, output: 64.73 toks/s]\n",
      "\u001b[Acessed prompts:   0% 18/5119 [00:47<1:29:24,  1.05s/it, est. speed input: 1874.76 toks/s, output: 69.21 toks/s]\n",
      "\u001b[Acessed prompts:   0% 19/5119 [00:48<1:26:45,  1.02s/it, est. speed input: 2014.86 toks/s, output: 73.98 toks/s]\n",
      "\u001b[Acessed prompts:   0% 20/5119 [00:49<1:22:23,  1.03it/s, est. speed input: 2105.09 toks/s, output: 78.90 toks/s]\n",
      "\u001b[Acessed prompts:   0% 21/5119 [00:49<1:09:17,  1.23it/s, est. speed input: 2199.46 toks/s, output: 84.38 toks/s]\n",
      "\u001b[Acessed prompts:   0% 22/5119 [00:50<1:13:30,  1.16it/s, est. speed input: 2244.77 toks/s, output: 89.05 toks/s]\n",
      "\u001b[Acessed prompts:   0% 23/5119 [00:51<1:07:25,  1.26it/s, est. speed input: 2327.32 toks/s, output: 91.41 toks/s]\n",
      "\u001b[Acessed prompts:   0% 24/5119 [00:52<1:09:29,  1.22it/s, est. speed input: 2366.30 toks/s, output: 93.41 toks/s]\n",
      "\u001b[Acessed prompts:   0% 25/5119 [00:52<56:54,  1.49it/s, est. speed input: 2459.82 toks/s, output: 99.23 toks/s]  \n",
      "\u001b[Acessed prompts:   1% 26/5119 [00:53<1:16:07,  1.12it/s, est. speed input: 2500.73 toks/s, output: 99.99 toks/s]\n",
      "\u001b[Acessed prompts:   1% 27/5119 [00:54<1:03:15,  1.34it/s, est. speed input: 2587.65 toks/s, output: 103.47 toks/s]\n",
      "\u001b[Acessed prompts:   1% 28/5119 [00:55<1:14:53,  1.13it/s, est. speed input: 2601.24 toks/s, output: 108.00 toks/s]\n",
      "\u001b[Acessed prompts:   1% 29/5119 [00:57<1:33:02,  1.10s/it, est. speed input: 2634.64 toks/s, output: 112.01 toks/s]\n",
      "\u001b[Acessed prompts:   1% 30/5119 [00:57<1:23:23,  1.02it/s, est. speed input: 2675.60 toks/s, output: 117.66 toks/s]\n",
      "\u001b[Acessed prompts:   1% 31/5119 [00:59<1:52:09,  1.32s/it, est. speed input: 2662.41 toks/s, output: 120.90 toks/s]\n",
      "\u001b[Acessed prompts:   1% 32/5119 [01:00<1:35:37,  1.13s/it, est. speed input: 2727.53 toks/s, output: 126.92 toks/s]\n",
      "\u001b[Acessed prompts:   1% 34/5119 [01:01<1:11:24,  1.19it/s, est. speed input: 2870.13 toks/s, output: 139.34 toks/s]\n",
      "\u001b[Acessed prompts:   1% 35/5119 [01:02<1:12:40,  1.17it/s, est. speed input: 2920.92 toks/s, output: 144.65 toks/s]\n",
      "\u001b[Acessed prompts:   1% 36/5119 [01:04<1:41:38,  1.20s/it, est. speed input: 2932.72 toks/s, output: 147.45 toks/s]\n",
      "\u001b[Acessed prompts:   1% 37/5119 [01:06<1:55:04,  1.36s/it, est. speed input: 2921.38 toks/s, output: 151.36 toks/s]\n",
      "\u001b[Acessed prompts:   1% 38/5119 [01:07<1:42:08,  1.21s/it, est. speed input: 2954.01 toks/s, output: 157.40 toks/s]\n",
      "\u001b[Acessed prompts:   1% 39/5119 [01:08<1:32:51,  1.10s/it, est. speed input: 2993.12 toks/s, output: 158.18 toks/s]\n",
      "\u001b[Acessed prompts:   1% 40/5119 [01:10<1:55:12,  1.36s/it, est. speed input: 2964.02 toks/s, output: 159.98 toks/s]\n",
      "\u001b[Acessed prompts:   1% 41/5119 [01:10<1:34:20,  1.11s/it, est. speed input: 3013.76 toks/s, output: 165.42 toks/s]\n",
      "\u001b[Acessed prompts:   1% 42/5119 [01:11<1:24:31,  1.00it/s, est. speed input: 3063.81 toks/s, output: 171.93 toks/s]\n",
      "\u001b[Acessed prompts:   1% 44/5119 [01:12<1:16:01,  1.11it/s, est. speed input: 3140.27 toks/s, output: 181.69 toks/s]\n",
      "\u001b[Acessed prompts:   1% 45/5119 [01:13<1:13:12,  1.16it/s, est. speed input: 3184.67 toks/s, output: 185.56 toks/s]\n",
      "\u001b[Acessed prompts:   1% 46/5119 [01:14<1:06:33,  1.27it/s, est. speed input: 3237.51 toks/s, output: 186.26 toks/s]\n",
      "\u001b[Acessed prompts:   1% 47/5119 [01:15<1:08:02,  1.24it/s, est. speed input: 3277.55 toks/s, output: 192.36 toks/s]\n",
      "\u001b[Acessed prompts:   1% 48/5119 [01:15<1:10:09,  1.20it/s, est. speed input: 3295.21 toks/s, output: 198.32 toks/s]\n",
      "\u001b[Acessed prompts:   1% 49/5119 [01:16<1:13:56,  1.14it/s, est. speed input: 3327.51 toks/s, output: 204.09 toks/s]\n",
      "\u001b[Acessed prompts:   1% 51/5119 [01:18<1:11:21,  1.18it/s, est. speed input: 3386.94 toks/s, output: 216.38 toks/s]\n",
      "\u001b[Acessed prompts:   1% 52/5119 [01:19<1:07:56,  1.24it/s, est. speed input: 3435.32 toks/s, output: 222.85 toks/s]\n",
      "\u001b[Acessed prompts:   1% 54/5119 [01:21<1:25:08,  1.01s/it, est. speed input: 3475.05 toks/s, output: 219.25 toks/s]\n",
      "\u001b[Acessed prompts:   1% 55/5119 [01:22<1:17:35,  1.09it/s, est. speed input: 3517.06 toks/s, output: 220.77 toks/s]\n",
      "\u001b[Acessed prompts:   1% 56/5119 [01:23<1:25:53,  1.02s/it, est. speed input: 3535.05 toks/s, output: 221.43 toks/s]\n",
      "\u001b[Acessed prompts:   1% 57/5119 [01:24<1:27:13,  1.03s/it, est. speed input: 3575.42 toks/s, output: 227.28 toks/s]\n",
      "\u001b[Acessed prompts:   1% 58/5119 [01:25<1:20:52,  1.04it/s, est. speed input: 3613.36 toks/s, output: 233.95 toks/s]\n",
      "\u001b[Acessed prompts:   1% 59/5119 [01:27<1:39:03,  1.17s/it, est. speed input: 3587.09 toks/s, output: 235.04 toks/s]\n",
      "\u001b[Acessed prompts:   1% 60/5119 [01:28<1:50:10,  1.31s/it, est. speed input: 3592.70 toks/s, output: 239.57 toks/s]\n",
      "\u001b[Acessed prompts:   1% 61/5119 [01:29<1:39:18,  1.18s/it, est. speed input: 3622.54 toks/s, output: 242.40 toks/s]\n",
      "\u001b[Acessed prompts:   1% 62/5119 [01:31<1:44:08,  1.24s/it, est. speed input: 3617.79 toks/s, output: 247.73 toks/s]\n",
      "\u001b[Acessed prompts:   1% 63/5119 [01:31<1:28:35,  1.05s/it, est. speed input: 3658.82 toks/s, output: 248.07 toks/s]\n",
      "\u001b[Acessed prompts:   1% 64/5119 [01:32<1:26:28,  1.03s/it, est. speed input: 3683.21 toks/s, output: 251.51 toks/s]\n",
      "\u001b[Acessed prompts:   1% 65/5119 [01:33<1:19:00,  1.07it/s, est. speed input: 3707.00 toks/s, output: 258.47 toks/s]\n",
      "\u001b[Acessed prompts:   1% 66/5119 [01:34<1:10:16,  1.20it/s, est. speed input: 3746.10 toks/s, output: 258.78 toks/s]\n",
      "\u001b[Acessed prompts:   1% 67/5119 [01:35<1:22:27,  1.02it/s, est. speed input: 3753.27 toks/s, output: 256.49 toks/s]\n",
      "\u001b[Acessed prompts:   1% 68/5119 [01:36<1:16:18,  1.10it/s, est. speed input: 3769.36 toks/s, output: 261.82 toks/s]\n",
      "\u001b[Acessed prompts:   1% 69/5119 [01:36<1:04:49,  1.30it/s, est. speed input: 3811.98 toks/s, output: 262.97 toks/s]\n",
      "\u001b[Acessed prompts:   1% 70/5119 [01:37<1:13:50,  1.14it/s, est. speed input: 3806.87 toks/s, output: 263.08 toks/s]\n",
      "\u001b[Acessed prompts:   1% 71/5119 [01:38<1:15:26,  1.12it/s, est. speed input: 3812.82 toks/s, output: 269.61 toks/s]\n",
      "\u001b[Acessed prompts:   1% 72/5119 [01:39<1:13:31,  1.14it/s, est. speed input: 3844.63 toks/s, output: 276.45 toks/s]"
     ]
    }
   ],
   "source": [
    "scores = {}\n",
    "for ds in ds_list:\n",
    "    content_ds = load_dataset(ds)['train']\n",
    "    judged_ds = content_ds.map(compute_gt_accuracy, input_columns=['text', 'cpt_gen_content'], batched=True, batch_size=content_ds.num_rows)\n",
    "    judged_ds.push_to_hub(ds)\n",
    "    scores[ds] = get_score(judged_ds)"
   ]
  },
  {
   "cell_type": "code",
   "execution_count": null,
   "id": "b32d7582-fcac-401a-948c-87ac56459700",
   "metadata": {},
   "outputs": [],
   "source": [
    "print(scores)"
   ]
  },
  {
   "cell_type": "code",
   "execution_count": null,
   "id": "ed913b21-a140-4805-b8d1-3e3a8e569361",
   "metadata": {},
   "outputs": [],
   "source": []
  }
 ],
 "metadata": {
  "kernelspec": {
   "display_name": "Python 3 (ipykernel)",
   "language": "python",
   "name": "python3"
  },
  "language_info": {
   "codemirror_mode": {
    "name": "ipython",
    "version": 3
   },
   "file_extension": ".py",
   "mimetype": "text/x-python",
   "name": "python",
   "nbconvert_exporter": "python",
   "pygments_lexer": "ipython3",
   "version": "3.10.12"
  }
 },
 "nbformat": 4,
 "nbformat_minor": 5
}
