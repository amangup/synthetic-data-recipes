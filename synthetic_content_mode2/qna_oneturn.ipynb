{
 "cells": [
  {
   "cell_type": "code",
   "execution_count": 118,
   "id": "fbcf6e57-1c59-44c3-8710-a3fa927b4046",
   "metadata": {},
   "outputs": [],
   "source": [
    "from datasets import load_dataset, Dataset\n",
    "from jinja2 import Template\n",
    "from pydantic import BaseModel, TypeAdapter\n",
    "from transformers import AutoTokenizer\n",
    "from vllm import LLM, SamplingParams\n",
    "from vllm.sampling_params import GuidedDecodingParams\n",
    "\n",
    "import json\n",
    "import traceback"
   ]
  },
  {
   "cell_type": "code",
   "execution_count": 102,
   "id": "0107fb4c-5a46-4dbb-8774-209b71168555",
   "metadata": {},
   "outputs": [],
   "source": [
    "NUM_TOPICS = 1024 * 10\n",
    "NUM_GPUS = 4\n",
    "NUM_DUPS = 1"
   ]
  },
  {
   "cell_type": "code",
   "execution_count": 103,
   "id": "a2fdeca6-d6b4-4d2f-a438-6394da58945d",
   "metadata": {},
   "outputs": [
    {
     "data": {
      "application/vnd.jupyter.widget-view+json": {
       "model_id": "0c72be8e8d2b4694ad10d8a0b33506b5",
       "version_major": 2,
       "version_minor": 0
      },
      "text/plain": [
       "Resolving data files:   0%|          | 0/41 [00:00<?, ?it/s]"
      ]
     },
     "metadata": {},
     "output_type": "display_data"
    }
   ],
   "source": [
    "ds = load_dataset('wikimedia/wikipedia', name='20231101.en', split='train', streaming=True)"
   ]
  },
  {
   "cell_type": "code",
   "execution_count": 104,
   "id": "0a9d9a50-7876-49d5-8f18-27558e4584c4",
   "metadata": {},
   "outputs": [],
   "source": [
    "with open(\"qna_oneturn.jinja2\") as f:\n",
    "    template_str = f.read()"
   ]
  },
  {
   "cell_type": "code",
   "execution_count": 105,
   "id": "3379682b-e945-48ce-bfea-b689076cb0b2",
   "metadata": {},
   "outputs": [],
   "source": [
    "with open(\"qna_shots.json\") as f:\n",
    "    content_json = json.load(f)\n",
    "\n",
    "for idx, item in enumerate(content_json):\n",
    "    content_json[idx]['qna_json_str'] = json.dumps(item['qna'], indent=2)"
   ]
  },
  {
   "cell_type": "code",
   "execution_count": 106,
   "id": "79c11090-d732-4015-9040-644c7ff0f0fc",
   "metadata": {},
   "outputs": [],
   "source": [
    "template = Template(template_str)"
   ]
  },
  {
   "cell_type": "code",
   "execution_count": 107,
   "id": "d8196360-e59b-4ce2-bbcd-c012f0ae1405",
   "metadata": {},
   "outputs": [],
   "source": [
    "system_prompt = template.render(examples=content_json)"
   ]
  },
  {
   "cell_type": "code",
   "execution_count": 108,
   "id": "8d3cb5f4-7420-473f-9cfc-a0aa249c12f2",
   "metadata": {},
   "outputs": [
    {
     "name": "stdout",
     "output_type": "stream",
     "text": [
      "# Instructions\n",
      "\n",
      "You are a pedogogical expert is going to construct questions and answers from user provided text. Construct questions that are helpful to students who are learning about the topic and provide meaningful insights in your answers. They should help them learn facts, understand concepts, and also connect different facts and concepts. Use illustrative examples and analogies to explain concepts.\n",
      "\n",
      "Output as many questions and answer pairs as you can. Ensure every little detail or concept is discussed in at least one question and answer pair. It's fine if multiple questions discuss the same or similar details from the text. Generate upto 100 questions and answer pairs.\n",
      "\n",
      "# Output\n",
      "\n",
      "Respond in a JSON in the following format:\n",
      "\n",
      "[\n",
      "  {\n",
      "    \"question\": \"string\",\n",
      "    \"answer\": \"string\",\n",
      "  },\n",
      "  ...\n",
      "]\n",
      "\n",
      "# Examples\n",
      "The following examples show the types of questions and answers to generate for a given text. They are only a small sample of relevant question and answer pairs that should be generated.\n",
      "\n",
      "\n",
      "Text:\n",
      "Ancient Egypt was a civilization of ancient Northeast Africa. It was concentrated along the lower reaches of the Nile River, situated within the contemporary territory of modern-day Egypt. Ancient Egyptian civilization followed prehistoric Egypt and coalesced around 3100 BC (according to conventional Egyptian chronology) with the political unification of Upper and Lower Egypt under pharaoh or king Menes (often identified with Narmer). The history of ancient Egypt unfolded as a series of stable kingdoms interspersed by periods of relative instability known as \"Intermediate Periods\". The various kingdoms fall into one of three categories: the Old Kingdom of the Early Bronze Age, the Middle Kingdom of the Middle Bronze Age, or the New Kingdom of the Late Bronze Age.\n",
      "\n",
      "Ancient Egypt reached the pinnacle of its power during the New Kingdom, ruling much of Nubia and a sizable portion of the Levant. After this period, it entered an era of slow decline. During the course of its history, ancient Egypt was invaded or conquered by a number of foreign powers, including the Hyksos, the Nubians, the Assyrians, the Achaemenid Persians, and the Macedonians under Alexander the Great. The Greek Ptolemaic Kingdom, formed in the aftermath of Alexander's death, ruled until 30 BC, when, under Cleopatra, it fell to the Roman Empire and became a Roman province. Egypt remained under Roman control until 642 AD when it was conquered by the Rashidun Caliphate.\n",
      "\n",
      "The many achievements of the ancient Egyptians include the quarrying, surveying, and construction techniques that supported the building of monumental pyramids, temples, and obelisks; a system of mathematics, a practical and effective system of medicine, irrigation systems, and agricultural production techniques, the first known planked boats, Egyptian faience and glass technology, new forms of literature, and the earliest known peace treaty, made with the Hittites. Ancient Egypt has left a lasting legacy. Its art and architecture were widely copied, and its antiquities were carried off to be studied, admired, or coveted in the far corners of the world. Its monumental ruins have inspired the imaginations of travelers and writers for millennia. A newfound respect for antiquities and excavations in the early modern period by Europeans and Egyptians has led to the scientific investigation of Egyptian civilization and a greater appreciation of its cultural legacy.\n",
      "\n",
      "The Great Sphinx of Giza is a limestone statue of a reclining sphinx, a mythical creature with the head of a human and the body of a lion. Facing directly from west to east, it stands on the Giza Plateau on the west bank of the Nile in Giza, Egypt. The face of the Sphinx appears to represent the pharaoh Khafre. The original shape of the Sphinx was cut from bedrock and has since been restored with layers of limestone blocks. It measures 73 m (240 ft) long from paw to tail, 20 m (66 ft) high from the base to the top of the head, and 19 m (62 ft) wide at its rear haunches.\n",
      "\n",
      "The Sphinx is the oldest known monumental sculpture in Egypt and one of the most recognizable statues in the world. The archaeological evidence suggests that it was created by ancient Egyptians of the Old Kingdom during the reign of Khafre (c. 2558–2532 BC).\n",
      "\n",
      "The circumstances surrounding the Sphinx's nose being broken off are uncertain, but close inspection suggests a deliberate act using rods or chisels. Contrary to a popular myth, it was not broken off by cannon-fire from Napoleon's troops during his 1798 Egyptian campaign. Its absence is, in fact, depicted in artwork predating Napoleon and referred to in descriptions by the 15th-century historian al-Maqrīzī. He, writing in the early 15th century, attributes the loss of the nose to Muhammad Sa'im al-Dahr, a Sufi Muslim from the khanqah of Sa'id al-Su'ada in 1378, who found local peasants making offerings to the Sphinx in the hope of increasing their harvest and therefore defaced the Sphinx in an act of iconoclasm. According to al-Maqrīzī, many people living in the area believed that the increased sand covering the Giza Plateau was retribution for al-Dahr's act of defacement. Al-Minufi (1443–1527) meanwhile mentioned that the Alexandrian Crusade in 1365 was divine retribution for Muhammad Sa'im al-Dahr's breaking off the nose of a sphinx.\n",
      "\n",
      "The Egyptian language is a northern Afro-Asiatic language closely related to the Berber and Semitic languages. It has the longest known history of any language having been written from c. 3200 BC to the Middle Ages and remaining as a spoken language for longer. The phases of ancient Egyptian are Old Egyptian, Middle Egyptian (Classical Egyptian), Late Egyptian, Demotic and Coptic. Egyptian writings do not show dialect differences before Coptic, but it was probably spoken in regional dialects around Memphis and later Thebes.\n",
      "\n",
      "Ancient Egyptian was a synthetic language, but it became more analytic later on. Late Egyptian developed prefixal definite and indefinite articles, which replaced the older inflectional suffixes. There was a change from the older verb–subject–object word order to subject–verb–object. The Egyptian hieroglyphic, hieratic, and demotic scripts were eventually replaced by the more phonetic Coptic alphabet. Coptic is still used in the liturgy of the Egyptian Orthodox Church, and traces of it are found in modern Egyptian Arabic.\n",
      "\n",
      "Ancient Egyptian has 25 consonants similar to those of other Afro-Asiatic languages. These include pharyngeal and emphatic consonants, voiced and voiceless stops, voiceless fricatives and voiced and voiceless affricates. It has three long and three short vowels, which expanded in Late Egyptian to about nine. The basic word in Egyptian, similar to Semitic and Berber, is a triliteral or biliteral root of consonants and semiconsonants. Suffixes are added to form words. The verb conjugation corresponds to the person. For example, the triconsonantal skeleton S-Ḏ-M is the semantic core of the word 'hear'; its basic conjugation is sḏm, 'he hears'. If the subject is a noun, suffixes are not added to the verb: sḏm ḥmt, 'the woman hears'.\n",
      "\n",
      "Hieroglyphic writing dates from c. 3000 BC and is composed of hundreds of symbols. A hieroglyph can represent a word, a sound, or a silent determinative; and the same symbol can serve different purposes in different contexts. Hieroglyphs were a formal script, used on stone monuments and in tombs, that could be as detailed as individual works of art. In day-to-day writing, scribes used a cursive form of writing, called hieratic, which was quicker and easier. While formal hieroglyphs may be read in rows or columns in either direction (though typically written from right to left), hieratic was always written from right to left, usually in horizontal rows. A new form of writing, Demotic, became the prevalent writing style, and it is this form of writing—along with formal hieroglyphs—that accompany the Greek text on the Rosetta Stone.\n",
      "\n",
      "Around the first century AD, the Coptic alphabet started to be used alongside the Demotic script. Coptic is a modified Greek alphabet with the addition of some Demotic signs. Although formal hieroglyphs were used in a ceremonial role until the fourth century, towards the end only a small handful of priests could still read them. As the traditional religious establishments were disbanded, knowledge of hieroglyphic writing was mostly lost. Attempts to decipher them date to the Byzantine and Islamic periods in Egypt, but only in the 1820s, after the discovery of the Rosetta Stone and years of research by Thomas Young and Jean-François Champollion, were hieroglyphs substantially deciphered.\n",
      "\n",
      "In Egypt beer was a primary source of nutrition, and consumed daily. Beer was such an important part of the Egyptian diet that it was even used as currency. Like most modern African beers, but unlike European beer, it was very cloudy with plenty of solids and highly nutritious, quite reminiscent of gruel. It was an important source of protein, minerals and vitamins and was so valuable that beer jars were often used as a measurement of value and were used in medicine. Little is known about specific types of beer, but there is mention of, for example, sweet beer but without any specific details mentioned.\n",
      "\n",
      "The Beautiful Festival of the Valley was a celebration of the dead, and could be more ancient than the Opet Festival as it can be traced back to the Middle Kingdom. It was said to be held as a remembrance of the dead, from the beginning of the Middle Kingdom. The annual festival was held at the New Moon of Month Two of the harvesting season Shemu. This was the 10th month in a calendar of 12. During Hatshepsut's reign she carried out both the Opet and The Beautiful Festival of the Valley to Amun.\n",
      "\n",
      "There was a grand procession at the start of the festival which could go for several days. It was a colourful and joyous occasion for the people of Thebes. The procession would be led by Amun, from the East (rising sun, new life, the direction of the living) to the West (setting sun, land of the dead.) A statue or picture of Amun, decorated with a broad collar and sun disk, would be led by priests down the Nile in a ceremonial boat or barque. This barque would then be placed in a ship known as the Userhet that was covered in gold and precious materials. This Userhet would be followed by boats for Mut and Khonsu to form the Theban Triad. The procession proceeded to the Temple of Million Years of the King where the townspeople would sacrifice food and drink as well as flowers to the flotilla of boats. Great quantities of flowers would be presented, as it is believed by the Egyptian culture that the flowers became filled with the essence of the deity. Townspeople then took these flowers to their relatives' tombs to pay their respects and ensure the revival of the deceased's spirit. They would drink and sleep on the deceased's tombs as different levels of consciousness blessed the dead and brought them closer to god. Amun's shrine was brought into the Djoser-djoseru to reaffirm the bond between the king of the gods and the king of the people.\n",
      "\n",
      "Tutankhamun or Tutankhamen (Ancient Egyptian: twt-ꜥnḫ-jmn; c. 1341 BC – c. 1323 BC), was an ancient Egyptian pharaoh who ruled c. 1332 – 1323 BC during the late Eighteenth Dynasty of ancient Egypt. Born Tutankhaten, he was likely a son of Akhenaten, thought to be the KV55 mummy. His mother was identified through DNA testing as The Younger Lady buried in KV35; she was a full sister of her husband.\n",
      "\n",
      "Tutankhamun acceded to the throne around the age of nine following the short reigns of his predecessors Smenkhkare and Neferneferuaten. He married his presumed half-sister Ankhesenpaaten, who was probably the mother of his two infant daughters. During his reign he restored the traditional polytheistic form of ancient Egyptian religion, undoing a previous shift to the religion known as Atenism. His endowments and restorations of cults were recorded on what is today known as the “Restoration Stela.” The cult of the god Amun at Thebes was restored to prominence, and the royal couple changed their names to \"Tutankhamun\" and \"Ankhesenamun\", replacing the -aten suffix. He also moved the royal court from Akhenaten's capital, Amarna, back to Memphis. He reestablished diplomatic relations with the Mitanni and carried out military campaigns in Nubia and the Near East. Tutankhamun was one of only a few kings who was worshipped as a deity during his lifetime. The young king likely began construction of a royal tomb in the Valley of the Kings and an accompanying mortuary temple but both were unfinished at the time of his death.\n",
      "\n",
      "Tutankhamun died unexpectedly aged about 18; his health and the cause of his death have been the subject of much debate. In 2012 it was suggested he died from a combination of malaria and a leg fracture. Since his royal tomb was incomplete, he was instead buried in a small non-royal tomb adapted for the purpose. He was succeeded by his vizier Ay, who was probably an old man when he became king, and had a short reign. Ay was succeeded by Horemheb, who had been the commander-in-chief of Tutankhamun's armed forces. Under Horemheb, the restoration of the traditional ancient Egyptian religion was completed; Ay and Tutankhamun's constructions were usurped and earlier Amarna Period rulers were erased.\n",
      "\n",
      "In modern times, Tutankhamun became famous as a result of the 1922 discovery of his tomb (KV62) by a team led by the British Egyptologist Howard Carter and sponsored by the British aristocrat George Herbert. Although it had clearly been raided and robbed in ancient times, it retained much of its original contents, including the king's undisturbed mummy. The discovery received worldwide press coverage; with over 5,000 artifacts, it gave rise to renewed public interest in ancient Egypt, for which Tutankhamun's mask, now preserved at the Egyptian Museum, remains a popular symbol. Some of his treasure has traveled worldwide, with unprecedented response; the Egyptian government allowed tours of the tomb beginning in 1961. The deaths of some individuals who were involved in the excavation have been popularly attributed to the \"curse of the pharaohs\" due to the similarity of their circumstances. Since the discovery of his tomb, he has been referred to colloquially as \"King Tut\".\n",
      "\n",
      "The most famous African pyramids are in Egypt — huge structures built of bricks or stones, primarily limestone, some of which are among the world's largest constructions. They are shaped in reference to the sun's rays. Most had a smoothed white limestone surface. Many of the facing stones have fallen or were removed and used for construction in Cairo. The capstone was usually made of limestone, granite or basalt and some were plated with electrum.\n",
      "\n",
      "Ancient Egyptians built pyramids from 2700 BC until around 1700 BC. The first pyramid was erected during the Third Dynasty by the Pharaoh Djoser and his architect Imhotep. This step pyramid consisted of six stacked mastabas. Early kings such as Snefru built pyramids, with subsequent kings adding to the number until the end of the Middle Kingdom. The age of the pyramids reached its zenith at Giza in 2575–2150 BC. The last king to build royal pyramids was Ahmose, with later kings hiding their tombs in the hills, such as those in the Valley of the Kings in Luxor's West Bank. In Medinat Habu and Deir el-Medina, smaller pyramids were built by individuals. Smaller pyramids with steeper sides were built by the Nubians who ruled Egypt in the Late Period.\n",
      "\n",
      "The Great Pyramid of Giza is the largest in Egypt and one of the largest in the world. At 146.6 metres (481 ft) it was the tallest structure in the world until the Lincoln Cathedral was finished in 1311 AD. Its base covers an area of around 53,000 square metres (570,000 sq ft). The Great Pyramid is the only extant one of the Seven Wonders of the Ancient World.\n",
      "\n",
      "Ancient Egyptian pyramids were, in most cases, placed west of the river Nile because the divine pharaoh's soul was meant to join with the sun during its descent before continuing with the sun in its eternal round. As of 2008, some 135 pyramids had been discovered in Egypt, most located near Cairo.\n",
      "\n",
      "The construction of the Egyptian pyramids can be explained with well-established scientific facts, however there are some aspects that are even today considered controversial hypotheses. The construction techniques used seem to have developed over time; later pyramids were not constructed in the same way as earlier ones. It is believed that huge stones were carved from quarries with copper chisels, and these blocks were then dragged and lifted into position. Disagreements chiefly concern the methods used to move and place the stones.\n",
      "\n",
      "In addition to the many unresolved arguments about the construction techniques, there have been disagreements as to the kind of workforce used. The Greeks, many years after the event, believed that the pyramids were built by slave labour. Archaeologists now believe that the Great Pyramid of Giza (at least) was built by tens of thousands of skilled workers who camped near the pyramids and worked for a salary or as a form of tax payment (levy) until the construction was completed, pointing to workers' cemeteries discovered in 1990. For the Middle Kingdom pyramid of Amenemhat II, there is evidence from the annal stone of the king that foreigners from Canaan were employed.\n",
      "\n",
      "A number of pseudoscientific theories have been put forth to explain how the pyramids were built.\n",
      "\n",
      "The unknowns of pyramid construction chiefly center on how the blocks were moved up the superstructure. No known accurate historical or archaeological evidence definitively resolves the question. Therefore, most discussion on construction methods involves functional possibilities supported by limited historical and archaeological evidence.\n",
      "\n",
      "The first historical accounts of the construction of these monuments came centuries after the era of pyramid construction, by Herodotus in the 5th century BC and Diodorus Siculus in the 1st century BC. Herodotus's account claims that the Egyptians used a machine (now commonly referred to as the \"Herodotus Machine\"), stating:\n",
      "\n",
      "This pyramid was made like stairs, which some call steps and others, tiers. When this, its first form, was completed, the workmen used short wooden logs as levers to raise the rest of the stones; they heaved up the blocks from the ground onto the first tier of steps; when the stone had been raised, it was set on another lever that stood on the first tier, and the lever again used to lift it from this tier to the next. It may be that there was a new lever on each tier of steps, or perhaps there was only one lever, quite portable, which they carried up to each tier in turn; I leave this uncertain, as both possibilities were mentioned. But this is certain, that the upper part of the pyramid was finished off first, then the next below it, and last of all the base and the lowest part.\n",
      "\n",
      "Diodorus Siculus's account states:\n",
      "\n",
      "And it's said the stone was transported a great distance from Arabia, and that the edifices were raised utilizing earthen ramps since machines for lifting had not yet been invented in those days; and most surprising it is, that although such large structures were raised in an area surrounded by sand, no trace remains of either ramps or the dressing of the stones, so that it seems not the result of the patient labour of men, but rather as if the whole complex were set down entire upon the surrounding sand by some god. Now Egyptians try to make a marvel of these things, alleging that the ramps were made of salt and natron and that, when the river was turned against them, it melted them clean away and obliterated their every trace without the use of human labour. But in truth, it most certainly was not done this way! Rather, the same multitude of workmen who raised the mounds returned the entire mass to its original place; for they say that three hundred and sixty thousand men were constantly employed in the prosecution of their work, yet the entire edifice was hardly finished at the end of twenty years.\n",
      "\n",
      "Diodorus Siculus's description of the shipment of the stone from Arabia is correct since the term \"Arabia\" in those days implied the land between the Nile and the Red Sea where the limestone blocks have been transported from quarries across the river Nile.\n",
      "\n",
      "Materials\n",
      "\n",
      "Third through Fifth dynastiesDuring the earliest period, pyramids were constructed wholly of stone. Locally quarried limestone was the material of choice for the main body of these pyramids, while a higher quality of limestone quarried at Tura (near modern Cairo) was used for the outer casing. Granite, quarried near Aswan, was used to construct some architectural elements, including the portcullis (a type of gate) and the roofs and walls of the burial chamber. Occasionally, granite was used in the outer casing as well, such as in the Pyramid of Menkaure. In the early pyramids, the layers of stone (called courses) forming the pyramid body were laid sloping inwards; however, this configuration was found to be less stable than simply stacking the stones horizontally on top of each other. The Bent Pyramid at Dahshur seems to indicate acceptance of a new technique at a transition between these two building techniques. Its lower section is built of sloping courses while in its upper section the stones are laid horizontally.\n",
      "\n",
      "Middle Kingdom and onward\n",
      "\n",
      "During the Middle Kingdom, pyramid construction techniques changed again. Most pyramids built then were little more than mountains of mud-brick encased in a veneer of polished limestone. In several cases, later pyramids were built on top of natural hills to further reduce the volume of material needed in their construction. The materials and methods of construction used in the earliest pyramids have ensured their survival in a generally much better state of preservation than for the pyramid monuments of the later pharaohs.\n",
      "\n",
      "Quarrying\n",
      "\n",
      "There is good information concerning the location of the quarries, some of the tools used to cut stone in the quarries, transportation of the stone to the monument, leveling the foundation, and leveling the subsequent tiers of the developing superstructure. Workmen probably used copper chisels, drills, and saws to cut softer stone, such as most of the limestone. The harder stones, such as granite, granodiorite, syenite, and basalt, cannot be cut with copper tools alone; instead, they were worked with time-consuming methods like pounding with dolerite, drilling, and sawing with the aid of an abrasive, such as quartz sand. This occurred in a process known as sand abrasion. Blocks were transported by sledge likely lubricated by water.\n",
      "\n",
      "Leveling the foundation may have been accomplished by use of water-filled trenches as suggested by Mark Lehner and I. E. S. Edwards or through the use of a crude square level and experienced surveyors.\n",
      "\n",
      "Civilizations in many parts of the world have built pyramids. The largest pyramid by volume is the Mesoamerican Great Pyramid of Cholula, in the Mexican state of Puebla. For millennia, the largest structures on Earth were pyramids—first the Red Pyramid in the Dashur Necropolis and then the Great Pyramid of Khufu, both in Egypt—the latter is the only extant example of the Seven Wonders of the Ancient World.\n",
      "\n",
      "Several Mesoamerican cultures built pyramid-shaped structures. Mesoamerican pyramids were usually stepped, with temples on top, more similar to the Mesopotamian ziggurat than the Egyptian pyramid.\n",
      "\n",
      "The largest by volume is the Great Pyramid of Cholula, in the Mexican state of Puebla. Constructed from the 3rd century BC to the 9th century AD, this pyramid is the world's largest monument, and is still not fully excavated. The third largest pyramid in the world, the Pyramid of the Sun, at Teotihuacan, is also located in Mexico. An unusual pyramid with a circular plan survives at the site of Cuicuilco, now inside Mexico City and mostly covered with lava from an eruption of the Xitle Volcano in the 1st century BC. Several circular stepped pyramids called Guachimontones survive in Teuchitlán, Jalisco.\n",
      "\n",
      "Pyramids in Mexico were often used for human sacrifice. Harner stated that for the dedication of the Great Pyramid of Tenochtitlan in 1487, \"one source states 20,000, another 72,344, and several give 80,400\" as the number of humans sacrificed.\n",
      "\n",
      "Output JSON:\n",
      "[\n",
      "  {\n",
      "    \"question\": \"When did ancient Egypt begin exactly?\",\n",
      "    \"answer\": \"Ancient Egypt's really old. If we talk about when the first king of Egypt actually became king, we're talking about 3,000 BC, and then we put ourselves on a timeline until now, that would be an even 5,000 years. So when we change from BC to AD, we could say, you know, Cleopatra is really close to that. So the pyramids at Giza are about 2400 BC. Not only are we closer in time to Cleopatra than Cleopatra is to the beginning of ancient Egyptian history, there's even more time between Cleopatra and the pyramids than there is between Cleopatra and us. Ancient Egypt was already ancient in ancient Egypt!\"\n",
      "  },\n",
      "  {\n",
      "    \"question\": \"Seriously, how did the Sphinx nose break?\",\n",
      "    \"answer\": \"Our best evidence for how the nose of the Spinx got broken comes from a 15th-century Arabic historian, who explains that someone who was angry actually deliberately shot the nose of the Sphinx because he was upset that people were revering this monument from ancient Egypt. This person was subsequently lynched by other local people who revered the Sphinx. There are also stories of Napoleon's army shooting the nose of the Sphinx. We think that one's probably not right in part because we have drawings of the Sphinx from earlier than Napoleon's Expedition, and the nose is already missing. The Sphinx depicts King Khafre, a king of the fourth dynasty who built the second-largest pyramid at Giza.\"\n",
      "  },\n",
      "  {\n",
      "    \"question\": \"What did ancient Egyptians talk like like and what did it sound like? Heiroglyphics ain't speech.\",\n",
      "    \"answer\": \"We know a great deal about what Egyptian sounded like in part because the last stage of the ancient Egyptian language, Coptic, was written in Greek letters, which we can still read, and in fact, it's still the liturgical language of the Coptic church. And so, if you go watch The Mummy, you can hear much of what ancient Egypt sounded like. We are able to phonetically reconstruct what it sounded like. All mummy movies have somebody named Imhotep. Imhotep was the architect responsible for designing the first pyramid built in Egypt.\"\n",
      "  },\n",
      "  {\n",
      "    \"question\": \"What are some ancient Egyptian medicine and tools they created that are used to this day?\",\n",
      "    \"answer\": \"Ancient Egyptian medicine was pretty advanced. We know, for instance, that they performed surgery to relieve pressure on the brain. We have things, for instance, like pregnancy tests in ancient Egypt. A woman who wants to know if she's pregnant and wants to know what the sex of the baby will be should pee on both barley and wheat seeds. If she's pregnant, these are going to sprout, and which one sprouts first is going to tell her whether she's going to have a girl or a boy. And modern tests on this have suggested that, in fact, the human growth hormone that is so increased in pregnant women does have an effect on the germination of grain.\"\n",
      "  },\n",
      "  {\n",
      "    \"question\": \"Did ancient Egypt have bars?\",\n",
      "    \"answer\": \"No, ancient Egypt didn't have bars, but the Egyptians were definitely very social, and alcohol was part of their social lives. We know that the Egyptians drank a ton of beer and quite a bit of wine as well. This was mostly done in homes and even in tombs. The underground part of the tomb might be where your burial chamber is, but the above-ground part of the tomb is a party palace. There's a festival called the Beautiful Feast of the Valley where the whole point is to go get drunk in the tombs with your ancestors. In order to make beer and wine, we have large-scale breweries in towns from even before the first king of Egypt was present in 3000 BC.\"\n",
      "  },\n",
      "  {\n",
      "    \"question\": \"How did king Tut manage to be so popular even though he lived such a short life?\",\n",
      "    \"answer\": \"King Tut is super popular with us because his tomb was found intact. The discovery of King Tut's tomb was one of the archaeological wonders of the world. If you go see this stuff in Cairo, it takes up so many rooms. You have chariots; you have shrine after shrine after shrine, nested shrines built around the body of the king who's buried not just in one gold coffin but in multiple gold coffins. The beautiful face mask is also in gold inlaid with precious stones that are on top of him. King Tut wasn't that popular in ancient Egypt. He lived at a time that later Egyptians, in fact, wrote out of history. So he was the successor of a king who is sometimes referred to as the heretic king Akhenaten, who introduced a monotheistic religion in ancient Egypt. Tutankhamun was one of the Kings who returned ancient Egypt to its original polytheistic religion and opened the temples again. The fact that he was shortlived and not well known in later Egypt probably contributed to the fact that his tomb was preserved; nobody thought to look for it.\"\n",
      "  },\n",
      "  {\n",
      "    \"question\": \"Did you know that we can't recreate the Egyptian pyramids with modern-day technology. Well guess that means maybe we weren't the most advanced the human species has ever been?\",\n",
      "    \"answer\": \"We absolutely have the technology to recreate the pyramids. The tools that the Egyptians were using to create these big stone blocks to make the pyramid were of two types - rough stone balls, a very hard stone which dropped repeatedly to wear away the stone to do the major quarrying. The fine chiseling on these blocks is being done with copper tools. These copper tools would have required an a huge workforce just to keep the copper tools sharp. So how do you get a straight vertical side on a piece of stone? Here you use gravity and a tool that engineers still use - a plum Bob which is a weight on a string and with a weighted string just hung you just hold it in your hand you know that that string is absolutely vertical. So if you're trying to get the side of a piece of stone vertical you hold a plum Bob next to it and you just correct, you keep chiseling away at that stone until it is perfectly straight. So it would have taken decades to build the Great pyramid at Giza. The stone was mostly quarried locally. You need the stones themselves to be squared and you need the ground to be level. How do you get the ground level? You carve a channel in the ground and fill it with water and the water itself, again due to gravity, will level and you can mark that water level across your entire site. So, in the end it's not impossible technologically to build pyramids any longer. It's a social choice we choose not to build pyramids any longer it's not that we've lost the ability.\"\n",
      "  },\n",
      "  {\n",
      "    \"question\": \"Why do the pyramids of Egypt match those in Mexico?\",\n",
      "    \"answer\": \"The pyramids in Egypt don't actually match the pyramids in Mexico. They are different in substantial ways. The king is buried in a small chamber underneath the Pyramid in Egypt. The pyramids, as you see them today, look like giant staircases; they're a little bit rough, and that's not how they would have looked anciently. So, the final step in making a pyramid would have been to clad it in very fine limestone and then shave the sides to make it perfectly smooth. So, this would have been not something you could climb anciently. The pyramids in Mexico are not tombs at all. These are bases for temples, and the temples are approached by going up the pyramid. That said, why do they look similar? Why is this basic form of a pyramid found in multiple, so different places of the ancient world? And there, the answer is pretty simple, and it's that there's not that much you can build of that size without modern technology and without steel. So, to get a really tall structure out of stone, it needs to be smaller at the top than it is at the bottom. So, there are not all that many things you can build that would get that tall using this technology, and that's really why we think we see what looks superficially similar in such different places in the ancient world.\"\n",
      "  }\n",
      "]\n",
      "\n",
      "---\n",
      "\n",
      "Text:\n",
      "The theory of relativity usually encompasses two interrelated physics theories by Albert Einstein: special relativity and general relativity, proposed and published in 1905 and 1915, respectively. Special relativity applies to all physical phenomena in the absence of gravity. General relativity explains the law of gravitation and its relation to the forces of nature. It applies to the cosmological and astrophysical realm, including astronomy.\n",
      "\n",
      "The theory transformed theoretical physics and astronomy during the 20th century, superseding a 200-year-old theory of mechanics created primarily by Isaac Newton. It introduced concepts including 4-dimensional spacetime as a unified entity of space and time, relativity of simultaneity, kinematic and gravitational time dilation, and length contraction. In the field of physics, relativity improved the science of elementary particles and their fundamental interactions, along with ushering in the nuclear age. With relativity, cosmology and astrophysics predicted extraordinary astronomical phenomena such as neutron stars, black holes, and gravitational waves.\n",
      "\n",
      "Special relativity was described by Albert Einstein in a paper published on 26 September 1905 titled \"On the Electrodynamics of Moving Bodies\". Maxwell's equations of electromagnetism appeared to be incompatible with Newtonian mechanics, and the Michelson–Morley experiment failed to detect the Earth's motion against the hypothesized luminiferous aether. These led to the development of the Lorentz transformations, by Hendrik Lorentz, which adjust distances and times for moving objects. Special relativity corrects the hitherto laws of mechanics to handle situations involving all motions and especially those at a speed close to that of light (known as relativistic velocities). Today, special relativity is proven to be the most accurate model of motion at any speed when gravitational and quantum effects are negligible. Even so, the Newtonian model is still valid as a simple and accurate approximation at low velocities (relative to the speed of light), for example, everyday motions on Earth.\n",
      "\n",
      "Special relativity has a wide range of consequences that have been experimentally verified. These include the relativity of simultaneity, length contraction, time dilation, the relativistic velocity addition formula, the relativistic Doppler effect, relativistic mass, a universal speed limit, mass–energy equivalence, the speed of causality and the Thomas precession. It has, for example, replaced the conventional notion of an absolute universal time with the notion of a time that is dependent on reference frame and spatial position. Rather than an invariant time interval between two events, there is an invariant spacetime interval. Combined with other laws of physics, the two postulates of special relativity predict the equivalence of mass and energy, as expressed in the mass–energy equivalence formula E = mc^2, where c is the speed of light in vacuum. It also explains how the phenomena of electricity and magnetism are related.\n",
      "\n",
      "A defining feature of special relativity is the replacement of the Galilean transformations of Newtonian mechanics with the Lorentz transformations. Time and space cannot be defined separately from each other (as was previously thought to be the case). Rather, space and time are interwoven into a single continuum known as \"spacetime\". Events that occur at the same time for one observer can occur at different times for another.\n",
      "\n",
      "Until several years later when Einstein developed general relativity, which introduced a curved spacetime to incorporate gravity, the phrase \"special relativity\" was not used. A translation sometimes used is \"restricted relativity\"; \"special\" really means \"special case\". Some of the work of Albert Einstein in special relativity is built on the earlier work by Hendrik Lorentz and Henri Poincaré. The theory became essentially complete in 1907, with Hermann Minkowski's papers on spacetime.\n",
      "\n",
      "The theory is \"special\" in that it only applies in the special case where the spacetime is \"flat\", that is, where the curvature of spacetime (a consequence of the energy–momentum tensor and representing gravity) is negligible. To correctly accommodate gravity, Einstein formulated general relativity in 1915. Special relativity, contrary to some historical descriptions, does accommodate accelerations as well as accelerating frames of reference.\n",
      "\n",
      "Just as Galilean relativity is now accepted to be an approximation of special relativity that is valid for low speeds, special relativity is considered an approximation of general relativity that is valid for weak gravitational fields, that is, at a sufficiently small scale (e.g., when tidal forces are negligible) and in conditions of free fall. But general relativity incorporates non-Euclidean geometry to represent gravitational effects as the geometric curvature of spacetime. Special relativity is restricted to the flat spacetime known as Minkowski space. As long as the universe can be modeled as a pseudo-Riemannian manifold, a Lorentz-invariant frame that abides by special relativity can be defined for a sufficiently small neighborhood of each point in this curved spacetime.\n",
      "\n",
      "Galileo Galilei had already postulated that there is no absolute and well-defined state of rest (no privileged reference frames), a principle now called Galileo's principle of relativity. Einstein extended this principle so that it accounted for the constant speed of light, a phenomenon that had been observed in the Michelson–Morley experiment. He also postulated that it holds for all the laws of physics, including both the laws of mechanics and of electrodynamics.\n",
      "\n",
      "At the base of classical mechanics is the notion that a body's motion can be described as a combination of free (or inertial) motion, and deviations from this free motion. Such deviations are caused by external forces acting on a body in accordance with Newton's second law of motion, which states that the net force acting on a body is equal to that body's (inertial) mass multiplied by its acceleration. The preferred inertial motions are related to the geometry of space and time: in the standard reference frames of classical mechanics, objects in free motion move along straight lines at constant speed. In modern parlance, their paths are geodesics, straight world lines in curved spacetime.\n",
      "\n",
      "Conversely, one might expect that inertial motions, once identified by observing the actual motions of bodies and making allowances for the external forces (such as electromagnetism or friction), can be used to define the geometry of space, as well as a time coordinate. However, there is an ambiguity once gravity comes into play. According to Newton's law of gravity, and independently verified by experiments such as that of Eötvös and its successors (see Eötvös experiment), there is a universality of free fall (also known as the weak equivalence principle, or the universal equality of inertial and passive-gravitational mass): the trajectory of a test body in free fall depends only on its position and initial speed, but not on any of its material properties. A simplified version of this is embodied in Einstein's elevator experiment, illustrated in the figure on the right: for an observer in an enclosed room, it is impossible to decide, by mapping the trajectory of bodies such as a dropped ball, whether the room is stationary in a gravitational field and the ball accelerating, or in free space aboard a rocket that is accelerating at a rate equal to that of the gravitational field versus the ball which upon release has nil acceleration.\n",
      "\n",
      "In Albert Einstein's general theory of relativity, gravity is treated as a phenomenon resulting from the curvature of spacetime. This curvature is caused by the presence of mass. (See: Stress–energy tensor) If the masses move, the curvature of spacetime changes. If the motion is not spherically symmetric, the motion can cause gravitational waves which propagate away at the speed of light.\n",
      "\n",
      "As a gravitational wave passes an observer, that observer will find spacetime distorted by the effects of strain. Distances between objects increase and decrease rhythmically as the wave passes, at a frequency equal to that of the wave. The magnitude of this effect is inversely proportional to the distance (not distance squared) from the source.\n",
      "\n",
      "Inspiraling binary neutron stars are predicted to be a powerful source of gravitational waves as they coalesce, due to the very large acceleration of their masses as they orbit close to one another. However, due to the astronomical distances to these sources, the effects when measured on Earth are predicted to be very small, having strains of less than 1 part in 1020.\n",
      "\n",
      "Scientists demonstrate the existence of these waves with highly-sensitive detectors at multiple observation sites. As of 2012, the LIGO and VIRGO observatories were the most sensitive detectors, operating at resolutions of about one part in 5×1022. The Japanese detector KAGRA was completed in 2019; its first joint detection with LIGO and VIRGO was reported in 2021. Another European ground-based detector, the Einstein Telescope, is under development. A space-based observatory, the Laser Interferometer Space Antenna (LISA), is also being developed by the European Space Agency.\n",
      "\n",
      "Gravitational waves do not strongly interact with matter in the way that electromagnetic radiation does.  This allows for the observation of events involving exotic objects in the distant universe that cannot be observed with more traditional means such as optical telescopes or radio telescopes; accordingly, gravitational wave astronomy gives new insights into the workings of the universe.\n",
      "\n",
      "In particular, gravitational waves could be of interest to cosmologists as they offer a possible way of observing the very early universe. This is not possible with conventional astronomy, since before recombination the universe was opaque to electromagnetic radiation. Precise measurements of gravitational waves will also allow scientists to test more thoroughly the general theory of relativity.\n",
      "\n",
      "In principle, gravitational waves can exist at any frequency. Very low frequency waves can be detected using pulsar timing arrays. In this technique, the timing of approximately 100 pulsars spread widely across our galaxy is monitored over the course of years. Detectable changes in the arrival time of their signals can result from passing gravitational waves generated by merging supermassive black holes with wavelengths measured in lightyears. These timing changes can be used to locate the source of the waves.\n",
      "\n",
      "Using this technique, astronomers have discovered the 'hum' of various SMBH mergers occurring in the universe. Stephen Hawking and Werner Israel list different frequency bands for gravitational waves that could plausibly be detected, ranging from 10−7 Hz up to 1011 Hz.\n",
      "\n",
      "A black hole is a region of spacetime wherein gravity is so strong that no matter or electromagnetic energy (e.g. light) can escape it. Albert Einstein's theory of general relativity predicts that a sufficiently compact mass can deform spacetime to form a black hole. The boundary of no escape is called the event horizon. A black hole has a great effect on the fate and circumstances of an object crossing it, but it has no locally detectable features according to general relativity. In many ways, a black hole acts like an ideal black body, as it reflects no light. Quantum field theory in curved spacetime predicts that event horizons emit Hawking radiation, with the same spectrum as a black body of a temperature inversely proportional to its mass. This temperature is of the order of billionths of a kelvin for stellar black holes, making it essentially impossible to observe directly.\n",
      "\n",
      "Objects whose gravitational fields are too strong for light to escape were first considered in the 18th century by John Michell and Pierre-Simon Laplace. In 1916, Karl Schwarzschild found the first modern solution of general relativity that would characterise a black hole. Due to his influential research, the Schwarzschild metric is named after him. David Finkelstein, in 1958, first published the interpretation of \"black hole\" as a region of space from which nothing can escape. Black holes were long considered a mathematical curiosity; it was not until the 1960s that theoretical work showed they were a generic prediction of general relativity. The discovery of neutron stars by Jocelyn Bell Burnell in 1967 sparked interest in gravitationally collapsed compact objects as a possible astrophysical reality. The first black hole known was Cygnus X-1, identified by several researchers independently in 1971.\n",
      "\n",
      "Black holes of stellar mass form when massive stars collapse at the end of their life cycle. After a black hole has formed, it can grow by absorbing mass from its surroundings. Supermassive black holes of millions of solar masses (M☉) may form by absorbing other stars and merging with other black holes, or via direct collapse of gas clouds. There is consensus that supermassive black holes exist in the centres of most galaxies.\n",
      "\n",
      "The presence of a black hole can be inferred through its interaction with other matter and with electromagnetic radiation such as visible light. Any matter that falls toward a black hole can form an external accretion disk heated by friction, forming quasars, some of the brightest objects in the universe. Stars passing too close to a supermassive black hole can be shredded into streamers that shine very brightly before being \"swallowed.\" If other stars are orbiting a black hole, their orbits can be used to determine the black hole's mass and location. Such observations can be used to exclude possible alternatives such as neutron stars. In this way, astronomers have identified numerous stellar black hole candidates in binary systems and established that the radio source known as Sagittarius A*, at the core of the Milky Way galaxy, contains a supermassive black hole of about 4.3 million solar masses.\n",
      "\n",
      "The Big Bang is a physical theory that describes how the universe expanded from an initial state of high density and temperature. The notion of an expanding universe was first scientifically originated by physicist Alexander Friedmann in 1922 with the mathematical derivation of the Friedmann equations. The earliest empirical observation of the notion of an expanding universe is known as Hubble's law, published in work by physicist Edwin Hubble in 1929, which discerned that galaxies are moving away from Earth at a rate that accelerates proportionally with distance. Independent of Friedmann's work, and independent of Hubble's observations, physicist Georges Lemaître proposed that the universe emerged from a \"primeval atom\" in 1931, introducing the modern notion of the Big Bang.\n",
      "\n",
      "Extrapolating this cosmic expansion backward in time using the known laws of physics, the models describe an increasingly concentrated cosmos preceded by a singularity in which space and time lose meaning (typically named \"the Big Bang singularity\"). Physics lacks a widely accepted theory of quantum gravity that can model the earliest conditions of the Big Bang. In 1964 the CMB was discovered, which convinced many cosmologists that the competing steady-state model of cosmic evolution was falsified, since the Big Bang models predict a uniform background radiation caused by high temperatures and densities in the distant past. A wide range of empirical evidence strongly favors the Big Bang event, which is now essentially universally accepted. Detailed measurements of the expansion rate of the universe place the Big Bang singularity at an estimated 13.787±0.020 billion years ago, which is considered the age of the universe.\n",
      "\n",
      "Before observations of dark energy, cosmologists considered two scenarios for the future of the universe. If the mass density of the universe were greater than the critical density, then the universe would reach a maximum size and then begin to collapse. It would become denser and hotter again, ending with a state similar to that in which it started—a Big Crunch.\n",
      "\n",
      "Alternatively, if the density in the universe were equal to or below the critical density, the expansion would slow down but never stop. Star formation would cease with the consumption of interstellar gas in each galaxy; stars would burn out, leaving white dwarfs, neutron stars, and black holes. Collisions between these would result in mass accumulating into larger and larger black holes. The average temperature of the universe would very gradually asymptotically approach absolute zero—a Big Freeze. Moreover, if protons are unstable, then baryonic matter would disappear, leaving only radiation and black holes. Eventually, black holes would evaporate by emitting Hawking radiation. The entropy of the universe would increase to the point where no organized form of energy could be extracted from it, a scenario known as heat death.\n",
      "\n",
      "Modern observations of accelerating expansion imply that more and more of the currently visible universe will pass beyond our event horizon and out of contact with us. The eventual result is not known. The ΛCDM model of the universe contains dark energy in the form of a cosmological constant. This theory suggests that only gravitationally bound systems, such as galaxies, will remain together, and they too will be subject to heat death as the universe expands and cools. Other explanations of dark energy, called phantom energy theories, suggest that ultimately galaxy clusters, stars, planets, atoms, nuclei, and matter itself will be torn apart by the ever-increasing expansion in a so-called Big Rip.\n",
      "\n",
      "In 1900 Max Planck, attempting to explain black-body radiation, suggested that although light was a wave, these waves could gain or lose energy only in finite amounts related to their frequency. Planck called these \"lumps\" of light energy \"quanta\" (from a Latin word for \"how much\"). In 1905, Albert Einstein used the idea of light quanta to explain the photoelectric effect and suggested that these light quanta had a \"real\" existence. In 1923 Arthur Holly Compton showed that the wavelength shift seen when low intensity X-rays scattered from electrons (so called Compton scattering) could be explained by a particle-theory of X-rays, but not a wave theory. In 1926 Gilbert N. Lewis named these light quanta particles photons.\n",
      "\n",
      "Eventually quantum mechanics came to picture light as (in some sense) both a particle and a wave, and (in another sense) as a phenomenon which is neither a particle nor a wave (which actually are macroscopic phenomena, such as baseballs or ocean waves). Instead, under some approximations light can be described sometimes with mathematics appropriate to one type of macroscopic metaphor (particles) and sometimes another macroscopic metaphor (waves).\n",
      "\n",
      "As in the case for radio waves and the X-rays involved in Compton scattering, physicists have noted that electromagnetic radiation tends to behave more like a classical wave at lower frequencies, but more like a classical particle at higher frequencies, but never completely loses all qualities of one or the other. Visible light, which occupies a middle ground in frequency, can easily be shown in experiments to be describable using either a wave or particle model, or sometimes both.\n",
      "\n",
      "In 1924–1925, Satyendra Nath Bose showed that light followed different statistics from that of classical particles. With Einstein, they generalized this result for a whole set of integer spin particles called bosons (after Bose) that follow Bose–Einstein statistics. The photon is a massless boson of spin 1.\n",
      "\n",
      "In 1927, Paul Dirac quantized the electromagnetic field. Pascual Jordan and Vladimir Fock generalized this process to treat many-body systems as excitations of quantum fields, a process with the misnomer of second quantization. And at the end of the 1940s a full theory of quantum electrodynamics was developed using quantum fields based on the works of Julian Schwinger, Richard Feynman, Freeman Dyson, and Shinichiro Tomonaga.\n",
      "\n",
      "Output JSON:\n",
      "[\n",
      "  {\n",
      "    \"question\": \"How do black holes influence the spacetime around them?\",\n",
      "    \"answer\": \"Anything that's massive will bend spacetime. So, if you think about a sheet of elastic as being spacetime with nothing in it, as soon as you put something that has any mass in there, it bends spacetime around it, similarly to how the elastic sheet bends with the weight of the object on it. If you then take something really small like a marble and throw it with a little bit of oomph on the elastic sheet, it'll orbit around that object. And it's that following curved spacetime is why the Earth moves around the Sun. So if you have a really big object, and you look at what that looks like in spacetime, that bends it even more. The key with a black hole is making something that's really, really dense, and as you increase that density, that stretches the spacetime further and further and further down (imagine the elastic sheet shaped like a funnel) so much that light can't escape that curvature anymore and that's what we call a black hole.\"\n",
      "  },\n",
      "  {\n",
      "    \"question\": \"What's spacetime?\",\n",
      "    \"answer\": \"Spacetime is the thing that we live in. It is four dimensions three dimensions of space and adding to that the dimension of time. It's what we're moving through as we sit still it's what we're moving through as we walk through our house.\"\n",
      "  },\n",
      "  {\n",
      "    \"question\": \"If the sun just suddenly disappeared it would take us 8 minutes to find out. But does Earth still orbit where the Sun was or will it go out of the orbit immediately after it disappeared?\",\n",
      "    \"answer\": \"The answer is it's going to keep moving around the Sun for another 8 minutes. We don't know here on Earth that the Sun disappeared because it takes 8 minutes for the light to get to us from the Sun. It also takes 8 minutes for any changes in gravity to get from the Sun to us.\"\n",
      "  },\n",
      "  {\n",
      "    \"question\": \"Hey, did you hear about the gravitational waves?\",\n",
      "    \"answer\": \"I have heard about gravitational waves and read some of the recent results about gravitational waves. In case you haven't been paying attention, gravitational waves are these expansions and contractions of spacetime that are traveling through spacetime at us from supermassive black holes at the centers of faraway galaxies. One of the really neat things about gravitational waves is they pass unimpeded through the universe. We can actually get closer to the Big Bang using observations of gravitational waves. So they're going to teach us all kinds of neat stuff about the early universe.\"\n",
      "  },\n",
      "  {\n",
      "    \"question\": \"how do you detect gravitational waves in spacetime?\",\n",
      "    \"answer\": \"The first way we detected gravitational waves a few years ago was using lasers in big vacuum tubes, and you split a laser, you shoot it down two tubes and you keep track of how far apart the mirrors are using the lasers to tell you the distance between the mirrors. That's called LIGO. The second way that we've learned to detect gravitational waves is by using these exotic stars called pulsars. They are really fast-spinning stars that pulse every time they come into our line of sight. We watch those pulses over time. If the pulses arrive a little bit later or a little bit earlier, we can attribute that to the expansion and contraction of spacetime between us and those stars. There is a collaboration of scientists that looks at almost 70 of these stars in all different directions, and they've been monitoring it for almost 20 years.\"\n",
      "  },\n",
      "  {\n",
      "    \"question\": \"Is light a wave or a particle?\",\n",
      "    \"answer\": \"The answer is that light is both a wave and a particle. We've known the wave-like properties of light for a long time. There's a classic experiment called the Young's double slit experiment. To show it, if we take down the lights, we're going to use a laser pointer here, which is not how the original experiment was done. We're just going to take a plate that has a little tiny slit in it and point the laser through it. What happens is that it splits the light into two different waves, and those waves are a little separated from each other. They're not quite matched up because two different waves are meeting up with each other, and this is what we call interfering, and that's what gives us that pattern. There are actually two waves hitting there, and they're constructively interfering. So, the black spots are actually the same as what you get in noise-cancelling headphones. One of the waves cancels out the other wave, and only a wave behaves like this. Light is actually something bigger than a wave or a particle. It's something we call a Quantum Field, and that quantum field has both particle-like and wave-like characteristics, and we can measure both.\"\n",
      "  },\n",
      "  {\n",
      "    \"question\": \"How will the universe end?\",\n",
      "    \"answer\": \"The universe will end in the heat death of the universe, which just means that over time, the universe is expanding, and all of the light that we know about is going to get degraded and absorbed by black holes. It just gets really cold and really dark. We won't be able to see anything in the distance. The heat death of the universe is not something to worry about because it's going to happen 40 to 50 billion years in the future, and we're only about 14 billion years from the beginning of the universe.\"\n",
      "  },\n",
      "  {\n",
      "    \"question\": \"Are black holes or wormholes actually spheres?\",\n",
      "    \"answer\": \"Black holes are pretty much perfect spheres. If they're spinning, they are a little bit more expanded around their equator where they're spinning than at their poles. But pretty much spheres. So in that classic image from Interstellar, you see this pretty much spherical black hole at the center, and then you see all of this light, which is the light from the other side of the black hole getting bent around it. And that disc that you see across the front tells you that the black hole is actually spinning. And every black hole that we know of is spinning like every other star in the universe.\"\n",
      "  },\n",
      "  {\n",
      "    \"question\": \"What's so special about special relativity?\",\n",
      "    \"answer\": \"Special relativity is special for a few reasons. Number one, it gives us a universal speed limit, which is the speed of light; nothing can go faster than the speed of light. And that's unique to Einstein. He figured this out in 1905, and no one had really thought that there was any kind of universal speed limit. A couple of other things that are really special about special relativity are that it tells you if you're moving close to the speed of light, time dilates, i.e., it gets longer. So, if you're moving really fast, you experience time more slowly than someone who's not moving really fast.\"\n",
      "  },\n",
      "  {\n",
      "    \"question\": \"Can someone explain the twin paradox to me in simple terms?\",\n",
      "    \"answer\": \"You have two twins, both on Earth. One of the twins decides to be an astronaut. She takes off in a spaceship, going super-fast at almost the speed of light. It takes her 50 years to go out to a star and come back. When the astronaut comes back, the twin that remained she's 50 years older. The other twin might only be 20 years old, depending on how fast she was going. And so it's the person in the rocket that will see time move more slowly and will only age 20 years.\"\n",
      "  }\n",
      "]\n",
      "\n",
      "---\n",
      "\n"
     ]
    }
   ],
   "source": [
    "print(system_prompt)"
   ]
  },
  {
   "cell_type": "code",
   "execution_count": 10,
   "id": "5078a1c4-c45f-4ff8-9c80-a0e6b96a5570",
   "metadata": {},
   "outputs": [],
   "source": [
    "model_id = \"meta-llama/Llama-3.3-70B-Instruct\""
   ]
  },
  {
   "cell_type": "code",
   "execution_count": 11,
   "id": "e8a56b4b-5c8c-4f2f-ac1f-9c68337d7154",
   "metadata": {},
   "outputs": [
    {
     "name": "stdout",
     "output_type": "stream",
     "text": [
      "INFO 01-05 16:56:57 config.py:478] This model supports multiple tasks: {'generate', 'score', 'embed', 'classify', 'reward'}. Defaulting to 'generate'.\n",
      "INFO 01-05 16:56:58 config.py:1216] Defaulting to use mp for distributed inference\n",
      "WARNING 01-05 16:56:58 arg_utils.py:1086] Chunked prefill is enabled by default for models with max_model_len > 32K. Currently, chunked prefill might not work with some features or models. If you encounter any issues, please disable chunked prefill by setting --enable-chunked-prefill=False.\n",
      "INFO 01-05 16:56:58 config.py:1364] Chunked prefill is enabled with max_num_batched_tokens=2048.\n",
      "INFO 01-05 16:56:58 llm_engine.py:249] Initializing an LLM engine (v0.6.5) with config: model='meta-llama/Llama-3.3-70B-Instruct', speculative_config=None, tokenizer='meta-llama/Llama-3.3-70B-Instruct', skip_tokenizer_init=False, tokenizer_mode=auto, revision=None, override_neuron_config=None, tokenizer_revision=None, trust_remote_code=False, dtype=torch.bfloat16, max_seq_len=49152, download_dir=None, load_format=auto, tensor_parallel_size=4, pipeline_parallel_size=1, disable_custom_all_reduce=False, quantization=None, enforce_eager=False, kv_cache_dtype=auto, quantization_param_path=None, device_config=cuda, decoding_config=DecodingConfig(guided_decoding_backend='xgrammar'), observability_config=ObservabilityConfig(otlp_traces_endpoint=None, collect_model_forward_time=False, collect_model_execute_time=False), seed=0, served_model_name=meta-llama/Llama-3.3-70B-Instruct, num_scheduler_steps=1, multi_step_stream_outputs=True, enable_prefix_caching=False, chunked_prefill_enabled=True, use_async_output_proc=True, mm_cache_preprocessor=False, mm_processor_kwargs=None, pooler_config=None, compilation_config={\"splitting_ops\":[\"vllm.unified_attention\",\"vllm.unified_attention_with_output\"],\"candidate_compile_sizes\":[],\"compile_sizes\":[],\"capture_sizes\":[256,248,240,232,224,216,208,200,192,184,176,168,160,152,144,136,128,120,112,104,96,88,80,72,64,56,48,40,32,24,16,8,4,2,1],\"max_capture_size\":256}, use_cached_outputs=False, \n",
      "WARNING 01-05 16:56:58 multiproc_worker_utils.py:312] Reducing Torch parallelism from 64 threads to 1 to avoid unnecessary CPU contention. Set OMP_NUM_THREADS in the external environment to tune this value as needed.\n",
      "INFO 01-05 16:56:58 custom_cache_manager.py:17] Setting Triton cache manager to: vllm.triton_utils.custom_cache_manager:CustomCacheManager\n",
      "INFO 01-05 16:56:59 selector.py:120] Using Flash Attention backend.\n",
      "\u001b[1;36m(VllmWorkerProcess pid=502663)\u001b[0;0m INFO 01-05 16:56:59 selector.py:120] Using Flash Attention backend.\n",
      "\u001b[1;36m(VllmWorkerProcess pid=502663)\u001b[0;0m INFO 01-05 16:56:59 multiproc_worker_utils.py:222] Worker ready; awaiting tasks\n",
      "\u001b[1;36m(VllmWorkerProcess pid=502662)\u001b[0;0m INFO 01-05 16:56:59 selector.py:120] Using Flash Attention backend.\n",
      "\u001b[1;36m(VllmWorkerProcess pid=502662)\u001b[0;0m INFO 01-05 16:56:59 multiproc_worker_utils.py:222] Worker ready; awaiting tasks\n",
      "\u001b[1;36m(VllmWorkerProcess pid=502664)\u001b[0;0m INFO 01-05 16:56:59 selector.py:120] Using Flash Attention backend.\n",
      "\u001b[1;36m(VllmWorkerProcess pid=502664)\u001b[0;0m INFO 01-05 16:56:59 multiproc_worker_utils.py:222] Worker ready; awaiting tasks\n",
      "INFO 01-05 16:57:02 utils.py:922] Found nccl from library libnccl.so.2\n",
      "INFO 01-05 16:57:02 pynccl.py:69] vLLM is using nccl==2.21.5\n",
      "\u001b[1;36m(VllmWorkerProcess pid=502663)\u001b[0;0m \u001b[1;36m(VllmWorkerProcess pid=502664)\u001b[0;0m \u001b[1;36m(VllmWorkerProcess pid=502662)\u001b[0;0m INFO 01-05 16:57:02 utils.py:922] Found nccl from library libnccl.so.2\n",
      "INFO 01-05 16:57:02 utils.py:922] Found nccl from library libnccl.so.2\n",
      "INFO 01-05 16:57:02 utils.py:922] Found nccl from library libnccl.so.2\n",
      "\u001b[1;36m(VllmWorkerProcess pid=502663)\u001b[0;0m INFO 01-05 16:57:02 pynccl.py:69] vLLM is using nccl==2.21.5\n",
      "\u001b[1;36m(VllmWorkerProcess pid=502664)\u001b[0;0m \u001b[1;36m(VllmWorkerProcess pid=502662)\u001b[0;0m INFO 01-05 16:57:02 pynccl.py:69] vLLM is using nccl==2.21.5\n",
      "INFO 01-05 16:57:02 pynccl.py:69] vLLM is using nccl==2.21.5\n",
      "INFO 01-05 16:57:04 custom_all_reduce_utils.py:242] reading GPU P2P access cache from /root/.cache/vllm/gpu_p2p_access_cache_for_0,1,2,3.json\n",
      "\u001b[1;36m(VllmWorkerProcess pid=502663)\u001b[0;0m INFO 01-05 16:57:04 custom_all_reduce_utils.py:242] reading GPU P2P access cache from /root/.cache/vllm/gpu_p2p_access_cache_for_0,1,2,3.json\n",
      "\u001b[1;36m(VllmWorkerProcess pid=502662)\u001b[0;0m \u001b[1;36m(VllmWorkerProcess pid=502664)\u001b[0;0m INFO 01-05 16:57:04 custom_all_reduce_utils.py:242] reading GPU P2P access cache from /root/.cache/vllm/gpu_p2p_access_cache_for_0,1,2,3.json\n",
      "INFO 01-05 16:57:04 custom_all_reduce_utils.py:242] reading GPU P2P access cache from /root/.cache/vllm/gpu_p2p_access_cache_for_0,1,2,3.json\n",
      "INFO 01-05 16:57:04 shm_broadcast.py:255] vLLM message queue communication handle: Handle(connect_ip='127.0.0.1', local_reader_ranks=[1, 2, 3], buffer_handle=(3, 4194304, 6, 'psm_f07edaec'), local_subscribe_port=45781, remote_subscribe_port=None)\n",
      "INFO 01-05 16:57:04 model_runner.py:1092] Starting to load model meta-llama/Llama-3.3-70B-Instruct...\n",
      "\u001b[1;36m(VllmWorkerProcess pid=502663)\u001b[0;0m \u001b[1;36m(VllmWorkerProcess pid=502662)\u001b[0;0m INFO 01-05 16:57:04 model_runner.py:1092] Starting to load model meta-llama/Llama-3.3-70B-Instruct...\n",
      "INFO 01-05 16:57:04 model_runner.py:1092] Starting to load model meta-llama/Llama-3.3-70B-Instruct...\n",
      "\u001b[1;36m(VllmWorkerProcess pid=502664)\u001b[0;0m INFO 01-05 16:57:04 model_runner.py:1092] Starting to load model meta-llama/Llama-3.3-70B-Instruct...\n",
      "INFO 01-05 16:57:04 weight_utils.py:243] Using model weights format ['*.safetensors']\n",
      "\u001b[1;36m(VllmWorkerProcess pid=502662)\u001b[0;0m INFO 01-05 16:57:04 weight_utils.py:243] Using model weights format ['*.safetensors']\n",
      "\u001b[1;36m(VllmWorkerProcess pid=502663)\u001b[0;0m INFO 01-05 16:57:04 weight_utils.py:243] Using model weights format ['*.safetensors']\n",
      "\u001b[1;36m(VllmWorkerProcess pid=502664)\u001b[0;0m INFO 01-05 16:57:04 weight_utils.py:243] Using model weights format ['*.safetensors']\n"
     ]
    },
    {
     "data": {
      "application/vnd.jupyter.widget-view+json": {
       "model_id": "fc81d882634d4a81aa6843460b9eba4a",
       "version_major": 2,
       "version_minor": 0
      },
      "text/plain": [
       "Loading safetensors checkpoint shards:   0% Completed | 0/30 [00:00<?, ?it/s]\n"
      ]
     },
     "metadata": {},
     "output_type": "display_data"
    },
    {
     "name": "stdout",
     "output_type": "stream",
     "text": [
      "INFO 01-05 16:57:22 model_runner.py:1097] Loading model weights took 32.8892 GB\n",
      "\u001b[1;36m(VllmWorkerProcess pid=502663)\u001b[0;0m INFO 01-05 16:57:22 model_runner.py:1097] Loading model weights took 32.8892 GB\n",
      "\u001b[1;36m(VllmWorkerProcess pid=502662)\u001b[0;0m INFO 01-05 16:57:22 model_runner.py:1097] Loading model weights took 32.8892 GB\n",
      "\u001b[1;36m(VllmWorkerProcess pid=502664)\u001b[0;0m INFO 01-05 16:57:22 model_runner.py:1097] Loading model weights took 32.8892 GB\n",
      "\u001b[1;36m(VllmWorkerProcess pid=502663)\u001b[0;0m INFO 01-05 16:57:25 worker.py:241] Memory profiling takes 2.99 seconds\n",
      "\u001b[1;36m(VllmWorkerProcess pid=502663)\u001b[0;0m INFO 01-05 16:57:25 worker.py:241] the current vLLM instance can use total_gpu_memory (139.72GiB) x gpu_memory_utilization (0.98) = 136.92GiB\n",
      "\u001b[1;36m(VllmWorkerProcess pid=502663)\u001b[0;0m INFO 01-05 16:57:25 worker.py:241] model weights take 32.89GiB; non_torch_memory takes 4.17GiB; PyTorch activation peak memory takes 0.21GiB; the rest of the memory reserved for KV Cache is 99.65GiB.\n",
      "\u001b[1;36m(VllmWorkerProcess pid=502662)\u001b[0;0m \u001b[1;36m(VllmWorkerProcess pid=502664)\u001b[0;0m INFO 01-05 16:57:25 worker.py:241] Memory profiling takes 3.02 seconds\n",
      "INFO 01-05 16:57:25 worker.py:241] Memory profiling takes 3.02 seconds\n",
      "\u001b[1;36m(VllmWorkerProcess pid=502662)\u001b[0;0m \u001b[1;36m(VllmWorkerProcess pid=502664)\u001b[0;0m INFO 01-05 16:57:25 worker.py:241] the current vLLM instance can use total_gpu_memory (139.72GiB) x gpu_memory_utilization (0.98) = 136.92GiB\n",
      "INFO 01-05 16:57:25 worker.py:241] the current vLLM instance can use total_gpu_memory (139.72GiB) x gpu_memory_utilization (0.98) = 136.92GiB\n",
      "\u001b[1;36m(VllmWorkerProcess pid=502662)\u001b[0;0m \u001b[1;36m(VllmWorkerProcess pid=502664)\u001b[0;0m INFO 01-05 16:57:25 worker.py:241] model weights take 32.89GiB; non_torch_memory takes 4.17GiB; PyTorch activation peak memory takes 0.21GiB; the rest of the memory reserved for KV Cache is 99.65GiB.\n",
      "INFO 01-05 16:57:25 worker.py:241] model weights take 32.89GiB; non_torch_memory takes 3.70GiB; PyTorch activation peak memory takes 0.21GiB; the rest of the memory reserved for KV Cache is 100.12GiB.\n",
      "INFO 01-05 16:57:25 worker.py:241] Memory profiling takes 3.04 seconds\n",
      "INFO 01-05 16:57:25 worker.py:241] the current vLLM instance can use total_gpu_memory (139.72GiB) x gpu_memory_utilization (0.98) = 136.92GiB\n",
      "INFO 01-05 16:57:25 worker.py:241] model weights take 32.89GiB; non_torch_memory takes 4.96GiB; PyTorch activation peak memory takes 1.23GiB; the rest of the memory reserved for KV Cache is 97.85GiB.\n",
      "INFO 01-05 16:57:25 distributed_gpu_executor.py:57] # GPU blocks: 80160, # CPU blocks: 3276\n",
      "INFO 01-05 16:57:25 distributed_gpu_executor.py:61] Maximum concurrency for 49152 tokens per request: 26.09x\n",
      "\u001b[1;36m(VllmWorkerProcess pid=502664)\u001b[0;0m INFO 01-05 16:57:28 model_runner.py:1413] Capturing cudagraphs for decoding. This may lead to unexpected consequences if the model is not static. To run the model in eager mode, set 'enforce_eager=True' or use '--enforce-eager' in the CLI.\n",
      "\u001b[1;36m(VllmWorkerProcess pid=502664)\u001b[0;0m INFO 01-05 16:57:28 model_runner.py:1417] If out-of-memory error occurs during cudagraph capture, consider decreasing `gpu_memory_utilization` or switching to eager mode. You can also reduce the `max_num_seqs` as needed to decrease memory usage.\n",
      "INFO 01-05 16:57:28 model_runner.py:1413] Capturing cudagraphs for decoding. This may lead to unexpected consequences if the model is not static. To run the model in eager mode, set 'enforce_eager=True' or use '--enforce-eager' in the CLI.\n",
      "INFO 01-05 16:57:28 model_runner.py:1417] If out-of-memory error occurs during cudagraph capture, consider decreasing `gpu_memory_utilization` or switching to eager mode. You can also reduce the `max_num_seqs` as needed to decrease memory usage.\n",
      "\u001b[1;36m(VllmWorkerProcess pid=502662)\u001b[0;0m INFO 01-05 16:57:28 model_runner.py:1413] Capturing cudagraphs for decoding. This may lead to unexpected consequences if the model is not static. To run the model in eager mode, set 'enforce_eager=True' or use '--enforce-eager' in the CLI.\n",
      "\u001b[1;36m(VllmWorkerProcess pid=502662)\u001b[0;0m INFO 01-05 16:57:28 model_runner.py:1417] If out-of-memory error occurs during cudagraph capture, consider decreasing `gpu_memory_utilization` or switching to eager mode. You can also reduce the `max_num_seqs` as needed to decrease memory usage.\n",
      "\u001b[1;36m(VllmWorkerProcess pid=502663)\u001b[0;0m INFO 01-05 16:57:28 model_runner.py:1413] Capturing cudagraphs for decoding. This may lead to unexpected consequences if the model is not static. To run the model in eager mode, set 'enforce_eager=True' or use '--enforce-eager' in the CLI.\n",
      "\u001b[1;36m(VllmWorkerProcess pid=502663)\u001b[0;0m INFO 01-05 16:57:28 model_runner.py:1417] If out-of-memory error occurs during cudagraph capture, consider decreasing `gpu_memory_utilization` or switching to eager mode. You can also reduce the `max_num_seqs` as needed to decrease memory usage.\n",
      "\u001b[1;36m(VllmWorkerProcess pid=502663)\u001b[0;0m INFO 01-05 16:57:43 custom_all_reduce.py:224] Registering 5635 cuda graph addresses\n",
      "INFO 01-05 16:57:43 custom_all_reduce.py:224] Registering 5635 cuda graph addresses\n",
      "\u001b[1;36m(VllmWorkerProcess pid=502664)\u001b[0;0m INFO 01-05 16:57:43 custom_all_reduce.py:224] Registering 5635 cuda graph addresses\n",
      "\u001b[1;36m(VllmWorkerProcess pid=502662)\u001b[0;0m INFO 01-05 16:57:43 custom_all_reduce.py:224] Registering 5635 cuda graph addresses\n",
      "\u001b[1;36m(VllmWorkerProcess pid=502664)\u001b[0;0m INFO 01-05 16:57:43 model_runner.py:1527] Graph capturing finished in 16 secs, took 0.45 GiB\n",
      "\u001b[1;36m(VllmWorkerProcess pid=502662)\u001b[0;0m INFO 01-05 16:57:43 model_runner.py:1527] Graph capturing finished in 16 secs, took 0.45 GiB\n",
      "INFO 01-05 16:57:43 model_runner.py:1527] Graph capturing finished in 16 secs, took 0.45 GiB\n",
      "\u001b[1;36m(VllmWorkerProcess pid=502663)\u001b[0;0m INFO 01-05 16:57:43 model_runner.py:1527] Graph capturing finished in 16 secs, took 0.45 GiB\n",
      "INFO 01-05 16:57:43 llm_engine.py:446] init engine (profile, create kv cache, warmup model) took 21.78 seconds\n"
     ]
    }
   ],
   "source": [
    "llm = LLM(model=model_id, max_model_len=49152, tensor_parallel_size=NUM_GPUS, gpu_memory_utilization=0.98)"
   ]
  },
  {
   "cell_type": "code",
   "execution_count": 109,
   "id": "509e2b5d-13eb-4ab2-acee-bc313ca08918",
   "metadata": {},
   "outputs": [],
   "source": [
    "def dup_list(l):\n",
    "    l_dup = [l] * NUM_DUPS\n",
    "    l_flat = [l_dup[i][j] for j in range(len(l)) for i in range(NUM_DUPS)]\n",
    "\n",
    "    return l_flat"
   ]
  },
  {
   "cell_type": "code",
   "execution_count": 110,
   "id": "f1fb79e4-34fc-44c1-8cff-aef0a561803b",
   "metadata": {},
   "outputs": [],
   "source": [
    "class QnA(BaseModel):\n",
    "    question: str\n",
    "    answer: str\n",
    "\n",
    "ta = TypeAdapter(list[QnA])\n",
    "\n",
    "json_schema = ta.json_schema()"
   ]
  },
  {
   "cell_type": "code",
   "execution_count": 111,
   "id": "144c610c-cb3e-437c-a913-6c328f08d5f2",
   "metadata": {},
   "outputs": [],
   "source": [
    "qna_jinja = \"\"\"\n",
    "{% for qa in qna %}\n",
    "Question: {{ qa['question'] }}\n",
    "Answer: {{ qa['answer'] }}\n",
    "{% endfor %}\n",
    "\"\"\".strip()\n",
    "\n",
    "qna_template = Template(qna_jinja)"
   ]
  },
  {
   "cell_type": "code",
   "execution_count": 119,
   "id": "be81ccc6-6107-4b54-bf44-5749ea2d684c",
   "metadata": {},
   "outputs": [],
   "source": [
    "def generate_content(ids, urls, titles, texts):\n",
    "    messages = [[{\"role\": \"system\", \"content\": system_prompt},\n",
    "                {\"role\": \"user\", \"content\": \"Text:\\n\" + text + \"\\n\\nOutput JSON:\"}]\n",
    "                for title, text in zip(titles, texts)]\n",
    "\n",
    "    dup_messages = dup_list(messages)\n",
    "    dup_ids = dup_list(ids)\n",
    "    dup_urls = dup_list(urls)\n",
    "    dup_titles = dup_list(titles)\n",
    "    dup_texts = dup_list(texts)\n",
    "\n",
    "    guided_decoding_params = GuidedDecodingParams(json=json_schema)\n",
    "    outputs = llm.chat(dup_messages, SamplingParams(temperature=0.9, top_p=0.9, max_tokens=16384, guided_decoding=guided_decoding_params))\n",
    "\n",
    "    qnas = []\n",
    "    for output in outputs:\n",
    "        response = output.outputs[0].text.strip()\n",
    "        qna = []\n",
    "        try:\n",
    "            qna = json.loads(response)\n",
    "        except Exception:\n",
    "            pass\n",
    "            #print(response)\n",
    "            #print(traceback.format_exc())\n",
    "\n",
    "        qnas.append(qna)\n",
    "\n",
    "    return {\n",
    "        \"id\": dup_ids,\n",
    "        \"url\": dup_urls,\n",
    "        \"title\": dup_titles,\n",
    "        \"text\": dup_texts,\n",
    "        \"synthetic_content\": [f\"**Title**\\n{title}\\n\\n**Q&A**{qna_template.render(qna=qna)}\" for title, qna in zip(dup_titles, qnas)]\n",
    "    }"
   ]
  },
  {
   "cell_type": "code",
   "execution_count": 120,
   "id": "93f11b25-3337-43bd-9441-83034a216d3d",
   "metadata": {},
   "outputs": [],
   "source": [
    "syn_ds_stream = ds.shuffle(seed=1998, buffer_size=1000_000).take(NUM_TOPICS).map(generate_content, batched=True, batch_size=NUM_TOPICS, input_columns=[\"id\", \"url\", \"title\", \"text\"])"
   ]
  },
  {
   "cell_type": "code",
   "execution_count": 121,
   "id": "31f21b99-267c-480f-8314-b844e27e1956",
   "metadata": {},
   "outputs": [
    {
     "name": "stderr",
     "output_type": "stream",
     "text": [
      "Processed prompts: 100% 10240/10240 [4:26:35<00:00,  1.56s/it, est. speed input: 8411.16 toks/s, output: 346.40 toks/s] \n"
     ]
    }
   ],
   "source": [
    "syn_ds_list = list(syn_ds_stream)"
   ]
  },
  {
   "cell_type": "code",
   "execution_count": 122,
   "id": "f1ecb16a-e9d4-4e00-aded-18e3678f7eea",
   "metadata": {},
   "outputs": [
    {
     "data": {
      "application/vnd.jupyter.widget-view+json": {
       "model_id": "7cb1a8c79e944f4ab826bfb01bff0c09",
       "version_major": 2,
       "version_minor": 0
      },
      "text/plain": [
       "Uploading the dataset shards:   0%|          | 0/1 [00:00<?, ?it/s]"
      ]
     },
     "metadata": {},
     "output_type": "display_data"
    },
    {
     "data": {
      "application/vnd.jupyter.widget-view+json": {
       "model_id": "d142b7bcf3764d0b8fcad167941d2821",
       "version_major": 2,
       "version_minor": 0
      },
      "text/plain": [
       "Creating parquet from Arrow format:   0%|          | 0/11 [00:00<?, ?ba/s]"
      ]
     },
     "metadata": {},
     "output_type": "display_data"
    },
    {
     "data": {
      "application/vnd.jupyter.widget-view+json": {
       "model_id": "3588997bfdca4ad1aa5a80e8d0f967b0",
       "version_major": 2,
       "version_minor": 0
      },
      "text/plain": [
       "  0%|          | 0/1 [00:00<?, ?it/s]"
      ]
     },
     "metadata": {},
     "output_type": "display_data"
    },
    {
     "name": "stderr",
     "output_type": "stream",
     "text": [
      "/usr/local/lib/python3.10/dist-packages/huggingface_hub/lfs.py:337: UserWarning: hf_transfer is enabled but does not support uploading from bytes or BinaryIO, falling back to regular upload\n",
      "  warnings.warn(\n"
     ]
    },
    {
     "data": {
      "text/plain": [
       "CommitInfo(commit_url='https://huggingface.co/datasets/amang1802/synthetic_data_qna_fulltext_conditioned_L3.3_70B/commit/d79ec6c146f50c845c5c3fa6ba8a2bbb36b27088', commit_message='Upload dataset', commit_description='', oid='d79ec6c146f50c845c5c3fa6ba8a2bbb36b27088', pr_url=None, repo_url=RepoUrl('https://huggingface.co/datasets/amang1802/synthetic_data_qna_fulltext_conditioned_L3.3_70B', endpoint='https://huggingface.co', repo_type='dataset', repo_id='amang1802/synthetic_data_qna_fulltext_conditioned_L3.3_70B'), pr_revision=None, pr_num=None)"
      ]
     },
     "execution_count": 122,
     "metadata": {},
     "output_type": "execute_result"
    }
   ],
   "source": [
    "syn_ds = Dataset.from_list(syn_ds_list)\n",
    "syn_ds.push_to_hub('amang1802/synthetic_data_qna_fulltext_conditioned_L3.3_70B')"
   ]
  },
  {
   "cell_type": "code",
   "execution_count": null,
   "id": "5e1429dd-2c0e-4a85-b7e1-e5323a1c2993",
   "metadata": {},
   "outputs": [],
   "source": []
  }
 ],
 "metadata": {
  "kernelspec": {
   "display_name": "Python 3 (ipykernel)",
   "language": "python",
   "name": "python3"
  },
  "language_info": {
   "codemirror_mode": {
    "name": "ipython",
    "version": 3
   },
   "file_extension": ".py",
   "mimetype": "text/x-python",
   "name": "python",
   "nbconvert_exporter": "python",
   "pygments_lexer": "ipython3",
   "version": "3.10.12"
  }
 },
 "nbformat": 4,
 "nbformat_minor": 5
}
