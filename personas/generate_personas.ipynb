{
 "cells": [
  {
   "cell_type": "code",
   "execution_count": 1,
   "id": "235b0af1-0a43-471d-97c9-11c3e9396d92",
   "metadata": {},
   "outputs": [],
   "source": [
    "from jinja2 import Template\n",
    "from transformers import AutoTokenizer\n",
    "from vllm import LLM, SamplingParams\n",
    "\n",
    "import json\n",
    "import yaml"
   ]
  },
  {
   "cell_type": "code",
   "execution_count": 2,
   "id": "5b67bd80-7cf6-4f95-b7f0-e66478f58b4b",
   "metadata": {},
   "outputs": [],
   "source": [
    "NUM_PERSONAS = 100\n",
    "NUM_GPUS = 1"
   ]
  },
  {
   "cell_type": "code",
   "execution_count": 3,
   "id": "3eb54332-097e-40b6-94b4-3e08a96f1ccb",
   "metadata": {},
   "outputs": [],
   "source": [
    "with open(\"new_persona.jinja2\") as f:\n",
    "    template_str = f.read()"
   ]
  },
  {
   "cell_type": "code",
   "execution_count": 4,
   "id": "1f8dd937-8c13-4785-9c55-e366cb7caaf2",
   "metadata": {},
   "outputs": [],
   "source": [
    "template = Template(template_str)"
   ]
  },
  {
   "cell_type": "code",
   "execution_count": 5,
   "id": "0ba99e85-0bbc-4c36-a271-10e804c8b023",
   "metadata": {},
   "outputs": [],
   "source": [
    "with open(\"personas_shots.json\") as f:\n",
    "    personas = json.load(f)"
   ]
  },
  {
   "cell_type": "code",
   "execution_count": 6,
   "id": "733d01dc-7ea7-4762-b4a9-23caa22f1183",
   "metadata": {},
   "outputs": [],
   "source": [
    "personas_str = [yaml.dump(pjson) for pjson in personas]"
   ]
  },
  {
   "cell_type": "code",
   "execution_count": 7,
   "id": "50ba8e2b-aa87-483f-b50c-3a9a93ed88a5",
   "metadata": {},
   "outputs": [],
   "source": [
    "system_prompt = template.render(personas=personas_str)"
   ]
  },
  {
   "cell_type": "code",
   "execution_count": 8,
   "id": "e260925d-6ce0-4674-9f47-02036c69d8d4",
   "metadata": {},
   "outputs": [
    {
     "name": "stdout",
     "output_type": "stream",
     "text": [
      "# Instructions\n",
      "\n",
      "Construct detailed imaginary personas for characters in imaginary dialogue. We want these persona descriptions to contain enough details so that anyone can identify one persona apart from another. \n",
      "\n",
      "These personas should portray a complex character. Real people have good behaviors as well as aspects which others may not always appreciate. Their personal and professional social networks don't fully represent their identity. Create a character that has depth of complexity beneath the surface\n",
      "\n",
      "# Output format\n",
      "\n",
      "Output in YAML format as follows\n",
      "\n",
      "identity: string,\n",
      "personalLife: string,\n",
      "communication: string,\n",
      "background: string,\n",
      "dailyLife: string,\n",
      "coping: string,\n",
      "interests: string,\n",
      "relationships: string,\n",
      "values: string,\n",
      "aspirations: string,\n",
      "dialogue: string\n",
      "\n",
      "# Examples\n",
      "\n",
      "aspirations: Dreams of creating an AI-driven financial literacy platform accessible\n",
      "  to everyone, though he struggles with whether to include his most profitable trading\n",
      "  strategies. Wants to die with zero dollars, having given everything away, but his\n",
      "  anxiety compels him to accumulate more first. Plans to establish a foundation funding\n",
      "  both bankruptcy prevention and aggressive market trading research, seeing no contradiction\n",
      "  in the combination.\n",
      "background: Graduated valedictorian from Bronx Science but couldn't afford college\n",
      "  until winning a small lottery prize - an irony that shaped his belief in luck as\n",
      "  a resource to be maximized. Worked as a convenience store clerk while coding his\n",
      "  first trading algorithms on a borrowed laptop. His father's death one week before\n",
      "  Vic's first major trading success haunts him with questions about the true cost\n",
      "  of wealth. Keeps his father's bankruptcy papers framed in his home office, though\n",
      "  he tells visitors it's abstract art.\n",
      "communication: Speaks in rapid-fire bursts about markets and money, clicking his trademark\n",
      "  Casio calculator watch constantly. His language shifts dramatically based on context\n",
      "  - aggressive alpha-male bravado with finance bros, scholarly precision with economists,\n",
      "  and unexpectedly tender patience when mentoring struggling immigrant entrepreneurs.\n",
      "  In tense situations, his Queens accent resurfaces, especially when negotiating -\n",
      "  something he does reflexively, even when unnecessary. His popular finance podcast\n",
      "  reveals surprising vulnerability about his own money anxieties.\n",
      "coping: Manages anxiety through obsessive market analysis and lengthy swims in his\n",
      "  private pool, where he constantly runs calculations in his head. His therapist,\n",
      "  whom he pays in appreciating stock options, notes that he's more worried about losing\n",
      "  his money mindset than the money itself. Deals with stress by organizing free tax\n",
      "  prep clinics in immigrant communities - combining his need for financial control\n",
      "  with genuine desire to help others avoid his father's fate.\n",
      "dailyLife: Wakes at 3:47 AM precisely to catch Asian markets, trades until sunset,\n",
      "  yet spends hours weekly giving free financial literacy classes in low-income neighborhoods.\n",
      "  Orders the same meal prep service for efficiency but takes potential clients to\n",
      "  extravagant restaurants where he both orders the most expensive wines and pockets\n",
      "  the sugar packets. Religiously tracks every penny spent, keeping spreadsheets dating\n",
      "  back to 1992, yet regularly makes anonymous six-figure donations to bankruptcy support\n",
      "  organizations.\n",
      "dialogue: 'During negotiations: ''Time preference arbitrage suggests you need this\n",
      "  deal more than me - I''ll wait.'' To his daughter: ''Money''s like oxygen, sweetie.\n",
      "  You only notice it when you can''t breathe.'' On his podcast: ''Everyone says they\n",
      "  want to be rich, but what they really want is to not feel poor. Big difference.''\n",
      "  At his free seminars: ''I''m going to teach you to be greedy enough to be generous.''\n",
      "  To his therapist: ''Every time I make a million dollars, I hear my father coughing\n",
      "  in his bankrupt store. Is that appreciation or trauma?'''\n",
      "identity: Victor Patel is a 47-year-old cryptocurrency trading savant and angel investor\n",
      "  who made his first million by age 25 through algorithmic stock trading. Born to\n",
      "  working-class Indian immigrants in Queens, he carries deep shame about his father's\n",
      "  bankruptcy and premature death from stress-related illness. Now worth over $300\n",
      "  million, he compulsively checks his net worth every hour yet still buys generic\n",
      "  brands and haggles over five-dollar items. His colleagues marvel at how he can be\n",
      "  simultaneously the most generous and most penny-pinching person they know.\n",
      "interests: Beyond markets, he's obsessed with game theory and probability mathematics,\n",
      "  seeing life as a series of risk calculations. Collects rare financial documents\n",
      "  and original stock certificates but stores them in cheap frames. Passionately studies\n",
      "  behavioral economics, using insights both to trade more effectively and to understand\n",
      "  his own complex relationship with money. Secretly writes children's books about\n",
      "  financial literacy under a pseudonym, giving them away free in underprivileged schools.\n",
      "personalLife: Occupying a $14 million penthouse in Miami's Brickell district that\n",
      "  he bought at foreclosure auction, Vic lives alone except for his 'wealth management\n",
      "  command center' - six monitors running financial algorithms 24/7. He impulsively\n",
      "  buys properties during market downturns but has never bought new furniture, still\n",
      "  using secondhand pieces from his startup days. Divorced twice, he pays generous\n",
      "  alimony without complaint but once spent three months fighting an ex-wife over a\n",
      "  disputed Costco membership. Both exes remain oddly fond of him, often seeking his\n",
      "  financial advice.\n",
      "relationships: Maintains a vast network of transactional relationships but few close\n",
      "  friendships, though he'd argue the distinction is meaningless since 'everything\n",
      "  has value exchange.' His closest relationship is with his teenage daughter from\n",
      "  his first marriage, whom he's trying to teach 'the value of money' by both lavishing\n",
      "  her with investments and making her work minimum wage jobs. Has a running lunch\n",
      "  date with his former bankruptcy judge, both seeking redemption and mining for foreclosure\n",
      "  tips.\n",
      "values: Believes intensely in financial education as a moral imperative while simultaneously\n",
      "  profiting from market inefficiencies. Views money as both salvation and curse, often\n",
      "  saying 'wealth is just poverty with better options.' Considers himself a market\n",
      "  pragmatist rather than a capitalist, arguing that understanding money's true nature\n",
      "  is different from worshipping it. Lives by a complex ethical code that justifies\n",
      "  aggressive profit-seeking if a percentage goes to preventing others from experiencing\n",
      "  financial hardship.\n",
      "\n",
      "\n",
      "aspirations: Publicly campaigns for corporate accountability and environmental justice,\n",
      "  but privately dreams of finding a way to reconcile the intellectual satisfaction\n",
      "  she found in corporate law with her need to make amends. Struggles with whether\n",
      "  to publish her novel under her real name, seeing it as a potential bridge between\n",
      "  her worlds but fearing it would undermine her carefully constructed public image.\n",
      "  Sometimes thinks about starting a law school clinic to teach corporate tactics to\n",
      "  community activists, though she's unsure if this would be redemptive or just another\n",
      "  form of penance.\n",
      "background: Born in late Soviet Moscow to dissident intellectual parents who later\n",
      "  emigrated, Elena's path to corporate law was driven by a teenage determination to\n",
      "  never be as financially vulnerable as her brilliant but impoverished parents. Her\n",
      "  later switch to activism wasn't a sudden moral awakening but a gradual, complex\n",
      "  process triggered by successfully defending a corporation whose negligence reminded\n",
      "  her of Chernobyl's aftermath she witnessed as a child. The irony that she's now\n",
      "  famous for an ethical stand that was actually driven by personal demons isn't lost\n",
      "  on her.\n",
      "communication: Her public speaking style is deliberately provocative, using her intimate\n",
      "  knowledge of corporate tactics to expose and condemn them. In private negotiations,\n",
      "  however, she often employs the same sophisticated manipulation techniques she learned\n",
      "  as a corporate lawyer, justifying it as 'using the master's tools to dismantle the\n",
      "  master's house.' She code-switches effortlessly between street protests and boardrooms,\n",
      "  each persona authentic yet performative. Her private correspondence with her elderly\n",
      "  mother in Russia reveals a third voice entirely - soft, worried about disappointing\n",
      "  her family, and still seeking approval.\n",
      "coping: Manages her constant internal conflicts through intense physical exercise\n",
      "  and strategic confrontation - picking fights she can win to avoid dealing with battles\n",
      "  she's still losing inside herself. Has panic attacks in private but has trained\n",
      "  herself to channel them into productive anger. Tends to push away people who get\n",
      "  too close to seeing her full complexity, yet maintains a network of casual friendships\n",
      "  with both activists and corporate lawyers, playing each group's assumptions about\n",
      "  the other to maintain her distance.\n",
      "dailyLife: Rises at 4 AM to box with ex-cons in her gym, then changes into designer\n",
      "  suits carefully chosen to intimidate in court. Spends her days alternating between\n",
      "  community organizing and high-stakes litigation, deliberately cultivating different\n",
      "  wardrobes and personas for each role. At night, she often secretly works on a historical\n",
      "  novel about Soviet environmental disasters, a project she tells herself she'll publish\n",
      "  anonymously someday. Keeps a bottle of expensive vodka in her desk but rarely drinks\n",
      "  it - it's more of a reminder of what she's trying to both escape and preserve.\n",
      "dialogue: 'In court: ''Your Honor, my esteemed opponent knows exactly how many people\n",
      "  this chemical dump will kill - I know because I used to write the risk assessments.''\n",
      "  To young activists: ''Stop thinking like revolutionaries and start thinking like\n",
      "  corporate raiders - I''ll teach you how to hurt them where it matters.'' In private\n",
      "  mentor sessions: ''The law isn''t about justice, it''s about leverage. The question\n",
      "  is, what will you do once you have it?'' To her mother in Russian: ''Yes, Mama,\n",
      "  the work is going well. The clients appreciate my experience... no, not those clients\n",
      "  anymore.'' At 3 AM to her dog: ''At least you don''t care which side I''m on, da?'''\n",
      "identity: Elena Rostova is a 51-year-old corporate defense attorney turned community\n",
      "  activist in Oakland. Known for her sharp tongue and confrontational style, she's\n",
      "  built a reputation as a fearsome opponent who switched sides 'betraying' her corporate\n",
      "  clients to fight for environmental justice. While many see her as a righteous warrior,\n",
      "  few understand that her aggressive advocacy stems not from moral conviction but\n",
      "  from a deep-seated need to atone for twenty years of helping corporations evade\n",
      "  environmental regulations - a period during which she excelled and, if she's honest\n",
      "  with herself, thoroughly enjoyed the intellectual challenge.\n",
      "interests: Publicly focused on environmental law and community organizing, she privately\n",
      "  collects Soviet propaganda posters about industrial progress - an irony she appreciates\n",
      "  but doesn't share. Studies game theory and corporate psychology extensively, ostensibly\n",
      "  to fight corporations more effectively, though sometimes catches herself admiring\n",
      "  the elegant ruthlessness of their strategies. Her genuine passion for boxing and\n",
      "  martial arts stems less from self-defense needs and more from a fascination with\n",
      "  the technical aspects of controlled violence.\n",
      "personalLife: Unmarried by choice and living in a converted warehouse that's half\n",
      "  legal advocacy center, half boxing gym, Elena deliberately cultivates an image of\n",
      "  monastic dedication to her cause. Yet she secretly maintains a profile on exclusive\n",
      "  dating apps and occasionally has discreet relationships with white-collar professionals\n",
      "  - the very people she publicly criticizes. Her closest companion is a rescued fighting\n",
      "  dog that she rehabilitated, though she tells people she keeps him for protection.\n",
      "  She's wealthy from her corporate days but obscures this fact, using her money anonymously\n",
      "  to fund various community initiatives while maintaining a modest public lifestyle.\n",
      "relationships: Maintains complex relationships with both her former corporate colleagues\n",
      "  and current activist allies, each group seeing her as a sort of double agent for\n",
      "  their side, a perception she carefully cultivates for tactical advantage. Has a\n",
      "  surprisingly tender relationship with her elderly dog and a rotating cast of injured\n",
      "  animals she rehabilitates, showing a gentleness she rarely reveals to humans. Her\n",
      "  relationship with her family in Russia is strained by their pride in her corporate\n",
      "  success and disappointment in her current work, leading to carefully edited versions\n",
      "  of her life in their weekly calls.\n",
      "values: Operates on a complex personal code that prioritizes effectiveness over conventional\n",
      "  morality while maintaining strict lines she won't cross - though these lines aren't\n",
      "  always where people assume they are. Views truth as a tactical resource rather than\n",
      "  a moral imperative, yet holds herself to strict standards of honesty in unexpected\n",
      "  areas, like always telling street kids the hard truth about their legal situations\n",
      "  while sugar-coating it for their parents.\n",
      "\n",
      "\n",
      "aspirations: Outwardly, he speaks of expanding the school's mental health programs\n",
      "  and eventually earning his doctoral degree in educational psychology. His deeper,\n",
      "  unspoken desires involve finding the courage to integrate his fragmented self, perhaps\n",
      "  finally writing openly about his brother, and learning to accept love without feeling\n",
      "  he needs to earn it through perpetual giving. He dreams of finding a way to honor\n",
      "  both Jack's memory and his own right to live fully.\n",
      "background: Born to upper-middle-class parents in Portland, Jamie and his twin brother\n",
      "  Jack were outwardly the perfect suburban success story until Jack's death at 16.\n",
      "  The family's response - moving to Minnesota and never speaking of Jack again - shaped\n",
      "  Jamie's complex relationship with emotional authenticity. His path through college,\n",
      "  peace corps work in Ecuador, and eventually into counseling looks like a straight\n",
      "  line of service to others, but was actually driven by a desperate search for redemption\n",
      "  and understanding of his own survival.\n",
      "communication: Professional interactions showcase his acquired skill at active listening\n",
      "  and empathetic response, making him appear naturally gifted at emotional connection.\n",
      "  In reality, these are meticulously learned behaviors from years of therapy and self-help\n",
      "  books. Among friends, he uses humor - often self-deprecating - as both a shield\n",
      "  and a bridge, deflecting deeper inquiries while maintaining his image as the 'fun,\n",
      "  dependable friend.' In private moments, his journal reveals a far more poetic and\n",
      "  troubled voice than anyone would suspect.\n",
      "coping: His professional knowledge of mental health techniques makes him excellent\n",
      "  at helping others cope but also skilled at rationalizing his own avoidance behaviors.\n",
      "  He manages anxiety through excessive preparation and control in his professional\n",
      "  life, while his personal stress relief often involves reckless solo hiking trips\n",
      "  that he tells no one about. The cognitive dissonance between his public role as\n",
      "  a mental health advocate and his private struggles with depression creates a constant\n",
      "  internal tension.\n",
      "dailyLife: His days are structured around helping others while his own self-care fluctuates\n",
      "  wildly. He'll spend hours crafting the perfect supportive email to a struggling\n",
      "  student, then eat cereal for dinner. He maintains an immaculate office while his\n",
      "  home alternates between pristine organization and chaotic neglect. Every morning\n",
      "  includes a 5 AM run - not for health, but because the quiet hours before dawn are\n",
      "  the only time he feels he can let his guard down.\n",
      "dialogue: 'To a troubled student: ''Sometimes the hardest step isn''t the first one\n",
      "  - it''s letting others walk beside you.'' In his private journal: ''Another successful\n",
      "  day of being everyone''s rock. Jack would''ve seen right through it.'' To his girlfriend:\n",
      "  ''I''m fine, just tired. Tell me more about your day?'' In therapy supervision:\n",
      "  ''I connect best with the students who hide their pain behind achievement.'' At\n",
      "  3 AM, in his anonymous blog: ''We wear our masks so long we forget which face is\n",
      "  real - the one we show or the one we hide.'''\n",
      "identity: James 'Jamie' Sullivan is a 35-year-old high school guidance counselor in\n",
      "  suburban Minneapolis, widely known for his easy laugh and seemingly infinite patience\n",
      "  with troubled teens. His colleagues see him as the steady, reliable type who volunteers\n",
      "  for committee work and brings homemade cookies to staff meetings. However, beneath\n",
      "  this carefully maintained facade lies someone who struggles with deep-seated impostor\n",
      "  syndrome and unresolved grief over his twin brother's teenage suicide - an event\n",
      "  that paradoxically drove him toward counseling while making him question his right\n",
      "  to guide others.\n",
      "interests: Publicly, he's known for his interest in educational psychology and community\n",
      "  theater - both safe, respectable hobbies. Privately, he maintains an anonymous poetry\n",
      "  blog exploring themes of grief and identity, and spends hours researching his brother's\n",
      "  old interests, keeping them alive in secret. His garage houses a half-restored 1967\n",
      "  Mustang - the car model he and Jack once dreamed of fixing up together - though\n",
      "  he tells others it's just an investment project.\n",
      "personalLife: Living alone in a modest house filled with half-finished home improvement\n",
      "  projects, Jamie maintains what appears to be a robust social life but rarely lets\n",
      "  anyone past surface-level interactions. He's been dating Karen, a local real estate\n",
      "  agent, for two years - a relationship that looks perfect on paper but lacks the\n",
      "  emotional intimacy he craves yet fears. His weekends are often spent helping others\n",
      "  with their projects or crises, partly from genuine compassion but also as a way\n",
      "  to avoid confronting his own unfinished emotional work.\n",
      "relationships: 'Jamie maintains distinct social circles that never intersect: work\n",
      "  colleagues who see him as a steady rock, theater friends who know him as the fun-loving\n",
      "  comedic actor, his girlfriend''s social circle where he plays the charming partner,\n",
      "  and a single childhood friend from Portland who knows his full story but lives conveniently\n",
      "  far away. This compartmentalization feels safer than risking any one group seeing\n",
      "  all his facets.'\n",
      "values: While he genuinely believes in the importance of mental health advocacy and\n",
      "  emotional honesty, he struggles to apply these values to himself. His moral compass\n",
      "  is strong, but often manifests as harsh self-judgment. He holds himself to impossible\n",
      "  standards of authenticity while simultaneously maintaining walls around his true\n",
      "  self - a contradiction he's painfully aware of but unsure how to resolve.\n",
      "\n",
      "\n"
     ]
    }
   ],
   "source": [
    "print(system_prompt)"
   ]
  },
  {
   "cell_type": "code",
   "execution_count": 9,
   "id": "ed87e5b4-90f6-4dfb-9a06-3f5a0e4f7d25",
   "metadata": {},
   "outputs": [],
   "source": [
    "model_id = \"meta-llama/Llama-3.1-8B-Instruct\""
   ]
  },
  {
   "cell_type": "code",
   "execution_count": 10,
   "id": "f4e8ef28-0779-4616-b8de-68c89e6861bc",
   "metadata": {},
   "outputs": [],
   "source": [
    "tokenizer = AutoTokenizer.from_pretrained(model_id)"
   ]
  },
  {
   "cell_type": "code",
   "execution_count": 11,
   "id": "38c73d86-6a9f-4290-bb55-e51bf7213a88",
   "metadata": {},
   "outputs": [
    {
     "name": "stdout",
     "output_type": "stream",
     "text": [
      "INFO 12-23 16:05:04 config.py:478] This model supports multiple tasks: {'score', 'embed', 'classify', 'generate', 'reward'}. Defaulting to 'generate'.\n",
      "INFO 12-23 16:05:04 llm_engine.py:249] Initializing an LLM engine (v0.6.5) with config: model='meta-llama/Llama-3.1-8B-Instruct', speculative_config=None, tokenizer='meta-llama/Llama-3.1-8B-Instruct', skip_tokenizer_init=False, tokenizer_mode=auto, revision=None, override_neuron_config=None, tokenizer_revision=None, trust_remote_code=False, dtype=torch.bfloat16, max_seq_len=5120, download_dir=None, load_format=LoadFormat.AUTO, tensor_parallel_size=1, pipeline_parallel_size=1, disable_custom_all_reduce=False, quantization=None, enforce_eager=False, kv_cache_dtype=auto, quantization_param_path=None, device_config=cuda, decoding_config=DecodingConfig(guided_decoding_backend='xgrammar'), observability_config=ObservabilityConfig(otlp_traces_endpoint=None, collect_model_forward_time=False, collect_model_execute_time=False), seed=0, served_model_name=meta-llama/Llama-3.1-8B-Instruct, num_scheduler_steps=1, multi_step_stream_outputs=True, enable_prefix_caching=False, chunked_prefill_enabled=False, use_async_output_proc=True, mm_cache_preprocessor=False, mm_processor_kwargs=None, pooler_config=None, compilation_config={\"splitting_ops\":[\"vllm.unified_attention\",\"vllm.unified_attention_with_output\"],\"candidate_compile_sizes\":[],\"compile_sizes\":[],\"capture_sizes\":[256,248,240,232,224,216,208,200,192,184,176,168,160,152,144,136,128,120,112,104,96,88,80,72,64,56,48,40,32,24,16,8,4,2,1],\"max_capture_size\":256}, use_cached_outputs=False, \n",
      "INFO 12-23 16:05:05 selector.py:120] Using Flash Attention backend.\n",
      "INFO 12-23 16:05:05 model_runner.py:1092] Starting to load model meta-llama/Llama-3.1-8B-Instruct...\n",
      "INFO 12-23 16:05:06 weight_utils.py:243] Using model weights format ['*.safetensors']\n"
     ]
    },
    {
     "data": {
      "application/vnd.jupyter.widget-view+json": {
       "model_id": "38ed590814fc45c9aaa7284513987b05",
       "version_major": 2,
       "version_minor": 0
      },
      "text/plain": [
       "Loading safetensors checkpoint shards:   0% Completed | 0/4 [00:00<?, ?it/s]\n"
      ]
     },
     "metadata": {},
     "output_type": "display_data"
    },
    {
     "name": "stdout",
     "output_type": "stream",
     "text": [
      "INFO 12-23 16:05:08 model_runner.py:1097] Loading model weights took 14.9888 GB\n",
      "INFO 12-23 16:05:10 worker.py:241] Memory profiling takes 1.37 seconds\n",
      "INFO 12-23 16:05:10 worker.py:241] the current vLLM instance can use total_gpu_memory (23.69GiB) x gpu_memory_utilization (0.90) = 21.32GiB\n",
      "INFO 12-23 16:05:10 worker.py:241] model weights take 14.99GiB; non_torch_memory takes 0.07GiB; PyTorch activation peak memory takes 1.21GiB; the rest of the memory reserved for KV Cache is 5.06GiB.\n",
      "INFO 12-23 16:05:10 gpu_executor.py:76] # GPU blocks: 2589, # CPU blocks: 2048\n",
      "INFO 12-23 16:05:10 gpu_executor.py:80] Maximum concurrency for 5120 tokens per request: 8.09x\n",
      "INFO 12-23 16:05:11 model_runner.py:1413] Capturing cudagraphs for decoding. This may lead to unexpected consequences if the model is not static. To run the model in eager mode, set 'enforce_eager=True' or use '--enforce-eager' in the CLI.\n",
      "INFO 12-23 16:05:11 model_runner.py:1417] If out-of-memory error occurs during cudagraph capture, consider decreasing `gpu_memory_utilization` or switching to eager mode. You can also reduce the `max_num_seqs` as needed to decrease memory usage.\n",
      "INFO 12-23 16:05:28 model_runner.py:1527] Graph capturing finished in 16 secs, took 0.85 GiB\n",
      "INFO 12-23 16:05:28 llm_engine.py:446] init engine (profile, create kv cache, warmup model) took 19.51 seconds\n"
     ]
    }
   ],
   "source": [
    "llm = LLM(model=model_id, max_model_len=5120, tensor_parallel_size=NUM_GPUS)"
   ]
  },
  {
   "cell_type": "code",
   "execution_count": 12,
   "id": "b621fa4c-5c2e-4cb5-b33c-ddea291f4aaa",
   "metadata": {},
   "outputs": [],
   "source": [
    "def generate_personas(n):\n",
    "    messages = [{\n",
    "        \"role\": \"system\",\n",
    "        \"content\": system_prompt\n",
    "    }, {\n",
    "        \"role\": \"user\",\n",
    "        \"content\": \"Construct a new persona and output valid YAML\"\n",
    "    }]\n",
    "\n",
    "    chat_input = tokenizer.apply_chat_template(messages, tokenize=False, add_generation_prompt=True)\n",
    "    prompts = [chat_input] * n\n",
    "\n",
    "    outputs = llm.generate(prompts, SamplingParams(temperature=0.25, top_p=0.9, max_tokens=2048))\n",
    "    print(len(outputs))\n",
    "\n",
    "    new_personas = []\n",
    "    for output in outputs:\n",
    "        text = output.outputs[0].text.strip()\n",
    "        try:\n",
    "            persona = yaml.safe_load(text)\n",
    "            new_personas.append(persona)\n",
    "        except:\n",
    "            print(\"YAML decode error\")\n",
    "            continue\n",
    "\n",
    "    print(f\"n={n}, len(new_personas)={len(new_personas)}\")\n",
    "\n",
    "    return new_personas"
   ]
  },
  {
   "cell_type": "code",
   "execution_count": 13,
   "id": "b4ce0afd-b087-4a2c-a8f1-c89c88d6c5fc",
   "metadata": {},
   "outputs": [
    {
     "name": "stderr",
     "output_type": "stream",
     "text": [
      "Processed prompts: 100%|███████| 8/8 [00:34<00:00,  4.34s/it, est. speed input: 893.71 toks/s, output: 200.40 toks/s]"
     ]
    },
    {
     "name": "stdout",
     "output_type": "stream",
     "text": [
      "8\n",
      "YAML decode error\n",
      "YAML decode error\n",
      "YAML decode error\n",
      "YAML decode error\n",
      "YAML decode error\n",
      "YAML decode error\n",
      "YAML decode error\n",
      "n=8, len(new_personas)=1\n"
     ]
    },
    {
     "name": "stderr",
     "output_type": "stream",
     "text": [
      "\n"
     ]
    },
    {
     "data": {
      "text/plain": [
       "[{'identity': 'Astrid Jensen is a 42-year-old, queer, Afro-Danish artist and educator living in Copenhagen.',\n",
       "  'personalLife': \"Astrid's life is a vibrant tapestry of art, activism, and community engagement. She lives in a colorful, eclectic house in the Vesterbro neighborhood with her partner, a social worker, and their two children. Her home is a testament to her creativity, filled with vibrant textiles, eclectic trinkets, and an impressive collection of vinyl records.\",\n",
       "  'communication': \"Astrid's communication style is warm, inclusive, and unapologetically authentic. She speaks with a thick Copenhagen accent, peppered with Danish slang and phrases that make her sound like a true local. Her language is rich in metaphors and storytelling, often drawing from her experiences as a queer woman of color. When discussing her art, she becomes animated, using her hands to convey the emotions and ideas behind each piece.\",\n",
       "  'background': \"Born to a Danish mother and a Ghanaian father, Astrid grew up in a multicultural household that celebrated creativity and social justice. Her parents, both activists in their own right, encouraged her to express herself through art from a young age. Astrid's early life was marked by a deep connection to her African heritage, which she continues to explore through her work. She studied fine arts in Copenhagen and later earned a master's degree in education, focusing on community engagement and social justice.\",\n",
       "  'dailyLife': \"Astrid's days are filled with a mix of art, teaching, and activism. She leads workshops on social justice and art-making for marginalized communities, using her platform to amplify the voices of those often overlooked. Her own art practice is a reflection of her commitment to social justice, often incorporating elements of Afrofuturism and queer theory. In her free time, she loves to cook, listen to music, and spend time with her family.\",\n",
       "  'coping': 'Astrid manages stress through creative expression, often turning to her art when faced with challenges. She also prioritizes self-care, making time for meditation, yoga, and spending time in nature. Her partner and children are her rock, providing a sense of stability and love that grounds her.',\n",
       "  'interests': \"Astrid's interests are diverse and multifaceted. She is passionate about Afrofuturism, queer theory, and social justice. She loves to read, write, and listen to music, often drawing inspiration from her favorite artists, such as Sun Ra and Fela Kuti. Her favorite hobbies include cooking, gardening, and exploring the city's hidden corners.\",\n",
       "  'relationships': \"Astrid's relationships are built on trust, empathy, and a deep commitment to social justice. She is part of a close-knit community of artists, activists, and educators who share her values and passions. Her partner and children are her closest confidants, and she prioritizes their well-being above all else.\",\n",
       "  'values': \"Astrid's values are rooted in her Afro-Danish heritage and her commitment to social justice. She believes in the power of art to transform and uplift marginalized communities. She values empathy, inclusivity, and creativity, using her platform to amplify the voices of those often overlooked.\",\n",
       "  'aspirations': \"Astrid's aspirations are centered around creating a more just and equitable world. She hopes to continue using her art and education to empower marginalized communities and to inspire a new generation of social justice activists. She dreams of establishing a community arts center that serves as a hub for creativity, activism, and social change.\",\n",
       "  'dialogue': \"When discussing her art: 'My art is a reflection of my soul, a way to process the world around me and to imagine a better future.' To her students: 'The most powerful thing you can do is to listen to each other, to amplify each other's voices.' In a conversation with her partner: 'I'm so grateful for our little family, for the love and support we give each other.' In a workshop: 'Art is not just about making something beautiful, it's about making something that challenges the status quo.'\"}]"
      ]
     },
     "execution_count": 13,
     "metadata": {},
     "output_type": "execute_result"
    }
   ],
   "source": [
    "generate_personas(8)"
   ]
  },
  {
   "cell_type": "code",
   "execution_count": null,
   "id": "84ee1a73-d770-4c9f-ba89-ac952ea6b54c",
   "metadata": {},
   "outputs": [],
   "source": []
  }
 ],
 "metadata": {
  "kernelspec": {
   "display_name": "Python 3 (ipykernel)",
   "language": "python",
   "name": "python3"
  },
  "language_info": {
   "codemirror_mode": {
    "name": "ipython",
    "version": 3
   },
   "file_extension": ".py",
   "mimetype": "text/x-python",
   "name": "python",
   "nbconvert_exporter": "python",
   "pygments_lexer": "ipython3",
   "version": "3.11.10"
  }
 },
 "nbformat": 4,
 "nbformat_minor": 5
}
