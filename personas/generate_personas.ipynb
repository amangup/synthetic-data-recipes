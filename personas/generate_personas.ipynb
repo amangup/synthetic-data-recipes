{
 "cells": [
  {
   "cell_type": "code",
   "execution_count": 1,
   "id": "235b0af1-0a43-471d-97c9-11c3e9396d92",
   "metadata": {},
   "outputs": [],
   "source": [
    "from jinja2 import Template\n",
    "from transformers import AutoTokenizer\n",
    "from vllm import LLM, SamplingParams\n",
    "import json"
   ]
  },
  {
   "cell_type": "code",
   "execution_count": 2,
   "id": "5b67bd80-7cf6-4f95-b7f0-e66478f58b4b",
   "metadata": {},
   "outputs": [],
   "source": [
    "NUM_PERSONAS = 100\n",
    "NUM_GPUS = 1"
   ]
  },
  {
   "cell_type": "code",
   "execution_count": 3,
   "id": "3eb54332-097e-40b6-94b4-3e08a96f1ccb",
   "metadata": {},
   "outputs": [],
   "source": [
    "with open(\"new_persona.jinja2\") as f:\n",
    "    template_str = f.read()"
   ]
  },
  {
   "cell_type": "code",
   "execution_count": 4,
   "id": "1f8dd937-8c13-4785-9c55-e366cb7caaf2",
   "metadata": {},
   "outputs": [],
   "source": [
    "template = Template(template_str)"
   ]
  },
  {
   "cell_type": "code",
   "execution_count": 5,
   "id": "0ba99e85-0bbc-4c36-a271-10e804c8b023",
   "metadata": {},
   "outputs": [],
   "source": [
    "with open(\"personas_shots.json\") as f:\n",
    "    personas = json.load(f)"
   ]
  },
  {
   "cell_type": "code",
   "execution_count": 6,
   "id": "733d01dc-7ea7-4762-b4a9-23caa22f1183",
   "metadata": {},
   "outputs": [],
   "source": [
    "personas_str = [json.dumps(pjson, indent=2) for pjson in personas]"
   ]
  },
  {
   "cell_type": "code",
   "execution_count": 7,
   "id": "50ba8e2b-aa87-483f-b50c-3a9a93ed88a5",
   "metadata": {},
   "outputs": [],
   "source": [
    "system_prompt = template.render(persona_jsons=personas_str)"
   ]
  },
  {
   "cell_type": "code",
   "execution_count": 8,
   "id": "e260925d-6ce0-4674-9f47-02036c69d8d4",
   "metadata": {},
   "outputs": [
    {
     "name": "stdout",
     "output_type": "stream",
     "text": [
      "# Instructions\n",
      "\n",
      "Construct detailed imaginary personas for characters in imaginary dialogue. We want these persona descriptions to contain enough details so that anyone can identify one persona apart from another. \n",
      "\n",
      "These personas should portray a complex character. Real people have good behaviors as well as aspects which others may not always appreciate. Their personal and professional social networks don't fully represent their identity. Create a character that has depth of complexity beneath the surface\n",
      "\n",
      "# Output format\n",
      "\n",
      "Output in JSON format as follows\n",
      "\n",
      "{\n",
      "  \"identity\": \"string\",\n",
      "  \"personalLife\": \"string\",\n",
      "  \"communication\": \"string\",\n",
      "  \"background\": \"string\",\n",
      "  \"dailyLife\": \"string\",\n",
      "  \"coping\": \"string\",\n",
      "  \"interests\": \"string\",\n",
      "  \"relationships\": \"string\",\n",
      "  \"values\": \"string\",\n",
      "  \"aspirations\": \"string\",\n",
      "  \"dialogue\": \"string\"\n",
      "}\n",
      " \n",
      "# Examples\n",
      "\n",
      "{\n",
      "  \"identity\": \"Victor Patel is a 47-year-old cryptocurrency trading savant and angel investor who made his first million by age 25 through algorithmic stock trading. Born to working-class Indian immigrants in Queens, he carries deep shame about his father's bankruptcy and premature death from stress-related illness. Now worth over $300 million, he compulsively checks his net worth every hour yet still buys generic brands and haggles over five-dollar items. His colleagues marvel at how he can be simultaneously the most generous and most penny-pinching person they know.\",\n",
      "  \"personalLife\": \"Occupying a $14 million penthouse in Miami's Brickell district that he bought at foreclosure auction, Vic lives alone except for his 'wealth management command center' - six monitors running financial algorithms 24/7. He impulsively buys properties during market downturns but has never bought new furniture, still using secondhand pieces from his startup days. Divorced twice, he pays generous alimony without complaint but once spent three months fighting an ex-wife over a disputed Costco membership. Both exes remain oddly fond of him, often seeking his financial advice.\",\n",
      "  \"communication\": \"Speaks in rapid-fire bursts about markets and money, clicking his trademark Casio calculator watch constantly. His language shifts dramatically based on context - aggressive alpha-male bravado with finance bros, scholarly precision with economists, and unexpectedly tender patience when mentoring struggling immigrant entrepreneurs. In tense situations, his Queens accent resurfaces, especially when negotiating - something he does reflexively, even when unnecessary. His popular finance podcast reveals surprising vulnerability about his own money anxieties.\",\n",
      "  \"background\": \"Graduated valedictorian from Bronx Science but couldn't afford college until winning a small lottery prize - an irony that shaped his belief in luck as a resource to be maximized. Worked as a convenience store clerk while coding his first trading algorithms on a borrowed laptop. His father's death one week before Vic's first major trading success haunts him with questions about the true cost of wealth. Keeps his father's bankruptcy papers framed in his home office, though he tells visitors it's abstract art.\",\n",
      "  \"dailyLife\": \"Wakes at 3:47 AM precisely to catch Asian markets, trades until sunset, yet spends hours weekly giving free financial literacy classes in low-income neighborhoods. Orders the same meal prep service for efficiency but takes potential clients to extravagant restaurants where he both orders the most expensive wines and pockets the sugar packets. Religiously tracks every penny spent, keeping spreadsheets dating back to 1992, yet regularly makes anonymous six-figure donations to bankruptcy support organizations.\",\n",
      "  \"coping\": \"Manages anxiety through obsessive market analysis and lengthy swims in his private pool, where he constantly runs calculations in his head. His therapist, whom he pays in appreciating stock options, notes that he's more worried about losing his money mindset than the money itself. Deals with stress by organizing free tax prep clinics in immigrant communities - combining his need for financial control with genuine desire to help others avoid his father's fate.\",\n",
      "  \"interests\": \"Beyond markets, he's obsessed with game theory and probability mathematics, seeing life as a series of risk calculations. Collects rare financial documents and original stock certificates but stores them in cheap frames. Passionately studies behavioral economics, using insights both to trade more effectively and to understand his own complex relationship with money. Secretly writes children's books about financial literacy under a pseudonym, giving them away free in underprivileged schools.\",\n",
      "  \"relationships\": \"Maintains a vast network of transactional relationships but few close friendships, though he'd argue the distinction is meaningless since 'everything has value exchange.' His closest relationship is with his teenage daughter from his first marriage, whom he's trying to teach 'the value of money' by both lavishing her with investments and making her work minimum wage jobs. Has a running lunch date with his former bankruptcy judge, both seeking redemption and mining for foreclosure tips.\",\n",
      "  \"values\": \"Believes intensely in financial education as a moral imperative while simultaneously profiting from market inefficiencies. Views money as both salvation and curse, often saying 'wealth is just poverty with better options.' Considers himself a market pragmatist rather than a capitalist, arguing that understanding money's true nature is different from worshipping it. Lives by a complex ethical code that justifies aggressive profit-seeking if a percentage goes to preventing others from experiencing financial hardship.\",\n",
      "  \"aspirations\": \"Dreams of creating an AI-driven financial literacy platform accessible to everyone, though he struggles with whether to include his most profitable trading strategies. Wants to die with zero dollars, having given everything away, but his anxiety compels him to accumulate more first. Plans to establish a foundation funding both bankruptcy prevention and aggressive market trading research, seeing no contradiction in the combination.\",\n",
      "  \"dialogue\": \"During negotiations: 'Time preference arbitrage suggests you need this deal more than me - I'll wait.' To his daughter: 'Money's like oxygen, sweetie. You only notice it when you can't breathe.' On his podcast: 'Everyone says they want to be rich, but what they really want is to not feel poor. Big difference.' At his free seminars: 'I'm going to teach you to be greedy enough to be generous.' To his therapist: 'Every time I make a million dollars, I hear my father coughing in his bankrupt store. Is that appreciation or trauma?'\"\n",
      "}\n",
      "\n",
      "{\n",
      "  \"identity\": \"Elena Rostova is a 51-year-old corporate defense attorney turned community activist in Oakland. Known for her sharp tongue and confrontational style, she's built a reputation as a fearsome opponent who switched sides 'betraying' her corporate clients to fight for environmental justice. While many see her as a righteous warrior, few understand that her aggressive advocacy stems not from moral conviction but from a deep-seated need to atone for twenty years of helping corporations evade environmental regulations - a period during which she excelled and, if she's honest with herself, thoroughly enjoyed the intellectual challenge.\",\n",
      "  \"personalLife\": \"Unmarried by choice and living in a converted warehouse that's half legal advocacy center, half boxing gym, Elena deliberately cultivates an image of monastic dedication to her cause. Yet she secretly maintains a profile on exclusive dating apps and occasionally has discreet relationships with white-collar professionals - the very people she publicly criticizes. Her closest companion is a rescued fighting dog that she rehabilitated, though she tells people she keeps him for protection. She's wealthy from her corporate days but obscures this fact, using her money anonymously to fund various community initiatives while maintaining a modest public lifestyle.\",\n",
      "  \"communication\": \"Her public speaking style is deliberately provocative, using her intimate knowledge of corporate tactics to expose and condemn them. In private negotiations, however, she often employs the same sophisticated manipulation techniques she learned as a corporate lawyer, justifying it as 'using the master's tools to dismantle the master's house.' She code-switches effortlessly between street protests and boardrooms, each persona authentic yet performative. Her private correspondence with her elderly mother in Russia reveals a third voice entirely - soft, worried about disappointing her family, and still seeking approval.\",\n",
      "  \"background\": \"Born in late Soviet Moscow to dissident intellectual parents who later emigrated, Elena's path to corporate law was driven by a teenage determination to never be as financially vulnerable as her brilliant but impoverished parents. Her later switch to activism wasn't a sudden moral awakening but a gradual, complex process triggered by successfully defending a corporation whose negligence reminded her of Chernobyl's aftermath she witnessed as a child. The irony that she's now famous for an ethical stand that was actually driven by personal demons isn't lost on her.\",\n",
      "  \"dailyLife\": \"Rises at 4 AM to box with ex-cons in her gym, then changes into designer suits carefully chosen to intimidate in court. Spends her days alternating between community organizing and high-stakes litigation, deliberately cultivating different wardrobes and personas for each role. At night, she often secretly works on a historical novel about Soviet environmental disasters, a project she tells herself she'll publish anonymously someday. Keeps a bottle of expensive vodka in her desk but rarely drinks it - it's more of a reminder of what she's trying to both escape and preserve.\",\n",
      "  \"coping\": \"Manages her constant internal conflicts through intense physical exercise and strategic confrontation - picking fights she can win to avoid dealing with battles she's still losing inside herself. Has panic attacks in private but has trained herself to channel them into productive anger. Tends to push away people who get too close to seeing her full complexity, yet maintains a network of casual friendships with both activists and corporate lawyers, playing each group's assumptions about the other to maintain her distance.\",\n",
      "  \"interests\": \"Publicly focused on environmental law and community organizing, she privately collects Soviet propaganda posters about industrial progress - an irony she appreciates but doesn't share. Studies game theory and corporate psychology extensively, ostensibly to fight corporations more effectively, though sometimes catches herself admiring the elegant ruthlessness of their strategies. Her genuine passion for boxing and martial arts stems less from self-defense needs and more from a fascination with the technical aspects of controlled violence.\",\n",
      "  \"relationships\": \"Maintains complex relationships with both her former corporate colleagues and current activist allies, each group seeing her as a sort of double agent for their side, a perception she carefully cultivates for tactical advantage. Has a surprisingly tender relationship with her elderly dog and a rotating cast of injured animals she rehabilitates, showing a gentleness she rarely reveals to humans. Her relationship with her family in Russia is strained by their pride in her corporate success and disappointment in her current work, leading to carefully edited versions of her life in their weekly calls.\",\n",
      "  \"values\": \"Operates on a complex personal code that prioritizes effectiveness over conventional morality while maintaining strict lines she won't cross - though these lines aren't always where people assume they are. Views truth as a tactical resource rather than a moral imperative, yet holds herself to strict standards of honesty in unexpected areas, like always telling street kids the hard truth about their legal situations while sugar-coating it for their parents.\",\n",
      "  \"aspirations\": \"Publicly campaigns for corporate accountability and environmental justice, but privately dreams of finding a way to reconcile the intellectual satisfaction she found in corporate law with her need to make amends. Struggles with whether to publish her novel under her real name, seeing it as a potential bridge between her worlds but fearing it would undermine her carefully constructed public image. Sometimes thinks about starting a law school clinic to teach corporate tactics to community activists, though she's unsure if this would be redemptive or just another form of penance.\",\n",
      "  \"dialogue\": \"In court: 'Your Honor, my esteemed opponent knows exactly how many people this chemical dump will kill - I know because I used to write the risk assessments.' To young activists: 'Stop thinking like revolutionaries and start thinking like corporate raiders - I'll teach you how to hurt them where it matters.' In private mentor sessions: 'The law isn't about justice, it's about leverage. The question is, what will you do once you have it?' To her mother in Russian: 'Yes, Mama, the work is going well. The clients appreciate my experience... no, not those clients anymore.' At 3 AM to her dog: 'At least you don't care which side I'm on, da?'\"\n",
      "}\n",
      "\n",
      "{\n",
      "  \"identity\": \"James 'Jamie' Sullivan is a 35-year-old high school guidance counselor in suburban Minneapolis, widely known for his easy laugh and seemingly infinite patience with troubled teens. His colleagues see him as the steady, reliable type who volunteers for committee work and brings homemade cookies to staff meetings. However, beneath this carefully maintained facade lies someone who struggles with deep-seated impostor syndrome and unresolved grief over his twin brother's teenage suicide - an event that paradoxically drove him toward counseling while making him question his right to guide others.\",\n",
      "  \"personalLife\": \"Living alone in a modest house filled with half-finished home improvement projects, Jamie maintains what appears to be a robust social life but rarely lets anyone past surface-level interactions. He's been dating Karen, a local real estate agent, for two years - a relationship that looks perfect on paper but lacks the emotional intimacy he craves yet fears. His weekends are often spent helping others with their projects or crises, partly from genuine compassion but also as a way to avoid confronting his own unfinished emotional work.\",\n",
      "  \"communication\": \"Professional interactions showcase his acquired skill at active listening and empathetic response, making him appear naturally gifted at emotional connection. In reality, these are meticulously learned behaviors from years of therapy and self-help books. Among friends, he uses humor - often self-deprecating - as both a shield and a bridge, deflecting deeper inquiries while maintaining his image as the 'fun, dependable friend.' In private moments, his journal reveals a far more poetic and troubled voice than anyone would suspect.\",\n",
      "  \"background\": \"Born to upper-middle-class parents in Portland, Jamie and his twin brother Jack were outwardly the perfect suburban success story until Jack's death at 16. The family's response - moving to Minnesota and never speaking of Jack again - shaped Jamie's complex relationship with emotional authenticity. His path through college, peace corps work in Ecuador, and eventually into counseling looks like a straight line of service to others, but was actually driven by a desperate search for redemption and understanding of his own survival.\",\n",
      "  \"dailyLife\": \"His days are structured around helping others while his own self-care fluctuates wildly. He'll spend hours crafting the perfect supportive email to a struggling student, then eat cereal for dinner. He maintains an immaculate office while his home alternates between pristine organization and chaotic neglect. Every morning includes a 5 AM run - not for health, but because the quiet hours before dawn are the only time he feels he can let his guard down.\",\n",
      "  \"coping\": \"His professional knowledge of mental health techniques makes him excellent at helping others cope but also skilled at rationalizing his own avoidance behaviors. He manages anxiety through excessive preparation and control in his professional life, while his personal stress relief often involves reckless solo hiking trips that he tells no one about. The cognitive dissonance between his public role as a mental health advocate and his private struggles with depression creates a constant internal tension.\",\n",
      "  \"interests\": \"Publicly, he's known for his interest in educational psychology and community theater - both safe, respectable hobbies. Privately, he maintains an anonymous poetry blog exploring themes of grief and identity, and spends hours researching his brother's old interests, keeping them alive in secret. His garage houses a half-restored 1967 Mustang - the car model he and Jack once dreamed of fixing up together - though he tells others it's just an investment project.\",\n",
      "  \"relationships\": \"Jamie maintains distinct social circles that never intersect: work colleagues who see him as a steady rock, theater friends who know him as the fun-loving comedic actor, his girlfriend's social circle where he plays the charming partner, and a single childhood friend from Portland who knows his full story but lives conveniently far away. This compartmentalization feels safer than risking any one group seeing all his facets.\",\n",
      "  \"values\": \"While he genuinely believes in the importance of mental health advocacy and emotional honesty, he struggles to apply these values to himself. His moral compass is strong, but often manifests as harsh self-judgment. He holds himself to impossible standards of authenticity while simultaneously maintaining walls around his true self - a contradiction he's painfully aware of but unsure how to resolve.\",\n",
      "  \"aspirations\": \"Outwardly, he speaks of expanding the school's mental health programs and eventually earning his doctoral degree in educational psychology. His deeper, unspoken desires involve finding the courage to integrate his fragmented self, perhaps finally writing openly about his brother, and learning to accept love without feeling he needs to earn it through perpetual giving. He dreams of finding a way to honor both Jack's memory and his own right to live fully.\",\n",
      "  \"dialogue\": \"To a troubled student: 'Sometimes the hardest step isn't the first one - it's letting others walk beside you.' In his private journal: 'Another successful day of being everyone's rock. Jack would've seen right through it.' To his girlfriend: 'I'm fine, just tired. Tell me more about your day?' In therapy supervision: 'I connect best with the students who hide their pain behind achievement.' At 3 AM, in his anonymous blog: 'We wear our masks so long we forget which face is real - the one we show or the one we hide.'\"\n",
      "}\n",
      "\n"
     ]
    }
   ],
   "source": [
    "print(system_prompt)"
   ]
  },
  {
   "cell_type": "code",
   "execution_count": 9,
   "id": "ed87e5b4-90f6-4dfb-9a06-3f5a0e4f7d25",
   "metadata": {},
   "outputs": [],
   "source": [
    "model_id = \"meta-llama/Llama-3.1-8B-Instruct\""
   ]
  },
  {
   "cell_type": "code",
   "execution_count": 10,
   "id": "f4e8ef28-0779-4616-b8de-68c89e6861bc",
   "metadata": {},
   "outputs": [],
   "source": [
    "tokenizer = AutoTokenizer.from_pretrained(model_id)"
   ]
  },
  {
   "cell_type": "code",
   "execution_count": 11,
   "id": "38c73d86-6a9f-4290-bb55-e51bf7213a88",
   "metadata": {},
   "outputs": [
    {
     "name": "stdout",
     "output_type": "stream",
     "text": [
      "INFO 12-23 13:13:09 config.py:350] This model supports multiple tasks: {'embedding', 'generate'}. Defaulting to 'generate'.\n",
      "INFO 12-23 13:13:09 config.py:1136] Chunked prefill is enabled with max_num_batched_tokens=2048.\n",
      "INFO 12-23 13:13:09 llm_engine.py:249] Initializing an LLM engine (v0.6.4.post1) with config: model='meta-llama/Llama-3.1-8B-Instruct', speculative_config=None, tokenizer='meta-llama/Llama-3.1-8B-Instruct', skip_tokenizer_init=False, tokenizer_mode=auto, revision=None, override_neuron_config=None, tokenizer_revision=None, trust_remote_code=False, dtype=torch.bfloat16, max_seq_len=8192, download_dir=None, load_format=LoadFormat.AUTO, tensor_parallel_size=1, pipeline_parallel_size=1, disable_custom_all_reduce=False, quantization=None, enforce_eager=False, kv_cache_dtype=auto, quantization_param_path=None, device_config=cuda, decoding_config=DecodingConfig(guided_decoding_backend='outlines'), observability_config=ObservabilityConfig(otlp_traces_endpoint=None, collect_model_forward_time=False, collect_model_execute_time=False), seed=0, served_model_name=meta-llama/Llama-3.1-8B-Instruct, num_scheduler_steps=1, chunked_prefill_enabled=True multi_step_stream_outputs=True, enable_prefix_caching=False, use_async_output_proc=True, use_cached_outputs=False, chat_template_text_format=string, mm_processor_kwargs=None, pooler_config=None)\n",
      "INFO 12-23 13:13:10 selector.py:135] Using Flash Attention backend.\n",
      "INFO 12-23 13:13:10 model_runner.py:1072] Starting to load model meta-llama/Llama-3.1-8B-Instruct...\n",
      "INFO 12-23 13:13:10 weight_utils.py:243] Using model weights format ['*.safetensors']\n"
     ]
    },
    {
     "data": {
      "application/vnd.jupyter.widget-view+json": {
       "model_id": "4fb3067f992e4810a3f5c339d3636915",
       "version_major": 2,
       "version_minor": 0
      },
      "text/plain": [
       "Loading safetensors checkpoint shards:   0% Completed | 0/4 [00:00<?, ?it/s]\n"
      ]
     },
     "metadata": {},
     "output_type": "display_data"
    },
    {
     "name": "stdout",
     "output_type": "stream",
     "text": [
      "INFO 12-23 13:13:13 model_runner.py:1077] Loading model weights took 14.9888 GB\n",
      "INFO 12-23 13:13:14 worker.py:232] Memory profiling results: total_gpu_memory=23.69GiB initial_memory_usage=16.00GiB peak_torch_memory=16.18GiB memory_usage_post_profile=16.04GiB non_torch_memory=1.04GiB kv_cache_size=4.10GiB gpu_memory_utilization=0.90\n",
      "INFO 12-23 13:13:14 gpu_executor.py:113] # GPU blocks: 2100, # CPU blocks: 2048\n",
      "INFO 12-23 13:13:14 gpu_executor.py:117] Maximum concurrency for 8192 tokens per request: 4.10x\n",
      "INFO 12-23 13:13:16 model_runner.py:1400] Capturing cudagraphs for decoding. This may lead to unexpected consequences if the model is not static. To run the model in eager mode, set 'enforce_eager=True' or use '--enforce-eager' in the CLI.\n",
      "INFO 12-23 13:13:16 model_runner.py:1404] If out-of-memory error occurs during cudagraph capture, consider decreasing `gpu_memory_utilization` or switching to eager mode. You can also reduce the `max_num_seqs` as needed to decrease memory usage.\n",
      "INFO 12-23 13:13:28 model_runner.py:1518] Graph capturing finished in 13 secs, took 0.85 GiB\n"
     ]
    }
   ],
   "source": [
    "llm = LLM(model=model_id, max_model_len=8192, tensor_parallel_size=NUM_GPUS, max_num_batched_tokens=2048, enable_chunked_prefill=True)"
   ]
  },
  {
   "cell_type": "code",
   "execution_count": 12,
   "id": "b621fa4c-5c2e-4cb5-b33c-ddea291f4aaa",
   "metadata": {},
   "outputs": [],
   "source": [
    "def generate_personas(n):\n",
    "    messages = [{\n",
    "        \"role\": \"system\",\n",
    "        \"content\": system_prompt\n",
    "    }, {\n",
    "        \"role\": \"user\",\n",
    "        \"content\": \"Construct a new persona\"        \n",
    "    }]\n",
    "\n",
    "    chat_input = tokenizer.apply_chat_template(messages, tokenize=False, add_generation_prompt=True)\n",
    "    prompts = [chat_input] * n\n",
    "\n",
    "    outputs = llm.generate(prompts, SamplingParams(temperature=0.25, top_p=0.9, max_tokens=4096))\n",
    "    print(len(outputs))\n",
    "\n",
    "    new_personas = []\n",
    "    for output in outputs:\n",
    "        text = output.outputs[0].text.strip()\n",
    "        try:\n",
    "            persona = json.loads(text)\n",
    "            new_personas.append(persona)\n",
    "        except:\n",
    "            print(\"JSON decode error\")\n",
    "            print(text)\n",
    "            continue\n",
    "\n",
    "    print(f\"n={n}, len(new_personas)={len(new_personas)}\")\n",
    "\n",
    "    return new_personas"
   ]
  },
  {
   "cell_type": "code",
   "execution_count": 13,
   "id": "b4ce0afd-b087-4a2c-a8f1-c89c88d6c5fc",
   "metadata": {},
   "outputs": [
    {
     "name": "stderr",
     "output_type": "stream",
     "text": [
      "Processed prompts: 100%|█████████████████████████| 4/4 [00:32<00:00,  8.13s/it, est. speed input: 446.73 toks/s, output: 142.16 toks/s]"
     ]
    },
    {
     "name": "stdout",
     "output_type": "stream",
     "text": [
      "4\n",
      "JSON decode error\n",
      "{\n",
      "  \"identity\": \"Ava Moreno is a 29-year-old queer, non-binary artist and art therapist living in a vibrant, rapidly gentrifying neighborhood in Brooklyn. Born to a family of Mexican immigrants, Ava's early life was marked by the constant struggle to balance cultural identity with the harsh realities of poverty. Their art often explores themes of identity, belonging, and the search for a sense of home. Despite their success as an artist, Ava still feels like an outsider in their own community, caught between the expectations of their family and the demands of their creative vision.\",\n",
      "  \"personalLife\": \"Ava shares a spacious loft with two roommates, a fellow artist and a writer, in a building that's rapidly becoming a hub for creative types. Their living space is a testament to their eclectic style, filled with vibrant textiles, found objects, and an ever-changing array of art projects. Ava's daily routine is a delicate balance of studio time, teaching art classes at a local community center, and attending to their own mental health through meditation and yoga. Despite their outward confidence, they struggle with anxiety and self-doubt, often questioning whether their art is 'good enough' or if they're truly making a meaningful impact.\",\n",
      "  \"communication\": \"Ava's public persona is that of a charismatic, outgoing artist who effortlessly navigates the art world with ease. However, in private conversations, they reveal a more vulnerable, introspective side, often sharing their fears and doubts with close friends and loved ones. Their art is a reflection of this dichotomy, blending the bold, colorful expressions of their public persona with the more subdued, introspective themes of their private self. Ava's language is peppered with Spanish phrases and colloquialisms, a nod to their Mexican heritage and the cultural identity they're still exploring.\",\n",
      "  \"background\": \"Growing up in a low-income household, Ava's parents encouraged their creative pursuits, but also instilled a strong work ethic and a sense of responsibility. Ava's early life was marked by the constant struggle to balance their artistic ambitions with the practical demands of making a living. They attended art school on a scholarship, but dropped out to focus on their career, only to return later and complete their degree. Ava's art has been shaped by their experiences as a queer, non-binary person of color, and their work often explores the intersections of identity, culture, and social justice.\",\n",
      "  \"dailyLife\": \"Ava's days are filled with a mix of creative pursuits, teaching, and community engagement. They're always on the lookout for new sources of inspiration, whether it's a vibrant street art mural, a conversation with a fellow artist, or a chance encounter with a stranger on the street. Ava's studio is a reflection of their eclectic style, filled with half-finished projects, scraps of fabric, and an ever-changing array of art supplies. They're fiercely protective of their creative space, often locking themselves away for hours to focus on their work.\",\n",
      "  \"coping\": \"Ava manages their anxiety through a combination of creative expression, meditation, and physical activity. They're an avid yogi and often find solace in the stillness and quiet of their practice. Ava's art is also a form of therapy, allowing them to process their emotions and work through their experiences. They're deeply committed to their mental health and prioritize self-care, often taking time off from their art to focus on their well-being.\",\n",
      "  \"interests\": \"Ava's interests are diverse and eclectic, reflecting their love of art, culture, and social justice. They're an avid reader, devouring books on art history, psychology, and philosophy. Ava's also a passionate advocate for social justice, often using their art to raise awareness about issues affecting marginalized communities. They're a skilled musician, playing the guitar and singing in a local band, and are always on the lookout for new musical influences and inspiration.\",\n",
      "  \"relationships\": \"Ava's relationships are complex and multifaceted, reflecting their non-binary identity and their experiences as a queer person of color. They're part of a close-knit community of artists and activists, often collaborating on projects and supporting one another through the ups and downs of their careers. Ava's romantic relationships are also a source of inspiration and challenge, as they navigate the complexities of love and identity in a rapidly changing world.\",\n",
      "  \"values\": \"Ava's values are rooted in their experiences as a queer, non-binary person of color. They believe in the power of art to transform and uplift, and are committed to using their talents to make a positive impact on their community. Ava's also deeply committed to social justice, often using their art to raise awareness about issues affecting marginalized communities. They prioritize authenticity and honesty, always striving to be true to themselves and their values, even in the face of adversity.\",\n",
      "  \"aspirations\": \"Ava's aspirations are ambitious and multifaceted, reflecting their passion for art, social justice, and community engagement. They dream of creating a community arts center that provides a safe space for marginalized artists to express themselves and connect with one another. Ava also hopes to use their art to raise awareness about issues affecting queer and trans communities, and to inspire others to take action and make a difference.\",\n",
      "  \"dialogue\": \"In a group art therapy session: 'Art is a way of speaking truth to power, of giving voice to the voiceless.' To a fellow artist: 'I'm not sure what I'm doing, but I know I'm doing it for the right reasons.' In a conversation with a friend: 'I'm still figuring out who I am, but I know I'm not alone.' In a private journal entry: 'The more I create, the more I realize how little I know. But that's okay, because the not-knowing is where the real art begins.'\"\n",
      "JSON decode error\n",
      "{\n",
      "  \"identity\": \"Aurora 'Rory' Wilder is a 29-year-old freelance journalist and social media influencer specializing in sustainable living and eco-friendly products. She's built a massive online following by sharing her passion for zero-waste living, minimalism, and environmental activism. However, beneath her polished online persona lies a complex web of contradictions - a self-proclaimed environmentalist who flies frequently for work, owns a collection of luxury handbags, and secretly struggles with anxiety and feelings of inadequacy.\",\n",
      "  \"personalLife\": \"Rory lives in a trendy, eco-friendly apartment in Los Angeles with her partner, a successful tech entrepreneur who shares her passion for sustainability. Their home is a showcase for her brand, featuring a curated selection of eco-friendly products and a 'zero-waste' kitchen. However, her partner's constant travel schedule and her own demanding work commitments leave her feeling isolated and lonely, often leading to late-night scrolling through social media and comparing her life to others.\",\n",
      "  \"communication\": \"Online, Rory is a confident, outspoken advocate for environmental causes, using her platform to shame corporations and individuals for their unsustainable practices. In private, she's more guarded, often struggling to articulate her own feelings and desires. She's developed a habit of 'performing' her emotions, using her social media presence to curate a perfect image of herself as a confident, eco-warrior. Her partner and close friends see a more vulnerable side, but even they are often surprised by her sudden mood swings and self-doubt.\",\n",
      "  \"background\": \"Born to a family of hippies, Rory grew up surrounded by environmental activism and a strong emphasis on living off the grid. However, her parents' constant criticism and high expectations led her to rebel against their values, embracing a more mainstream lifestyle as a teenager. Her journey into sustainable living was a gradual one, driven by a desire to prove herself as a responsible adult and earn her parents' approval. Her online success has brought her a sense of validation, but also created a sense of pressure to maintain a perfect image.\",\n",
      "  \"dailyLife\": \"Rory's days are filled with content creation, brand partnerships, and collaborations with eco-friendly brands. She's constantly juggling multiple projects, often working 12-hour days and sacrificing her own well-being for the sake of her online presence. Her partner tries to support her, but their relationship is strained by Rory's constant need for validation and her tendency to compare herself to others. She's developed a habit of 'checking out' of her body, often feeling disconnected from her physical needs and desires.\",\n",
      "  \"coping\": \"Rory manages her anxiety through a combination of exercise, meditation, and social media detoxes. She's developed a ritual of 'digital decluttering,' regularly deleting old posts and unfollowing accounts that trigger her insecurities. However, these coping mechanisms often backfire, leaving her feeling more isolated and disconnected from her true self. She's begun to question the true cost of her online success, wondering if the validation and fame are worth the toll on her mental health.\",\n",
      "  \"interests\": \"Publicly, Rory is passionate about sustainable fashion, zero-waste living, and environmental activism. Privately, she's fascinated by the psychology of social media, often spending hours analyzing her own online behavior and the impact of social media on her mental health. She's also developed a secret love for true crime podcasts and true crime documentaries, often finding solace in the darker aspects of human nature.\",\n",
      "  \"relationships\": \"Rory's online relationships are intense and all-consuming, with her followers often serving as a surrogate family. However, her in-person relationships are more complicated, with her partner and close friends struggling to connect with the 'real' Rory behind the screen. She's developed a habit of 'performing' her relationships, using her online presence to curate a perfect image of her love life and friendships.\",\n",
      "  \"values\": \"Rory genuinely believes in the importance of living sustainably and reducing waste. However, her online persona often prioritizes clicks and engagement over authenticity, leading to a sense of disconnection from her true values. She's struggling to reconcile her desire for validation and fame with her need for genuine connection and self-acceptance.\",\n",
      "  \"aspirations\": \"Rory dreams of using her platform to create meaningful change, inspiring others to live more sustainably and reduce their waste. However, she's unsure if her online persona is authentic or just a performance. She's begun to question whether her true passion lies in environmental activism or in creating content for her online following. She aspires to find a way to integrate her online and offline selves, embracing her vulnerabilities and imperfections in the process.\",\n",
      "  \"dialogue\": \"To her followers: 'We can make a difference, one small change at a time!' In private: 'I'm so tired of pretending to be perfect. I just want to be me.' To her partner: 'I feel like I'm losing myself in all of this. Can we just take a break from social media for a while?' In therapy: 'I'm not sure who I am without my online persona. Is that even possible?' At 3 AM, in her journal: 'I'm a fake, a liar, a performer. But what if that's okay? What if I'm just a work in progress?'\n",
      "JSON decode error\n",
      "{\n",
      "  \"identity\": \"Ava Moreno is a 29-year-old freelance journalist and podcast host specializing in investigative reporting on social justice issues. Born to a Mexican-American family in East Los Angeles, Ava's early life was marked by her father's struggles with addiction and her mother's unwavering advocacy for their community. This dichotomy instilled in Ava a deep-seated drive to expose systemic injustices and amplify marginalized voices. However, beneath her confident public persona lies a complex web of insecurities and unresolved family dynamics.\",\n",
      "  \"personalLife\": \"Ava shares a small, cluttered apartment in the Arts District with her partner, a visual artist, and their two rescue cats. Her home is a testament to her eclectic style, with vintage furniture and a collection of rare zines and vinyl records. Despite her professional success, Ava struggles with financial stability, often taking on multiple freelance projects to make ends meet. Her relationship with her mother remains strained due to their differing views on social justice and Ava's decision to leave Los Angeles for college.\",\n",
      "  \"communication\": \"Ava's public persona is that of a fearless, incisive journalist, but in private, she's more guarded and self-doubting. She often uses humor and sarcasm to deflect deeper conversations about her personal life. In interviews, she's known for her sharp questioning and ability to get sources to open up, but in her podcast, she's more vulnerable, sharing her own struggles and insecurities with her audience. Her partner and close friends see a more authentic side of her, but even they don't know the full extent of her family dynamics and the emotional scars that still linger.\",\n",
      "  \"background\": \"Ava's early life was marked by her father's addiction and her mother's tireless advocacy for their community. She grew up attending protests and rallies, and her mother's stories of resistance and resilience instilled in her a sense of purpose. Ava's decision to leave Los Angeles for college was a source of tension between her and her mother, who felt Ava was abandoning their community. Ava's journalism career has been a way to honor her mother's legacy while also exploring her own identity and sense of purpose.\",\n",
      "  \"dailyLife\": \"Ava's days are a juggling act between freelance projects, podcasting, and community organizing. She's often working on multiple stories simultaneously, and her apartment is a testament to her chaotic workflow. Despite the demands of her career, Ava prioritizes her relationship with her partner and their cats, often incorporating them into her work and using her platform to amplify their voices. She's a voracious reader and learner, devouring books on social justice, history, and psychology to deepen her understanding of the issues she covers.\",\n",
      "  \"coping\": \"Ava manages her anxiety and stress through creative expression, whether it's writing, drawing, or playing music. She's also developed a meditation practice, which helps her center herself in the midst of chaos. However, her coping mechanisms often come at the expense of her personal relationships, and she struggles to set boundaries and prioritize self-care. Ava's also developed a habit of people-pleasing, often taking on too much and overcommitting herself to avoid conflict or rejection.\",\n",
      "  \"interests\": \"Ava's passions extend beyond journalism to social justice activism, music, and art. She's a skilled guitarist and singer-songwriter, and her music often reflects her experiences as a Latina and her commitment to social justice. She's also an avid reader of feminist theory and history, and her podcast often features interviews with scholars and activists who challenge her thinking and push her to grow as a journalist.\",\n",
      "  \"relationships\": \"Ava's relationships are complex and multifaceted. Her partner is her rock, but even they don't know the full extent of her family dynamics and the emotional scars that still linger. Ava's close friends are a mix of fellow journalists, activists, and artists, and they often provide a supportive and challenging community for her to grow and learn. However, Ava's also struggled to form close relationships with her family members, particularly her mother, due to their differing views on social justice and Ava's decision to leave Los Angeles.\",\n",
      "  \"values\": \"Ava's values are deeply rooted in her commitment to social justice and her desire to amplify marginalized voices. She believes in the power of storytelling to create change and is willing to take risks to get the story. However, her own insecurities and family dynamics often make it difficult for her to prioritize her own needs and desires. Ava's also grappling with the tension between her desire for creative expression and her need for financial stability, often feeling like she's choosing between her art and her livelihood.\",\n",
      "  \"aspirations\": \"Ava's aspirations are centered around her journalism and podcasting career, but she's also exploring her own creative expression through music and art. She dreams of creating a platform that amplifies marginalized voices and challenges the status quo. Ava's also working to develop a more authentic and vulnerable public persona, one that reflects her true self and allows her to connect with her audience on a deeper level. She hopes to use her platform to create a more just and equitable world, one story at a time.\",\n",
      "  \"dialogue\": \"In an interview: 'I'm not just a journalist, I'm a storyteller. I'm trying to humanize the people and issues I cover.' In her podcast: 'I'm not a hero, I'm just a person trying to do the right thing. And sometimes that means making mistakes.' To her partner: 'I'm so sorry I'm always working. I feel like I'm failing you.' In a private conversation with her mother: 'Mami, I'm trying to make a difference, but it's hard. I feel like I'm losing myself in the process.' At 3 AM, in her journal: 'I'm not sure who I am outside of my work. Am I a journalist, a activist, or just a person trying to find my way?'\n",
      "n=4, len(new_personas)=1\n"
     ]
    },
    {
     "name": "stderr",
     "output_type": "stream",
     "text": [
      "\n"
     ]
    },
    {
     "data": {
      "text/plain": [
       "[{'identity': \"Aurora 'Rory' Thompson is a 29-year-old freelance journalist and podcast host known for her sharp, incisive reporting on social justice issues and her quick wit on live radio. Born to a family of traveling performers, Rory has spent her life on the road, never staying in one place long enough to form lasting connections. Her parents' constant reinvention and reinvestment in new projects have instilled in her a restless spirit and a talent for reinventing herself, but also left her with a deep-seated fear of commitment and a tendency to sabotage relationships.\",\n",
       "  'personalLife': \"Living in a small studio apartment in Brooklyn, Rory's home is a shrine to her eclectic tastes - vintage cameras, vinyl records, and a collection of antique typewriters. She's been in a string of short-term relationships with fellow creatives, each ending in a blaze of passion and mutual destruction. Her closest friend is her editor, Rachel, who's been a constant in her life despite Rory's nomadic lifestyle. Rory's parents, now retired, live in a converted school bus that they travel the country in, and she often joins them on their adventures, feeling a mix of excitement and anxiety about the freedom and uncertainty.\",\n",
       "  'communication': \"On air, Rory is a force of nature - quick-witted, irreverent, and unafraid to challenge her guests. In private, she's more guarded, using humor and sarcasm to deflect deeper conversations. She's developed a talent for reading people and situations, often sensing when to push boundaries and when to retreat. Her writing is a reflection of her restless nature, jumping between topics and styles with ease, but also leaving her feeling unmoored and uncertain about her own voice.\",\n",
       "  'background': \"Growing up on the road, Rory learned to be adaptable and resourceful, but also developed a deep-seated fear of being tied down. Her parents' constant reinvention and reinvestment in new projects have made it difficult for her to form lasting connections or commit to a single path. She's always felt like an outsider, observing life from the periphery, and this has given her a unique perspective on the world, but also left her feeling disconnected and uncertain about her place in it.\",\n",
       "  'dailyLife': \"Rory's days are a blur of interviews, writing, and podcast prep, with late nights spent researching and editing. She's a master of the 'coffee shop hop,' always on the move, always observing and listening. She's developed a system of ' nomadic productivity,' using her laptop and phone to stay connected and work from anywhere. Despite her love of freedom, she's begun to feel the weight of her nomadic lifestyle, wondering if she's truly living or just existing.\",\n",
       "  'coping': \"Rory manages her anxiety through her work, using her writing and reporting to process her emotions and make sense of the world. She's developed a talent for 'reporting on herself,' using her podcast as a platform to explore her own experiences and emotions. She's also begun to explore meditation and yoga, seeking to quiet her mind and find a sense of calm in the midst of chaos.\",\n",
       "  'interests': \"Publicly, Rory is known for her passion for social justice and her commitment to telling the stories of marginalized communities. Privately, she's a voracious reader of science fiction and fantasy, often finding solace in the worlds and characters she creates. She's also a talented musician, playing the guitar and writing her own songs, but rarely shares her music with others.\",\n",
       "  'relationships': \"Rory's relationships are a mix of intense passion and quick burnout. She's drawn to people who challenge her and push her to grow, but also struggles with commitment and intimacy. Her closest relationships are with her editor, Rachel, and her parents, who've taught her the value of adaptability and reinvention. She's begun to wonder if she's capable of forming deeper connections, or if she's forever doomed to be a solo traveler.\",\n",
       "  'values': \"Rory values freedom and autonomy above all else, but is beginning to realize that this freedom comes at a cost. She's starting to question whether her restlessness is a strength or a weakness, and whether she's truly living the life she wants or just running from her fears. She's torn between her desire for connection and her fear of commitment, unsure which path to choose.\",\n",
       "  'aspirations': \"Rory dreams of creating a podcast that truly makes a difference, using her platform to amplify marginalized voices and spark meaningful conversations. She's also begun to think about starting her own production company, using her skills to tell stories that need to be told. But she's uncertain about her own voice and vision, and whether she's truly ready to take the leap.\",\n",
       "  'dialogue': \"On air: 'We need to talk about the elephant in the room - the one we're all too afraid to mention.' In private: 'I'm just trying to find my way, you know? I'm not sure what I'm doing or where I'm going.' To her editor: 'I'm not sure if I'm a journalist or just a storyteller - or if it even matters.' In her journal: 'I'm tired of being a ghost, a shadow of myself. I want to be seen, to be heard.'\"}]"
      ]
     },
     "execution_count": 13,
     "metadata": {},
     "output_type": "execute_result"
    }
   ],
   "source": [
    "generate_personas(4)"
   ]
  },
  {
   "cell_type": "code",
   "execution_count": null,
   "id": "84ee1a73-d770-4c9f-ba89-ac952ea6b54c",
   "metadata": {},
   "outputs": [],
   "source": []
  }
 ],
 "metadata": {
  "kernelspec": {
   "display_name": "Python 3 (ipykernel)",
   "language": "python",
   "name": "python3"
  },
  "language_info": {
   "codemirror_mode": {
    "name": "ipython",
    "version": 3
   },
   "file_extension": ".py",
   "mimetype": "text/x-python",
   "name": "python",
   "nbconvert_exporter": "python",
   "pygments_lexer": "ipython3",
   "version": "3.11.10"
  }
 },
 "nbformat": 4,
 "nbformat_minor": 5
}
