{
 "cells": [
  {
   "cell_type": "code",
   "execution_count": 3,
   "id": "fbcf6e57-1c59-44c3-8710-a3fa927b4046",
   "metadata": {},
   "outputs": [],
   "source": [
    "from datasets import load_dataset, Dataset\n",
    "from jinja2 import Template\n",
    "from transformers import AutoTokenizer\n",
    "from vllm import LLM, SamplingParams\n",
    "\n",
    "import json"
   ]
  },
  {
   "cell_type": "code",
   "execution_count": 4,
   "id": "0107fb4c-5a46-4dbb-8774-209b71168555",
   "metadata": {},
   "outputs": [],
   "source": [
    "NUM_TOPICS = 1024 * 10\n",
    "NUM_GPUS = 4\n",
    "BATCH_SIZE = 256"
   ]
  },
  {
   "cell_type": "code",
   "execution_count": 19,
   "id": "f93eff41-af40-46e0-add7-2d24700eb85b",
   "metadata": {},
   "outputs": [],
   "source": [
    "def get_prefix(text):\n",
    "    first_50_words = text.split(\" \")[:50]\n",
    "    return {\"prefix\": \" \".join(first_50_words)}"
   ]
  },
  {
   "cell_type": "code",
   "execution_count": 5,
   "id": "a2fdeca6-d6b4-4d2f-a438-6394da58945d",
   "metadata": {},
   "outputs": [
    {
     "data": {
      "application/vnd.jupyter.widget-view+json": {
       "model_id": "7a8d05dbec814e86b27e42193ce6f2e8",
       "version_major": 2,
       "version_minor": 0
      },
      "text/plain": [
       "Resolving data files:   0%|          | 0/41 [00:00<?, ?it/s]"
      ]
     },
     "metadata": {},
     "output_type": "display_data"
    }
   ],
   "source": [
    "ds = load_dataset('wikimedia/wikipedia', name='20231101.en', split='train', streaming=True)"
   ]
  },
  {
   "cell_type": "code",
   "execution_count": 24,
   "id": "6d937ae6-5263-4d98-893e-4a000dc4fd8a",
   "metadata": {},
   "outputs": [],
   "source": [
    "ds_w_prefix = ds.shuffle(seed=1998, buffer_size=1000_000).take(NUM_TOPICS).map(get_prefix, input_columns=['text'])\n",
    "ds = Dataset.from_list(list(ds_w_prefix))"
   ]
  },
  {
   "cell_type": "code",
   "execution_count": 13,
   "id": "0a9d9a50-7876-49d5-8f18-27558e4584c4",
   "metadata": {},
   "outputs": [],
   "source": [
    "with open(\"prefix_conditioned.jinja2\") as f:\n",
    "    template_str = f.read()"
   ]
  },
  {
   "cell_type": "code",
   "execution_count": 20,
   "id": "3379682b-e945-48ce-bfea-b689076cb0b2",
   "metadata": {},
   "outputs": [],
   "source": [
    "with open(\"topic_content_shots.json\") as f:\n",
    "    content_json = json.load(f)\n",
    "\n",
    "for obj in content_json:\n",
    "    obj['prefix'] = get_prefix(obj['content'])['prefix']"
   ]
  },
  {
   "cell_type": "code",
   "execution_count": 21,
   "id": "79c11090-d732-4015-9040-644c7ff0f0fc",
   "metadata": {},
   "outputs": [],
   "source": [
    "template = Template(template_str)"
   ]
  },
  {
   "cell_type": "code",
   "execution_count": 22,
   "id": "d8196360-e59b-4ce2-bbcd-c012f0ae1405",
   "metadata": {},
   "outputs": [],
   "source": [
    "system_prompt = template.render(contents=content_json)"
   ]
  },
  {
   "cell_type": "code",
   "execution_count": 23,
   "id": "8d3cb5f4-7420-473f-9cfc-a0aa249c12f2",
   "metadata": {},
   "outputs": [
    {
     "name": "stdout",
     "output_type": "stream",
     "text": [
      "# Instructions\n",
      "\n",
      "Imagine you're an expert on the topic given by the user. Your goal is to write an article explain the topic in detail.\n",
      "\n",
      "# Output Instructions\n",
      "\n",
      "Respond with the content in plain text, with no structure.\n",
      "\n",
      "# Examples\n",
      "\n",
      "Topic:\n",
      "Gordon Ramsay's early career\n",
      "\n",
      "Prefix:\n",
      "Gordon James Ramsay was born in Johnstone, Scotland, on 8 November 1966, the son of Helen (née Cosgrove), a nurse, and Gordon James Sr., who worked as a swimming pool manager, welder, and shopkeeper. He has an older sister, a younger brother, and a younger sister. When he was nine\n",
      "\n",
      "Content:\n",
      "Gordon James Ramsay was born in Johnstone, Scotland, on 8 November 1966, the son of Helen (née Cosgrove), a nurse, and Gordon James Sr., who worked as a swimming pool manager, welder, and shopkeeper. He has an older sister, a younger brother, and a younger sister. When he was nine years old, he moved with his family to England and grew up in the Bishopton area of Stratford-upon-Avon. He has described his early life as 'hopelessly itinerant' and said his family moved constantly owing to the aspirations and failures of his father, who was an occasionally violent alcoholic; Ramsay described him as a 'hard-drinking womaniser'. In his autobiography, he revealed that his father abused and neglected the children and his mother. He worked as a pot washer in a local Indian restaurant where his sister was a waitress. He had hoped to become a footballer and was first chosen to play under-14 football at the age of 12, but his early footballing career was marked by injuries; after a serious knee injury, he was forced to give it up. At the age of 16, he moved out of the family home and into an apartment in Banbury.\n",
      "Ramsay's interest in cooking began in his teenage years; rather than be known as 'the football player with the gammy knee', he decided to pay more serious attention to his culinary education at age 19. Ramsay enrolled at North Oxfordshire Technical College, sponsored by the Rotarians, to study hotel management. He described his decision to enter catering college as 'a complete accident'.\n",
      "In the mid-1980s, Ramsay worked as a commis chef at the Wroxton House Hotel. He ran the kitchen and 60-seat dining room at the Wickham Arms until he quit after having sex with the owner's wife. Ramsay then moved to London, where he worked in a series of restaurants until being inspired to work for Marco Pierre White at Harveys.\n",
      "After working at Harveys for two years and ten months, Ramsay, tired of 'the rages and the bullying and violence', decided that the way to further advance his career was to study French cuisine. White discouraged Ramsay from taking a job in Paris, instead encouraging him to work for Albert Roux at Le Gavroche in Mayfair. Ramsay decided to take his advice, and there, Ramsay met Jean-Claude Breton, who later became his maître d'hôtel at Restaurant Gordon Ramsay. After Ramsay worked at Le Gavroche for a year, Roux invited him to work with him at Hotel Diva, a ski resort in the French Alps, as his number two. From there, a 23-year-old Ramsay moved to Paris to work with Guy Savoy and Joël Robuchon, both Michelin-starred chefs. He continued his training in France for three years, before giving in to the physical and mental stress of the kitchens and taking a year to work as a personal chef on the private yacht Idlewild, based in Bermuda. The role on the boat saw him travel to Sicily and Sardinia, Italy, and learn about Italian cuisine.\n",
      "\n",
      "Topic:\n",
      "The Coriolis Force\n",
      "\n",
      "Prefix:\n",
      "I am often asked by students whether their toilet bowl will flush clockwise or counterclockwise in the southern hemisphere, or whether it will flush straight down in Ecuador. This would, of course, be important information if you were ever kidnapped and blindfolded and dropped off in a strange land. If\n",
      "\n",
      "Content:\n",
      "I am often asked by students whether their toilet bowl will flush clockwise or counterclockwise in the southern hemisphere, or whether it will flush straight down in Ecuador. This would, of course, be important information if you were ever kidnapped and blindfolded and dropped off in a strange land. If we assume a commode of conventional size, then this “toilet bowl test” will fail because the answer lies in the manufacturer’s design. But if your northern hemisphere toilet bowl were a few hundred miles in diameter then the Coriolis force of the rotating Earth would easily overcome the random water currents, and force the bowl to empty its contents in a counter clockwise swirl. If you have southern hemisphere friends with an equally large toilet, then theirs would indeed empty in the opposite (clockwise) direction.\n",
      "The circulation within oversized flush toilets is a natural consequence of motion on the surface of an object that rotates. We owe our detailed understanding of the effect to the work of Gaspard Gustave de Coriolis who, in 1831, presented details of the laws of mechanics in a rotating reference frame to the Academie des Sciences in Paris. Earth’s surface provides an excellent place to demonstrate why the origin of the Coriolis force is relatively simple. Our planet rotates on its axis approximately once every 24 hours. In that 24 hour period, objects on Earth’s equator travel a circle with a circumference of nearly 25,000 miles, which corresponds to a speed of a more than 1,000 miles per hour. By 41° north, the latitude of New York City and the American Museum of Natural History, the circumference traveled is only about 19,000 miles. The west-to-east speed is now approximately 800 miles per hour. As you continue to increase in Earth latitude (north or south of the equator) your west-to-east speed decreases until it hits exactly zero miles per hour at the poles. (For this reason, most satellites are launched as close to the equator as possible, which enables them to get a good “running start” in their eastward orbits.\n",
      "Imagine a puffy cloud in the northern hemisphere and a meteorological low pressure system directly to its north. The cloud will tend to move toward the low. But during the journey its greater eastward speed will enable the cloud to overtake the low, which is itself in motion, and end up east of its destination. Another puffy cloud that is north of the low will also tend to move toward the low, but will naturally lag behind and end up west of its destination. To an unsuspecting person on Earth’s surface, these curved north-south paths would appear to be the effects of a mysterious force (the Coriolis force) yet no true force was ever at work.\n",
      "When many puffy clouds approach a low pressure system from all directions you get a merry-go-round of counter-clockwise motion, which is better known as a cyclone. In extreme cases you get a monstrous hurricane with wind speeds upwards of a hundred miles per hour. For the southern hemisphere the same arguments will create a cyclone that spirals clockwise. The military normally knows all about the Coriolis force and thus introduces the appropriate correction to all missile trajectories. But in 1914, from the annals of embarrassing military moments, there was a World War I naval battle between the English and the Germans near the Falklands Islands off Argentina (52° south latitude). The English battle cruisers Invincible and Inflexible engaged the German war ships Gneisenau and Scharnhorst at a range of nearly ten miles. Among other gunnery problems encountered, the English forgot to reverse the direction of their Coriolis correction. Their tables had been calculated for northern hemisphere projectiles, so they missed their targets by even more than if no correction had been applied. They ultimately won the battle against the Germans with about sixty direct hits, but it was not before over a thousand missile shells had fallen in the ocean.\n",
      "In high school I knew all about the Coriolis force, but I never had the opportunity to test it on something as large as a swimming pool until the summer after my junior year when I worked as a lifeguard. At the mid-summer cleaning, I opened the drain valve to the pool and carefully observed the circulation. The water funneled in the “wrong” direction—clockwise. The last I had checked, I was life-guarding in Earth’s northern hemisphere so I was tempted to declare Coriolis forces to be a hoax. But a fast “back of the envelope” calculation verified that the difference in Coriolis velocity across the pool was a mere ½ inch per minute. This is slow. The water currents from somebody just climbing out of the pool, or even a gentle breeze across the water’s surface would easily swamp the effect and I would end up with clockwise one half the time and counterclockwise the other half of the time. A proper experiment to demonstrate the insignificance of the Coriolis forces would require that I empty and refill the pool dozens of times. But each try would dump 15,000 cubic feet of water and diminish my job security. So I didn’t.\n",
      "The air circulation near a high pressure systems, which are inelegantly known as anticyclones, is a reverse picture of our cyclone. On Earth, these high pressure systems are the astronomer’s best friend because they are typically devoid of clouds. The surrounding air still circulates, but it does so without the benefit of clouds as tracers of the air flow. The circulation around low and high pressure systems, known as geostrophic winds, presents us with the paradox that Coriolis forces tend to move air along lines of constant pressure (isobars) rather than across them.\n",
      "Now imagine, if you will, a place that is not only fourteen hundred times larger than Earth, but has an equatorial speed that is about twenty-five times as fast, and has a deep, thick, colorful atmosphere. That place is the planet Jupiter, where a day lasts just 9 hours and 56 minutes. It is a cosmic garden of atmospheric dynamics where all rotationally induced cloud and weather patterns are correspondingly enhanced. In the most striking display of the Coriolis force in the entire solar system, Jupiter lays claim to the largest, most energetic, and longest-lived storm ever observed. It is an anticyclone that looks like a great red spot in Jupiter’s upper atmosphere. We call it Jupiter’s Great Red Spot. Discovered in the mid 1660s by the English physicist Robert Hooke and separately by the Italian astronomer Giovanni Cassini, the feature has persisted for over 300 years. It was not until the twentieth century when the Dutch-born, American astronomer Gerard Kuiper was the first to supply the modern interpretation of the Spot as a raging storm.\n",
      "\n",
      "Topic:\n",
      "Passing of Rep. John Lewis\n",
      "\n",
      "Prefix:\n",
      "America is a constant work in progress. What gives each new generation purpose is to take up the unfinished work of the last and carry it further — to speak out for what’s right, to challenge an unjust status quo, and to imagine a better world.\n",
      "John Lewis — one of\n",
      "\n",
      "Content:\n",
      "America is a constant work in progress. What gives each new generation purpose is to take up the unfinished work of the last and carry it further — to speak out for what’s right, to challenge an unjust status quo, and to imagine a better world.\n",
      "John Lewis — one of the original Freedom Riders, chairman of the Student Nonviolent Coordinating Committee, the youngest speaker at the March on Washington, leader of the march from Selma to Montgomery, Member of Congress representing the people of Georgia for 33 years — not only assumed that responsibility, he made it his life’s work. He loved this country so much that he risked his life and his blood so that it might live up to its promise. And through the decades, he not only gave all of himself to the cause of freedom and justice, but inspired generations that followed to try to live up to his example.\n",
      "Considering his enormous impact on the history of this country, what always struck those who met John was his gentleness and humility. Born into modest means in the heart of the Jim Crow South, he understood that he was just one of a long line of heroes in the struggle for racial justice. Early on, he embraced the principles of nonviolent resistance and civil disobedience as the means to bring about real change in this country, understanding that such tactics had the power not only to change laws, but to change hearts and minds as well.\n",
      "In so many ways, John’s life was exceptional. But he never believed that what he did was more than any citizen of this country might do. He believed that in all of us, there exists the capacity for great courage, a longing to do what’s right, a willingness to love all people, and to extend to them their God-given rights to dignity and respect. And it’s because he saw the best in all of us that he will continue, even in his passing, to serve as a beacon in that long journey towards a more perfect union.\n",
      "I first met John when I was in law school, and I told him then that he was one of my heroes. Years later, when I was elected a U.S. Senator, I told him that I stood on his shoulders. When I was elected President of the United States, I hugged him on the inauguration stand before I was sworn in and told him I was only there because of the sacrifices he made. And through all those years, he never stopped providing wisdom and encouragement to me and Michelle and our family. We will miss him dearly.\n",
      "It’s fitting that the last time John and I shared a public forum was at a virtual town hall with a gathering of young activists who were helping to lead this summer’s demonstrations in the wake of George Floyd’s death. Afterwards, I spoke to him privately, and he could not have been prouder of their efforts — of a new generation standing up for freedom and equality, a new generation intent on voting and protecting the right to vote, a new generation running for political office. I told him that all those young people — of every race, from every background and gender and sexual orientation — they were his children. They had learned from his example, even if they didn’t know it. They had understood through him what American citizenship requires, even if they had heard of his courage only through history books.\n",
      "Not many of us get to live to see our own legacy play out in such a meaningful, remarkable way. John Lewis did. And thanks to him, we now all have our marching orders — to keep believing in the possibility of remaking this country we love until it lives up to its full promise.\n",
      "\n"
     ]
    }
   ],
   "source": [
    "print(system_prompt)"
   ]
  },
  {
   "cell_type": "code",
   "execution_count": 27,
   "id": "5078a1c4-c45f-4ff8-9c80-a0e6b96a5570",
   "metadata": {},
   "outputs": [],
   "source": [
    "model_id = \"meta-llama/Llama-3.3-70B-Instruct\""
   ]
  },
  {
   "cell_type": "code",
   "execution_count": 28,
   "id": "e8a56b4b-5c8c-4f2f-ac1f-9c68337d7154",
   "metadata": {},
   "outputs": [
    {
     "name": "stdout",
     "output_type": "stream",
     "text": [
      "INFO 12-27 05:07:33 config.py:478] This model supports multiple tasks: {'embed', 'score', 'classify', 'generate', 'reward'}. Defaulting to 'generate'.\n",
      "INFO 12-27 05:07:33 config.py:1216] Defaulting to use mp for distributed inference\n",
      "INFO 12-27 05:07:33 llm_engine.py:249] Initializing an LLM engine (v0.6.5) with config: model='meta-llama/Llama-3.3-70B-Instruct', speculative_config=None, tokenizer='meta-llama/Llama-3.3-70B-Instruct', skip_tokenizer_init=False, tokenizer_mode=auto, revision=None, override_neuron_config=None, tokenizer_revision=None, trust_remote_code=False, dtype=torch.bfloat16, max_seq_len=4096, download_dir=None, load_format=auto, tensor_parallel_size=4, pipeline_parallel_size=1, disable_custom_all_reduce=False, quantization=None, enforce_eager=False, kv_cache_dtype=auto, quantization_param_path=None, device_config=cuda, decoding_config=DecodingConfig(guided_decoding_backend='xgrammar'), observability_config=ObservabilityConfig(otlp_traces_endpoint=None, collect_model_forward_time=False, collect_model_execute_time=False), seed=0, served_model_name=meta-llama/Llama-3.3-70B-Instruct, num_scheduler_steps=1, multi_step_stream_outputs=True, enable_prefix_caching=False, chunked_prefill_enabled=False, use_async_output_proc=True, mm_cache_preprocessor=False, mm_processor_kwargs=None, pooler_config=None, compilation_config={\"splitting_ops\":[\"vllm.unified_attention\",\"vllm.unified_attention_with_output\"],\"candidate_compile_sizes\":[],\"compile_sizes\":[],\"capture_sizes\":[256,248,240,232,224,216,208,200,192,184,176,168,160,152,144,136,128,120,112,104,96,88,80,72,64,56,48,40,32,24,16,8,4,2,1],\"max_capture_size\":256}, use_cached_outputs=False, \n",
      "WARNING 12-27 05:07:33 multiproc_worker_utils.py:312] Reducing Torch parallelism from 64 threads to 1 to avoid unnecessary CPU contention. Set OMP_NUM_THREADS in the external environment to tune this value as needed.\n",
      "INFO 12-27 05:07:34 custom_cache_manager.py:17] Setting Triton cache manager to: vllm.triton_utils.custom_cache_manager:CustomCacheManager\n",
      "\u001b[1;36m(VllmWorkerProcess pid=66141)\u001b[0;0m INFO 12-27 05:07:34 selector.py:120] Using Flash Attention backend.\n",
      "\u001b[1;36m(VllmWorkerProcess pid=66141)\u001b[0;0m INFO 12-27 05:07:34 multiproc_worker_utils.py:222] Worker ready; awaiting tasks\n",
      "INFO 12-27 05:07:34 selector.py:120] Using Flash Attention backend.\n",
      "\u001b[1;36m(VllmWorkerProcess pid=66142)\u001b[0;0m INFO 12-27 05:07:34 selector.py:120] Using Flash Attention backend.\n",
      "\u001b[1;36m(VllmWorkerProcess pid=66142)\u001b[0;0m INFO 12-27 05:07:34 multiproc_worker_utils.py:222] Worker ready; awaiting tasks\n",
      "\u001b[1;36m(VllmWorkerProcess pid=66143)\u001b[0;0m INFO 12-27 05:07:34 selector.py:120] Using Flash Attention backend.\n",
      "\u001b[1;36m(VllmWorkerProcess pid=66143)\u001b[0;0m INFO 12-27 05:07:34 multiproc_worker_utils.py:222] Worker ready; awaiting tasks\n",
      "INFO 12-27 05:07:37 utils.py:922] Found nccl from library libnccl.so.2\n",
      "\u001b[1;36m(VllmWorkerProcess pid=66141)\u001b[0;0m \u001b[1;36m(VllmWorkerProcess pid=66142)\u001b[0;0m INFO 12-27 05:07:37 pynccl.py:69] vLLM is using nccl==2.21.5\n",
      "INFO 12-27 05:07:37 utils.py:922] Found nccl from library libnccl.so.2\n",
      "\u001b[1;36m(VllmWorkerProcess pid=66143)\u001b[0;0m INFO 12-27 05:07:37 utils.py:922] Found nccl from library libnccl.so.2\n",
      "INFO 12-27 05:07:37 utils.py:922] Found nccl from library libnccl.so.2\n",
      "\u001b[1;36m(VllmWorkerProcess pid=66141)\u001b[0;0m \u001b[1;36m(VllmWorkerProcess pid=66142)\u001b[0;0m INFO 12-27 05:07:37 pynccl.py:69] vLLM is using nccl==2.21.5\n",
      "INFO 12-27 05:07:37 pynccl.py:69] vLLM is using nccl==2.21.5\n",
      "\u001b[1;36m(VllmWorkerProcess pid=66143)\u001b[0;0m INFO 12-27 05:07:37 pynccl.py:69] vLLM is using nccl==2.21.5\n",
      "INFO 12-27 05:07:39 custom_all_reduce_utils.py:242] reading GPU P2P access cache from /root/.cache/vllm/gpu_p2p_access_cache_for_0,1,2,3.json\n",
      "\u001b[1;36m(VllmWorkerProcess pid=66142)\u001b[0;0m \u001b[1;36m(VllmWorkerProcess pid=66143)\u001b[0;0m \u001b[1;36m(VllmWorkerProcess pid=66141)\u001b[0;0m INFO 12-27 05:07:39 custom_all_reduce_utils.py:242] reading GPU P2P access cache from /root/.cache/vllm/gpu_p2p_access_cache_for_0,1,2,3.json\n",
      "INFO 12-27 05:07:39 custom_all_reduce_utils.py:242] reading GPU P2P access cache from /root/.cache/vllm/gpu_p2p_access_cache_for_0,1,2,3.json\n",
      "INFO 12-27 05:07:39 custom_all_reduce_utils.py:242] reading GPU P2P access cache from /root/.cache/vllm/gpu_p2p_access_cache_for_0,1,2,3.json\n",
      "INFO 12-27 05:07:39 shm_broadcast.py:255] vLLM message queue communication handle: Handle(connect_ip='127.0.0.1', local_reader_ranks=[1, 2, 3], buffer_handle=(3, 4194304, 6, 'psm_ca6446af'), local_subscribe_port=41029, remote_subscribe_port=None)\n",
      "INFO 12-27 05:07:39 model_runner.py:1092] Starting to load model meta-llama/Llama-3.3-70B-Instruct...\n",
      "\u001b[1;36m(VllmWorkerProcess pid=66141)\u001b[0;0m \u001b[1;36m(VllmWorkerProcess pid=66142)\u001b[0;0m \u001b[1;36m(VllmWorkerProcess pid=66143)\u001b[0;0m INFO 12-27 05:07:39 model_runner.py:1092] Starting to load model meta-llama/Llama-3.3-70B-Instruct...\n",
      "INFO 12-27 05:07:39 model_runner.py:1092] Starting to load model meta-llama/Llama-3.3-70B-Instruct...\n",
      "INFO 12-27 05:07:39 model_runner.py:1092] Starting to load model meta-llama/Llama-3.3-70B-Instruct...\n",
      "INFO 12-27 05:07:39 weight_utils.py:243] Using model weights format ['*.safetensors']\n",
      "\u001b[1;36m(VllmWorkerProcess pid=66143)\u001b[0;0m INFO 12-27 05:07:39 weight_utils.py:243] Using model weights format ['*.safetensors']\n",
      "\u001b[1;36m(VllmWorkerProcess pid=66142)\u001b[0;0m INFO 12-27 05:07:39 weight_utils.py:243] Using model weights format ['*.safetensors']\n",
      "\u001b[1;36m(VllmWorkerProcess pid=66141)\u001b[0;0m INFO 12-27 05:07:39 weight_utils.py:243] Using model weights format ['*.safetensors']\n"
     ]
    },
    {
     "data": {
      "application/vnd.jupyter.widget-view+json": {
       "model_id": "99171e10f83a4e6ea917128e8309f754",
       "version_major": 2,
       "version_minor": 0
      },
      "text/plain": [
       "Loading safetensors checkpoint shards:   0% Completed | 0/30 [00:00<?, ?it/s]\n"
      ]
     },
     "metadata": {},
     "output_type": "display_data"
    },
    {
     "name": "stdout",
     "output_type": "stream",
     "text": [
      "\u001b[1;36m(VllmWorkerProcess pid=66143)\u001b[0;0m INFO 12-27 05:07:49 model_runner.py:1097] Loading model weights took 32.8892 GB\n",
      "INFO 12-27 05:07:50 model_runner.py:1097] Loading model weights took 32.8892 GB\n",
      "\u001b[1;36m(VllmWorkerProcess pid=66141)\u001b[0;0m INFO 12-27 05:07:50 model_runner.py:1097] Loading model weights took 32.8892 GB\n",
      "\u001b[1;36m(VllmWorkerProcess pid=66142)\u001b[0;0m INFO 12-27 05:07:50 model_runner.py:1097] Loading model weights took 32.8892 GB\n",
      "\u001b[1;36m(VllmWorkerProcess pid=66143)\u001b[0;0m INFO 12-27 05:07:53 worker.py:241] Memory profiling takes 2.91 seconds\n",
      "\u001b[1;36m(VllmWorkerProcess pid=66143)\u001b[0;0m INFO 12-27 05:07:53 worker.py:241] the current vLLM instance can use total_gpu_memory (139.72GiB) x gpu_memory_utilization (0.98) = 136.92GiB\n",
      "\u001b[1;36m(VllmWorkerProcess pid=66143)\u001b[0;0m INFO 12-27 05:07:53 worker.py:241] model weights take 32.89GiB; non_torch_memory takes 3.70GiB; PyTorch activation peak memory takes 0.40GiB; the rest of the memory reserved for KV Cache is 99.93GiB.\n",
      "\u001b[1;36m(VllmWorkerProcess pid=66141)\u001b[0;0m INFO 12-27 05:07:53 worker.py:241] Memory profiling takes 2.93 seconds\n",
      "\u001b[1;36m(VllmWorkerProcess pid=66141)\u001b[0;0m INFO 12-27 05:07:53 worker.py:241] the current vLLM instance can use total_gpu_memory (139.72GiB) x gpu_memory_utilization (0.98) = 136.92GiB\n",
      "\u001b[1;36m(VllmWorkerProcess pid=66141)\u001b[0;0m \u001b[1;36m(VllmWorkerProcess pid=66142)\u001b[0;0m INFO 12-27 05:07:53 worker.py:241] model weights take 32.89GiB; non_torch_memory takes 4.17GiB; PyTorch activation peak memory takes 0.40GiB; the rest of the memory reserved for KV Cache is 99.46GiB.\n",
      "INFO 12-27 05:07:53 worker.py:241] Memory profiling takes 2.93 seconds\n",
      "\u001b[1;36m(VllmWorkerProcess pid=66142)\u001b[0;0m INFO 12-27 05:07:53 worker.py:241] the current vLLM instance can use total_gpu_memory (139.72GiB) x gpu_memory_utilization (0.98) = 136.92GiB\n",
      "\u001b[1;36m(VllmWorkerProcess pid=66142)\u001b[0;0m INFO 12-27 05:07:53 worker.py:241] model weights take 32.89GiB; non_torch_memory takes 4.17GiB; PyTorch activation peak memory takes 0.40GiB; the rest of the memory reserved for KV Cache is 99.46GiB.\n",
      "INFO 12-27 05:07:53 worker.py:241] Memory profiling takes 2.97 seconds\n",
      "INFO 12-27 05:07:53 worker.py:241] the current vLLM instance can use total_gpu_memory (139.72GiB) x gpu_memory_utilization (0.98) = 136.92GiB\n",
      "INFO 12-27 05:07:53 worker.py:241] model weights take 32.89GiB; non_torch_memory takes 4.96GiB; PyTorch activation peak memory takes 1.26GiB; the rest of the memory reserved for KV Cache is 97.82GiB.\n",
      "INFO 12-27 05:07:53 distributed_gpu_executor.py:57] # GPU blocks: 80134, # CPU blocks: 3276\n",
      "INFO 12-27 05:07:53 distributed_gpu_executor.py:61] Maximum concurrency for 4096 tokens per request: 313.02x\n",
      "\u001b[1;36m(VllmWorkerProcess pid=66143)\u001b[0;0m INFO 12-27 05:07:55 model_runner.py:1413] Capturing cudagraphs for decoding. This may lead to unexpected consequences if the model is not static. To run the model in eager mode, set 'enforce_eager=True' or use '--enforce-eager' in the CLI.\n",
      "\u001b[1;36m(VllmWorkerProcess pid=66143)\u001b[0;0m INFO 12-27 05:07:55 model_runner.py:1417] If out-of-memory error occurs during cudagraph capture, consider decreasing `gpu_memory_utilization` or switching to eager mode. You can also reduce the `max_num_seqs` as needed to decrease memory usage.\n",
      "INFO 12-27 05:07:55 model_runner.py:1413] Capturing cudagraphs for decoding. This may lead to unexpected consequences if the model is not static. To run the model in eager mode, set 'enforce_eager=True' or use '--enforce-eager' in the CLI.\n",
      "\u001b[1;36m(VllmWorkerProcess pid=66142)\u001b[0;0m INFO 12-27 05:07:55 model_runner.py:1417] If out-of-memory error occurs during cudagraph capture, consider decreasing `gpu_memory_utilization` or switching to eager mode. You can also reduce the `max_num_seqs` as needed to decrease memory usage.\n",
      "\u001b[1;36m(VllmWorkerProcess pid=66141)\u001b[0;0m INFO 12-27 05:07:55 model_runner.py:1413] Capturing cudagraphs for decoding. This may lead to unexpected consequences if the model is not static. To run the model in eager mode, set 'enforce_eager=True' or use '--enforce-eager' in the CLI.\n",
      "INFO 12-27 05:07:55 model_runner.py:1413] Capturing cudagraphs for decoding. This may lead to unexpected consequences if the model is not static. To run the model in eager mode, set 'enforce_eager=True' or use '--enforce-eager' in the CLI.\n",
      "\u001b[1;36m(VllmWorkerProcess pid=66141)\u001b[0;0m \u001b[1;36m(VllmWorkerProcess pid=66142)\u001b[0;0m INFO 12-27 05:07:55 model_runner.py:1417] If out-of-memory error occurs during cudagraph capture, consider decreasing `gpu_memory_utilization` or switching to eager mode. You can also reduce the `max_num_seqs` as needed to decrease memory usage.\n",
      "INFO 12-27 05:07:55 model_runner.py:1417] If out-of-memory error occurs during cudagraph capture, consider decreasing `gpu_memory_utilization` or switching to eager mode. You can also reduce the `max_num_seqs` as needed to decrease memory usage.\n",
      "\u001b[1;36m(VllmWorkerProcess pid=66143)\u001b[0;0m INFO 12-27 05:08:10 custom_all_reduce.py:224] Registering 5635 cuda graph addresses\n",
      "\u001b[1;36m(VllmWorkerProcess pid=66141)\u001b[0;0m \u001b[1;36m(VllmWorkerProcess pid=66142)\u001b[0;0m INFO 12-27 05:08:11 custom_all_reduce.py:224] Registering 5635 cuda graph addresses\n",
      "INFO 12-27 05:08:11 custom_all_reduce.py:224] Registering 5635 cuda graph addresses\n",
      "INFO 12-27 05:08:11 custom_all_reduce.py:224] Registering 5635 cuda graph addresses\n",
      "\u001b[1;36m(VllmWorkerProcess pid=66142)\u001b[0;0m \u001b[1;36m(VllmWorkerProcess pid=66141)\u001b[0;0m INFO 12-27 05:08:11 model_runner.py:1527] Graph capturing finished in 16 secs, took 0.45 GiB\n",
      "INFO 12-27 05:08:11 model_runner.py:1527] Graph capturing finished in 16 secs, took 0.45 GiB\n",
      "INFO 12-27 05:08:11 model_runner.py:1527] Graph capturing finished in 16 secs, took 0.45 GiB\n",
      "\u001b[1;36m(VllmWorkerProcess pid=66143)\u001b[0;0m INFO 12-27 05:08:11 model_runner.py:1527] Graph capturing finished in 16 secs, took 0.45 GiB\n",
      "INFO 12-27 05:08:11 llm_engine.py:446] init engine (profile, create kv cache, warmup model) took 21.48 seconds\n"
     ]
    }
   ],
   "source": [
    "llm = LLM(model=model_id, max_model_len=4096, tensor_parallel_size=NUM_GPUS, gpu_memory_utilization=0.98)"
   ]
  },
  {
   "cell_type": "code",
   "execution_count": 33,
   "id": "be81ccc6-6107-4b54-bf44-5749ea2d684c",
   "metadata": {},
   "outputs": [],
   "source": [
    "def generate_content(topics, texts):\n",
    "    prefixes = [get_prefix(text)['prefix'] for text in texts]\n",
    "    messages = [[{\"role\": \"system\", \"content\": system_prompt},\n",
    "                {\"role\": \"user\", \"content\": \"Topic:\\n\" + topic + \"\\n\\nPrefix:\\n\" + prefix + \"\\n\\nContent:\"}]\n",
    "                for topic, prefix in zip(topics, prefixes)]\n",
    "    outputs = llm.chat(messages, SamplingParams(temperature=0.25, top_p=0.9, max_tokens=3072))\n",
    "\n",
    "    return {\"synthetic_content\": [output.outputs[0].text.strip() for output in outputs]}"
   ]
  },
  {
   "cell_type": "code",
   "execution_count": null,
   "id": "93f11b25-3337-43bd-9441-83034a216d3d",
   "metadata": {},
   "outputs": [
    {
     "data": {
      "application/vnd.jupyter.widget-view+json": {
       "model_id": "62fdf0164fbc4eaf9ab8f9771e61f7f2",
       "version_major": 2,
       "version_minor": 0
      },
      "text/plain": [
       "Map:   0%|          | 0/10240 [00:00<?, ? examples/s]"
      ]
     },
     "metadata": {},
     "output_type": "display_data"
    },
    {
     "name": "stderr",
     "output_type": "stream",
     "text": [
      "\n",
      "\u001b[Acessed prompts:   0% 0/10240 [00:00<?, ?it/s, est. speed input: 0.00 toks/s, output: 0.00 toks/s]"
     ]
    }
   ],
   "source": [
    "syn_ds = ds.map(generate_content, batched=True, batch_size=NUM_TOPICS, input_columns=[\"title\", \"text\"])"
   ]
  },
  {
   "cell_type": "code",
   "execution_count": null,
   "id": "d1eb5065-f94d-42a7-a143-cc547fd24895",
   "metadata": {},
   "outputs": [],
   "source": [
    "syn_ds.push_to_hub('amang1802/synthetic_data_prefix_conditioned_L3.3_70B')"
   ]
  },
  {
   "cell_type": "code",
   "execution_count": null,
   "id": "6daeea6a-a626-46c7-b0fc-5f478aecabef",
   "metadata": {},
   "outputs": [],
   "source": []
  }
 ],
 "metadata": {
  "kernelspec": {
   "display_name": "Python 3 (ipykernel)",
   "language": "python",
   "name": "python3"
  },
  "language_info": {
   "codemirror_mode": {
    "name": "ipython",
    "version": 3
   },
   "file_extension": ".py",
   "mimetype": "text/x-python",
   "name": "python",
   "nbconvert_exporter": "python",
   "pygments_lexer": "ipython3",
   "version": "3.10.12"
  }
 },
 "nbformat": 4,
 "nbformat_minor": 5
}
