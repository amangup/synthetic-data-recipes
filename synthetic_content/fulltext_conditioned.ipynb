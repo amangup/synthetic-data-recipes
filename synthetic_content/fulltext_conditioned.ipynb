{
 "cells": [
  {
   "cell_type": "code",
   "execution_count": 1,
   "id": "fbcf6e57-1c59-44c3-8710-a3fa927b4046",
   "metadata": {},
   "outputs": [],
   "source": [
    "from datasets import load_dataset, Dataset\n",
    "from jinja2 import Template\n",
    "from transformers import AutoTokenizer\n",
    "from vllm import LLM, SamplingParams\n",
    "\n",
    "import json"
   ]
  },
  {
   "cell_type": "code",
   "execution_count": 2,
   "id": "0107fb4c-5a46-4dbb-8774-209b71168555",
   "metadata": {},
   "outputs": [],
   "source": [
    "NUM_TOPICS = 1024\n",
    "NUM_GPUS = 4\n",
    "NUM_DUPS = 10"
   ]
  },
  {
   "cell_type": "code",
   "execution_count": 3,
   "id": "a2fdeca6-d6b4-4d2f-a438-6394da58945d",
   "metadata": {},
   "outputs": [
    {
     "data": {
      "application/vnd.jupyter.widget-view+json": {
       "model_id": "7a41d5bf08a748768f4782be1d92b24c",
       "version_major": 2,
       "version_minor": 0
      },
      "text/plain": [
       "Resolving data files:   0%|          | 0/41 [00:00<?, ?it/s]"
      ]
     },
     "metadata": {},
     "output_type": "display_data"
    }
   ],
   "source": [
    "ds = load_dataset('wikimedia/wikipedia', name='20231101.en', split='train', streaming=True)"
   ]
  },
  {
   "cell_type": "code",
   "execution_count": 4,
   "id": "0a9d9a50-7876-49d5-8f18-27558e4584c4",
   "metadata": {},
   "outputs": [],
   "source": [
    "with open(\"fulltext_conditioned.jinja2\") as f:\n",
    "    template_str = f.read()"
   ]
  },
  {
   "cell_type": "code",
   "execution_count": 5,
   "id": "3379682b-e945-48ce-bfea-b689076cb0b2",
   "metadata": {},
   "outputs": [],
   "source": [
    "with open(\"fulltext_content_shots.json\") as f:\n",
    "    content_json = json.load(f)"
   ]
  },
  {
   "cell_type": "code",
   "execution_count": 6,
   "id": "79c11090-d732-4015-9040-644c7ff0f0fc",
   "metadata": {},
   "outputs": [],
   "source": [
    "template = Template(template_str)"
   ]
  },
  {
   "cell_type": "code",
   "execution_count": 7,
   "id": "d8196360-e59b-4ce2-bbcd-c012f0ae1405",
   "metadata": {},
   "outputs": [],
   "source": [
    "system_prompt = template.render(contents=content_json)"
   ]
  },
  {
   "cell_type": "code",
   "execution_count": 8,
   "id": "8d3cb5f4-7420-473f-9cfc-a0aa249c12f2",
   "metadata": {},
   "outputs": [
    {
     "name": "stdout",
     "output_type": "stream",
     "text": [
      "# Instructions\n",
      "\n",
      "Imagine you're an expert on the topic given by the user. Your goal is to rewrite the original content in your own words, matching it's original length in number of words and preserving all the facts and concepts from the original. Do not summarize any detail, but dive deeper and explain every word and sentence from the original in as much detail as possible.\n",
      "\n",
      "# Output Instructions\n",
      "\n",
      "Respond with the content in plain text, with no structure.\n",
      "\n",
      "# Examples\n",
      "\n",
      "Topic:\n",
      "Jaguar Logo Rebrand\n",
      "\n",
      "Original Content:\n",
      "**Jaguar Logo Changes Are First Step in the Luxury Brand's Rebirth**\n",
      "\n",
      "The British automaker is repositioning itself as an ultra-luxury EV brand, and the new direction is accompanied by a fresh set of badges for future Jaguars.\n",
      "\n",
      "- Jaguar has debuted new logos and graphic designs, preparing to relaunch itself as an exclusive, high-priced luxury EV brand that competes in the league of Rolls-Royce and Bentley.\n",
      "- A new \"leaper\" emulates Jaguar hood ornaments of old but with a more angular appearance against a stylized \"strikethrough\" backdrop.\n",
      "- A new typeface combines uppercase and lowercase letters, as does a new circular badge featuring a \"J\" and an \"r.\"\n",
      "\n",
      "Jaguar is undergoing a pivotal metamorphosis. The British automaker has culled its lineup to a single model, the F-Pace SUV, which soldiers on for 2025. In the meantime, a new electric vehicle is in the works that will reposition the automaker as a high-end luxury EV brand, and, as its next move, Jaguar is relaunching with a set of new logos and a refocused design ethos.\n",
      "Jaguar debuted its new look during a media briefing at its headquarters in Gaydon, England, showing off the new emblems that will adorn its upcoming lineup of three high-priced EVs. The new badges are a departure from the past, adopting a trio of new design values: \"exuberant, modernist, and compelling.\" Jaguar says it is \"not afraid to polarize\" with its new approach, starting with the new series of emblems, which may prove controversial for the Jaguar faithful.\n",
      "\n",
      "**A Fresh Style**\n",
      "Jaguar's new look has four key facets: two logos, a typeface, a color palette, and a graphic code called \"strikethrough.\" The typeface—which Jaguar refers to as a \"device mark\"—looks crisp and modern, with the word \"Jaguar\" spelled out in a mix of lowercase and uppercase letters. The typeface is presented here in a gold hue on a white backdrop of horizontally oriented rectangles.\n",
      "That backdrop is one instance of the \"strikethrough,\" described as a graphic code for the brand and taking form as a series of horizontal lines within a rectangular border. Notably, the \"strikethrough\" also appears in the new \"leaper\" logo, an evolution of the jaguar mascot that historically sprung forward as the hood ornament atop classic Jaguar cars. The new \"leaper\" logo features a more angular interpretation of the pouncing cat.\n",
      "However, the logo depicting a jaguar's face—which has appeared in the grilles of Jaguar cars during the past two decades—appears to have departed, replaced by a new circular badge. The emblem draws on the new typeface with a \"J\" and a \"r\" situated in a circle and the two letters presented in brass and linked to the curved border. The stark gold-and-white contrast of the logos will be offset by a bold new color palette, which Jaguar says will build off the primary colors, red, blue, and yellow, again to embody the value of \"exuberance.\"\n",
      "**A New Breed of Cat**Jaguar hasn't specified how these logos will appear on its new cars, but we should have a better sense when the automaker unveils a \"design vision\" concept car during Miami Art Week on December 2. The concept will preview the first vehicle in Jaguar's revitalized lineup, which the automaker began testing on public roads last week, releasing a couple of teaser images of the electric four-door grand tourer in heavy camouflage.\n",
      "This as yet unnamed car will enter production by the end of 2026. Jaguar divulged a few enticing morsels at the media event about the electric platform that will underpin its new-age vehicles. Jaguar is targeting an EPA-rated range of up to 430 miles and the ability to add 200 miles of range in 15 minutes when hooked up to a Level 3 fast-charger. Jaguar also confirmed that its EVs will be compatible with Tesla's Supercharger network without needing an adapter, implying a NACS-style charging port.\n",
      "For now, however, Jaguar is focusing on design, claiming that styling is what will differentiate its EVs from the competition. The company describes the current crop of EVs as a homogeneous mass of high-riding, cab-forward, aerodynamic-focused blobs. Jaguar intends to counteract that with cars that are low and feature elongated proportions. While many EVs are certainly more podlike than their gas counterparts—we're looking at you, Mercedes—we can think of exceptions, like the Rolls-Royce Spectre, that may serve as indirect competition for Jaguar's new range.\n",
      "Still, the camouflaged prototype shows an imposing vehicle with an upright front end and a lengthy cabin that gracefully swoops rearward—proportions more in line with traditional gas-powered luxo-barges instead of the soap-bar shape seen on EVs like the Mercedes-Benz EQS. Interestingly, Jaguar chose not to start its rebirth with an SUV, which might prove more popular, believing the first vehicle isn't meant to drive volume but instead establish the brand's new, more exclusive position.\n",
      "\n",
      "**Rethinking the Brand Experience**To explain the move upmarket, Jaguar said that while it was proud of its products over the past couple of decades, the decision to pursue a mass-market premium strategy to compete with the likes of BMW and Mercedes led to cars that weren't distinct enough. Now it aims to make \"spectacular\" vehicles that will attract customers not just because they are electric but because they stand out.\n",
      "Jaguar argues that the vast majority of people don't buy cars because of the powertrain but that their decisions are emotional and based on design, brand, and experience. Jaguar, therefore, says it wants to elevate every aspect of the brand, from the purchasing process to the ownership experience. The higher prices—which Jaguar said will be roughly double the prices of its existing cars—will mean it only expects to retain 10 to 15 percent of its current customer base. Jaguar is targeting younger, wealthier, and more urban shoppers, described by the company as \"design-minded\" and \"cash rich, time poor.\"\n",
      "A more streamlined purchasing process will come via a redesigned website, but in the U.S. customers will only be able to configure and begin the process online; they'll have to complete the purchase in person. The website will begin the customer's entry into a new digital ecosystem with a phone application that will aim to \"foster a sense of community\" and allow owners to schedule maintenance on their terms. Jaguar says it will continue to offer support for existing customers of its outgoing vehicle lineup.\n",
      "Jaguar will open a small number of stores in luxury districts in the world's biggest cities, starting with Paris, surrounded by other high-end brands like Gucci and Moncler. The stores will serve as brand experience centers but will also be equipped to handle retail sales. Jaguar also won't need as many dealerships; the automaker says it currently has 122 locations in the United States, down from a peak of around 200.\n",
      "There are still a lot of questions surrounding Jaguar's rebirth, particularly around the technical aspects of its new EVs, and it will still be two years before its new car reaches customers. But the new logos provide a clearer sense of Jaguar's rethought design direction, and in just two weeks this will manifest into a full car that will hint at a new era of Jaguars.\n",
      "\n",
      "\n",
      "Rewritten Content:\n",
      "**Why Jaguar Wants to Recreate Itself—and Its Customer Base**\n",
      "\n",
      "After a brief \"hiatus,\" Jaguar will push \"Exuberant Modernism,\" charge twice as much for its cars, and wants an audience that is passionate about art.\n",
      "About Jaguar’s rebranding, executives speak of the mission to \"take Jaguar back to its original habitat\" and recognize Jaguar’s iconic past, while at the same time emphasizing the need to \"break the moulds and copy nothing.\"\n",
      "Management expects 90% of customers to be all-new to the brand; they will be younger, urban, and they will have to be wealthier, as the next-gen Jag will be twice the price—from about $60,000 today to $120,000 or more.\n",
      "You’ll hear more about the first new Jaguar EV in the coming weeks (prototype above is in testing), but for now the focus is on the rebranding of this iconic British marque.\n",
      "After several years as a marginal luxury brand in the US with waning sales and a shrinking portfolio, Jaguar Cars is out to reinvent itself—a task that has proven historically difficult for many automaking brands. And they want to do it without burning a drop of gasoline in the process.\n",
      "The iconic British automaker has committed to a fully electric lineup by next year. That \"lineup\" will start with one battery-electric luxury vehicle, which you’ll hear more about in the coming weeks and will go on sale in late 2026. We could see two more vehicles within a few years after that, a Jaguar source tells Autoweek.\n",
      "Road testing for this initial prototype of the four-door electric GT just began last week. But before that vehicle reaches production, Jaguar has to finish cleaning house by brooming out long-in-the-tooth nameplates that have been living on borrowed time. Top brass calls this a \"hiatus\" for the brand.\n",
      "Already killed off in the recent past were the XE, XF, and XJ sedans, as well as the F-Type two-seater and E-Pace crossover. The i-Pace EV will end production this month at the Magna Steyr plant in Graz, Austria, and the brand’s most popular vehicle, the F-Pace crossover, will depart in 2025, after which Jaguar says it will be a zero-emission brand.\n",
      "Jaguar recently hosted international media at Gaydon Centre—the main engineering, design, and R&D center in Warwickshire, not far from JLR headquarters in Coventry—to announce an extensive rebranding and to lift the curtain on the first EV that will push Jaguar to a higher price point with top quality and feature content.\n",
      "You’ll hear more about that vehicle at 8 p.m. EST on December 2 when it is publicly revealed in concept form at Miami Art Week, but for now we can tell you about Jag’s new philosophy, which makes sense in some ways but raises contradictions in others.\n",
      "For instance, executives speak of the mission to \"take Jaguar back to its original habitat\" and recognize Jaguar’s iconic past, while at the same time emphasizing the need to \"break the moulds and copy nothing.\" Brand historians will recall Sir William Lyons voicing this ethos long ago.\n",
      "Perhaps it all will make sense in a few months or years, assuming Jaguar has that much time to prove itself fiscally viable to its parent company, Tata Motors, which purchased Jag (along with Land Rover) from Ford in 2008.\n",
      "In this rebranding, Jaguar creates its own distinctive font, a new logo that mixes both lowercase and capital letters, and a modern interpretation of the leaping cat.\n",
      "Jaguar intends to recapture its glory by emphasizing desirability, sustainability, and themes such as \"modern luxury\" and \"exuberant modernism\" and by building a brand community that is passionate about art and design and more deeply engaged in a new \"digital ecosystem\" that extends well beyond getting from Point A to Point B in style.\n",
      "\"This time we are going to do something spectacular,\" Richard Agnew, the brand’s head of global communications, told journalists. \"EV is only part of the strategy… We want to inspire like never before.\"\n",
      "This new community Jaguar is attempting to create will be different from its current customer base. \"We expect about 10% to 15% of our existing customers will come along,\" Jaguar Managing Director Rawdon Glover tells the media. \"These are people who want to carve away from the well-trodden path.\"\n",
      "Management expects 90% of customers to be all-new to the brand; they will be younger, urban, and independently minded, and they will have to be wealthier, as the next-gen Jag will be twice the price—from about $60,000 today to $120,000 or more.\n",
      "This recasting of Jaguar has been in the works for about four years, and Glover uses terms such as \"disruptive\" and \"fearless creativity\" in describing the new Jaguar brand characteristics.\n",
      "But beyond the buzzwords, let’s not forget we are talking about cars and the sometimes messy business of designing, manufacturing, selling, and servicing them.\n",
      "Jaguar’s shifting priorities will shake up a current global footprint of some 1,100 retail stores, and that number is bound to shrink as some dealers that used to count on higher volumes and might not be aligned with the all-electric journey give up their franchises.\n",
      "How bad has it been for Jaguar retailers in the US? At the high water mark, Jaguar sold about 60,000 vehicles in 2002 in the US, but the trendline has been steadily downward to 31,000 in 2019 and fewer than 9,000 Jaguars in 2023, according to Wards Intelligence data, all accelerated by the conversion to full electrification.\n",
      "But through it all, Jaguar has been moderately profitable, Brandon Baldassari, Jaguar’s brand director for the US, tells Autoweek. With its new lease on life, Jaguar needs to grow that profit margin, he says.\n",
      "The dealers that stick with the program (there are 122 currently in the US) will get this first four-door GT when it arrives in 2026, and there are plans for a few new exclusive showrooms—in Paris, for instance—to entertain potential customers and help them fully understand where the brand is headed.\n",
      "In an editorial roundtable, Glover says Jaguar’s mistake in the past was chasing volume, perhaps referring to lower-priced vehicles that didn’t capture the beauty or grace of cars like the E-Type. \"Now it will be value over volume,\" he says. \"We’ve got to evolve, and we need to take decisive steps.\"\n",
      "Along the way, he promises that Jaguar dealers will continue looking after existing Jaguar customers, and that the new generation of EVs will deliver on quality and warranty.\n",
      "\"The entire company is going through a cultural transformation,\" Glover says.\n",
      "Lots of automakers use this term \"transformation,\" especially when talking about EVs. There was a time when other premium brands such as BMW, Mercedes-Benz, and Cadillac were committing to vehicle portfolios that leaned heavily—if not completely—toward battery-electrics.\n",
      "While these other brands are now playing both sides of the fence with both internal-combustion and all-electric models in response to market changes, Jaguar is ahead of the industry in ditching gasoline completely.\n",
      "Despite its weakened state, Jaguar’s parent company is building a $5 billion EV battery plant in Somerset, UK, that was announced last year to support both Jaguar and Land Rover.\n",
      "When this new-generation GT EV launches in 2026, it will not be hand-built but instead will move down the Jaguar assembly line in Solihull, UK, alongside the Land Rover Velar, Baldassari says.\n",
      "Has Jaguar waited too long before addressing its brand and vehicle weaknesses? Time might not be on Jaguar’s side, even though it will soon celebrate its 90th anniversary.\n",
      "But Jaguar management is convinced this strategy will work by exciting younger aspirational shoppers who want more than just a great car.\n",
      "\"Great brands sell dreams, not just products,\" says Gerry McGovern, Jag’s chief creative officer.\n",
      "\n",
      "\n",
      "Topic:\n",
      "The Coriolis Force And Jupiter\n",
      "\n",
      "Original Content:\n",
      "In physics, the Coriolis force is an inertial (or fictitious) force that acts on objects in motion within a frame of reference that rotates with respect to an inertial frame. In a reference frame with clockwise rotation, the force acts to the left of the motion of the object. In one with anticlockwise (or counterclockwise) rotation, the force acts to the right. Deflection of an object due to the Coriolis force is called the Coriolis effect. Though recognized previously by others, the mathematical expression for the Coriolis force appeared in an 1835 paper by French scientist Gaspard-Gustave de Coriolis, in connection with the theory of water wheels. Early in the 20th century, the term Coriolis force began to be used in connection with meteorology.\n",
      "Newton's laws of motion describe the motion of an object in an inertial (non-accelerating) frame of reference. When Newton's laws are transformed to a rotating frame of reference, the Coriolis and centrifugal accelerations appear. When applied to objects with masses, the respective forces are proportional to their masses. The magnitude of the Coriolis force is proportional to the rotation rate, and the magnitude of the centrifugal force is proportional to the square of the rotation rate. The Coriolis force acts in a direction perpendicular to two quantities: the angular velocity of the rotating frame relative to the inertial frame and the velocity of the body relative to the rotating frame, and its magnitude is proportional to the object's speed in the rotating frame (more precisely, to the component of its velocity that is perpendicular to the axis of rotation). The centrifugal force acts outwards in the radial direction and is proportional to the distance of the body from the axis of the rotating frame. These additional forces are termed inertial forces, fictitious forces, or pseudo forces. By introducing these fictitious forces to a rotating frame of reference, Newton's laws of motion can be applied to the rotating system as though it were an inertial system; these forces are correction factors that are not required in a non-rotating system.\n",
      "In popular (non-technical) usage of the term \"Coriolis effect\", the rotating reference frame implied is almost always the Earth. Because the Earth spins, Earth-bound observers need to account for the Coriolis force to correctly analyze the motion of objects. The Earth completes one rotation for each sidereal day, so for motions of everyday objects the Coriolis force is imperceptible; its effects become noticeable only for motions occurring over large distances and long periods of time, such as large-scale movement of air in the atmosphere or water in the ocean, or where high precision is important, such as artillery or missile trajectories. Such motions are constrained by the surface of the Earth, so only the horizontal component of the Coriolis force is generally important. This force causes moving objects on the surface of the Earth to be deflected to the right (with respect to the direction of travel) in the Northern Hemisphere and to the left in the Southern Hemisphere. The horizontal deflection effect is greater near the poles, since the effective rotation rate about a local vertical axis is largest there, and decreases to zero at the equator. Rather than flowing directly from areas of high pressure to low pressure, as they would in a non-rotating system, winds and currents tend to flow to the right of this direction north of the equator (\"clockwise\") and to the left of this direction south of it (\"anticlockwise\"). This effect is responsible for the rotation and thus formation of cyclones (see: Coriolis effects in meteorology).\n",
      "Jupiter's Great Red Spot rotates counterclockwise, with a period of about 4.5 Earth days, or 11 Jovian days, as of 2008. Measuring 16,350 km (10,160 mi) in width as of 3 April 2017, the Great Red Spot is 1.3 times the diameter of Earth. The cloud-tops of this storm are about 8 km (5 mi) above the surrounding cloud-tops. The storm has continued to exist for centuries because there is no planetary surface (only a mantle of hydrogen) to provide friction; circulating gas eddies persist for a very long time in the atmosphere because there is nothing to oppose their angular momentum.\n",
      "Infrared data has long indicated that the Great Red Spot is colder (and thus higher in altitude) than most of the other clouds on the planet. The upper atmosphere above the storm, however, has substantially higher temperatures than the rest of the planet. Acoustic (sound) waves rising from the turbulence of the storm below have been proposed as an explanation for the heating of this region. The acoustic waves travel vertically up to a height of 800 km (500 mi) above the storm where they break in the upper atmosphere, converting wave energy into heat. This creates a region of upper atmosphere that is 1,600 K (1,330 °C; 2,420 °F)—several hundred kelvins warmer than the rest of the planet at this altitude.[28] The effect is described as like \"crashing [...] ocean waves on a beach\".\n",
      "Careful tracking of atmospheric features revealed the Great Red Spot's counterclockwise circulation as far back as 1966, observations dramatically confirmed by the first time-lapse movies from the Voyager fly-bys. The spot is confined by a modest eastward jet stream to its south and a very strong westward one to its north. Though winds around the edge of the spot peak at about 432 km/h (268 mph), currents inside it seem stagnant, with little inflow or outflow. The rotation period of the spot has decreased with time, perhaps as a direct result of its steady reduction in size.\n",
      "The Great Red Spot's latitude has been stable for the duration of good observational records, typically varying by about a degree. Its longitude, however, is subject to constant variation, including a 90-day longitudinal oscillation with an amplitude of ~1°. Because Jupiter does not rotate uniformly at all latitudes, astronomers have defined three different systems for defining longitude. System II is used for latitudes of more than 10 degrees and was originally based on the average rotational period of the Great Red Spot of 9h 55m 42s. Despite this, however, the spot has \"lapped\" the planet in System II at least 10 times since the early 19th century. Its drift rate has changed dramatically over the years and has been linked to the brightness of the South Equatorial Belt and the presence or absence of a South Tropical Disturbance.\n",
      "\n",
      "Rewritten Content:\n",
      "I am often asked by students whether their toilet bowl will flush clockwise or counterclockwise in the southern hemisphere, or whether it will flush straight down in Ecuador. This would, of course, be important information if you were ever kidnapped and blindfolded and dropped off in a strange land. If we assume a commode of conventional size, then this “toilet bowl test” will fail because the answer lies in the manufacturer’s design. But if your northern hemisphere toilet bowl were a few hundred miles in diameter then the Coriolis force of the rotating Earth would easily overcome the random water currents, and force the bowl to empty its contents in a counter clockwise swirl. If you have southern hemisphere friends with an equally large toilet, then theirs would indeed empty in the opposite (clockwise) direction.\n",
      "The circulation within oversized flush toilets is a natural consequence of motion on the surface of an object that rotates. We owe our detailed understanding of the effect to the work of Gaspard Gustave de Coriolis who, in 1831, presented details of the laws of mechanics in a rotating reference frame to the Academie des Sciences in Paris. Earth’s surface provides an excellent place to demonstrate why the origin of the Coriolis force is relatively simple. Our planet rotates on its axis approximately once every 24 hours. In that 24 hour period, objects on Earth’s equator travel a circle with a circumference of nearly 25,000 miles, which corresponds to a speed of a more than 1,000 miles per hour. By 41° north, the latitude of New York City and the American Museum of Natural History, the circumference traveled is only about 19,000 miles. The west-to-east speed is now approximately 800 miles per hour. As you continue to increase in Earth latitude (north or south of the equator) your west-to-east speed decreases until it hits exactly zero miles per hour at the poles. (For this reason, most satellites are launched as close to the equator as possible, which enables them to get a good “running start” in their eastward orbits.\n",
      "Imagine a puffy cloud in the northern hemisphere and a meteorological low pressure system directly to its north. The cloud will tend to move toward the low. But during the journey its greater eastward speed will enable the cloud to overtake the low, which is itself in motion, and end up east of its destination. Another puffy cloud that is north of the low will also tend to move toward the low, but will naturally lag behind and end up west of its destination. To an unsuspecting person on Earth’s surface, these curved north-south paths would appear to be the effects of a mysterious force (the Coriolis force) yet no true force was ever at work.\n",
      "When many puffy clouds approach a low pressure system from all directions you get a merry-go-round of counter-clockwise motion, which is better known as a cyclone. In extreme cases you get a monstrous hurricane with wind speeds upwards of a hundred miles per hour. For the southern hemisphere the same arguments will create a cyclone that spirals clockwise. The military normally knows all about the Coriolis force and thus introduces the appropriate correction to all missile trajectories. But in 1914, from the annals of embarrassing military moments, there was a World War I naval battle between the English and the Germans near the Falklands Islands off Argentina (52° south latitude). The English battle cruisers Invincible and Inflexible engaged the German war ships Gneisenau and Scharnhorst at a range of nearly ten miles. Among other gunnery problems encountered, the English forgot to reverse the direction of their Coriolis correction. Their tables had been calculated for northern hemisphere projectiles, so they missed their targets by even more than if no correction had been applied. They ultimately won the battle against the Germans with about sixty direct hits, but it was not before over a thousand missile shells had fallen in the ocean.\n",
      "In high school I knew all about the Coriolis force, but I never had the opportunity to test it on something as large as a swimming pool until the summer after my junior year when I worked as a lifeguard. At the mid-summer cleaning, I opened the drain valve to the pool and carefully observed the circulation. The water funneled in the “wrong” direction—clockwise. The last I had checked, I was life-guarding in Earth’s northern hemisphere so I was tempted to declare Coriolis forces to be a hoax. But a fast “back of the envelope” calculation verified that the difference in Coriolis velocity across the pool was a mere ½ inch per minute. This is slow. The water currents from somebody just climbing out of the pool, or even a gentle breeze across the water’s surface would easily swamp the effect and I would end up with clockwise one half the time and counterclockwise the other half of the time. A proper experiment to demonstrate the insignificance of the Coriolis forces would require that I empty and refill the pool dozens of times. But each try would dump 15,000 cubic feet of water and diminish my job security. So I didn’t.\n",
      "The air circulation near a high pressure systems, which are inelegantly known as anticyclones, is a reverse picture of our cyclone. On Earth, these high pressure systems are the astronomer’s best friend because they are typically devoid of clouds. The surrounding air still circulates, but it does so without the benefit of clouds as tracers of the air flow. The circulation around low and high pressure systems, known as geostrophic winds, presents us with the paradox that Coriolis forces tend to move air along lines of constant pressure (isobars) rather than across them.\n",
      "Now imagine, if you will, a place that is not only fourteen hundred times larger than Earth, but has an equatorial speed that is about twenty-five times as fast, and has a deep, thick, colorful atmosphere. That place is the planet Jupiter, where a day lasts just 9 hours and 56 minutes. It is a cosmic garden of atmospheric dynamics where all rotationally induced cloud and weather patterns are correspondingly enhanced. In the most striking display of the Coriolis force in the entire solar system, Jupiter lays claim to the largest, most energetic, and longest-lived storm ever observed. It is an anticyclone that looks like a great red spot in Jupiter’s upper atmosphere. We call it Jupiter’s Great Red Spot. Discovered in the mid 1660s by the English physicist Robert Hooke and separately by the Italian astronomer Giovanni Cassini, the feature has persisted for over 300 years. It was not until the twentieth century when the Dutch-born, American astronomer Gerard Kuiper was the first to supply the modern interpretation of the Spot as a raging storm.\n",
      "\n"
     ]
    }
   ],
   "source": [
    "print(system_prompt)"
   ]
  },
  {
   "cell_type": "code",
   "execution_count": 9,
   "id": "5078a1c4-c45f-4ff8-9c80-a0e6b96a5570",
   "metadata": {},
   "outputs": [],
   "source": [
    "model_id = \"meta-llama/Llama-3.3-70B-Instruct\""
   ]
  },
  {
   "cell_type": "code",
   "execution_count": 10,
   "id": "e8a56b4b-5c8c-4f2f-ac1f-9c68337d7154",
   "metadata": {},
   "outputs": [
    {
     "name": "stdout",
     "output_type": "stream",
     "text": [
      "INFO 12-31 18:07:14 config.py:478] This model supports multiple tasks: {'generate', 'embed', 'reward', 'score', 'classify'}. Defaulting to 'generate'.\n",
      "INFO 12-31 18:07:14 config.py:1216] Defaulting to use mp for distributed inference\n",
      "INFO 12-31 18:07:14 llm_engine.py:249] Initializing an LLM engine (v0.6.5) with config: model='meta-llama/Llama-3.3-70B-Instruct', speculative_config=None, tokenizer='meta-llama/Llama-3.3-70B-Instruct', skip_tokenizer_init=False, tokenizer_mode=auto, revision=None, override_neuron_config=None, tokenizer_revision=None, trust_remote_code=False, dtype=torch.bfloat16, max_seq_len=32768, download_dir=None, load_format=auto, tensor_parallel_size=4, pipeline_parallel_size=1, disable_custom_all_reduce=False, quantization=None, enforce_eager=False, kv_cache_dtype=auto, quantization_param_path=None, device_config=cuda, decoding_config=DecodingConfig(guided_decoding_backend='xgrammar'), observability_config=ObservabilityConfig(otlp_traces_endpoint=None, collect_model_forward_time=False, collect_model_execute_time=False), seed=0, served_model_name=meta-llama/Llama-3.3-70B-Instruct, num_scheduler_steps=1, multi_step_stream_outputs=True, enable_prefix_caching=False, chunked_prefill_enabled=False, use_async_output_proc=True, mm_cache_preprocessor=False, mm_processor_kwargs=None, pooler_config=None, compilation_config={\"splitting_ops\":[\"vllm.unified_attention\",\"vllm.unified_attention_with_output\"],\"candidate_compile_sizes\":[],\"compile_sizes\":[],\"capture_sizes\":[256,248,240,232,224,216,208,200,192,184,176,168,160,152,144,136,128,120,112,104,96,88,80,72,64,56,48,40,32,24,16,8,4,2,1],\"max_capture_size\":256}, use_cached_outputs=False, \n",
      "WARNING 12-31 18:07:14 multiproc_worker_utils.py:312] Reducing Torch parallelism from 64 threads to 1 to avoid unnecessary CPU contention. Set OMP_NUM_THREADS in the external environment to tune this value as needed.\n",
      "INFO 12-31 18:07:14 custom_cache_manager.py:17] Setting Triton cache manager to: vllm.triton_utils.custom_cache_manager:CustomCacheManager\n",
      "INFO 12-31 18:07:15 selector.py:120] Using Flash Attention backend.\n",
      "\u001b[1;36m(VllmWorkerProcess pid=424321)\u001b[0;0m INFO 12-31 18:07:15 selector.py:120] Using Flash Attention backend.\n",
      "\u001b[1;36m(VllmWorkerProcess pid=424321)\u001b[0;0m INFO 12-31 18:07:15 multiproc_worker_utils.py:222] Worker ready; awaiting tasks\n",
      "\u001b[1;36m(VllmWorkerProcess pid=424319)\u001b[0;0m INFO 12-31 18:07:15 selector.py:120] Using Flash Attention backend.\n",
      "\u001b[1;36m(VllmWorkerProcess pid=424319)\u001b[0;0m INFO 12-31 18:07:15 multiproc_worker_utils.py:222] Worker ready; awaiting tasks\n",
      "\u001b[1;36m(VllmWorkerProcess pid=424320)\u001b[0;0m INFO 12-31 18:07:15 selector.py:120] Using Flash Attention backend.\n",
      "\u001b[1;36m(VllmWorkerProcess pid=424320)\u001b[0;0m INFO 12-31 18:07:15 multiproc_worker_utils.py:222] Worker ready; awaiting tasks\n",
      "INFO 12-31 18:07:19 utils.py:922] Found nccl from library libnccl.so.2\n",
      "\u001b[1;36m(VllmWorkerProcess pid=424321)\u001b[0;0m INFO 12-31 18:07:19 pynccl.py:69] vLLM is using nccl==2.21.5\n",
      "\u001b[1;36m(VllmWorkerProcess pid=424320)\u001b[0;0m \u001b[1;36m(VllmWorkerProcess pid=424319)\u001b[0;0m INFO 12-31 18:07:19 utils.py:922] Found nccl from library libnccl.so.2\n",
      "INFO 12-31 18:07:19 utils.py:922] Found nccl from library libnccl.so.2\n",
      "INFO 12-31 18:07:19 utils.py:922] Found nccl from library libnccl.so.2\n",
      "\u001b[1;36m(VllmWorkerProcess pid=424321)\u001b[0;0m INFO 12-31 18:07:19 pynccl.py:69] vLLM is using nccl==2.21.5\n",
      "\u001b[1;36m(VllmWorkerProcess pid=424320)\u001b[0;0m \u001b[1;36m(VllmWorkerProcess pid=424319)\u001b[0;0m INFO 12-31 18:07:19 pynccl.py:69] vLLM is using nccl==2.21.5\n",
      "INFO 12-31 18:07:19 pynccl.py:69] vLLM is using nccl==2.21.5\n",
      "INFO 12-31 18:07:22 custom_all_reduce_utils.py:242] reading GPU P2P access cache from /root/.cache/vllm/gpu_p2p_access_cache_for_0,1,2,3.json\n",
      "\u001b[1;36m(VllmWorkerProcess pid=424321)\u001b[0;0m INFO 12-31 18:07:22 custom_all_reduce_utils.py:242] reading GPU P2P access cache from /root/.cache/vllm/gpu_p2p_access_cache_for_0,1,2,3.json\n",
      "\u001b[1;36m(VllmWorkerProcess pid=424319)\u001b[0;0m \u001b[1;36m(VllmWorkerProcess pid=424320)\u001b[0;0m INFO 12-31 18:07:22 custom_all_reduce_utils.py:242] reading GPU P2P access cache from /root/.cache/vllm/gpu_p2p_access_cache_for_0,1,2,3.json\n",
      "INFO 12-31 18:07:22 custom_all_reduce_utils.py:242] reading GPU P2P access cache from /root/.cache/vllm/gpu_p2p_access_cache_for_0,1,2,3.json\n",
      "INFO 12-31 18:07:22 shm_broadcast.py:255] vLLM message queue communication handle: Handle(connect_ip='127.0.0.1', local_reader_ranks=[1, 2, 3], buffer_handle=(3, 4194304, 6, 'psm_7170f834'), local_subscribe_port=46131, remote_subscribe_port=None)\n",
      "INFO 12-31 18:07:22 model_runner.py:1092] Starting to load model meta-llama/Llama-3.3-70B-Instruct...\n",
      "\u001b[1;36m(VllmWorkerProcess pid=424319)\u001b[0;0m \u001b[1;36m(VllmWorkerProcess pid=424320)\u001b[0;0m \u001b[1;36m(VllmWorkerProcess pid=424321)\u001b[0;0m INFO 12-31 18:07:22 model_runner.py:1092] Starting to load model meta-llama/Llama-3.3-70B-Instruct...\n",
      "INFO 12-31 18:07:22 model_runner.py:1092] Starting to load model meta-llama/Llama-3.3-70B-Instruct...\n",
      "INFO 12-31 18:07:22 model_runner.py:1092] Starting to load model meta-llama/Llama-3.3-70B-Instruct...\n",
      "\u001b[1;36m(VllmWorkerProcess pid=424321)\u001b[0;0m INFO 12-31 18:07:22 weight_utils.py:243] Using model weights format ['*.safetensors']\n",
      "INFO 12-31 18:07:22 weight_utils.py:243] Using model weights format ['*.safetensors']\n",
      "\u001b[1;36m(VllmWorkerProcess pid=424319)\u001b[0;0m INFO 12-31 18:07:23 weight_utils.py:243] Using model weights format ['*.safetensors']\n"
     ]
    },
    {
     "data": {
      "application/vnd.jupyter.widget-view+json": {
       "model_id": "ce3a5c73204948939a8e997d1896eef2",
       "version_major": 2,
       "version_minor": 0
      },
      "text/plain": [
       "Loading safetensors checkpoint shards:   0% Completed | 0/30 [00:00<?, ?it/s]\n"
      ]
     },
     "metadata": {},
     "output_type": "display_data"
    },
    {
     "name": "stdout",
     "output_type": "stream",
     "text": [
      "\u001b[1;36m(VllmWorkerProcess pid=424320)\u001b[0;0m INFO 12-31 18:07:23 weight_utils.py:243] Using model weights format ['*.safetensors']\n",
      "INFO 12-31 18:08:10 model_runner.py:1097] Loading model weights took 32.8892 GB\n",
      "\u001b[1;36m(VllmWorkerProcess pid=424321)\u001b[0;0m INFO 12-31 18:08:10 model_runner.py:1097] Loading model weights took 32.8892 GB\n",
      "\u001b[1;36m(VllmWorkerProcess pid=424319)\u001b[0;0m INFO 12-31 18:08:10 model_runner.py:1097] Loading model weights took 32.8892 GB\n",
      "\u001b[1;36m(VllmWorkerProcess pid=424320)\u001b[0;0m INFO 12-31 18:08:10 model_runner.py:1097] Loading model weights took 32.8892 GB\n",
      "\u001b[1;36m(VllmWorkerProcess pid=424321)\u001b[0;0m INFO 12-31 18:08:15 worker.py:241] Memory profiling takes 4.68 seconds\n",
      "\u001b[1;36m(VllmWorkerProcess pid=424321)\u001b[0;0m INFO 12-31 18:08:15 worker.py:241] the current vLLM instance can use total_gpu_memory (139.72GiB) x gpu_memory_utilization (0.98) = 136.92GiB\n",
      "\u001b[1;36m(VllmWorkerProcess pid=424321)\u001b[0;0m INFO 12-31 18:08:15 worker.py:241] model weights take 32.89GiB; non_torch_memory takes 3.70GiB; PyTorch activation peak memory takes 2.97GiB; the rest of the memory reserved for KV Cache is 97.36GiB.\n",
      "INFO 12-31 18:08:15 worker.py:241] Memory profiling takes 4.71 seconds\n",
      "INFO 12-31 18:08:15 worker.py:241] the current vLLM instance can use total_gpu_memory (139.72GiB) x gpu_memory_utilization (0.98) = 136.92GiB\n",
      "INFO 12-31 18:08:15 worker.py:241] model weights take 32.89GiB; non_torch_memory takes 4.96GiB; PyTorch activation peak memory takes 2.97GiB; the rest of the memory reserved for KV Cache is 96.11GiB.\n",
      "\u001b[1;36m(VllmWorkerProcess pid=424320)\u001b[0;0m INFO 12-31 18:08:15 worker.py:241] Memory profiling takes 4.72 seconds\n",
      "\u001b[1;36m(VllmWorkerProcess pid=424319)\u001b[0;0m \u001b[1;36m(VllmWorkerProcess pid=424320)\u001b[0;0m INFO 12-31 18:08:15 worker.py:241] Memory profiling takes 4.72 seconds\n",
      "INFO 12-31 18:08:15 worker.py:241] the current vLLM instance can use total_gpu_memory (139.72GiB) x gpu_memory_utilization (0.98) = 136.92GiB\n",
      "\u001b[1;36m(VllmWorkerProcess pid=424319)\u001b[0;0m \u001b[1;36m(VllmWorkerProcess pid=424320)\u001b[0;0m INFO 12-31 18:08:15 worker.py:241] the current vLLM instance can use total_gpu_memory (139.72GiB) x gpu_memory_utilization (0.98) = 136.92GiB\n",
      "INFO 12-31 18:08:15 worker.py:241] model weights take 32.89GiB; non_torch_memory takes 4.17GiB; PyTorch activation peak memory takes 2.97GiB; the rest of the memory reserved for KV Cache is 96.89GiB.\n",
      "\u001b[1;36m(VllmWorkerProcess pid=424319)\u001b[0;0m INFO 12-31 18:08:15 worker.py:241] model weights take 32.89GiB; non_torch_memory takes 4.17GiB; PyTorch activation peak memory takes 2.97GiB; the rest of the memory reserved for KV Cache is 96.89GiB.\n",
      "INFO 12-31 18:08:15 distributed_gpu_executor.py:57] # GPU blocks: 78732, # CPU blocks: 3276\n",
      "INFO 12-31 18:08:15 distributed_gpu_executor.py:61] Maximum concurrency for 32768 tokens per request: 38.44x\n",
      "\u001b[1;36m(VllmWorkerProcess pid=424321)\u001b[0;0m INFO 12-31 18:08:20 model_runner.py:1413] Capturing cudagraphs for decoding. This may lead to unexpected consequences if the model is not static. To run the model in eager mode, set 'enforce_eager=True' or use '--enforce-eager' in the CLI.\n",
      "\u001b[1;36m(VllmWorkerProcess pid=424321)\u001b[0;0m INFO 12-31 18:08:20 model_runner.py:1417] If out-of-memory error occurs during cudagraph capture, consider decreasing `gpu_memory_utilization` or switching to eager mode. You can also reduce the `max_num_seqs` as needed to decrease memory usage.\n",
      "INFO 12-31 18:08:20 model_runner.py:1413] Capturing cudagraphs for decoding. This may lead to unexpected consequences if the model is not static. To run the model in eager mode, set 'enforce_eager=True' or use '--enforce-eager' in the CLI.\n",
      "INFO 12-31 18:08:20 model_runner.py:1417] If out-of-memory error occurs during cudagraph capture, consider decreasing `gpu_memory_utilization` or switching to eager mode. You can also reduce the `max_num_seqs` as needed to decrease memory usage.\n",
      "\u001b[1;36m(VllmWorkerProcess pid=424320)\u001b[0;0m INFO 12-31 18:08:20 model_runner.py:1413] Capturing cudagraphs for decoding. This may lead to unexpected consequences if the model is not static. To run the model in eager mode, set 'enforce_eager=True' or use '--enforce-eager' in the CLI.\n",
      "\u001b[1;36m(VllmWorkerProcess pid=424320)\u001b[0;0m INFO 12-31 18:08:20 model_runner.py:1417] If out-of-memory error occurs during cudagraph capture, consider decreasing `gpu_memory_utilization` or switching to eager mode. You can also reduce the `max_num_seqs` as needed to decrease memory usage.\n",
      "\u001b[1;36m(VllmWorkerProcess pid=424319)\u001b[0;0m INFO 12-31 18:08:20 model_runner.py:1413] Capturing cudagraphs for decoding. This may lead to unexpected consequences if the model is not static. To run the model in eager mode, set 'enforce_eager=True' or use '--enforce-eager' in the CLI.\n",
      "\u001b[1;36m(VllmWorkerProcess pid=424319)\u001b[0;0m INFO 12-31 18:08:20 model_runner.py:1417] If out-of-memory error occurs during cudagraph capture, consider decreasing `gpu_memory_utilization` or switching to eager mode. You can also reduce the `max_num_seqs` as needed to decrease memory usage.\n",
      "INFO 12-31 18:08:36 custom_all_reduce.py:224] Registering 5635 cuda graph addresses\n",
      "\u001b[1;36m(VllmWorkerProcess pid=424321)\u001b[0;0m INFO 12-31 18:08:36 custom_all_reduce.py:224] Registering 5635 cuda graph addresses\n",
      "\u001b[1;36m(VllmWorkerProcess pid=424319)\u001b[0;0m INFO 12-31 18:08:37 custom_all_reduce.py:224] Registering 5635 cuda graph addresses\n",
      "\u001b[1;36m(VllmWorkerProcess pid=424320)\u001b[0;0m INFO 12-31 18:08:37 custom_all_reduce.py:224] Registering 5635 cuda graph addresses\n",
      "\u001b[1;36m(VllmWorkerProcess pid=424321)\u001b[0;0m INFO 12-31 18:08:37 model_runner.py:1527] Graph capturing finished in 18 secs, took 0.45 GiB\n",
      "INFO 12-31 18:08:37 model_runner.py:1527] Graph capturing finished in 18 secs, took 0.45 GiB\n",
      "\u001b[1;36m(VllmWorkerProcess pid=424320)\u001b[0;0m \u001b[1;36m(VllmWorkerProcess pid=424319)\u001b[0;0m INFO 12-31 18:08:37 model_runner.py:1527] Graph capturing finished in 17 secs, took 0.45 GiB\n",
      "INFO 12-31 18:08:37 model_runner.py:1527] Graph capturing finished in 17 secs, took 0.45 GiB\n",
      "INFO 12-31 18:08:37 llm_engine.py:446] init engine (profile, create kv cache, warmup model) took 27.53 seconds\n"
     ]
    }
   ],
   "source": [
    "llm = LLM(model=model_id, max_model_len=32768, tensor_parallel_size=NUM_GPUS, gpu_memory_utilization=0.98)"
   ]
  },
  {
   "cell_type": "code",
   "execution_count": 25,
   "id": "509e2b5d-13eb-4ab2-acee-bc313ca08918",
   "metadata": {},
   "outputs": [],
   "source": [
    "def dup_list(l):\n",
    "    l_dup = [l] * NUM_DUPS\n",
    "    l_flat = [l_dup[i][j] for j in range(len(l)) for i in range(NUM_DUPS)]\n",
    "\n",
    "    return l_flat"
   ]
  },
  {
   "cell_type": "code",
   "execution_count": 57,
   "id": "be81ccc6-6107-4b54-bf44-5749ea2d684c",
   "metadata": {},
   "outputs": [],
   "source": [
    "def generate_content(ids, urls, titles, texts):\n",
    "    messages = [[{\"role\": \"system\", \"content\": system_prompt},\n",
    "                {\"role\": \"user\", \"content\": \"Topic:\\n\" + title + \"\\n\\nOriginal Content:\\n\" + text + \"\\n\\nRewritten Content:\"}]\n",
    "                for title, text in zip(titles, texts)]\n",
    "\n",
    "    dup_messages = dup_list(messages)\n",
    "    dup_ids = dup_list(ids)\n",
    "    dup_urls = dup_list(urls)\n",
    "    dup_titles = dup_list(titles)\n",
    "    dup_texts = dup_list(texts)\n",
    "\n",
    "    outputs = llm.chat(dup_messages, SamplingParams(temperature=0.9, top_p=0.9, max_tokens=16384))\n",
    "\n",
    "    return {\n",
    "        \"id\": dup_ids,\n",
    "        \"url\": dup_urls,\n",
    "        \"title\": dup_titles,\n",
    "        \"text\": dup_texts,\n",
    "        \"synthetic_content\": [output.outputs[0].text.strip() for output in outputs]\n",
    "    }"
   ]
  },
  {
   "cell_type": "code",
   "execution_count": 58,
   "id": "93f11b25-3337-43bd-9441-83034a216d3d",
   "metadata": {},
   "outputs": [],
   "source": [
    "syn_ds_stream = ds.shuffle(seed=1998, buffer_size=1000_000).take(NUM_TOPICS).map(generate_content, batched=True, batch_size=NUM_TOPICS, input_columns=[\"id\", \"url\", \"title\", \"text\"])"
   ]
  },
  {
   "cell_type": "code",
   "execution_count": 59,
   "id": "31f21b99-267c-480f-8314-b844e27e1956",
   "metadata": {},
   "outputs": [
    {
     "name": "stderr",
     "output_type": "stream",
     "text": [
      "Processed prompts:   0% 0/10240 [00:00<?, ?it/s, est. speed input: 0.00 toks/s, output: 0.00 toks/s]"
     ]
    },
    {
     "name": "stdout",
     "output_type": "stream",
     "text": [
      "WARNING 12-31 18:37:12 scheduler.py:1555] Sequence group 383 is preempted by PreemptionMode.RECOMPUTE mode because there is not enough KV cache space. This can affect the end-to-end performance. Increase gpu_memory_utilization or tensor_parallel_size to provide more KV cache memory. total_num_cumulative_preemption=1\n"
     ]
    },
    {
     "name": "stderr",
     "output_type": "stream",
     "text": [
      "Processed prompts: 100% 10240/10240 [2:40:54<00:00,  1.06it/s, est. speed input: 7097.64 toks/s, output: 746.41 toks/s] \n"
     ]
    }
   ],
   "source": [
    "syn_ds_list = list(syn_ds_stream)"
   ]
  },
  {
   "cell_type": "code",
   "execution_count": 60,
   "id": "d1eb5065-f94d-42a7-a143-cc547fd24895",
   "metadata": {},
   "outputs": [
    {
     "data": {
      "application/vnd.jupyter.widget-view+json": {
       "model_id": "2479ce56d4034f60b3df3ffd3d3f5372",
       "version_major": 2,
       "version_minor": 0
      },
      "text/plain": [
       "Uploading the dataset shards:   0%|          | 0/1 [00:00<?, ?it/s]"
      ]
     },
     "metadata": {},
     "output_type": "display_data"
    },
    {
     "data": {
      "application/vnd.jupyter.widget-view+json": {
       "model_id": "98ab4a04b4b84d0c948613795b51f0b8",
       "version_major": 2,
       "version_minor": 0
      },
      "text/plain": [
       "Creating parquet from Arrow format:   0%|          | 0/11 [00:00<?, ?ba/s]"
      ]
     },
     "metadata": {},
     "output_type": "display_data"
    },
    {
     "data": {
      "application/vnd.jupyter.widget-view+json": {
       "model_id": "98988ad6587645649edda1647fa861ac",
       "version_major": 2,
       "version_minor": 0
      },
      "text/plain": [
       "  0%|          | 0/1 [00:00<?, ?it/s]"
      ]
     },
     "metadata": {},
     "output_type": "display_data"
    },
    {
     "data": {
      "text/plain": [
       "CommitInfo(commit_url='https://huggingface.co/datasets/amang1802/synthetic_data_dup10_fulltext_conditioned_L3.3_70B/commit/626a13413c1b912743069cb46531165dbe2eca5e', commit_message='Upload dataset', commit_description='', oid='626a13413c1b912743069cb46531165dbe2eca5e', pr_url=None, repo_url=RepoUrl('https://huggingface.co/datasets/amang1802/synthetic_data_dup10_fulltext_conditioned_L3.3_70B', endpoint='https://huggingface.co', repo_type='dataset', repo_id='amang1802/synthetic_data_dup10_fulltext_conditioned_L3.3_70B'), pr_revision=None, pr_num=None)"
      ]
     },
     "execution_count": 60,
     "metadata": {},
     "output_type": "execute_result"
    }
   ],
   "source": [
    "syn_ds = Dataset.from_list(syn_ds_list)\n",
    "syn_ds.push_to_hub('amang1802/synthetic_data_dup10_fulltext_conditioned_L3.3_70B')"
   ]
  },
  {
   "cell_type": "markdown",
   "id": "d371656c-9c28-4306-b768-872ba326e4fe",
   "metadata": {},
   "source": [
    "Adding this changes length drastically:\n",
    "\n",
    "`Do not summarize any detail, but dive deeper and explain every word and sentence from the original in as much detail as possible.`\n",
    "\n",
    "On a sample of 512 generations, it leads to 64% increase in length of generated content (in chars)."
   ]
  },
  {
   "cell_type": "code",
   "execution_count": 16,
   "id": "62ce5d13-69d9-46e7-b3be-591ed5562c11",
   "metadata": {},
   "outputs": [],
   "source": [
    "def avg_length(ds):\n",
    "    lengths = [len(text) for text in ds['synthetic_content']]\n",
    "    return sum(lengths) / len(lengths)"
   ]
  },
  {
   "cell_type": "code",
   "execution_count": 21,
   "id": "de298689-2a8a-4176-b82e-c019108d3219",
   "metadata": {},
   "outputs": [
    {
     "data": {
      "text/plain": [
       "'Ruel Brathwaite'"
      ]
     },
     "execution_count": 21,
     "metadata": {},
     "output_type": "execute_result"
    }
   ],
   "source": [
    "syn_ds[0]['title']"
   ]
  },
  {
   "cell_type": "code",
   "execution_count": 17,
   "id": "4bdee370-5d41-4311-9366-c479099efd13",
   "metadata": {},
   "outputs": [
    {
     "data": {
      "text/plain": [
       "2238.46875"
      ]
     },
     "execution_count": 17,
     "metadata": {},
     "output_type": "execute_result"
    }
   ],
   "source": [
    "avg_length(syn_ds)"
   ]
  },
  {
   "cell_type": "code",
   "execution_count": 20,
   "id": "b2d59547-3874-4fc8-9be5-67e5914723c9",
   "metadata": {},
   "outputs": [
    {
     "data": {
      "text/plain": [
       "'Ruel Brathwaite'"
      ]
     },
     "execution_count": 20,
     "metadata": {},
     "output_type": "execute_result"
    }
   ],
   "source": [
    "with_prompt_ds = load_dataset('amang1802/synthetic_data_fulltext_conditioned_L3.3_70B')['train'].select(range(512))\n",
    "with_prompt_ds[0]['title']"
   ]
  },
  {
   "cell_type": "code",
   "execution_count": 22,
   "id": "ba11f789-a51a-4caa-828e-4791c68d8a2b",
   "metadata": {},
   "outputs": [
    {
     "data": {
      "text/plain": [
       "3682.220703125"
      ]
     },
     "execution_count": 22,
     "metadata": {},
     "output_type": "execute_result"
    }
   ],
   "source": [
    "avg_length(with_prompt_ds)"
   ]
  },
  {
   "cell_type": "code",
   "execution_count": null,
   "id": "d0368540-294a-47e8-b2a3-9e96d39dac9c",
   "metadata": {},
   "outputs": [],
   "source": []
  }
 ],
 "metadata": {
  "kernelspec": {
   "display_name": "Python 3 (ipykernel)",
   "language": "python",
   "name": "python3"
  },
  "language_info": {
   "codemirror_mode": {
    "name": "ipython",
    "version": 3
   },
   "file_extension": ".py",
   "mimetype": "text/x-python",
   "name": "python",
   "nbconvert_exporter": "python",
   "pygments_lexer": "ipython3",
   "version": "3.10.12"
  }
 },
 "nbformat": 4,
 "nbformat_minor": 5
}
